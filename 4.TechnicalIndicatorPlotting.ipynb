{
 "cells": [
  {
   "cell_type": "code",
   "execution_count": 1,
   "id": "ccc463f5-cb9e-4692-9d44-631164fc9862",
   "metadata": {},
   "outputs": [
    {
     "data": {
      "text/html": [
       "        <script type=\"text/javascript\">\n",
       "        window.PlotlyConfig = {MathJaxConfig: 'local'};\n",
       "        if (window.MathJax && window.MathJax.Hub && window.MathJax.Hub.Config) {window.MathJax.Hub.Config({SVG: {font: \"STIX-Web\"}});}\n",
       "        </script>\n",
       "        <script type=\"module\">import \"https://cdn.plot.ly/plotly-3.0.0.min\"</script>\n",
       "        "
      ]
     },
     "metadata": {},
     "output_type": "display_data"
    },
    {
     "data": {
      "text/html": [
       "        <script type=\"text/javascript\">\n",
       "        window.PlotlyConfig = {MathJaxConfig: 'local'};\n",
       "        if (window.MathJax && window.MathJax.Hub && window.MathJax.Hub.Config) {window.MathJax.Hub.Config({SVG: {font: \"STIX-Web\"}});}\n",
       "        </script>\n",
       "        <script type=\"module\">import \"https://cdn.plot.ly/plotly-3.0.0.min\"</script>\n",
       "        "
      ]
     },
     "metadata": {},
     "output_type": "display_data"
    }
   ],
   "source": [
    "import pandas as pd\n",
    "import numpy as np\n",
    "import yfinance as yf\n",
    "import plotly.express as px\n",
    "\n",
    "import cufflinks as cf\n",
    "import plotly.graph_objects as go\n",
    "from plotly.offline import iplot\n",
    "\n",
    "import mplfinance as mpf\n",
    "\n",
    "pd.options.plotting.backend =\"plotly\"\n",
    "#%matplotlib inline\n",
    "cf.go_offline()"
   ]
  },
  {
   "cell_type": "code",
   "execution_count": 2,
   "id": "d47a5475-3c11-4a17-a72a-7b131600cb2c",
   "metadata": {},
   "outputs": [
    {
     "name": "stdout",
     "output_type": "stream",
     "text": [
      "YF.download() has changed argument auto_adjust default to True\n"
     ]
    },
    {
     "name": "stderr",
     "output_type": "stream",
     "text": [
      "[*********************100%***********************]  2 of 2 completed\n"
     ]
    },
    {
     "data": {
      "text/html": [
       "<div>\n",
       "<style scoped>\n",
       "    .dataframe tbody tr th:only-of-type {\n",
       "        vertical-align: middle;\n",
       "    }\n",
       "\n",
       "    .dataframe tbody tr th {\n",
       "        vertical-align: top;\n",
       "    }\n",
       "\n",
       "    .dataframe thead th {\n",
       "        text-align: right;\n",
       "    }\n",
       "</style>\n",
       "<table border=\"1\" class=\"dataframe\">\n",
       "  <thead>\n",
       "    <tr style=\"text-align: right;\">\n",
       "      <th>Price</th>\n",
       "      <th>Close</th>\n",
       "      <th>High</th>\n",
       "      <th>Low</th>\n",
       "      <th>Open</th>\n",
       "      <th>Volume</th>\n",
       "    </tr>\n",
       "    <tr>\n",
       "      <th>Date</th>\n",
       "      <th></th>\n",
       "      <th></th>\n",
       "      <th></th>\n",
       "      <th></th>\n",
       "      <th></th>\n",
       "    </tr>\n",
       "  </thead>\n",
       "  <tbody>\n",
       "    <tr>\n",
       "      <th>2024-02-20</th>\n",
       "      <td>180.706711</td>\n",
       "      <td>181.572617</td>\n",
       "      <td>179.154045</td>\n",
       "      <td>180.935626</td>\n",
       "      <td>53665600</td>\n",
       "    </tr>\n",
       "    <tr>\n",
       "      <th>2024-02-21</th>\n",
       "      <td>181.463181</td>\n",
       "      <td>182.030494</td>\n",
       "      <td>179.810978</td>\n",
       "      <td>181.084962</td>\n",
       "      <td>41529700</td>\n",
       "    </tr>\n",
       "  </tbody>\n",
       "</table>\n",
       "</div>"
      ],
      "text/plain": [
       "Price            Close        High         Low        Open    Volume\n",
       "Date                                                                \n",
       "2024-02-20  180.706711  181.572617  179.154045  180.935626  53665600\n",
       "2024-02-21  181.463181  182.030494  179.810978  181.084962  41529700"
      ]
     },
     "execution_count": 2,
     "metadata": {},
     "output_type": "execute_result"
    }
   ],
   "source": [
    "tickers = ['AAPL','TSLA']\n",
    "data = yf.download(tickers, period='1y')\n",
    "\n",
    "#filtering data for a particular ticker\n",
    "data = data.swaplevel(axis=1).AAPL\n",
    "data.head(2)"
   ]
  },
  {
   "cell_type": "markdown",
   "id": "45409e41-d44f-4889-b921-fed89f41d564",
   "metadata": {},
   "source": [
    "# plotting a candlestick chart"
   ]
  },
  {
   "cell_type": "code",
   "execution_count": 3,
   "id": "57d5975a-961c-4aaf-9334-f9a17da6f2e2",
   "metadata": {},
   "outputs": [
    {
     "data": {
      "application/vnd.plotly.v1+json": {
       "config": {
        "plotlyServerURL": "https://plot.ly"
       },
       "data": [
        {
         "close": {
          "bdata": "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",
          "dtype": "f8"
         },
         "high": {
          "bdata": "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",
          "dtype": "f8"
         },
         "low": {
          "bdata": "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",
          "dtype": "f8"
         },
         "open": {
          "bdata": "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",
          "dtype": "f8"
         },
         "type": "candlestick",
         "x": [
          "2024-02-20T00:00:00.000000000",
          "2024-02-21T00:00:00.000000000",
          "2024-02-22T00:00:00.000000000",
          "2024-02-23T00:00:00.000000000",
          "2024-02-26T00:00:00.000000000",
          "2024-02-27T00:00:00.000000000",
          "2024-02-28T00:00:00.000000000",
          "2024-02-29T00:00:00.000000000",
          "2024-03-01T00:00:00.000000000",
          "2024-03-04T00:00:00.000000000",
          "2024-03-05T00:00:00.000000000",
          "2024-03-06T00:00:00.000000000",
          "2024-03-07T00:00:00.000000000",
          "2024-03-08T00:00:00.000000000",
          "2024-03-11T00:00:00.000000000",
          "2024-03-12T00:00:00.000000000",
          "2024-03-13T00:00:00.000000000",
          "2024-03-14T00:00:00.000000000",
          "2024-03-15T00:00:00.000000000",
          "2024-03-18T00:00:00.000000000",
          "2024-03-19T00:00:00.000000000",
          "2024-03-20T00:00:00.000000000",
          "2024-03-21T00:00:00.000000000",
          "2024-03-22T00:00:00.000000000",
          "2024-03-25T00:00:00.000000000",
          "2024-03-26T00:00:00.000000000",
          "2024-03-27T00:00:00.000000000",
          "2024-03-28T00:00:00.000000000",
          "2024-04-01T00:00:00.000000000",
          "2024-04-02T00:00:00.000000000",
          "2024-04-03T00:00:00.000000000",
          "2024-04-04T00:00:00.000000000",
          "2024-04-05T00:00:00.000000000",
          "2024-04-08T00:00:00.000000000",
          "2024-04-09T00:00:00.000000000",
          "2024-04-10T00:00:00.000000000",
          "2024-04-11T00:00:00.000000000",
          "2024-04-12T00:00:00.000000000",
          "2024-04-15T00:00:00.000000000",
          "2024-04-16T00:00:00.000000000",
          "2024-04-17T00:00:00.000000000",
          "2024-04-18T00:00:00.000000000",
          "2024-04-19T00:00:00.000000000",
          "2024-04-22T00:00:00.000000000",
          "2024-04-23T00:00:00.000000000",
          "2024-04-24T00:00:00.000000000",
          "2024-04-25T00:00:00.000000000",
          "2024-04-26T00:00:00.000000000",
          "2024-04-29T00:00:00.000000000",
          "2024-04-30T00:00:00.000000000",
          "2024-05-01T00:00:00.000000000",
          "2024-05-02T00:00:00.000000000",
          "2024-05-03T00:00:00.000000000",
          "2024-05-06T00:00:00.000000000",
          "2024-05-07T00:00:00.000000000",
          "2024-05-08T00:00:00.000000000",
          "2024-05-09T00:00:00.000000000",
          "2024-05-10T00:00:00.000000000",
          "2024-05-13T00:00:00.000000000",
          "2024-05-14T00:00:00.000000000",
          "2024-05-15T00:00:00.000000000",
          "2024-05-16T00:00:00.000000000",
          "2024-05-17T00:00:00.000000000",
          "2024-05-20T00:00:00.000000000",
          "2024-05-21T00:00:00.000000000",
          "2024-05-22T00:00:00.000000000",
          "2024-05-23T00:00:00.000000000",
          "2024-05-24T00:00:00.000000000",
          "2024-05-28T00:00:00.000000000",
          "2024-05-29T00:00:00.000000000",
          "2024-05-30T00:00:00.000000000",
          "2024-05-31T00:00:00.000000000",
          "2024-06-03T00:00:00.000000000",
          "2024-06-04T00:00:00.000000000",
          "2024-06-05T00:00:00.000000000",
          "2024-06-06T00:00:00.000000000",
          "2024-06-07T00:00:00.000000000",
          "2024-06-10T00:00:00.000000000",
          "2024-06-11T00:00:00.000000000",
          "2024-06-12T00:00:00.000000000",
          "2024-06-13T00:00:00.000000000",
          "2024-06-14T00:00:00.000000000",
          "2024-06-17T00:00:00.000000000",
          "2024-06-18T00:00:00.000000000",
          "2024-06-20T00:00:00.000000000",
          "2024-06-21T00:00:00.000000000",
          "2024-06-24T00:00:00.000000000",
          "2024-06-25T00:00:00.000000000",
          "2024-06-26T00:00:00.000000000",
          "2024-06-27T00:00:00.000000000",
          "2024-06-28T00:00:00.000000000",
          "2024-07-01T00:00:00.000000000",
          "2024-07-02T00:00:00.000000000",
          "2024-07-03T00:00:00.000000000",
          "2024-07-05T00:00:00.000000000",
          "2024-07-08T00:00:00.000000000",
          "2024-07-09T00:00:00.000000000",
          "2024-07-10T00:00:00.000000000",
          "2024-07-11T00:00:00.000000000",
          "2024-07-12T00:00:00.000000000",
          "2024-07-15T00:00:00.000000000",
          "2024-07-16T00:00:00.000000000",
          "2024-07-17T00:00:00.000000000",
          "2024-07-18T00:00:00.000000000",
          "2024-07-19T00:00:00.000000000",
          "2024-07-22T00:00:00.000000000",
          "2024-07-23T00:00:00.000000000",
          "2024-07-24T00:00:00.000000000",
          "2024-07-25T00:00:00.000000000",
          "2024-07-26T00:00:00.000000000",
          "2024-07-29T00:00:00.000000000",
          "2024-07-30T00:00:00.000000000",
          "2024-07-31T00:00:00.000000000",
          "2024-08-01T00:00:00.000000000",
          "2024-08-02T00:00:00.000000000",
          "2024-08-05T00:00:00.000000000",
          "2024-08-06T00:00:00.000000000",
          "2024-08-07T00:00:00.000000000",
          "2024-08-08T00:00:00.000000000",
          "2024-08-09T00:00:00.000000000",
          "2024-08-12T00:00:00.000000000",
          "2024-08-13T00:00:00.000000000",
          "2024-08-14T00:00:00.000000000",
          "2024-08-15T00:00:00.000000000",
          "2024-08-16T00:00:00.000000000",
          "2024-08-19T00:00:00.000000000",
          "2024-08-20T00:00:00.000000000",
          "2024-08-21T00:00:00.000000000",
          "2024-08-22T00:00:00.000000000",
          "2024-08-23T00:00:00.000000000",
          "2024-08-26T00:00:00.000000000",
          "2024-08-27T00:00:00.000000000",
          "2024-08-28T00:00:00.000000000",
          "2024-08-29T00:00:00.000000000",
          "2024-08-30T00:00:00.000000000",
          "2024-09-03T00:00:00.000000000",
          "2024-09-04T00:00:00.000000000",
          "2024-09-05T00:00:00.000000000",
          "2024-09-06T00:00:00.000000000",
          "2024-09-09T00:00:00.000000000",
          "2024-09-10T00:00:00.000000000",
          "2024-09-11T00:00:00.000000000",
          "2024-09-12T00:00:00.000000000",
          "2024-09-13T00:00:00.000000000",
          "2024-09-16T00:00:00.000000000",
          "2024-09-17T00:00:00.000000000",
          "2024-09-18T00:00:00.000000000",
          "2024-09-19T00:00:00.000000000",
          "2024-09-20T00:00:00.000000000",
          "2024-09-23T00:00:00.000000000",
          "2024-09-24T00:00:00.000000000",
          "2024-09-25T00:00:00.000000000",
          "2024-09-26T00:00:00.000000000",
          "2024-09-27T00:00:00.000000000",
          "2024-09-30T00:00:00.000000000",
          "2024-10-01T00:00:00.000000000",
          "2024-10-02T00:00:00.000000000",
          "2024-10-03T00:00:00.000000000",
          "2024-10-04T00:00:00.000000000",
          "2024-10-07T00:00:00.000000000",
          "2024-10-08T00:00:00.000000000",
          "2024-10-09T00:00:00.000000000",
          "2024-10-10T00:00:00.000000000",
          "2024-10-11T00:00:00.000000000",
          "2024-10-14T00:00:00.000000000",
          "2024-10-15T00:00:00.000000000",
          "2024-10-16T00:00:00.000000000",
          "2024-10-17T00:00:00.000000000",
          "2024-10-18T00:00:00.000000000",
          "2024-10-21T00:00:00.000000000",
          "2024-10-22T00:00:00.000000000",
          "2024-10-23T00:00:00.000000000",
          "2024-10-24T00:00:00.000000000",
          "2024-10-25T00:00:00.000000000",
          "2024-10-28T00:00:00.000000000",
          "2024-10-29T00:00:00.000000000",
          "2024-10-30T00:00:00.000000000",
          "2024-10-31T00:00:00.000000000",
          "2024-11-01T00:00:00.000000000",
          "2024-11-04T00:00:00.000000000",
          "2024-11-05T00:00:00.000000000",
          "2024-11-06T00:00:00.000000000",
          "2024-11-07T00:00:00.000000000",
          "2024-11-08T00:00:00.000000000",
          "2024-11-11T00:00:00.000000000",
          "2024-11-12T00:00:00.000000000",
          "2024-11-13T00:00:00.000000000",
          "2024-11-14T00:00:00.000000000",
          "2024-11-15T00:00:00.000000000",
          "2024-11-18T00:00:00.000000000",
          "2024-11-19T00:00:00.000000000",
          "2024-11-20T00:00:00.000000000",
          "2024-11-21T00:00:00.000000000",
          "2024-11-22T00:00:00.000000000",
          "2024-11-25T00:00:00.000000000",
          "2024-11-26T00:00:00.000000000",
          "2024-11-27T00:00:00.000000000",
          "2024-11-29T00:00:00.000000000",
          "2024-12-02T00:00:00.000000000",
          "2024-12-03T00:00:00.000000000",
          "2024-12-04T00:00:00.000000000",
          "2024-12-05T00:00:00.000000000",
          "2024-12-06T00:00:00.000000000",
          "2024-12-09T00:00:00.000000000",
          "2024-12-10T00:00:00.000000000",
          "2024-12-11T00:00:00.000000000",
          "2024-12-12T00:00:00.000000000",
          "2024-12-13T00:00:00.000000000",
          "2024-12-16T00:00:00.000000000",
          "2024-12-17T00:00:00.000000000",
          "2024-12-18T00:00:00.000000000",
          "2024-12-19T00:00:00.000000000",
          "2024-12-20T00:00:00.000000000",
          "2024-12-23T00:00:00.000000000",
          "2024-12-24T00:00:00.000000000",
          "2024-12-26T00:00:00.000000000",
          "2024-12-27T00:00:00.000000000",
          "2024-12-30T00:00:00.000000000",
          "2024-12-31T00:00:00.000000000",
          "2025-01-02T00:00:00.000000000",
          "2025-01-03T00:00:00.000000000",
          "2025-01-06T00:00:00.000000000",
          "2025-01-07T00:00:00.000000000",
          "2025-01-08T00:00:00.000000000",
          "2025-01-10T00:00:00.000000000",
          "2025-01-13T00:00:00.000000000",
          "2025-01-14T00:00:00.000000000",
          "2025-01-15T00:00:00.000000000",
          "2025-01-16T00:00:00.000000000",
          "2025-01-17T00:00:00.000000000",
          "2025-01-21T00:00:00.000000000",
          "2025-01-22T00:00:00.000000000",
          "2025-01-23T00:00:00.000000000",
          "2025-01-24T00:00:00.000000000",
          "2025-01-27T00:00:00.000000000",
          "2025-01-28T00:00:00.000000000",
          "2025-01-29T00:00:00.000000000",
          "2025-01-30T00:00:00.000000000",
          "2025-01-31T00:00:00.000000000",
          "2025-02-03T00:00:00.000000000",
          "2025-02-04T00:00:00.000000000",
          "2025-02-05T00:00:00.000000000",
          "2025-02-06T00:00:00.000000000",
          "2025-02-07T00:00:00.000000000",
          "2025-02-10T00:00:00.000000000",
          "2025-02-11T00:00:00.000000000",
          "2025-02-12T00:00:00.000000000",
          "2025-02-13T00:00:00.000000000",
          "2025-02-14T00:00:00.000000000",
          "2025-02-18T00:00:00.000000000",
          "2025-02-19T00:00:00.000000000"
         ]
        }
       ],
       "layout": {
        "template": {
         "data": {
          "bar": [
           {
            "error_x": {
             "color": "#2a3f5f"
            },
            "error_y": {
             "color": "#2a3f5f"
            },
            "marker": {
             "line": {
              "color": "#E5ECF6",
              "width": 0.5
             },
             "pattern": {
              "fillmode": "overlay",
              "size": 10,
              "solidity": 0.2
             }
            },
            "type": "bar"
           }
          ],
          "barpolar": [
           {
            "marker": {
             "line": {
              "color": "#E5ECF6",
              "width": 0.5
             },
             "pattern": {
              "fillmode": "overlay",
              "size": 10,
              "solidity": 0.2
             }
            },
            "type": "barpolar"
           }
          ],
          "carpet": [
           {
            "aaxis": {
             "endlinecolor": "#2a3f5f",
             "gridcolor": "white",
             "linecolor": "white",
             "minorgridcolor": "white",
             "startlinecolor": "#2a3f5f"
            },
            "baxis": {
             "endlinecolor": "#2a3f5f",
             "gridcolor": "white",
             "linecolor": "white",
             "minorgridcolor": "white",
             "startlinecolor": "#2a3f5f"
            },
            "type": "carpet"
           }
          ],
          "choropleth": [
           {
            "colorbar": {
             "outlinewidth": 0,
             "ticks": ""
            },
            "type": "choropleth"
           }
          ],
          "contour": [
           {
            "colorbar": {
             "outlinewidth": 0,
             "ticks": ""
            },
            "colorscale": [
             [
              0,
              "#0d0887"
             ],
             [
              0.1111111111111111,
              "#46039f"
             ],
             [
              0.2222222222222222,
              "#7201a8"
             ],
             [
              0.3333333333333333,
              "#9c179e"
             ],
             [
              0.4444444444444444,
              "#bd3786"
             ],
             [
              0.5555555555555556,
              "#d8576b"
             ],
             [
              0.6666666666666666,
              "#ed7953"
             ],
             [
              0.7777777777777778,
              "#fb9f3a"
             ],
             [
              0.8888888888888888,
              "#fdca26"
             ],
             [
              1,
              "#f0f921"
             ]
            ],
            "type": "contour"
           }
          ],
          "contourcarpet": [
           {
            "colorbar": {
             "outlinewidth": 0,
             "ticks": ""
            },
            "type": "contourcarpet"
           }
          ],
          "heatmap": [
           {
            "colorbar": {
             "outlinewidth": 0,
             "ticks": ""
            },
            "colorscale": [
             [
              0,
              "#0d0887"
             ],
             [
              0.1111111111111111,
              "#46039f"
             ],
             [
              0.2222222222222222,
              "#7201a8"
             ],
             [
              0.3333333333333333,
              "#9c179e"
             ],
             [
              0.4444444444444444,
              "#bd3786"
             ],
             [
              0.5555555555555556,
              "#d8576b"
             ],
             [
              0.6666666666666666,
              "#ed7953"
             ],
             [
              0.7777777777777778,
              "#fb9f3a"
             ],
             [
              0.8888888888888888,
              "#fdca26"
             ],
             [
              1,
              "#f0f921"
             ]
            ],
            "type": "heatmap"
           }
          ],
          "histogram": [
           {
            "marker": {
             "pattern": {
              "fillmode": "overlay",
              "size": 10,
              "solidity": 0.2
             }
            },
            "type": "histogram"
           }
          ],
          "histogram2d": [
           {
            "colorbar": {
             "outlinewidth": 0,
             "ticks": ""
            },
            "colorscale": [
             [
              0,
              "#0d0887"
             ],
             [
              0.1111111111111111,
              "#46039f"
             ],
             [
              0.2222222222222222,
              "#7201a8"
             ],
             [
              0.3333333333333333,
              "#9c179e"
             ],
             [
              0.4444444444444444,
              "#bd3786"
             ],
             [
              0.5555555555555556,
              "#d8576b"
             ],
             [
              0.6666666666666666,
              "#ed7953"
             ],
             [
              0.7777777777777778,
              "#fb9f3a"
             ],
             [
              0.8888888888888888,
              "#fdca26"
             ],
             [
              1,
              "#f0f921"
             ]
            ],
            "type": "histogram2d"
           }
          ],
          "histogram2dcontour": [
           {
            "colorbar": {
             "outlinewidth": 0,
             "ticks": ""
            },
            "colorscale": [
             [
              0,
              "#0d0887"
             ],
             [
              0.1111111111111111,
              "#46039f"
             ],
             [
              0.2222222222222222,
              "#7201a8"
             ],
             [
              0.3333333333333333,
              "#9c179e"
             ],
             [
              0.4444444444444444,
              "#bd3786"
             ],
             [
              0.5555555555555556,
              "#d8576b"
             ],
             [
              0.6666666666666666,
              "#ed7953"
             ],
             [
              0.7777777777777778,
              "#fb9f3a"
             ],
             [
              0.8888888888888888,
              "#fdca26"
             ],
             [
              1,
              "#f0f921"
             ]
            ],
            "type": "histogram2dcontour"
           }
          ],
          "mesh3d": [
           {
            "colorbar": {
             "outlinewidth": 0,
             "ticks": ""
            },
            "type": "mesh3d"
           }
          ],
          "parcoords": [
           {
            "line": {
             "colorbar": {
              "outlinewidth": 0,
              "ticks": ""
             }
            },
            "type": "parcoords"
           }
          ],
          "pie": [
           {
            "automargin": true,
            "type": "pie"
           }
          ],
          "scatter": [
           {
            "fillpattern": {
             "fillmode": "overlay",
             "size": 10,
             "solidity": 0.2
            },
            "type": "scatter"
           }
          ],
          "scatter3d": [
           {
            "line": {
             "colorbar": {
              "outlinewidth": 0,
              "ticks": ""
             }
            },
            "marker": {
             "colorbar": {
              "outlinewidth": 0,
              "ticks": ""
             }
            },
            "type": "scatter3d"
           }
          ],
          "scattercarpet": [
           {
            "marker": {
             "colorbar": {
              "outlinewidth": 0,
              "ticks": ""
             }
            },
            "type": "scattercarpet"
           }
          ],
          "scattergeo": [
           {
            "marker": {
             "colorbar": {
              "outlinewidth": 0,
              "ticks": ""
             }
            },
            "type": "scattergeo"
           }
          ],
          "scattergl": [
           {
            "marker": {
             "colorbar": {
              "outlinewidth": 0,
              "ticks": ""
             }
            },
            "type": "scattergl"
           }
          ],
          "scattermap": [
           {
            "marker": {
             "colorbar": {
              "outlinewidth": 0,
              "ticks": ""
             }
            },
            "type": "scattermap"
           }
          ],
          "scattermapbox": [
           {
            "marker": {
             "colorbar": {
              "outlinewidth": 0,
              "ticks": ""
             }
            },
            "type": "scattermapbox"
           }
          ],
          "scatterpolar": [
           {
            "marker": {
             "colorbar": {
              "outlinewidth": 0,
              "ticks": ""
             }
            },
            "type": "scatterpolar"
           }
          ],
          "scatterpolargl": [
           {
            "marker": {
             "colorbar": {
              "outlinewidth": 0,
              "ticks": ""
             }
            },
            "type": "scatterpolargl"
           }
          ],
          "scatterternary": [
           {
            "marker": {
             "colorbar": {
              "outlinewidth": 0,
              "ticks": ""
             }
            },
            "type": "scatterternary"
           }
          ],
          "surface": [
           {
            "colorbar": {
             "outlinewidth": 0,
             "ticks": ""
            },
            "colorscale": [
             [
              0,
              "#0d0887"
             ],
             [
              0.1111111111111111,
              "#46039f"
             ],
             [
              0.2222222222222222,
              "#7201a8"
             ],
             [
              0.3333333333333333,
              "#9c179e"
             ],
             [
              0.4444444444444444,
              "#bd3786"
             ],
             [
              0.5555555555555556,
              "#d8576b"
             ],
             [
              0.6666666666666666,
              "#ed7953"
             ],
             [
              0.7777777777777778,
              "#fb9f3a"
             ],
             [
              0.8888888888888888,
              "#fdca26"
             ],
             [
              1,
              "#f0f921"
             ]
            ],
            "type": "surface"
           }
          ],
          "table": [
           {
            "cells": {
             "fill": {
              "color": "#EBF0F8"
             },
             "line": {
              "color": "white"
             }
            },
            "header": {
             "fill": {
              "color": "#C8D4E3"
             },
             "line": {
              "color": "white"
             }
            },
            "type": "table"
           }
          ]
         },
         "layout": {
          "annotationdefaults": {
           "arrowcolor": "#2a3f5f",
           "arrowhead": 0,
           "arrowwidth": 1
          },
          "autotypenumbers": "strict",
          "coloraxis": {
           "colorbar": {
            "outlinewidth": 0,
            "ticks": ""
           }
          },
          "colorscale": {
           "diverging": [
            [
             0,
             "#8e0152"
            ],
            [
             0.1,
             "#c51b7d"
            ],
            [
             0.2,
             "#de77ae"
            ],
            [
             0.3,
             "#f1b6da"
            ],
            [
             0.4,
             "#fde0ef"
            ],
            [
             0.5,
             "#f7f7f7"
            ],
            [
             0.6,
             "#e6f5d0"
            ],
            [
             0.7,
             "#b8e186"
            ],
            [
             0.8,
             "#7fbc41"
            ],
            [
             0.9,
             "#4d9221"
            ],
            [
             1,
             "#276419"
            ]
           ],
           "sequential": [
            [
             0,
             "#0d0887"
            ],
            [
             0.1111111111111111,
             "#46039f"
            ],
            [
             0.2222222222222222,
             "#7201a8"
            ],
            [
             0.3333333333333333,
             "#9c179e"
            ],
            [
             0.4444444444444444,
             "#bd3786"
            ],
            [
             0.5555555555555556,
             "#d8576b"
            ],
            [
             0.6666666666666666,
             "#ed7953"
            ],
            [
             0.7777777777777778,
             "#fb9f3a"
            ],
            [
             0.8888888888888888,
             "#fdca26"
            ],
            [
             1,
             "#f0f921"
            ]
           ],
           "sequentialminus": [
            [
             0,
             "#0d0887"
            ],
            [
             0.1111111111111111,
             "#46039f"
            ],
            [
             0.2222222222222222,
             "#7201a8"
            ],
            [
             0.3333333333333333,
             "#9c179e"
            ],
            [
             0.4444444444444444,
             "#bd3786"
            ],
            [
             0.5555555555555556,
             "#d8576b"
            ],
            [
             0.6666666666666666,
             "#ed7953"
            ],
            [
             0.7777777777777778,
             "#fb9f3a"
            ],
            [
             0.8888888888888888,
             "#fdca26"
            ],
            [
             1,
             "#f0f921"
            ]
           ]
          },
          "colorway": [
           "#636efa",
           "#EF553B",
           "#00cc96",
           "#ab63fa",
           "#FFA15A",
           "#19d3f3",
           "#FF6692",
           "#B6E880",
           "#FF97FF",
           "#FECB52"
          ],
          "font": {
           "color": "#2a3f5f"
          },
          "geo": {
           "bgcolor": "white",
           "lakecolor": "white",
           "landcolor": "#E5ECF6",
           "showlakes": true,
           "showland": true,
           "subunitcolor": "white"
          },
          "hoverlabel": {
           "align": "left"
          },
          "hovermode": "closest",
          "mapbox": {
           "style": "light"
          },
          "paper_bgcolor": "white",
          "plot_bgcolor": "#E5ECF6",
          "polar": {
           "angularaxis": {
            "gridcolor": "white",
            "linecolor": "white",
            "ticks": ""
           },
           "bgcolor": "#E5ECF6",
           "radialaxis": {
            "gridcolor": "white",
            "linecolor": "white",
            "ticks": ""
           }
          },
          "scene": {
           "xaxis": {
            "backgroundcolor": "#E5ECF6",
            "gridcolor": "white",
            "gridwidth": 2,
            "linecolor": "white",
            "showbackground": true,
            "ticks": "",
            "zerolinecolor": "white"
           },
           "yaxis": {
            "backgroundcolor": "#E5ECF6",
            "gridcolor": "white",
            "gridwidth": 2,
            "linecolor": "white",
            "showbackground": true,
            "ticks": "",
            "zerolinecolor": "white"
           },
           "zaxis": {
            "backgroundcolor": "#E5ECF6",
            "gridcolor": "white",
            "gridwidth": 2,
            "linecolor": "white",
            "showbackground": true,
            "ticks": "",
            "zerolinecolor": "white"
           }
          },
          "shapedefaults": {
           "line": {
            "color": "#2a3f5f"
           }
          },
          "ternary": {
           "aaxis": {
            "gridcolor": "white",
            "linecolor": "white",
            "ticks": ""
           },
           "baxis": {
            "gridcolor": "white",
            "linecolor": "white",
            "ticks": ""
           },
           "bgcolor": "#E5ECF6",
           "caxis": {
            "gridcolor": "white",
            "linecolor": "white",
            "ticks": ""
           }
          },
          "title": {
           "x": 0.05
          },
          "xaxis": {
           "automargin": true,
           "gridcolor": "white",
           "linecolor": "white",
           "ticks": "",
           "title": {
            "standoff": 15
           },
           "zerolinecolor": "white",
           "zerolinewidth": 2
          },
          "yaxis": {
           "automargin": true,
           "gridcolor": "white",
           "linecolor": "white",
           "ticks": "",
           "title": {
            "standoff": 15
           },
           "zerolinecolor": "white",
           "zerolinewidth": 2
          }
         }
        },
        "title": {
         "text": "AAPL Candle Chart"
        },
        "xaxis": {
         "title": {
          "text": "Date"
         }
        },
        "yaxis": {
         "title": {
          "text": "Price (USD)"
         }
        }
       }
      },
      "text/html": [
       "<div>            <script src=\"https://cdnjs.cloudflare.com/ajax/libs/mathjax/2.7.5/MathJax.js?config=TeX-AMS-MML_SVG\"></script><script type=\"text/javascript\">if (window.MathJax && window.MathJax.Hub && window.MathJax.Hub.Config) {window.MathJax.Hub.Config({SVG: {font: \"STIX-Web\"}});}</script>                <script type=\"text/javascript\">window.PlotlyConfig = {MathJaxConfig: 'local'};</script>\n",
       "        <script charset=\"utf-8\" src=\"https://cdn.plot.ly/plotly-3.0.0.min.js\"></script>                <div id=\"75a77518-3495-48a2-b628-7079728ced5b\" class=\"plotly-graph-div\" style=\"height:525px; width:100%;\"></div>            <script type=\"text/javascript\">                window.PLOTLYENV=window.PLOTLYENV || {};                                if (document.getElementById(\"75a77518-3495-48a2-b628-7079728ced5b\")) {                    Plotly.newPlot(                        \"75a77518-3495-48a2-b628-7079728ced5b\",                        [{\"close\":{\"dtype\":\"f8\",\"bdata\":\"AAAAYJ2WZkAAAABg0q5mQAAAAOAc8GZAAAAA4DC1ZkAAAAAg4IlmQAAAAMCxuGZAAAAAICiSZkAAAABA0XxmQAAAAAAaWmZAAAAAIN7IZUAAAACAQSplQAAAAOBnCmVAAAAAgJUGZUAAAAAgrz1lQAAAAEAFfmVAAAAAwE6NZUAAAACgbEplQAAAAKD7hWVAAAAAIOF5ZUAAAAAg6pxlQAAAAGAU6GVAAAAA4JE6ZkAAAABAEVJlQAAAACANb2VAAAAAoIFBZUAAAACgMh1lQAAAACDbj2VAAAAAIJJVZUAAAADAYydlQAAAAAB9AWVAAAAAQEkbZUAAAAAA2gBlQAAAAMAOGWVAAAAAQBH1ZEAAAACA7BtlQAAAAEC632RAAAAAoPTGZUAAAACADPdlQAAAAAAcfGVAAAAAALASZUAAAAAAvOZkQAAAAKAoyGRAAAAAgC+HZEAAAACg8KFkQAAAACCzw2RAAAAAwDgHZUAAAAAg7iJlQAAAAKAjEGVAAAAAYOiVZUAAAADA8TBlQAAAAKAjEGVAAAAAQPCGZUAAAADglNBmQAAAAMBkm2ZAAAAAgF6xZkAAAACgMrxmQAAAAMB79mZAAAAAoPrNZkAAAAAg\\u002fjRnQAAAAGCrWWdAAAAAYLSiZ0AAAAAAiKZnQAAAAOB8p2dAAAAAgM3MZ0AAAAAglfZnQAAAAGBWyGdAAAAA4CBIZ0AAAAAA\\u002f6pnQAAAAKBQq2dAAAAAAOK0Z0AAAACgxtRnQAAAAIBk82dAAAAAgCksaEAAAABAXjZoQAAAAEDYZmhAAAAAgIM6aEAAAAAAYIdoQAAAAMAjD2hAAAAAYJjOaUAAAADAZotqQAAAAGC3sGpAAAAAYOd4akAAAAAgN\\u002f5qQAAAAGBPsmpAAAAA4EgfakAAAACAcNlpQAAAAGAr7mlAAAAAgNQLakAAAABgJJFqQAAAAEBArGpAAAAAYEM9akAAAABAxABrQAAAAIAHcWtAAAAAINqZa0AAAABgnjJsQAAAAADSYWxAAAAAYD99bEAAAAAAYwZtQAAAAODYWWxAAAAAgJG4bEAAAADArDNtQAAAAOARQW1AAAAAYKCDbEAAAADguu1rQAAAAEDg8WtAAAAA4Lbma0AAAACAMwhsQAAAAODaOWtAAAAAIF4Ya0AAAACAWydrQAAAAIBJMGtAAAAAoCVCa0AAAABgwaprQAAAACAdNGtAAAAAIPRja0AAAACANRJqQAAAAMAl0WlAAAAA4L8jakAAAABADpNqQAAAAICA8GpAAAAAYKwha0AAAAAgF5lrQAAAAIB1p2tAAAAAgD8HbEAAAAAAtzFsQAAAACCbLGxAAAAAAGdAbEAAAADA4zxsQAAAAIAuAWxAAAAAYPBKbEAAAACAy1VsQAAAAGDvcGxAAAAAgMM\\u002fbEAAAADAIalsQAAAAEDoj2xAAAAAIPzIa0AAAAAgrotrQAAAAECIvGtAAAAAALmKa0AAAACAmI1rQAAAAGANdGtAAAAAAHnFa0AAAAAg\\u002fMhrQAAAAEBdwGtAAAAA4An7akAAAACACwprQAAAAECShmtAAAAAoMGLbEAAAAAAXXZsQAAAAAAgP2xAAAAAoNxbbEAAAACg7jtsQAAAAMCmYGxAAAAAoEVpbEAAAABgoA9tQAAAAODSNmxAAAAAAAZJbEAAAADAlCVsQAAAAICpSWxAAAAAQICma0AAAABAxihsQAAAAEAmoWxAAAAAQC+RbEAAAAAAnGFsQAAAAIBY2WxAAAAAQMQqbUAAAAAArOhsQAAAAGB89GxAAAAAQHxPbUAAAADgvX5tQAAAAADyam1AAAAAgBrIbEAAAACgCcJsQAAAAKDb3GxAAAAA4GUcbUAAAADgBCVtQAAAAKAHs2xAAAAAoD4tbEAAAACAdM1rQAAAAOC3sGtAAAAAgLLea0AAAACAY8drQAAAAMBfX2xAAAAAYL5WbEAAAADAev9rQAAAAMB6\\u002f2tAAAAAoO0bbEAAAAAABX9sQAAAAKAXGGxAAAAAYKB4bEAAAADg74BsQAAAAKDzl2xAAAAA4JuIbEAAAADgwrNsQAAAAOCnE21AAAAAoKhZbUAAAADggFVtQAAAACA4om1AAAAAoHXqbUAAAACgRUxuQAAAAIDHV25AAAAAAL1YbkAAAABgWFJuQAAAAABUz25AAAAAoO7vbkAAAABgBMduQAAAAIAB9m5AAAAAgHD7bkAAAAAAdVhvQAAAAIBzpm9AAAAA4OH4bkAAAABAgDBvQAAAAIC8xm9AAAAAQKvfb0AAAADAqR5wQAAAAKDEK3BAAAAAwOXpb0AAAABgiX1vQAAAAKCjRG9AAAAAYKFybkAAAACg92JuQAAAAMBjl25AAAAAQDU+bkAAAADA3k1uQAAAAEDgkm1AAAAA4I9EbUAAAADgwiBtQAAAAOB6s21AAAAAQEyAbEAAAAAAR7dsQAAAAMCnzGtAAAAAgLHya0AAAACAQu1rQAAAAGAh0WtAAAAAAHGzbEAAAABA8r9tQAAAAKAb421AAAAAoIeqbUAAAADAtHdtQAAAAIBOeGxAAAAAIGsRbUAAAADA3gZtQAAAAADYHm1AAAAAAClsbEAAAADAzHRsQAAAAADXE21AAAAAANebbUAAAADA9TBuQAAAAEAzk25AAAAAQAqPbkAAAAAA15tuQA==\"},\"high\":{\"dtype\":\"f8\",\"bdata\":\"7I4\\u002f4VKyZkDAglDO+cBmQKmg8YjnAmdA2D4Pm3MFZ0AE15Gm1bxmQM3m1bXH4WZAydo8DU3IZkCjfFSuyLZmQFHShoHPdWZAXL3pUzICZkBoHtg0aGdlQOg8KWHtTWVAAIApBa89ZUC9hCIIR5xlQPNL+X7vsWVAqWUlk8mmZUB4tBDRCIxlQCQI6LC0r2VAAAAAIOF5ZUBdkRCj\\u002fhtmQIDLZLj1+GVAAAAA4JE6ZkCbWyHB\\u002fBRmQEHjA1uTh2VAwego6ThkZUCnTIsKqVNlQNCRs7UXmWVAXTj6P3VtZUBB3fMHP05lQIlwEcBpEWVAj9peWBc8ZUAeFNLGlWNlQJQx6hDbMmVA3VI6YPQMZUA+6Rt3+yhlQKdTuVBzCWVA5D9fNFXUZUA+rMtQsjBmQK1Ut8+Y+WVA6yCvPzCeZUAAAKm5IjtlQIryb0Ye+2RAAACpWcazZEBnEfiUKs9kQHD1gzl6yGRAlMJkuCMQZUDeKK+n3DllQKsT+7UcUWVA73TMuHzmZUCOkJAXXcVlQNonQxe\\u002ffGVAhmNBHFyTZUA0tlqB4ENnQGXSZOOy6mZAmYaGQP4AZ0BvV39LtcZmQIU9BYlZ+WZADUN5RQoPZ0CiBaEfJU9nQLyGb6BqdWdAsVEwW13AZ0B38dBst85nQCtItJR3xWdAcRFMWt7oZ0C+ZLCSswJoQBOeZHCSBWhAzpO90YbLZ0BJBR3JIb5nQD1cKudPC2hAVPB6l2TzZ0AAVRIUKfFnQLbd\\u002fjeZ\\u002fWdAnro2iMdKaEDDegviTVVoQPp3hryxh2hA4Yzy8e96aEBkkbtA+IhoQG4AvqxzlGhA6cquGerOaUCHuHT5y25rQPjvLWDEAGtA0x3wVWDOakDbbKBP7kZrQBokS6i5PGtArKWEX7ewakCGjBaDxGVqQEzn4b6Zf2pA0hzDnIBVakDAAz1SfcRqQLghaB+O4GpAzD04UhTrakAbDDJFARlrQL2aQ5uJdGtAAAAAINqZa0AGrkV7IDZsQN\\u002fuQ+3GYmxAuAgi3jWUbED+6HmBkwltQEMfuvyR82xA0FX2H4v7bEB\\u002fvw547o1tQLvACHZQb21AdAH28+jVbEBFxsgYYbVsQJL7FQxKQWxA837EbYtgbEAG9yoqwUVsQHW8lxmBAWxAnmLpDIeDa0A0FjdEJ1hrQCsfwOkXUmtAW5QUZPFya0CCbNbAP+JrQAaJyi9M92tAwvg\\u002fvgQbbEBWdsWNHZlqQHnW+gMsKWpA9aQqbZSdakAHpgy0cK9qQH72vU65AWtA53M54eRga0CoeZP44qxrQJi9325J0WtAmwyGKl0bbECteMa3nkpsQJvcbZPML2xA8CNs4HlVbEAHJkizVm9sQNqaenXVemxAVQtvjAB3bEBpnmzz\\u002fFhsQNQ4Zh8ei2xAwn5s312rbECcNx1xEg1tQEt5WdCbvGxA909JK+iPbEDrQ\\u002fDkX6lrQC10s5qDH2xAP9A6HNoXbEA+fQEmF5lrQAminbrLn2tAI5WlwzPTa0CIMKjX4+FrQAOXsiuJ8WtAuSoab8YXa0BsqWOljg1rQLe458gRx2tA0JHFCBeqbEDblRbnfxJtQHnRn4NGnmxA1QQ0QRWbbEBtlAazTllsQIbspD7xf2xAu+ZswIKgbEAAAABgoA9tQMJjal2ppGxA\\u002fXDSotxbbECkXLUd+0lsQFTgfkn6b2xAmwgGSjgmbECyPeS4ei9sQMOY1tjap2xAB6R+Wd+fbEBIu+Cp\\u002f5xsQFEtrUMT52xAGlkMpP2ebUA2JSgih\\u002fNsQDy\\u002fs0rEKm1Aq2l8hSl1bUDwEPNXjoptQC2SCaZwdm1AdR8jtPRTbUD8e6kgBcpsQHfwC5CmFm1AWzq+Ut1GbUBvl1\\u002fAFzptQDG6N\\u002f+hHm1AJ2yqumiqbEBMCXAaXRtsQJjsuZefyWtAYUdGganua0Dahq57WjJsQAQDx20lbGxAATJvdBWNbEAvlUjGdy5sQF49o6PzKmxAB\\u002f4bnNVMbEBHQvLmy5NsQGaGsPl2VWxAjS1uJpuvbECRHdT1B71sQMFX8sGttWxADtew\\u002fge9bEBA1kB67s5sQANkw3TNH21AOI5OCfZpbUBe740JzG1tQFRvdu6PsW1AYtUVNNEQbkCoiaTCyU9uQOEXatrwem5AEUQpga+IbkAB5BwFkItuQKCbaLf93m5A8ySLKv\\u002f9bkCjXrgYyVBvQG64fzvwDm9AAUkwsIQgb0A6PN5QU2NvQILj1JmjsW9A1T2X8gXAb0BLI8+9JHdvQGQaYMkJ129ANYnPtNDrb0BoA4KU0h5wQCnlLoQHPXBAWPOFgqcmcEAvPtlNF6dvQD7M1gQPoG9AcZNFJHIab0ClaGCfLX1uQChygCne4W5AfGZZc\\u002fiobkAiFqipJ25uQMddF\\u002fit\\u002fG1A\\u002f7kfUjFNbUBumqiSinttQMW0cHFS1m1As2LRh\\u002fS3bUAzeI23HQFtQN61LnyNBWxAk4UNhPb7a0DQYTEu+1hsQLLBsvs6LGxAdYpsBaT8bECpi76Co\\u002f1tQDpOZSAX821AoJqRNdEQbkAajlaTZN1uQG3+xKFp8mxAPgjuh\\u002fcbbUC6KF5TQw1tQM76IyhiMW1ANtVUsMY3bUAAAABA4dJsQAAAACBcZ21AAAAAYLiebUAAAABA4UpuQAAAAKCZsW5AAAAAgMKlbkAAAADgUcBuQA==\"},\"low\":{\"dtype\":\"f8\",\"bdata\":\"f6d67+1kZkDCeYqI83lmQCooh8hHs2ZAd+ZQSvSrZkA5hKHCoXlmQNxI+HHqVmZAQ1DdKRJpZkDvtB349VVmQNTPJQd8EWZAvhAO7ySfZUAT7Oi\\u002fVBplQHTiqlBk\\u002fGRAAICBQlf2ZECfd+RprARlQCxOCtO5Z2VAe+9l+JlGZUBuDcC+oz5lQOOD\\u002ftK5Z2VA2xaEdKsvZUAsVCRzi5ZlQL2aeSzwhmVAToBEVIzIZUAxDaznL0FlQIIk0ldYKGVA0KtHpuoUZUBBuE+hDhllQKQC4\\u002fLvKWVAqnlcOK02ZUC1prNM3xVlQEM5FVwP7mRAfkPNETX5ZEAAAAAA2gBlQDESIgH+BGVAh6ucFWHuZEBW3IDx4fFkQECpeGtjymRAJiHHoNTrZECad9VWhaxlQGtOpdAOdmVATZbym1XvZEAAAAAAvOZkQCtcUH2NuGRAAICAS+JpZEBopnxx3H9kQOo+wzqjhGRA+NW3brmtZECRcnT9gutkQPcr0B5RDGVAJB1EBiuJZUBXVXUUbyZlQFlQpnAWCmVAsedXw8dCZUBCqlNYprlmQPQs8alOcmZAtuIe1PiOZkBNh1eKHJNmQJzsKBUiqGZAKHfLPqOwZkB2EintDABnQCQtKMhPNWdAy3DQm8FXZ0CuwWRwyqBnQGHKGk97kWdA5RL6cw+MZ0DdX169+chnQOlmhMk+tGdAgwc1vCdAZ0BJEQO8H21nQOVfIizujmdARhNIpwGcZ0CC5y4cur9nQIpjIXbDqGdA3gtNDwH8Z0A2eKP4RAxoQBK3vbDzRmhA1NmogaAwaEBt6YV2qy9oQOAW9R008GdAkJgMoGcfaEAKYO5On8ZpQBcID\\u002fGEXGpAtp5fh\\u002fNSakCqYqgjPYBqQMJY8SUriWpAsOpcZtAEakAirHHtUc1pQHIxeki8vGlA09Zyvyj9aUCdp3Te5j1qQBkOUkVwdGpAtGHpxw4zakCoAsRpuWZqQLS1X74kzGpATpycZntJa0BQbSOSCp1rQLFwROcR0GtAs19HQ5MzbEDfDYI6bY9sQICClaRwIGxAkJAOaj99bEDVYVoy5QltQHFe1hOo8WxArpCgty88bEBNeUGp0LBrQLcmlsMG0WtAagGMn\\u002ffKa0DE7rAP5L1rQF+FrvDiDGtAPF8KwdW8akAL+UCCKulqQAWRvbPf4GpASPZ9iqzsakCFQurJgnxrQKr9TqVgCWtAjocJX2Ifa0CF\\u002fxnB\\u002fWpoQAYclCewDGlA69tBX1u2aUDvA3wOLQRqQD8wPctRaGpAaSl9mAzkakC1kpvI7VBrQLB0Bvf1ZmtAu73GYqrIa0CrAA9NFeVrQA8NfyWb0WtACx21kY4ebECtUmbpyBFsQIHnatUQ7WtABhGyp8v6a0AKLfwPv+xrQK89fP2sDGxAlYKHcuYlbEAEcNl+E4xsQABAW7hfX2xACsnyqOWVa0A+0oKgEyBrQFRH0JgSoWtA0a+pQzJpa0Aq9zevfQdrQO7ISy4hCGtA6XV\\u002f8Cota0DvxG7SymprQNn+LJ2GrWtA3IktLWiuakCvx58S7cBqQAsWUAv+IWtA++AJ518EbEDBZDMP2GNsQDDnpR8NKmxA8+jlQH8nbEB9eq\\u002fG5fBrQGqTk5VHHWxALw+ncKBZbEBvIxZkqaRsQE5dZA\\u002f152tAc8BVxPfQa0BD3e7mi9prQDu\\u002ffuho9GtAfA77mQGba0DyCcu1T9hrQAq5UrvCCmxAdVQJ5HlVbECdZSxn51psQPSOybIig2xArfspoIL7bECE3J9muqpsQMQ10NJwwGxAh8yE798vbUB\\u002ffPuk7D1tQPHHuMXaAm1AKzhUeFBobEAtp5O7EX1sQPnmHHobomxAzB+XCkIBbUBIZFcJ6vlsQEdFFeV3oWxAYrv6lgAcbECDt6geKXlrQAL5j8BHZ2tA7peUjvCUa0CeCFlGiZZrQLkwz3l1AmxAC1nPsilFbECUfb4vN6hrQPZJx5Or42tA6KuMu33Qa0Dc\\u002fD64FxhsQLwbZBHCAGxAzvU8xIYdbECiB0xzJ01sQBy7RHuKNGxATPsXqMkubECQONCo53lsQGoHEimbr2xAfEKoEFwibUD0QY\\u002fzszFtQCjz1DrRNm1AW7bs\\u002fMicbUBwwyFdZ9RtQFmns3WFH25ANqnoj6Y7bkAFg3pWDTpuQB0DHPyAL25AlOgH3UGibkCLoskxqr9uQK73WSMgrW5ABYZAoQa\\u002fbkCilgSgGOxuQFAwMmouMG9AcKoCKvnubkCaYcIqMtpuQEjyQQxyrW5ApNfTH36lb0BnBmDOTuBvQJpxy4CNFXBALI8QwwaZb0CZk50LME9vQEHqLmj+JG9AoCZ3470xbkCNDr2Z+jNuQPbhy1HaXW5Advm+3LcibkC1AbPXKfltQLmAtaPPF21AR2z\\u002feveubEDHOqmp3gZtQK\\u002feJ1OFRW1A6cm5MfJ4bEAK8dZ+VIdsQJCnpTRzZGtAYyluGY5xa0A2BV6cycFrQBAPdLNWpWtAKfeA53z3a0Dk6xHnztFsQHsHLoIYOG1AhjQ3K2KebUCG0yZI4CVtQGJOYch3LmxAmArjlNVMbECCpWopnoBsQKmq8VmpxWxAGZ85NFVgbEAAAABgZmZsQAAAAAAphGxAAAAAgMLVbEAAAACAPXJtQAAAACCuH25AAAAAQOE6bkAAAADAHmVuQA==\"},\"open\":{\"dtype\":\"f8\",\"bdata\":\"kBgkpfCdZkBRUzkBuKJmQLKYr0PE02ZAPge6An8EZ0DDOo7rRaxmQNEmqOf2h2ZA3ehBad+0ZkBZEe4aYY1mQAATJByZVmZAr4OqM0\\u002fqZUAjCki8oz5lQI0ZUq8xSGVAAACpeVwLZUC24ZCalQZlQJgCX28ShGVAPRyAdMKKZUDjQ3xcqH5lQAu9\\u002fNYdg2VAIVsuk7JLZUC4VZkm1tdlQAylSj2psGVAPeL6Ep3cZUAWO8wx+QZmQDbZCkV9XmVA\\u002fjugp5Y4ZUA1DN0VbyZlQGlOFQZ+M2VAU2vUmiteZUDrR0bXVUxlQAffieIhCWVAyEUiPOX\\u002fZEA6m\\u002fmHqy9lQMZKfz1gGWVAk5qtS4oHZUAxVRWYB\\u002f1kQBRv4to2AGVAxc7HMpDxZECsZSjqHK5lQCN1wdQl0WVAmmHLwSteZUAAgNUjAxplQK7vkKKw52RAAIAsSrmtZECUVLyRv5dkQGXtnkxVkmRA1mhx+ju4ZECRayjcdhdlQJfAi6ucImVAltxNYcSRZUBsbFxAfpBlQJ5uWpgOGWVAOfsKZWB2ZUAUEAO7ujhnQF0IW\\u002fzGr2ZAQQBks8\\u002fSZkAlHdWDs79mQHmgHCJ3tmZAonsz\\u002fPoIZ0AYGMrsMxpnQA\\u002fLAo44XGdA5qR6ivpoZ0C8eGi2n7pnQLBk66ABnGdAvMELLESWZ0As+C6zZc5nQJZdBugH9GdAFGJEfuPKZ0B00Z00AIZnQKN6RKrK22dA0PzDKDKfZ0DibQ1r38NnQJ8jHTqP2WdAByb6gR8IaEDJS+PqnT9oQJUKo+XaV2hANiX9qxphaEA2kNpX7z9oQGmrrsaxh2hAGxCh0wogaEDqvEepnNVpQBluraepwGpAkhFyLkekakCSeKAN+JRqQNLUJHKOG2tAaLU\\u002fQdSmakC5VDus7TVqQPtNaEbG4GlATokcjmEOakDk6zZlVFlqQCGna08Rv2pAA+e17YLhakDSSZBfJWxqQLiLYm6h7WpAPqGDCGtoa0BQbSOSCp1rQD54KciJSmxA20Ka9FNlbEBeAj97BZFsQHXpe22t02xA7nYT9OaEbEBgFZcMA3ZtQIqFlW\\u002fPRm1AUxHpG86VbEAYgsa8RrBsQHgSQkEkAmxAf6XNrvxHbEBQs9YvyvNrQOODVm3952tA44p7\\u002fEpGa0D3GMox9T5rQCuttd92B2tA+BhWzJVOa0AVe9sPWJZrQH8miBTK82tAznCTO09Na0DTePc2is1oQNAkdzWYk2lAc52gQJ\\u002fGaUDDiOlcrYxqQAVrADp3bGpAXrjrYw7zakC1kpvI7VBrQKnHPHC9gmtAOamiqGoDbECKF5NRtO1rQAgL6o4tJ2xAv4TyT8YobEBBbEq3uEBsQIT7dLpFaWxABK5qGkMlbEBrnkpuYkhsQMrmTCUeMGxAKkckRmxtbEDeUkXMB7NsQPVBdlfntWxAQ\\u002fnH44mBbEBz0JINi6VrQLUIMr6VpGtA2oI1kanua0BPIXveuIprQF\\u002fgcUgOTmtAZqqlNiifa0CcZIYbXcBrQCG+JTLZ4mtAokzcChACa0AbY7eV1uhqQFyJNt1PImtAGmsTjd4PbEDe\\u002fDwI4a5sQPBkPFnnWmxAI\\u002f8OWbuEbEDSb88H9A1sQNRcNnWgWWxAZuo\\u002fUqp+bEAqqvw\\u002fHbFsQGKFEtSCoGxAoQbRIpssbEBms+uIqBRsQOYhEdbIbGxAFqOSMjkAbEAERgpy1vlrQHGDMkmIF2xA2pvACvRobEDap3qEfJlsQG0DSAZUhmxAy0pXcRojbUC5dPO87OJsQMUVDBlbHW1Aq2l8hSl1bUB\\u002ffPuk7D1tQJLnujALLG1AXUHlRRwybUBYAjbdMq9sQFh4LwuJp2xA28hfENgZbUA9uRTB0RJtQPnzBFgsA21Ard1ba8OabEDoFcnmgo9rQMaki3kmkGtArkj3bgOqa0BNd5pa4MNrQPBWfuVfBGxAlM9UvHRdbEC3ZoWyFxhsQMH\\u002f9F61CWxAjTONfHL4a0BnLixquxhsQHLcaMfXRGxAwpj5axUgbEAqSETyYVdsQOfdG5XneWxAfTXVwh2UbECQONCo53lsQE5Ehe+V5mxAfEKoEFwibUAnaXLDzEZtQCz2IeyqUW1AflKQH02gbUBb8C3tffFtQK8BdOJNU25AVEXo8xp3bkDv8MA+lVRuQMby2KMPMm5AHLbpis3TbkAr+R9mAfZuQFujc6DN025AoiMFyofxbkDc0uLw9vZuQMsXM1fFOW9AqyWHBUJ8b0BhcGs6TeduQFYIvAeQ+G5AEKmYv6\\u002fPb0DhpLSBs+ZvQFOc3buAHnBA85pwzL8YcEBxPOjafn5vQGFVhVM1hW9AgCnY6wIVb0AAAACg92JuQEmSOXVVgW5AgWSREtJWbkD41Y8E8DRuQGJim3Hi921ApanHs8AobUCzXCjmv09tQHyodc87TG1A1ujm19uibUCjzRifrvtsQL00jaMg+GtAYyluGY5xa0DQXYcoyA9sQD96e2EPEWxAFvtZS8T4a0ARyutKFtNsQAtR06ScO21A7Q15SA3NbUAajlaTZN1uQBPipO+Yt2xAQ0jvbgNgbEAsJ5my7YhsQJsVMb0m4WxAu8LciAYLbUAAAACAPbJsQAAAAGBmhmxAAAAAYGbmbEAAAADAHp1tQAAAAAAAKG5AAAAAwMyEbkAAAADAHpVuQA==\"},\"x\":[\"2024-02-20T00:00:00.000000000\",\"2024-02-21T00:00:00.000000000\",\"2024-02-22T00:00:00.000000000\",\"2024-02-23T00:00:00.000000000\",\"2024-02-26T00:00:00.000000000\",\"2024-02-27T00:00:00.000000000\",\"2024-02-28T00:00:00.000000000\",\"2024-02-29T00:00:00.000000000\",\"2024-03-01T00:00:00.000000000\",\"2024-03-04T00:00:00.000000000\",\"2024-03-05T00:00:00.000000000\",\"2024-03-06T00:00:00.000000000\",\"2024-03-07T00:00:00.000000000\",\"2024-03-08T00:00:00.000000000\",\"2024-03-11T00:00:00.000000000\",\"2024-03-12T00:00:00.000000000\",\"2024-03-13T00:00:00.000000000\",\"2024-03-14T00:00:00.000000000\",\"2024-03-15T00:00:00.000000000\",\"2024-03-18T00:00:00.000000000\",\"2024-03-19T00:00:00.000000000\",\"2024-03-20T00:00:00.000000000\",\"2024-03-21T00:00:00.000000000\",\"2024-03-22T00:00:00.000000000\",\"2024-03-25T00:00:00.000000000\",\"2024-03-26T00:00:00.000000000\",\"2024-03-27T00:00:00.000000000\",\"2024-03-28T00:00:00.000000000\",\"2024-04-01T00:00:00.000000000\",\"2024-04-02T00:00:00.000000000\",\"2024-04-03T00:00:00.000000000\",\"2024-04-04T00:00:00.000000000\",\"2024-04-05T00:00:00.000000000\",\"2024-04-08T00:00:00.000000000\",\"2024-04-09T00:00:00.000000000\",\"2024-04-10T00:00:00.000000000\",\"2024-04-11T00:00:00.000000000\",\"2024-04-12T00:00:00.000000000\",\"2024-04-15T00:00:00.000000000\",\"2024-04-16T00:00:00.000000000\",\"2024-04-17T00:00:00.000000000\",\"2024-04-18T00:00:00.000000000\",\"2024-04-19T00:00:00.000000000\",\"2024-04-22T00:00:00.000000000\",\"2024-04-23T00:00:00.000000000\",\"2024-04-24T00:00:00.000000000\",\"2024-04-25T00:00:00.000000000\",\"2024-04-26T00:00:00.000000000\",\"2024-04-29T00:00:00.000000000\",\"2024-04-30T00:00:00.000000000\",\"2024-05-01T00:00:00.000000000\",\"2024-05-02T00:00:00.000000000\",\"2024-05-03T00:00:00.000000000\",\"2024-05-06T00:00:00.000000000\",\"2024-05-07T00:00:00.000000000\",\"2024-05-08T00:00:00.000000000\",\"2024-05-09T00:00:00.000000000\",\"2024-05-10T00:00:00.000000000\",\"2024-05-13T00:00:00.000000000\",\"2024-05-14T00:00:00.000000000\",\"2024-05-15T00:00:00.000000000\",\"2024-05-16T00:00:00.000000000\",\"2024-05-17T00:00:00.000000000\",\"2024-05-20T00:00:00.000000000\",\"2024-05-21T00:00:00.000000000\",\"2024-05-22T00:00:00.000000000\",\"2024-05-23T00:00:00.000000000\",\"2024-05-24T00:00:00.000000000\",\"2024-05-28T00:00:00.000000000\",\"2024-05-29T00:00:00.000000000\",\"2024-05-30T00:00:00.000000000\",\"2024-05-31T00:00:00.000000000\",\"2024-06-03T00:00:00.000000000\",\"2024-06-04T00:00:00.000000000\",\"2024-06-05T00:00:00.000000000\",\"2024-06-06T00:00:00.000000000\",\"2024-06-07T00:00:00.000000000\",\"2024-06-10T00:00:00.000000000\",\"2024-06-11T00:00:00.000000000\",\"2024-06-12T00:00:00.000000000\",\"2024-06-13T00:00:00.000000000\",\"2024-06-14T00:00:00.000000000\",\"2024-06-17T00:00:00.000000000\",\"2024-06-18T00:00:00.000000000\",\"2024-06-20T00:00:00.000000000\",\"2024-06-21T00:00:00.000000000\",\"2024-06-24T00:00:00.000000000\",\"2024-06-25T00:00:00.000000000\",\"2024-06-26T00:00:00.000000000\",\"2024-06-27T00:00:00.000000000\",\"2024-06-28T00:00:00.000000000\",\"2024-07-01T00:00:00.000000000\",\"2024-07-02T00:00:00.000000000\",\"2024-07-03T00:00:00.000000000\",\"2024-07-05T00:00:00.000000000\",\"2024-07-08T00:00:00.000000000\",\"2024-07-09T00:00:00.000000000\",\"2024-07-10T00:00:00.000000000\",\"2024-07-11T00:00:00.000000000\",\"2024-07-12T00:00:00.000000000\",\"2024-07-15T00:00:00.000000000\",\"2024-07-16T00:00:00.000000000\",\"2024-07-17T00:00:00.000000000\",\"2024-07-18T00:00:00.000000000\",\"2024-07-19T00:00:00.000000000\",\"2024-07-22T00:00:00.000000000\",\"2024-07-23T00:00:00.000000000\",\"2024-07-24T00:00:00.000000000\",\"2024-07-25T00:00:00.000000000\",\"2024-07-26T00:00:00.000000000\",\"2024-07-29T00:00:00.000000000\",\"2024-07-30T00:00:00.000000000\",\"2024-07-31T00:00:00.000000000\",\"2024-08-01T00:00:00.000000000\",\"2024-08-02T00:00:00.000000000\",\"2024-08-05T00:00:00.000000000\",\"2024-08-06T00:00:00.000000000\",\"2024-08-07T00:00:00.000000000\",\"2024-08-08T00:00:00.000000000\",\"2024-08-09T00:00:00.000000000\",\"2024-08-12T00:00:00.000000000\",\"2024-08-13T00:00:00.000000000\",\"2024-08-14T00:00:00.000000000\",\"2024-08-15T00:00:00.000000000\",\"2024-08-16T00:00:00.000000000\",\"2024-08-19T00:00:00.000000000\",\"2024-08-20T00:00:00.000000000\",\"2024-08-21T00:00:00.000000000\",\"2024-08-22T00:00:00.000000000\",\"2024-08-23T00:00:00.000000000\",\"2024-08-26T00:00:00.000000000\",\"2024-08-27T00:00:00.000000000\",\"2024-08-28T00:00:00.000000000\",\"2024-08-29T00:00:00.000000000\",\"2024-08-30T00:00:00.000000000\",\"2024-09-03T00:00:00.000000000\",\"2024-09-04T00:00:00.000000000\",\"2024-09-05T00:00:00.000000000\",\"2024-09-06T00:00:00.000000000\",\"2024-09-09T00:00:00.000000000\",\"2024-09-10T00:00:00.000000000\",\"2024-09-11T00:00:00.000000000\",\"2024-09-12T00:00:00.000000000\",\"2024-09-13T00:00:00.000000000\",\"2024-09-16T00:00:00.000000000\",\"2024-09-17T00:00:00.000000000\",\"2024-09-18T00:00:00.000000000\",\"2024-09-19T00:00:00.000000000\",\"2024-09-20T00:00:00.000000000\",\"2024-09-23T00:00:00.000000000\",\"2024-09-24T00:00:00.000000000\",\"2024-09-25T00:00:00.000000000\",\"2024-09-26T00:00:00.000000000\",\"2024-09-27T00:00:00.000000000\",\"2024-09-30T00:00:00.000000000\",\"2024-10-01T00:00:00.000000000\",\"2024-10-02T00:00:00.000000000\",\"2024-10-03T00:00:00.000000000\",\"2024-10-04T00:00:00.000000000\",\"2024-10-07T00:00:00.000000000\",\"2024-10-08T00:00:00.000000000\",\"2024-10-09T00:00:00.000000000\",\"2024-10-10T00:00:00.000000000\",\"2024-10-11T00:00:00.000000000\",\"2024-10-14T00:00:00.000000000\",\"2024-10-15T00:00:00.000000000\",\"2024-10-16T00:00:00.000000000\",\"2024-10-17T00:00:00.000000000\",\"2024-10-18T00:00:00.000000000\",\"2024-10-21T00:00:00.000000000\",\"2024-10-22T00:00:00.000000000\",\"2024-10-23T00:00:00.000000000\",\"2024-10-24T00:00:00.000000000\",\"2024-10-25T00:00:00.000000000\",\"2024-10-28T00:00:00.000000000\",\"2024-10-29T00:00:00.000000000\",\"2024-10-30T00:00:00.000000000\",\"2024-10-31T00:00:00.000000000\",\"2024-11-01T00:00:00.000000000\",\"2024-11-04T00:00:00.000000000\",\"2024-11-05T00:00:00.000000000\",\"2024-11-06T00:00:00.000000000\",\"2024-11-07T00:00:00.000000000\",\"2024-11-08T00:00:00.000000000\",\"2024-11-11T00:00:00.000000000\",\"2024-11-12T00:00:00.000000000\",\"2024-11-13T00:00:00.000000000\",\"2024-11-14T00:00:00.000000000\",\"2024-11-15T00:00:00.000000000\",\"2024-11-18T00:00:00.000000000\",\"2024-11-19T00:00:00.000000000\",\"2024-11-20T00:00:00.000000000\",\"2024-11-21T00:00:00.000000000\",\"2024-11-22T00:00:00.000000000\",\"2024-11-25T00:00:00.000000000\",\"2024-11-26T00:00:00.000000000\",\"2024-11-27T00:00:00.000000000\",\"2024-11-29T00:00:00.000000000\",\"2024-12-02T00:00:00.000000000\",\"2024-12-03T00:00:00.000000000\",\"2024-12-04T00:00:00.000000000\",\"2024-12-05T00:00:00.000000000\",\"2024-12-06T00:00:00.000000000\",\"2024-12-09T00:00:00.000000000\",\"2024-12-10T00:00:00.000000000\",\"2024-12-11T00:00:00.000000000\",\"2024-12-12T00:00:00.000000000\",\"2024-12-13T00:00:00.000000000\",\"2024-12-16T00:00:00.000000000\",\"2024-12-17T00:00:00.000000000\",\"2024-12-18T00:00:00.000000000\",\"2024-12-19T00:00:00.000000000\",\"2024-12-20T00:00:00.000000000\",\"2024-12-23T00:00:00.000000000\",\"2024-12-24T00:00:00.000000000\",\"2024-12-26T00:00:00.000000000\",\"2024-12-27T00:00:00.000000000\",\"2024-12-30T00:00:00.000000000\",\"2024-12-31T00:00:00.000000000\",\"2025-01-02T00:00:00.000000000\",\"2025-01-03T00:00:00.000000000\",\"2025-01-06T00:00:00.000000000\",\"2025-01-07T00:00:00.000000000\",\"2025-01-08T00:00:00.000000000\",\"2025-01-10T00:00:00.000000000\",\"2025-01-13T00:00:00.000000000\",\"2025-01-14T00:00:00.000000000\",\"2025-01-15T00:00:00.000000000\",\"2025-01-16T00:00:00.000000000\",\"2025-01-17T00:00:00.000000000\",\"2025-01-21T00:00:00.000000000\",\"2025-01-22T00:00:00.000000000\",\"2025-01-23T00:00:00.000000000\",\"2025-01-24T00:00:00.000000000\",\"2025-01-27T00:00:00.000000000\",\"2025-01-28T00:00:00.000000000\",\"2025-01-29T00:00:00.000000000\",\"2025-01-30T00:00:00.000000000\",\"2025-01-31T00:00:00.000000000\",\"2025-02-03T00:00:00.000000000\",\"2025-02-04T00:00:00.000000000\",\"2025-02-05T00:00:00.000000000\",\"2025-02-06T00:00:00.000000000\",\"2025-02-07T00:00:00.000000000\",\"2025-02-10T00:00:00.000000000\",\"2025-02-11T00:00:00.000000000\",\"2025-02-12T00:00:00.000000000\",\"2025-02-13T00:00:00.000000000\",\"2025-02-14T00:00:00.000000000\",\"2025-02-18T00:00:00.000000000\",\"2025-02-19T00:00:00.000000000\"],\"type\":\"candlestick\"}],                        {\"template\":{\"data\":{\"histogram2dcontour\":[{\"type\":\"histogram2dcontour\",\"colorbar\":{\"outlinewidth\":0,\"ticks\":\"\"},\"colorscale\":[[0.0,\"#0d0887\"],[0.1111111111111111,\"#46039f\"],[0.2222222222222222,\"#7201a8\"],[0.3333333333333333,\"#9c179e\"],[0.4444444444444444,\"#bd3786\"],[0.5555555555555556,\"#d8576b\"],[0.6666666666666666,\"#ed7953\"],[0.7777777777777778,\"#fb9f3a\"],[0.8888888888888888,\"#fdca26\"],[1.0,\"#f0f921\"]]}],\"choropleth\":[{\"type\":\"choropleth\",\"colorbar\":{\"outlinewidth\":0,\"ticks\":\"\"}}],\"histogram2d\":[{\"type\":\"histogram2d\",\"colorbar\":{\"outlinewidth\":0,\"ticks\":\"\"},\"colorscale\":[[0.0,\"#0d0887\"],[0.1111111111111111,\"#46039f\"],[0.2222222222222222,\"#7201a8\"],[0.3333333333333333,\"#9c179e\"],[0.4444444444444444,\"#bd3786\"],[0.5555555555555556,\"#d8576b\"],[0.6666666666666666,\"#ed7953\"],[0.7777777777777778,\"#fb9f3a\"],[0.8888888888888888,\"#fdca26\"],[1.0,\"#f0f921\"]]}],\"heatmap\":[{\"type\":\"heatmap\",\"colorbar\":{\"outlinewidth\":0,\"ticks\":\"\"},\"colorscale\":[[0.0,\"#0d0887\"],[0.1111111111111111,\"#46039f\"],[0.2222222222222222,\"#7201a8\"],[0.3333333333333333,\"#9c179e\"],[0.4444444444444444,\"#bd3786\"],[0.5555555555555556,\"#d8576b\"],[0.6666666666666666,\"#ed7953\"],[0.7777777777777778,\"#fb9f3a\"],[0.8888888888888888,\"#fdca26\"],[1.0,\"#f0f921\"]]}],\"contourcarpet\":[{\"type\":\"contourcarpet\",\"colorbar\":{\"outlinewidth\":0,\"ticks\":\"\"}}],\"contour\":[{\"type\":\"contour\",\"colorbar\":{\"outlinewidth\":0,\"ticks\":\"\"},\"colorscale\":[[0.0,\"#0d0887\"],[0.1111111111111111,\"#46039f\"],[0.2222222222222222,\"#7201a8\"],[0.3333333333333333,\"#9c179e\"],[0.4444444444444444,\"#bd3786\"],[0.5555555555555556,\"#d8576b\"],[0.6666666666666666,\"#ed7953\"],[0.7777777777777778,\"#fb9f3a\"],[0.8888888888888888,\"#fdca26\"],[1.0,\"#f0f921\"]]}],\"surface\":[{\"type\":\"surface\",\"colorbar\":{\"outlinewidth\":0,\"ticks\":\"\"},\"colorscale\":[[0.0,\"#0d0887\"],[0.1111111111111111,\"#46039f\"],[0.2222222222222222,\"#7201a8\"],[0.3333333333333333,\"#9c179e\"],[0.4444444444444444,\"#bd3786\"],[0.5555555555555556,\"#d8576b\"],[0.6666666666666666,\"#ed7953\"],[0.7777777777777778,\"#fb9f3a\"],[0.8888888888888888,\"#fdca26\"],[1.0,\"#f0f921\"]]}],\"mesh3d\":[{\"type\":\"mesh3d\",\"colorbar\":{\"outlinewidth\":0,\"ticks\":\"\"}}],\"scatter\":[{\"fillpattern\":{\"fillmode\":\"overlay\",\"size\":10,\"solidity\":0.2},\"type\":\"scatter\"}],\"parcoords\":[{\"type\":\"parcoords\",\"line\":{\"colorbar\":{\"outlinewidth\":0,\"ticks\":\"\"}}}],\"scatterpolargl\":[{\"type\":\"scatterpolargl\",\"marker\":{\"colorbar\":{\"outlinewidth\":0,\"ticks\":\"\"}}}],\"bar\":[{\"error_x\":{\"color\":\"#2a3f5f\"},\"error_y\":{\"color\":\"#2a3f5f\"},\"marker\":{\"line\":{\"color\":\"#E5ECF6\",\"width\":0.5},\"pattern\":{\"fillmode\":\"overlay\",\"size\":10,\"solidity\":0.2}},\"type\":\"bar\"}],\"scattergeo\":[{\"type\":\"scattergeo\",\"marker\":{\"colorbar\":{\"outlinewidth\":0,\"ticks\":\"\"}}}],\"scatterpolar\":[{\"type\":\"scatterpolar\",\"marker\":{\"colorbar\":{\"outlinewidth\":0,\"ticks\":\"\"}}}],\"histogram\":[{\"marker\":{\"pattern\":{\"fillmode\":\"overlay\",\"size\":10,\"solidity\":0.2}},\"type\":\"histogram\"}],\"scattergl\":[{\"type\":\"scattergl\",\"marker\":{\"colorbar\":{\"outlinewidth\":0,\"ticks\":\"\"}}}],\"scatter3d\":[{\"type\":\"scatter3d\",\"line\":{\"colorbar\":{\"outlinewidth\":0,\"ticks\":\"\"}},\"marker\":{\"colorbar\":{\"outlinewidth\":0,\"ticks\":\"\"}}}],\"scattermap\":[{\"type\":\"scattermap\",\"marker\":{\"colorbar\":{\"outlinewidth\":0,\"ticks\":\"\"}}}],\"scattermapbox\":[{\"type\":\"scattermapbox\",\"marker\":{\"colorbar\":{\"outlinewidth\":0,\"ticks\":\"\"}}}],\"scatterternary\":[{\"type\":\"scatterternary\",\"marker\":{\"colorbar\":{\"outlinewidth\":0,\"ticks\":\"\"}}}],\"scattercarpet\":[{\"type\":\"scattercarpet\",\"marker\":{\"colorbar\":{\"outlinewidth\":0,\"ticks\":\"\"}}}],\"carpet\":[{\"aaxis\":{\"endlinecolor\":\"#2a3f5f\",\"gridcolor\":\"white\",\"linecolor\":\"white\",\"minorgridcolor\":\"white\",\"startlinecolor\":\"#2a3f5f\"},\"baxis\":{\"endlinecolor\":\"#2a3f5f\",\"gridcolor\":\"white\",\"linecolor\":\"white\",\"minorgridcolor\":\"white\",\"startlinecolor\":\"#2a3f5f\"},\"type\":\"carpet\"}],\"table\":[{\"cells\":{\"fill\":{\"color\":\"#EBF0F8\"},\"line\":{\"color\":\"white\"}},\"header\":{\"fill\":{\"color\":\"#C8D4E3\"},\"line\":{\"color\":\"white\"}},\"type\":\"table\"}],\"barpolar\":[{\"marker\":{\"line\":{\"color\":\"#E5ECF6\",\"width\":0.5},\"pattern\":{\"fillmode\":\"overlay\",\"size\":10,\"solidity\":0.2}},\"type\":\"barpolar\"}],\"pie\":[{\"automargin\":true,\"type\":\"pie\"}]},\"layout\":{\"autotypenumbers\":\"strict\",\"colorway\":[\"#636efa\",\"#EF553B\",\"#00cc96\",\"#ab63fa\",\"#FFA15A\",\"#19d3f3\",\"#FF6692\",\"#B6E880\",\"#FF97FF\",\"#FECB52\"],\"font\":{\"color\":\"#2a3f5f\"},\"hovermode\":\"closest\",\"hoverlabel\":{\"align\":\"left\"},\"paper_bgcolor\":\"white\",\"plot_bgcolor\":\"#E5ECF6\",\"polar\":{\"bgcolor\":\"#E5ECF6\",\"angularaxis\":{\"gridcolor\":\"white\",\"linecolor\":\"white\",\"ticks\":\"\"},\"radialaxis\":{\"gridcolor\":\"white\",\"linecolor\":\"white\",\"ticks\":\"\"}},\"ternary\":{\"bgcolor\":\"#E5ECF6\",\"aaxis\":{\"gridcolor\":\"white\",\"linecolor\":\"white\",\"ticks\":\"\"},\"baxis\":{\"gridcolor\":\"white\",\"linecolor\":\"white\",\"ticks\":\"\"},\"caxis\":{\"gridcolor\":\"white\",\"linecolor\":\"white\",\"ticks\":\"\"}},\"coloraxis\":{\"colorbar\":{\"outlinewidth\":0,\"ticks\":\"\"}},\"colorscale\":{\"sequential\":[[0.0,\"#0d0887\"],[0.1111111111111111,\"#46039f\"],[0.2222222222222222,\"#7201a8\"],[0.3333333333333333,\"#9c179e\"],[0.4444444444444444,\"#bd3786\"],[0.5555555555555556,\"#d8576b\"],[0.6666666666666666,\"#ed7953\"],[0.7777777777777778,\"#fb9f3a\"],[0.8888888888888888,\"#fdca26\"],[1.0,\"#f0f921\"]],\"sequentialminus\":[[0.0,\"#0d0887\"],[0.1111111111111111,\"#46039f\"],[0.2222222222222222,\"#7201a8\"],[0.3333333333333333,\"#9c179e\"],[0.4444444444444444,\"#bd3786\"],[0.5555555555555556,\"#d8576b\"],[0.6666666666666666,\"#ed7953\"],[0.7777777777777778,\"#fb9f3a\"],[0.8888888888888888,\"#fdca26\"],[1.0,\"#f0f921\"]],\"diverging\":[[0,\"#8e0152\"],[0.1,\"#c51b7d\"],[0.2,\"#de77ae\"],[0.3,\"#f1b6da\"],[0.4,\"#fde0ef\"],[0.5,\"#f7f7f7\"],[0.6,\"#e6f5d0\"],[0.7,\"#b8e186\"],[0.8,\"#7fbc41\"],[0.9,\"#4d9221\"],[1,\"#276419\"]]},\"xaxis\":{\"gridcolor\":\"white\",\"linecolor\":\"white\",\"ticks\":\"\",\"title\":{\"standoff\":15},\"zerolinecolor\":\"white\",\"automargin\":true,\"zerolinewidth\":2},\"yaxis\":{\"gridcolor\":\"white\",\"linecolor\":\"white\",\"ticks\":\"\",\"title\":{\"standoff\":15},\"zerolinecolor\":\"white\",\"automargin\":true,\"zerolinewidth\":2},\"scene\":{\"xaxis\":{\"backgroundcolor\":\"#E5ECF6\",\"gridcolor\":\"white\",\"linecolor\":\"white\",\"showbackground\":true,\"ticks\":\"\",\"zerolinecolor\":\"white\",\"gridwidth\":2},\"yaxis\":{\"backgroundcolor\":\"#E5ECF6\",\"gridcolor\":\"white\",\"linecolor\":\"white\",\"showbackground\":true,\"ticks\":\"\",\"zerolinecolor\":\"white\",\"gridwidth\":2},\"zaxis\":{\"backgroundcolor\":\"#E5ECF6\",\"gridcolor\":\"white\",\"linecolor\":\"white\",\"showbackground\":true,\"ticks\":\"\",\"zerolinecolor\":\"white\",\"gridwidth\":2}},\"shapedefaults\":{\"line\":{\"color\":\"#2a3f5f\"}},\"annotationdefaults\":{\"arrowcolor\":\"#2a3f5f\",\"arrowhead\":0,\"arrowwidth\":1},\"geo\":{\"bgcolor\":\"white\",\"landcolor\":\"#E5ECF6\",\"subunitcolor\":\"white\",\"showland\":true,\"showlakes\":true,\"lakecolor\":\"white\"},\"title\":{\"x\":0.05},\"mapbox\":{\"style\":\"light\"}}},\"title\":{\"text\":\"AAPL Candle Chart\"},\"xaxis\":{\"title\":{\"text\":\"Date\"}},\"yaxis\":{\"title\":{\"text\":\"Price (USD)\"}}},                        {\"responsive\": true}                    ).then(function(){\n",
       "                            \n",
       "var gd = document.getElementById('75a77518-3495-48a2-b628-7079728ced5b');\n",
       "var x = new MutationObserver(function (mutations, observer) {{\n",
       "        var display = window.getComputedStyle(gd).display;\n",
       "        if (!display || display === 'none') {{\n",
       "            console.log([gd, 'removed!']);\n",
       "            Plotly.purge(gd);\n",
       "            observer.disconnect();\n",
       "        }}\n",
       "}});\n",
       "\n",
       "// Listen for the removal of the full notebook cells\n",
       "var notebookContainer = gd.closest('#notebook-container');\n",
       "if (notebookContainer) {{\n",
       "    x.observe(notebookContainer, {childList: true});\n",
       "}}\n",
       "\n",
       "// Listen for the clearing of the current output cell\n",
       "var outputEl = gd.closest('.output');\n",
       "if (outputEl) {{\n",
       "    x.observe(outputEl, {childList: true});\n",
       "}}\n",
       "\n",
       "                        })                };            </script>        </div>"
      ]
     },
     "metadata": {},
     "output_type": "display_data"
    }
   ],
   "source": [
    "fig = go.Figure(data=[go.Candlestick(\n",
    "    x=data.index,\n",
    "    open=data['Open'],\n",
    "    high=data['High'],\n",
    "    low=data['Low'],\n",
    "    close=data['Close']\n",
    ")])\n",
    "\n",
    "# Update the layout\n",
    "fig.update_layout(\n",
    "    title=f'{tickers[0]} Candle Chart',\n",
    "    xaxis_title='Date',\n",
    "    yaxis_title='Price (USD)'\n",
    ")\n",
    "\n",
    "# Show the plot\n",
    "fig.show()\n",
    "\n"
   ]
  },
  {
   "cell_type": "markdown",
   "id": "1b08830f-d815-44ca-b288-811f7e0a9517",
   "metadata": {},
   "source": [
    "# plotting a open high low close chart"
   ]
  },
  {
   "cell_type": "code",
   "execution_count": 4,
   "id": "ddceff37-d4b1-4715-b3aa-f2b6544ea80c",
   "metadata": {},
   "outputs": [
    {
     "data": {
      "application/vnd.plotly.v1+json": {
       "config": {
        "plotlyServerURL": "https://plot.ly"
       },
       "data": [
        {
         "close": {
          "bdata": "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",
          "dtype": "f8"
         },
         "high": {
          "bdata": "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",
          "dtype": "f8"
         },
         "low": {
          "bdata": "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",
          "dtype": "f8"
         },
         "open": {
          "bdata": "kBgkpfCdZkBRUzkBuKJmQLKYr0PE02ZAPge6An8EZ0DDOo7rRaxmQNEmqOf2h2ZA3ehBad+0ZkBZEe4aYY1mQAATJByZVmZAr4OqM0/qZUAjCki8oz5lQI0ZUq8xSGVAAACpeVwLZUC24ZCalQZlQJgCX28ShGVAPRyAdMKKZUDjQ3xcqH5lQAu9/NYdg2VAIVsuk7JLZUC4VZkm1tdlQAylSj2psGVAPeL6Ep3cZUAWO8wx+QZmQDbZCkV9XmVA/jugp5Y4ZUA1DN0VbyZlQGlOFQZ+M2VAU2vUmiteZUDrR0bXVUxlQAffieIhCWVAyEUiPOX/ZEA6m/mHqy9lQMZKfz1gGWVAk5qtS4oHZUAxVRWYB/1kQBRv4to2AGVAxc7HMpDxZECsZSjqHK5lQCN1wdQl0WVAmmHLwSteZUAAgNUjAxplQK7vkKKw52RAAIAsSrmtZECUVLyRv5dkQGXtnkxVkmRA1mhx+ju4ZECRayjcdhdlQJfAi6ucImVAltxNYcSRZUBsbFxAfpBlQJ5uWpgOGWVAOfsKZWB2ZUAUEAO7ujhnQF0IW/zGr2ZAQQBks8/SZkAlHdWDs79mQHmgHCJ3tmZAonsz/PoIZ0AYGMrsMxpnQA/LAo44XGdA5qR6ivpoZ0C8eGi2n7pnQLBk66ABnGdAvMELLESWZ0As+C6zZc5nQJZdBugH9GdAFGJEfuPKZ0B00Z00AIZnQKN6RKrK22dA0PzDKDKfZ0DibQ1r38NnQJ8jHTqP2WdAByb6gR8IaEDJS+PqnT9oQJUKo+XaV2hANiX9qxphaEA2kNpX7z9oQGmrrsaxh2hAGxCh0wogaEDqvEepnNVpQBluraepwGpAkhFyLkekakCSeKAN+JRqQNLUJHKOG2tAaLU/QdSmakC5VDus7TVqQPtNaEbG4GlATokcjmEOakDk6zZlVFlqQCGna08Rv2pAA+e17YLhakDSSZBfJWxqQLiLYm6h7WpAPqGDCGtoa0BQbSOSCp1rQD54KciJSmxA20Ka9FNlbEBeAj97BZFsQHXpe22t02xA7nYT9OaEbEBgFZcMA3ZtQIqFlW/PRm1AUxHpG86VbEAYgsa8RrBsQHgSQkEkAmxAf6XNrvxHbEBQs9YvyvNrQOODVm3952tA44p7/EpGa0D3GMox9T5rQCuttd92B2tA+BhWzJVOa0AVe9sPWJZrQH8miBTK82tAznCTO09Na0DTePc2is1oQNAkdzWYk2lAc52gQJ/GaUDDiOlcrYxqQAVrADp3bGpAXrjrYw7zakC1kpvI7VBrQKnHPHC9gmtAOamiqGoDbECKF5NRtO1rQAgL6o4tJ2xAv4TyT8YobEBBbEq3uEBsQIT7dLpFaWxABK5qGkMlbEBrnkpuYkhsQMrmTCUeMGxAKkckRmxtbEDeUkXMB7NsQPVBdlfntWxAQ/nH44mBbEBz0JINi6VrQLUIMr6VpGtA2oI1kanua0BPIXveuIprQF/gcUgOTmtAZqqlNiifa0CcZIYbXcBrQCG+JTLZ4mtAokzcChACa0AbY7eV1uhqQFyJNt1PImtAGmsTjd4PbEDe/DwI4a5sQPBkPFnnWmxAI/8OWbuEbEDSb88H9A1sQNRcNnWgWWxAZuo/Uqp+bEAqqvw/HbFsQGKFEtSCoGxAoQbRIpssbEBms+uIqBRsQOYhEdbIbGxAFqOSMjkAbEAERgpy1vlrQHGDMkmIF2xA2pvACvRobEDap3qEfJlsQG0DSAZUhmxAy0pXcRojbUC5dPO87OJsQMUVDBlbHW1Aq2l8hSl1bUB/fPuk7D1tQJLnujALLG1AXUHlRRwybUBYAjbdMq9sQFh4LwuJp2xA28hfENgZbUA9uRTB0RJtQPnzBFgsA21Ard1ba8OabEDoFcnmgo9rQMaki3kmkGtArkj3bgOqa0BNd5pa4MNrQPBWfuVfBGxAlM9UvHRdbEC3ZoWyFxhsQMH/9F61CWxAjTONfHL4a0BnLixquxhsQHLcaMfXRGxAwpj5axUgbEAqSETyYVdsQOfdG5XneWxAfTXVwh2UbECQONCo53lsQE5Ehe+V5mxAfEKoEFwibUAnaXLDzEZtQCz2IeyqUW1AflKQH02gbUBb8C3tffFtQK8BdOJNU25AVEXo8xp3bkDv8MA+lVRuQMby2KMPMm5AHLbpis3TbkAr+R9mAfZuQFujc6DN025AoiMFyofxbkDc0uLw9vZuQMsXM1fFOW9AqyWHBUJ8b0BhcGs6TeduQFYIvAeQ+G5AEKmYv6/Pb0DhpLSBs+ZvQFOc3buAHnBA85pwzL8YcEBxPOjafn5vQGFVhVM1hW9AgCnY6wIVb0AAAACg92JuQEmSOXVVgW5AgWSREtJWbkD41Y8E8DRuQGJim3Hi921ApanHs8AobUCzXCjmv09tQHyodc87TG1A1ujm19uibUCjzRifrvtsQL00jaMg+GtAYyluGY5xa0DQXYcoyA9sQD96e2EPEWxAFvtZS8T4a0ARyutKFtNsQAtR06ScO21A7Q15SA3NbUAajlaTZN1uQBPipO+Yt2xAQ0jvbgNgbEAsJ5my7YhsQJsVMb0m4WxAu8LciAYLbUAAAACAPbJsQAAAAGBmhmxAAAAAYGbmbEAAAADAHp1tQAAAAAAAKG5AAAAAwMyEbkAAAADAHpVuQA==",
          "dtype": "f8"
         },
         "type": "ohlc",
         "x": [
          "2024-02-20T00:00:00.000000000",
          "2024-02-21T00:00:00.000000000",
          "2024-02-22T00:00:00.000000000",
          "2024-02-23T00:00:00.000000000",
          "2024-02-26T00:00:00.000000000",
          "2024-02-27T00:00:00.000000000",
          "2024-02-28T00:00:00.000000000",
          "2024-02-29T00:00:00.000000000",
          "2024-03-01T00:00:00.000000000",
          "2024-03-04T00:00:00.000000000",
          "2024-03-05T00:00:00.000000000",
          "2024-03-06T00:00:00.000000000",
          "2024-03-07T00:00:00.000000000",
          "2024-03-08T00:00:00.000000000",
          "2024-03-11T00:00:00.000000000",
          "2024-03-12T00:00:00.000000000",
          "2024-03-13T00:00:00.000000000",
          "2024-03-14T00:00:00.000000000",
          "2024-03-15T00:00:00.000000000",
          "2024-03-18T00:00:00.000000000",
          "2024-03-19T00:00:00.000000000",
          "2024-03-20T00:00:00.000000000",
          "2024-03-21T00:00:00.000000000",
          "2024-03-22T00:00:00.000000000",
          "2024-03-25T00:00:00.000000000",
          "2024-03-26T00:00:00.000000000",
          "2024-03-27T00:00:00.000000000",
          "2024-03-28T00:00:00.000000000",
          "2024-04-01T00:00:00.000000000",
          "2024-04-02T00:00:00.000000000",
          "2024-04-03T00:00:00.000000000",
          "2024-04-04T00:00:00.000000000",
          "2024-04-05T00:00:00.000000000",
          "2024-04-08T00:00:00.000000000",
          "2024-04-09T00:00:00.000000000",
          "2024-04-10T00:00:00.000000000",
          "2024-04-11T00:00:00.000000000",
          "2024-04-12T00:00:00.000000000",
          "2024-04-15T00:00:00.000000000",
          "2024-04-16T00:00:00.000000000",
          "2024-04-17T00:00:00.000000000",
          "2024-04-18T00:00:00.000000000",
          "2024-04-19T00:00:00.000000000",
          "2024-04-22T00:00:00.000000000",
          "2024-04-23T00:00:00.000000000",
          "2024-04-24T00:00:00.000000000",
          "2024-04-25T00:00:00.000000000",
          "2024-04-26T00:00:00.000000000",
          "2024-04-29T00:00:00.000000000",
          "2024-04-30T00:00:00.000000000",
          "2024-05-01T00:00:00.000000000",
          "2024-05-02T00:00:00.000000000",
          "2024-05-03T00:00:00.000000000",
          "2024-05-06T00:00:00.000000000",
          "2024-05-07T00:00:00.000000000",
          "2024-05-08T00:00:00.000000000",
          "2024-05-09T00:00:00.000000000",
          "2024-05-10T00:00:00.000000000",
          "2024-05-13T00:00:00.000000000",
          "2024-05-14T00:00:00.000000000",
          "2024-05-15T00:00:00.000000000",
          "2024-05-16T00:00:00.000000000",
          "2024-05-17T00:00:00.000000000",
          "2024-05-20T00:00:00.000000000",
          "2024-05-21T00:00:00.000000000",
          "2024-05-22T00:00:00.000000000",
          "2024-05-23T00:00:00.000000000",
          "2024-05-24T00:00:00.000000000",
          "2024-05-28T00:00:00.000000000",
          "2024-05-29T00:00:00.000000000",
          "2024-05-30T00:00:00.000000000",
          "2024-05-31T00:00:00.000000000",
          "2024-06-03T00:00:00.000000000",
          "2024-06-04T00:00:00.000000000",
          "2024-06-05T00:00:00.000000000",
          "2024-06-06T00:00:00.000000000",
          "2024-06-07T00:00:00.000000000",
          "2024-06-10T00:00:00.000000000",
          "2024-06-11T00:00:00.000000000",
          "2024-06-12T00:00:00.000000000",
          "2024-06-13T00:00:00.000000000",
          "2024-06-14T00:00:00.000000000",
          "2024-06-17T00:00:00.000000000",
          "2024-06-18T00:00:00.000000000",
          "2024-06-20T00:00:00.000000000",
          "2024-06-21T00:00:00.000000000",
          "2024-06-24T00:00:00.000000000",
          "2024-06-25T00:00:00.000000000",
          "2024-06-26T00:00:00.000000000",
          "2024-06-27T00:00:00.000000000",
          "2024-06-28T00:00:00.000000000",
          "2024-07-01T00:00:00.000000000",
          "2024-07-02T00:00:00.000000000",
          "2024-07-03T00:00:00.000000000",
          "2024-07-05T00:00:00.000000000",
          "2024-07-08T00:00:00.000000000",
          "2024-07-09T00:00:00.000000000",
          "2024-07-10T00:00:00.000000000",
          "2024-07-11T00:00:00.000000000",
          "2024-07-12T00:00:00.000000000",
          "2024-07-15T00:00:00.000000000",
          "2024-07-16T00:00:00.000000000",
          "2024-07-17T00:00:00.000000000",
          "2024-07-18T00:00:00.000000000",
          "2024-07-19T00:00:00.000000000",
          "2024-07-22T00:00:00.000000000",
          "2024-07-23T00:00:00.000000000",
          "2024-07-24T00:00:00.000000000",
          "2024-07-25T00:00:00.000000000",
          "2024-07-26T00:00:00.000000000",
          "2024-07-29T00:00:00.000000000",
          "2024-07-30T00:00:00.000000000",
          "2024-07-31T00:00:00.000000000",
          "2024-08-01T00:00:00.000000000",
          "2024-08-02T00:00:00.000000000",
          "2024-08-05T00:00:00.000000000",
          "2024-08-06T00:00:00.000000000",
          "2024-08-07T00:00:00.000000000",
          "2024-08-08T00:00:00.000000000",
          "2024-08-09T00:00:00.000000000",
          "2024-08-12T00:00:00.000000000",
          "2024-08-13T00:00:00.000000000",
          "2024-08-14T00:00:00.000000000",
          "2024-08-15T00:00:00.000000000",
          "2024-08-16T00:00:00.000000000",
          "2024-08-19T00:00:00.000000000",
          "2024-08-20T00:00:00.000000000",
          "2024-08-21T00:00:00.000000000",
          "2024-08-22T00:00:00.000000000",
          "2024-08-23T00:00:00.000000000",
          "2024-08-26T00:00:00.000000000",
          "2024-08-27T00:00:00.000000000",
          "2024-08-28T00:00:00.000000000",
          "2024-08-29T00:00:00.000000000",
          "2024-08-30T00:00:00.000000000",
          "2024-09-03T00:00:00.000000000",
          "2024-09-04T00:00:00.000000000",
          "2024-09-05T00:00:00.000000000",
          "2024-09-06T00:00:00.000000000",
          "2024-09-09T00:00:00.000000000",
          "2024-09-10T00:00:00.000000000",
          "2024-09-11T00:00:00.000000000",
          "2024-09-12T00:00:00.000000000",
          "2024-09-13T00:00:00.000000000",
          "2024-09-16T00:00:00.000000000",
          "2024-09-17T00:00:00.000000000",
          "2024-09-18T00:00:00.000000000",
          "2024-09-19T00:00:00.000000000",
          "2024-09-20T00:00:00.000000000",
          "2024-09-23T00:00:00.000000000",
          "2024-09-24T00:00:00.000000000",
          "2024-09-25T00:00:00.000000000",
          "2024-09-26T00:00:00.000000000",
          "2024-09-27T00:00:00.000000000",
          "2024-09-30T00:00:00.000000000",
          "2024-10-01T00:00:00.000000000",
          "2024-10-02T00:00:00.000000000",
          "2024-10-03T00:00:00.000000000",
          "2024-10-04T00:00:00.000000000",
          "2024-10-07T00:00:00.000000000",
          "2024-10-08T00:00:00.000000000",
          "2024-10-09T00:00:00.000000000",
          "2024-10-10T00:00:00.000000000",
          "2024-10-11T00:00:00.000000000",
          "2024-10-14T00:00:00.000000000",
          "2024-10-15T00:00:00.000000000",
          "2024-10-16T00:00:00.000000000",
          "2024-10-17T00:00:00.000000000",
          "2024-10-18T00:00:00.000000000",
          "2024-10-21T00:00:00.000000000",
          "2024-10-22T00:00:00.000000000",
          "2024-10-23T00:00:00.000000000",
          "2024-10-24T00:00:00.000000000",
          "2024-10-25T00:00:00.000000000",
          "2024-10-28T00:00:00.000000000",
          "2024-10-29T00:00:00.000000000",
          "2024-10-30T00:00:00.000000000",
          "2024-10-31T00:00:00.000000000",
          "2024-11-01T00:00:00.000000000",
          "2024-11-04T00:00:00.000000000",
          "2024-11-05T00:00:00.000000000",
          "2024-11-06T00:00:00.000000000",
          "2024-11-07T00:00:00.000000000",
          "2024-11-08T00:00:00.000000000",
          "2024-11-11T00:00:00.000000000",
          "2024-11-12T00:00:00.000000000",
          "2024-11-13T00:00:00.000000000",
          "2024-11-14T00:00:00.000000000",
          "2024-11-15T00:00:00.000000000",
          "2024-11-18T00:00:00.000000000",
          "2024-11-19T00:00:00.000000000",
          "2024-11-20T00:00:00.000000000",
          "2024-11-21T00:00:00.000000000",
          "2024-11-22T00:00:00.000000000",
          "2024-11-25T00:00:00.000000000",
          "2024-11-26T00:00:00.000000000",
          "2024-11-27T00:00:00.000000000",
          "2024-11-29T00:00:00.000000000",
          "2024-12-02T00:00:00.000000000",
          "2024-12-03T00:00:00.000000000",
          "2024-12-04T00:00:00.000000000",
          "2024-12-05T00:00:00.000000000",
          "2024-12-06T00:00:00.000000000",
          "2024-12-09T00:00:00.000000000",
          "2024-12-10T00:00:00.000000000",
          "2024-12-11T00:00:00.000000000",
          "2024-12-12T00:00:00.000000000",
          "2024-12-13T00:00:00.000000000",
          "2024-12-16T00:00:00.000000000",
          "2024-12-17T00:00:00.000000000",
          "2024-12-18T00:00:00.000000000",
          "2024-12-19T00:00:00.000000000",
          "2024-12-20T00:00:00.000000000",
          "2024-12-23T00:00:00.000000000",
          "2024-12-24T00:00:00.000000000",
          "2024-12-26T00:00:00.000000000",
          "2024-12-27T00:00:00.000000000",
          "2024-12-30T00:00:00.000000000",
          "2024-12-31T00:00:00.000000000",
          "2025-01-02T00:00:00.000000000",
          "2025-01-03T00:00:00.000000000",
          "2025-01-06T00:00:00.000000000",
          "2025-01-07T00:00:00.000000000",
          "2025-01-08T00:00:00.000000000",
          "2025-01-10T00:00:00.000000000",
          "2025-01-13T00:00:00.000000000",
          "2025-01-14T00:00:00.000000000",
          "2025-01-15T00:00:00.000000000",
          "2025-01-16T00:00:00.000000000",
          "2025-01-17T00:00:00.000000000",
          "2025-01-21T00:00:00.000000000",
          "2025-01-22T00:00:00.000000000",
          "2025-01-23T00:00:00.000000000",
          "2025-01-24T00:00:00.000000000",
          "2025-01-27T00:00:00.000000000",
          "2025-01-28T00:00:00.000000000",
          "2025-01-29T00:00:00.000000000",
          "2025-01-30T00:00:00.000000000",
          "2025-01-31T00:00:00.000000000",
          "2025-02-03T00:00:00.000000000",
          "2025-02-04T00:00:00.000000000",
          "2025-02-05T00:00:00.000000000",
          "2025-02-06T00:00:00.000000000",
          "2025-02-07T00:00:00.000000000",
          "2025-02-10T00:00:00.000000000",
          "2025-02-11T00:00:00.000000000",
          "2025-02-12T00:00:00.000000000",
          "2025-02-13T00:00:00.000000000",
          "2025-02-14T00:00:00.000000000",
          "2025-02-18T00:00:00.000000000",
          "2025-02-19T00:00:00.000000000"
         ]
        }
       ],
       "layout": {
        "template": {
         "data": {
          "bar": [
           {
            "error_x": {
             "color": "#2a3f5f"
            },
            "error_y": {
             "color": "#2a3f5f"
            },
            "marker": {
             "line": {
              "color": "#E5ECF6",
              "width": 0.5
             },
             "pattern": {
              "fillmode": "overlay",
              "size": 10,
              "solidity": 0.2
             }
            },
            "type": "bar"
           }
          ],
          "barpolar": [
           {
            "marker": {
             "line": {
              "color": "#E5ECF6",
              "width": 0.5
             },
             "pattern": {
              "fillmode": "overlay",
              "size": 10,
              "solidity": 0.2
             }
            },
            "type": "barpolar"
           }
          ],
          "carpet": [
           {
            "aaxis": {
             "endlinecolor": "#2a3f5f",
             "gridcolor": "white",
             "linecolor": "white",
             "minorgridcolor": "white",
             "startlinecolor": "#2a3f5f"
            },
            "baxis": {
             "endlinecolor": "#2a3f5f",
             "gridcolor": "white",
             "linecolor": "white",
             "minorgridcolor": "white",
             "startlinecolor": "#2a3f5f"
            },
            "type": "carpet"
           }
          ],
          "choropleth": [
           {
            "colorbar": {
             "outlinewidth": 0,
             "ticks": ""
            },
            "type": "choropleth"
           }
          ],
          "contour": [
           {
            "colorbar": {
             "outlinewidth": 0,
             "ticks": ""
            },
            "colorscale": [
             [
              0,
              "#0d0887"
             ],
             [
              0.1111111111111111,
              "#46039f"
             ],
             [
              0.2222222222222222,
              "#7201a8"
             ],
             [
              0.3333333333333333,
              "#9c179e"
             ],
             [
              0.4444444444444444,
              "#bd3786"
             ],
             [
              0.5555555555555556,
              "#d8576b"
             ],
             [
              0.6666666666666666,
              "#ed7953"
             ],
             [
              0.7777777777777778,
              "#fb9f3a"
             ],
             [
              0.8888888888888888,
              "#fdca26"
             ],
             [
              1,
              "#f0f921"
             ]
            ],
            "type": "contour"
           }
          ],
          "contourcarpet": [
           {
            "colorbar": {
             "outlinewidth": 0,
             "ticks": ""
            },
            "type": "contourcarpet"
           }
          ],
          "heatmap": [
           {
            "colorbar": {
             "outlinewidth": 0,
             "ticks": ""
            },
            "colorscale": [
             [
              0,
              "#0d0887"
             ],
             [
              0.1111111111111111,
              "#46039f"
             ],
             [
              0.2222222222222222,
              "#7201a8"
             ],
             [
              0.3333333333333333,
              "#9c179e"
             ],
             [
              0.4444444444444444,
              "#bd3786"
             ],
             [
              0.5555555555555556,
              "#d8576b"
             ],
             [
              0.6666666666666666,
              "#ed7953"
             ],
             [
              0.7777777777777778,
              "#fb9f3a"
             ],
             [
              0.8888888888888888,
              "#fdca26"
             ],
             [
              1,
              "#f0f921"
             ]
            ],
            "type": "heatmap"
           }
          ],
          "histogram": [
           {
            "marker": {
             "pattern": {
              "fillmode": "overlay",
              "size": 10,
              "solidity": 0.2
             }
            },
            "type": "histogram"
           }
          ],
          "histogram2d": [
           {
            "colorbar": {
             "outlinewidth": 0,
             "ticks": ""
            },
            "colorscale": [
             [
              0,
              "#0d0887"
             ],
             [
              0.1111111111111111,
              "#46039f"
             ],
             [
              0.2222222222222222,
              "#7201a8"
             ],
             [
              0.3333333333333333,
              "#9c179e"
             ],
             [
              0.4444444444444444,
              "#bd3786"
             ],
             [
              0.5555555555555556,
              "#d8576b"
             ],
             [
              0.6666666666666666,
              "#ed7953"
             ],
             [
              0.7777777777777778,
              "#fb9f3a"
             ],
             [
              0.8888888888888888,
              "#fdca26"
             ],
             [
              1,
              "#f0f921"
             ]
            ],
            "type": "histogram2d"
           }
          ],
          "histogram2dcontour": [
           {
            "colorbar": {
             "outlinewidth": 0,
             "ticks": ""
            },
            "colorscale": [
             [
              0,
              "#0d0887"
             ],
             [
              0.1111111111111111,
              "#46039f"
             ],
             [
              0.2222222222222222,
              "#7201a8"
             ],
             [
              0.3333333333333333,
              "#9c179e"
             ],
             [
              0.4444444444444444,
              "#bd3786"
             ],
             [
              0.5555555555555556,
              "#d8576b"
             ],
             [
              0.6666666666666666,
              "#ed7953"
             ],
             [
              0.7777777777777778,
              "#fb9f3a"
             ],
             [
              0.8888888888888888,
              "#fdca26"
             ],
             [
              1,
              "#f0f921"
             ]
            ],
            "type": "histogram2dcontour"
           }
          ],
          "mesh3d": [
           {
            "colorbar": {
             "outlinewidth": 0,
             "ticks": ""
            },
            "type": "mesh3d"
           }
          ],
          "parcoords": [
           {
            "line": {
             "colorbar": {
              "outlinewidth": 0,
              "ticks": ""
             }
            },
            "type": "parcoords"
           }
          ],
          "pie": [
           {
            "automargin": true,
            "type": "pie"
           }
          ],
          "scatter": [
           {
            "fillpattern": {
             "fillmode": "overlay",
             "size": 10,
             "solidity": 0.2
            },
            "type": "scatter"
           }
          ],
          "scatter3d": [
           {
            "line": {
             "colorbar": {
              "outlinewidth": 0,
              "ticks": ""
             }
            },
            "marker": {
             "colorbar": {
              "outlinewidth": 0,
              "ticks": ""
             }
            },
            "type": "scatter3d"
           }
          ],
          "scattercarpet": [
           {
            "marker": {
             "colorbar": {
              "outlinewidth": 0,
              "ticks": ""
             }
            },
            "type": "scattercarpet"
           }
          ],
          "scattergeo": [
           {
            "marker": {
             "colorbar": {
              "outlinewidth": 0,
              "ticks": ""
             }
            },
            "type": "scattergeo"
           }
          ],
          "scattergl": [
           {
            "marker": {
             "colorbar": {
              "outlinewidth": 0,
              "ticks": ""
             }
            },
            "type": "scattergl"
           }
          ],
          "scattermap": [
           {
            "marker": {
             "colorbar": {
              "outlinewidth": 0,
              "ticks": ""
             }
            },
            "type": "scattermap"
           }
          ],
          "scattermapbox": [
           {
            "marker": {
             "colorbar": {
              "outlinewidth": 0,
              "ticks": ""
             }
            },
            "type": "scattermapbox"
           }
          ],
          "scatterpolar": [
           {
            "marker": {
             "colorbar": {
              "outlinewidth": 0,
              "ticks": ""
             }
            },
            "type": "scatterpolar"
           }
          ],
          "scatterpolargl": [
           {
            "marker": {
             "colorbar": {
              "outlinewidth": 0,
              "ticks": ""
             }
            },
            "type": "scatterpolargl"
           }
          ],
          "scatterternary": [
           {
            "marker": {
             "colorbar": {
              "outlinewidth": 0,
              "ticks": ""
             }
            },
            "type": "scatterternary"
           }
          ],
          "surface": [
           {
            "colorbar": {
             "outlinewidth": 0,
             "ticks": ""
            },
            "colorscale": [
             [
              0,
              "#0d0887"
             ],
             [
              0.1111111111111111,
              "#46039f"
             ],
             [
              0.2222222222222222,
              "#7201a8"
             ],
             [
              0.3333333333333333,
              "#9c179e"
             ],
             [
              0.4444444444444444,
              "#bd3786"
             ],
             [
              0.5555555555555556,
              "#d8576b"
             ],
             [
              0.6666666666666666,
              "#ed7953"
             ],
             [
              0.7777777777777778,
              "#fb9f3a"
             ],
             [
              0.8888888888888888,
              "#fdca26"
             ],
             [
              1,
              "#f0f921"
             ]
            ],
            "type": "surface"
           }
          ],
          "table": [
           {
            "cells": {
             "fill": {
              "color": "#EBF0F8"
             },
             "line": {
              "color": "white"
             }
            },
            "header": {
             "fill": {
              "color": "#C8D4E3"
             },
             "line": {
              "color": "white"
             }
            },
            "type": "table"
           }
          ]
         },
         "layout": {
          "annotationdefaults": {
           "arrowcolor": "#2a3f5f",
           "arrowhead": 0,
           "arrowwidth": 1
          },
          "autotypenumbers": "strict",
          "coloraxis": {
           "colorbar": {
            "outlinewidth": 0,
            "ticks": ""
           }
          },
          "colorscale": {
           "diverging": [
            [
             0,
             "#8e0152"
            ],
            [
             0.1,
             "#c51b7d"
            ],
            [
             0.2,
             "#de77ae"
            ],
            [
             0.3,
             "#f1b6da"
            ],
            [
             0.4,
             "#fde0ef"
            ],
            [
             0.5,
             "#f7f7f7"
            ],
            [
             0.6,
             "#e6f5d0"
            ],
            [
             0.7,
             "#b8e186"
            ],
            [
             0.8,
             "#7fbc41"
            ],
            [
             0.9,
             "#4d9221"
            ],
            [
             1,
             "#276419"
            ]
           ],
           "sequential": [
            [
             0,
             "#0d0887"
            ],
            [
             0.1111111111111111,
             "#46039f"
            ],
            [
             0.2222222222222222,
             "#7201a8"
            ],
            [
             0.3333333333333333,
             "#9c179e"
            ],
            [
             0.4444444444444444,
             "#bd3786"
            ],
            [
             0.5555555555555556,
             "#d8576b"
            ],
            [
             0.6666666666666666,
             "#ed7953"
            ],
            [
             0.7777777777777778,
             "#fb9f3a"
            ],
            [
             0.8888888888888888,
             "#fdca26"
            ],
            [
             1,
             "#f0f921"
            ]
           ],
           "sequentialminus": [
            [
             0,
             "#0d0887"
            ],
            [
             0.1111111111111111,
             "#46039f"
            ],
            [
             0.2222222222222222,
             "#7201a8"
            ],
            [
             0.3333333333333333,
             "#9c179e"
            ],
            [
             0.4444444444444444,
             "#bd3786"
            ],
            [
             0.5555555555555556,
             "#d8576b"
            ],
            [
             0.6666666666666666,
             "#ed7953"
            ],
            [
             0.7777777777777778,
             "#fb9f3a"
            ],
            [
             0.8888888888888888,
             "#fdca26"
            ],
            [
             1,
             "#f0f921"
            ]
           ]
          },
          "colorway": [
           "#636efa",
           "#EF553B",
           "#00cc96",
           "#ab63fa",
           "#FFA15A",
           "#19d3f3",
           "#FF6692",
           "#B6E880",
           "#FF97FF",
           "#FECB52"
          ],
          "font": {
           "color": "#2a3f5f"
          },
          "geo": {
           "bgcolor": "white",
           "lakecolor": "white",
           "landcolor": "#E5ECF6",
           "showlakes": true,
           "showland": true,
           "subunitcolor": "white"
          },
          "hoverlabel": {
           "align": "left"
          },
          "hovermode": "closest",
          "mapbox": {
           "style": "light"
          },
          "paper_bgcolor": "white",
          "plot_bgcolor": "#E5ECF6",
          "polar": {
           "angularaxis": {
            "gridcolor": "white",
            "linecolor": "white",
            "ticks": ""
           },
           "bgcolor": "#E5ECF6",
           "radialaxis": {
            "gridcolor": "white",
            "linecolor": "white",
            "ticks": ""
           }
          },
          "scene": {
           "xaxis": {
            "backgroundcolor": "#E5ECF6",
            "gridcolor": "white",
            "gridwidth": 2,
            "linecolor": "white",
            "showbackground": true,
            "ticks": "",
            "zerolinecolor": "white"
           },
           "yaxis": {
            "backgroundcolor": "#E5ECF6",
            "gridcolor": "white",
            "gridwidth": 2,
            "linecolor": "white",
            "showbackground": true,
            "ticks": "",
            "zerolinecolor": "white"
           },
           "zaxis": {
            "backgroundcolor": "#E5ECF6",
            "gridcolor": "white",
            "gridwidth": 2,
            "linecolor": "white",
            "showbackground": true,
            "ticks": "",
            "zerolinecolor": "white"
           }
          },
          "shapedefaults": {
           "line": {
            "color": "#2a3f5f"
           }
          },
          "ternary": {
           "aaxis": {
            "gridcolor": "white",
            "linecolor": "white",
            "ticks": ""
           },
           "baxis": {
            "gridcolor": "white",
            "linecolor": "white",
            "ticks": ""
           },
           "bgcolor": "#E5ECF6",
           "caxis": {
            "gridcolor": "white",
            "linecolor": "white",
            "ticks": ""
           }
          },
          "title": {
           "x": 0.05
          },
          "xaxis": {
           "automargin": true,
           "gridcolor": "white",
           "linecolor": "white",
           "ticks": "",
           "title": {
            "standoff": 15
           },
           "zerolinecolor": "white",
           "zerolinewidth": 2
          },
          "yaxis": {
           "automargin": true,
           "gridcolor": "white",
           "linecolor": "white",
           "ticks": "",
           "title": {
            "standoff": 15
           },
           "zerolinecolor": "white",
           "zerolinewidth": 2
          }
         }
        },
        "title": {
         "text": "AAPL Candle Chart"
        },
        "xaxis": {
         "title": {
          "text": "Date"
         }
        },
        "yaxis": {
         "title": {
          "text": "Price (USD)"
         }
        }
       }
      },
      "text/html": [
       "<div>            <script src=\"https://cdnjs.cloudflare.com/ajax/libs/mathjax/2.7.5/MathJax.js?config=TeX-AMS-MML_SVG\"></script><script type=\"text/javascript\">if (window.MathJax && window.MathJax.Hub && window.MathJax.Hub.Config) {window.MathJax.Hub.Config({SVG: {font: \"STIX-Web\"}});}</script>                <script type=\"text/javascript\">window.PlotlyConfig = {MathJaxConfig: 'local'};</script>\n",
       "        <script charset=\"utf-8\" src=\"https://cdn.plot.ly/plotly-3.0.0.min.js\"></script>                <div id=\"cbd6b9da-d9ab-4c70-b244-f6762ceed14b\" class=\"plotly-graph-div\" style=\"height:525px; width:100%;\"></div>            <script type=\"text/javascript\">                window.PLOTLYENV=window.PLOTLYENV || {};                                if (document.getElementById(\"cbd6b9da-d9ab-4c70-b244-f6762ceed14b\")) {                    Plotly.newPlot(                        \"cbd6b9da-d9ab-4c70-b244-f6762ceed14b\",                        [{\"close\":{\"dtype\":\"f8\",\"bdata\":\"AAAAYJ2WZkAAAABg0q5mQAAAAOAc8GZAAAAA4DC1ZkAAAAAg4IlmQAAAAMCxuGZAAAAAICiSZkAAAABA0XxmQAAAAAAaWmZAAAAAIN7IZUAAAACAQSplQAAAAOBnCmVAAAAAgJUGZUAAAAAgrz1lQAAAAEAFfmVAAAAAwE6NZUAAAACgbEplQAAAAKD7hWVAAAAAIOF5ZUAAAAAg6pxlQAAAAGAU6GVAAAAA4JE6ZkAAAABAEVJlQAAAACANb2VAAAAAoIFBZUAAAACgMh1lQAAAACDbj2VAAAAAIJJVZUAAAADAYydlQAAAAAB9AWVAAAAAQEkbZUAAAAAA2gBlQAAAAMAOGWVAAAAAQBH1ZEAAAACA7BtlQAAAAEC632RAAAAAoPTGZUAAAACADPdlQAAAAAAcfGVAAAAAALASZUAAAAAAvOZkQAAAAKAoyGRAAAAAgC+HZEAAAACg8KFkQAAAACCzw2RAAAAAwDgHZUAAAAAg7iJlQAAAAKAjEGVAAAAAYOiVZUAAAADA8TBlQAAAAKAjEGVAAAAAQPCGZUAAAADglNBmQAAAAMBkm2ZAAAAAgF6xZkAAAACgMrxmQAAAAMB79mZAAAAAoPrNZkAAAAAg\\u002fjRnQAAAAGCrWWdAAAAAYLSiZ0AAAAAAiKZnQAAAAOB8p2dAAAAAgM3MZ0AAAAAglfZnQAAAAGBWyGdAAAAA4CBIZ0AAAAAA\\u002f6pnQAAAAKBQq2dAAAAAAOK0Z0AAAACgxtRnQAAAAIBk82dAAAAAgCksaEAAAABAXjZoQAAAAEDYZmhAAAAAgIM6aEAAAAAAYIdoQAAAAMAjD2hAAAAAYJjOaUAAAADAZotqQAAAAGC3sGpAAAAAYOd4akAAAAAgN\\u002f5qQAAAAGBPsmpAAAAA4EgfakAAAACAcNlpQAAAAGAr7mlAAAAAgNQLakAAAABgJJFqQAAAAEBArGpAAAAAYEM9akAAAABAxABrQAAAAIAHcWtAAAAAINqZa0AAAABgnjJsQAAAAADSYWxAAAAAYD99bEAAAAAAYwZtQAAAAODYWWxAAAAAgJG4bEAAAADArDNtQAAAAOARQW1AAAAAYKCDbEAAAADguu1rQAAAAEDg8WtAAAAA4Lbma0AAAACAMwhsQAAAAODaOWtAAAAAIF4Ya0AAAACAWydrQAAAAIBJMGtAAAAAoCVCa0AAAABgwaprQAAAACAdNGtAAAAAIPRja0AAAACANRJqQAAAAMAl0WlAAAAA4L8jakAAAABADpNqQAAAAICA8GpAAAAAYKwha0AAAAAgF5lrQAAAAIB1p2tAAAAAgD8HbEAAAAAAtzFsQAAAACCbLGxAAAAAAGdAbEAAAADA4zxsQAAAAIAuAWxAAAAAYPBKbEAAAACAy1VsQAAAAGDvcGxAAAAAgMM\\u002fbEAAAADAIalsQAAAAEDoj2xAAAAAIPzIa0AAAAAgrotrQAAAAECIvGtAAAAAALmKa0AAAACAmI1rQAAAAGANdGtAAAAAAHnFa0AAAAAg\\u002fMhrQAAAAEBdwGtAAAAA4An7akAAAACACwprQAAAAECShmtAAAAAoMGLbEAAAAAAXXZsQAAAAAAgP2xAAAAAoNxbbEAAAACg7jtsQAAAAMCmYGxAAAAAoEVpbEAAAABgoA9tQAAAAODSNmxAAAAAAAZJbEAAAADAlCVsQAAAAICpSWxAAAAAQICma0AAAABAxihsQAAAAEAmoWxAAAAAQC+RbEAAAAAAnGFsQAAAAIBY2WxAAAAAQMQqbUAAAAAArOhsQAAAAGB89GxAAAAAQHxPbUAAAADgvX5tQAAAAADyam1AAAAAgBrIbEAAAACgCcJsQAAAAKDb3GxAAAAA4GUcbUAAAADgBCVtQAAAAKAHs2xAAAAAoD4tbEAAAACAdM1rQAAAAOC3sGtAAAAAgLLea0AAAACAY8drQAAAAMBfX2xAAAAAYL5WbEAAAADAev9rQAAAAMB6\\u002f2tAAAAAoO0bbEAAAAAABX9sQAAAAKAXGGxAAAAAYKB4bEAAAADg74BsQAAAAKDzl2xAAAAA4JuIbEAAAADgwrNsQAAAAOCnE21AAAAAoKhZbUAAAADggFVtQAAAACA4om1AAAAAoHXqbUAAAACgRUxuQAAAAIDHV25AAAAAAL1YbkAAAABgWFJuQAAAAABUz25AAAAAoO7vbkAAAABgBMduQAAAAIAB9m5AAAAAgHD7bkAAAAAAdVhvQAAAAIBzpm9AAAAA4OH4bkAAAABAgDBvQAAAAIC8xm9AAAAAQKvfb0AAAADAqR5wQAAAAKDEK3BAAAAAwOXpb0AAAABgiX1vQAAAAKCjRG9AAAAAYKFybkAAAACg92JuQAAAAMBjl25AAAAAQDU+bkAAAADA3k1uQAAAAEDgkm1AAAAA4I9EbUAAAADgwiBtQAAAAOB6s21AAAAAQEyAbEAAAAAAR7dsQAAAAMCnzGtAAAAAgLHya0AAAACAQu1rQAAAAGAh0WtAAAAAAHGzbEAAAABA8r9tQAAAAKAb421AAAAAoIeqbUAAAADAtHdtQAAAAIBOeGxAAAAAIGsRbUAAAADA3gZtQAAAAADYHm1AAAAAAClsbEAAAADAzHRsQAAAAADXE21AAAAAANebbUAAAADA9TBuQAAAAEAzk25AAAAAQAqPbkAAAAAA15tuQA==\"},\"high\":{\"dtype\":\"f8\",\"bdata\":\"7I4\\u002f4VKyZkDAglDO+cBmQKmg8YjnAmdA2D4Pm3MFZ0AE15Gm1bxmQM3m1bXH4WZAydo8DU3IZkCjfFSuyLZmQFHShoHPdWZAXL3pUzICZkBoHtg0aGdlQOg8KWHtTWVAAIApBa89ZUC9hCIIR5xlQPNL+X7vsWVAqWUlk8mmZUB4tBDRCIxlQCQI6LC0r2VAAAAAIOF5ZUBdkRCj\\u002fhtmQIDLZLj1+GVAAAAA4JE6ZkCbWyHB\\u002fBRmQEHjA1uTh2VAwego6ThkZUCnTIsKqVNlQNCRs7UXmWVAXTj6P3VtZUBB3fMHP05lQIlwEcBpEWVAj9peWBc8ZUAeFNLGlWNlQJQx6hDbMmVA3VI6YPQMZUA+6Rt3+yhlQKdTuVBzCWVA5D9fNFXUZUA+rMtQsjBmQK1Ut8+Y+WVA6yCvPzCeZUAAAKm5IjtlQIryb0Ye+2RAAACpWcazZEBnEfiUKs9kQHD1gzl6yGRAlMJkuCMQZUDeKK+n3DllQKsT+7UcUWVA73TMuHzmZUCOkJAXXcVlQNonQxe\\u002ffGVAhmNBHFyTZUA0tlqB4ENnQGXSZOOy6mZAmYaGQP4AZ0BvV39LtcZmQIU9BYlZ+WZADUN5RQoPZ0CiBaEfJU9nQLyGb6BqdWdAsVEwW13AZ0B38dBst85nQCtItJR3xWdAcRFMWt7oZ0C+ZLCSswJoQBOeZHCSBWhAzpO90YbLZ0BJBR3JIb5nQD1cKudPC2hAVPB6l2TzZ0AAVRIUKfFnQLbd\\u002fjeZ\\u002fWdAnro2iMdKaEDDegviTVVoQPp3hryxh2hA4Yzy8e96aEBkkbtA+IhoQG4AvqxzlGhA6cquGerOaUCHuHT5y25rQPjvLWDEAGtA0x3wVWDOakDbbKBP7kZrQBokS6i5PGtArKWEX7ewakCGjBaDxGVqQEzn4b6Zf2pA0hzDnIBVakDAAz1SfcRqQLghaB+O4GpAzD04UhTrakAbDDJFARlrQL2aQ5uJdGtAAAAAINqZa0AGrkV7IDZsQN\\u002fuQ+3GYmxAuAgi3jWUbED+6HmBkwltQEMfuvyR82xA0FX2H4v7bEB\\u002fvw547o1tQLvACHZQb21AdAH28+jVbEBFxsgYYbVsQJL7FQxKQWxA837EbYtgbEAG9yoqwUVsQHW8lxmBAWxAnmLpDIeDa0A0FjdEJ1hrQCsfwOkXUmtAW5QUZPFya0CCbNbAP+JrQAaJyi9M92tAwvg\\u002fvgQbbEBWdsWNHZlqQHnW+gMsKWpA9aQqbZSdakAHpgy0cK9qQH72vU65AWtA53M54eRga0CoeZP44qxrQJi9325J0WtAmwyGKl0bbECteMa3nkpsQJvcbZPML2xA8CNs4HlVbEAHJkizVm9sQNqaenXVemxAVQtvjAB3bEBpnmzz\\u002fFhsQNQ4Zh8ei2xAwn5s312rbECcNx1xEg1tQEt5WdCbvGxA909JK+iPbEDrQ\\u002fDkX6lrQC10s5qDH2xAP9A6HNoXbEA+fQEmF5lrQAminbrLn2tAI5WlwzPTa0CIMKjX4+FrQAOXsiuJ8WtAuSoab8YXa0BsqWOljg1rQLe458gRx2tA0JHFCBeqbEDblRbnfxJtQHnRn4NGnmxA1QQ0QRWbbEBtlAazTllsQIbspD7xf2xAu+ZswIKgbEAAAABgoA9tQMJjal2ppGxA\\u002fXDSotxbbECkXLUd+0lsQFTgfkn6b2xAmwgGSjgmbECyPeS4ei9sQMOY1tjap2xAB6R+Wd+fbEBIu+Cp\\u002f5xsQFEtrUMT52xAGlkMpP2ebUA2JSgih\\u002fNsQDy\\u002fs0rEKm1Aq2l8hSl1bUDwEPNXjoptQC2SCaZwdm1AdR8jtPRTbUD8e6kgBcpsQHfwC5CmFm1AWzq+Ut1GbUBvl1\\u002fAFzptQDG6N\\u002f+hHm1AJ2yqumiqbEBMCXAaXRtsQJjsuZefyWtAYUdGganua0Dahq57WjJsQAQDx20lbGxAATJvdBWNbEAvlUjGdy5sQF49o6PzKmxAB\\u002f4bnNVMbEBHQvLmy5NsQGaGsPl2VWxAjS1uJpuvbECRHdT1B71sQMFX8sGttWxADtew\\u002fge9bEBA1kB67s5sQANkw3TNH21AOI5OCfZpbUBe740JzG1tQFRvdu6PsW1AYtUVNNEQbkCoiaTCyU9uQOEXatrwem5AEUQpga+IbkAB5BwFkItuQKCbaLf93m5A8ySLKv\\u002f9bkCjXrgYyVBvQG64fzvwDm9AAUkwsIQgb0A6PN5QU2NvQILj1JmjsW9A1T2X8gXAb0BLI8+9JHdvQGQaYMkJ129ANYnPtNDrb0BoA4KU0h5wQCnlLoQHPXBAWPOFgqcmcEAvPtlNF6dvQD7M1gQPoG9AcZNFJHIab0ClaGCfLX1uQChygCne4W5AfGZZc\\u002fiobkAiFqipJ25uQMddF\\u002fit\\u002fG1A\\u002f7kfUjFNbUBumqiSinttQMW0cHFS1m1As2LRh\\u002fS3bUAzeI23HQFtQN61LnyNBWxAk4UNhPb7a0DQYTEu+1hsQLLBsvs6LGxAdYpsBaT8bECpi76Co\\u002f1tQDpOZSAX821AoJqRNdEQbkAajlaTZN1uQG3+xKFp8mxAPgjuh\\u002fcbbUC6KF5TQw1tQM76IyhiMW1ANtVUsMY3bUAAAABA4dJsQAAAACBcZ21AAAAAYLiebUAAAABA4UpuQAAAAKCZsW5AAAAAgMKlbkAAAADgUcBuQA==\"},\"low\":{\"dtype\":\"f8\",\"bdata\":\"f6d67+1kZkDCeYqI83lmQCooh8hHs2ZAd+ZQSvSrZkA5hKHCoXlmQNxI+HHqVmZAQ1DdKRJpZkDvtB349VVmQNTPJQd8EWZAvhAO7ySfZUAT7Oi\\u002fVBplQHTiqlBk\\u002fGRAAICBQlf2ZECfd+RprARlQCxOCtO5Z2VAe+9l+JlGZUBuDcC+oz5lQOOD\\u002ftK5Z2VA2xaEdKsvZUAsVCRzi5ZlQL2aeSzwhmVAToBEVIzIZUAxDaznL0FlQIIk0ldYKGVA0KtHpuoUZUBBuE+hDhllQKQC4\\u002fLvKWVAqnlcOK02ZUC1prNM3xVlQEM5FVwP7mRAfkPNETX5ZEAAAAAA2gBlQDESIgH+BGVAh6ucFWHuZEBW3IDx4fFkQECpeGtjymRAJiHHoNTrZECad9VWhaxlQGtOpdAOdmVATZbym1XvZEAAAAAAvOZkQCtcUH2NuGRAAICAS+JpZEBopnxx3H9kQOo+wzqjhGRA+NW3brmtZECRcnT9gutkQPcr0B5RDGVAJB1EBiuJZUBXVXUUbyZlQFlQpnAWCmVAsedXw8dCZUBCqlNYprlmQPQs8alOcmZAtuIe1PiOZkBNh1eKHJNmQJzsKBUiqGZAKHfLPqOwZkB2EintDABnQCQtKMhPNWdAy3DQm8FXZ0CuwWRwyqBnQGHKGk97kWdA5RL6cw+MZ0DdX169+chnQOlmhMk+tGdAgwc1vCdAZ0BJEQO8H21nQOVfIizujmdARhNIpwGcZ0CC5y4cur9nQIpjIXbDqGdA3gtNDwH8Z0A2eKP4RAxoQBK3vbDzRmhA1NmogaAwaEBt6YV2qy9oQOAW9R008GdAkJgMoGcfaEAKYO5On8ZpQBcID\\u002fGEXGpAtp5fh\\u002fNSakCqYqgjPYBqQMJY8SUriWpAsOpcZtAEakAirHHtUc1pQHIxeki8vGlA09Zyvyj9aUCdp3Te5j1qQBkOUkVwdGpAtGHpxw4zakCoAsRpuWZqQLS1X74kzGpATpycZntJa0BQbSOSCp1rQLFwROcR0GtAs19HQ5MzbEDfDYI6bY9sQICClaRwIGxAkJAOaj99bEDVYVoy5QltQHFe1hOo8WxArpCgty88bEBNeUGp0LBrQLcmlsMG0WtAagGMn\\u002ffKa0DE7rAP5L1rQF+FrvDiDGtAPF8KwdW8akAL+UCCKulqQAWRvbPf4GpASPZ9iqzsakCFQurJgnxrQKr9TqVgCWtAjocJX2Ifa0CF\\u002fxnB\\u002fWpoQAYclCewDGlA69tBX1u2aUDvA3wOLQRqQD8wPctRaGpAaSl9mAzkakC1kpvI7VBrQLB0Bvf1ZmtAu73GYqrIa0CrAA9NFeVrQA8NfyWb0WtACx21kY4ebECtUmbpyBFsQIHnatUQ7WtABhGyp8v6a0AKLfwPv+xrQK89fP2sDGxAlYKHcuYlbEAEcNl+E4xsQABAW7hfX2xACsnyqOWVa0A+0oKgEyBrQFRH0JgSoWtA0a+pQzJpa0Aq9zevfQdrQO7ISy4hCGtA6XV\\u002f8Cota0DvxG7SymprQNn+LJ2GrWtA3IktLWiuakCvx58S7cBqQAsWUAv+IWtA++AJ518EbEDBZDMP2GNsQDDnpR8NKmxA8+jlQH8nbEB9eq\\u002fG5fBrQGqTk5VHHWxALw+ncKBZbEBvIxZkqaRsQE5dZA\\u002f152tAc8BVxPfQa0BD3e7mi9prQDu\\u002ffuho9GtAfA77mQGba0DyCcu1T9hrQAq5UrvCCmxAdVQJ5HlVbECdZSxn51psQPSOybIig2xArfspoIL7bECE3J9muqpsQMQ10NJwwGxAh8yE798vbUB\\u002ffPuk7D1tQPHHuMXaAm1AKzhUeFBobEAtp5O7EX1sQPnmHHobomxAzB+XCkIBbUBIZFcJ6vlsQEdFFeV3oWxAYrv6lgAcbECDt6geKXlrQAL5j8BHZ2tA7peUjvCUa0CeCFlGiZZrQLkwz3l1AmxAC1nPsilFbECUfb4vN6hrQPZJx5Or42tA6KuMu33Qa0Dc\\u002fD64FxhsQLwbZBHCAGxAzvU8xIYdbECiB0xzJ01sQBy7RHuKNGxATPsXqMkubECQONCo53lsQGoHEimbr2xAfEKoEFwibUD0QY\\u002fzszFtQCjz1DrRNm1AW7bs\\u002fMicbUBwwyFdZ9RtQFmns3WFH25ANqnoj6Y7bkAFg3pWDTpuQB0DHPyAL25AlOgH3UGibkCLoskxqr9uQK73WSMgrW5ABYZAoQa\\u002fbkCilgSgGOxuQFAwMmouMG9AcKoCKvnubkCaYcIqMtpuQEjyQQxyrW5ApNfTH36lb0BnBmDOTuBvQJpxy4CNFXBALI8QwwaZb0CZk50LME9vQEHqLmj+JG9AoCZ3470xbkCNDr2Z+jNuQPbhy1HaXW5Advm+3LcibkC1AbPXKfltQLmAtaPPF21AR2z\\u002feveubEDHOqmp3gZtQK\\u002feJ1OFRW1A6cm5MfJ4bEAK8dZ+VIdsQJCnpTRzZGtAYyluGY5xa0A2BV6cycFrQBAPdLNWpWtAKfeA53z3a0Dk6xHnztFsQHsHLoIYOG1AhjQ3K2KebUCG0yZI4CVtQGJOYch3LmxAmArjlNVMbECCpWopnoBsQKmq8VmpxWxAGZ85NFVgbEAAAABgZmZsQAAAAAAphGxAAAAAgMLVbEAAAACAPXJtQAAAACCuH25AAAAAQOE6bkAAAADAHmVuQA==\"},\"open\":{\"dtype\":\"f8\",\"bdata\":\"kBgkpfCdZkBRUzkBuKJmQLKYr0PE02ZAPge6An8EZ0DDOo7rRaxmQNEmqOf2h2ZA3ehBad+0ZkBZEe4aYY1mQAATJByZVmZAr4OqM0\\u002fqZUAjCki8oz5lQI0ZUq8xSGVAAACpeVwLZUC24ZCalQZlQJgCX28ShGVAPRyAdMKKZUDjQ3xcqH5lQAu9\\u002fNYdg2VAIVsuk7JLZUC4VZkm1tdlQAylSj2psGVAPeL6Ep3cZUAWO8wx+QZmQDbZCkV9XmVA\\u002fjugp5Y4ZUA1DN0VbyZlQGlOFQZ+M2VAU2vUmiteZUDrR0bXVUxlQAffieIhCWVAyEUiPOX\\u002fZEA6m\\u002fmHqy9lQMZKfz1gGWVAk5qtS4oHZUAxVRWYB\\u002f1kQBRv4to2AGVAxc7HMpDxZECsZSjqHK5lQCN1wdQl0WVAmmHLwSteZUAAgNUjAxplQK7vkKKw52RAAIAsSrmtZECUVLyRv5dkQGXtnkxVkmRA1mhx+ju4ZECRayjcdhdlQJfAi6ucImVAltxNYcSRZUBsbFxAfpBlQJ5uWpgOGWVAOfsKZWB2ZUAUEAO7ujhnQF0IW\\u002fzGr2ZAQQBks8\\u002fSZkAlHdWDs79mQHmgHCJ3tmZAonsz\\u002fPoIZ0AYGMrsMxpnQA\\u002fLAo44XGdA5qR6ivpoZ0C8eGi2n7pnQLBk66ABnGdAvMELLESWZ0As+C6zZc5nQJZdBugH9GdAFGJEfuPKZ0B00Z00AIZnQKN6RKrK22dA0PzDKDKfZ0DibQ1r38NnQJ8jHTqP2WdAByb6gR8IaEDJS+PqnT9oQJUKo+XaV2hANiX9qxphaEA2kNpX7z9oQGmrrsaxh2hAGxCh0wogaEDqvEepnNVpQBluraepwGpAkhFyLkekakCSeKAN+JRqQNLUJHKOG2tAaLU\\u002fQdSmakC5VDus7TVqQPtNaEbG4GlATokcjmEOakDk6zZlVFlqQCGna08Rv2pAA+e17YLhakDSSZBfJWxqQLiLYm6h7WpAPqGDCGtoa0BQbSOSCp1rQD54KciJSmxA20Ka9FNlbEBeAj97BZFsQHXpe22t02xA7nYT9OaEbEBgFZcMA3ZtQIqFlW\\u002fPRm1AUxHpG86VbEAYgsa8RrBsQHgSQkEkAmxAf6XNrvxHbEBQs9YvyvNrQOODVm3952tA44p7\\u002fEpGa0D3GMox9T5rQCuttd92B2tA+BhWzJVOa0AVe9sPWJZrQH8miBTK82tAznCTO09Na0DTePc2is1oQNAkdzWYk2lAc52gQJ\\u002fGaUDDiOlcrYxqQAVrADp3bGpAXrjrYw7zakC1kpvI7VBrQKnHPHC9gmtAOamiqGoDbECKF5NRtO1rQAgL6o4tJ2xAv4TyT8YobEBBbEq3uEBsQIT7dLpFaWxABK5qGkMlbEBrnkpuYkhsQMrmTCUeMGxAKkckRmxtbEDeUkXMB7NsQPVBdlfntWxAQ\\u002fnH44mBbEBz0JINi6VrQLUIMr6VpGtA2oI1kanua0BPIXveuIprQF\\u002fgcUgOTmtAZqqlNiifa0CcZIYbXcBrQCG+JTLZ4mtAokzcChACa0AbY7eV1uhqQFyJNt1PImtAGmsTjd4PbEDe\\u002fDwI4a5sQPBkPFnnWmxAI\\u002f8OWbuEbEDSb88H9A1sQNRcNnWgWWxAZuo\\u002fUqp+bEAqqvw\\u002fHbFsQGKFEtSCoGxAoQbRIpssbEBms+uIqBRsQOYhEdbIbGxAFqOSMjkAbEAERgpy1vlrQHGDMkmIF2xA2pvACvRobEDap3qEfJlsQG0DSAZUhmxAy0pXcRojbUC5dPO87OJsQMUVDBlbHW1Aq2l8hSl1bUB\\u002ffPuk7D1tQJLnujALLG1AXUHlRRwybUBYAjbdMq9sQFh4LwuJp2xA28hfENgZbUA9uRTB0RJtQPnzBFgsA21Ard1ba8OabEDoFcnmgo9rQMaki3kmkGtArkj3bgOqa0BNd5pa4MNrQPBWfuVfBGxAlM9UvHRdbEC3ZoWyFxhsQMH\\u002f9F61CWxAjTONfHL4a0BnLixquxhsQHLcaMfXRGxAwpj5axUgbEAqSETyYVdsQOfdG5XneWxAfTXVwh2UbECQONCo53lsQE5Ehe+V5mxAfEKoEFwibUAnaXLDzEZtQCz2IeyqUW1AflKQH02gbUBb8C3tffFtQK8BdOJNU25AVEXo8xp3bkDv8MA+lVRuQMby2KMPMm5AHLbpis3TbkAr+R9mAfZuQFujc6DN025AoiMFyofxbkDc0uLw9vZuQMsXM1fFOW9AqyWHBUJ8b0BhcGs6TeduQFYIvAeQ+G5AEKmYv6\\u002fPb0DhpLSBs+ZvQFOc3buAHnBA85pwzL8YcEBxPOjafn5vQGFVhVM1hW9AgCnY6wIVb0AAAACg92JuQEmSOXVVgW5AgWSREtJWbkD41Y8E8DRuQGJim3Hi921ApanHs8AobUCzXCjmv09tQHyodc87TG1A1ujm19uibUCjzRifrvtsQL00jaMg+GtAYyluGY5xa0DQXYcoyA9sQD96e2EPEWxAFvtZS8T4a0ARyutKFtNsQAtR06ScO21A7Q15SA3NbUAajlaTZN1uQBPipO+Yt2xAQ0jvbgNgbEAsJ5my7YhsQJsVMb0m4WxAu8LciAYLbUAAAACAPbJsQAAAAGBmhmxAAAAAYGbmbEAAAADAHp1tQAAAAAAAKG5AAAAAwMyEbkAAAADAHpVuQA==\"},\"x\":[\"2024-02-20T00:00:00.000000000\",\"2024-02-21T00:00:00.000000000\",\"2024-02-22T00:00:00.000000000\",\"2024-02-23T00:00:00.000000000\",\"2024-02-26T00:00:00.000000000\",\"2024-02-27T00:00:00.000000000\",\"2024-02-28T00:00:00.000000000\",\"2024-02-29T00:00:00.000000000\",\"2024-03-01T00:00:00.000000000\",\"2024-03-04T00:00:00.000000000\",\"2024-03-05T00:00:00.000000000\",\"2024-03-06T00:00:00.000000000\",\"2024-03-07T00:00:00.000000000\",\"2024-03-08T00:00:00.000000000\",\"2024-03-11T00:00:00.000000000\",\"2024-03-12T00:00:00.000000000\",\"2024-03-13T00:00:00.000000000\",\"2024-03-14T00:00:00.000000000\",\"2024-03-15T00:00:00.000000000\",\"2024-03-18T00:00:00.000000000\",\"2024-03-19T00:00:00.000000000\",\"2024-03-20T00:00:00.000000000\",\"2024-03-21T00:00:00.000000000\",\"2024-03-22T00:00:00.000000000\",\"2024-03-25T00:00:00.000000000\",\"2024-03-26T00:00:00.000000000\",\"2024-03-27T00:00:00.000000000\",\"2024-03-28T00:00:00.000000000\",\"2024-04-01T00:00:00.000000000\",\"2024-04-02T00:00:00.000000000\",\"2024-04-03T00:00:00.000000000\",\"2024-04-04T00:00:00.000000000\",\"2024-04-05T00:00:00.000000000\",\"2024-04-08T00:00:00.000000000\",\"2024-04-09T00:00:00.000000000\",\"2024-04-10T00:00:00.000000000\",\"2024-04-11T00:00:00.000000000\",\"2024-04-12T00:00:00.000000000\",\"2024-04-15T00:00:00.000000000\",\"2024-04-16T00:00:00.000000000\",\"2024-04-17T00:00:00.000000000\",\"2024-04-18T00:00:00.000000000\",\"2024-04-19T00:00:00.000000000\",\"2024-04-22T00:00:00.000000000\",\"2024-04-23T00:00:00.000000000\",\"2024-04-24T00:00:00.000000000\",\"2024-04-25T00:00:00.000000000\",\"2024-04-26T00:00:00.000000000\",\"2024-04-29T00:00:00.000000000\",\"2024-04-30T00:00:00.000000000\",\"2024-05-01T00:00:00.000000000\",\"2024-05-02T00:00:00.000000000\",\"2024-05-03T00:00:00.000000000\",\"2024-05-06T00:00:00.000000000\",\"2024-05-07T00:00:00.000000000\",\"2024-05-08T00:00:00.000000000\",\"2024-05-09T00:00:00.000000000\",\"2024-05-10T00:00:00.000000000\",\"2024-05-13T00:00:00.000000000\",\"2024-05-14T00:00:00.000000000\",\"2024-05-15T00:00:00.000000000\",\"2024-05-16T00:00:00.000000000\",\"2024-05-17T00:00:00.000000000\",\"2024-05-20T00:00:00.000000000\",\"2024-05-21T00:00:00.000000000\",\"2024-05-22T00:00:00.000000000\",\"2024-05-23T00:00:00.000000000\",\"2024-05-24T00:00:00.000000000\",\"2024-05-28T00:00:00.000000000\",\"2024-05-29T00:00:00.000000000\",\"2024-05-30T00:00:00.000000000\",\"2024-05-31T00:00:00.000000000\",\"2024-06-03T00:00:00.000000000\",\"2024-06-04T00:00:00.000000000\",\"2024-06-05T00:00:00.000000000\",\"2024-06-06T00:00:00.000000000\",\"2024-06-07T00:00:00.000000000\",\"2024-06-10T00:00:00.000000000\",\"2024-06-11T00:00:00.000000000\",\"2024-06-12T00:00:00.000000000\",\"2024-06-13T00:00:00.000000000\",\"2024-06-14T00:00:00.000000000\",\"2024-06-17T00:00:00.000000000\",\"2024-06-18T00:00:00.000000000\",\"2024-06-20T00:00:00.000000000\",\"2024-06-21T00:00:00.000000000\",\"2024-06-24T00:00:00.000000000\",\"2024-06-25T00:00:00.000000000\",\"2024-06-26T00:00:00.000000000\",\"2024-06-27T00:00:00.000000000\",\"2024-06-28T00:00:00.000000000\",\"2024-07-01T00:00:00.000000000\",\"2024-07-02T00:00:00.000000000\",\"2024-07-03T00:00:00.000000000\",\"2024-07-05T00:00:00.000000000\",\"2024-07-08T00:00:00.000000000\",\"2024-07-09T00:00:00.000000000\",\"2024-07-10T00:00:00.000000000\",\"2024-07-11T00:00:00.000000000\",\"2024-07-12T00:00:00.000000000\",\"2024-07-15T00:00:00.000000000\",\"2024-07-16T00:00:00.000000000\",\"2024-07-17T00:00:00.000000000\",\"2024-07-18T00:00:00.000000000\",\"2024-07-19T00:00:00.000000000\",\"2024-07-22T00:00:00.000000000\",\"2024-07-23T00:00:00.000000000\",\"2024-07-24T00:00:00.000000000\",\"2024-07-25T00:00:00.000000000\",\"2024-07-26T00:00:00.000000000\",\"2024-07-29T00:00:00.000000000\",\"2024-07-30T00:00:00.000000000\",\"2024-07-31T00:00:00.000000000\",\"2024-08-01T00:00:00.000000000\",\"2024-08-02T00:00:00.000000000\",\"2024-08-05T00:00:00.000000000\",\"2024-08-06T00:00:00.000000000\",\"2024-08-07T00:00:00.000000000\",\"2024-08-08T00:00:00.000000000\",\"2024-08-09T00:00:00.000000000\",\"2024-08-12T00:00:00.000000000\",\"2024-08-13T00:00:00.000000000\",\"2024-08-14T00:00:00.000000000\",\"2024-08-15T00:00:00.000000000\",\"2024-08-16T00:00:00.000000000\",\"2024-08-19T00:00:00.000000000\",\"2024-08-20T00:00:00.000000000\",\"2024-08-21T00:00:00.000000000\",\"2024-08-22T00:00:00.000000000\",\"2024-08-23T00:00:00.000000000\",\"2024-08-26T00:00:00.000000000\",\"2024-08-27T00:00:00.000000000\",\"2024-08-28T00:00:00.000000000\",\"2024-08-29T00:00:00.000000000\",\"2024-08-30T00:00:00.000000000\",\"2024-09-03T00:00:00.000000000\",\"2024-09-04T00:00:00.000000000\",\"2024-09-05T00:00:00.000000000\",\"2024-09-06T00:00:00.000000000\",\"2024-09-09T00:00:00.000000000\",\"2024-09-10T00:00:00.000000000\",\"2024-09-11T00:00:00.000000000\",\"2024-09-12T00:00:00.000000000\",\"2024-09-13T00:00:00.000000000\",\"2024-09-16T00:00:00.000000000\",\"2024-09-17T00:00:00.000000000\",\"2024-09-18T00:00:00.000000000\",\"2024-09-19T00:00:00.000000000\",\"2024-09-20T00:00:00.000000000\",\"2024-09-23T00:00:00.000000000\",\"2024-09-24T00:00:00.000000000\",\"2024-09-25T00:00:00.000000000\",\"2024-09-26T00:00:00.000000000\",\"2024-09-27T00:00:00.000000000\",\"2024-09-30T00:00:00.000000000\",\"2024-10-01T00:00:00.000000000\",\"2024-10-02T00:00:00.000000000\",\"2024-10-03T00:00:00.000000000\",\"2024-10-04T00:00:00.000000000\",\"2024-10-07T00:00:00.000000000\",\"2024-10-08T00:00:00.000000000\",\"2024-10-09T00:00:00.000000000\",\"2024-10-10T00:00:00.000000000\",\"2024-10-11T00:00:00.000000000\",\"2024-10-14T00:00:00.000000000\",\"2024-10-15T00:00:00.000000000\",\"2024-10-16T00:00:00.000000000\",\"2024-10-17T00:00:00.000000000\",\"2024-10-18T00:00:00.000000000\",\"2024-10-21T00:00:00.000000000\",\"2024-10-22T00:00:00.000000000\",\"2024-10-23T00:00:00.000000000\",\"2024-10-24T00:00:00.000000000\",\"2024-10-25T00:00:00.000000000\",\"2024-10-28T00:00:00.000000000\",\"2024-10-29T00:00:00.000000000\",\"2024-10-30T00:00:00.000000000\",\"2024-10-31T00:00:00.000000000\",\"2024-11-01T00:00:00.000000000\",\"2024-11-04T00:00:00.000000000\",\"2024-11-05T00:00:00.000000000\",\"2024-11-06T00:00:00.000000000\",\"2024-11-07T00:00:00.000000000\",\"2024-11-08T00:00:00.000000000\",\"2024-11-11T00:00:00.000000000\",\"2024-11-12T00:00:00.000000000\",\"2024-11-13T00:00:00.000000000\",\"2024-11-14T00:00:00.000000000\",\"2024-11-15T00:00:00.000000000\",\"2024-11-18T00:00:00.000000000\",\"2024-11-19T00:00:00.000000000\",\"2024-11-20T00:00:00.000000000\",\"2024-11-21T00:00:00.000000000\",\"2024-11-22T00:00:00.000000000\",\"2024-11-25T00:00:00.000000000\",\"2024-11-26T00:00:00.000000000\",\"2024-11-27T00:00:00.000000000\",\"2024-11-29T00:00:00.000000000\",\"2024-12-02T00:00:00.000000000\",\"2024-12-03T00:00:00.000000000\",\"2024-12-04T00:00:00.000000000\",\"2024-12-05T00:00:00.000000000\",\"2024-12-06T00:00:00.000000000\",\"2024-12-09T00:00:00.000000000\",\"2024-12-10T00:00:00.000000000\",\"2024-12-11T00:00:00.000000000\",\"2024-12-12T00:00:00.000000000\",\"2024-12-13T00:00:00.000000000\",\"2024-12-16T00:00:00.000000000\",\"2024-12-17T00:00:00.000000000\",\"2024-12-18T00:00:00.000000000\",\"2024-12-19T00:00:00.000000000\",\"2024-12-20T00:00:00.000000000\",\"2024-12-23T00:00:00.000000000\",\"2024-12-24T00:00:00.000000000\",\"2024-12-26T00:00:00.000000000\",\"2024-12-27T00:00:00.000000000\",\"2024-12-30T00:00:00.000000000\",\"2024-12-31T00:00:00.000000000\",\"2025-01-02T00:00:00.000000000\",\"2025-01-03T00:00:00.000000000\",\"2025-01-06T00:00:00.000000000\",\"2025-01-07T00:00:00.000000000\",\"2025-01-08T00:00:00.000000000\",\"2025-01-10T00:00:00.000000000\",\"2025-01-13T00:00:00.000000000\",\"2025-01-14T00:00:00.000000000\",\"2025-01-15T00:00:00.000000000\",\"2025-01-16T00:00:00.000000000\",\"2025-01-17T00:00:00.000000000\",\"2025-01-21T00:00:00.000000000\",\"2025-01-22T00:00:00.000000000\",\"2025-01-23T00:00:00.000000000\",\"2025-01-24T00:00:00.000000000\",\"2025-01-27T00:00:00.000000000\",\"2025-01-28T00:00:00.000000000\",\"2025-01-29T00:00:00.000000000\",\"2025-01-30T00:00:00.000000000\",\"2025-01-31T00:00:00.000000000\",\"2025-02-03T00:00:00.000000000\",\"2025-02-04T00:00:00.000000000\",\"2025-02-05T00:00:00.000000000\",\"2025-02-06T00:00:00.000000000\",\"2025-02-07T00:00:00.000000000\",\"2025-02-10T00:00:00.000000000\",\"2025-02-11T00:00:00.000000000\",\"2025-02-12T00:00:00.000000000\",\"2025-02-13T00:00:00.000000000\",\"2025-02-14T00:00:00.000000000\",\"2025-02-18T00:00:00.000000000\",\"2025-02-19T00:00:00.000000000\"],\"type\":\"ohlc\"}],                        {\"template\":{\"data\":{\"histogram2dcontour\":[{\"type\":\"histogram2dcontour\",\"colorbar\":{\"outlinewidth\":0,\"ticks\":\"\"},\"colorscale\":[[0.0,\"#0d0887\"],[0.1111111111111111,\"#46039f\"],[0.2222222222222222,\"#7201a8\"],[0.3333333333333333,\"#9c179e\"],[0.4444444444444444,\"#bd3786\"],[0.5555555555555556,\"#d8576b\"],[0.6666666666666666,\"#ed7953\"],[0.7777777777777778,\"#fb9f3a\"],[0.8888888888888888,\"#fdca26\"],[1.0,\"#f0f921\"]]}],\"choropleth\":[{\"type\":\"choropleth\",\"colorbar\":{\"outlinewidth\":0,\"ticks\":\"\"}}],\"histogram2d\":[{\"type\":\"histogram2d\",\"colorbar\":{\"outlinewidth\":0,\"ticks\":\"\"},\"colorscale\":[[0.0,\"#0d0887\"],[0.1111111111111111,\"#46039f\"],[0.2222222222222222,\"#7201a8\"],[0.3333333333333333,\"#9c179e\"],[0.4444444444444444,\"#bd3786\"],[0.5555555555555556,\"#d8576b\"],[0.6666666666666666,\"#ed7953\"],[0.7777777777777778,\"#fb9f3a\"],[0.8888888888888888,\"#fdca26\"],[1.0,\"#f0f921\"]]}],\"heatmap\":[{\"type\":\"heatmap\",\"colorbar\":{\"outlinewidth\":0,\"ticks\":\"\"},\"colorscale\":[[0.0,\"#0d0887\"],[0.1111111111111111,\"#46039f\"],[0.2222222222222222,\"#7201a8\"],[0.3333333333333333,\"#9c179e\"],[0.4444444444444444,\"#bd3786\"],[0.5555555555555556,\"#d8576b\"],[0.6666666666666666,\"#ed7953\"],[0.7777777777777778,\"#fb9f3a\"],[0.8888888888888888,\"#fdca26\"],[1.0,\"#f0f921\"]]}],\"contourcarpet\":[{\"type\":\"contourcarpet\",\"colorbar\":{\"outlinewidth\":0,\"ticks\":\"\"}}],\"contour\":[{\"type\":\"contour\",\"colorbar\":{\"outlinewidth\":0,\"ticks\":\"\"},\"colorscale\":[[0.0,\"#0d0887\"],[0.1111111111111111,\"#46039f\"],[0.2222222222222222,\"#7201a8\"],[0.3333333333333333,\"#9c179e\"],[0.4444444444444444,\"#bd3786\"],[0.5555555555555556,\"#d8576b\"],[0.6666666666666666,\"#ed7953\"],[0.7777777777777778,\"#fb9f3a\"],[0.8888888888888888,\"#fdca26\"],[1.0,\"#f0f921\"]]}],\"surface\":[{\"type\":\"surface\",\"colorbar\":{\"outlinewidth\":0,\"ticks\":\"\"},\"colorscale\":[[0.0,\"#0d0887\"],[0.1111111111111111,\"#46039f\"],[0.2222222222222222,\"#7201a8\"],[0.3333333333333333,\"#9c179e\"],[0.4444444444444444,\"#bd3786\"],[0.5555555555555556,\"#d8576b\"],[0.6666666666666666,\"#ed7953\"],[0.7777777777777778,\"#fb9f3a\"],[0.8888888888888888,\"#fdca26\"],[1.0,\"#f0f921\"]]}],\"mesh3d\":[{\"type\":\"mesh3d\",\"colorbar\":{\"outlinewidth\":0,\"ticks\":\"\"}}],\"scatter\":[{\"fillpattern\":{\"fillmode\":\"overlay\",\"size\":10,\"solidity\":0.2},\"type\":\"scatter\"}],\"parcoords\":[{\"type\":\"parcoords\",\"line\":{\"colorbar\":{\"outlinewidth\":0,\"ticks\":\"\"}}}],\"scatterpolargl\":[{\"type\":\"scatterpolargl\",\"marker\":{\"colorbar\":{\"outlinewidth\":0,\"ticks\":\"\"}}}],\"bar\":[{\"error_x\":{\"color\":\"#2a3f5f\"},\"error_y\":{\"color\":\"#2a3f5f\"},\"marker\":{\"line\":{\"color\":\"#E5ECF6\",\"width\":0.5},\"pattern\":{\"fillmode\":\"overlay\",\"size\":10,\"solidity\":0.2}},\"type\":\"bar\"}],\"scattergeo\":[{\"type\":\"scattergeo\",\"marker\":{\"colorbar\":{\"outlinewidth\":0,\"ticks\":\"\"}}}],\"scatterpolar\":[{\"type\":\"scatterpolar\",\"marker\":{\"colorbar\":{\"outlinewidth\":0,\"ticks\":\"\"}}}],\"histogram\":[{\"marker\":{\"pattern\":{\"fillmode\":\"overlay\",\"size\":10,\"solidity\":0.2}},\"type\":\"histogram\"}],\"scattergl\":[{\"type\":\"scattergl\",\"marker\":{\"colorbar\":{\"outlinewidth\":0,\"ticks\":\"\"}}}],\"scatter3d\":[{\"type\":\"scatter3d\",\"line\":{\"colorbar\":{\"outlinewidth\":0,\"ticks\":\"\"}},\"marker\":{\"colorbar\":{\"outlinewidth\":0,\"ticks\":\"\"}}}],\"scattermap\":[{\"type\":\"scattermap\",\"marker\":{\"colorbar\":{\"outlinewidth\":0,\"ticks\":\"\"}}}],\"scattermapbox\":[{\"type\":\"scattermapbox\",\"marker\":{\"colorbar\":{\"outlinewidth\":0,\"ticks\":\"\"}}}],\"scatterternary\":[{\"type\":\"scatterternary\",\"marker\":{\"colorbar\":{\"outlinewidth\":0,\"ticks\":\"\"}}}],\"scattercarpet\":[{\"type\":\"scattercarpet\",\"marker\":{\"colorbar\":{\"outlinewidth\":0,\"ticks\":\"\"}}}],\"carpet\":[{\"aaxis\":{\"endlinecolor\":\"#2a3f5f\",\"gridcolor\":\"white\",\"linecolor\":\"white\",\"minorgridcolor\":\"white\",\"startlinecolor\":\"#2a3f5f\"},\"baxis\":{\"endlinecolor\":\"#2a3f5f\",\"gridcolor\":\"white\",\"linecolor\":\"white\",\"minorgridcolor\":\"white\",\"startlinecolor\":\"#2a3f5f\"},\"type\":\"carpet\"}],\"table\":[{\"cells\":{\"fill\":{\"color\":\"#EBF0F8\"},\"line\":{\"color\":\"white\"}},\"header\":{\"fill\":{\"color\":\"#C8D4E3\"},\"line\":{\"color\":\"white\"}},\"type\":\"table\"}],\"barpolar\":[{\"marker\":{\"line\":{\"color\":\"#E5ECF6\",\"width\":0.5},\"pattern\":{\"fillmode\":\"overlay\",\"size\":10,\"solidity\":0.2}},\"type\":\"barpolar\"}],\"pie\":[{\"automargin\":true,\"type\":\"pie\"}]},\"layout\":{\"autotypenumbers\":\"strict\",\"colorway\":[\"#636efa\",\"#EF553B\",\"#00cc96\",\"#ab63fa\",\"#FFA15A\",\"#19d3f3\",\"#FF6692\",\"#B6E880\",\"#FF97FF\",\"#FECB52\"],\"font\":{\"color\":\"#2a3f5f\"},\"hovermode\":\"closest\",\"hoverlabel\":{\"align\":\"left\"},\"paper_bgcolor\":\"white\",\"plot_bgcolor\":\"#E5ECF6\",\"polar\":{\"bgcolor\":\"#E5ECF6\",\"angularaxis\":{\"gridcolor\":\"white\",\"linecolor\":\"white\",\"ticks\":\"\"},\"radialaxis\":{\"gridcolor\":\"white\",\"linecolor\":\"white\",\"ticks\":\"\"}},\"ternary\":{\"bgcolor\":\"#E5ECF6\",\"aaxis\":{\"gridcolor\":\"white\",\"linecolor\":\"white\",\"ticks\":\"\"},\"baxis\":{\"gridcolor\":\"white\",\"linecolor\":\"white\",\"ticks\":\"\"},\"caxis\":{\"gridcolor\":\"white\",\"linecolor\":\"white\",\"ticks\":\"\"}},\"coloraxis\":{\"colorbar\":{\"outlinewidth\":0,\"ticks\":\"\"}},\"colorscale\":{\"sequential\":[[0.0,\"#0d0887\"],[0.1111111111111111,\"#46039f\"],[0.2222222222222222,\"#7201a8\"],[0.3333333333333333,\"#9c179e\"],[0.4444444444444444,\"#bd3786\"],[0.5555555555555556,\"#d8576b\"],[0.6666666666666666,\"#ed7953\"],[0.7777777777777778,\"#fb9f3a\"],[0.8888888888888888,\"#fdca26\"],[1.0,\"#f0f921\"]],\"sequentialminus\":[[0.0,\"#0d0887\"],[0.1111111111111111,\"#46039f\"],[0.2222222222222222,\"#7201a8\"],[0.3333333333333333,\"#9c179e\"],[0.4444444444444444,\"#bd3786\"],[0.5555555555555556,\"#d8576b\"],[0.6666666666666666,\"#ed7953\"],[0.7777777777777778,\"#fb9f3a\"],[0.8888888888888888,\"#fdca26\"],[1.0,\"#f0f921\"]],\"diverging\":[[0,\"#8e0152\"],[0.1,\"#c51b7d\"],[0.2,\"#de77ae\"],[0.3,\"#f1b6da\"],[0.4,\"#fde0ef\"],[0.5,\"#f7f7f7\"],[0.6,\"#e6f5d0\"],[0.7,\"#b8e186\"],[0.8,\"#7fbc41\"],[0.9,\"#4d9221\"],[1,\"#276419\"]]},\"xaxis\":{\"gridcolor\":\"white\",\"linecolor\":\"white\",\"ticks\":\"\",\"title\":{\"standoff\":15},\"zerolinecolor\":\"white\",\"automargin\":true,\"zerolinewidth\":2},\"yaxis\":{\"gridcolor\":\"white\",\"linecolor\":\"white\",\"ticks\":\"\",\"title\":{\"standoff\":15},\"zerolinecolor\":\"white\",\"automargin\":true,\"zerolinewidth\":2},\"scene\":{\"xaxis\":{\"backgroundcolor\":\"#E5ECF6\",\"gridcolor\":\"white\",\"linecolor\":\"white\",\"showbackground\":true,\"ticks\":\"\",\"zerolinecolor\":\"white\",\"gridwidth\":2},\"yaxis\":{\"backgroundcolor\":\"#E5ECF6\",\"gridcolor\":\"white\",\"linecolor\":\"white\",\"showbackground\":true,\"ticks\":\"\",\"zerolinecolor\":\"white\",\"gridwidth\":2},\"zaxis\":{\"backgroundcolor\":\"#E5ECF6\",\"gridcolor\":\"white\",\"linecolor\":\"white\",\"showbackground\":true,\"ticks\":\"\",\"zerolinecolor\":\"white\",\"gridwidth\":2}},\"shapedefaults\":{\"line\":{\"color\":\"#2a3f5f\"}},\"annotationdefaults\":{\"arrowcolor\":\"#2a3f5f\",\"arrowhead\":0,\"arrowwidth\":1},\"geo\":{\"bgcolor\":\"white\",\"landcolor\":\"#E5ECF6\",\"subunitcolor\":\"white\",\"showland\":true,\"showlakes\":true,\"lakecolor\":\"white\"},\"title\":{\"x\":0.05},\"mapbox\":{\"style\":\"light\"}}},\"title\":{\"text\":\"AAPL Candle Chart\"},\"xaxis\":{\"title\":{\"text\":\"Date\"}},\"yaxis\":{\"title\":{\"text\":\"Price (USD)\"}}},                        {\"responsive\": true}                    ).then(function(){\n",
       "                            \n",
       "var gd = document.getElementById('cbd6b9da-d9ab-4c70-b244-f6762ceed14b');\n",
       "var x = new MutationObserver(function (mutations, observer) {{\n",
       "        var display = window.getComputedStyle(gd).display;\n",
       "        if (!display || display === 'none') {{\n",
       "            console.log([gd, 'removed!']);\n",
       "            Plotly.purge(gd);\n",
       "            observer.disconnect();\n",
       "        }}\n",
       "}});\n",
       "\n",
       "// Listen for the removal of the full notebook cells\n",
       "var notebookContainer = gd.closest('#notebook-container');\n",
       "if (notebookContainer) {{\n",
       "    x.observe(notebookContainer, {childList: true});\n",
       "}}\n",
       "\n",
       "// Listen for the clearing of the current output cell\n",
       "var outputEl = gd.closest('.output');\n",
       "if (outputEl) {{\n",
       "    x.observe(outputEl, {childList: true});\n",
       "}}\n",
       "\n",
       "                        })                };            </script>        </div>"
      ]
     },
     "metadata": {},
     "output_type": "display_data"
    }
   ],
   "source": [
    "fig = go.Figure(data=[go.Ohlc(\n",
    "    x=data.index,\n",
    "    open=data['Open'],\n",
    "    high=data['High'],\n",
    "    low=data['Low'],\n",
    "    close=data['Close']\n",
    ")])\n",
    "\n",
    "# Update the layout\n",
    "fig.update_layout(\n",
    "    title=f'{tickers[0]} Candle Chart',\n",
    "    xaxis_title='Date',\n",
    "    yaxis_title='Price (USD)'\n",
    ")\n",
    "\n",
    "# Show the plot\n",
    "fig.show()\n",
    "\n"
   ]
  },
  {
   "cell_type": "markdown",
   "id": "f7559824-576d-4d28-8468-bfb42fd62214",
   "metadata": {},
   "source": [
    "# plotting simple moving average"
   ]
  },
  {
   "cell_type": "code",
   "execution_count": 5,
   "id": "71a8e545-faa8-4e7b-a4d2-1111cf12bc70",
   "metadata": {},
   "outputs": [
    {
     "data": {
      "application/vnd.plotly.v1+json": {
       "config": {
        "plotlyServerURL": "https://plot.ly"
       },
       "data": [
        {
         "hovertemplate": "Price=Close<br>Date=%{x}<br>value=%{y}<extra></extra>",
         "legendgroup": "Close",
         "line": {
          "color": "#636efa",
          "dash": "solid"
         },
         "marker": {
          "symbol": "circle"
         },
         "mode": "lines",
         "name": "Close",
         "orientation": "v",
         "showlegend": true,
         "type": "scatter",
         "x": [
          "2024-02-20T00:00:00.000000000",
          "2024-02-21T00:00:00.000000000",
          "2024-02-22T00:00:00.000000000",
          "2024-02-23T00:00:00.000000000",
          "2024-02-26T00:00:00.000000000",
          "2024-02-27T00:00:00.000000000",
          "2024-02-28T00:00:00.000000000",
          "2024-02-29T00:00:00.000000000",
          "2024-03-01T00:00:00.000000000",
          "2024-03-04T00:00:00.000000000",
          "2024-03-05T00:00:00.000000000",
          "2024-03-06T00:00:00.000000000",
          "2024-03-07T00:00:00.000000000",
          "2024-03-08T00:00:00.000000000",
          "2024-03-11T00:00:00.000000000",
          "2024-03-12T00:00:00.000000000",
          "2024-03-13T00:00:00.000000000",
          "2024-03-14T00:00:00.000000000",
          "2024-03-15T00:00:00.000000000",
          "2024-03-18T00:00:00.000000000",
          "2024-03-19T00:00:00.000000000",
          "2024-03-20T00:00:00.000000000",
          "2024-03-21T00:00:00.000000000",
          "2024-03-22T00:00:00.000000000",
          "2024-03-25T00:00:00.000000000",
          "2024-03-26T00:00:00.000000000",
          "2024-03-27T00:00:00.000000000",
          "2024-03-28T00:00:00.000000000",
          "2024-04-01T00:00:00.000000000",
          "2024-04-02T00:00:00.000000000",
          "2024-04-03T00:00:00.000000000",
          "2024-04-04T00:00:00.000000000",
          "2024-04-05T00:00:00.000000000",
          "2024-04-08T00:00:00.000000000",
          "2024-04-09T00:00:00.000000000",
          "2024-04-10T00:00:00.000000000",
          "2024-04-11T00:00:00.000000000",
          "2024-04-12T00:00:00.000000000",
          "2024-04-15T00:00:00.000000000",
          "2024-04-16T00:00:00.000000000",
          "2024-04-17T00:00:00.000000000",
          "2024-04-18T00:00:00.000000000",
          "2024-04-19T00:00:00.000000000",
          "2024-04-22T00:00:00.000000000",
          "2024-04-23T00:00:00.000000000",
          "2024-04-24T00:00:00.000000000",
          "2024-04-25T00:00:00.000000000",
          "2024-04-26T00:00:00.000000000",
          "2024-04-29T00:00:00.000000000",
          "2024-04-30T00:00:00.000000000",
          "2024-05-01T00:00:00.000000000",
          "2024-05-02T00:00:00.000000000",
          "2024-05-03T00:00:00.000000000",
          "2024-05-06T00:00:00.000000000",
          "2024-05-07T00:00:00.000000000",
          "2024-05-08T00:00:00.000000000",
          "2024-05-09T00:00:00.000000000",
          "2024-05-10T00:00:00.000000000",
          "2024-05-13T00:00:00.000000000",
          "2024-05-14T00:00:00.000000000",
          "2024-05-15T00:00:00.000000000",
          "2024-05-16T00:00:00.000000000",
          "2024-05-17T00:00:00.000000000",
          "2024-05-20T00:00:00.000000000",
          "2024-05-21T00:00:00.000000000",
          "2024-05-22T00:00:00.000000000",
          "2024-05-23T00:00:00.000000000",
          "2024-05-24T00:00:00.000000000",
          "2024-05-28T00:00:00.000000000",
          "2024-05-29T00:00:00.000000000",
          "2024-05-30T00:00:00.000000000",
          "2024-05-31T00:00:00.000000000",
          "2024-06-03T00:00:00.000000000",
          "2024-06-04T00:00:00.000000000",
          "2024-06-05T00:00:00.000000000",
          "2024-06-06T00:00:00.000000000",
          "2024-06-07T00:00:00.000000000",
          "2024-06-10T00:00:00.000000000",
          "2024-06-11T00:00:00.000000000",
          "2024-06-12T00:00:00.000000000",
          "2024-06-13T00:00:00.000000000",
          "2024-06-14T00:00:00.000000000",
          "2024-06-17T00:00:00.000000000",
          "2024-06-18T00:00:00.000000000",
          "2024-06-20T00:00:00.000000000",
          "2024-06-21T00:00:00.000000000",
          "2024-06-24T00:00:00.000000000",
          "2024-06-25T00:00:00.000000000",
          "2024-06-26T00:00:00.000000000",
          "2024-06-27T00:00:00.000000000",
          "2024-06-28T00:00:00.000000000",
          "2024-07-01T00:00:00.000000000",
          "2024-07-02T00:00:00.000000000",
          "2024-07-03T00:00:00.000000000",
          "2024-07-05T00:00:00.000000000",
          "2024-07-08T00:00:00.000000000",
          "2024-07-09T00:00:00.000000000",
          "2024-07-10T00:00:00.000000000",
          "2024-07-11T00:00:00.000000000",
          "2024-07-12T00:00:00.000000000",
          "2024-07-15T00:00:00.000000000",
          "2024-07-16T00:00:00.000000000",
          "2024-07-17T00:00:00.000000000",
          "2024-07-18T00:00:00.000000000",
          "2024-07-19T00:00:00.000000000",
          "2024-07-22T00:00:00.000000000",
          "2024-07-23T00:00:00.000000000",
          "2024-07-24T00:00:00.000000000",
          "2024-07-25T00:00:00.000000000",
          "2024-07-26T00:00:00.000000000",
          "2024-07-29T00:00:00.000000000",
          "2024-07-30T00:00:00.000000000",
          "2024-07-31T00:00:00.000000000",
          "2024-08-01T00:00:00.000000000",
          "2024-08-02T00:00:00.000000000",
          "2024-08-05T00:00:00.000000000",
          "2024-08-06T00:00:00.000000000",
          "2024-08-07T00:00:00.000000000",
          "2024-08-08T00:00:00.000000000",
          "2024-08-09T00:00:00.000000000",
          "2024-08-12T00:00:00.000000000",
          "2024-08-13T00:00:00.000000000",
          "2024-08-14T00:00:00.000000000",
          "2024-08-15T00:00:00.000000000",
          "2024-08-16T00:00:00.000000000",
          "2024-08-19T00:00:00.000000000",
          "2024-08-20T00:00:00.000000000",
          "2024-08-21T00:00:00.000000000",
          "2024-08-22T00:00:00.000000000",
          "2024-08-23T00:00:00.000000000",
          "2024-08-26T00:00:00.000000000",
          "2024-08-27T00:00:00.000000000",
          "2024-08-28T00:00:00.000000000",
          "2024-08-29T00:00:00.000000000",
          "2024-08-30T00:00:00.000000000",
          "2024-09-03T00:00:00.000000000",
          "2024-09-04T00:00:00.000000000",
          "2024-09-05T00:00:00.000000000",
          "2024-09-06T00:00:00.000000000",
          "2024-09-09T00:00:00.000000000",
          "2024-09-10T00:00:00.000000000",
          "2024-09-11T00:00:00.000000000",
          "2024-09-12T00:00:00.000000000",
          "2024-09-13T00:00:00.000000000",
          "2024-09-16T00:00:00.000000000",
          "2024-09-17T00:00:00.000000000",
          "2024-09-18T00:00:00.000000000",
          "2024-09-19T00:00:00.000000000",
          "2024-09-20T00:00:00.000000000",
          "2024-09-23T00:00:00.000000000",
          "2024-09-24T00:00:00.000000000",
          "2024-09-25T00:00:00.000000000",
          "2024-09-26T00:00:00.000000000",
          "2024-09-27T00:00:00.000000000",
          "2024-09-30T00:00:00.000000000",
          "2024-10-01T00:00:00.000000000",
          "2024-10-02T00:00:00.000000000",
          "2024-10-03T00:00:00.000000000",
          "2024-10-04T00:00:00.000000000",
          "2024-10-07T00:00:00.000000000",
          "2024-10-08T00:00:00.000000000",
          "2024-10-09T00:00:00.000000000",
          "2024-10-10T00:00:00.000000000",
          "2024-10-11T00:00:00.000000000",
          "2024-10-14T00:00:00.000000000",
          "2024-10-15T00:00:00.000000000",
          "2024-10-16T00:00:00.000000000",
          "2024-10-17T00:00:00.000000000",
          "2024-10-18T00:00:00.000000000",
          "2024-10-21T00:00:00.000000000",
          "2024-10-22T00:00:00.000000000",
          "2024-10-23T00:00:00.000000000",
          "2024-10-24T00:00:00.000000000",
          "2024-10-25T00:00:00.000000000",
          "2024-10-28T00:00:00.000000000",
          "2024-10-29T00:00:00.000000000",
          "2024-10-30T00:00:00.000000000",
          "2024-10-31T00:00:00.000000000",
          "2024-11-01T00:00:00.000000000",
          "2024-11-04T00:00:00.000000000",
          "2024-11-05T00:00:00.000000000",
          "2024-11-06T00:00:00.000000000",
          "2024-11-07T00:00:00.000000000",
          "2024-11-08T00:00:00.000000000",
          "2024-11-11T00:00:00.000000000",
          "2024-11-12T00:00:00.000000000",
          "2024-11-13T00:00:00.000000000",
          "2024-11-14T00:00:00.000000000",
          "2024-11-15T00:00:00.000000000",
          "2024-11-18T00:00:00.000000000",
          "2024-11-19T00:00:00.000000000",
          "2024-11-20T00:00:00.000000000",
          "2024-11-21T00:00:00.000000000",
          "2024-11-22T00:00:00.000000000",
          "2024-11-25T00:00:00.000000000",
          "2024-11-26T00:00:00.000000000",
          "2024-11-27T00:00:00.000000000",
          "2024-11-29T00:00:00.000000000",
          "2024-12-02T00:00:00.000000000",
          "2024-12-03T00:00:00.000000000",
          "2024-12-04T00:00:00.000000000",
          "2024-12-05T00:00:00.000000000",
          "2024-12-06T00:00:00.000000000",
          "2024-12-09T00:00:00.000000000",
          "2024-12-10T00:00:00.000000000",
          "2024-12-11T00:00:00.000000000",
          "2024-12-12T00:00:00.000000000",
          "2024-12-13T00:00:00.000000000",
          "2024-12-16T00:00:00.000000000",
          "2024-12-17T00:00:00.000000000",
          "2024-12-18T00:00:00.000000000",
          "2024-12-19T00:00:00.000000000",
          "2024-12-20T00:00:00.000000000",
          "2024-12-23T00:00:00.000000000",
          "2024-12-24T00:00:00.000000000",
          "2024-12-26T00:00:00.000000000",
          "2024-12-27T00:00:00.000000000",
          "2024-12-30T00:00:00.000000000",
          "2024-12-31T00:00:00.000000000",
          "2025-01-02T00:00:00.000000000",
          "2025-01-03T00:00:00.000000000",
          "2025-01-06T00:00:00.000000000",
          "2025-01-07T00:00:00.000000000",
          "2025-01-08T00:00:00.000000000",
          "2025-01-10T00:00:00.000000000",
          "2025-01-13T00:00:00.000000000",
          "2025-01-14T00:00:00.000000000",
          "2025-01-15T00:00:00.000000000",
          "2025-01-16T00:00:00.000000000",
          "2025-01-17T00:00:00.000000000",
          "2025-01-21T00:00:00.000000000",
          "2025-01-22T00:00:00.000000000",
          "2025-01-23T00:00:00.000000000",
          "2025-01-24T00:00:00.000000000",
          "2025-01-27T00:00:00.000000000",
          "2025-01-28T00:00:00.000000000",
          "2025-01-29T00:00:00.000000000",
          "2025-01-30T00:00:00.000000000",
          "2025-01-31T00:00:00.000000000",
          "2025-02-03T00:00:00.000000000",
          "2025-02-04T00:00:00.000000000",
          "2025-02-05T00:00:00.000000000",
          "2025-02-06T00:00:00.000000000",
          "2025-02-07T00:00:00.000000000",
          "2025-02-10T00:00:00.000000000",
          "2025-02-11T00:00:00.000000000",
          "2025-02-12T00:00:00.000000000",
          "2025-02-13T00:00:00.000000000",
          "2025-02-14T00:00:00.000000000",
          "2025-02-18T00:00:00.000000000",
          "2025-02-19T00:00:00.000000000"
         ],
         "xaxis": "x",
         "y": {
          "bdata": "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",
          "dtype": "f8"
         },
         "yaxis": "y"
        },
        {
         "hovertemplate": "Price=SMA10<br>Date=%{x}<br>value=%{y}<extra></extra>",
         "legendgroup": "SMA10",
         "line": {
          "color": "#EF553B",
          "dash": "solid"
         },
         "marker": {
          "symbol": "circle"
         },
         "mode": "lines",
         "name": "SMA10",
         "orientation": "v",
         "showlegend": true,
         "type": "scatter",
         "x": [
          "2024-02-20T00:00:00.000000000",
          "2024-02-21T00:00:00.000000000",
          "2024-02-22T00:00:00.000000000",
          "2024-02-23T00:00:00.000000000",
          "2024-02-26T00:00:00.000000000",
          "2024-02-27T00:00:00.000000000",
          "2024-02-28T00:00:00.000000000",
          "2024-02-29T00:00:00.000000000",
          "2024-03-01T00:00:00.000000000",
          "2024-03-04T00:00:00.000000000",
          "2024-03-05T00:00:00.000000000",
          "2024-03-06T00:00:00.000000000",
          "2024-03-07T00:00:00.000000000",
          "2024-03-08T00:00:00.000000000",
          "2024-03-11T00:00:00.000000000",
          "2024-03-12T00:00:00.000000000",
          "2024-03-13T00:00:00.000000000",
          "2024-03-14T00:00:00.000000000",
          "2024-03-15T00:00:00.000000000",
          "2024-03-18T00:00:00.000000000",
          "2024-03-19T00:00:00.000000000",
          "2024-03-20T00:00:00.000000000",
          "2024-03-21T00:00:00.000000000",
          "2024-03-22T00:00:00.000000000",
          "2024-03-25T00:00:00.000000000",
          "2024-03-26T00:00:00.000000000",
          "2024-03-27T00:00:00.000000000",
          "2024-03-28T00:00:00.000000000",
          "2024-04-01T00:00:00.000000000",
          "2024-04-02T00:00:00.000000000",
          "2024-04-03T00:00:00.000000000",
          "2024-04-04T00:00:00.000000000",
          "2024-04-05T00:00:00.000000000",
          "2024-04-08T00:00:00.000000000",
          "2024-04-09T00:00:00.000000000",
          "2024-04-10T00:00:00.000000000",
          "2024-04-11T00:00:00.000000000",
          "2024-04-12T00:00:00.000000000",
          "2024-04-15T00:00:00.000000000",
          "2024-04-16T00:00:00.000000000",
          "2024-04-17T00:00:00.000000000",
          "2024-04-18T00:00:00.000000000",
          "2024-04-19T00:00:00.000000000",
          "2024-04-22T00:00:00.000000000",
          "2024-04-23T00:00:00.000000000",
          "2024-04-24T00:00:00.000000000",
          "2024-04-25T00:00:00.000000000",
          "2024-04-26T00:00:00.000000000",
          "2024-04-29T00:00:00.000000000",
          "2024-04-30T00:00:00.000000000",
          "2024-05-01T00:00:00.000000000",
          "2024-05-02T00:00:00.000000000",
          "2024-05-03T00:00:00.000000000",
          "2024-05-06T00:00:00.000000000",
          "2024-05-07T00:00:00.000000000",
          "2024-05-08T00:00:00.000000000",
          "2024-05-09T00:00:00.000000000",
          "2024-05-10T00:00:00.000000000",
          "2024-05-13T00:00:00.000000000",
          "2024-05-14T00:00:00.000000000",
          "2024-05-15T00:00:00.000000000",
          "2024-05-16T00:00:00.000000000",
          "2024-05-17T00:00:00.000000000",
          "2024-05-20T00:00:00.000000000",
          "2024-05-21T00:00:00.000000000",
          "2024-05-22T00:00:00.000000000",
          "2024-05-23T00:00:00.000000000",
          "2024-05-24T00:00:00.000000000",
          "2024-05-28T00:00:00.000000000",
          "2024-05-29T00:00:00.000000000",
          "2024-05-30T00:00:00.000000000",
          "2024-05-31T00:00:00.000000000",
          "2024-06-03T00:00:00.000000000",
          "2024-06-04T00:00:00.000000000",
          "2024-06-05T00:00:00.000000000",
          "2024-06-06T00:00:00.000000000",
          "2024-06-07T00:00:00.000000000",
          "2024-06-10T00:00:00.000000000",
          "2024-06-11T00:00:00.000000000",
          "2024-06-12T00:00:00.000000000",
          "2024-06-13T00:00:00.000000000",
          "2024-06-14T00:00:00.000000000",
          "2024-06-17T00:00:00.000000000",
          "2024-06-18T00:00:00.000000000",
          "2024-06-20T00:00:00.000000000",
          "2024-06-21T00:00:00.000000000",
          "2024-06-24T00:00:00.000000000",
          "2024-06-25T00:00:00.000000000",
          "2024-06-26T00:00:00.000000000",
          "2024-06-27T00:00:00.000000000",
          "2024-06-28T00:00:00.000000000",
          "2024-07-01T00:00:00.000000000",
          "2024-07-02T00:00:00.000000000",
          "2024-07-03T00:00:00.000000000",
          "2024-07-05T00:00:00.000000000",
          "2024-07-08T00:00:00.000000000",
          "2024-07-09T00:00:00.000000000",
          "2024-07-10T00:00:00.000000000",
          "2024-07-11T00:00:00.000000000",
          "2024-07-12T00:00:00.000000000",
          "2024-07-15T00:00:00.000000000",
          "2024-07-16T00:00:00.000000000",
          "2024-07-17T00:00:00.000000000",
          "2024-07-18T00:00:00.000000000",
          "2024-07-19T00:00:00.000000000",
          "2024-07-22T00:00:00.000000000",
          "2024-07-23T00:00:00.000000000",
          "2024-07-24T00:00:00.000000000",
          "2024-07-25T00:00:00.000000000",
          "2024-07-26T00:00:00.000000000",
          "2024-07-29T00:00:00.000000000",
          "2024-07-30T00:00:00.000000000",
          "2024-07-31T00:00:00.000000000",
          "2024-08-01T00:00:00.000000000",
          "2024-08-02T00:00:00.000000000",
          "2024-08-05T00:00:00.000000000",
          "2024-08-06T00:00:00.000000000",
          "2024-08-07T00:00:00.000000000",
          "2024-08-08T00:00:00.000000000",
          "2024-08-09T00:00:00.000000000",
          "2024-08-12T00:00:00.000000000",
          "2024-08-13T00:00:00.000000000",
          "2024-08-14T00:00:00.000000000",
          "2024-08-15T00:00:00.000000000",
          "2024-08-16T00:00:00.000000000",
          "2024-08-19T00:00:00.000000000",
          "2024-08-20T00:00:00.000000000",
          "2024-08-21T00:00:00.000000000",
          "2024-08-22T00:00:00.000000000",
          "2024-08-23T00:00:00.000000000",
          "2024-08-26T00:00:00.000000000",
          "2024-08-27T00:00:00.000000000",
          "2024-08-28T00:00:00.000000000",
          "2024-08-29T00:00:00.000000000",
          "2024-08-30T00:00:00.000000000",
          "2024-09-03T00:00:00.000000000",
          "2024-09-04T00:00:00.000000000",
          "2024-09-05T00:00:00.000000000",
          "2024-09-06T00:00:00.000000000",
          "2024-09-09T00:00:00.000000000",
          "2024-09-10T00:00:00.000000000",
          "2024-09-11T00:00:00.000000000",
          "2024-09-12T00:00:00.000000000",
          "2024-09-13T00:00:00.000000000",
          "2024-09-16T00:00:00.000000000",
          "2024-09-17T00:00:00.000000000",
          "2024-09-18T00:00:00.000000000",
          "2024-09-19T00:00:00.000000000",
          "2024-09-20T00:00:00.000000000",
          "2024-09-23T00:00:00.000000000",
          "2024-09-24T00:00:00.000000000",
          "2024-09-25T00:00:00.000000000",
          "2024-09-26T00:00:00.000000000",
          "2024-09-27T00:00:00.000000000",
          "2024-09-30T00:00:00.000000000",
          "2024-10-01T00:00:00.000000000",
          "2024-10-02T00:00:00.000000000",
          "2024-10-03T00:00:00.000000000",
          "2024-10-04T00:00:00.000000000",
          "2024-10-07T00:00:00.000000000",
          "2024-10-08T00:00:00.000000000",
          "2024-10-09T00:00:00.000000000",
          "2024-10-10T00:00:00.000000000",
          "2024-10-11T00:00:00.000000000",
          "2024-10-14T00:00:00.000000000",
          "2024-10-15T00:00:00.000000000",
          "2024-10-16T00:00:00.000000000",
          "2024-10-17T00:00:00.000000000",
          "2024-10-18T00:00:00.000000000",
          "2024-10-21T00:00:00.000000000",
          "2024-10-22T00:00:00.000000000",
          "2024-10-23T00:00:00.000000000",
          "2024-10-24T00:00:00.000000000",
          "2024-10-25T00:00:00.000000000",
          "2024-10-28T00:00:00.000000000",
          "2024-10-29T00:00:00.000000000",
          "2024-10-30T00:00:00.000000000",
          "2024-10-31T00:00:00.000000000",
          "2024-11-01T00:00:00.000000000",
          "2024-11-04T00:00:00.000000000",
          "2024-11-05T00:00:00.000000000",
          "2024-11-06T00:00:00.000000000",
          "2024-11-07T00:00:00.000000000",
          "2024-11-08T00:00:00.000000000",
          "2024-11-11T00:00:00.000000000",
          "2024-11-12T00:00:00.000000000",
          "2024-11-13T00:00:00.000000000",
          "2024-11-14T00:00:00.000000000",
          "2024-11-15T00:00:00.000000000",
          "2024-11-18T00:00:00.000000000",
          "2024-11-19T00:00:00.000000000",
          "2024-11-20T00:00:00.000000000",
          "2024-11-21T00:00:00.000000000",
          "2024-11-22T00:00:00.000000000",
          "2024-11-25T00:00:00.000000000",
          "2024-11-26T00:00:00.000000000",
          "2024-11-27T00:00:00.000000000",
          "2024-11-29T00:00:00.000000000",
          "2024-12-02T00:00:00.000000000",
          "2024-12-03T00:00:00.000000000",
          "2024-12-04T00:00:00.000000000",
          "2024-12-05T00:00:00.000000000",
          "2024-12-06T00:00:00.000000000",
          "2024-12-09T00:00:00.000000000",
          "2024-12-10T00:00:00.000000000",
          "2024-12-11T00:00:00.000000000",
          "2024-12-12T00:00:00.000000000",
          "2024-12-13T00:00:00.000000000",
          "2024-12-16T00:00:00.000000000",
          "2024-12-17T00:00:00.000000000",
          "2024-12-18T00:00:00.000000000",
          "2024-12-19T00:00:00.000000000",
          "2024-12-20T00:00:00.000000000",
          "2024-12-23T00:00:00.000000000",
          "2024-12-24T00:00:00.000000000",
          "2024-12-26T00:00:00.000000000",
          "2024-12-27T00:00:00.000000000",
          "2024-12-30T00:00:00.000000000",
          "2024-12-31T00:00:00.000000000",
          "2025-01-02T00:00:00.000000000",
          "2025-01-03T00:00:00.000000000",
          "2025-01-06T00:00:00.000000000",
          "2025-01-07T00:00:00.000000000",
          "2025-01-08T00:00:00.000000000",
          "2025-01-10T00:00:00.000000000",
          "2025-01-13T00:00:00.000000000",
          "2025-01-14T00:00:00.000000000",
          "2025-01-15T00:00:00.000000000",
          "2025-01-16T00:00:00.000000000",
          "2025-01-17T00:00:00.000000000",
          "2025-01-21T00:00:00.000000000",
          "2025-01-22T00:00:00.000000000",
          "2025-01-23T00:00:00.000000000",
          "2025-01-24T00:00:00.000000000",
          "2025-01-27T00:00:00.000000000",
          "2025-01-28T00:00:00.000000000",
          "2025-01-29T00:00:00.000000000",
          "2025-01-30T00:00:00.000000000",
          "2025-01-31T00:00:00.000000000",
          "2025-02-03T00:00:00.000000000",
          "2025-02-04T00:00:00.000000000",
          "2025-02-05T00:00:00.000000000",
          "2025-02-06T00:00:00.000000000",
          "2025-02-07T00:00:00.000000000",
          "2025-02-10T00:00:00.000000000",
          "2025-02-11T00:00:00.000000000",
          "2025-02-12T00:00:00.000000000",
          "2025-02-13T00:00:00.000000000",
          "2025-02-14T00:00:00.000000000",
          "2025-02-18T00:00:00.000000000",
          "2025-02-19T00:00:00.000000000"
         ],
         "xaxis": "x",
         "y": {
          "bdata": "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",
          "dtype": "f8"
         },
         "yaxis": "y"
        },
        {
         "hovertemplate": "Price=SMA20<br>Date=%{x}<br>value=%{y}<extra></extra>",
         "legendgroup": "SMA20",
         "line": {
          "color": "#00cc96",
          "dash": "solid"
         },
         "marker": {
          "symbol": "circle"
         },
         "mode": "lines",
         "name": "SMA20",
         "orientation": "v",
         "showlegend": true,
         "type": "scatter",
         "x": [
          "2024-02-20T00:00:00.000000000",
          "2024-02-21T00:00:00.000000000",
          "2024-02-22T00:00:00.000000000",
          "2024-02-23T00:00:00.000000000",
          "2024-02-26T00:00:00.000000000",
          "2024-02-27T00:00:00.000000000",
          "2024-02-28T00:00:00.000000000",
          "2024-02-29T00:00:00.000000000",
          "2024-03-01T00:00:00.000000000",
          "2024-03-04T00:00:00.000000000",
          "2024-03-05T00:00:00.000000000",
          "2024-03-06T00:00:00.000000000",
          "2024-03-07T00:00:00.000000000",
          "2024-03-08T00:00:00.000000000",
          "2024-03-11T00:00:00.000000000",
          "2024-03-12T00:00:00.000000000",
          "2024-03-13T00:00:00.000000000",
          "2024-03-14T00:00:00.000000000",
          "2024-03-15T00:00:00.000000000",
          "2024-03-18T00:00:00.000000000",
          "2024-03-19T00:00:00.000000000",
          "2024-03-20T00:00:00.000000000",
          "2024-03-21T00:00:00.000000000",
          "2024-03-22T00:00:00.000000000",
          "2024-03-25T00:00:00.000000000",
          "2024-03-26T00:00:00.000000000",
          "2024-03-27T00:00:00.000000000",
          "2024-03-28T00:00:00.000000000",
          "2024-04-01T00:00:00.000000000",
          "2024-04-02T00:00:00.000000000",
          "2024-04-03T00:00:00.000000000",
          "2024-04-04T00:00:00.000000000",
          "2024-04-05T00:00:00.000000000",
          "2024-04-08T00:00:00.000000000",
          "2024-04-09T00:00:00.000000000",
          "2024-04-10T00:00:00.000000000",
          "2024-04-11T00:00:00.000000000",
          "2024-04-12T00:00:00.000000000",
          "2024-04-15T00:00:00.000000000",
          "2024-04-16T00:00:00.000000000",
          "2024-04-17T00:00:00.000000000",
          "2024-04-18T00:00:00.000000000",
          "2024-04-19T00:00:00.000000000",
          "2024-04-22T00:00:00.000000000",
          "2024-04-23T00:00:00.000000000",
          "2024-04-24T00:00:00.000000000",
          "2024-04-25T00:00:00.000000000",
          "2024-04-26T00:00:00.000000000",
          "2024-04-29T00:00:00.000000000",
          "2024-04-30T00:00:00.000000000",
          "2024-05-01T00:00:00.000000000",
          "2024-05-02T00:00:00.000000000",
          "2024-05-03T00:00:00.000000000",
          "2024-05-06T00:00:00.000000000",
          "2024-05-07T00:00:00.000000000",
          "2024-05-08T00:00:00.000000000",
          "2024-05-09T00:00:00.000000000",
          "2024-05-10T00:00:00.000000000",
          "2024-05-13T00:00:00.000000000",
          "2024-05-14T00:00:00.000000000",
          "2024-05-15T00:00:00.000000000",
          "2024-05-16T00:00:00.000000000",
          "2024-05-17T00:00:00.000000000",
          "2024-05-20T00:00:00.000000000",
          "2024-05-21T00:00:00.000000000",
          "2024-05-22T00:00:00.000000000",
          "2024-05-23T00:00:00.000000000",
          "2024-05-24T00:00:00.000000000",
          "2024-05-28T00:00:00.000000000",
          "2024-05-29T00:00:00.000000000",
          "2024-05-30T00:00:00.000000000",
          "2024-05-31T00:00:00.000000000",
          "2024-06-03T00:00:00.000000000",
          "2024-06-04T00:00:00.000000000",
          "2024-06-05T00:00:00.000000000",
          "2024-06-06T00:00:00.000000000",
          "2024-06-07T00:00:00.000000000",
          "2024-06-10T00:00:00.000000000",
          "2024-06-11T00:00:00.000000000",
          "2024-06-12T00:00:00.000000000",
          "2024-06-13T00:00:00.000000000",
          "2024-06-14T00:00:00.000000000",
          "2024-06-17T00:00:00.000000000",
          "2024-06-18T00:00:00.000000000",
          "2024-06-20T00:00:00.000000000",
          "2024-06-21T00:00:00.000000000",
          "2024-06-24T00:00:00.000000000",
          "2024-06-25T00:00:00.000000000",
          "2024-06-26T00:00:00.000000000",
          "2024-06-27T00:00:00.000000000",
          "2024-06-28T00:00:00.000000000",
          "2024-07-01T00:00:00.000000000",
          "2024-07-02T00:00:00.000000000",
          "2024-07-03T00:00:00.000000000",
          "2024-07-05T00:00:00.000000000",
          "2024-07-08T00:00:00.000000000",
          "2024-07-09T00:00:00.000000000",
          "2024-07-10T00:00:00.000000000",
          "2024-07-11T00:00:00.000000000",
          "2024-07-12T00:00:00.000000000",
          "2024-07-15T00:00:00.000000000",
          "2024-07-16T00:00:00.000000000",
          "2024-07-17T00:00:00.000000000",
          "2024-07-18T00:00:00.000000000",
          "2024-07-19T00:00:00.000000000",
          "2024-07-22T00:00:00.000000000",
          "2024-07-23T00:00:00.000000000",
          "2024-07-24T00:00:00.000000000",
          "2024-07-25T00:00:00.000000000",
          "2024-07-26T00:00:00.000000000",
          "2024-07-29T00:00:00.000000000",
          "2024-07-30T00:00:00.000000000",
          "2024-07-31T00:00:00.000000000",
          "2024-08-01T00:00:00.000000000",
          "2024-08-02T00:00:00.000000000",
          "2024-08-05T00:00:00.000000000",
          "2024-08-06T00:00:00.000000000",
          "2024-08-07T00:00:00.000000000",
          "2024-08-08T00:00:00.000000000",
          "2024-08-09T00:00:00.000000000",
          "2024-08-12T00:00:00.000000000",
          "2024-08-13T00:00:00.000000000",
          "2024-08-14T00:00:00.000000000",
          "2024-08-15T00:00:00.000000000",
          "2024-08-16T00:00:00.000000000",
          "2024-08-19T00:00:00.000000000",
          "2024-08-20T00:00:00.000000000",
          "2024-08-21T00:00:00.000000000",
          "2024-08-22T00:00:00.000000000",
          "2024-08-23T00:00:00.000000000",
          "2024-08-26T00:00:00.000000000",
          "2024-08-27T00:00:00.000000000",
          "2024-08-28T00:00:00.000000000",
          "2024-08-29T00:00:00.000000000",
          "2024-08-30T00:00:00.000000000",
          "2024-09-03T00:00:00.000000000",
          "2024-09-04T00:00:00.000000000",
          "2024-09-05T00:00:00.000000000",
          "2024-09-06T00:00:00.000000000",
          "2024-09-09T00:00:00.000000000",
          "2024-09-10T00:00:00.000000000",
          "2024-09-11T00:00:00.000000000",
          "2024-09-12T00:00:00.000000000",
          "2024-09-13T00:00:00.000000000",
          "2024-09-16T00:00:00.000000000",
          "2024-09-17T00:00:00.000000000",
          "2024-09-18T00:00:00.000000000",
          "2024-09-19T00:00:00.000000000",
          "2024-09-20T00:00:00.000000000",
          "2024-09-23T00:00:00.000000000",
          "2024-09-24T00:00:00.000000000",
          "2024-09-25T00:00:00.000000000",
          "2024-09-26T00:00:00.000000000",
          "2024-09-27T00:00:00.000000000",
          "2024-09-30T00:00:00.000000000",
          "2024-10-01T00:00:00.000000000",
          "2024-10-02T00:00:00.000000000",
          "2024-10-03T00:00:00.000000000",
          "2024-10-04T00:00:00.000000000",
          "2024-10-07T00:00:00.000000000",
          "2024-10-08T00:00:00.000000000",
          "2024-10-09T00:00:00.000000000",
          "2024-10-10T00:00:00.000000000",
          "2024-10-11T00:00:00.000000000",
          "2024-10-14T00:00:00.000000000",
          "2024-10-15T00:00:00.000000000",
          "2024-10-16T00:00:00.000000000",
          "2024-10-17T00:00:00.000000000",
          "2024-10-18T00:00:00.000000000",
          "2024-10-21T00:00:00.000000000",
          "2024-10-22T00:00:00.000000000",
          "2024-10-23T00:00:00.000000000",
          "2024-10-24T00:00:00.000000000",
          "2024-10-25T00:00:00.000000000",
          "2024-10-28T00:00:00.000000000",
          "2024-10-29T00:00:00.000000000",
          "2024-10-30T00:00:00.000000000",
          "2024-10-31T00:00:00.000000000",
          "2024-11-01T00:00:00.000000000",
          "2024-11-04T00:00:00.000000000",
          "2024-11-05T00:00:00.000000000",
          "2024-11-06T00:00:00.000000000",
          "2024-11-07T00:00:00.000000000",
          "2024-11-08T00:00:00.000000000",
          "2024-11-11T00:00:00.000000000",
          "2024-11-12T00:00:00.000000000",
          "2024-11-13T00:00:00.000000000",
          "2024-11-14T00:00:00.000000000",
          "2024-11-15T00:00:00.000000000",
          "2024-11-18T00:00:00.000000000",
          "2024-11-19T00:00:00.000000000",
          "2024-11-20T00:00:00.000000000",
          "2024-11-21T00:00:00.000000000",
          "2024-11-22T00:00:00.000000000",
          "2024-11-25T00:00:00.000000000",
          "2024-11-26T00:00:00.000000000",
          "2024-11-27T00:00:00.000000000",
          "2024-11-29T00:00:00.000000000",
          "2024-12-02T00:00:00.000000000",
          "2024-12-03T00:00:00.000000000",
          "2024-12-04T00:00:00.000000000",
          "2024-12-05T00:00:00.000000000",
          "2024-12-06T00:00:00.000000000",
          "2024-12-09T00:00:00.000000000",
          "2024-12-10T00:00:00.000000000",
          "2024-12-11T00:00:00.000000000",
          "2024-12-12T00:00:00.000000000",
          "2024-12-13T00:00:00.000000000",
          "2024-12-16T00:00:00.000000000",
          "2024-12-17T00:00:00.000000000",
          "2024-12-18T00:00:00.000000000",
          "2024-12-19T00:00:00.000000000",
          "2024-12-20T00:00:00.000000000",
          "2024-12-23T00:00:00.000000000",
          "2024-12-24T00:00:00.000000000",
          "2024-12-26T00:00:00.000000000",
          "2024-12-27T00:00:00.000000000",
          "2024-12-30T00:00:00.000000000",
          "2024-12-31T00:00:00.000000000",
          "2025-01-02T00:00:00.000000000",
          "2025-01-03T00:00:00.000000000",
          "2025-01-06T00:00:00.000000000",
          "2025-01-07T00:00:00.000000000",
          "2025-01-08T00:00:00.000000000",
          "2025-01-10T00:00:00.000000000",
          "2025-01-13T00:00:00.000000000",
          "2025-01-14T00:00:00.000000000",
          "2025-01-15T00:00:00.000000000",
          "2025-01-16T00:00:00.000000000",
          "2025-01-17T00:00:00.000000000",
          "2025-01-21T00:00:00.000000000",
          "2025-01-22T00:00:00.000000000",
          "2025-01-23T00:00:00.000000000",
          "2025-01-24T00:00:00.000000000",
          "2025-01-27T00:00:00.000000000",
          "2025-01-28T00:00:00.000000000",
          "2025-01-29T00:00:00.000000000",
          "2025-01-30T00:00:00.000000000",
          "2025-01-31T00:00:00.000000000",
          "2025-02-03T00:00:00.000000000",
          "2025-02-04T00:00:00.000000000",
          "2025-02-05T00:00:00.000000000",
          "2025-02-06T00:00:00.000000000",
          "2025-02-07T00:00:00.000000000",
          "2025-02-10T00:00:00.000000000",
          "2025-02-11T00:00:00.000000000",
          "2025-02-12T00:00:00.000000000",
          "2025-02-13T00:00:00.000000000",
          "2025-02-14T00:00:00.000000000",
          "2025-02-18T00:00:00.000000000",
          "2025-02-19T00:00:00.000000000"
         ],
         "xaxis": "x",
         "y": {
          "bdata": "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",
          "dtype": "f8"
         },
         "yaxis": "y"
        }
       ],
       "layout": {
        "legend": {
         "title": {
          "text": "Price"
         },
         "tracegroupgap": 0
        },
        "template": {
         "data": {
          "bar": [
           {
            "error_x": {
             "color": "#2a3f5f"
            },
            "error_y": {
             "color": "#2a3f5f"
            },
            "marker": {
             "line": {
              "color": "#E5ECF6",
              "width": 0.5
             },
             "pattern": {
              "fillmode": "overlay",
              "size": 10,
              "solidity": 0.2
             }
            },
            "type": "bar"
           }
          ],
          "barpolar": [
           {
            "marker": {
             "line": {
              "color": "#E5ECF6",
              "width": 0.5
             },
             "pattern": {
              "fillmode": "overlay",
              "size": 10,
              "solidity": 0.2
             }
            },
            "type": "barpolar"
           }
          ],
          "carpet": [
           {
            "aaxis": {
             "endlinecolor": "#2a3f5f",
             "gridcolor": "white",
             "linecolor": "white",
             "minorgridcolor": "white",
             "startlinecolor": "#2a3f5f"
            },
            "baxis": {
             "endlinecolor": "#2a3f5f",
             "gridcolor": "white",
             "linecolor": "white",
             "minorgridcolor": "white",
             "startlinecolor": "#2a3f5f"
            },
            "type": "carpet"
           }
          ],
          "choropleth": [
           {
            "colorbar": {
             "outlinewidth": 0,
             "ticks": ""
            },
            "type": "choropleth"
           }
          ],
          "contour": [
           {
            "colorbar": {
             "outlinewidth": 0,
             "ticks": ""
            },
            "colorscale": [
             [
              0,
              "#0d0887"
             ],
             [
              0.1111111111111111,
              "#46039f"
             ],
             [
              0.2222222222222222,
              "#7201a8"
             ],
             [
              0.3333333333333333,
              "#9c179e"
             ],
             [
              0.4444444444444444,
              "#bd3786"
             ],
             [
              0.5555555555555556,
              "#d8576b"
             ],
             [
              0.6666666666666666,
              "#ed7953"
             ],
             [
              0.7777777777777778,
              "#fb9f3a"
             ],
             [
              0.8888888888888888,
              "#fdca26"
             ],
             [
              1,
              "#f0f921"
             ]
            ],
            "type": "contour"
           }
          ],
          "contourcarpet": [
           {
            "colorbar": {
             "outlinewidth": 0,
             "ticks": ""
            },
            "type": "contourcarpet"
           }
          ],
          "heatmap": [
           {
            "colorbar": {
             "outlinewidth": 0,
             "ticks": ""
            },
            "colorscale": [
             [
              0,
              "#0d0887"
             ],
             [
              0.1111111111111111,
              "#46039f"
             ],
             [
              0.2222222222222222,
              "#7201a8"
             ],
             [
              0.3333333333333333,
              "#9c179e"
             ],
             [
              0.4444444444444444,
              "#bd3786"
             ],
             [
              0.5555555555555556,
              "#d8576b"
             ],
             [
              0.6666666666666666,
              "#ed7953"
             ],
             [
              0.7777777777777778,
              "#fb9f3a"
             ],
             [
              0.8888888888888888,
              "#fdca26"
             ],
             [
              1,
              "#f0f921"
             ]
            ],
            "type": "heatmap"
           }
          ],
          "histogram": [
           {
            "marker": {
             "pattern": {
              "fillmode": "overlay",
              "size": 10,
              "solidity": 0.2
             }
            },
            "type": "histogram"
           }
          ],
          "histogram2d": [
           {
            "colorbar": {
             "outlinewidth": 0,
             "ticks": ""
            },
            "colorscale": [
             [
              0,
              "#0d0887"
             ],
             [
              0.1111111111111111,
              "#46039f"
             ],
             [
              0.2222222222222222,
              "#7201a8"
             ],
             [
              0.3333333333333333,
              "#9c179e"
             ],
             [
              0.4444444444444444,
              "#bd3786"
             ],
             [
              0.5555555555555556,
              "#d8576b"
             ],
             [
              0.6666666666666666,
              "#ed7953"
             ],
             [
              0.7777777777777778,
              "#fb9f3a"
             ],
             [
              0.8888888888888888,
              "#fdca26"
             ],
             [
              1,
              "#f0f921"
             ]
            ],
            "type": "histogram2d"
           }
          ],
          "histogram2dcontour": [
           {
            "colorbar": {
             "outlinewidth": 0,
             "ticks": ""
            },
            "colorscale": [
             [
              0,
              "#0d0887"
             ],
             [
              0.1111111111111111,
              "#46039f"
             ],
             [
              0.2222222222222222,
              "#7201a8"
             ],
             [
              0.3333333333333333,
              "#9c179e"
             ],
             [
              0.4444444444444444,
              "#bd3786"
             ],
             [
              0.5555555555555556,
              "#d8576b"
             ],
             [
              0.6666666666666666,
              "#ed7953"
             ],
             [
              0.7777777777777778,
              "#fb9f3a"
             ],
             [
              0.8888888888888888,
              "#fdca26"
             ],
             [
              1,
              "#f0f921"
             ]
            ],
            "type": "histogram2dcontour"
           }
          ],
          "mesh3d": [
           {
            "colorbar": {
             "outlinewidth": 0,
             "ticks": ""
            },
            "type": "mesh3d"
           }
          ],
          "parcoords": [
           {
            "line": {
             "colorbar": {
              "outlinewidth": 0,
              "ticks": ""
             }
            },
            "type": "parcoords"
           }
          ],
          "pie": [
           {
            "automargin": true,
            "type": "pie"
           }
          ],
          "scatter": [
           {
            "fillpattern": {
             "fillmode": "overlay",
             "size": 10,
             "solidity": 0.2
            },
            "type": "scatter"
           }
          ],
          "scatter3d": [
           {
            "line": {
             "colorbar": {
              "outlinewidth": 0,
              "ticks": ""
             }
            },
            "marker": {
             "colorbar": {
              "outlinewidth": 0,
              "ticks": ""
             }
            },
            "type": "scatter3d"
           }
          ],
          "scattercarpet": [
           {
            "marker": {
             "colorbar": {
              "outlinewidth": 0,
              "ticks": ""
             }
            },
            "type": "scattercarpet"
           }
          ],
          "scattergeo": [
           {
            "marker": {
             "colorbar": {
              "outlinewidth": 0,
              "ticks": ""
             }
            },
            "type": "scattergeo"
           }
          ],
          "scattergl": [
           {
            "marker": {
             "colorbar": {
              "outlinewidth": 0,
              "ticks": ""
             }
            },
            "type": "scattergl"
           }
          ],
          "scattermap": [
           {
            "marker": {
             "colorbar": {
              "outlinewidth": 0,
              "ticks": ""
             }
            },
            "type": "scattermap"
           }
          ],
          "scattermapbox": [
           {
            "marker": {
             "colorbar": {
              "outlinewidth": 0,
              "ticks": ""
             }
            },
            "type": "scattermapbox"
           }
          ],
          "scatterpolar": [
           {
            "marker": {
             "colorbar": {
              "outlinewidth": 0,
              "ticks": ""
             }
            },
            "type": "scatterpolar"
           }
          ],
          "scatterpolargl": [
           {
            "marker": {
             "colorbar": {
              "outlinewidth": 0,
              "ticks": ""
             }
            },
            "type": "scatterpolargl"
           }
          ],
          "scatterternary": [
           {
            "marker": {
             "colorbar": {
              "outlinewidth": 0,
              "ticks": ""
             }
            },
            "type": "scatterternary"
           }
          ],
          "surface": [
           {
            "colorbar": {
             "outlinewidth": 0,
             "ticks": ""
            },
            "colorscale": [
             [
              0,
              "#0d0887"
             ],
             [
              0.1111111111111111,
              "#46039f"
             ],
             [
              0.2222222222222222,
              "#7201a8"
             ],
             [
              0.3333333333333333,
              "#9c179e"
             ],
             [
              0.4444444444444444,
              "#bd3786"
             ],
             [
              0.5555555555555556,
              "#d8576b"
             ],
             [
              0.6666666666666666,
              "#ed7953"
             ],
             [
              0.7777777777777778,
              "#fb9f3a"
             ],
             [
              0.8888888888888888,
              "#fdca26"
             ],
             [
              1,
              "#f0f921"
             ]
            ],
            "type": "surface"
           }
          ],
          "table": [
           {
            "cells": {
             "fill": {
              "color": "#EBF0F8"
             },
             "line": {
              "color": "white"
             }
            },
            "header": {
             "fill": {
              "color": "#C8D4E3"
             },
             "line": {
              "color": "white"
             }
            },
            "type": "table"
           }
          ]
         },
         "layout": {
          "annotationdefaults": {
           "arrowcolor": "#2a3f5f",
           "arrowhead": 0,
           "arrowwidth": 1
          },
          "autotypenumbers": "strict",
          "coloraxis": {
           "colorbar": {
            "outlinewidth": 0,
            "ticks": ""
           }
          },
          "colorscale": {
           "diverging": [
            [
             0,
             "#8e0152"
            ],
            [
             0.1,
             "#c51b7d"
            ],
            [
             0.2,
             "#de77ae"
            ],
            [
             0.3,
             "#f1b6da"
            ],
            [
             0.4,
             "#fde0ef"
            ],
            [
             0.5,
             "#f7f7f7"
            ],
            [
             0.6,
             "#e6f5d0"
            ],
            [
             0.7,
             "#b8e186"
            ],
            [
             0.8,
             "#7fbc41"
            ],
            [
             0.9,
             "#4d9221"
            ],
            [
             1,
             "#276419"
            ]
           ],
           "sequential": [
            [
             0,
             "#0d0887"
            ],
            [
             0.1111111111111111,
             "#46039f"
            ],
            [
             0.2222222222222222,
             "#7201a8"
            ],
            [
             0.3333333333333333,
             "#9c179e"
            ],
            [
             0.4444444444444444,
             "#bd3786"
            ],
            [
             0.5555555555555556,
             "#d8576b"
            ],
            [
             0.6666666666666666,
             "#ed7953"
            ],
            [
             0.7777777777777778,
             "#fb9f3a"
            ],
            [
             0.8888888888888888,
             "#fdca26"
            ],
            [
             1,
             "#f0f921"
            ]
           ],
           "sequentialminus": [
            [
             0,
             "#0d0887"
            ],
            [
             0.1111111111111111,
             "#46039f"
            ],
            [
             0.2222222222222222,
             "#7201a8"
            ],
            [
             0.3333333333333333,
             "#9c179e"
            ],
            [
             0.4444444444444444,
             "#bd3786"
            ],
            [
             0.5555555555555556,
             "#d8576b"
            ],
            [
             0.6666666666666666,
             "#ed7953"
            ],
            [
             0.7777777777777778,
             "#fb9f3a"
            ],
            [
             0.8888888888888888,
             "#fdca26"
            ],
            [
             1,
             "#f0f921"
            ]
           ]
          },
          "colorway": [
           "#636efa",
           "#EF553B",
           "#00cc96",
           "#ab63fa",
           "#FFA15A",
           "#19d3f3",
           "#FF6692",
           "#B6E880",
           "#FF97FF",
           "#FECB52"
          ],
          "font": {
           "color": "#2a3f5f"
          },
          "geo": {
           "bgcolor": "white",
           "lakecolor": "white",
           "landcolor": "#E5ECF6",
           "showlakes": true,
           "showland": true,
           "subunitcolor": "white"
          },
          "hoverlabel": {
           "align": "left"
          },
          "hovermode": "closest",
          "mapbox": {
           "style": "light"
          },
          "paper_bgcolor": "white",
          "plot_bgcolor": "#E5ECF6",
          "polar": {
           "angularaxis": {
            "gridcolor": "white",
            "linecolor": "white",
            "ticks": ""
           },
           "bgcolor": "#E5ECF6",
           "radialaxis": {
            "gridcolor": "white",
            "linecolor": "white",
            "ticks": ""
           }
          },
          "scene": {
           "xaxis": {
            "backgroundcolor": "#E5ECF6",
            "gridcolor": "white",
            "gridwidth": 2,
            "linecolor": "white",
            "showbackground": true,
            "ticks": "",
            "zerolinecolor": "white"
           },
           "yaxis": {
            "backgroundcolor": "#E5ECF6",
            "gridcolor": "white",
            "gridwidth": 2,
            "linecolor": "white",
            "showbackground": true,
            "ticks": "",
            "zerolinecolor": "white"
           },
           "zaxis": {
            "backgroundcolor": "#E5ECF6",
            "gridcolor": "white",
            "gridwidth": 2,
            "linecolor": "white",
            "showbackground": true,
            "ticks": "",
            "zerolinecolor": "white"
           }
          },
          "shapedefaults": {
           "line": {
            "color": "#2a3f5f"
           }
          },
          "ternary": {
           "aaxis": {
            "gridcolor": "white",
            "linecolor": "white",
            "ticks": ""
           },
           "baxis": {
            "gridcolor": "white",
            "linecolor": "white",
            "ticks": ""
           },
           "bgcolor": "#E5ECF6",
           "caxis": {
            "gridcolor": "white",
            "linecolor": "white",
            "ticks": ""
           }
          },
          "title": {
           "x": 0.05
          },
          "xaxis": {
           "automargin": true,
           "gridcolor": "white",
           "linecolor": "white",
           "ticks": "",
           "title": {
            "standoff": 15
           },
           "zerolinecolor": "white",
           "zerolinewidth": 2
          },
          "yaxis": {
           "automargin": true,
           "gridcolor": "white",
           "linecolor": "white",
           "ticks": "",
           "title": {
            "standoff": 15
           },
           "zerolinecolor": "white",
           "zerolinewidth": 2
          }
         }
        },
        "title": {
         "text": "AAPL Close Price with SMA"
        },
        "xaxis": {
         "anchor": "y",
         "domain": [
          0,
          1
         ],
         "title": {
          "text": "Date"
         }
        },
        "yaxis": {
         "anchor": "x",
         "domain": [
          0,
          1
         ],
         "title": {
          "text": "value"
         }
        }
       }
      },
      "text/html": [
       "<div>            <script src=\"https://cdnjs.cloudflare.com/ajax/libs/mathjax/2.7.5/MathJax.js?config=TeX-AMS-MML_SVG\"></script><script type=\"text/javascript\">if (window.MathJax && window.MathJax.Hub && window.MathJax.Hub.Config) {window.MathJax.Hub.Config({SVG: {font: \"STIX-Web\"}});}</script>                <script type=\"text/javascript\">window.PlotlyConfig = {MathJaxConfig: 'local'};</script>\n",
       "        <script charset=\"utf-8\" src=\"https://cdn.plot.ly/plotly-3.0.0.min.js\"></script>                <div id=\"d94b9d26-e4bb-4c1d-b96f-9242321d53eb\" class=\"plotly-graph-div\" style=\"height:525px; width:100%;\"></div>            <script type=\"text/javascript\">                window.PLOTLYENV=window.PLOTLYENV || {};                                if (document.getElementById(\"d94b9d26-e4bb-4c1d-b96f-9242321d53eb\")) {                    Plotly.newPlot(                        \"d94b9d26-e4bb-4c1d-b96f-9242321d53eb\",                        [{\"hovertemplate\":\"Price=Close\\u003cbr\\u003eDate=%{x}\\u003cbr\\u003evalue=%{y}\\u003cextra\\u003e\\u003c\\u002fextra\\u003e\",\"legendgroup\":\"Close\",\"line\":{\"color\":\"#636efa\",\"dash\":\"solid\"},\"marker\":{\"symbol\":\"circle\"},\"mode\":\"lines\",\"name\":\"Close\",\"orientation\":\"v\",\"showlegend\":true,\"x\":[\"2024-02-20T00:00:00.000000000\",\"2024-02-21T00:00:00.000000000\",\"2024-02-22T00:00:00.000000000\",\"2024-02-23T00:00:00.000000000\",\"2024-02-26T00:00:00.000000000\",\"2024-02-27T00:00:00.000000000\",\"2024-02-28T00:00:00.000000000\",\"2024-02-29T00:00:00.000000000\",\"2024-03-01T00:00:00.000000000\",\"2024-03-04T00:00:00.000000000\",\"2024-03-05T00:00:00.000000000\",\"2024-03-06T00:00:00.000000000\",\"2024-03-07T00:00:00.000000000\",\"2024-03-08T00:00:00.000000000\",\"2024-03-11T00:00:00.000000000\",\"2024-03-12T00:00:00.000000000\",\"2024-03-13T00:00:00.000000000\",\"2024-03-14T00:00:00.000000000\",\"2024-03-15T00:00:00.000000000\",\"2024-03-18T00:00:00.000000000\",\"2024-03-19T00:00:00.000000000\",\"2024-03-20T00:00:00.000000000\",\"2024-03-21T00:00:00.000000000\",\"2024-03-22T00:00:00.000000000\",\"2024-03-25T00:00:00.000000000\",\"2024-03-26T00:00:00.000000000\",\"2024-03-27T00:00:00.000000000\",\"2024-03-28T00:00:00.000000000\",\"2024-04-01T00:00:00.000000000\",\"2024-04-02T00:00:00.000000000\",\"2024-04-03T00:00:00.000000000\",\"2024-04-04T00:00:00.000000000\",\"2024-04-05T00:00:00.000000000\",\"2024-04-08T00:00:00.000000000\",\"2024-04-09T00:00:00.000000000\",\"2024-04-10T00:00:00.000000000\",\"2024-04-11T00:00:00.000000000\",\"2024-04-12T00:00:00.000000000\",\"2024-04-15T00:00:00.000000000\",\"2024-04-16T00:00:00.000000000\",\"2024-04-17T00:00:00.000000000\",\"2024-04-18T00:00:00.000000000\",\"2024-04-19T00:00:00.000000000\",\"2024-04-22T00:00:00.000000000\",\"2024-04-23T00:00:00.000000000\",\"2024-04-24T00:00:00.000000000\",\"2024-04-25T00:00:00.000000000\",\"2024-04-26T00:00:00.000000000\",\"2024-04-29T00:00:00.000000000\",\"2024-04-30T00:00:00.000000000\",\"2024-05-01T00:00:00.000000000\",\"2024-05-02T00:00:00.000000000\",\"2024-05-03T00:00:00.000000000\",\"2024-05-06T00:00:00.000000000\",\"2024-05-07T00:00:00.000000000\",\"2024-05-08T00:00:00.000000000\",\"2024-05-09T00:00:00.000000000\",\"2024-05-10T00:00:00.000000000\",\"2024-05-13T00:00:00.000000000\",\"2024-05-14T00:00:00.000000000\",\"2024-05-15T00:00:00.000000000\",\"2024-05-16T00:00:00.000000000\",\"2024-05-17T00:00:00.000000000\",\"2024-05-20T00:00:00.000000000\",\"2024-05-21T00:00:00.000000000\",\"2024-05-22T00:00:00.000000000\",\"2024-05-23T00:00:00.000000000\",\"2024-05-24T00:00:00.000000000\",\"2024-05-28T00:00:00.000000000\",\"2024-05-29T00:00:00.000000000\",\"2024-05-30T00:00:00.000000000\",\"2024-05-31T00:00:00.000000000\",\"2024-06-03T00:00:00.000000000\",\"2024-06-04T00:00:00.000000000\",\"2024-06-05T00:00:00.000000000\",\"2024-06-06T00:00:00.000000000\",\"2024-06-07T00:00:00.000000000\",\"2024-06-10T00:00:00.000000000\",\"2024-06-11T00:00:00.000000000\",\"2024-06-12T00:00:00.000000000\",\"2024-06-13T00:00:00.000000000\",\"2024-06-14T00:00:00.000000000\",\"2024-06-17T00:00:00.000000000\",\"2024-06-18T00:00:00.000000000\",\"2024-06-20T00:00:00.000000000\",\"2024-06-21T00:00:00.000000000\",\"2024-06-24T00:00:00.000000000\",\"2024-06-25T00:00:00.000000000\",\"2024-06-26T00:00:00.000000000\",\"2024-06-27T00:00:00.000000000\",\"2024-06-28T00:00:00.000000000\",\"2024-07-01T00:00:00.000000000\",\"2024-07-02T00:00:00.000000000\",\"2024-07-03T00:00:00.000000000\",\"2024-07-05T00:00:00.000000000\",\"2024-07-08T00:00:00.000000000\",\"2024-07-09T00:00:00.000000000\",\"2024-07-10T00:00:00.000000000\",\"2024-07-11T00:00:00.000000000\",\"2024-07-12T00:00:00.000000000\",\"2024-07-15T00:00:00.000000000\",\"2024-07-16T00:00:00.000000000\",\"2024-07-17T00:00:00.000000000\",\"2024-07-18T00:00:00.000000000\",\"2024-07-19T00:00:00.000000000\",\"2024-07-22T00:00:00.000000000\",\"2024-07-23T00:00:00.000000000\",\"2024-07-24T00:00:00.000000000\",\"2024-07-25T00:00:00.000000000\",\"2024-07-26T00:00:00.000000000\",\"2024-07-29T00:00:00.000000000\",\"2024-07-30T00:00:00.000000000\",\"2024-07-31T00:00:00.000000000\",\"2024-08-01T00:00:00.000000000\",\"2024-08-02T00:00:00.000000000\",\"2024-08-05T00:00:00.000000000\",\"2024-08-06T00:00:00.000000000\",\"2024-08-07T00:00:00.000000000\",\"2024-08-08T00:00:00.000000000\",\"2024-08-09T00:00:00.000000000\",\"2024-08-12T00:00:00.000000000\",\"2024-08-13T00:00:00.000000000\",\"2024-08-14T00:00:00.000000000\",\"2024-08-15T00:00:00.000000000\",\"2024-08-16T00:00:00.000000000\",\"2024-08-19T00:00:00.000000000\",\"2024-08-20T00:00:00.000000000\",\"2024-08-21T00:00:00.000000000\",\"2024-08-22T00:00:00.000000000\",\"2024-08-23T00:00:00.000000000\",\"2024-08-26T00:00:00.000000000\",\"2024-08-27T00:00:00.000000000\",\"2024-08-28T00:00:00.000000000\",\"2024-08-29T00:00:00.000000000\",\"2024-08-30T00:00:00.000000000\",\"2024-09-03T00:00:00.000000000\",\"2024-09-04T00:00:00.000000000\",\"2024-09-05T00:00:00.000000000\",\"2024-09-06T00:00:00.000000000\",\"2024-09-09T00:00:00.000000000\",\"2024-09-10T00:00:00.000000000\",\"2024-09-11T00:00:00.000000000\",\"2024-09-12T00:00:00.000000000\",\"2024-09-13T00:00:00.000000000\",\"2024-09-16T00:00:00.000000000\",\"2024-09-17T00:00:00.000000000\",\"2024-09-18T00:00:00.000000000\",\"2024-09-19T00:00:00.000000000\",\"2024-09-20T00:00:00.000000000\",\"2024-09-23T00:00:00.000000000\",\"2024-09-24T00:00:00.000000000\",\"2024-09-25T00:00:00.000000000\",\"2024-09-26T00:00:00.000000000\",\"2024-09-27T00:00:00.000000000\",\"2024-09-30T00:00:00.000000000\",\"2024-10-01T00:00:00.000000000\",\"2024-10-02T00:00:00.000000000\",\"2024-10-03T00:00:00.000000000\",\"2024-10-04T00:00:00.000000000\",\"2024-10-07T00:00:00.000000000\",\"2024-10-08T00:00:00.000000000\",\"2024-10-09T00:00:00.000000000\",\"2024-10-10T00:00:00.000000000\",\"2024-10-11T00:00:00.000000000\",\"2024-10-14T00:00:00.000000000\",\"2024-10-15T00:00:00.000000000\",\"2024-10-16T00:00:00.000000000\",\"2024-10-17T00:00:00.000000000\",\"2024-10-18T00:00:00.000000000\",\"2024-10-21T00:00:00.000000000\",\"2024-10-22T00:00:00.000000000\",\"2024-10-23T00:00:00.000000000\",\"2024-10-24T00:00:00.000000000\",\"2024-10-25T00:00:00.000000000\",\"2024-10-28T00:00:00.000000000\",\"2024-10-29T00:00:00.000000000\",\"2024-10-30T00:00:00.000000000\",\"2024-10-31T00:00:00.000000000\",\"2024-11-01T00:00:00.000000000\",\"2024-11-04T00:00:00.000000000\",\"2024-11-05T00:00:00.000000000\",\"2024-11-06T00:00:00.000000000\",\"2024-11-07T00:00:00.000000000\",\"2024-11-08T00:00:00.000000000\",\"2024-11-11T00:00:00.000000000\",\"2024-11-12T00:00:00.000000000\",\"2024-11-13T00:00:00.000000000\",\"2024-11-14T00:00:00.000000000\",\"2024-11-15T00:00:00.000000000\",\"2024-11-18T00:00:00.000000000\",\"2024-11-19T00:00:00.000000000\",\"2024-11-20T00:00:00.000000000\",\"2024-11-21T00:00:00.000000000\",\"2024-11-22T00:00:00.000000000\",\"2024-11-25T00:00:00.000000000\",\"2024-11-26T00:00:00.000000000\",\"2024-11-27T00:00:00.000000000\",\"2024-11-29T00:00:00.000000000\",\"2024-12-02T00:00:00.000000000\",\"2024-12-03T00:00:00.000000000\",\"2024-12-04T00:00:00.000000000\",\"2024-12-05T00:00:00.000000000\",\"2024-12-06T00:00:00.000000000\",\"2024-12-09T00:00:00.000000000\",\"2024-12-10T00:00:00.000000000\",\"2024-12-11T00:00:00.000000000\",\"2024-12-12T00:00:00.000000000\",\"2024-12-13T00:00:00.000000000\",\"2024-12-16T00:00:00.000000000\",\"2024-12-17T00:00:00.000000000\",\"2024-12-18T00:00:00.000000000\",\"2024-12-19T00:00:00.000000000\",\"2024-12-20T00:00:00.000000000\",\"2024-12-23T00:00:00.000000000\",\"2024-12-24T00:00:00.000000000\",\"2024-12-26T00:00:00.000000000\",\"2024-12-27T00:00:00.000000000\",\"2024-12-30T00:00:00.000000000\",\"2024-12-31T00:00:00.000000000\",\"2025-01-02T00:00:00.000000000\",\"2025-01-03T00:00:00.000000000\",\"2025-01-06T00:00:00.000000000\",\"2025-01-07T00:00:00.000000000\",\"2025-01-08T00:00:00.000000000\",\"2025-01-10T00:00:00.000000000\",\"2025-01-13T00:00:00.000000000\",\"2025-01-14T00:00:00.000000000\",\"2025-01-15T00:00:00.000000000\",\"2025-01-16T00:00:00.000000000\",\"2025-01-17T00:00:00.000000000\",\"2025-01-21T00:00:00.000000000\",\"2025-01-22T00:00:00.000000000\",\"2025-01-23T00:00:00.000000000\",\"2025-01-24T00:00:00.000000000\",\"2025-01-27T00:00:00.000000000\",\"2025-01-28T00:00:00.000000000\",\"2025-01-29T00:00:00.000000000\",\"2025-01-30T00:00:00.000000000\",\"2025-01-31T00:00:00.000000000\",\"2025-02-03T00:00:00.000000000\",\"2025-02-04T00:00:00.000000000\",\"2025-02-05T00:00:00.000000000\",\"2025-02-06T00:00:00.000000000\",\"2025-02-07T00:00:00.000000000\",\"2025-02-10T00:00:00.000000000\",\"2025-02-11T00:00:00.000000000\",\"2025-02-12T00:00:00.000000000\",\"2025-02-13T00:00:00.000000000\",\"2025-02-14T00:00:00.000000000\",\"2025-02-18T00:00:00.000000000\",\"2025-02-19T00:00:00.000000000\"],\"xaxis\":\"x\",\"y\":{\"dtype\":\"f8\",\"bdata\":\"AAAAYJ2WZkAAAABg0q5mQAAAAOAc8GZAAAAA4DC1ZkAAAAAg4IlmQAAAAMCxuGZAAAAAICiSZkAAAABA0XxmQAAAAAAaWmZAAAAAIN7IZUAAAACAQSplQAAAAOBnCmVAAAAAgJUGZUAAAAAgrz1lQAAAAEAFfmVAAAAAwE6NZUAAAACgbEplQAAAAKD7hWVAAAAAIOF5ZUAAAAAg6pxlQAAAAGAU6GVAAAAA4JE6ZkAAAABAEVJlQAAAACANb2VAAAAAoIFBZUAAAACgMh1lQAAAACDbj2VAAAAAIJJVZUAAAADAYydlQAAAAAB9AWVAAAAAQEkbZUAAAAAA2gBlQAAAAMAOGWVAAAAAQBH1ZEAAAACA7BtlQAAAAEC632RAAAAAoPTGZUAAAACADPdlQAAAAAAcfGVAAAAAALASZUAAAAAAvOZkQAAAAKAoyGRAAAAAgC+HZEAAAACg8KFkQAAAACCzw2RAAAAAwDgHZUAAAAAg7iJlQAAAAKAjEGVAAAAAYOiVZUAAAADA8TBlQAAAAKAjEGVAAAAAQPCGZUAAAADglNBmQAAAAMBkm2ZAAAAAgF6xZkAAAACgMrxmQAAAAMB79mZAAAAAoPrNZkAAAAAg\\u002fjRnQAAAAGCrWWdAAAAAYLSiZ0AAAAAAiKZnQAAAAOB8p2dAAAAAgM3MZ0AAAAAglfZnQAAAAGBWyGdAAAAA4CBIZ0AAAAAA\\u002f6pnQAAAAKBQq2dAAAAAAOK0Z0AAAACgxtRnQAAAAIBk82dAAAAAgCksaEAAAABAXjZoQAAAAEDYZmhAAAAAgIM6aEAAAAAAYIdoQAAAAMAjD2hAAAAAYJjOaUAAAADAZotqQAAAAGC3sGpAAAAAYOd4akAAAAAgN\\u002f5qQAAAAGBPsmpAAAAA4EgfakAAAACAcNlpQAAAAGAr7mlAAAAAgNQLakAAAABgJJFqQAAAAEBArGpAAAAAYEM9akAAAABAxABrQAAAAIAHcWtAAAAAINqZa0AAAABgnjJsQAAAAADSYWxAAAAAYD99bEAAAAAAYwZtQAAAAODYWWxAAAAAgJG4bEAAAADArDNtQAAAAOARQW1AAAAAYKCDbEAAAADguu1rQAAAAEDg8WtAAAAA4Lbma0AAAACAMwhsQAAAAODaOWtAAAAAIF4Ya0AAAACAWydrQAAAAIBJMGtAAAAAoCVCa0AAAABgwaprQAAAACAdNGtAAAAAIPRja0AAAACANRJqQAAAAMAl0WlAAAAA4L8jakAAAABADpNqQAAAAICA8GpAAAAAYKwha0AAAAAgF5lrQAAAAIB1p2tAAAAAgD8HbEAAAAAAtzFsQAAAACCbLGxAAAAAAGdAbEAAAADA4zxsQAAAAIAuAWxAAAAAYPBKbEAAAACAy1VsQAAAAGDvcGxAAAAAgMM\\u002fbEAAAADAIalsQAAAAEDoj2xAAAAAIPzIa0AAAAAgrotrQAAAAECIvGtAAAAAALmKa0AAAACAmI1rQAAAAGANdGtAAAAAAHnFa0AAAAAg\\u002fMhrQAAAAEBdwGtAAAAA4An7akAAAACACwprQAAAAECShmtAAAAAoMGLbEAAAAAAXXZsQAAAAAAgP2xAAAAAoNxbbEAAAACg7jtsQAAAAMCmYGxAAAAAoEVpbEAAAABgoA9tQAAAAODSNmxAAAAAAAZJbEAAAADAlCVsQAAAAICpSWxAAAAAQICma0AAAABAxihsQAAAAEAmoWxAAAAAQC+RbEAAAAAAnGFsQAAAAIBY2WxAAAAAQMQqbUAAAAAArOhsQAAAAGB89GxAAAAAQHxPbUAAAADgvX5tQAAAAADyam1AAAAAgBrIbEAAAACgCcJsQAAAAKDb3GxAAAAA4GUcbUAAAADgBCVtQAAAAKAHs2xAAAAAoD4tbEAAAACAdM1rQAAAAOC3sGtAAAAAgLLea0AAAACAY8drQAAAAMBfX2xAAAAAYL5WbEAAAADAev9rQAAAAMB6\\u002f2tAAAAAoO0bbEAAAAAABX9sQAAAAKAXGGxAAAAAYKB4bEAAAADg74BsQAAAAKDzl2xAAAAA4JuIbEAAAADgwrNsQAAAAOCnE21AAAAAoKhZbUAAAADggFVtQAAAACA4om1AAAAAoHXqbUAAAACgRUxuQAAAAIDHV25AAAAAAL1YbkAAAABgWFJuQAAAAABUz25AAAAAoO7vbkAAAABgBMduQAAAAIAB9m5AAAAAgHD7bkAAAAAAdVhvQAAAAIBzpm9AAAAA4OH4bkAAAABAgDBvQAAAAIC8xm9AAAAAQKvfb0AAAADAqR5wQAAAAKDEK3BAAAAAwOXpb0AAAABgiX1vQAAAAKCjRG9AAAAAYKFybkAAAACg92JuQAAAAMBjl25AAAAAQDU+bkAAAADA3k1uQAAAAEDgkm1AAAAA4I9EbUAAAADgwiBtQAAAAOB6s21AAAAAQEyAbEAAAAAAR7dsQAAAAMCnzGtAAAAAgLHya0AAAACAQu1rQAAAAGAh0WtAAAAAAHGzbEAAAABA8r9tQAAAAKAb421AAAAAoIeqbUAAAADAtHdtQAAAAIBOeGxAAAAAIGsRbUAAAADA3gZtQAAAAADYHm1AAAAAAClsbEAAAADAzHRsQAAAAADXE21AAAAAANebbUAAAADA9TBuQAAAAEAzk25AAAAAQAqPbkAAAAAA15tuQA==\"},\"yaxis\":\"y\",\"type\":\"scatter\"},{\"hovertemplate\":\"Price=SMA10\\u003cbr\\u003eDate=%{x}\\u003cbr\\u003evalue=%{y}\\u003cextra\\u003e\\u003c\\u002fextra\\u003e\",\"legendgroup\":\"SMA10\",\"line\":{\"color\":\"#EF553B\",\"dash\":\"solid\"},\"marker\":{\"symbol\":\"circle\"},\"mode\":\"lines\",\"name\":\"SMA10\",\"orientation\":\"v\",\"showlegend\":true,\"x\":[\"2024-02-20T00:00:00.000000000\",\"2024-02-21T00:00:00.000000000\",\"2024-02-22T00:00:00.000000000\",\"2024-02-23T00:00:00.000000000\",\"2024-02-26T00:00:00.000000000\",\"2024-02-27T00:00:00.000000000\",\"2024-02-28T00:00:00.000000000\",\"2024-02-29T00:00:00.000000000\",\"2024-03-01T00:00:00.000000000\",\"2024-03-04T00:00:00.000000000\",\"2024-03-05T00:00:00.000000000\",\"2024-03-06T00:00:00.000000000\",\"2024-03-07T00:00:00.000000000\",\"2024-03-08T00:00:00.000000000\",\"2024-03-11T00:00:00.000000000\",\"2024-03-12T00:00:00.000000000\",\"2024-03-13T00:00:00.000000000\",\"2024-03-14T00:00:00.000000000\",\"2024-03-15T00:00:00.000000000\",\"2024-03-18T00:00:00.000000000\",\"2024-03-19T00:00:00.000000000\",\"2024-03-20T00:00:00.000000000\",\"2024-03-21T00:00:00.000000000\",\"2024-03-22T00:00:00.000000000\",\"2024-03-25T00:00:00.000000000\",\"2024-03-26T00:00:00.000000000\",\"2024-03-27T00:00:00.000000000\",\"2024-03-28T00:00:00.000000000\",\"2024-04-01T00:00:00.000000000\",\"2024-04-02T00:00:00.000000000\",\"2024-04-03T00:00:00.000000000\",\"2024-04-04T00:00:00.000000000\",\"2024-04-05T00:00:00.000000000\",\"2024-04-08T00:00:00.000000000\",\"2024-04-09T00:00:00.000000000\",\"2024-04-10T00:00:00.000000000\",\"2024-04-11T00:00:00.000000000\",\"2024-04-12T00:00:00.000000000\",\"2024-04-15T00:00:00.000000000\",\"2024-04-16T00:00:00.000000000\",\"2024-04-17T00:00:00.000000000\",\"2024-04-18T00:00:00.000000000\",\"2024-04-19T00:00:00.000000000\",\"2024-04-22T00:00:00.000000000\",\"2024-04-23T00:00:00.000000000\",\"2024-04-24T00:00:00.000000000\",\"2024-04-25T00:00:00.000000000\",\"2024-04-26T00:00:00.000000000\",\"2024-04-29T00:00:00.000000000\",\"2024-04-30T00:00:00.000000000\",\"2024-05-01T00:00:00.000000000\",\"2024-05-02T00:00:00.000000000\",\"2024-05-03T00:00:00.000000000\",\"2024-05-06T00:00:00.000000000\",\"2024-05-07T00:00:00.000000000\",\"2024-05-08T00:00:00.000000000\",\"2024-05-09T00:00:00.000000000\",\"2024-05-10T00:00:00.000000000\",\"2024-05-13T00:00:00.000000000\",\"2024-05-14T00:00:00.000000000\",\"2024-05-15T00:00:00.000000000\",\"2024-05-16T00:00:00.000000000\",\"2024-05-17T00:00:00.000000000\",\"2024-05-20T00:00:00.000000000\",\"2024-05-21T00:00:00.000000000\",\"2024-05-22T00:00:00.000000000\",\"2024-05-23T00:00:00.000000000\",\"2024-05-24T00:00:00.000000000\",\"2024-05-28T00:00:00.000000000\",\"2024-05-29T00:00:00.000000000\",\"2024-05-30T00:00:00.000000000\",\"2024-05-31T00:00:00.000000000\",\"2024-06-03T00:00:00.000000000\",\"2024-06-04T00:00:00.000000000\",\"2024-06-05T00:00:00.000000000\",\"2024-06-06T00:00:00.000000000\",\"2024-06-07T00:00:00.000000000\",\"2024-06-10T00:00:00.000000000\",\"2024-06-11T00:00:00.000000000\",\"2024-06-12T00:00:00.000000000\",\"2024-06-13T00:00:00.000000000\",\"2024-06-14T00:00:00.000000000\",\"2024-06-17T00:00:00.000000000\",\"2024-06-18T00:00:00.000000000\",\"2024-06-20T00:00:00.000000000\",\"2024-06-21T00:00:00.000000000\",\"2024-06-24T00:00:00.000000000\",\"2024-06-25T00:00:00.000000000\",\"2024-06-26T00:00:00.000000000\",\"2024-06-27T00:00:00.000000000\",\"2024-06-28T00:00:00.000000000\",\"2024-07-01T00:00:00.000000000\",\"2024-07-02T00:00:00.000000000\",\"2024-07-03T00:00:00.000000000\",\"2024-07-05T00:00:00.000000000\",\"2024-07-08T00:00:00.000000000\",\"2024-07-09T00:00:00.000000000\",\"2024-07-10T00:00:00.000000000\",\"2024-07-11T00:00:00.000000000\",\"2024-07-12T00:00:00.000000000\",\"2024-07-15T00:00:00.000000000\",\"2024-07-16T00:00:00.000000000\",\"2024-07-17T00:00:00.000000000\",\"2024-07-18T00:00:00.000000000\",\"2024-07-19T00:00:00.000000000\",\"2024-07-22T00:00:00.000000000\",\"2024-07-23T00:00:00.000000000\",\"2024-07-24T00:00:00.000000000\",\"2024-07-25T00:00:00.000000000\",\"2024-07-26T00:00:00.000000000\",\"2024-07-29T00:00:00.000000000\",\"2024-07-30T00:00:00.000000000\",\"2024-07-31T00:00:00.000000000\",\"2024-08-01T00:00:00.000000000\",\"2024-08-02T00:00:00.000000000\",\"2024-08-05T00:00:00.000000000\",\"2024-08-06T00:00:00.000000000\",\"2024-08-07T00:00:00.000000000\",\"2024-08-08T00:00:00.000000000\",\"2024-08-09T00:00:00.000000000\",\"2024-08-12T00:00:00.000000000\",\"2024-08-13T00:00:00.000000000\",\"2024-08-14T00:00:00.000000000\",\"2024-08-15T00:00:00.000000000\",\"2024-08-16T00:00:00.000000000\",\"2024-08-19T00:00:00.000000000\",\"2024-08-20T00:00:00.000000000\",\"2024-08-21T00:00:00.000000000\",\"2024-08-22T00:00:00.000000000\",\"2024-08-23T00:00:00.000000000\",\"2024-08-26T00:00:00.000000000\",\"2024-08-27T00:00:00.000000000\",\"2024-08-28T00:00:00.000000000\",\"2024-08-29T00:00:00.000000000\",\"2024-08-30T00:00:00.000000000\",\"2024-09-03T00:00:00.000000000\",\"2024-09-04T00:00:00.000000000\",\"2024-09-05T00:00:00.000000000\",\"2024-09-06T00:00:00.000000000\",\"2024-09-09T00:00:00.000000000\",\"2024-09-10T00:00:00.000000000\",\"2024-09-11T00:00:00.000000000\",\"2024-09-12T00:00:00.000000000\",\"2024-09-13T00:00:00.000000000\",\"2024-09-16T00:00:00.000000000\",\"2024-09-17T00:00:00.000000000\",\"2024-09-18T00:00:00.000000000\",\"2024-09-19T00:00:00.000000000\",\"2024-09-20T00:00:00.000000000\",\"2024-09-23T00:00:00.000000000\",\"2024-09-24T00:00:00.000000000\",\"2024-09-25T00:00:00.000000000\",\"2024-09-26T00:00:00.000000000\",\"2024-09-27T00:00:00.000000000\",\"2024-09-30T00:00:00.000000000\",\"2024-10-01T00:00:00.000000000\",\"2024-10-02T00:00:00.000000000\",\"2024-10-03T00:00:00.000000000\",\"2024-10-04T00:00:00.000000000\",\"2024-10-07T00:00:00.000000000\",\"2024-10-08T00:00:00.000000000\",\"2024-10-09T00:00:00.000000000\",\"2024-10-10T00:00:00.000000000\",\"2024-10-11T00:00:00.000000000\",\"2024-10-14T00:00:00.000000000\",\"2024-10-15T00:00:00.000000000\",\"2024-10-16T00:00:00.000000000\",\"2024-10-17T00:00:00.000000000\",\"2024-10-18T00:00:00.000000000\",\"2024-10-21T00:00:00.000000000\",\"2024-10-22T00:00:00.000000000\",\"2024-10-23T00:00:00.000000000\",\"2024-10-24T00:00:00.000000000\",\"2024-10-25T00:00:00.000000000\",\"2024-10-28T00:00:00.000000000\",\"2024-10-29T00:00:00.000000000\",\"2024-10-30T00:00:00.000000000\",\"2024-10-31T00:00:00.000000000\",\"2024-11-01T00:00:00.000000000\",\"2024-11-04T00:00:00.000000000\",\"2024-11-05T00:00:00.000000000\",\"2024-11-06T00:00:00.000000000\",\"2024-11-07T00:00:00.000000000\",\"2024-11-08T00:00:00.000000000\",\"2024-11-11T00:00:00.000000000\",\"2024-11-12T00:00:00.000000000\",\"2024-11-13T00:00:00.000000000\",\"2024-11-14T00:00:00.000000000\",\"2024-11-15T00:00:00.000000000\",\"2024-11-18T00:00:00.000000000\",\"2024-11-19T00:00:00.000000000\",\"2024-11-20T00:00:00.000000000\",\"2024-11-21T00:00:00.000000000\",\"2024-11-22T00:00:00.000000000\",\"2024-11-25T00:00:00.000000000\",\"2024-11-26T00:00:00.000000000\",\"2024-11-27T00:00:00.000000000\",\"2024-11-29T00:00:00.000000000\",\"2024-12-02T00:00:00.000000000\",\"2024-12-03T00:00:00.000000000\",\"2024-12-04T00:00:00.000000000\",\"2024-12-05T00:00:00.000000000\",\"2024-12-06T00:00:00.000000000\",\"2024-12-09T00:00:00.000000000\",\"2024-12-10T00:00:00.000000000\",\"2024-12-11T00:00:00.000000000\",\"2024-12-12T00:00:00.000000000\",\"2024-12-13T00:00:00.000000000\",\"2024-12-16T00:00:00.000000000\",\"2024-12-17T00:00:00.000000000\",\"2024-12-18T00:00:00.000000000\",\"2024-12-19T00:00:00.000000000\",\"2024-12-20T00:00:00.000000000\",\"2024-12-23T00:00:00.000000000\",\"2024-12-24T00:00:00.000000000\",\"2024-12-26T00:00:00.000000000\",\"2024-12-27T00:00:00.000000000\",\"2024-12-30T00:00:00.000000000\",\"2024-12-31T00:00:00.000000000\",\"2025-01-02T00:00:00.000000000\",\"2025-01-03T00:00:00.000000000\",\"2025-01-06T00:00:00.000000000\",\"2025-01-07T00:00:00.000000000\",\"2025-01-08T00:00:00.000000000\",\"2025-01-10T00:00:00.000000000\",\"2025-01-13T00:00:00.000000000\",\"2025-01-14T00:00:00.000000000\",\"2025-01-15T00:00:00.000000000\",\"2025-01-16T00:00:00.000000000\",\"2025-01-17T00:00:00.000000000\",\"2025-01-21T00:00:00.000000000\",\"2025-01-22T00:00:00.000000000\",\"2025-01-23T00:00:00.000000000\",\"2025-01-24T00:00:00.000000000\",\"2025-01-27T00:00:00.000000000\",\"2025-01-28T00:00:00.000000000\",\"2025-01-29T00:00:00.000000000\",\"2025-01-30T00:00:00.000000000\",\"2025-01-31T00:00:00.000000000\",\"2025-02-03T00:00:00.000000000\",\"2025-02-04T00:00:00.000000000\",\"2025-02-05T00:00:00.000000000\",\"2025-02-06T00:00:00.000000000\",\"2025-02-07T00:00:00.000000000\",\"2025-02-10T00:00:00.000000000\",\"2025-02-11T00:00:00.000000000\",\"2025-02-12T00:00:00.000000000\",\"2025-02-13T00:00:00.000000000\",\"2025-02-14T00:00:00.000000000\",\"2025-02-18T00:00:00.000000000\",\"2025-02-19T00:00:00.000000000\"],\"xaxis\":\"x\",\"y\":{\"dtype\":\"f8\",\"bdata\":\"AAAAAAAA+H8AAAAAAAD4fwAAAAAAAPh\\u002fAAAAAAAA+H8AAAAAAAD4fwAAAAAAAPh\\u002fAAAAAAAA+H8AAAAAAAD4fwAAAAAAAPh\\u002fzczMfIaJZkBmZmbmFmVmQAAAAEAMO2ZAAAAAUBgKZkBmZmZWi+RlQAAAAEDCyWVAMzMz89GrZUAAAAAADItlQJqZmQldcmVAMzMz8\\u002fBbZUAAAADAi1dlQM3MzDyHamVAZmZm1vGIZUBmZmY2fpBlQDMzMwNulWVAmpmZ2WCPZUBmZmbWKoRlQJqZmUkci2VAAAAA8ESGZUAzMzMzBX5lQJqZmUl6bmVAMzMzk\\u002f9ZZUAzMzNjoDplQAAAAPDsNGVAZmZmJrooZUCamZkJ+CRlQGZmZmbSHmVAMzMz81QkZUCamZnJejRlQM3MzJzzPGVAmpmZ6as+ZUBmZmaWajllQAAAAEC\\u002fM2VAzczM7CglZUDNzMzc2BxlQDMzM1MGFGVAAAAAYPkXZUAzMzNTkgdlQJqZmQl78GRAmpmZeQ\\u002fzZEDNzMwMFvZkQDMzMwM6+mRAmpmZ+U0NZUDNzMwc2EdlQJqZmbljemVAmpmZqcGrZUAAAABAdNdlQM3MzJw1BmZAzczMHMsyZkCamZlJTVxmQM3MzAyTk2ZAMzMzU27VZkDNzMxMygtnQGZmZuZHIWdAAAAAYNI\\u002fZ0BmZmbWV2BnQGZmZjYoe2dAMzMzU1KDZ0DNzMxcbJlnQJqZmWlBpWdAmpmZeWCuZ0DNzMxMYrNnQDMzM\\u002fMRu2dAmpmZaVbIZ0AzMzPj5NJnQM3MzMwe3mdAZmZmtonpZ0DNzMxsdgloQJqZmRl6E2hAmpmZeTRKaECamZlZ25JoQGZmZgYN3GhAzczMHJocaUDNzMyszmRpQJqZmclmpGlAzczMDHLQaUBmZmYm8PlpQJqZmUnRHWpAMzMzw69QakCamZkpJGRqQM3MzBxtZ2pAMzMzg+FbakCamZmZd2lqQGZmZtbydGpAAAAAUBqMakBmZmZ2PMFqQDMzMwMTAmtAMzMzA5VDa0BmZmZ21o9rQM3MzByCvWtAMzMzo\\u002fDxa0CamZn5xz1sQGZmZlZpd2xAZmZmBt+SbEDNzMxMQptsQDMzM+PIlGxAAAAAYHmIbEDNzMz8xHxsQAAAAGC3TmxAAAAAgJEubEAAAACAcgZsQDMzM5Po0mtAMzMz89Cfa0DNzMwMIYprQGZmZkaRd2tAAAAAEGBpa0AzMzNThjprQAAAAMDRAWtAAAAAQALmakBmZmZ2rdhqQJqZmSkx02pAzczMDLvRakDNzMzMbNpqQJqZmWkY2mpAMzMzczXvakAAAADwyANrQGZmZuafOWtAmpmZOfN3a0AzMzMDqq1rQGZmZtZG0mtAAAAAoOv0a0CamZmJuxNsQJqZmSlRKWxAmpmZKYw4bEAzMzNjvEhsQGZmZrYnUmxAmpmZaTFIbEDNzMzsHjZsQJqZmflIKWxAzczMbHAdbEDNzMw8gQpsQJqZmTnu82tAmpmZycjia0DNzMwM6NZrQDMzMzOhv2tAAAAAkCSXa0AAAACADIRrQGZmZraJg2tAZmZmpkKYa0DNzMwM069rQM3MzMyTwWtAAAAAIMLYa0AAAACwmuRrQJqZmVnF82tAMzMzY6kEbEAzMzOj6zlsQDMzM5P\\u002fV2xAzczMjHFrbEDNzMzcOWFsQDMzM4PBXGxAZmZmVn5NbEAAAACAYkhsQJqZmamBUmxAzczMHFxXbEAzMzPzl1ZsQM3MzFwqUWxAzczMTI9pbEDNzMxMhnlsQAAAABA3jmxAzczMvGWobECamZkZn9dsQM3MzKzW92xAZmZm5rv7bECamZmJngBtQDMzM7PxDG1AzczMPKYTbUCamZkZExNtQM3MzNy1DW1AmpmZScn5bECamZnpLtNsQM3MzBz7pGxAmpmZKVt9bEAzMzNDr2NsQJqZmXnRWWxAZmZmJmhMbEDNzMw86i9sQAAAAKCPEmxAzczMbHMDbEDNzMzcoAtsQDMzM5MXE2xAmpmZORUnbEAAAACQTjdsQGZmZsYpTGxAMzMzY0lQbEAzMzOjlllsQAAAAMA0dWxAAAAA8NKXbEBmZmZ2LrdsQM3MzCxN1GxAzczMLPACbUBmZmbmszFtQGZmZnbJYG1AZmZmZqqNbUAzMzNzcLttQM3MzFxl8W1AmpmZCQYhbkBmZmY2j0VuQM3MzKw1b25AAAAAULuRbkCamZnZVLZuQJqZmQnz2G5AZmZmRg\\u002fpbkDNzMzMov5uQDMzMwPgI29AAAAA8Bs\\u002fb0AzMzPTcmBvQM3MzByAiG9AzczMvOOgb0CamZk55q1vQDMzM+Pqq29AzczMrCKNb0CamZnZJH5vQDMzMzPVbm9AmpmZeZRHb0DNzMxsZh9vQDMzM7Mn225AmpmZKXWMbkAAAADgJEVuQAAAAKBWF25AZmZmFoHQbUAAAABAK6RtQAAAABDwYW1AMzMzo0QebUCamZkp+eJsQAAAAKBMo2xAMzMzs\\u002fSMbEBmZmZWS5lsQM3MzJy6rGxAzczMfNWrbEAzMzMjk8RsQGZmZhZHvmxAZmZmBsHebEBmZmYmX\\u002fpsQJqZmRnuGG1AzczM3G4obUDNzMw8KyJtQAAAAFD1EG1AmpmZ2dQJbUAzMzNDRhdtQGZmZrafM21AMzMz4xhpbUAzMzMTipBtQA==\"},\"yaxis\":\"y\",\"type\":\"scatter\"},{\"hovertemplate\":\"Price=SMA20\\u003cbr\\u003eDate=%{x}\\u003cbr\\u003evalue=%{y}\\u003cextra\\u003e\\u003c\\u002fextra\\u003e\",\"legendgroup\":\"SMA20\",\"line\":{\"color\":\"#00cc96\",\"dash\":\"solid\"},\"marker\":{\"symbol\":\"circle\"},\"mode\":\"lines\",\"name\":\"SMA20\",\"orientation\":\"v\",\"showlegend\":true,\"x\":[\"2024-02-20T00:00:00.000000000\",\"2024-02-21T00:00:00.000000000\",\"2024-02-22T00:00:00.000000000\",\"2024-02-23T00:00:00.000000000\",\"2024-02-26T00:00:00.000000000\",\"2024-02-27T00:00:00.000000000\",\"2024-02-28T00:00:00.000000000\",\"2024-02-29T00:00:00.000000000\",\"2024-03-01T00:00:00.000000000\",\"2024-03-04T00:00:00.000000000\",\"2024-03-05T00:00:00.000000000\",\"2024-03-06T00:00:00.000000000\",\"2024-03-07T00:00:00.000000000\",\"2024-03-08T00:00:00.000000000\",\"2024-03-11T00:00:00.000000000\",\"2024-03-12T00:00:00.000000000\",\"2024-03-13T00:00:00.000000000\",\"2024-03-14T00:00:00.000000000\",\"2024-03-15T00:00:00.000000000\",\"2024-03-18T00:00:00.000000000\",\"2024-03-19T00:00:00.000000000\",\"2024-03-20T00:00:00.000000000\",\"2024-03-21T00:00:00.000000000\",\"2024-03-22T00:00:00.000000000\",\"2024-03-25T00:00:00.000000000\",\"2024-03-26T00:00:00.000000000\",\"2024-03-27T00:00:00.000000000\",\"2024-03-28T00:00:00.000000000\",\"2024-04-01T00:00:00.000000000\",\"2024-04-02T00:00:00.000000000\",\"2024-04-03T00:00:00.000000000\",\"2024-04-04T00:00:00.000000000\",\"2024-04-05T00:00:00.000000000\",\"2024-04-08T00:00:00.000000000\",\"2024-04-09T00:00:00.000000000\",\"2024-04-10T00:00:00.000000000\",\"2024-04-11T00:00:00.000000000\",\"2024-04-12T00:00:00.000000000\",\"2024-04-15T00:00:00.000000000\",\"2024-04-16T00:00:00.000000000\",\"2024-04-17T00:00:00.000000000\",\"2024-04-18T00:00:00.000000000\",\"2024-04-19T00:00:00.000000000\",\"2024-04-22T00:00:00.000000000\",\"2024-04-23T00:00:00.000000000\",\"2024-04-24T00:00:00.000000000\",\"2024-04-25T00:00:00.000000000\",\"2024-04-26T00:00:00.000000000\",\"2024-04-29T00:00:00.000000000\",\"2024-04-30T00:00:00.000000000\",\"2024-05-01T00:00:00.000000000\",\"2024-05-02T00:00:00.000000000\",\"2024-05-03T00:00:00.000000000\",\"2024-05-06T00:00:00.000000000\",\"2024-05-07T00:00:00.000000000\",\"2024-05-08T00:00:00.000000000\",\"2024-05-09T00:00:00.000000000\",\"2024-05-10T00:00:00.000000000\",\"2024-05-13T00:00:00.000000000\",\"2024-05-14T00:00:00.000000000\",\"2024-05-15T00:00:00.000000000\",\"2024-05-16T00:00:00.000000000\",\"2024-05-17T00:00:00.000000000\",\"2024-05-20T00:00:00.000000000\",\"2024-05-21T00:00:00.000000000\",\"2024-05-22T00:00:00.000000000\",\"2024-05-23T00:00:00.000000000\",\"2024-05-24T00:00:00.000000000\",\"2024-05-28T00:00:00.000000000\",\"2024-05-29T00:00:00.000000000\",\"2024-05-30T00:00:00.000000000\",\"2024-05-31T00:00:00.000000000\",\"2024-06-03T00:00:00.000000000\",\"2024-06-04T00:00:00.000000000\",\"2024-06-05T00:00:00.000000000\",\"2024-06-06T00:00:00.000000000\",\"2024-06-07T00:00:00.000000000\",\"2024-06-10T00:00:00.000000000\",\"2024-06-11T00:00:00.000000000\",\"2024-06-12T00:00:00.000000000\",\"2024-06-13T00:00:00.000000000\",\"2024-06-14T00:00:00.000000000\",\"2024-06-17T00:00:00.000000000\",\"2024-06-18T00:00:00.000000000\",\"2024-06-20T00:00:00.000000000\",\"2024-06-21T00:00:00.000000000\",\"2024-06-24T00:00:00.000000000\",\"2024-06-25T00:00:00.000000000\",\"2024-06-26T00:00:00.000000000\",\"2024-06-27T00:00:00.000000000\",\"2024-06-28T00:00:00.000000000\",\"2024-07-01T00:00:00.000000000\",\"2024-07-02T00:00:00.000000000\",\"2024-07-03T00:00:00.000000000\",\"2024-07-05T00:00:00.000000000\",\"2024-07-08T00:00:00.000000000\",\"2024-07-09T00:00:00.000000000\",\"2024-07-10T00:00:00.000000000\",\"2024-07-11T00:00:00.000000000\",\"2024-07-12T00:00:00.000000000\",\"2024-07-15T00:00:00.000000000\",\"2024-07-16T00:00:00.000000000\",\"2024-07-17T00:00:00.000000000\",\"2024-07-18T00:00:00.000000000\",\"2024-07-19T00:00:00.000000000\",\"2024-07-22T00:00:00.000000000\",\"2024-07-23T00:00:00.000000000\",\"2024-07-24T00:00:00.000000000\",\"2024-07-25T00:00:00.000000000\",\"2024-07-26T00:00:00.000000000\",\"2024-07-29T00:00:00.000000000\",\"2024-07-30T00:00:00.000000000\",\"2024-07-31T00:00:00.000000000\",\"2024-08-01T00:00:00.000000000\",\"2024-08-02T00:00:00.000000000\",\"2024-08-05T00:00:00.000000000\",\"2024-08-06T00:00:00.000000000\",\"2024-08-07T00:00:00.000000000\",\"2024-08-08T00:00:00.000000000\",\"2024-08-09T00:00:00.000000000\",\"2024-08-12T00:00:00.000000000\",\"2024-08-13T00:00:00.000000000\",\"2024-08-14T00:00:00.000000000\",\"2024-08-15T00:00:00.000000000\",\"2024-08-16T00:00:00.000000000\",\"2024-08-19T00:00:00.000000000\",\"2024-08-20T00:00:00.000000000\",\"2024-08-21T00:00:00.000000000\",\"2024-08-22T00:00:00.000000000\",\"2024-08-23T00:00:00.000000000\",\"2024-08-26T00:00:00.000000000\",\"2024-08-27T00:00:00.000000000\",\"2024-08-28T00:00:00.000000000\",\"2024-08-29T00:00:00.000000000\",\"2024-08-30T00:00:00.000000000\",\"2024-09-03T00:00:00.000000000\",\"2024-09-04T00:00:00.000000000\",\"2024-09-05T00:00:00.000000000\",\"2024-09-06T00:00:00.000000000\",\"2024-09-09T00:00:00.000000000\",\"2024-09-10T00:00:00.000000000\",\"2024-09-11T00:00:00.000000000\",\"2024-09-12T00:00:00.000000000\",\"2024-09-13T00:00:00.000000000\",\"2024-09-16T00:00:00.000000000\",\"2024-09-17T00:00:00.000000000\",\"2024-09-18T00:00:00.000000000\",\"2024-09-19T00:00:00.000000000\",\"2024-09-20T00:00:00.000000000\",\"2024-09-23T00:00:00.000000000\",\"2024-09-24T00:00:00.000000000\",\"2024-09-25T00:00:00.000000000\",\"2024-09-26T00:00:00.000000000\",\"2024-09-27T00:00:00.000000000\",\"2024-09-30T00:00:00.000000000\",\"2024-10-01T00:00:00.000000000\",\"2024-10-02T00:00:00.000000000\",\"2024-10-03T00:00:00.000000000\",\"2024-10-04T00:00:00.000000000\",\"2024-10-07T00:00:00.000000000\",\"2024-10-08T00:00:00.000000000\",\"2024-10-09T00:00:00.000000000\",\"2024-10-10T00:00:00.000000000\",\"2024-10-11T00:00:00.000000000\",\"2024-10-14T00:00:00.000000000\",\"2024-10-15T00:00:00.000000000\",\"2024-10-16T00:00:00.000000000\",\"2024-10-17T00:00:00.000000000\",\"2024-10-18T00:00:00.000000000\",\"2024-10-21T00:00:00.000000000\",\"2024-10-22T00:00:00.000000000\",\"2024-10-23T00:00:00.000000000\",\"2024-10-24T00:00:00.000000000\",\"2024-10-25T00:00:00.000000000\",\"2024-10-28T00:00:00.000000000\",\"2024-10-29T00:00:00.000000000\",\"2024-10-30T00:00:00.000000000\",\"2024-10-31T00:00:00.000000000\",\"2024-11-01T00:00:00.000000000\",\"2024-11-04T00:00:00.000000000\",\"2024-11-05T00:00:00.000000000\",\"2024-11-06T00:00:00.000000000\",\"2024-11-07T00:00:00.000000000\",\"2024-11-08T00:00:00.000000000\",\"2024-11-11T00:00:00.000000000\",\"2024-11-12T00:00:00.000000000\",\"2024-11-13T00:00:00.000000000\",\"2024-11-14T00:00:00.000000000\",\"2024-11-15T00:00:00.000000000\",\"2024-11-18T00:00:00.000000000\",\"2024-11-19T00:00:00.000000000\",\"2024-11-20T00:00:00.000000000\",\"2024-11-21T00:00:00.000000000\",\"2024-11-22T00:00:00.000000000\",\"2024-11-25T00:00:00.000000000\",\"2024-11-26T00:00:00.000000000\",\"2024-11-27T00:00:00.000000000\",\"2024-11-29T00:00:00.000000000\",\"2024-12-02T00:00:00.000000000\",\"2024-12-03T00:00:00.000000000\",\"2024-12-04T00:00:00.000000000\",\"2024-12-05T00:00:00.000000000\",\"2024-12-06T00:00:00.000000000\",\"2024-12-09T00:00:00.000000000\",\"2024-12-10T00:00:00.000000000\",\"2024-12-11T00:00:00.000000000\",\"2024-12-12T00:00:00.000000000\",\"2024-12-13T00:00:00.000000000\",\"2024-12-16T00:00:00.000000000\",\"2024-12-17T00:00:00.000000000\",\"2024-12-18T00:00:00.000000000\",\"2024-12-19T00:00:00.000000000\",\"2024-12-20T00:00:00.000000000\",\"2024-12-23T00:00:00.000000000\",\"2024-12-24T00:00:00.000000000\",\"2024-12-26T00:00:00.000000000\",\"2024-12-27T00:00:00.000000000\",\"2024-12-30T00:00:00.000000000\",\"2024-12-31T00:00:00.000000000\",\"2025-01-02T00:00:00.000000000\",\"2025-01-03T00:00:00.000000000\",\"2025-01-06T00:00:00.000000000\",\"2025-01-07T00:00:00.000000000\",\"2025-01-08T00:00:00.000000000\",\"2025-01-10T00:00:00.000000000\",\"2025-01-13T00:00:00.000000000\",\"2025-01-14T00:00:00.000000000\",\"2025-01-15T00:00:00.000000000\",\"2025-01-16T00:00:00.000000000\",\"2025-01-17T00:00:00.000000000\",\"2025-01-21T00:00:00.000000000\",\"2025-01-22T00:00:00.000000000\",\"2025-01-23T00:00:00.000000000\",\"2025-01-24T00:00:00.000000000\",\"2025-01-27T00:00:00.000000000\",\"2025-01-28T00:00:00.000000000\",\"2025-01-29T00:00:00.000000000\",\"2025-01-30T00:00:00.000000000\",\"2025-01-31T00:00:00.000000000\",\"2025-02-03T00:00:00.000000000\",\"2025-02-04T00:00:00.000000000\",\"2025-02-05T00:00:00.000000000\",\"2025-02-06T00:00:00.000000000\",\"2025-02-07T00:00:00.000000000\",\"2025-02-10T00:00:00.000000000\",\"2025-02-11T00:00:00.000000000\",\"2025-02-12T00:00:00.000000000\",\"2025-02-13T00:00:00.000000000\",\"2025-02-14T00:00:00.000000000\",\"2025-02-18T00:00:00.000000000\",\"2025-02-19T00:00:00.000000000\"],\"xaxis\":\"x\",\"y\":{\"dtype\":\"f8\",\"bdata\":\"AAAAAAAA+H8AAAAAAAD4fwAAAAAAAPh\\u002fAAAAAAAA+H8AAAAAAAD4fwAAAAAAAPh\\u002fAAAAAAAA+H8AAAAAAAD4fwAAAAAAAPh\\u002fAAAAAAAA+H8AAAAAAAD4fwAAAAAAAPh\\u002fAAAAAAAA+H8AAAAAAAD4fwAAAAAAAPh\\u002fAAAAAAAA+H8AAAAAAAD4fwAAAAAAAPh\\u002fAAAAAAAA+H9mZmYeifBlQJqZmRHP52VAMzMzC\\u002f\\u002fhZUAzMzNDS81lQM3MzKz8vGVAzczMjJGsZUDNzMxk\\u002fpdlQM3MzCQUi2VAzczM\\u002fFB8ZUAzMzMT+2xlQM3MzAQDY2VAAAAAaENiZUDNzMwcyWFlQDMzM5O1YmVAzczMFBRfZUCamZlxLFplQGZmZp5+UWVAZmZmnrhXZUDNzMzcX11lQAAAAGh8XWVAmpmZGZNWZUDNzMwUtUllQJqZmdEvN2VAZmZm7gotZUCamZmBySJlQGZmZi5\\u002fHGVAMzMz42UbZUAzMzOj8xVlQJqZmel6EmVAMzMziwEYZUAzMzP7YBplQM3MzEzSGWVAzczMnIYgZUDNzMyEgDZlQDMzM0ueS2VAZmZm\\u002fuNfZUAAAADQtndlQAAAAPjjhmVAMzMzE6ORZUCamZlhrqdlQM3MzIzUxGVAMzMzK9TnZUAzMzMjjAxmQJqZmQGQNGZAzczMDBtdZkAAAADADIZmQDMzMztOqWZAAAAA+MPEZkDNzMy8G+ZmQJqZmVnHAGdAMzMzw\\u002fkgZ0AAAABQaERnQAAAACBuY2dAAAAAKM90Z0CamZmhW4lnQJqZmVE7n2dAZmZm9liyZ0AAAABgZMZnQDMzMztz1mdAmpmZ8br3Z0CamZnpnSBoQJqZmam3R2hAAAAACNZraEAzMzOLkpZoQGZmZtalu2hAzczMbEjXaEBmZmbuvPFoQDMzM9ujE2lAZmZm7hQyaUCamZlRLFdpQDMzMzskfWlAzczMRPebaUAzMzPbCMNpQJqZmcHg7GlAzczMjEAYakCamZlB10hqQM3MzJQBfmpAZmZmJrOwakDNzMwcQ\\u002fBqQDMzMyPTEGtAAAAA4K4sa0BmZma+1ExrQAAAAHhwcGtAZmZm7uiDa0BmZmZOrpNrQM3MzKwCq2tAmpmZMUbFa0AAAAAALeBrQDMzM+tG72tAZmZmzgn2a0CamZmRMfxrQGZmZkZYCGxAzczMJJ0LbECamZkJgA5sQJqZmclpCWxAmpmZeRT\\u002fa0CamZnZf+FrQGZmZl5Lv2tAAAAA0Fyaa0AzMzN7n4NrQM3MzNTRbGtAAAAA0FFSa0AAAADgHj1rQDMzM7scMmtAzczMXGMza0AAAACAlDZrQM3MzBwTOmtAzczMfOI8a0CamZkh1klrQGZmZiZ6VWtAzczMZA5ka0AzMzNLu3JrQDMzM\\u002fvegWtAmpmZSVKJa0AzMzPr+JtrQDMzM1P4qmtAAAAAqOjAa0AzMzMTCddrQGZmZn5562tAmpmZodv3a0BmZmZutv9rQJqZmeHUA2xAmpmZ+QwGbEAzMzMbugdsQDMzM8suBGxAMzMzI6b0a0DNzMz0HuZrQJqZmVHU3GtAAAAA0MXga0DNzMy8oeZrQM3MzIQK5mtAzczMLFjma0DNzMy8seNrQDMzM7NW5WtAMzMzSyXia0CamZkZiOhrQJqZmQkG7mtAmpmZoX33a0CamZlBvvxrQAAAAEhKBmxAmpmZEYkHbEAAAABQkhBsQM3MzCyOG2xAMzMzu5AlbEAzMzOroC1sQAAAAACLRWxAAAAAcMdgbEDNzMzse3JsQGZmZna4d2xAAAAAoJOCbEAAAAC4jpJsQGZmZpYcoGxAAAAAyB6nbEAzMzNT\\u002fatsQDMzM9PEsWxAzczMTGiybEAzMzMzUb5sQM3MzBSew2xAzczMLADEbEAzMzNTyr1sQDMzMxtNvmxAMzMz65i6bEDNzMyUta9sQJqZmQE4rWxAzczM7KysbEDNzMw8yKFsQM3MzFzRkmxAzczMpJSIbEAzMzMTtYJsQGZmZj4jc2xAMzMzKwhmbEDNzMzcVFpsQM3MzITsV2xAZmZmbg1VbEDNzMxk\\u002f1JsQGZmZn6PUmxAAAAASDFVbECamZnxUF1sQM3MzAT3b2xAAAAA4AOLbEAAAACQZKxsQDMzMwMMzGxAZmZmFursbEAzMzPr3AVtQAAAAAB+JW1AzczMZB1LbUAzMzMTsW5tQJqZmREyk21AZmZmPgSzbUAzMzODotxtQAAAAHhTBW5AZmZmXuwkbkCamZmZJkZuQDMzMzuob25AZmZmpkCYbkBmZmZuvMBuQJqZmakH525AzczMtAwIb0DNzMzE0B9vQGZmZt4fMW9AMzMz2wozb0AAAAAQmjNvQAAAAAC8Nm9AZmZmPro1b0BmZmYuQS9vQDMzM0PNHW9AMzMzo3oKb0BmZmZOBPNuQM3MzGye4m5AzczM\\u002fDW+bkBmZmb2pphuQM3MzHQKcG5AMzMz64xGbkCamZnRRhVuQGZmZoZZ4W1AMzMzMw60bUAAAABA4JJtQGZmZr7veG1AZmZmDpZhbUDNzMwcikptQDMzMys5MW1AMzMzi1ggbUDNzMzkUQxtQJqZmaHz\\u002fWxAZmZmvt3lbEAAAAD4j9dsQDMzM1Mg1WxAMzMzu0fbbEAAAADgjeFsQM3MzGwZ\\u002fGxAzczM\\u002fK8TbUDNzMyMpTdtQA==\"},\"yaxis\":\"y\",\"type\":\"scatter\"}],                        {\"template\":{\"data\":{\"histogram2dcontour\":[{\"type\":\"histogram2dcontour\",\"colorbar\":{\"outlinewidth\":0,\"ticks\":\"\"},\"colorscale\":[[0.0,\"#0d0887\"],[0.1111111111111111,\"#46039f\"],[0.2222222222222222,\"#7201a8\"],[0.3333333333333333,\"#9c179e\"],[0.4444444444444444,\"#bd3786\"],[0.5555555555555556,\"#d8576b\"],[0.6666666666666666,\"#ed7953\"],[0.7777777777777778,\"#fb9f3a\"],[0.8888888888888888,\"#fdca26\"],[1.0,\"#f0f921\"]]}],\"choropleth\":[{\"type\":\"choropleth\",\"colorbar\":{\"outlinewidth\":0,\"ticks\":\"\"}}],\"histogram2d\":[{\"type\":\"histogram2d\",\"colorbar\":{\"outlinewidth\":0,\"ticks\":\"\"},\"colorscale\":[[0.0,\"#0d0887\"],[0.1111111111111111,\"#46039f\"],[0.2222222222222222,\"#7201a8\"],[0.3333333333333333,\"#9c179e\"],[0.4444444444444444,\"#bd3786\"],[0.5555555555555556,\"#d8576b\"],[0.6666666666666666,\"#ed7953\"],[0.7777777777777778,\"#fb9f3a\"],[0.8888888888888888,\"#fdca26\"],[1.0,\"#f0f921\"]]}],\"heatmap\":[{\"type\":\"heatmap\",\"colorbar\":{\"outlinewidth\":0,\"ticks\":\"\"},\"colorscale\":[[0.0,\"#0d0887\"],[0.1111111111111111,\"#46039f\"],[0.2222222222222222,\"#7201a8\"],[0.3333333333333333,\"#9c179e\"],[0.4444444444444444,\"#bd3786\"],[0.5555555555555556,\"#d8576b\"],[0.6666666666666666,\"#ed7953\"],[0.7777777777777778,\"#fb9f3a\"],[0.8888888888888888,\"#fdca26\"],[1.0,\"#f0f921\"]]}],\"contourcarpet\":[{\"type\":\"contourcarpet\",\"colorbar\":{\"outlinewidth\":0,\"ticks\":\"\"}}],\"contour\":[{\"type\":\"contour\",\"colorbar\":{\"outlinewidth\":0,\"ticks\":\"\"},\"colorscale\":[[0.0,\"#0d0887\"],[0.1111111111111111,\"#46039f\"],[0.2222222222222222,\"#7201a8\"],[0.3333333333333333,\"#9c179e\"],[0.4444444444444444,\"#bd3786\"],[0.5555555555555556,\"#d8576b\"],[0.6666666666666666,\"#ed7953\"],[0.7777777777777778,\"#fb9f3a\"],[0.8888888888888888,\"#fdca26\"],[1.0,\"#f0f921\"]]}],\"surface\":[{\"type\":\"surface\",\"colorbar\":{\"outlinewidth\":0,\"ticks\":\"\"},\"colorscale\":[[0.0,\"#0d0887\"],[0.1111111111111111,\"#46039f\"],[0.2222222222222222,\"#7201a8\"],[0.3333333333333333,\"#9c179e\"],[0.4444444444444444,\"#bd3786\"],[0.5555555555555556,\"#d8576b\"],[0.6666666666666666,\"#ed7953\"],[0.7777777777777778,\"#fb9f3a\"],[0.8888888888888888,\"#fdca26\"],[1.0,\"#f0f921\"]]}],\"mesh3d\":[{\"type\":\"mesh3d\",\"colorbar\":{\"outlinewidth\":0,\"ticks\":\"\"}}],\"scatter\":[{\"fillpattern\":{\"fillmode\":\"overlay\",\"size\":10,\"solidity\":0.2},\"type\":\"scatter\"}],\"parcoords\":[{\"type\":\"parcoords\",\"line\":{\"colorbar\":{\"outlinewidth\":0,\"ticks\":\"\"}}}],\"scatterpolargl\":[{\"type\":\"scatterpolargl\",\"marker\":{\"colorbar\":{\"outlinewidth\":0,\"ticks\":\"\"}}}],\"bar\":[{\"error_x\":{\"color\":\"#2a3f5f\"},\"error_y\":{\"color\":\"#2a3f5f\"},\"marker\":{\"line\":{\"color\":\"#E5ECF6\",\"width\":0.5},\"pattern\":{\"fillmode\":\"overlay\",\"size\":10,\"solidity\":0.2}},\"type\":\"bar\"}],\"scattergeo\":[{\"type\":\"scattergeo\",\"marker\":{\"colorbar\":{\"outlinewidth\":0,\"ticks\":\"\"}}}],\"scatterpolar\":[{\"type\":\"scatterpolar\",\"marker\":{\"colorbar\":{\"outlinewidth\":0,\"ticks\":\"\"}}}],\"histogram\":[{\"marker\":{\"pattern\":{\"fillmode\":\"overlay\",\"size\":10,\"solidity\":0.2}},\"type\":\"histogram\"}],\"scattergl\":[{\"type\":\"scattergl\",\"marker\":{\"colorbar\":{\"outlinewidth\":0,\"ticks\":\"\"}}}],\"scatter3d\":[{\"type\":\"scatter3d\",\"line\":{\"colorbar\":{\"outlinewidth\":0,\"ticks\":\"\"}},\"marker\":{\"colorbar\":{\"outlinewidth\":0,\"ticks\":\"\"}}}],\"scattermap\":[{\"type\":\"scattermap\",\"marker\":{\"colorbar\":{\"outlinewidth\":0,\"ticks\":\"\"}}}],\"scattermapbox\":[{\"type\":\"scattermapbox\",\"marker\":{\"colorbar\":{\"outlinewidth\":0,\"ticks\":\"\"}}}],\"scatterternary\":[{\"type\":\"scatterternary\",\"marker\":{\"colorbar\":{\"outlinewidth\":0,\"ticks\":\"\"}}}],\"scattercarpet\":[{\"type\":\"scattercarpet\",\"marker\":{\"colorbar\":{\"outlinewidth\":0,\"ticks\":\"\"}}}],\"carpet\":[{\"aaxis\":{\"endlinecolor\":\"#2a3f5f\",\"gridcolor\":\"white\",\"linecolor\":\"white\",\"minorgridcolor\":\"white\",\"startlinecolor\":\"#2a3f5f\"},\"baxis\":{\"endlinecolor\":\"#2a3f5f\",\"gridcolor\":\"white\",\"linecolor\":\"white\",\"minorgridcolor\":\"white\",\"startlinecolor\":\"#2a3f5f\"},\"type\":\"carpet\"}],\"table\":[{\"cells\":{\"fill\":{\"color\":\"#EBF0F8\"},\"line\":{\"color\":\"white\"}},\"header\":{\"fill\":{\"color\":\"#C8D4E3\"},\"line\":{\"color\":\"white\"}},\"type\":\"table\"}],\"barpolar\":[{\"marker\":{\"line\":{\"color\":\"#E5ECF6\",\"width\":0.5},\"pattern\":{\"fillmode\":\"overlay\",\"size\":10,\"solidity\":0.2}},\"type\":\"barpolar\"}],\"pie\":[{\"automargin\":true,\"type\":\"pie\"}]},\"layout\":{\"autotypenumbers\":\"strict\",\"colorway\":[\"#636efa\",\"#EF553B\",\"#00cc96\",\"#ab63fa\",\"#FFA15A\",\"#19d3f3\",\"#FF6692\",\"#B6E880\",\"#FF97FF\",\"#FECB52\"],\"font\":{\"color\":\"#2a3f5f\"},\"hovermode\":\"closest\",\"hoverlabel\":{\"align\":\"left\"},\"paper_bgcolor\":\"white\",\"plot_bgcolor\":\"#E5ECF6\",\"polar\":{\"bgcolor\":\"#E5ECF6\",\"angularaxis\":{\"gridcolor\":\"white\",\"linecolor\":\"white\",\"ticks\":\"\"},\"radialaxis\":{\"gridcolor\":\"white\",\"linecolor\":\"white\",\"ticks\":\"\"}},\"ternary\":{\"bgcolor\":\"#E5ECF6\",\"aaxis\":{\"gridcolor\":\"white\",\"linecolor\":\"white\",\"ticks\":\"\"},\"baxis\":{\"gridcolor\":\"white\",\"linecolor\":\"white\",\"ticks\":\"\"},\"caxis\":{\"gridcolor\":\"white\",\"linecolor\":\"white\",\"ticks\":\"\"}},\"coloraxis\":{\"colorbar\":{\"outlinewidth\":0,\"ticks\":\"\"}},\"colorscale\":{\"sequential\":[[0.0,\"#0d0887\"],[0.1111111111111111,\"#46039f\"],[0.2222222222222222,\"#7201a8\"],[0.3333333333333333,\"#9c179e\"],[0.4444444444444444,\"#bd3786\"],[0.5555555555555556,\"#d8576b\"],[0.6666666666666666,\"#ed7953\"],[0.7777777777777778,\"#fb9f3a\"],[0.8888888888888888,\"#fdca26\"],[1.0,\"#f0f921\"]],\"sequentialminus\":[[0.0,\"#0d0887\"],[0.1111111111111111,\"#46039f\"],[0.2222222222222222,\"#7201a8\"],[0.3333333333333333,\"#9c179e\"],[0.4444444444444444,\"#bd3786\"],[0.5555555555555556,\"#d8576b\"],[0.6666666666666666,\"#ed7953\"],[0.7777777777777778,\"#fb9f3a\"],[0.8888888888888888,\"#fdca26\"],[1.0,\"#f0f921\"]],\"diverging\":[[0,\"#8e0152\"],[0.1,\"#c51b7d\"],[0.2,\"#de77ae\"],[0.3,\"#f1b6da\"],[0.4,\"#fde0ef\"],[0.5,\"#f7f7f7\"],[0.6,\"#e6f5d0\"],[0.7,\"#b8e186\"],[0.8,\"#7fbc41\"],[0.9,\"#4d9221\"],[1,\"#276419\"]]},\"xaxis\":{\"gridcolor\":\"white\",\"linecolor\":\"white\",\"ticks\":\"\",\"title\":{\"standoff\":15},\"zerolinecolor\":\"white\",\"automargin\":true,\"zerolinewidth\":2},\"yaxis\":{\"gridcolor\":\"white\",\"linecolor\":\"white\",\"ticks\":\"\",\"title\":{\"standoff\":15},\"zerolinecolor\":\"white\",\"automargin\":true,\"zerolinewidth\":2},\"scene\":{\"xaxis\":{\"backgroundcolor\":\"#E5ECF6\",\"gridcolor\":\"white\",\"linecolor\":\"white\",\"showbackground\":true,\"ticks\":\"\",\"zerolinecolor\":\"white\",\"gridwidth\":2},\"yaxis\":{\"backgroundcolor\":\"#E5ECF6\",\"gridcolor\":\"white\",\"linecolor\":\"white\",\"showbackground\":true,\"ticks\":\"\",\"zerolinecolor\":\"white\",\"gridwidth\":2},\"zaxis\":{\"backgroundcolor\":\"#E5ECF6\",\"gridcolor\":\"white\",\"linecolor\":\"white\",\"showbackground\":true,\"ticks\":\"\",\"zerolinecolor\":\"white\",\"gridwidth\":2}},\"shapedefaults\":{\"line\":{\"color\":\"#2a3f5f\"}},\"annotationdefaults\":{\"arrowcolor\":\"#2a3f5f\",\"arrowhead\":0,\"arrowwidth\":1},\"geo\":{\"bgcolor\":\"white\",\"landcolor\":\"#E5ECF6\",\"subunitcolor\":\"white\",\"showland\":true,\"showlakes\":true,\"lakecolor\":\"white\"},\"title\":{\"x\":0.05},\"mapbox\":{\"style\":\"light\"}}},\"xaxis\":{\"anchor\":\"y\",\"domain\":[0.0,1.0],\"title\":{\"text\":\"Date\"}},\"yaxis\":{\"anchor\":\"x\",\"domain\":[0.0,1.0],\"title\":{\"text\":\"value\"}},\"legend\":{\"title\":{\"text\":\"Price\"},\"tracegroupgap\":0},\"title\":{\"text\":\"AAPL Close Price with SMA\"}},                        {\"responsive\": true}                    ).then(function(){\n",
       "                            \n",
       "var gd = document.getElementById('d94b9d26-e4bb-4c1d-b96f-9242321d53eb');\n",
       "var x = new MutationObserver(function (mutations, observer) {{\n",
       "        var display = window.getComputedStyle(gd).display;\n",
       "        if (!display || display === 'none') {{\n",
       "            console.log([gd, 'removed!']);\n",
       "            Plotly.purge(gd);\n",
       "            observer.disconnect();\n",
       "        }}\n",
       "}});\n",
       "\n",
       "// Listen for the removal of the full notebook cells\n",
       "var notebookContainer = gd.closest('#notebook-container');\n",
       "if (notebookContainer) {{\n",
       "    x.observe(notebookContainer, {childList: true});\n",
       "}}\n",
       "\n",
       "// Listen for the clearing of the current output cell\n",
       "var outputEl = gd.closest('.output');\n",
       "if (outputEl) {{\n",
       "    x.observe(outputEl, {childList: true});\n",
       "}}\n",
       "\n",
       "                        })                };            </script>        </div>"
      ]
     },
     "metadata": {},
     "output_type": "display_data"
    }
   ],
   "source": [
    "# Calculate the 10-day and 20-day SMA\n",
    "# Calculate the 10-day and 20-day SMA\n",
    "data['SMA10'] = data['Close'].rolling(window=10).mean()\n",
    "data['SMA20'] = data['Close'].rolling(window=20).mean()\n",
    "\n",
    "# Set cufflinks config\n",
    "#cf.set_config_file(offline=True, theme='pearl')\n",
    "\n",
    "# Plot the data\n",
    "fig = data[['Close', 'SMA10', 'SMA20']].plot(kind='line', title=f'{tickers[0]} Close Price with SMA')\n",
    "fig.show()\n"
   ]
  },
  {
   "cell_type": "code",
   "execution_count": 6,
   "id": "4293ccf7-9312-4f8b-b93d-5ab373813291",
   "metadata": {},
   "outputs": [
    {
     "data": {
      "application/vnd.plotly.v1+json": {
       "config": {
        "plotlyServerURL": "https://plot.ly"
       },
       "data": [
        {
         "close": {
          "bdata": "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",
          "dtype": "f8"
         },
         "high": {
          "bdata": "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",
          "dtype": "f8"
         },
         "low": {
          "bdata": "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",
          "dtype": "f8"
         },
         "open": {
          "bdata": "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",
          "dtype": "f8"
         },
         "type": "candlestick",
         "x": [
          "2024-02-20T00:00:00.000000000",
          "2024-02-21T00:00:00.000000000",
          "2024-02-22T00:00:00.000000000",
          "2024-02-23T00:00:00.000000000",
          "2024-02-26T00:00:00.000000000",
          "2024-02-27T00:00:00.000000000",
          "2024-02-28T00:00:00.000000000",
          "2024-02-29T00:00:00.000000000",
          "2024-03-01T00:00:00.000000000",
          "2024-03-04T00:00:00.000000000",
          "2024-03-05T00:00:00.000000000",
          "2024-03-06T00:00:00.000000000",
          "2024-03-07T00:00:00.000000000",
          "2024-03-08T00:00:00.000000000",
          "2024-03-11T00:00:00.000000000",
          "2024-03-12T00:00:00.000000000",
          "2024-03-13T00:00:00.000000000",
          "2024-03-14T00:00:00.000000000",
          "2024-03-15T00:00:00.000000000",
          "2024-03-18T00:00:00.000000000",
          "2024-03-19T00:00:00.000000000",
          "2024-03-20T00:00:00.000000000",
          "2024-03-21T00:00:00.000000000",
          "2024-03-22T00:00:00.000000000",
          "2024-03-25T00:00:00.000000000",
          "2024-03-26T00:00:00.000000000",
          "2024-03-27T00:00:00.000000000",
          "2024-03-28T00:00:00.000000000",
          "2024-04-01T00:00:00.000000000",
          "2024-04-02T00:00:00.000000000",
          "2024-04-03T00:00:00.000000000",
          "2024-04-04T00:00:00.000000000",
          "2024-04-05T00:00:00.000000000",
          "2024-04-08T00:00:00.000000000",
          "2024-04-09T00:00:00.000000000",
          "2024-04-10T00:00:00.000000000",
          "2024-04-11T00:00:00.000000000",
          "2024-04-12T00:00:00.000000000",
          "2024-04-15T00:00:00.000000000",
          "2024-04-16T00:00:00.000000000",
          "2024-04-17T00:00:00.000000000",
          "2024-04-18T00:00:00.000000000",
          "2024-04-19T00:00:00.000000000",
          "2024-04-22T00:00:00.000000000",
          "2024-04-23T00:00:00.000000000",
          "2024-04-24T00:00:00.000000000",
          "2024-04-25T00:00:00.000000000",
          "2024-04-26T00:00:00.000000000",
          "2024-04-29T00:00:00.000000000",
          "2024-04-30T00:00:00.000000000",
          "2024-05-01T00:00:00.000000000",
          "2024-05-02T00:00:00.000000000",
          "2024-05-03T00:00:00.000000000",
          "2024-05-06T00:00:00.000000000",
          "2024-05-07T00:00:00.000000000",
          "2024-05-08T00:00:00.000000000",
          "2024-05-09T00:00:00.000000000",
          "2024-05-10T00:00:00.000000000",
          "2024-05-13T00:00:00.000000000",
          "2024-05-14T00:00:00.000000000",
          "2024-05-15T00:00:00.000000000",
          "2024-05-16T00:00:00.000000000",
          "2024-05-17T00:00:00.000000000",
          "2024-05-20T00:00:00.000000000",
          "2024-05-21T00:00:00.000000000",
          "2024-05-22T00:00:00.000000000",
          "2024-05-23T00:00:00.000000000",
          "2024-05-24T00:00:00.000000000",
          "2024-05-28T00:00:00.000000000",
          "2024-05-29T00:00:00.000000000",
          "2024-05-30T00:00:00.000000000",
          "2024-05-31T00:00:00.000000000",
          "2024-06-03T00:00:00.000000000",
          "2024-06-04T00:00:00.000000000",
          "2024-06-05T00:00:00.000000000",
          "2024-06-06T00:00:00.000000000",
          "2024-06-07T00:00:00.000000000",
          "2024-06-10T00:00:00.000000000",
          "2024-06-11T00:00:00.000000000",
          "2024-06-12T00:00:00.000000000",
          "2024-06-13T00:00:00.000000000",
          "2024-06-14T00:00:00.000000000",
          "2024-06-17T00:00:00.000000000",
          "2024-06-18T00:00:00.000000000",
          "2024-06-20T00:00:00.000000000",
          "2024-06-21T00:00:00.000000000",
          "2024-06-24T00:00:00.000000000",
          "2024-06-25T00:00:00.000000000",
          "2024-06-26T00:00:00.000000000",
          "2024-06-27T00:00:00.000000000",
          "2024-06-28T00:00:00.000000000",
          "2024-07-01T00:00:00.000000000",
          "2024-07-02T00:00:00.000000000",
          "2024-07-03T00:00:00.000000000",
          "2024-07-05T00:00:00.000000000",
          "2024-07-08T00:00:00.000000000",
          "2024-07-09T00:00:00.000000000",
          "2024-07-10T00:00:00.000000000",
          "2024-07-11T00:00:00.000000000",
          "2024-07-12T00:00:00.000000000",
          "2024-07-15T00:00:00.000000000",
          "2024-07-16T00:00:00.000000000",
          "2024-07-17T00:00:00.000000000",
          "2024-07-18T00:00:00.000000000",
          "2024-07-19T00:00:00.000000000",
          "2024-07-22T00:00:00.000000000",
          "2024-07-23T00:00:00.000000000",
          "2024-07-24T00:00:00.000000000",
          "2024-07-25T00:00:00.000000000",
          "2024-07-26T00:00:00.000000000",
          "2024-07-29T00:00:00.000000000",
          "2024-07-30T00:00:00.000000000",
          "2024-07-31T00:00:00.000000000",
          "2024-08-01T00:00:00.000000000",
          "2024-08-02T00:00:00.000000000",
          "2024-08-05T00:00:00.000000000",
          "2024-08-06T00:00:00.000000000",
          "2024-08-07T00:00:00.000000000",
          "2024-08-08T00:00:00.000000000",
          "2024-08-09T00:00:00.000000000",
          "2024-08-12T00:00:00.000000000",
          "2024-08-13T00:00:00.000000000",
          "2024-08-14T00:00:00.000000000",
          "2024-08-15T00:00:00.000000000",
          "2024-08-16T00:00:00.000000000",
          "2024-08-19T00:00:00.000000000",
          "2024-08-20T00:00:00.000000000",
          "2024-08-21T00:00:00.000000000",
          "2024-08-22T00:00:00.000000000",
          "2024-08-23T00:00:00.000000000",
          "2024-08-26T00:00:00.000000000",
          "2024-08-27T00:00:00.000000000",
          "2024-08-28T00:00:00.000000000",
          "2024-08-29T00:00:00.000000000",
          "2024-08-30T00:00:00.000000000",
          "2024-09-03T00:00:00.000000000",
          "2024-09-04T00:00:00.000000000",
          "2024-09-05T00:00:00.000000000",
          "2024-09-06T00:00:00.000000000",
          "2024-09-09T00:00:00.000000000",
          "2024-09-10T00:00:00.000000000",
          "2024-09-11T00:00:00.000000000",
          "2024-09-12T00:00:00.000000000",
          "2024-09-13T00:00:00.000000000",
          "2024-09-16T00:00:00.000000000",
          "2024-09-17T00:00:00.000000000",
          "2024-09-18T00:00:00.000000000",
          "2024-09-19T00:00:00.000000000",
          "2024-09-20T00:00:00.000000000",
          "2024-09-23T00:00:00.000000000",
          "2024-09-24T00:00:00.000000000",
          "2024-09-25T00:00:00.000000000",
          "2024-09-26T00:00:00.000000000",
          "2024-09-27T00:00:00.000000000",
          "2024-09-30T00:00:00.000000000",
          "2024-10-01T00:00:00.000000000",
          "2024-10-02T00:00:00.000000000",
          "2024-10-03T00:00:00.000000000",
          "2024-10-04T00:00:00.000000000",
          "2024-10-07T00:00:00.000000000",
          "2024-10-08T00:00:00.000000000",
          "2024-10-09T00:00:00.000000000",
          "2024-10-10T00:00:00.000000000",
          "2024-10-11T00:00:00.000000000",
          "2024-10-14T00:00:00.000000000",
          "2024-10-15T00:00:00.000000000",
          "2024-10-16T00:00:00.000000000",
          "2024-10-17T00:00:00.000000000",
          "2024-10-18T00:00:00.000000000",
          "2024-10-21T00:00:00.000000000",
          "2024-10-22T00:00:00.000000000",
          "2024-10-23T00:00:00.000000000",
          "2024-10-24T00:00:00.000000000",
          "2024-10-25T00:00:00.000000000",
          "2024-10-28T00:00:00.000000000",
          "2024-10-29T00:00:00.000000000",
          "2024-10-30T00:00:00.000000000",
          "2024-10-31T00:00:00.000000000",
          "2024-11-01T00:00:00.000000000",
          "2024-11-04T00:00:00.000000000",
          "2024-11-05T00:00:00.000000000",
          "2024-11-06T00:00:00.000000000",
          "2024-11-07T00:00:00.000000000",
          "2024-11-08T00:00:00.000000000",
          "2024-11-11T00:00:00.000000000",
          "2024-11-12T00:00:00.000000000",
          "2024-11-13T00:00:00.000000000",
          "2024-11-14T00:00:00.000000000",
          "2024-11-15T00:00:00.000000000",
          "2024-11-18T00:00:00.000000000",
          "2024-11-19T00:00:00.000000000",
          "2024-11-20T00:00:00.000000000",
          "2024-11-21T00:00:00.000000000",
          "2024-11-22T00:00:00.000000000",
          "2024-11-25T00:00:00.000000000",
          "2024-11-26T00:00:00.000000000",
          "2024-11-27T00:00:00.000000000",
          "2024-11-29T00:00:00.000000000",
          "2024-12-02T00:00:00.000000000",
          "2024-12-03T00:00:00.000000000",
          "2024-12-04T00:00:00.000000000",
          "2024-12-05T00:00:00.000000000",
          "2024-12-06T00:00:00.000000000",
          "2024-12-09T00:00:00.000000000",
          "2024-12-10T00:00:00.000000000",
          "2024-12-11T00:00:00.000000000",
          "2024-12-12T00:00:00.000000000",
          "2024-12-13T00:00:00.000000000",
          "2024-12-16T00:00:00.000000000",
          "2024-12-17T00:00:00.000000000",
          "2024-12-18T00:00:00.000000000",
          "2024-12-19T00:00:00.000000000",
          "2024-12-20T00:00:00.000000000",
          "2024-12-23T00:00:00.000000000",
          "2024-12-24T00:00:00.000000000",
          "2024-12-26T00:00:00.000000000",
          "2024-12-27T00:00:00.000000000",
          "2024-12-30T00:00:00.000000000",
          "2024-12-31T00:00:00.000000000",
          "2025-01-02T00:00:00.000000000",
          "2025-01-03T00:00:00.000000000",
          "2025-01-06T00:00:00.000000000",
          "2025-01-07T00:00:00.000000000",
          "2025-01-08T00:00:00.000000000",
          "2025-01-10T00:00:00.000000000",
          "2025-01-13T00:00:00.000000000",
          "2025-01-14T00:00:00.000000000",
          "2025-01-15T00:00:00.000000000",
          "2025-01-16T00:00:00.000000000",
          "2025-01-17T00:00:00.000000000",
          "2025-01-21T00:00:00.000000000",
          "2025-01-22T00:00:00.000000000",
          "2025-01-23T00:00:00.000000000",
          "2025-01-24T00:00:00.000000000",
          "2025-01-27T00:00:00.000000000",
          "2025-01-28T00:00:00.000000000",
          "2025-01-29T00:00:00.000000000",
          "2025-01-30T00:00:00.000000000",
          "2025-01-31T00:00:00.000000000",
          "2025-02-03T00:00:00.000000000",
          "2025-02-04T00:00:00.000000000",
          "2025-02-05T00:00:00.000000000",
          "2025-02-06T00:00:00.000000000",
          "2025-02-07T00:00:00.000000000",
          "2025-02-10T00:00:00.000000000",
          "2025-02-11T00:00:00.000000000",
          "2025-02-12T00:00:00.000000000",
          "2025-02-13T00:00:00.000000000",
          "2025-02-14T00:00:00.000000000",
          "2025-02-18T00:00:00.000000000",
          "2025-02-19T00:00:00.000000000"
         ]
        },
        {
         "name": "SMA10",
         "type": "scatter",
         "x": [
          "2024-02-20T00:00:00.000000000",
          "2024-02-21T00:00:00.000000000",
          "2024-02-22T00:00:00.000000000",
          "2024-02-23T00:00:00.000000000",
          "2024-02-26T00:00:00.000000000",
          "2024-02-27T00:00:00.000000000",
          "2024-02-28T00:00:00.000000000",
          "2024-02-29T00:00:00.000000000",
          "2024-03-01T00:00:00.000000000",
          "2024-03-04T00:00:00.000000000",
          "2024-03-05T00:00:00.000000000",
          "2024-03-06T00:00:00.000000000",
          "2024-03-07T00:00:00.000000000",
          "2024-03-08T00:00:00.000000000",
          "2024-03-11T00:00:00.000000000",
          "2024-03-12T00:00:00.000000000",
          "2024-03-13T00:00:00.000000000",
          "2024-03-14T00:00:00.000000000",
          "2024-03-15T00:00:00.000000000",
          "2024-03-18T00:00:00.000000000",
          "2024-03-19T00:00:00.000000000",
          "2024-03-20T00:00:00.000000000",
          "2024-03-21T00:00:00.000000000",
          "2024-03-22T00:00:00.000000000",
          "2024-03-25T00:00:00.000000000",
          "2024-03-26T00:00:00.000000000",
          "2024-03-27T00:00:00.000000000",
          "2024-03-28T00:00:00.000000000",
          "2024-04-01T00:00:00.000000000",
          "2024-04-02T00:00:00.000000000",
          "2024-04-03T00:00:00.000000000",
          "2024-04-04T00:00:00.000000000",
          "2024-04-05T00:00:00.000000000",
          "2024-04-08T00:00:00.000000000",
          "2024-04-09T00:00:00.000000000",
          "2024-04-10T00:00:00.000000000",
          "2024-04-11T00:00:00.000000000",
          "2024-04-12T00:00:00.000000000",
          "2024-04-15T00:00:00.000000000",
          "2024-04-16T00:00:00.000000000",
          "2024-04-17T00:00:00.000000000",
          "2024-04-18T00:00:00.000000000",
          "2024-04-19T00:00:00.000000000",
          "2024-04-22T00:00:00.000000000",
          "2024-04-23T00:00:00.000000000",
          "2024-04-24T00:00:00.000000000",
          "2024-04-25T00:00:00.000000000",
          "2024-04-26T00:00:00.000000000",
          "2024-04-29T00:00:00.000000000",
          "2024-04-30T00:00:00.000000000",
          "2024-05-01T00:00:00.000000000",
          "2024-05-02T00:00:00.000000000",
          "2024-05-03T00:00:00.000000000",
          "2024-05-06T00:00:00.000000000",
          "2024-05-07T00:00:00.000000000",
          "2024-05-08T00:00:00.000000000",
          "2024-05-09T00:00:00.000000000",
          "2024-05-10T00:00:00.000000000",
          "2024-05-13T00:00:00.000000000",
          "2024-05-14T00:00:00.000000000",
          "2024-05-15T00:00:00.000000000",
          "2024-05-16T00:00:00.000000000",
          "2024-05-17T00:00:00.000000000",
          "2024-05-20T00:00:00.000000000",
          "2024-05-21T00:00:00.000000000",
          "2024-05-22T00:00:00.000000000",
          "2024-05-23T00:00:00.000000000",
          "2024-05-24T00:00:00.000000000",
          "2024-05-28T00:00:00.000000000",
          "2024-05-29T00:00:00.000000000",
          "2024-05-30T00:00:00.000000000",
          "2024-05-31T00:00:00.000000000",
          "2024-06-03T00:00:00.000000000",
          "2024-06-04T00:00:00.000000000",
          "2024-06-05T00:00:00.000000000",
          "2024-06-06T00:00:00.000000000",
          "2024-06-07T00:00:00.000000000",
          "2024-06-10T00:00:00.000000000",
          "2024-06-11T00:00:00.000000000",
          "2024-06-12T00:00:00.000000000",
          "2024-06-13T00:00:00.000000000",
          "2024-06-14T00:00:00.000000000",
          "2024-06-17T00:00:00.000000000",
          "2024-06-18T00:00:00.000000000",
          "2024-06-20T00:00:00.000000000",
          "2024-06-21T00:00:00.000000000",
          "2024-06-24T00:00:00.000000000",
          "2024-06-25T00:00:00.000000000",
          "2024-06-26T00:00:00.000000000",
          "2024-06-27T00:00:00.000000000",
          "2024-06-28T00:00:00.000000000",
          "2024-07-01T00:00:00.000000000",
          "2024-07-02T00:00:00.000000000",
          "2024-07-03T00:00:00.000000000",
          "2024-07-05T00:00:00.000000000",
          "2024-07-08T00:00:00.000000000",
          "2024-07-09T00:00:00.000000000",
          "2024-07-10T00:00:00.000000000",
          "2024-07-11T00:00:00.000000000",
          "2024-07-12T00:00:00.000000000",
          "2024-07-15T00:00:00.000000000",
          "2024-07-16T00:00:00.000000000",
          "2024-07-17T00:00:00.000000000",
          "2024-07-18T00:00:00.000000000",
          "2024-07-19T00:00:00.000000000",
          "2024-07-22T00:00:00.000000000",
          "2024-07-23T00:00:00.000000000",
          "2024-07-24T00:00:00.000000000",
          "2024-07-25T00:00:00.000000000",
          "2024-07-26T00:00:00.000000000",
          "2024-07-29T00:00:00.000000000",
          "2024-07-30T00:00:00.000000000",
          "2024-07-31T00:00:00.000000000",
          "2024-08-01T00:00:00.000000000",
          "2024-08-02T00:00:00.000000000",
          "2024-08-05T00:00:00.000000000",
          "2024-08-06T00:00:00.000000000",
          "2024-08-07T00:00:00.000000000",
          "2024-08-08T00:00:00.000000000",
          "2024-08-09T00:00:00.000000000",
          "2024-08-12T00:00:00.000000000",
          "2024-08-13T00:00:00.000000000",
          "2024-08-14T00:00:00.000000000",
          "2024-08-15T00:00:00.000000000",
          "2024-08-16T00:00:00.000000000",
          "2024-08-19T00:00:00.000000000",
          "2024-08-20T00:00:00.000000000",
          "2024-08-21T00:00:00.000000000",
          "2024-08-22T00:00:00.000000000",
          "2024-08-23T00:00:00.000000000",
          "2024-08-26T00:00:00.000000000",
          "2024-08-27T00:00:00.000000000",
          "2024-08-28T00:00:00.000000000",
          "2024-08-29T00:00:00.000000000",
          "2024-08-30T00:00:00.000000000",
          "2024-09-03T00:00:00.000000000",
          "2024-09-04T00:00:00.000000000",
          "2024-09-05T00:00:00.000000000",
          "2024-09-06T00:00:00.000000000",
          "2024-09-09T00:00:00.000000000",
          "2024-09-10T00:00:00.000000000",
          "2024-09-11T00:00:00.000000000",
          "2024-09-12T00:00:00.000000000",
          "2024-09-13T00:00:00.000000000",
          "2024-09-16T00:00:00.000000000",
          "2024-09-17T00:00:00.000000000",
          "2024-09-18T00:00:00.000000000",
          "2024-09-19T00:00:00.000000000",
          "2024-09-20T00:00:00.000000000",
          "2024-09-23T00:00:00.000000000",
          "2024-09-24T00:00:00.000000000",
          "2024-09-25T00:00:00.000000000",
          "2024-09-26T00:00:00.000000000",
          "2024-09-27T00:00:00.000000000",
          "2024-09-30T00:00:00.000000000",
          "2024-10-01T00:00:00.000000000",
          "2024-10-02T00:00:00.000000000",
          "2024-10-03T00:00:00.000000000",
          "2024-10-04T00:00:00.000000000",
          "2024-10-07T00:00:00.000000000",
          "2024-10-08T00:00:00.000000000",
          "2024-10-09T00:00:00.000000000",
          "2024-10-10T00:00:00.000000000",
          "2024-10-11T00:00:00.000000000",
          "2024-10-14T00:00:00.000000000",
          "2024-10-15T00:00:00.000000000",
          "2024-10-16T00:00:00.000000000",
          "2024-10-17T00:00:00.000000000",
          "2024-10-18T00:00:00.000000000",
          "2024-10-21T00:00:00.000000000",
          "2024-10-22T00:00:00.000000000",
          "2024-10-23T00:00:00.000000000",
          "2024-10-24T00:00:00.000000000",
          "2024-10-25T00:00:00.000000000",
          "2024-10-28T00:00:00.000000000",
          "2024-10-29T00:00:00.000000000",
          "2024-10-30T00:00:00.000000000",
          "2024-10-31T00:00:00.000000000",
          "2024-11-01T00:00:00.000000000",
          "2024-11-04T00:00:00.000000000",
          "2024-11-05T00:00:00.000000000",
          "2024-11-06T00:00:00.000000000",
          "2024-11-07T00:00:00.000000000",
          "2024-11-08T00:00:00.000000000",
          "2024-11-11T00:00:00.000000000",
          "2024-11-12T00:00:00.000000000",
          "2024-11-13T00:00:00.000000000",
          "2024-11-14T00:00:00.000000000",
          "2024-11-15T00:00:00.000000000",
          "2024-11-18T00:00:00.000000000",
          "2024-11-19T00:00:00.000000000",
          "2024-11-20T00:00:00.000000000",
          "2024-11-21T00:00:00.000000000",
          "2024-11-22T00:00:00.000000000",
          "2024-11-25T00:00:00.000000000",
          "2024-11-26T00:00:00.000000000",
          "2024-11-27T00:00:00.000000000",
          "2024-11-29T00:00:00.000000000",
          "2024-12-02T00:00:00.000000000",
          "2024-12-03T00:00:00.000000000",
          "2024-12-04T00:00:00.000000000",
          "2024-12-05T00:00:00.000000000",
          "2024-12-06T00:00:00.000000000",
          "2024-12-09T00:00:00.000000000",
          "2024-12-10T00:00:00.000000000",
          "2024-12-11T00:00:00.000000000",
          "2024-12-12T00:00:00.000000000",
          "2024-12-13T00:00:00.000000000",
          "2024-12-16T00:00:00.000000000",
          "2024-12-17T00:00:00.000000000",
          "2024-12-18T00:00:00.000000000",
          "2024-12-19T00:00:00.000000000",
          "2024-12-20T00:00:00.000000000",
          "2024-12-23T00:00:00.000000000",
          "2024-12-24T00:00:00.000000000",
          "2024-12-26T00:00:00.000000000",
          "2024-12-27T00:00:00.000000000",
          "2024-12-30T00:00:00.000000000",
          "2024-12-31T00:00:00.000000000",
          "2025-01-02T00:00:00.000000000",
          "2025-01-03T00:00:00.000000000",
          "2025-01-06T00:00:00.000000000",
          "2025-01-07T00:00:00.000000000",
          "2025-01-08T00:00:00.000000000",
          "2025-01-10T00:00:00.000000000",
          "2025-01-13T00:00:00.000000000",
          "2025-01-14T00:00:00.000000000",
          "2025-01-15T00:00:00.000000000",
          "2025-01-16T00:00:00.000000000",
          "2025-01-17T00:00:00.000000000",
          "2025-01-21T00:00:00.000000000",
          "2025-01-22T00:00:00.000000000",
          "2025-01-23T00:00:00.000000000",
          "2025-01-24T00:00:00.000000000",
          "2025-01-27T00:00:00.000000000",
          "2025-01-28T00:00:00.000000000",
          "2025-01-29T00:00:00.000000000",
          "2025-01-30T00:00:00.000000000",
          "2025-01-31T00:00:00.000000000",
          "2025-02-03T00:00:00.000000000",
          "2025-02-04T00:00:00.000000000",
          "2025-02-05T00:00:00.000000000",
          "2025-02-06T00:00:00.000000000",
          "2025-02-07T00:00:00.000000000",
          "2025-02-10T00:00:00.000000000",
          "2025-02-11T00:00:00.000000000",
          "2025-02-12T00:00:00.000000000",
          "2025-02-13T00:00:00.000000000",
          "2025-02-14T00:00:00.000000000",
          "2025-02-18T00:00:00.000000000",
          "2025-02-19T00:00:00.000000000"
         ],
         "y": {
          "bdata": "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",
          "dtype": "f8"
         }
        },
        {
         "name": "SMA20",
         "type": "scatter",
         "x": [
          "2024-02-20T00:00:00.000000000",
          "2024-02-21T00:00:00.000000000",
          "2024-02-22T00:00:00.000000000",
          "2024-02-23T00:00:00.000000000",
          "2024-02-26T00:00:00.000000000",
          "2024-02-27T00:00:00.000000000",
          "2024-02-28T00:00:00.000000000",
          "2024-02-29T00:00:00.000000000",
          "2024-03-01T00:00:00.000000000",
          "2024-03-04T00:00:00.000000000",
          "2024-03-05T00:00:00.000000000",
          "2024-03-06T00:00:00.000000000",
          "2024-03-07T00:00:00.000000000",
          "2024-03-08T00:00:00.000000000",
          "2024-03-11T00:00:00.000000000",
          "2024-03-12T00:00:00.000000000",
          "2024-03-13T00:00:00.000000000",
          "2024-03-14T00:00:00.000000000",
          "2024-03-15T00:00:00.000000000",
          "2024-03-18T00:00:00.000000000",
          "2024-03-19T00:00:00.000000000",
          "2024-03-20T00:00:00.000000000",
          "2024-03-21T00:00:00.000000000",
          "2024-03-22T00:00:00.000000000",
          "2024-03-25T00:00:00.000000000",
          "2024-03-26T00:00:00.000000000",
          "2024-03-27T00:00:00.000000000",
          "2024-03-28T00:00:00.000000000",
          "2024-04-01T00:00:00.000000000",
          "2024-04-02T00:00:00.000000000",
          "2024-04-03T00:00:00.000000000",
          "2024-04-04T00:00:00.000000000",
          "2024-04-05T00:00:00.000000000",
          "2024-04-08T00:00:00.000000000",
          "2024-04-09T00:00:00.000000000",
          "2024-04-10T00:00:00.000000000",
          "2024-04-11T00:00:00.000000000",
          "2024-04-12T00:00:00.000000000",
          "2024-04-15T00:00:00.000000000",
          "2024-04-16T00:00:00.000000000",
          "2024-04-17T00:00:00.000000000",
          "2024-04-18T00:00:00.000000000",
          "2024-04-19T00:00:00.000000000",
          "2024-04-22T00:00:00.000000000",
          "2024-04-23T00:00:00.000000000",
          "2024-04-24T00:00:00.000000000",
          "2024-04-25T00:00:00.000000000",
          "2024-04-26T00:00:00.000000000",
          "2024-04-29T00:00:00.000000000",
          "2024-04-30T00:00:00.000000000",
          "2024-05-01T00:00:00.000000000",
          "2024-05-02T00:00:00.000000000",
          "2024-05-03T00:00:00.000000000",
          "2024-05-06T00:00:00.000000000",
          "2024-05-07T00:00:00.000000000",
          "2024-05-08T00:00:00.000000000",
          "2024-05-09T00:00:00.000000000",
          "2024-05-10T00:00:00.000000000",
          "2024-05-13T00:00:00.000000000",
          "2024-05-14T00:00:00.000000000",
          "2024-05-15T00:00:00.000000000",
          "2024-05-16T00:00:00.000000000",
          "2024-05-17T00:00:00.000000000",
          "2024-05-20T00:00:00.000000000",
          "2024-05-21T00:00:00.000000000",
          "2024-05-22T00:00:00.000000000",
          "2024-05-23T00:00:00.000000000",
          "2024-05-24T00:00:00.000000000",
          "2024-05-28T00:00:00.000000000",
          "2024-05-29T00:00:00.000000000",
          "2024-05-30T00:00:00.000000000",
          "2024-05-31T00:00:00.000000000",
          "2024-06-03T00:00:00.000000000",
          "2024-06-04T00:00:00.000000000",
          "2024-06-05T00:00:00.000000000",
          "2024-06-06T00:00:00.000000000",
          "2024-06-07T00:00:00.000000000",
          "2024-06-10T00:00:00.000000000",
          "2024-06-11T00:00:00.000000000",
          "2024-06-12T00:00:00.000000000",
          "2024-06-13T00:00:00.000000000",
          "2024-06-14T00:00:00.000000000",
          "2024-06-17T00:00:00.000000000",
          "2024-06-18T00:00:00.000000000",
          "2024-06-20T00:00:00.000000000",
          "2024-06-21T00:00:00.000000000",
          "2024-06-24T00:00:00.000000000",
          "2024-06-25T00:00:00.000000000",
          "2024-06-26T00:00:00.000000000",
          "2024-06-27T00:00:00.000000000",
          "2024-06-28T00:00:00.000000000",
          "2024-07-01T00:00:00.000000000",
          "2024-07-02T00:00:00.000000000",
          "2024-07-03T00:00:00.000000000",
          "2024-07-05T00:00:00.000000000",
          "2024-07-08T00:00:00.000000000",
          "2024-07-09T00:00:00.000000000",
          "2024-07-10T00:00:00.000000000",
          "2024-07-11T00:00:00.000000000",
          "2024-07-12T00:00:00.000000000",
          "2024-07-15T00:00:00.000000000",
          "2024-07-16T00:00:00.000000000",
          "2024-07-17T00:00:00.000000000",
          "2024-07-18T00:00:00.000000000",
          "2024-07-19T00:00:00.000000000",
          "2024-07-22T00:00:00.000000000",
          "2024-07-23T00:00:00.000000000",
          "2024-07-24T00:00:00.000000000",
          "2024-07-25T00:00:00.000000000",
          "2024-07-26T00:00:00.000000000",
          "2024-07-29T00:00:00.000000000",
          "2024-07-30T00:00:00.000000000",
          "2024-07-31T00:00:00.000000000",
          "2024-08-01T00:00:00.000000000",
          "2024-08-02T00:00:00.000000000",
          "2024-08-05T00:00:00.000000000",
          "2024-08-06T00:00:00.000000000",
          "2024-08-07T00:00:00.000000000",
          "2024-08-08T00:00:00.000000000",
          "2024-08-09T00:00:00.000000000",
          "2024-08-12T00:00:00.000000000",
          "2024-08-13T00:00:00.000000000",
          "2024-08-14T00:00:00.000000000",
          "2024-08-15T00:00:00.000000000",
          "2024-08-16T00:00:00.000000000",
          "2024-08-19T00:00:00.000000000",
          "2024-08-20T00:00:00.000000000",
          "2024-08-21T00:00:00.000000000",
          "2024-08-22T00:00:00.000000000",
          "2024-08-23T00:00:00.000000000",
          "2024-08-26T00:00:00.000000000",
          "2024-08-27T00:00:00.000000000",
          "2024-08-28T00:00:00.000000000",
          "2024-08-29T00:00:00.000000000",
          "2024-08-30T00:00:00.000000000",
          "2024-09-03T00:00:00.000000000",
          "2024-09-04T00:00:00.000000000",
          "2024-09-05T00:00:00.000000000",
          "2024-09-06T00:00:00.000000000",
          "2024-09-09T00:00:00.000000000",
          "2024-09-10T00:00:00.000000000",
          "2024-09-11T00:00:00.000000000",
          "2024-09-12T00:00:00.000000000",
          "2024-09-13T00:00:00.000000000",
          "2024-09-16T00:00:00.000000000",
          "2024-09-17T00:00:00.000000000",
          "2024-09-18T00:00:00.000000000",
          "2024-09-19T00:00:00.000000000",
          "2024-09-20T00:00:00.000000000",
          "2024-09-23T00:00:00.000000000",
          "2024-09-24T00:00:00.000000000",
          "2024-09-25T00:00:00.000000000",
          "2024-09-26T00:00:00.000000000",
          "2024-09-27T00:00:00.000000000",
          "2024-09-30T00:00:00.000000000",
          "2024-10-01T00:00:00.000000000",
          "2024-10-02T00:00:00.000000000",
          "2024-10-03T00:00:00.000000000",
          "2024-10-04T00:00:00.000000000",
          "2024-10-07T00:00:00.000000000",
          "2024-10-08T00:00:00.000000000",
          "2024-10-09T00:00:00.000000000",
          "2024-10-10T00:00:00.000000000",
          "2024-10-11T00:00:00.000000000",
          "2024-10-14T00:00:00.000000000",
          "2024-10-15T00:00:00.000000000",
          "2024-10-16T00:00:00.000000000",
          "2024-10-17T00:00:00.000000000",
          "2024-10-18T00:00:00.000000000",
          "2024-10-21T00:00:00.000000000",
          "2024-10-22T00:00:00.000000000",
          "2024-10-23T00:00:00.000000000",
          "2024-10-24T00:00:00.000000000",
          "2024-10-25T00:00:00.000000000",
          "2024-10-28T00:00:00.000000000",
          "2024-10-29T00:00:00.000000000",
          "2024-10-30T00:00:00.000000000",
          "2024-10-31T00:00:00.000000000",
          "2024-11-01T00:00:00.000000000",
          "2024-11-04T00:00:00.000000000",
          "2024-11-05T00:00:00.000000000",
          "2024-11-06T00:00:00.000000000",
          "2024-11-07T00:00:00.000000000",
          "2024-11-08T00:00:00.000000000",
          "2024-11-11T00:00:00.000000000",
          "2024-11-12T00:00:00.000000000",
          "2024-11-13T00:00:00.000000000",
          "2024-11-14T00:00:00.000000000",
          "2024-11-15T00:00:00.000000000",
          "2024-11-18T00:00:00.000000000",
          "2024-11-19T00:00:00.000000000",
          "2024-11-20T00:00:00.000000000",
          "2024-11-21T00:00:00.000000000",
          "2024-11-22T00:00:00.000000000",
          "2024-11-25T00:00:00.000000000",
          "2024-11-26T00:00:00.000000000",
          "2024-11-27T00:00:00.000000000",
          "2024-11-29T00:00:00.000000000",
          "2024-12-02T00:00:00.000000000",
          "2024-12-03T00:00:00.000000000",
          "2024-12-04T00:00:00.000000000",
          "2024-12-05T00:00:00.000000000",
          "2024-12-06T00:00:00.000000000",
          "2024-12-09T00:00:00.000000000",
          "2024-12-10T00:00:00.000000000",
          "2024-12-11T00:00:00.000000000",
          "2024-12-12T00:00:00.000000000",
          "2024-12-13T00:00:00.000000000",
          "2024-12-16T00:00:00.000000000",
          "2024-12-17T00:00:00.000000000",
          "2024-12-18T00:00:00.000000000",
          "2024-12-19T00:00:00.000000000",
          "2024-12-20T00:00:00.000000000",
          "2024-12-23T00:00:00.000000000",
          "2024-12-24T00:00:00.000000000",
          "2024-12-26T00:00:00.000000000",
          "2024-12-27T00:00:00.000000000",
          "2024-12-30T00:00:00.000000000",
          "2024-12-31T00:00:00.000000000",
          "2025-01-02T00:00:00.000000000",
          "2025-01-03T00:00:00.000000000",
          "2025-01-06T00:00:00.000000000",
          "2025-01-07T00:00:00.000000000",
          "2025-01-08T00:00:00.000000000",
          "2025-01-10T00:00:00.000000000",
          "2025-01-13T00:00:00.000000000",
          "2025-01-14T00:00:00.000000000",
          "2025-01-15T00:00:00.000000000",
          "2025-01-16T00:00:00.000000000",
          "2025-01-17T00:00:00.000000000",
          "2025-01-21T00:00:00.000000000",
          "2025-01-22T00:00:00.000000000",
          "2025-01-23T00:00:00.000000000",
          "2025-01-24T00:00:00.000000000",
          "2025-01-27T00:00:00.000000000",
          "2025-01-28T00:00:00.000000000",
          "2025-01-29T00:00:00.000000000",
          "2025-01-30T00:00:00.000000000",
          "2025-01-31T00:00:00.000000000",
          "2025-02-03T00:00:00.000000000",
          "2025-02-04T00:00:00.000000000",
          "2025-02-05T00:00:00.000000000",
          "2025-02-06T00:00:00.000000000",
          "2025-02-07T00:00:00.000000000",
          "2025-02-10T00:00:00.000000000",
          "2025-02-11T00:00:00.000000000",
          "2025-02-12T00:00:00.000000000",
          "2025-02-13T00:00:00.000000000",
          "2025-02-14T00:00:00.000000000",
          "2025-02-18T00:00:00.000000000",
          "2025-02-19T00:00:00.000000000"
         ],
         "y": {
          "bdata": "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",
          "dtype": "f8"
         }
        }
       ],
       "layout": {
        "template": {
         "data": {
          "bar": [
           {
            "error_x": {
             "color": "#2a3f5f"
            },
            "error_y": {
             "color": "#2a3f5f"
            },
            "marker": {
             "line": {
              "color": "#E5ECF6",
              "width": 0.5
             },
             "pattern": {
              "fillmode": "overlay",
              "size": 10,
              "solidity": 0.2
             }
            },
            "type": "bar"
           }
          ],
          "barpolar": [
           {
            "marker": {
             "line": {
              "color": "#E5ECF6",
              "width": 0.5
             },
             "pattern": {
              "fillmode": "overlay",
              "size": 10,
              "solidity": 0.2
             }
            },
            "type": "barpolar"
           }
          ],
          "carpet": [
           {
            "aaxis": {
             "endlinecolor": "#2a3f5f",
             "gridcolor": "white",
             "linecolor": "white",
             "minorgridcolor": "white",
             "startlinecolor": "#2a3f5f"
            },
            "baxis": {
             "endlinecolor": "#2a3f5f",
             "gridcolor": "white",
             "linecolor": "white",
             "minorgridcolor": "white",
             "startlinecolor": "#2a3f5f"
            },
            "type": "carpet"
           }
          ],
          "choropleth": [
           {
            "colorbar": {
             "outlinewidth": 0,
             "ticks": ""
            },
            "type": "choropleth"
           }
          ],
          "contour": [
           {
            "colorbar": {
             "outlinewidth": 0,
             "ticks": ""
            },
            "colorscale": [
             [
              0,
              "#0d0887"
             ],
             [
              0.1111111111111111,
              "#46039f"
             ],
             [
              0.2222222222222222,
              "#7201a8"
             ],
             [
              0.3333333333333333,
              "#9c179e"
             ],
             [
              0.4444444444444444,
              "#bd3786"
             ],
             [
              0.5555555555555556,
              "#d8576b"
             ],
             [
              0.6666666666666666,
              "#ed7953"
             ],
             [
              0.7777777777777778,
              "#fb9f3a"
             ],
             [
              0.8888888888888888,
              "#fdca26"
             ],
             [
              1,
              "#f0f921"
             ]
            ],
            "type": "contour"
           }
          ],
          "contourcarpet": [
           {
            "colorbar": {
             "outlinewidth": 0,
             "ticks": ""
            },
            "type": "contourcarpet"
           }
          ],
          "heatmap": [
           {
            "colorbar": {
             "outlinewidth": 0,
             "ticks": ""
            },
            "colorscale": [
             [
              0,
              "#0d0887"
             ],
             [
              0.1111111111111111,
              "#46039f"
             ],
             [
              0.2222222222222222,
              "#7201a8"
             ],
             [
              0.3333333333333333,
              "#9c179e"
             ],
             [
              0.4444444444444444,
              "#bd3786"
             ],
             [
              0.5555555555555556,
              "#d8576b"
             ],
             [
              0.6666666666666666,
              "#ed7953"
             ],
             [
              0.7777777777777778,
              "#fb9f3a"
             ],
             [
              0.8888888888888888,
              "#fdca26"
             ],
             [
              1,
              "#f0f921"
             ]
            ],
            "type": "heatmap"
           }
          ],
          "histogram": [
           {
            "marker": {
             "pattern": {
              "fillmode": "overlay",
              "size": 10,
              "solidity": 0.2
             }
            },
            "type": "histogram"
           }
          ],
          "histogram2d": [
           {
            "colorbar": {
             "outlinewidth": 0,
             "ticks": ""
            },
            "colorscale": [
             [
              0,
              "#0d0887"
             ],
             [
              0.1111111111111111,
              "#46039f"
             ],
             [
              0.2222222222222222,
              "#7201a8"
             ],
             [
              0.3333333333333333,
              "#9c179e"
             ],
             [
              0.4444444444444444,
              "#bd3786"
             ],
             [
              0.5555555555555556,
              "#d8576b"
             ],
             [
              0.6666666666666666,
              "#ed7953"
             ],
             [
              0.7777777777777778,
              "#fb9f3a"
             ],
             [
              0.8888888888888888,
              "#fdca26"
             ],
             [
              1,
              "#f0f921"
             ]
            ],
            "type": "histogram2d"
           }
          ],
          "histogram2dcontour": [
           {
            "colorbar": {
             "outlinewidth": 0,
             "ticks": ""
            },
            "colorscale": [
             [
              0,
              "#0d0887"
             ],
             [
              0.1111111111111111,
              "#46039f"
             ],
             [
              0.2222222222222222,
              "#7201a8"
             ],
             [
              0.3333333333333333,
              "#9c179e"
             ],
             [
              0.4444444444444444,
              "#bd3786"
             ],
             [
              0.5555555555555556,
              "#d8576b"
             ],
             [
              0.6666666666666666,
              "#ed7953"
             ],
             [
              0.7777777777777778,
              "#fb9f3a"
             ],
             [
              0.8888888888888888,
              "#fdca26"
             ],
             [
              1,
              "#f0f921"
             ]
            ],
            "type": "histogram2dcontour"
           }
          ],
          "mesh3d": [
           {
            "colorbar": {
             "outlinewidth": 0,
             "ticks": ""
            },
            "type": "mesh3d"
           }
          ],
          "parcoords": [
           {
            "line": {
             "colorbar": {
              "outlinewidth": 0,
              "ticks": ""
             }
            },
            "type": "parcoords"
           }
          ],
          "pie": [
           {
            "automargin": true,
            "type": "pie"
           }
          ],
          "scatter": [
           {
            "fillpattern": {
             "fillmode": "overlay",
             "size": 10,
             "solidity": 0.2
            },
            "type": "scatter"
           }
          ],
          "scatter3d": [
           {
            "line": {
             "colorbar": {
              "outlinewidth": 0,
              "ticks": ""
             }
            },
            "marker": {
             "colorbar": {
              "outlinewidth": 0,
              "ticks": ""
             }
            },
            "type": "scatter3d"
           }
          ],
          "scattercarpet": [
           {
            "marker": {
             "colorbar": {
              "outlinewidth": 0,
              "ticks": ""
             }
            },
            "type": "scattercarpet"
           }
          ],
          "scattergeo": [
           {
            "marker": {
             "colorbar": {
              "outlinewidth": 0,
              "ticks": ""
             }
            },
            "type": "scattergeo"
           }
          ],
          "scattergl": [
           {
            "marker": {
             "colorbar": {
              "outlinewidth": 0,
              "ticks": ""
             }
            },
            "type": "scattergl"
           }
          ],
          "scattermap": [
           {
            "marker": {
             "colorbar": {
              "outlinewidth": 0,
              "ticks": ""
             }
            },
            "type": "scattermap"
           }
          ],
          "scattermapbox": [
           {
            "marker": {
             "colorbar": {
              "outlinewidth": 0,
              "ticks": ""
             }
            },
            "type": "scattermapbox"
           }
          ],
          "scatterpolar": [
           {
            "marker": {
             "colorbar": {
              "outlinewidth": 0,
              "ticks": ""
             }
            },
            "type": "scatterpolar"
           }
          ],
          "scatterpolargl": [
           {
            "marker": {
             "colorbar": {
              "outlinewidth": 0,
              "ticks": ""
             }
            },
            "type": "scatterpolargl"
           }
          ],
          "scatterternary": [
           {
            "marker": {
             "colorbar": {
              "outlinewidth": 0,
              "ticks": ""
             }
            },
            "type": "scatterternary"
           }
          ],
          "surface": [
           {
            "colorbar": {
             "outlinewidth": 0,
             "ticks": ""
            },
            "colorscale": [
             [
              0,
              "#0d0887"
             ],
             [
              0.1111111111111111,
              "#46039f"
             ],
             [
              0.2222222222222222,
              "#7201a8"
             ],
             [
              0.3333333333333333,
              "#9c179e"
             ],
             [
              0.4444444444444444,
              "#bd3786"
             ],
             [
              0.5555555555555556,
              "#d8576b"
             ],
             [
              0.6666666666666666,
              "#ed7953"
             ],
             [
              0.7777777777777778,
              "#fb9f3a"
             ],
             [
              0.8888888888888888,
              "#fdca26"
             ],
             [
              1,
              "#f0f921"
             ]
            ],
            "type": "surface"
           }
          ],
          "table": [
           {
            "cells": {
             "fill": {
              "color": "#EBF0F8"
             },
             "line": {
              "color": "white"
             }
            },
            "header": {
             "fill": {
              "color": "#C8D4E3"
             },
             "line": {
              "color": "white"
             }
            },
            "type": "table"
           }
          ]
         },
         "layout": {
          "annotationdefaults": {
           "arrowcolor": "#2a3f5f",
           "arrowhead": 0,
           "arrowwidth": 1
          },
          "autotypenumbers": "strict",
          "coloraxis": {
           "colorbar": {
            "outlinewidth": 0,
            "ticks": ""
           }
          },
          "colorscale": {
           "diverging": [
            [
             0,
             "#8e0152"
            ],
            [
             0.1,
             "#c51b7d"
            ],
            [
             0.2,
             "#de77ae"
            ],
            [
             0.3,
             "#f1b6da"
            ],
            [
             0.4,
             "#fde0ef"
            ],
            [
             0.5,
             "#f7f7f7"
            ],
            [
             0.6,
             "#e6f5d0"
            ],
            [
             0.7,
             "#b8e186"
            ],
            [
             0.8,
             "#7fbc41"
            ],
            [
             0.9,
             "#4d9221"
            ],
            [
             1,
             "#276419"
            ]
           ],
           "sequential": [
            [
             0,
             "#0d0887"
            ],
            [
             0.1111111111111111,
             "#46039f"
            ],
            [
             0.2222222222222222,
             "#7201a8"
            ],
            [
             0.3333333333333333,
             "#9c179e"
            ],
            [
             0.4444444444444444,
             "#bd3786"
            ],
            [
             0.5555555555555556,
             "#d8576b"
            ],
            [
             0.6666666666666666,
             "#ed7953"
            ],
            [
             0.7777777777777778,
             "#fb9f3a"
            ],
            [
             0.8888888888888888,
             "#fdca26"
            ],
            [
             1,
             "#f0f921"
            ]
           ],
           "sequentialminus": [
            [
             0,
             "#0d0887"
            ],
            [
             0.1111111111111111,
             "#46039f"
            ],
            [
             0.2222222222222222,
             "#7201a8"
            ],
            [
             0.3333333333333333,
             "#9c179e"
            ],
            [
             0.4444444444444444,
             "#bd3786"
            ],
            [
             0.5555555555555556,
             "#d8576b"
            ],
            [
             0.6666666666666666,
             "#ed7953"
            ],
            [
             0.7777777777777778,
             "#fb9f3a"
            ],
            [
             0.8888888888888888,
             "#fdca26"
            ],
            [
             1,
             "#f0f921"
            ]
           ]
          },
          "colorway": [
           "#636efa",
           "#EF553B",
           "#00cc96",
           "#ab63fa",
           "#FFA15A",
           "#19d3f3",
           "#FF6692",
           "#B6E880",
           "#FF97FF",
           "#FECB52"
          ],
          "font": {
           "color": "#2a3f5f"
          },
          "geo": {
           "bgcolor": "white",
           "lakecolor": "white",
           "landcolor": "#E5ECF6",
           "showlakes": true,
           "showland": true,
           "subunitcolor": "white"
          },
          "hoverlabel": {
           "align": "left"
          },
          "hovermode": "closest",
          "mapbox": {
           "style": "light"
          },
          "paper_bgcolor": "white",
          "plot_bgcolor": "#E5ECF6",
          "polar": {
           "angularaxis": {
            "gridcolor": "white",
            "linecolor": "white",
            "ticks": ""
           },
           "bgcolor": "#E5ECF6",
           "radialaxis": {
            "gridcolor": "white",
            "linecolor": "white",
            "ticks": ""
           }
          },
          "scene": {
           "xaxis": {
            "backgroundcolor": "#E5ECF6",
            "gridcolor": "white",
            "gridwidth": 2,
            "linecolor": "white",
            "showbackground": true,
            "ticks": "",
            "zerolinecolor": "white"
           },
           "yaxis": {
            "backgroundcolor": "#E5ECF6",
            "gridcolor": "white",
            "gridwidth": 2,
            "linecolor": "white",
            "showbackground": true,
            "ticks": "",
            "zerolinecolor": "white"
           },
           "zaxis": {
            "backgroundcolor": "#E5ECF6",
            "gridcolor": "white",
            "gridwidth": 2,
            "linecolor": "white",
            "showbackground": true,
            "ticks": "",
            "zerolinecolor": "white"
           }
          },
          "shapedefaults": {
           "line": {
            "color": "#2a3f5f"
           }
          },
          "ternary": {
           "aaxis": {
            "gridcolor": "white",
            "linecolor": "white",
            "ticks": ""
           },
           "baxis": {
            "gridcolor": "white",
            "linecolor": "white",
            "ticks": ""
           },
           "bgcolor": "#E5ECF6",
           "caxis": {
            "gridcolor": "white",
            "linecolor": "white",
            "ticks": ""
           }
          },
          "title": {
           "x": 0.05
          },
          "xaxis": {
           "automargin": true,
           "gridcolor": "white",
           "linecolor": "white",
           "ticks": "",
           "title": {
            "standoff": 15
           },
           "zerolinecolor": "white",
           "zerolinewidth": 2
          },
          "yaxis": {
           "automargin": true,
           "gridcolor": "white",
           "linecolor": "white",
           "ticks": "",
           "title": {
            "standoff": 15
           },
           "zerolinecolor": "white",
           "zerolinewidth": 2
          }
         }
        },
        "title": {
         "text": "AAPL Candlestick Chart with SMA"
        },
        "xaxis": {
         "title": {
          "text": "Date"
         }
        },
        "yaxis": {
         "title": {
          "text": "Price (USD)"
         }
        }
       }
      },
      "text/html": [
       "<div>            <script src=\"https://cdnjs.cloudflare.com/ajax/libs/mathjax/2.7.5/MathJax.js?config=TeX-AMS-MML_SVG\"></script><script type=\"text/javascript\">if (window.MathJax && window.MathJax.Hub && window.MathJax.Hub.Config) {window.MathJax.Hub.Config({SVG: {font: \"STIX-Web\"}});}</script>                <script type=\"text/javascript\">window.PlotlyConfig = {MathJaxConfig: 'local'};</script>\n",
       "        <script charset=\"utf-8\" src=\"https://cdn.plot.ly/plotly-3.0.0.min.js\"></script>                <div id=\"77b40cdd-8fa0-4953-8b34-636eebfe5289\" class=\"plotly-graph-div\" style=\"height:525px; width:100%;\"></div>            <script type=\"text/javascript\">                window.PLOTLYENV=window.PLOTLYENV || {};                                if (document.getElementById(\"77b40cdd-8fa0-4953-8b34-636eebfe5289\")) {                    Plotly.newPlot(                        \"77b40cdd-8fa0-4953-8b34-636eebfe5289\",                        [{\"close\":{\"dtype\":\"f8\",\"bdata\":\"AAAAYJ2WZkAAAABg0q5mQAAAAOAc8GZAAAAA4DC1ZkAAAAAg4IlmQAAAAMCxuGZAAAAAICiSZkAAAABA0XxmQAAAAAAaWmZAAAAAIN7IZUAAAACAQSplQAAAAOBnCmVAAAAAgJUGZUAAAAAgrz1lQAAAAEAFfmVAAAAAwE6NZUAAAACgbEplQAAAAKD7hWVAAAAAIOF5ZUAAAAAg6pxlQAAAAGAU6GVAAAAA4JE6ZkAAAABAEVJlQAAAACANb2VAAAAAoIFBZUAAAACgMh1lQAAAACDbj2VAAAAAIJJVZUAAAADAYydlQAAAAAB9AWVAAAAAQEkbZUAAAAAA2gBlQAAAAMAOGWVAAAAAQBH1ZEAAAACA7BtlQAAAAEC632RAAAAAoPTGZUAAAACADPdlQAAAAAAcfGVAAAAAALASZUAAAAAAvOZkQAAAAKAoyGRAAAAAgC+HZEAAAACg8KFkQAAAACCzw2RAAAAAwDgHZUAAAAAg7iJlQAAAAKAjEGVAAAAAYOiVZUAAAADA8TBlQAAAAKAjEGVAAAAAQPCGZUAAAADglNBmQAAAAMBkm2ZAAAAAgF6xZkAAAACgMrxmQAAAAMB79mZAAAAAoPrNZkAAAAAg\\u002fjRnQAAAAGCrWWdAAAAAYLSiZ0AAAAAAiKZnQAAAAOB8p2dAAAAAgM3MZ0AAAAAglfZnQAAAAGBWyGdAAAAA4CBIZ0AAAAAA\\u002f6pnQAAAAKBQq2dAAAAAAOK0Z0AAAACgxtRnQAAAAIBk82dAAAAAgCksaEAAAABAXjZoQAAAAEDYZmhAAAAAgIM6aEAAAAAAYIdoQAAAAMAjD2hAAAAAYJjOaUAAAADAZotqQAAAAGC3sGpAAAAAYOd4akAAAAAgN\\u002f5qQAAAAGBPsmpAAAAA4EgfakAAAACAcNlpQAAAAGAr7mlAAAAAgNQLakAAAABgJJFqQAAAAEBArGpAAAAAYEM9akAAAABAxABrQAAAAIAHcWtAAAAAINqZa0AAAABgnjJsQAAAAADSYWxAAAAAYD99bEAAAAAAYwZtQAAAAODYWWxAAAAAgJG4bEAAAADArDNtQAAAAOARQW1AAAAAYKCDbEAAAADguu1rQAAAAEDg8WtAAAAA4Lbma0AAAACAMwhsQAAAAODaOWtAAAAAIF4Ya0AAAACAWydrQAAAAIBJMGtAAAAAoCVCa0AAAABgwaprQAAAACAdNGtAAAAAIPRja0AAAACANRJqQAAAAMAl0WlAAAAA4L8jakAAAABADpNqQAAAAICA8GpAAAAAYKwha0AAAAAgF5lrQAAAAIB1p2tAAAAAgD8HbEAAAAAAtzFsQAAAACCbLGxAAAAAAGdAbEAAAADA4zxsQAAAAIAuAWxAAAAAYPBKbEAAAACAy1VsQAAAAGDvcGxAAAAAgMM\\u002fbEAAAADAIalsQAAAAEDoj2xAAAAAIPzIa0AAAAAgrotrQAAAAECIvGtAAAAAALmKa0AAAACAmI1rQAAAAGANdGtAAAAAAHnFa0AAAAAg\\u002fMhrQAAAAEBdwGtAAAAA4An7akAAAACACwprQAAAAECShmtAAAAAoMGLbEAAAAAAXXZsQAAAAAAgP2xAAAAAoNxbbEAAAACg7jtsQAAAAMCmYGxAAAAAoEVpbEAAAABgoA9tQAAAAODSNmxAAAAAAAZJbEAAAADAlCVsQAAAAICpSWxAAAAAQICma0AAAABAxihsQAAAAEAmoWxAAAAAQC+RbEAAAAAAnGFsQAAAAIBY2WxAAAAAQMQqbUAAAAAArOhsQAAAAGB89GxAAAAAQHxPbUAAAADgvX5tQAAAAADyam1AAAAAgBrIbEAAAACgCcJsQAAAAKDb3GxAAAAA4GUcbUAAAADgBCVtQAAAAKAHs2xAAAAAoD4tbEAAAACAdM1rQAAAAOC3sGtAAAAAgLLea0AAAACAY8drQAAAAMBfX2xAAAAAYL5WbEAAAADAev9rQAAAAMB6\\u002f2tAAAAAoO0bbEAAAAAABX9sQAAAAKAXGGxAAAAAYKB4bEAAAADg74BsQAAAAKDzl2xAAAAA4JuIbEAAAADgwrNsQAAAAOCnE21AAAAAoKhZbUAAAADggFVtQAAAACA4om1AAAAAoHXqbUAAAACgRUxuQAAAAIDHV25AAAAAAL1YbkAAAABgWFJuQAAAAABUz25AAAAAoO7vbkAAAABgBMduQAAAAIAB9m5AAAAAgHD7bkAAAAAAdVhvQAAAAIBzpm9AAAAA4OH4bkAAAABAgDBvQAAAAIC8xm9AAAAAQKvfb0AAAADAqR5wQAAAAKDEK3BAAAAAwOXpb0AAAABgiX1vQAAAAKCjRG9AAAAAYKFybkAAAACg92JuQAAAAMBjl25AAAAAQDU+bkAAAADA3k1uQAAAAEDgkm1AAAAA4I9EbUAAAADgwiBtQAAAAOB6s21AAAAAQEyAbEAAAAAAR7dsQAAAAMCnzGtAAAAAgLHya0AAAACAQu1rQAAAAGAh0WtAAAAAAHGzbEAAAABA8r9tQAAAAKAb421AAAAAoIeqbUAAAADAtHdtQAAAAIBOeGxAAAAAIGsRbUAAAADA3gZtQAAAAADYHm1AAAAAAClsbEAAAADAzHRsQAAAAADXE21AAAAAANebbUAAAADA9TBuQAAAAEAzk25AAAAAQAqPbkAAAAAA15tuQA==\"},\"high\":{\"dtype\":\"f8\",\"bdata\":\"7I4\\u002f4VKyZkDAglDO+cBmQKmg8YjnAmdA2D4Pm3MFZ0AE15Gm1bxmQM3m1bXH4WZAydo8DU3IZkCjfFSuyLZmQFHShoHPdWZAXL3pUzICZkBoHtg0aGdlQOg8KWHtTWVAAIApBa89ZUC9hCIIR5xlQPNL+X7vsWVAqWUlk8mmZUB4tBDRCIxlQCQI6LC0r2VAAAAAIOF5ZUBdkRCj\\u002fhtmQIDLZLj1+GVAAAAA4JE6ZkCbWyHB\\u002fBRmQEHjA1uTh2VAwego6ThkZUCnTIsKqVNlQNCRs7UXmWVAXTj6P3VtZUBB3fMHP05lQIlwEcBpEWVAj9peWBc8ZUAeFNLGlWNlQJQx6hDbMmVA3VI6YPQMZUA+6Rt3+yhlQKdTuVBzCWVA5D9fNFXUZUA+rMtQsjBmQK1Ut8+Y+WVA6yCvPzCeZUAAAKm5IjtlQIryb0Ye+2RAAACpWcazZEBnEfiUKs9kQHD1gzl6yGRAlMJkuCMQZUDeKK+n3DllQKsT+7UcUWVA73TMuHzmZUCOkJAXXcVlQNonQxe\\u002ffGVAhmNBHFyTZUA0tlqB4ENnQGXSZOOy6mZAmYaGQP4AZ0BvV39LtcZmQIU9BYlZ+WZADUN5RQoPZ0CiBaEfJU9nQLyGb6BqdWdAsVEwW13AZ0B38dBst85nQCtItJR3xWdAcRFMWt7oZ0C+ZLCSswJoQBOeZHCSBWhAzpO90YbLZ0BJBR3JIb5nQD1cKudPC2hAVPB6l2TzZ0AAVRIUKfFnQLbd\\u002fjeZ\\u002fWdAnro2iMdKaEDDegviTVVoQPp3hryxh2hA4Yzy8e96aEBkkbtA+IhoQG4AvqxzlGhA6cquGerOaUCHuHT5y25rQPjvLWDEAGtA0x3wVWDOakDbbKBP7kZrQBokS6i5PGtArKWEX7ewakCGjBaDxGVqQEzn4b6Zf2pA0hzDnIBVakDAAz1SfcRqQLghaB+O4GpAzD04UhTrakAbDDJFARlrQL2aQ5uJdGtAAAAAINqZa0AGrkV7IDZsQN\\u002fuQ+3GYmxAuAgi3jWUbED+6HmBkwltQEMfuvyR82xA0FX2H4v7bEB\\u002fvw547o1tQLvACHZQb21AdAH28+jVbEBFxsgYYbVsQJL7FQxKQWxA837EbYtgbEAG9yoqwUVsQHW8lxmBAWxAnmLpDIeDa0A0FjdEJ1hrQCsfwOkXUmtAW5QUZPFya0CCbNbAP+JrQAaJyi9M92tAwvg\\u002fvgQbbEBWdsWNHZlqQHnW+gMsKWpA9aQqbZSdakAHpgy0cK9qQH72vU65AWtA53M54eRga0CoeZP44qxrQJi9325J0WtAmwyGKl0bbECteMa3nkpsQJvcbZPML2xA8CNs4HlVbEAHJkizVm9sQNqaenXVemxAVQtvjAB3bEBpnmzz\\u002fFhsQNQ4Zh8ei2xAwn5s312rbECcNx1xEg1tQEt5WdCbvGxA909JK+iPbEDrQ\\u002fDkX6lrQC10s5qDH2xAP9A6HNoXbEA+fQEmF5lrQAminbrLn2tAI5WlwzPTa0CIMKjX4+FrQAOXsiuJ8WtAuSoab8YXa0BsqWOljg1rQLe458gRx2tA0JHFCBeqbEDblRbnfxJtQHnRn4NGnmxA1QQ0QRWbbEBtlAazTllsQIbspD7xf2xAu+ZswIKgbEAAAABgoA9tQMJjal2ppGxA\\u002fXDSotxbbECkXLUd+0lsQFTgfkn6b2xAmwgGSjgmbECyPeS4ei9sQMOY1tjap2xAB6R+Wd+fbEBIu+Cp\\u002f5xsQFEtrUMT52xAGlkMpP2ebUA2JSgih\\u002fNsQDy\\u002fs0rEKm1Aq2l8hSl1bUDwEPNXjoptQC2SCaZwdm1AdR8jtPRTbUD8e6kgBcpsQHfwC5CmFm1AWzq+Ut1GbUBvl1\\u002fAFzptQDG6N\\u002f+hHm1AJ2yqumiqbEBMCXAaXRtsQJjsuZefyWtAYUdGganua0Dahq57WjJsQAQDx20lbGxAATJvdBWNbEAvlUjGdy5sQF49o6PzKmxAB\\u002f4bnNVMbEBHQvLmy5NsQGaGsPl2VWxAjS1uJpuvbECRHdT1B71sQMFX8sGttWxADtew\\u002fge9bEBA1kB67s5sQANkw3TNH21AOI5OCfZpbUBe740JzG1tQFRvdu6PsW1AYtUVNNEQbkCoiaTCyU9uQOEXatrwem5AEUQpga+IbkAB5BwFkItuQKCbaLf93m5A8ySLKv\\u002f9bkCjXrgYyVBvQG64fzvwDm9AAUkwsIQgb0A6PN5QU2NvQILj1JmjsW9A1T2X8gXAb0BLI8+9JHdvQGQaYMkJ129ANYnPtNDrb0BoA4KU0h5wQCnlLoQHPXBAWPOFgqcmcEAvPtlNF6dvQD7M1gQPoG9AcZNFJHIab0ClaGCfLX1uQChygCne4W5AfGZZc\\u002fiobkAiFqipJ25uQMddF\\u002fit\\u002fG1A\\u002f7kfUjFNbUBumqiSinttQMW0cHFS1m1As2LRh\\u002fS3bUAzeI23HQFtQN61LnyNBWxAk4UNhPb7a0DQYTEu+1hsQLLBsvs6LGxAdYpsBaT8bECpi76Co\\u002f1tQDpOZSAX821AoJqRNdEQbkAajlaTZN1uQG3+xKFp8mxAPgjuh\\u002fcbbUC6KF5TQw1tQM76IyhiMW1ANtVUsMY3bUAAAABA4dJsQAAAACBcZ21AAAAAYLiebUAAAABA4UpuQAAAAKCZsW5AAAAAgMKlbkAAAADgUcBuQA==\"},\"low\":{\"dtype\":\"f8\",\"bdata\":\"f6d67+1kZkDCeYqI83lmQCooh8hHs2ZAd+ZQSvSrZkA5hKHCoXlmQNxI+HHqVmZAQ1DdKRJpZkDvtB349VVmQNTPJQd8EWZAvhAO7ySfZUAT7Oi\\u002fVBplQHTiqlBk\\u002fGRAAICBQlf2ZECfd+RprARlQCxOCtO5Z2VAe+9l+JlGZUBuDcC+oz5lQOOD\\u002ftK5Z2VA2xaEdKsvZUAsVCRzi5ZlQL2aeSzwhmVAToBEVIzIZUAxDaznL0FlQIIk0ldYKGVA0KtHpuoUZUBBuE+hDhllQKQC4\\u002fLvKWVAqnlcOK02ZUC1prNM3xVlQEM5FVwP7mRAfkPNETX5ZEAAAAAA2gBlQDESIgH+BGVAh6ucFWHuZEBW3IDx4fFkQECpeGtjymRAJiHHoNTrZECad9VWhaxlQGtOpdAOdmVATZbym1XvZEAAAAAAvOZkQCtcUH2NuGRAAICAS+JpZEBopnxx3H9kQOo+wzqjhGRA+NW3brmtZECRcnT9gutkQPcr0B5RDGVAJB1EBiuJZUBXVXUUbyZlQFlQpnAWCmVAsedXw8dCZUBCqlNYprlmQPQs8alOcmZAtuIe1PiOZkBNh1eKHJNmQJzsKBUiqGZAKHfLPqOwZkB2EintDABnQCQtKMhPNWdAy3DQm8FXZ0CuwWRwyqBnQGHKGk97kWdA5RL6cw+MZ0DdX169+chnQOlmhMk+tGdAgwc1vCdAZ0BJEQO8H21nQOVfIizujmdARhNIpwGcZ0CC5y4cur9nQIpjIXbDqGdA3gtNDwH8Z0A2eKP4RAxoQBK3vbDzRmhA1NmogaAwaEBt6YV2qy9oQOAW9R008GdAkJgMoGcfaEAKYO5On8ZpQBcID\\u002fGEXGpAtp5fh\\u002fNSakCqYqgjPYBqQMJY8SUriWpAsOpcZtAEakAirHHtUc1pQHIxeki8vGlA09Zyvyj9aUCdp3Te5j1qQBkOUkVwdGpAtGHpxw4zakCoAsRpuWZqQLS1X74kzGpATpycZntJa0BQbSOSCp1rQLFwROcR0GtAs19HQ5MzbEDfDYI6bY9sQICClaRwIGxAkJAOaj99bEDVYVoy5QltQHFe1hOo8WxArpCgty88bEBNeUGp0LBrQLcmlsMG0WtAagGMn\\u002ffKa0DE7rAP5L1rQF+FrvDiDGtAPF8KwdW8akAL+UCCKulqQAWRvbPf4GpASPZ9iqzsakCFQurJgnxrQKr9TqVgCWtAjocJX2Ifa0CF\\u002fxnB\\u002fWpoQAYclCewDGlA69tBX1u2aUDvA3wOLQRqQD8wPctRaGpAaSl9mAzkakC1kpvI7VBrQLB0Bvf1ZmtAu73GYqrIa0CrAA9NFeVrQA8NfyWb0WtACx21kY4ebECtUmbpyBFsQIHnatUQ7WtABhGyp8v6a0AKLfwPv+xrQK89fP2sDGxAlYKHcuYlbEAEcNl+E4xsQABAW7hfX2xACsnyqOWVa0A+0oKgEyBrQFRH0JgSoWtA0a+pQzJpa0Aq9zevfQdrQO7ISy4hCGtA6XV\\u002f8Cota0DvxG7SymprQNn+LJ2GrWtA3IktLWiuakCvx58S7cBqQAsWUAv+IWtA++AJ518EbEDBZDMP2GNsQDDnpR8NKmxA8+jlQH8nbEB9eq\\u002fG5fBrQGqTk5VHHWxALw+ncKBZbEBvIxZkqaRsQE5dZA\\u002f152tAc8BVxPfQa0BD3e7mi9prQDu\\u002ffuho9GtAfA77mQGba0DyCcu1T9hrQAq5UrvCCmxAdVQJ5HlVbECdZSxn51psQPSOybIig2xArfspoIL7bECE3J9muqpsQMQ10NJwwGxAh8yE798vbUB\\u002ffPuk7D1tQPHHuMXaAm1AKzhUeFBobEAtp5O7EX1sQPnmHHobomxAzB+XCkIBbUBIZFcJ6vlsQEdFFeV3oWxAYrv6lgAcbECDt6geKXlrQAL5j8BHZ2tA7peUjvCUa0CeCFlGiZZrQLkwz3l1AmxAC1nPsilFbECUfb4vN6hrQPZJx5Or42tA6KuMu33Qa0Dc\\u002fD64FxhsQLwbZBHCAGxAzvU8xIYdbECiB0xzJ01sQBy7RHuKNGxATPsXqMkubECQONCo53lsQGoHEimbr2xAfEKoEFwibUD0QY\\u002fzszFtQCjz1DrRNm1AW7bs\\u002fMicbUBwwyFdZ9RtQFmns3WFH25ANqnoj6Y7bkAFg3pWDTpuQB0DHPyAL25AlOgH3UGibkCLoskxqr9uQK73WSMgrW5ABYZAoQa\\u002fbkCilgSgGOxuQFAwMmouMG9AcKoCKvnubkCaYcIqMtpuQEjyQQxyrW5ApNfTH36lb0BnBmDOTuBvQJpxy4CNFXBALI8QwwaZb0CZk50LME9vQEHqLmj+JG9AoCZ3470xbkCNDr2Z+jNuQPbhy1HaXW5Advm+3LcibkC1AbPXKfltQLmAtaPPF21AR2z\\u002feveubEDHOqmp3gZtQK\\u002feJ1OFRW1A6cm5MfJ4bEAK8dZ+VIdsQJCnpTRzZGtAYyluGY5xa0A2BV6cycFrQBAPdLNWpWtAKfeA53z3a0Dk6xHnztFsQHsHLoIYOG1AhjQ3K2KebUCG0yZI4CVtQGJOYch3LmxAmArjlNVMbECCpWopnoBsQKmq8VmpxWxAGZ85NFVgbEAAAABgZmZsQAAAAAAphGxAAAAAgMLVbEAAAACAPXJtQAAAACCuH25AAAAAQOE6bkAAAADAHmVuQA==\"},\"open\":{\"dtype\":\"f8\",\"bdata\":\"kBgkpfCdZkBRUzkBuKJmQLKYr0PE02ZAPge6An8EZ0DDOo7rRaxmQNEmqOf2h2ZA3ehBad+0ZkBZEe4aYY1mQAATJByZVmZAr4OqM0\\u002fqZUAjCki8oz5lQI0ZUq8xSGVAAACpeVwLZUC24ZCalQZlQJgCX28ShGVAPRyAdMKKZUDjQ3xcqH5lQAu9\\u002fNYdg2VAIVsuk7JLZUC4VZkm1tdlQAylSj2psGVAPeL6Ep3cZUAWO8wx+QZmQDbZCkV9XmVA\\u002fjugp5Y4ZUA1DN0VbyZlQGlOFQZ+M2VAU2vUmiteZUDrR0bXVUxlQAffieIhCWVAyEUiPOX\\u002fZEA6m\\u002fmHqy9lQMZKfz1gGWVAk5qtS4oHZUAxVRWYB\\u002f1kQBRv4to2AGVAxc7HMpDxZECsZSjqHK5lQCN1wdQl0WVAmmHLwSteZUAAgNUjAxplQK7vkKKw52RAAIAsSrmtZECUVLyRv5dkQGXtnkxVkmRA1mhx+ju4ZECRayjcdhdlQJfAi6ucImVAltxNYcSRZUBsbFxAfpBlQJ5uWpgOGWVAOfsKZWB2ZUAUEAO7ujhnQF0IW\\u002fzGr2ZAQQBks8\\u002fSZkAlHdWDs79mQHmgHCJ3tmZAonsz\\u002fPoIZ0AYGMrsMxpnQA\\u002fLAo44XGdA5qR6ivpoZ0C8eGi2n7pnQLBk66ABnGdAvMELLESWZ0As+C6zZc5nQJZdBugH9GdAFGJEfuPKZ0B00Z00AIZnQKN6RKrK22dA0PzDKDKfZ0DibQ1r38NnQJ8jHTqP2WdAByb6gR8IaEDJS+PqnT9oQJUKo+XaV2hANiX9qxphaEA2kNpX7z9oQGmrrsaxh2hAGxCh0wogaEDqvEepnNVpQBluraepwGpAkhFyLkekakCSeKAN+JRqQNLUJHKOG2tAaLU\\u002fQdSmakC5VDus7TVqQPtNaEbG4GlATokcjmEOakDk6zZlVFlqQCGna08Rv2pAA+e17YLhakDSSZBfJWxqQLiLYm6h7WpAPqGDCGtoa0BQbSOSCp1rQD54KciJSmxA20Ka9FNlbEBeAj97BZFsQHXpe22t02xA7nYT9OaEbEBgFZcMA3ZtQIqFlW\\u002fPRm1AUxHpG86VbEAYgsa8RrBsQHgSQkEkAmxAf6XNrvxHbEBQs9YvyvNrQOODVm3952tA44p7\\u002fEpGa0D3GMox9T5rQCuttd92B2tA+BhWzJVOa0AVe9sPWJZrQH8miBTK82tAznCTO09Na0DTePc2is1oQNAkdzWYk2lAc52gQJ\\u002fGaUDDiOlcrYxqQAVrADp3bGpAXrjrYw7zakC1kpvI7VBrQKnHPHC9gmtAOamiqGoDbECKF5NRtO1rQAgL6o4tJ2xAv4TyT8YobEBBbEq3uEBsQIT7dLpFaWxABK5qGkMlbEBrnkpuYkhsQMrmTCUeMGxAKkckRmxtbEDeUkXMB7NsQPVBdlfntWxAQ\\u002fnH44mBbEBz0JINi6VrQLUIMr6VpGtA2oI1kanua0BPIXveuIprQF\\u002fgcUgOTmtAZqqlNiifa0CcZIYbXcBrQCG+JTLZ4mtAokzcChACa0AbY7eV1uhqQFyJNt1PImtAGmsTjd4PbEDe\\u002fDwI4a5sQPBkPFnnWmxAI\\u002f8OWbuEbEDSb88H9A1sQNRcNnWgWWxAZuo\\u002fUqp+bEAqqvw\\u002fHbFsQGKFEtSCoGxAoQbRIpssbEBms+uIqBRsQOYhEdbIbGxAFqOSMjkAbEAERgpy1vlrQHGDMkmIF2xA2pvACvRobEDap3qEfJlsQG0DSAZUhmxAy0pXcRojbUC5dPO87OJsQMUVDBlbHW1Aq2l8hSl1bUB\\u002ffPuk7D1tQJLnujALLG1AXUHlRRwybUBYAjbdMq9sQFh4LwuJp2xA28hfENgZbUA9uRTB0RJtQPnzBFgsA21Ard1ba8OabEDoFcnmgo9rQMaki3kmkGtArkj3bgOqa0BNd5pa4MNrQPBWfuVfBGxAlM9UvHRdbEC3ZoWyFxhsQMH\\u002f9F61CWxAjTONfHL4a0BnLixquxhsQHLcaMfXRGxAwpj5axUgbEAqSETyYVdsQOfdG5XneWxAfTXVwh2UbECQONCo53lsQE5Ehe+V5mxAfEKoEFwibUAnaXLDzEZtQCz2IeyqUW1AflKQH02gbUBb8C3tffFtQK8BdOJNU25AVEXo8xp3bkDv8MA+lVRuQMby2KMPMm5AHLbpis3TbkAr+R9mAfZuQFujc6DN025AoiMFyofxbkDc0uLw9vZuQMsXM1fFOW9AqyWHBUJ8b0BhcGs6TeduQFYIvAeQ+G5AEKmYv6\\u002fPb0DhpLSBs+ZvQFOc3buAHnBA85pwzL8YcEBxPOjafn5vQGFVhVM1hW9AgCnY6wIVb0AAAACg92JuQEmSOXVVgW5AgWSREtJWbkD41Y8E8DRuQGJim3Hi921ApanHs8AobUCzXCjmv09tQHyodc87TG1A1ujm19uibUCjzRifrvtsQL00jaMg+GtAYyluGY5xa0DQXYcoyA9sQD96e2EPEWxAFvtZS8T4a0ARyutKFtNsQAtR06ScO21A7Q15SA3NbUAajlaTZN1uQBPipO+Yt2xAQ0jvbgNgbEAsJ5my7YhsQJsVMb0m4WxAu8LciAYLbUAAAACAPbJsQAAAAGBmhmxAAAAAYGbmbEAAAADAHp1tQAAAAAAAKG5AAAAAwMyEbkAAAADAHpVuQA==\"},\"x\":[\"2024-02-20T00:00:00.000000000\",\"2024-02-21T00:00:00.000000000\",\"2024-02-22T00:00:00.000000000\",\"2024-02-23T00:00:00.000000000\",\"2024-02-26T00:00:00.000000000\",\"2024-02-27T00:00:00.000000000\",\"2024-02-28T00:00:00.000000000\",\"2024-02-29T00:00:00.000000000\",\"2024-03-01T00:00:00.000000000\",\"2024-03-04T00:00:00.000000000\",\"2024-03-05T00:00:00.000000000\",\"2024-03-06T00:00:00.000000000\",\"2024-03-07T00:00:00.000000000\",\"2024-03-08T00:00:00.000000000\",\"2024-03-11T00:00:00.000000000\",\"2024-03-12T00:00:00.000000000\",\"2024-03-13T00:00:00.000000000\",\"2024-03-14T00:00:00.000000000\",\"2024-03-15T00:00:00.000000000\",\"2024-03-18T00:00:00.000000000\",\"2024-03-19T00:00:00.000000000\",\"2024-03-20T00:00:00.000000000\",\"2024-03-21T00:00:00.000000000\",\"2024-03-22T00:00:00.000000000\",\"2024-03-25T00:00:00.000000000\",\"2024-03-26T00:00:00.000000000\",\"2024-03-27T00:00:00.000000000\",\"2024-03-28T00:00:00.000000000\",\"2024-04-01T00:00:00.000000000\",\"2024-04-02T00:00:00.000000000\",\"2024-04-03T00:00:00.000000000\",\"2024-04-04T00:00:00.000000000\",\"2024-04-05T00:00:00.000000000\",\"2024-04-08T00:00:00.000000000\",\"2024-04-09T00:00:00.000000000\",\"2024-04-10T00:00:00.000000000\",\"2024-04-11T00:00:00.000000000\",\"2024-04-12T00:00:00.000000000\",\"2024-04-15T00:00:00.000000000\",\"2024-04-16T00:00:00.000000000\",\"2024-04-17T00:00:00.000000000\",\"2024-04-18T00:00:00.000000000\",\"2024-04-19T00:00:00.000000000\",\"2024-04-22T00:00:00.000000000\",\"2024-04-23T00:00:00.000000000\",\"2024-04-24T00:00:00.000000000\",\"2024-04-25T00:00:00.000000000\",\"2024-04-26T00:00:00.000000000\",\"2024-04-29T00:00:00.000000000\",\"2024-04-30T00:00:00.000000000\",\"2024-05-01T00:00:00.000000000\",\"2024-05-02T00:00:00.000000000\",\"2024-05-03T00:00:00.000000000\",\"2024-05-06T00:00:00.000000000\",\"2024-05-07T00:00:00.000000000\",\"2024-05-08T00:00:00.000000000\",\"2024-05-09T00:00:00.000000000\",\"2024-05-10T00:00:00.000000000\",\"2024-05-13T00:00:00.000000000\",\"2024-05-14T00:00:00.000000000\",\"2024-05-15T00:00:00.000000000\",\"2024-05-16T00:00:00.000000000\",\"2024-05-17T00:00:00.000000000\",\"2024-05-20T00:00:00.000000000\",\"2024-05-21T00:00:00.000000000\",\"2024-05-22T00:00:00.000000000\",\"2024-05-23T00:00:00.000000000\",\"2024-05-24T00:00:00.000000000\",\"2024-05-28T00:00:00.000000000\",\"2024-05-29T00:00:00.000000000\",\"2024-05-30T00:00:00.000000000\",\"2024-05-31T00:00:00.000000000\",\"2024-06-03T00:00:00.000000000\",\"2024-06-04T00:00:00.000000000\",\"2024-06-05T00:00:00.000000000\",\"2024-06-06T00:00:00.000000000\",\"2024-06-07T00:00:00.000000000\",\"2024-06-10T00:00:00.000000000\",\"2024-06-11T00:00:00.000000000\",\"2024-06-12T00:00:00.000000000\",\"2024-06-13T00:00:00.000000000\",\"2024-06-14T00:00:00.000000000\",\"2024-06-17T00:00:00.000000000\",\"2024-06-18T00:00:00.000000000\",\"2024-06-20T00:00:00.000000000\",\"2024-06-21T00:00:00.000000000\",\"2024-06-24T00:00:00.000000000\",\"2024-06-25T00:00:00.000000000\",\"2024-06-26T00:00:00.000000000\",\"2024-06-27T00:00:00.000000000\",\"2024-06-28T00:00:00.000000000\",\"2024-07-01T00:00:00.000000000\",\"2024-07-02T00:00:00.000000000\",\"2024-07-03T00:00:00.000000000\",\"2024-07-05T00:00:00.000000000\",\"2024-07-08T00:00:00.000000000\",\"2024-07-09T00:00:00.000000000\",\"2024-07-10T00:00:00.000000000\",\"2024-07-11T00:00:00.000000000\",\"2024-07-12T00:00:00.000000000\",\"2024-07-15T00:00:00.000000000\",\"2024-07-16T00:00:00.000000000\",\"2024-07-17T00:00:00.000000000\",\"2024-07-18T00:00:00.000000000\",\"2024-07-19T00:00:00.000000000\",\"2024-07-22T00:00:00.000000000\",\"2024-07-23T00:00:00.000000000\",\"2024-07-24T00:00:00.000000000\",\"2024-07-25T00:00:00.000000000\",\"2024-07-26T00:00:00.000000000\",\"2024-07-29T00:00:00.000000000\",\"2024-07-30T00:00:00.000000000\",\"2024-07-31T00:00:00.000000000\",\"2024-08-01T00:00:00.000000000\",\"2024-08-02T00:00:00.000000000\",\"2024-08-05T00:00:00.000000000\",\"2024-08-06T00:00:00.000000000\",\"2024-08-07T00:00:00.000000000\",\"2024-08-08T00:00:00.000000000\",\"2024-08-09T00:00:00.000000000\",\"2024-08-12T00:00:00.000000000\",\"2024-08-13T00:00:00.000000000\",\"2024-08-14T00:00:00.000000000\",\"2024-08-15T00:00:00.000000000\",\"2024-08-16T00:00:00.000000000\",\"2024-08-19T00:00:00.000000000\",\"2024-08-20T00:00:00.000000000\",\"2024-08-21T00:00:00.000000000\",\"2024-08-22T00:00:00.000000000\",\"2024-08-23T00:00:00.000000000\",\"2024-08-26T00:00:00.000000000\",\"2024-08-27T00:00:00.000000000\",\"2024-08-28T00:00:00.000000000\",\"2024-08-29T00:00:00.000000000\",\"2024-08-30T00:00:00.000000000\",\"2024-09-03T00:00:00.000000000\",\"2024-09-04T00:00:00.000000000\",\"2024-09-05T00:00:00.000000000\",\"2024-09-06T00:00:00.000000000\",\"2024-09-09T00:00:00.000000000\",\"2024-09-10T00:00:00.000000000\",\"2024-09-11T00:00:00.000000000\",\"2024-09-12T00:00:00.000000000\",\"2024-09-13T00:00:00.000000000\",\"2024-09-16T00:00:00.000000000\",\"2024-09-17T00:00:00.000000000\",\"2024-09-18T00:00:00.000000000\",\"2024-09-19T00:00:00.000000000\",\"2024-09-20T00:00:00.000000000\",\"2024-09-23T00:00:00.000000000\",\"2024-09-24T00:00:00.000000000\",\"2024-09-25T00:00:00.000000000\",\"2024-09-26T00:00:00.000000000\",\"2024-09-27T00:00:00.000000000\",\"2024-09-30T00:00:00.000000000\",\"2024-10-01T00:00:00.000000000\",\"2024-10-02T00:00:00.000000000\",\"2024-10-03T00:00:00.000000000\",\"2024-10-04T00:00:00.000000000\",\"2024-10-07T00:00:00.000000000\",\"2024-10-08T00:00:00.000000000\",\"2024-10-09T00:00:00.000000000\",\"2024-10-10T00:00:00.000000000\",\"2024-10-11T00:00:00.000000000\",\"2024-10-14T00:00:00.000000000\",\"2024-10-15T00:00:00.000000000\",\"2024-10-16T00:00:00.000000000\",\"2024-10-17T00:00:00.000000000\",\"2024-10-18T00:00:00.000000000\",\"2024-10-21T00:00:00.000000000\",\"2024-10-22T00:00:00.000000000\",\"2024-10-23T00:00:00.000000000\",\"2024-10-24T00:00:00.000000000\",\"2024-10-25T00:00:00.000000000\",\"2024-10-28T00:00:00.000000000\",\"2024-10-29T00:00:00.000000000\",\"2024-10-30T00:00:00.000000000\",\"2024-10-31T00:00:00.000000000\",\"2024-11-01T00:00:00.000000000\",\"2024-11-04T00:00:00.000000000\",\"2024-11-05T00:00:00.000000000\",\"2024-11-06T00:00:00.000000000\",\"2024-11-07T00:00:00.000000000\",\"2024-11-08T00:00:00.000000000\",\"2024-11-11T00:00:00.000000000\",\"2024-11-12T00:00:00.000000000\",\"2024-11-13T00:00:00.000000000\",\"2024-11-14T00:00:00.000000000\",\"2024-11-15T00:00:00.000000000\",\"2024-11-18T00:00:00.000000000\",\"2024-11-19T00:00:00.000000000\",\"2024-11-20T00:00:00.000000000\",\"2024-11-21T00:00:00.000000000\",\"2024-11-22T00:00:00.000000000\",\"2024-11-25T00:00:00.000000000\",\"2024-11-26T00:00:00.000000000\",\"2024-11-27T00:00:00.000000000\",\"2024-11-29T00:00:00.000000000\",\"2024-12-02T00:00:00.000000000\",\"2024-12-03T00:00:00.000000000\",\"2024-12-04T00:00:00.000000000\",\"2024-12-05T00:00:00.000000000\",\"2024-12-06T00:00:00.000000000\",\"2024-12-09T00:00:00.000000000\",\"2024-12-10T00:00:00.000000000\",\"2024-12-11T00:00:00.000000000\",\"2024-12-12T00:00:00.000000000\",\"2024-12-13T00:00:00.000000000\",\"2024-12-16T00:00:00.000000000\",\"2024-12-17T00:00:00.000000000\",\"2024-12-18T00:00:00.000000000\",\"2024-12-19T00:00:00.000000000\",\"2024-12-20T00:00:00.000000000\",\"2024-12-23T00:00:00.000000000\",\"2024-12-24T00:00:00.000000000\",\"2024-12-26T00:00:00.000000000\",\"2024-12-27T00:00:00.000000000\",\"2024-12-30T00:00:00.000000000\",\"2024-12-31T00:00:00.000000000\",\"2025-01-02T00:00:00.000000000\",\"2025-01-03T00:00:00.000000000\",\"2025-01-06T00:00:00.000000000\",\"2025-01-07T00:00:00.000000000\",\"2025-01-08T00:00:00.000000000\",\"2025-01-10T00:00:00.000000000\",\"2025-01-13T00:00:00.000000000\",\"2025-01-14T00:00:00.000000000\",\"2025-01-15T00:00:00.000000000\",\"2025-01-16T00:00:00.000000000\",\"2025-01-17T00:00:00.000000000\",\"2025-01-21T00:00:00.000000000\",\"2025-01-22T00:00:00.000000000\",\"2025-01-23T00:00:00.000000000\",\"2025-01-24T00:00:00.000000000\",\"2025-01-27T00:00:00.000000000\",\"2025-01-28T00:00:00.000000000\",\"2025-01-29T00:00:00.000000000\",\"2025-01-30T00:00:00.000000000\",\"2025-01-31T00:00:00.000000000\",\"2025-02-03T00:00:00.000000000\",\"2025-02-04T00:00:00.000000000\",\"2025-02-05T00:00:00.000000000\",\"2025-02-06T00:00:00.000000000\",\"2025-02-07T00:00:00.000000000\",\"2025-02-10T00:00:00.000000000\",\"2025-02-11T00:00:00.000000000\",\"2025-02-12T00:00:00.000000000\",\"2025-02-13T00:00:00.000000000\",\"2025-02-14T00:00:00.000000000\",\"2025-02-18T00:00:00.000000000\",\"2025-02-19T00:00:00.000000000\"],\"type\":\"candlestick\"},{\"name\":\"SMA10\",\"x\":[\"2024-02-20T00:00:00.000000000\",\"2024-02-21T00:00:00.000000000\",\"2024-02-22T00:00:00.000000000\",\"2024-02-23T00:00:00.000000000\",\"2024-02-26T00:00:00.000000000\",\"2024-02-27T00:00:00.000000000\",\"2024-02-28T00:00:00.000000000\",\"2024-02-29T00:00:00.000000000\",\"2024-03-01T00:00:00.000000000\",\"2024-03-04T00:00:00.000000000\",\"2024-03-05T00:00:00.000000000\",\"2024-03-06T00:00:00.000000000\",\"2024-03-07T00:00:00.000000000\",\"2024-03-08T00:00:00.000000000\",\"2024-03-11T00:00:00.000000000\",\"2024-03-12T00:00:00.000000000\",\"2024-03-13T00:00:00.000000000\",\"2024-03-14T00:00:00.000000000\",\"2024-03-15T00:00:00.000000000\",\"2024-03-18T00:00:00.000000000\",\"2024-03-19T00:00:00.000000000\",\"2024-03-20T00:00:00.000000000\",\"2024-03-21T00:00:00.000000000\",\"2024-03-22T00:00:00.000000000\",\"2024-03-25T00:00:00.000000000\",\"2024-03-26T00:00:00.000000000\",\"2024-03-27T00:00:00.000000000\",\"2024-03-28T00:00:00.000000000\",\"2024-04-01T00:00:00.000000000\",\"2024-04-02T00:00:00.000000000\",\"2024-04-03T00:00:00.000000000\",\"2024-04-04T00:00:00.000000000\",\"2024-04-05T00:00:00.000000000\",\"2024-04-08T00:00:00.000000000\",\"2024-04-09T00:00:00.000000000\",\"2024-04-10T00:00:00.000000000\",\"2024-04-11T00:00:00.000000000\",\"2024-04-12T00:00:00.000000000\",\"2024-04-15T00:00:00.000000000\",\"2024-04-16T00:00:00.000000000\",\"2024-04-17T00:00:00.000000000\",\"2024-04-18T00:00:00.000000000\",\"2024-04-19T00:00:00.000000000\",\"2024-04-22T00:00:00.000000000\",\"2024-04-23T00:00:00.000000000\",\"2024-04-24T00:00:00.000000000\",\"2024-04-25T00:00:00.000000000\",\"2024-04-26T00:00:00.000000000\",\"2024-04-29T00:00:00.000000000\",\"2024-04-30T00:00:00.000000000\",\"2024-05-01T00:00:00.000000000\",\"2024-05-02T00:00:00.000000000\",\"2024-05-03T00:00:00.000000000\",\"2024-05-06T00:00:00.000000000\",\"2024-05-07T00:00:00.000000000\",\"2024-05-08T00:00:00.000000000\",\"2024-05-09T00:00:00.000000000\",\"2024-05-10T00:00:00.000000000\",\"2024-05-13T00:00:00.000000000\",\"2024-05-14T00:00:00.000000000\",\"2024-05-15T00:00:00.000000000\",\"2024-05-16T00:00:00.000000000\",\"2024-05-17T00:00:00.000000000\",\"2024-05-20T00:00:00.000000000\",\"2024-05-21T00:00:00.000000000\",\"2024-05-22T00:00:00.000000000\",\"2024-05-23T00:00:00.000000000\",\"2024-05-24T00:00:00.000000000\",\"2024-05-28T00:00:00.000000000\",\"2024-05-29T00:00:00.000000000\",\"2024-05-30T00:00:00.000000000\",\"2024-05-31T00:00:00.000000000\",\"2024-06-03T00:00:00.000000000\",\"2024-06-04T00:00:00.000000000\",\"2024-06-05T00:00:00.000000000\",\"2024-06-06T00:00:00.000000000\",\"2024-06-07T00:00:00.000000000\",\"2024-06-10T00:00:00.000000000\",\"2024-06-11T00:00:00.000000000\",\"2024-06-12T00:00:00.000000000\",\"2024-06-13T00:00:00.000000000\",\"2024-06-14T00:00:00.000000000\",\"2024-06-17T00:00:00.000000000\",\"2024-06-18T00:00:00.000000000\",\"2024-06-20T00:00:00.000000000\",\"2024-06-21T00:00:00.000000000\",\"2024-06-24T00:00:00.000000000\",\"2024-06-25T00:00:00.000000000\",\"2024-06-26T00:00:00.000000000\",\"2024-06-27T00:00:00.000000000\",\"2024-06-28T00:00:00.000000000\",\"2024-07-01T00:00:00.000000000\",\"2024-07-02T00:00:00.000000000\",\"2024-07-03T00:00:00.000000000\",\"2024-07-05T00:00:00.000000000\",\"2024-07-08T00:00:00.000000000\",\"2024-07-09T00:00:00.000000000\",\"2024-07-10T00:00:00.000000000\",\"2024-07-11T00:00:00.000000000\",\"2024-07-12T00:00:00.000000000\",\"2024-07-15T00:00:00.000000000\",\"2024-07-16T00:00:00.000000000\",\"2024-07-17T00:00:00.000000000\",\"2024-07-18T00:00:00.000000000\",\"2024-07-19T00:00:00.000000000\",\"2024-07-22T00:00:00.000000000\",\"2024-07-23T00:00:00.000000000\",\"2024-07-24T00:00:00.000000000\",\"2024-07-25T00:00:00.000000000\",\"2024-07-26T00:00:00.000000000\",\"2024-07-29T00:00:00.000000000\",\"2024-07-30T00:00:00.000000000\",\"2024-07-31T00:00:00.000000000\",\"2024-08-01T00:00:00.000000000\",\"2024-08-02T00:00:00.000000000\",\"2024-08-05T00:00:00.000000000\",\"2024-08-06T00:00:00.000000000\",\"2024-08-07T00:00:00.000000000\",\"2024-08-08T00:00:00.000000000\",\"2024-08-09T00:00:00.000000000\",\"2024-08-12T00:00:00.000000000\",\"2024-08-13T00:00:00.000000000\",\"2024-08-14T00:00:00.000000000\",\"2024-08-15T00:00:00.000000000\",\"2024-08-16T00:00:00.000000000\",\"2024-08-19T00:00:00.000000000\",\"2024-08-20T00:00:00.000000000\",\"2024-08-21T00:00:00.000000000\",\"2024-08-22T00:00:00.000000000\",\"2024-08-23T00:00:00.000000000\",\"2024-08-26T00:00:00.000000000\",\"2024-08-27T00:00:00.000000000\",\"2024-08-28T00:00:00.000000000\",\"2024-08-29T00:00:00.000000000\",\"2024-08-30T00:00:00.000000000\",\"2024-09-03T00:00:00.000000000\",\"2024-09-04T00:00:00.000000000\",\"2024-09-05T00:00:00.000000000\",\"2024-09-06T00:00:00.000000000\",\"2024-09-09T00:00:00.000000000\",\"2024-09-10T00:00:00.000000000\",\"2024-09-11T00:00:00.000000000\",\"2024-09-12T00:00:00.000000000\",\"2024-09-13T00:00:00.000000000\",\"2024-09-16T00:00:00.000000000\",\"2024-09-17T00:00:00.000000000\",\"2024-09-18T00:00:00.000000000\",\"2024-09-19T00:00:00.000000000\",\"2024-09-20T00:00:00.000000000\",\"2024-09-23T00:00:00.000000000\",\"2024-09-24T00:00:00.000000000\",\"2024-09-25T00:00:00.000000000\",\"2024-09-26T00:00:00.000000000\",\"2024-09-27T00:00:00.000000000\",\"2024-09-30T00:00:00.000000000\",\"2024-10-01T00:00:00.000000000\",\"2024-10-02T00:00:00.000000000\",\"2024-10-03T00:00:00.000000000\",\"2024-10-04T00:00:00.000000000\",\"2024-10-07T00:00:00.000000000\",\"2024-10-08T00:00:00.000000000\",\"2024-10-09T00:00:00.000000000\",\"2024-10-10T00:00:00.000000000\",\"2024-10-11T00:00:00.000000000\",\"2024-10-14T00:00:00.000000000\",\"2024-10-15T00:00:00.000000000\",\"2024-10-16T00:00:00.000000000\",\"2024-10-17T00:00:00.000000000\",\"2024-10-18T00:00:00.000000000\",\"2024-10-21T00:00:00.000000000\",\"2024-10-22T00:00:00.000000000\",\"2024-10-23T00:00:00.000000000\",\"2024-10-24T00:00:00.000000000\",\"2024-10-25T00:00:00.000000000\",\"2024-10-28T00:00:00.000000000\",\"2024-10-29T00:00:00.000000000\",\"2024-10-30T00:00:00.000000000\",\"2024-10-31T00:00:00.000000000\",\"2024-11-01T00:00:00.000000000\",\"2024-11-04T00:00:00.000000000\",\"2024-11-05T00:00:00.000000000\",\"2024-11-06T00:00:00.000000000\",\"2024-11-07T00:00:00.000000000\",\"2024-11-08T00:00:00.000000000\",\"2024-11-11T00:00:00.000000000\",\"2024-11-12T00:00:00.000000000\",\"2024-11-13T00:00:00.000000000\",\"2024-11-14T00:00:00.000000000\",\"2024-11-15T00:00:00.000000000\",\"2024-11-18T00:00:00.000000000\",\"2024-11-19T00:00:00.000000000\",\"2024-11-20T00:00:00.000000000\",\"2024-11-21T00:00:00.000000000\",\"2024-11-22T00:00:00.000000000\",\"2024-11-25T00:00:00.000000000\",\"2024-11-26T00:00:00.000000000\",\"2024-11-27T00:00:00.000000000\",\"2024-11-29T00:00:00.000000000\",\"2024-12-02T00:00:00.000000000\",\"2024-12-03T00:00:00.000000000\",\"2024-12-04T00:00:00.000000000\",\"2024-12-05T00:00:00.000000000\",\"2024-12-06T00:00:00.000000000\",\"2024-12-09T00:00:00.000000000\",\"2024-12-10T00:00:00.000000000\",\"2024-12-11T00:00:00.000000000\",\"2024-12-12T00:00:00.000000000\",\"2024-12-13T00:00:00.000000000\",\"2024-12-16T00:00:00.000000000\",\"2024-12-17T00:00:00.000000000\",\"2024-12-18T00:00:00.000000000\",\"2024-12-19T00:00:00.000000000\",\"2024-12-20T00:00:00.000000000\",\"2024-12-23T00:00:00.000000000\",\"2024-12-24T00:00:00.000000000\",\"2024-12-26T00:00:00.000000000\",\"2024-12-27T00:00:00.000000000\",\"2024-12-30T00:00:00.000000000\",\"2024-12-31T00:00:00.000000000\",\"2025-01-02T00:00:00.000000000\",\"2025-01-03T00:00:00.000000000\",\"2025-01-06T00:00:00.000000000\",\"2025-01-07T00:00:00.000000000\",\"2025-01-08T00:00:00.000000000\",\"2025-01-10T00:00:00.000000000\",\"2025-01-13T00:00:00.000000000\",\"2025-01-14T00:00:00.000000000\",\"2025-01-15T00:00:00.000000000\",\"2025-01-16T00:00:00.000000000\",\"2025-01-17T00:00:00.000000000\",\"2025-01-21T00:00:00.000000000\",\"2025-01-22T00:00:00.000000000\",\"2025-01-23T00:00:00.000000000\",\"2025-01-24T00:00:00.000000000\",\"2025-01-27T00:00:00.000000000\",\"2025-01-28T00:00:00.000000000\",\"2025-01-29T00:00:00.000000000\",\"2025-01-30T00:00:00.000000000\",\"2025-01-31T00:00:00.000000000\",\"2025-02-03T00:00:00.000000000\",\"2025-02-04T00:00:00.000000000\",\"2025-02-05T00:00:00.000000000\",\"2025-02-06T00:00:00.000000000\",\"2025-02-07T00:00:00.000000000\",\"2025-02-10T00:00:00.000000000\",\"2025-02-11T00:00:00.000000000\",\"2025-02-12T00:00:00.000000000\",\"2025-02-13T00:00:00.000000000\",\"2025-02-14T00:00:00.000000000\",\"2025-02-18T00:00:00.000000000\",\"2025-02-19T00:00:00.000000000\"],\"y\":{\"dtype\":\"f8\",\"bdata\":\"AAAAAAAA+H8AAAAAAAD4fwAAAAAAAPh\\u002fAAAAAAAA+H8AAAAAAAD4fwAAAAAAAPh\\u002fAAAAAAAA+H8AAAAAAAD4fwAAAAAAAPh\\u002fzczMfIaJZkBmZmbmFmVmQAAAAEAMO2ZAAAAAUBgKZkBmZmZWi+RlQAAAAEDCyWVAMzMz89GrZUAAAAAADItlQJqZmQldcmVAMzMz8\\u002fBbZUAAAADAi1dlQM3MzDyHamVAZmZm1vGIZUBmZmY2fpBlQDMzMwNulWVAmpmZ2WCPZUBmZmbWKoRlQJqZmUkci2VAAAAA8ESGZUAzMzMzBX5lQJqZmUl6bmVAMzMzk\\u002f9ZZUAzMzNjoDplQAAAAPDsNGVAZmZmJrooZUCamZkJ+CRlQGZmZmbSHmVAMzMz81QkZUCamZnJejRlQM3MzJzzPGVAmpmZ6as+ZUBmZmaWajllQAAAAEC\\u002fM2VAzczM7CglZUDNzMzc2BxlQDMzM1MGFGVAAAAAYPkXZUAzMzNTkgdlQJqZmQl78GRAmpmZeQ\\u002fzZEDNzMwMFvZkQDMzMwM6+mRAmpmZ+U0NZUDNzMwc2EdlQJqZmbljemVAmpmZqcGrZUAAAABAdNdlQM3MzJw1BmZAzczMHMsyZkCamZlJTVxmQM3MzAyTk2ZAMzMzU27VZkDNzMxMygtnQGZmZuZHIWdAAAAAYNI\\u002fZ0BmZmbWV2BnQGZmZjYoe2dAMzMzU1KDZ0DNzMxcbJlnQJqZmWlBpWdAmpmZeWCuZ0DNzMxMYrNnQDMzM\\u002fMRu2dAmpmZaVbIZ0AzMzPj5NJnQM3MzMwe3mdAZmZmtonpZ0DNzMxsdgloQJqZmRl6E2hAmpmZeTRKaECamZlZ25JoQGZmZgYN3GhAzczMHJocaUDNzMyszmRpQJqZmclmpGlAzczMDHLQaUBmZmYm8PlpQJqZmUnRHWpAMzMzw69QakCamZkpJGRqQM3MzBxtZ2pAMzMzg+FbakCamZmZd2lqQGZmZtbydGpAAAAAUBqMakBmZmZ2PMFqQDMzMwMTAmtAMzMzA5VDa0BmZmZ21o9rQM3MzByCvWtAMzMzo\\u002fDxa0CamZn5xz1sQGZmZlZpd2xAZmZmBt+SbEDNzMxMQptsQDMzM+PIlGxAAAAAYHmIbEDNzMz8xHxsQAAAAGC3TmxAAAAAgJEubEAAAACAcgZsQDMzM5Po0mtAMzMz89Cfa0DNzMwMIYprQGZmZkaRd2tAAAAAEGBpa0AzMzNThjprQAAAAMDRAWtAAAAAQALmakBmZmZ2rdhqQJqZmSkx02pAzczMDLvRakDNzMzMbNpqQJqZmWkY2mpAMzMzczXvakAAAADwyANrQGZmZuafOWtAmpmZOfN3a0AzMzMDqq1rQGZmZtZG0mtAAAAAoOv0a0CamZmJuxNsQJqZmSlRKWxAmpmZKYw4bEAzMzNjvEhsQGZmZrYnUmxAmpmZaTFIbEDNzMzsHjZsQJqZmflIKWxAzczMbHAdbEDNzMw8gQpsQJqZmTnu82tAmpmZycjia0DNzMwM6NZrQDMzMzOhv2tAAAAAkCSXa0AAAACADIRrQGZmZraJg2tAZmZmpkKYa0DNzMwM069rQM3MzMyTwWtAAAAAIMLYa0AAAACwmuRrQJqZmVnF82tAMzMzY6kEbEAzMzOj6zlsQDMzM5P\\u002fV2xAzczMjHFrbEDNzMzcOWFsQDMzM4PBXGxAZmZmVn5NbEAAAACAYkhsQJqZmamBUmxAzczMHFxXbEAzMzPzl1ZsQM3MzFwqUWxAzczMTI9pbEDNzMxMhnlsQAAAABA3jmxAzczMvGWobECamZkZn9dsQM3MzKzW92xAZmZm5rv7bECamZmJngBtQDMzM7PxDG1AzczMPKYTbUCamZkZExNtQM3MzNy1DW1AmpmZScn5bECamZnpLtNsQM3MzBz7pGxAmpmZKVt9bEAzMzNDr2NsQJqZmXnRWWxAZmZmJmhMbEDNzMw86i9sQAAAAKCPEmxAzczMbHMDbEDNzMzcoAtsQDMzM5MXE2xAmpmZORUnbEAAAACQTjdsQGZmZsYpTGxAMzMzY0lQbEAzMzOjlllsQAAAAMA0dWxAAAAA8NKXbEBmZmZ2LrdsQM3MzCxN1GxAzczMLPACbUBmZmbmszFtQGZmZnbJYG1AZmZmZqqNbUAzMzNzcLttQM3MzFxl8W1AmpmZCQYhbkBmZmY2j0VuQM3MzKw1b25AAAAAULuRbkCamZnZVLZuQJqZmQnz2G5AZmZmRg\\u002fpbkDNzMzMov5uQDMzMwPgI29AAAAA8Bs\\u002fb0AzMzPTcmBvQM3MzByAiG9AzczMvOOgb0CamZk55q1vQDMzM+Pqq29AzczMrCKNb0CamZnZJH5vQDMzMzPVbm9AmpmZeZRHb0DNzMxsZh9vQDMzM7Mn225AmpmZKXWMbkAAAADgJEVuQAAAAKBWF25AZmZmFoHQbUAAAABAK6RtQAAAABDwYW1AMzMzo0QebUCamZkp+eJsQAAAAKBMo2xAMzMzs\\u002fSMbEBmZmZWS5lsQM3MzJy6rGxAzczMfNWrbEAzMzMjk8RsQGZmZhZHvmxAZmZmBsHebEBmZmYmX\\u002fpsQJqZmRnuGG1AzczM3G4obUDNzMw8KyJtQAAAAFD1EG1AmpmZ2dQJbUAzMzNDRhdtQGZmZrafM21AMzMz4xhpbUAzMzMTipBtQA==\"},\"type\":\"scatter\"},{\"name\":\"SMA20\",\"x\":[\"2024-02-20T00:00:00.000000000\",\"2024-02-21T00:00:00.000000000\",\"2024-02-22T00:00:00.000000000\",\"2024-02-23T00:00:00.000000000\",\"2024-02-26T00:00:00.000000000\",\"2024-02-27T00:00:00.000000000\",\"2024-02-28T00:00:00.000000000\",\"2024-02-29T00:00:00.000000000\",\"2024-03-01T00:00:00.000000000\",\"2024-03-04T00:00:00.000000000\",\"2024-03-05T00:00:00.000000000\",\"2024-03-06T00:00:00.000000000\",\"2024-03-07T00:00:00.000000000\",\"2024-03-08T00:00:00.000000000\",\"2024-03-11T00:00:00.000000000\",\"2024-03-12T00:00:00.000000000\",\"2024-03-13T00:00:00.000000000\",\"2024-03-14T00:00:00.000000000\",\"2024-03-15T00:00:00.000000000\",\"2024-03-18T00:00:00.000000000\",\"2024-03-19T00:00:00.000000000\",\"2024-03-20T00:00:00.000000000\",\"2024-03-21T00:00:00.000000000\",\"2024-03-22T00:00:00.000000000\",\"2024-03-25T00:00:00.000000000\",\"2024-03-26T00:00:00.000000000\",\"2024-03-27T00:00:00.000000000\",\"2024-03-28T00:00:00.000000000\",\"2024-04-01T00:00:00.000000000\",\"2024-04-02T00:00:00.000000000\",\"2024-04-03T00:00:00.000000000\",\"2024-04-04T00:00:00.000000000\",\"2024-04-05T00:00:00.000000000\",\"2024-04-08T00:00:00.000000000\",\"2024-04-09T00:00:00.000000000\",\"2024-04-10T00:00:00.000000000\",\"2024-04-11T00:00:00.000000000\",\"2024-04-12T00:00:00.000000000\",\"2024-04-15T00:00:00.000000000\",\"2024-04-16T00:00:00.000000000\",\"2024-04-17T00:00:00.000000000\",\"2024-04-18T00:00:00.000000000\",\"2024-04-19T00:00:00.000000000\",\"2024-04-22T00:00:00.000000000\",\"2024-04-23T00:00:00.000000000\",\"2024-04-24T00:00:00.000000000\",\"2024-04-25T00:00:00.000000000\",\"2024-04-26T00:00:00.000000000\",\"2024-04-29T00:00:00.000000000\",\"2024-04-30T00:00:00.000000000\",\"2024-05-01T00:00:00.000000000\",\"2024-05-02T00:00:00.000000000\",\"2024-05-03T00:00:00.000000000\",\"2024-05-06T00:00:00.000000000\",\"2024-05-07T00:00:00.000000000\",\"2024-05-08T00:00:00.000000000\",\"2024-05-09T00:00:00.000000000\",\"2024-05-10T00:00:00.000000000\",\"2024-05-13T00:00:00.000000000\",\"2024-05-14T00:00:00.000000000\",\"2024-05-15T00:00:00.000000000\",\"2024-05-16T00:00:00.000000000\",\"2024-05-17T00:00:00.000000000\",\"2024-05-20T00:00:00.000000000\",\"2024-05-21T00:00:00.000000000\",\"2024-05-22T00:00:00.000000000\",\"2024-05-23T00:00:00.000000000\",\"2024-05-24T00:00:00.000000000\",\"2024-05-28T00:00:00.000000000\",\"2024-05-29T00:00:00.000000000\",\"2024-05-30T00:00:00.000000000\",\"2024-05-31T00:00:00.000000000\",\"2024-06-03T00:00:00.000000000\",\"2024-06-04T00:00:00.000000000\",\"2024-06-05T00:00:00.000000000\",\"2024-06-06T00:00:00.000000000\",\"2024-06-07T00:00:00.000000000\",\"2024-06-10T00:00:00.000000000\",\"2024-06-11T00:00:00.000000000\",\"2024-06-12T00:00:00.000000000\",\"2024-06-13T00:00:00.000000000\",\"2024-06-14T00:00:00.000000000\",\"2024-06-17T00:00:00.000000000\",\"2024-06-18T00:00:00.000000000\",\"2024-06-20T00:00:00.000000000\",\"2024-06-21T00:00:00.000000000\",\"2024-06-24T00:00:00.000000000\",\"2024-06-25T00:00:00.000000000\",\"2024-06-26T00:00:00.000000000\",\"2024-06-27T00:00:00.000000000\",\"2024-06-28T00:00:00.000000000\",\"2024-07-01T00:00:00.000000000\",\"2024-07-02T00:00:00.000000000\",\"2024-07-03T00:00:00.000000000\",\"2024-07-05T00:00:00.000000000\",\"2024-07-08T00:00:00.000000000\",\"2024-07-09T00:00:00.000000000\",\"2024-07-10T00:00:00.000000000\",\"2024-07-11T00:00:00.000000000\",\"2024-07-12T00:00:00.000000000\",\"2024-07-15T00:00:00.000000000\",\"2024-07-16T00:00:00.000000000\",\"2024-07-17T00:00:00.000000000\",\"2024-07-18T00:00:00.000000000\",\"2024-07-19T00:00:00.000000000\",\"2024-07-22T00:00:00.000000000\",\"2024-07-23T00:00:00.000000000\",\"2024-07-24T00:00:00.000000000\",\"2024-07-25T00:00:00.000000000\",\"2024-07-26T00:00:00.000000000\",\"2024-07-29T00:00:00.000000000\",\"2024-07-30T00:00:00.000000000\",\"2024-07-31T00:00:00.000000000\",\"2024-08-01T00:00:00.000000000\",\"2024-08-02T00:00:00.000000000\",\"2024-08-05T00:00:00.000000000\",\"2024-08-06T00:00:00.000000000\",\"2024-08-07T00:00:00.000000000\",\"2024-08-08T00:00:00.000000000\",\"2024-08-09T00:00:00.000000000\",\"2024-08-12T00:00:00.000000000\",\"2024-08-13T00:00:00.000000000\",\"2024-08-14T00:00:00.000000000\",\"2024-08-15T00:00:00.000000000\",\"2024-08-16T00:00:00.000000000\",\"2024-08-19T00:00:00.000000000\",\"2024-08-20T00:00:00.000000000\",\"2024-08-21T00:00:00.000000000\",\"2024-08-22T00:00:00.000000000\",\"2024-08-23T00:00:00.000000000\",\"2024-08-26T00:00:00.000000000\",\"2024-08-27T00:00:00.000000000\",\"2024-08-28T00:00:00.000000000\",\"2024-08-29T00:00:00.000000000\",\"2024-08-30T00:00:00.000000000\",\"2024-09-03T00:00:00.000000000\",\"2024-09-04T00:00:00.000000000\",\"2024-09-05T00:00:00.000000000\",\"2024-09-06T00:00:00.000000000\",\"2024-09-09T00:00:00.000000000\",\"2024-09-10T00:00:00.000000000\",\"2024-09-11T00:00:00.000000000\",\"2024-09-12T00:00:00.000000000\",\"2024-09-13T00:00:00.000000000\",\"2024-09-16T00:00:00.000000000\",\"2024-09-17T00:00:00.000000000\",\"2024-09-18T00:00:00.000000000\",\"2024-09-19T00:00:00.000000000\",\"2024-09-20T00:00:00.000000000\",\"2024-09-23T00:00:00.000000000\",\"2024-09-24T00:00:00.000000000\",\"2024-09-25T00:00:00.000000000\",\"2024-09-26T00:00:00.000000000\",\"2024-09-27T00:00:00.000000000\",\"2024-09-30T00:00:00.000000000\",\"2024-10-01T00:00:00.000000000\",\"2024-10-02T00:00:00.000000000\",\"2024-10-03T00:00:00.000000000\",\"2024-10-04T00:00:00.000000000\",\"2024-10-07T00:00:00.000000000\",\"2024-10-08T00:00:00.000000000\",\"2024-10-09T00:00:00.000000000\",\"2024-10-10T00:00:00.000000000\",\"2024-10-11T00:00:00.000000000\",\"2024-10-14T00:00:00.000000000\",\"2024-10-15T00:00:00.000000000\",\"2024-10-16T00:00:00.000000000\",\"2024-10-17T00:00:00.000000000\",\"2024-10-18T00:00:00.000000000\",\"2024-10-21T00:00:00.000000000\",\"2024-10-22T00:00:00.000000000\",\"2024-10-23T00:00:00.000000000\",\"2024-10-24T00:00:00.000000000\",\"2024-10-25T00:00:00.000000000\",\"2024-10-28T00:00:00.000000000\",\"2024-10-29T00:00:00.000000000\",\"2024-10-30T00:00:00.000000000\",\"2024-10-31T00:00:00.000000000\",\"2024-11-01T00:00:00.000000000\",\"2024-11-04T00:00:00.000000000\",\"2024-11-05T00:00:00.000000000\",\"2024-11-06T00:00:00.000000000\",\"2024-11-07T00:00:00.000000000\",\"2024-11-08T00:00:00.000000000\",\"2024-11-11T00:00:00.000000000\",\"2024-11-12T00:00:00.000000000\",\"2024-11-13T00:00:00.000000000\",\"2024-11-14T00:00:00.000000000\",\"2024-11-15T00:00:00.000000000\",\"2024-11-18T00:00:00.000000000\",\"2024-11-19T00:00:00.000000000\",\"2024-11-20T00:00:00.000000000\",\"2024-11-21T00:00:00.000000000\",\"2024-11-22T00:00:00.000000000\",\"2024-11-25T00:00:00.000000000\",\"2024-11-26T00:00:00.000000000\",\"2024-11-27T00:00:00.000000000\",\"2024-11-29T00:00:00.000000000\",\"2024-12-02T00:00:00.000000000\",\"2024-12-03T00:00:00.000000000\",\"2024-12-04T00:00:00.000000000\",\"2024-12-05T00:00:00.000000000\",\"2024-12-06T00:00:00.000000000\",\"2024-12-09T00:00:00.000000000\",\"2024-12-10T00:00:00.000000000\",\"2024-12-11T00:00:00.000000000\",\"2024-12-12T00:00:00.000000000\",\"2024-12-13T00:00:00.000000000\",\"2024-12-16T00:00:00.000000000\",\"2024-12-17T00:00:00.000000000\",\"2024-12-18T00:00:00.000000000\",\"2024-12-19T00:00:00.000000000\",\"2024-12-20T00:00:00.000000000\",\"2024-12-23T00:00:00.000000000\",\"2024-12-24T00:00:00.000000000\",\"2024-12-26T00:00:00.000000000\",\"2024-12-27T00:00:00.000000000\",\"2024-12-30T00:00:00.000000000\",\"2024-12-31T00:00:00.000000000\",\"2025-01-02T00:00:00.000000000\",\"2025-01-03T00:00:00.000000000\",\"2025-01-06T00:00:00.000000000\",\"2025-01-07T00:00:00.000000000\",\"2025-01-08T00:00:00.000000000\",\"2025-01-10T00:00:00.000000000\",\"2025-01-13T00:00:00.000000000\",\"2025-01-14T00:00:00.000000000\",\"2025-01-15T00:00:00.000000000\",\"2025-01-16T00:00:00.000000000\",\"2025-01-17T00:00:00.000000000\",\"2025-01-21T00:00:00.000000000\",\"2025-01-22T00:00:00.000000000\",\"2025-01-23T00:00:00.000000000\",\"2025-01-24T00:00:00.000000000\",\"2025-01-27T00:00:00.000000000\",\"2025-01-28T00:00:00.000000000\",\"2025-01-29T00:00:00.000000000\",\"2025-01-30T00:00:00.000000000\",\"2025-01-31T00:00:00.000000000\",\"2025-02-03T00:00:00.000000000\",\"2025-02-04T00:00:00.000000000\",\"2025-02-05T00:00:00.000000000\",\"2025-02-06T00:00:00.000000000\",\"2025-02-07T00:00:00.000000000\",\"2025-02-10T00:00:00.000000000\",\"2025-02-11T00:00:00.000000000\",\"2025-02-12T00:00:00.000000000\",\"2025-02-13T00:00:00.000000000\",\"2025-02-14T00:00:00.000000000\",\"2025-02-18T00:00:00.000000000\",\"2025-02-19T00:00:00.000000000\"],\"y\":{\"dtype\":\"f8\",\"bdata\":\"AAAAAAAA+H8AAAAAAAD4fwAAAAAAAPh\\u002fAAAAAAAA+H8AAAAAAAD4fwAAAAAAAPh\\u002fAAAAAAAA+H8AAAAAAAD4fwAAAAAAAPh\\u002fAAAAAAAA+H8AAAAAAAD4fwAAAAAAAPh\\u002fAAAAAAAA+H8AAAAAAAD4fwAAAAAAAPh\\u002fAAAAAAAA+H8AAAAAAAD4fwAAAAAAAPh\\u002fAAAAAAAA+H9mZmYeifBlQJqZmRHP52VAMzMzC\\u002f\\u002fhZUAzMzNDS81lQM3MzKz8vGVAzczMjJGsZUDNzMxk\\u002fpdlQM3MzCQUi2VAzczM\\u002fFB8ZUAzMzMT+2xlQM3MzAQDY2VAAAAAaENiZUDNzMwcyWFlQDMzM5O1YmVAzczMFBRfZUCamZlxLFplQGZmZp5+UWVAZmZmnrhXZUDNzMzcX11lQAAAAGh8XWVAmpmZGZNWZUDNzMwUtUllQJqZmdEvN2VAZmZm7gotZUCamZmBySJlQGZmZi5\\u002fHGVAMzMz42UbZUAzMzOj8xVlQJqZmel6EmVAMzMziwEYZUAzMzP7YBplQM3MzEzSGWVAzczMnIYgZUDNzMyEgDZlQDMzM0ueS2VAZmZm\\u002fuNfZUAAAADQtndlQAAAAPjjhmVAMzMzE6ORZUCamZlhrqdlQM3MzIzUxGVAMzMzK9TnZUAzMzMjjAxmQJqZmQGQNGZAzczMDBtdZkAAAADADIZmQDMzMztOqWZAAAAA+MPEZkDNzMy8G+ZmQJqZmVnHAGdAMzMzw\\u002fkgZ0AAAABQaERnQAAAACBuY2dAAAAAKM90Z0CamZmhW4lnQJqZmVE7n2dAZmZm9liyZ0AAAABgZMZnQDMzMztz1mdAmpmZ8br3Z0CamZnpnSBoQJqZmam3R2hAAAAACNZraEAzMzOLkpZoQGZmZtalu2hAzczMbEjXaEBmZmbuvPFoQDMzM9ujE2lAZmZm7hQyaUCamZlRLFdpQDMzMzskfWlAzczMRPebaUAzMzPbCMNpQJqZmcHg7GlAzczMjEAYakCamZlB10hqQM3MzJQBfmpAZmZmJrOwakDNzMwcQ\\u002fBqQDMzMyPTEGtAAAAA4K4sa0BmZma+1ExrQAAAAHhwcGtAZmZm7uiDa0BmZmZOrpNrQM3MzKwCq2tAmpmZMUbFa0AAAAAALeBrQDMzM+tG72tAZmZmzgn2a0CamZmRMfxrQGZmZkZYCGxAzczMJJ0LbECamZkJgA5sQJqZmclpCWxAmpmZeRT\\u002fa0CamZnZf+FrQGZmZl5Lv2tAAAAA0Fyaa0AzMzN7n4NrQM3MzNTRbGtAAAAA0FFSa0AAAADgHj1rQDMzM7scMmtAzczMXGMza0AAAACAlDZrQM3MzBwTOmtAzczMfOI8a0CamZkh1klrQGZmZiZ6VWtAzczMZA5ka0AzMzNLu3JrQDMzM\\u002fvegWtAmpmZSVKJa0AzMzPr+JtrQDMzM1P4qmtAAAAAqOjAa0AzMzMTCddrQGZmZn5562tAmpmZodv3a0BmZmZutv9rQJqZmeHUA2xAmpmZ+QwGbEAzMzMbugdsQDMzM8suBGxAMzMzI6b0a0DNzMz0HuZrQJqZmVHU3GtAAAAA0MXga0DNzMy8oeZrQM3MzIQK5mtAzczMLFjma0DNzMy8seNrQDMzM7NW5WtAMzMzSyXia0CamZkZiOhrQJqZmQkG7mtAmpmZoX33a0CamZlBvvxrQAAAAEhKBmxAmpmZEYkHbEAAAABQkhBsQM3MzCyOG2xAMzMzu5AlbEAzMzOroC1sQAAAAACLRWxAAAAAcMdgbEDNzMzse3JsQGZmZna4d2xAAAAAoJOCbEAAAAC4jpJsQGZmZpYcoGxAAAAAyB6nbEAzMzNT\\u002fatsQDMzM9PEsWxAzczMTGiybEAzMzMzUb5sQM3MzBSew2xAzczMLADEbEAzMzNTyr1sQDMzMxtNvmxAMzMz65i6bEDNzMyUta9sQJqZmQE4rWxAzczM7KysbEDNzMw8yKFsQM3MzFzRkmxAzczMpJSIbEAzMzMTtYJsQGZmZj4jc2xAMzMzKwhmbEDNzMzcVFpsQM3MzITsV2xAZmZmbg1VbEDNzMxk\\u002f1JsQGZmZn6PUmxAAAAASDFVbECamZnxUF1sQM3MzAT3b2xAAAAA4AOLbEAAAACQZKxsQDMzMwMMzGxAZmZmFursbEAzMzPr3AVtQAAAAAB+JW1AzczMZB1LbUAzMzMTsW5tQJqZmREyk21AZmZmPgSzbUAzMzODotxtQAAAAHhTBW5AZmZmXuwkbkCamZmZJkZuQDMzMzuob25AZmZmpkCYbkBmZmZuvMBuQJqZmakH525AzczMtAwIb0DNzMzE0B9vQGZmZt4fMW9AMzMz2wozb0AAAAAQmjNvQAAAAAC8Nm9AZmZmPro1b0BmZmYuQS9vQDMzM0PNHW9AMzMzo3oKb0BmZmZOBPNuQM3MzGye4m5AzczM\\u002fDW+bkBmZmb2pphuQM3MzHQKcG5AMzMz64xGbkCamZnRRhVuQGZmZoZZ4W1AMzMzMw60bUAAAABA4JJtQGZmZr7veG1AZmZmDpZhbUDNzMwcikptQDMzMys5MW1AMzMzi1ggbUDNzMzkUQxtQJqZmaHz\\u002fWxAZmZmvt3lbEAAAAD4j9dsQDMzM1Mg1WxAMzMzu0fbbEAAAADgjeFsQM3MzGwZ\\u002fGxAzczM\\u002fK8TbUDNzMyMpTdtQA==\"},\"type\":\"scatter\"}],                        {\"template\":{\"data\":{\"histogram2dcontour\":[{\"type\":\"histogram2dcontour\",\"colorbar\":{\"outlinewidth\":0,\"ticks\":\"\"},\"colorscale\":[[0.0,\"#0d0887\"],[0.1111111111111111,\"#46039f\"],[0.2222222222222222,\"#7201a8\"],[0.3333333333333333,\"#9c179e\"],[0.4444444444444444,\"#bd3786\"],[0.5555555555555556,\"#d8576b\"],[0.6666666666666666,\"#ed7953\"],[0.7777777777777778,\"#fb9f3a\"],[0.8888888888888888,\"#fdca26\"],[1.0,\"#f0f921\"]]}],\"choropleth\":[{\"type\":\"choropleth\",\"colorbar\":{\"outlinewidth\":0,\"ticks\":\"\"}}],\"histogram2d\":[{\"type\":\"histogram2d\",\"colorbar\":{\"outlinewidth\":0,\"ticks\":\"\"},\"colorscale\":[[0.0,\"#0d0887\"],[0.1111111111111111,\"#46039f\"],[0.2222222222222222,\"#7201a8\"],[0.3333333333333333,\"#9c179e\"],[0.4444444444444444,\"#bd3786\"],[0.5555555555555556,\"#d8576b\"],[0.6666666666666666,\"#ed7953\"],[0.7777777777777778,\"#fb9f3a\"],[0.8888888888888888,\"#fdca26\"],[1.0,\"#f0f921\"]]}],\"heatmap\":[{\"type\":\"heatmap\",\"colorbar\":{\"outlinewidth\":0,\"ticks\":\"\"},\"colorscale\":[[0.0,\"#0d0887\"],[0.1111111111111111,\"#46039f\"],[0.2222222222222222,\"#7201a8\"],[0.3333333333333333,\"#9c179e\"],[0.4444444444444444,\"#bd3786\"],[0.5555555555555556,\"#d8576b\"],[0.6666666666666666,\"#ed7953\"],[0.7777777777777778,\"#fb9f3a\"],[0.8888888888888888,\"#fdca26\"],[1.0,\"#f0f921\"]]}],\"contourcarpet\":[{\"type\":\"contourcarpet\",\"colorbar\":{\"outlinewidth\":0,\"ticks\":\"\"}}],\"contour\":[{\"type\":\"contour\",\"colorbar\":{\"outlinewidth\":0,\"ticks\":\"\"},\"colorscale\":[[0.0,\"#0d0887\"],[0.1111111111111111,\"#46039f\"],[0.2222222222222222,\"#7201a8\"],[0.3333333333333333,\"#9c179e\"],[0.4444444444444444,\"#bd3786\"],[0.5555555555555556,\"#d8576b\"],[0.6666666666666666,\"#ed7953\"],[0.7777777777777778,\"#fb9f3a\"],[0.8888888888888888,\"#fdca26\"],[1.0,\"#f0f921\"]]}],\"surface\":[{\"type\":\"surface\",\"colorbar\":{\"outlinewidth\":0,\"ticks\":\"\"},\"colorscale\":[[0.0,\"#0d0887\"],[0.1111111111111111,\"#46039f\"],[0.2222222222222222,\"#7201a8\"],[0.3333333333333333,\"#9c179e\"],[0.4444444444444444,\"#bd3786\"],[0.5555555555555556,\"#d8576b\"],[0.6666666666666666,\"#ed7953\"],[0.7777777777777778,\"#fb9f3a\"],[0.8888888888888888,\"#fdca26\"],[1.0,\"#f0f921\"]]}],\"mesh3d\":[{\"type\":\"mesh3d\",\"colorbar\":{\"outlinewidth\":0,\"ticks\":\"\"}}],\"scatter\":[{\"fillpattern\":{\"fillmode\":\"overlay\",\"size\":10,\"solidity\":0.2},\"type\":\"scatter\"}],\"parcoords\":[{\"type\":\"parcoords\",\"line\":{\"colorbar\":{\"outlinewidth\":0,\"ticks\":\"\"}}}],\"scatterpolargl\":[{\"type\":\"scatterpolargl\",\"marker\":{\"colorbar\":{\"outlinewidth\":0,\"ticks\":\"\"}}}],\"bar\":[{\"error_x\":{\"color\":\"#2a3f5f\"},\"error_y\":{\"color\":\"#2a3f5f\"},\"marker\":{\"line\":{\"color\":\"#E5ECF6\",\"width\":0.5},\"pattern\":{\"fillmode\":\"overlay\",\"size\":10,\"solidity\":0.2}},\"type\":\"bar\"}],\"scattergeo\":[{\"type\":\"scattergeo\",\"marker\":{\"colorbar\":{\"outlinewidth\":0,\"ticks\":\"\"}}}],\"scatterpolar\":[{\"type\":\"scatterpolar\",\"marker\":{\"colorbar\":{\"outlinewidth\":0,\"ticks\":\"\"}}}],\"histogram\":[{\"marker\":{\"pattern\":{\"fillmode\":\"overlay\",\"size\":10,\"solidity\":0.2}},\"type\":\"histogram\"}],\"scattergl\":[{\"type\":\"scattergl\",\"marker\":{\"colorbar\":{\"outlinewidth\":0,\"ticks\":\"\"}}}],\"scatter3d\":[{\"type\":\"scatter3d\",\"line\":{\"colorbar\":{\"outlinewidth\":0,\"ticks\":\"\"}},\"marker\":{\"colorbar\":{\"outlinewidth\":0,\"ticks\":\"\"}}}],\"scattermap\":[{\"type\":\"scattermap\",\"marker\":{\"colorbar\":{\"outlinewidth\":0,\"ticks\":\"\"}}}],\"scattermapbox\":[{\"type\":\"scattermapbox\",\"marker\":{\"colorbar\":{\"outlinewidth\":0,\"ticks\":\"\"}}}],\"scatterternary\":[{\"type\":\"scatterternary\",\"marker\":{\"colorbar\":{\"outlinewidth\":0,\"ticks\":\"\"}}}],\"scattercarpet\":[{\"type\":\"scattercarpet\",\"marker\":{\"colorbar\":{\"outlinewidth\":0,\"ticks\":\"\"}}}],\"carpet\":[{\"aaxis\":{\"endlinecolor\":\"#2a3f5f\",\"gridcolor\":\"white\",\"linecolor\":\"white\",\"minorgridcolor\":\"white\",\"startlinecolor\":\"#2a3f5f\"},\"baxis\":{\"endlinecolor\":\"#2a3f5f\",\"gridcolor\":\"white\",\"linecolor\":\"white\",\"minorgridcolor\":\"white\",\"startlinecolor\":\"#2a3f5f\"},\"type\":\"carpet\"}],\"table\":[{\"cells\":{\"fill\":{\"color\":\"#EBF0F8\"},\"line\":{\"color\":\"white\"}},\"header\":{\"fill\":{\"color\":\"#C8D4E3\"},\"line\":{\"color\":\"white\"}},\"type\":\"table\"}],\"barpolar\":[{\"marker\":{\"line\":{\"color\":\"#E5ECF6\",\"width\":0.5},\"pattern\":{\"fillmode\":\"overlay\",\"size\":10,\"solidity\":0.2}},\"type\":\"barpolar\"}],\"pie\":[{\"automargin\":true,\"type\":\"pie\"}]},\"layout\":{\"autotypenumbers\":\"strict\",\"colorway\":[\"#636efa\",\"#EF553B\",\"#00cc96\",\"#ab63fa\",\"#FFA15A\",\"#19d3f3\",\"#FF6692\",\"#B6E880\",\"#FF97FF\",\"#FECB52\"],\"font\":{\"color\":\"#2a3f5f\"},\"hovermode\":\"closest\",\"hoverlabel\":{\"align\":\"left\"},\"paper_bgcolor\":\"white\",\"plot_bgcolor\":\"#E5ECF6\",\"polar\":{\"bgcolor\":\"#E5ECF6\",\"angularaxis\":{\"gridcolor\":\"white\",\"linecolor\":\"white\",\"ticks\":\"\"},\"radialaxis\":{\"gridcolor\":\"white\",\"linecolor\":\"white\",\"ticks\":\"\"}},\"ternary\":{\"bgcolor\":\"#E5ECF6\",\"aaxis\":{\"gridcolor\":\"white\",\"linecolor\":\"white\",\"ticks\":\"\"},\"baxis\":{\"gridcolor\":\"white\",\"linecolor\":\"white\",\"ticks\":\"\"},\"caxis\":{\"gridcolor\":\"white\",\"linecolor\":\"white\",\"ticks\":\"\"}},\"coloraxis\":{\"colorbar\":{\"outlinewidth\":0,\"ticks\":\"\"}},\"colorscale\":{\"sequential\":[[0.0,\"#0d0887\"],[0.1111111111111111,\"#46039f\"],[0.2222222222222222,\"#7201a8\"],[0.3333333333333333,\"#9c179e\"],[0.4444444444444444,\"#bd3786\"],[0.5555555555555556,\"#d8576b\"],[0.6666666666666666,\"#ed7953\"],[0.7777777777777778,\"#fb9f3a\"],[0.8888888888888888,\"#fdca26\"],[1.0,\"#f0f921\"]],\"sequentialminus\":[[0.0,\"#0d0887\"],[0.1111111111111111,\"#46039f\"],[0.2222222222222222,\"#7201a8\"],[0.3333333333333333,\"#9c179e\"],[0.4444444444444444,\"#bd3786\"],[0.5555555555555556,\"#d8576b\"],[0.6666666666666666,\"#ed7953\"],[0.7777777777777778,\"#fb9f3a\"],[0.8888888888888888,\"#fdca26\"],[1.0,\"#f0f921\"]],\"diverging\":[[0,\"#8e0152\"],[0.1,\"#c51b7d\"],[0.2,\"#de77ae\"],[0.3,\"#f1b6da\"],[0.4,\"#fde0ef\"],[0.5,\"#f7f7f7\"],[0.6,\"#e6f5d0\"],[0.7,\"#b8e186\"],[0.8,\"#7fbc41\"],[0.9,\"#4d9221\"],[1,\"#276419\"]]},\"xaxis\":{\"gridcolor\":\"white\",\"linecolor\":\"white\",\"ticks\":\"\",\"title\":{\"standoff\":15},\"zerolinecolor\":\"white\",\"automargin\":true,\"zerolinewidth\":2},\"yaxis\":{\"gridcolor\":\"white\",\"linecolor\":\"white\",\"ticks\":\"\",\"title\":{\"standoff\":15},\"zerolinecolor\":\"white\",\"automargin\":true,\"zerolinewidth\":2},\"scene\":{\"xaxis\":{\"backgroundcolor\":\"#E5ECF6\",\"gridcolor\":\"white\",\"linecolor\":\"white\",\"showbackground\":true,\"ticks\":\"\",\"zerolinecolor\":\"white\",\"gridwidth\":2},\"yaxis\":{\"backgroundcolor\":\"#E5ECF6\",\"gridcolor\":\"white\",\"linecolor\":\"white\",\"showbackground\":true,\"ticks\":\"\",\"zerolinecolor\":\"white\",\"gridwidth\":2},\"zaxis\":{\"backgroundcolor\":\"#E5ECF6\",\"gridcolor\":\"white\",\"linecolor\":\"white\",\"showbackground\":true,\"ticks\":\"\",\"zerolinecolor\":\"white\",\"gridwidth\":2}},\"shapedefaults\":{\"line\":{\"color\":\"#2a3f5f\"}},\"annotationdefaults\":{\"arrowcolor\":\"#2a3f5f\",\"arrowhead\":0,\"arrowwidth\":1},\"geo\":{\"bgcolor\":\"white\",\"landcolor\":\"#E5ECF6\",\"subunitcolor\":\"white\",\"showland\":true,\"showlakes\":true,\"lakecolor\":\"white\"},\"title\":{\"x\":0.05},\"mapbox\":{\"style\":\"light\"}}},\"title\":{\"text\":\"AAPL Candlestick Chart with SMA\"},\"xaxis\":{\"title\":{\"text\":\"Date\"}},\"yaxis\":{\"title\":{\"text\":\"Price (USD)\"}}},                        {\"responsive\": true}                    ).then(function(){\n",
       "                            \n",
       "var gd = document.getElementById('77b40cdd-8fa0-4953-8b34-636eebfe5289');\n",
       "var x = new MutationObserver(function (mutations, observer) {{\n",
       "        var display = window.getComputedStyle(gd).display;\n",
       "        if (!display || display === 'none') {{\n",
       "            console.log([gd, 'removed!']);\n",
       "            Plotly.purge(gd);\n",
       "            observer.disconnect();\n",
       "        }}\n",
       "}});\n",
       "\n",
       "// Listen for the removal of the full notebook cells\n",
       "var notebookContainer = gd.closest('#notebook-container');\n",
       "if (notebookContainer) {{\n",
       "    x.observe(notebookContainer, {childList: true});\n",
       "}}\n",
       "\n",
       "// Listen for the clearing of the current output cell\n",
       "var outputEl = gd.closest('.output');\n",
       "if (outputEl) {{\n",
       "    x.observe(outputEl, {childList: true});\n",
       "}}\n",
       "\n",
       "                        })                };            </script>        </div>"
      ]
     },
     "metadata": {},
     "output_type": "display_data"
    }
   ],
   "source": [
    "# Calculate the 10-day and 20-day SMA\n",
    "data['SMA10'] = data['Close'].rolling(window=10).mean()\n",
    "data['SMA20'] = data['Close'].rolling(window=20).mean()\n",
    "\n",
    "# Create the figure\n",
    "fig = go.Figure(data=[go.Candlestick(\n",
    "    x=data.index,\n",
    "    open=data['Open'],\n",
    "    high=data['High'],\n",
    "    low=data['Low'],\n",
    "    close=data['Close']\n",
    ")])\n",
    "\n",
    "# Add the 10-day and 20-day SMA to the figure\n",
    "fig.add_trace(go.Scatter(x=data.index, y=data['SMA10'], name='SMA10'))\n",
    "fig.add_trace(go.Scatter(x=data.index, y=data['SMA20'], name='SMA20'))\n",
    "\n",
    "# Update the layout\n",
    "fig.update_layout(\n",
    "    title=f'{tickers[0]} Candlestick Chart with SMA',\n",
    "    xaxis_title='Date',\n",
    "    yaxis_title='Price (USD)'\n",
    ")\n",
    "\n",
    "# Show the plot\n",
    "fig.show()\n"
   ]
  },
  {
   "cell_type": "markdown",
   "id": "bf975258-bbe8-4cde-9b19-84abb1fe44dd",
   "metadata": {},
   "source": [
    "# plotting bollinger band"
   ]
  },
  {
   "cell_type": "code",
   "execution_count": 7,
   "id": "ebb8f212-df7b-449d-98b9-2ff5d252ee1a",
   "metadata": {},
   "outputs": [
    {
     "data": {
      "application/vnd.plotly.v1+json": {
       "config": {
        "plotlyServerURL": "https://plot.ly"
       },
       "data": [
        {
         "close": {
          "bdata": "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",
          "dtype": "f8"
         },
         "high": {
          "bdata": "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",
          "dtype": "f8"
         },
         "low": {
          "bdata": "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",
          "dtype": "f8"
         },
         "open": {
          "bdata": "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",
          "dtype": "f8"
         },
         "type": "candlestick",
         "x": [
          "2024-02-20T00:00:00.000000000",
          "2024-02-21T00:00:00.000000000",
          "2024-02-22T00:00:00.000000000",
          "2024-02-23T00:00:00.000000000",
          "2024-02-26T00:00:00.000000000",
          "2024-02-27T00:00:00.000000000",
          "2024-02-28T00:00:00.000000000",
          "2024-02-29T00:00:00.000000000",
          "2024-03-01T00:00:00.000000000",
          "2024-03-04T00:00:00.000000000",
          "2024-03-05T00:00:00.000000000",
          "2024-03-06T00:00:00.000000000",
          "2024-03-07T00:00:00.000000000",
          "2024-03-08T00:00:00.000000000",
          "2024-03-11T00:00:00.000000000",
          "2024-03-12T00:00:00.000000000",
          "2024-03-13T00:00:00.000000000",
          "2024-03-14T00:00:00.000000000",
          "2024-03-15T00:00:00.000000000",
          "2024-03-18T00:00:00.000000000",
          "2024-03-19T00:00:00.000000000",
          "2024-03-20T00:00:00.000000000",
          "2024-03-21T00:00:00.000000000",
          "2024-03-22T00:00:00.000000000",
          "2024-03-25T00:00:00.000000000",
          "2024-03-26T00:00:00.000000000",
          "2024-03-27T00:00:00.000000000",
          "2024-03-28T00:00:00.000000000",
          "2024-04-01T00:00:00.000000000",
          "2024-04-02T00:00:00.000000000",
          "2024-04-03T00:00:00.000000000",
          "2024-04-04T00:00:00.000000000",
          "2024-04-05T00:00:00.000000000",
          "2024-04-08T00:00:00.000000000",
          "2024-04-09T00:00:00.000000000",
          "2024-04-10T00:00:00.000000000",
          "2024-04-11T00:00:00.000000000",
          "2024-04-12T00:00:00.000000000",
          "2024-04-15T00:00:00.000000000",
          "2024-04-16T00:00:00.000000000",
          "2024-04-17T00:00:00.000000000",
          "2024-04-18T00:00:00.000000000",
          "2024-04-19T00:00:00.000000000",
          "2024-04-22T00:00:00.000000000",
          "2024-04-23T00:00:00.000000000",
          "2024-04-24T00:00:00.000000000",
          "2024-04-25T00:00:00.000000000",
          "2024-04-26T00:00:00.000000000",
          "2024-04-29T00:00:00.000000000",
          "2024-04-30T00:00:00.000000000",
          "2024-05-01T00:00:00.000000000",
          "2024-05-02T00:00:00.000000000",
          "2024-05-03T00:00:00.000000000",
          "2024-05-06T00:00:00.000000000",
          "2024-05-07T00:00:00.000000000",
          "2024-05-08T00:00:00.000000000",
          "2024-05-09T00:00:00.000000000",
          "2024-05-10T00:00:00.000000000",
          "2024-05-13T00:00:00.000000000",
          "2024-05-14T00:00:00.000000000",
          "2024-05-15T00:00:00.000000000",
          "2024-05-16T00:00:00.000000000",
          "2024-05-17T00:00:00.000000000",
          "2024-05-20T00:00:00.000000000",
          "2024-05-21T00:00:00.000000000",
          "2024-05-22T00:00:00.000000000",
          "2024-05-23T00:00:00.000000000",
          "2024-05-24T00:00:00.000000000",
          "2024-05-28T00:00:00.000000000",
          "2024-05-29T00:00:00.000000000",
          "2024-05-30T00:00:00.000000000",
          "2024-05-31T00:00:00.000000000",
          "2024-06-03T00:00:00.000000000",
          "2024-06-04T00:00:00.000000000",
          "2024-06-05T00:00:00.000000000",
          "2024-06-06T00:00:00.000000000",
          "2024-06-07T00:00:00.000000000",
          "2024-06-10T00:00:00.000000000",
          "2024-06-11T00:00:00.000000000",
          "2024-06-12T00:00:00.000000000",
          "2024-06-13T00:00:00.000000000",
          "2024-06-14T00:00:00.000000000",
          "2024-06-17T00:00:00.000000000",
          "2024-06-18T00:00:00.000000000",
          "2024-06-20T00:00:00.000000000",
          "2024-06-21T00:00:00.000000000",
          "2024-06-24T00:00:00.000000000",
          "2024-06-25T00:00:00.000000000",
          "2024-06-26T00:00:00.000000000",
          "2024-06-27T00:00:00.000000000",
          "2024-06-28T00:00:00.000000000",
          "2024-07-01T00:00:00.000000000",
          "2024-07-02T00:00:00.000000000",
          "2024-07-03T00:00:00.000000000",
          "2024-07-05T00:00:00.000000000",
          "2024-07-08T00:00:00.000000000",
          "2024-07-09T00:00:00.000000000",
          "2024-07-10T00:00:00.000000000",
          "2024-07-11T00:00:00.000000000",
          "2024-07-12T00:00:00.000000000",
          "2024-07-15T00:00:00.000000000",
          "2024-07-16T00:00:00.000000000",
          "2024-07-17T00:00:00.000000000",
          "2024-07-18T00:00:00.000000000",
          "2024-07-19T00:00:00.000000000",
          "2024-07-22T00:00:00.000000000",
          "2024-07-23T00:00:00.000000000",
          "2024-07-24T00:00:00.000000000",
          "2024-07-25T00:00:00.000000000",
          "2024-07-26T00:00:00.000000000",
          "2024-07-29T00:00:00.000000000",
          "2024-07-30T00:00:00.000000000",
          "2024-07-31T00:00:00.000000000",
          "2024-08-01T00:00:00.000000000",
          "2024-08-02T00:00:00.000000000",
          "2024-08-05T00:00:00.000000000",
          "2024-08-06T00:00:00.000000000",
          "2024-08-07T00:00:00.000000000",
          "2024-08-08T00:00:00.000000000",
          "2024-08-09T00:00:00.000000000",
          "2024-08-12T00:00:00.000000000",
          "2024-08-13T00:00:00.000000000",
          "2024-08-14T00:00:00.000000000",
          "2024-08-15T00:00:00.000000000",
          "2024-08-16T00:00:00.000000000",
          "2024-08-19T00:00:00.000000000",
          "2024-08-20T00:00:00.000000000",
          "2024-08-21T00:00:00.000000000",
          "2024-08-22T00:00:00.000000000",
          "2024-08-23T00:00:00.000000000",
          "2024-08-26T00:00:00.000000000",
          "2024-08-27T00:00:00.000000000",
          "2024-08-28T00:00:00.000000000",
          "2024-08-29T00:00:00.000000000",
          "2024-08-30T00:00:00.000000000",
          "2024-09-03T00:00:00.000000000",
          "2024-09-04T00:00:00.000000000",
          "2024-09-05T00:00:00.000000000",
          "2024-09-06T00:00:00.000000000",
          "2024-09-09T00:00:00.000000000",
          "2024-09-10T00:00:00.000000000",
          "2024-09-11T00:00:00.000000000",
          "2024-09-12T00:00:00.000000000",
          "2024-09-13T00:00:00.000000000",
          "2024-09-16T00:00:00.000000000",
          "2024-09-17T00:00:00.000000000",
          "2024-09-18T00:00:00.000000000",
          "2024-09-19T00:00:00.000000000",
          "2024-09-20T00:00:00.000000000",
          "2024-09-23T00:00:00.000000000",
          "2024-09-24T00:00:00.000000000",
          "2024-09-25T00:00:00.000000000",
          "2024-09-26T00:00:00.000000000",
          "2024-09-27T00:00:00.000000000",
          "2024-09-30T00:00:00.000000000",
          "2024-10-01T00:00:00.000000000",
          "2024-10-02T00:00:00.000000000",
          "2024-10-03T00:00:00.000000000",
          "2024-10-04T00:00:00.000000000",
          "2024-10-07T00:00:00.000000000",
          "2024-10-08T00:00:00.000000000",
          "2024-10-09T00:00:00.000000000",
          "2024-10-10T00:00:00.000000000",
          "2024-10-11T00:00:00.000000000",
          "2024-10-14T00:00:00.000000000",
          "2024-10-15T00:00:00.000000000",
          "2024-10-16T00:00:00.000000000",
          "2024-10-17T00:00:00.000000000",
          "2024-10-18T00:00:00.000000000",
          "2024-10-21T00:00:00.000000000",
          "2024-10-22T00:00:00.000000000",
          "2024-10-23T00:00:00.000000000",
          "2024-10-24T00:00:00.000000000",
          "2024-10-25T00:00:00.000000000",
          "2024-10-28T00:00:00.000000000",
          "2024-10-29T00:00:00.000000000",
          "2024-10-30T00:00:00.000000000",
          "2024-10-31T00:00:00.000000000",
          "2024-11-01T00:00:00.000000000",
          "2024-11-04T00:00:00.000000000",
          "2024-11-05T00:00:00.000000000",
          "2024-11-06T00:00:00.000000000",
          "2024-11-07T00:00:00.000000000",
          "2024-11-08T00:00:00.000000000",
          "2024-11-11T00:00:00.000000000",
          "2024-11-12T00:00:00.000000000",
          "2024-11-13T00:00:00.000000000",
          "2024-11-14T00:00:00.000000000",
          "2024-11-15T00:00:00.000000000",
          "2024-11-18T00:00:00.000000000",
          "2024-11-19T00:00:00.000000000",
          "2024-11-20T00:00:00.000000000",
          "2024-11-21T00:00:00.000000000",
          "2024-11-22T00:00:00.000000000",
          "2024-11-25T00:00:00.000000000",
          "2024-11-26T00:00:00.000000000",
          "2024-11-27T00:00:00.000000000",
          "2024-11-29T00:00:00.000000000",
          "2024-12-02T00:00:00.000000000",
          "2024-12-03T00:00:00.000000000",
          "2024-12-04T00:00:00.000000000",
          "2024-12-05T00:00:00.000000000",
          "2024-12-06T00:00:00.000000000",
          "2024-12-09T00:00:00.000000000",
          "2024-12-10T00:00:00.000000000",
          "2024-12-11T00:00:00.000000000",
          "2024-12-12T00:00:00.000000000",
          "2024-12-13T00:00:00.000000000",
          "2024-12-16T00:00:00.000000000",
          "2024-12-17T00:00:00.000000000",
          "2024-12-18T00:00:00.000000000",
          "2024-12-19T00:00:00.000000000",
          "2024-12-20T00:00:00.000000000",
          "2024-12-23T00:00:00.000000000",
          "2024-12-24T00:00:00.000000000",
          "2024-12-26T00:00:00.000000000",
          "2024-12-27T00:00:00.000000000",
          "2024-12-30T00:00:00.000000000",
          "2024-12-31T00:00:00.000000000",
          "2025-01-02T00:00:00.000000000",
          "2025-01-03T00:00:00.000000000",
          "2025-01-06T00:00:00.000000000",
          "2025-01-07T00:00:00.000000000",
          "2025-01-08T00:00:00.000000000",
          "2025-01-10T00:00:00.000000000",
          "2025-01-13T00:00:00.000000000",
          "2025-01-14T00:00:00.000000000",
          "2025-01-15T00:00:00.000000000",
          "2025-01-16T00:00:00.000000000",
          "2025-01-17T00:00:00.000000000",
          "2025-01-21T00:00:00.000000000",
          "2025-01-22T00:00:00.000000000",
          "2025-01-23T00:00:00.000000000",
          "2025-01-24T00:00:00.000000000",
          "2025-01-27T00:00:00.000000000",
          "2025-01-28T00:00:00.000000000",
          "2025-01-29T00:00:00.000000000",
          "2025-01-30T00:00:00.000000000",
          "2025-01-31T00:00:00.000000000",
          "2025-02-03T00:00:00.000000000",
          "2025-02-04T00:00:00.000000000",
          "2025-02-05T00:00:00.000000000",
          "2025-02-06T00:00:00.000000000",
          "2025-02-07T00:00:00.000000000",
          "2025-02-10T00:00:00.000000000",
          "2025-02-11T00:00:00.000000000",
          "2025-02-12T00:00:00.000000000",
          "2025-02-13T00:00:00.000000000",
          "2025-02-14T00:00:00.000000000",
          "2025-02-18T00:00:00.000000000",
          "2025-02-19T00:00:00.000000000"
         ]
        },
        {
         "name": "SMA10",
         "type": "scatter",
         "x": [
          "2024-02-20T00:00:00.000000000",
          "2024-02-21T00:00:00.000000000",
          "2024-02-22T00:00:00.000000000",
          "2024-02-23T00:00:00.000000000",
          "2024-02-26T00:00:00.000000000",
          "2024-02-27T00:00:00.000000000",
          "2024-02-28T00:00:00.000000000",
          "2024-02-29T00:00:00.000000000",
          "2024-03-01T00:00:00.000000000",
          "2024-03-04T00:00:00.000000000",
          "2024-03-05T00:00:00.000000000",
          "2024-03-06T00:00:00.000000000",
          "2024-03-07T00:00:00.000000000",
          "2024-03-08T00:00:00.000000000",
          "2024-03-11T00:00:00.000000000",
          "2024-03-12T00:00:00.000000000",
          "2024-03-13T00:00:00.000000000",
          "2024-03-14T00:00:00.000000000",
          "2024-03-15T00:00:00.000000000",
          "2024-03-18T00:00:00.000000000",
          "2024-03-19T00:00:00.000000000",
          "2024-03-20T00:00:00.000000000",
          "2024-03-21T00:00:00.000000000",
          "2024-03-22T00:00:00.000000000",
          "2024-03-25T00:00:00.000000000",
          "2024-03-26T00:00:00.000000000",
          "2024-03-27T00:00:00.000000000",
          "2024-03-28T00:00:00.000000000",
          "2024-04-01T00:00:00.000000000",
          "2024-04-02T00:00:00.000000000",
          "2024-04-03T00:00:00.000000000",
          "2024-04-04T00:00:00.000000000",
          "2024-04-05T00:00:00.000000000",
          "2024-04-08T00:00:00.000000000",
          "2024-04-09T00:00:00.000000000",
          "2024-04-10T00:00:00.000000000",
          "2024-04-11T00:00:00.000000000",
          "2024-04-12T00:00:00.000000000",
          "2024-04-15T00:00:00.000000000",
          "2024-04-16T00:00:00.000000000",
          "2024-04-17T00:00:00.000000000",
          "2024-04-18T00:00:00.000000000",
          "2024-04-19T00:00:00.000000000",
          "2024-04-22T00:00:00.000000000",
          "2024-04-23T00:00:00.000000000",
          "2024-04-24T00:00:00.000000000",
          "2024-04-25T00:00:00.000000000",
          "2024-04-26T00:00:00.000000000",
          "2024-04-29T00:00:00.000000000",
          "2024-04-30T00:00:00.000000000",
          "2024-05-01T00:00:00.000000000",
          "2024-05-02T00:00:00.000000000",
          "2024-05-03T00:00:00.000000000",
          "2024-05-06T00:00:00.000000000",
          "2024-05-07T00:00:00.000000000",
          "2024-05-08T00:00:00.000000000",
          "2024-05-09T00:00:00.000000000",
          "2024-05-10T00:00:00.000000000",
          "2024-05-13T00:00:00.000000000",
          "2024-05-14T00:00:00.000000000",
          "2024-05-15T00:00:00.000000000",
          "2024-05-16T00:00:00.000000000",
          "2024-05-17T00:00:00.000000000",
          "2024-05-20T00:00:00.000000000",
          "2024-05-21T00:00:00.000000000",
          "2024-05-22T00:00:00.000000000",
          "2024-05-23T00:00:00.000000000",
          "2024-05-24T00:00:00.000000000",
          "2024-05-28T00:00:00.000000000",
          "2024-05-29T00:00:00.000000000",
          "2024-05-30T00:00:00.000000000",
          "2024-05-31T00:00:00.000000000",
          "2024-06-03T00:00:00.000000000",
          "2024-06-04T00:00:00.000000000",
          "2024-06-05T00:00:00.000000000",
          "2024-06-06T00:00:00.000000000",
          "2024-06-07T00:00:00.000000000",
          "2024-06-10T00:00:00.000000000",
          "2024-06-11T00:00:00.000000000",
          "2024-06-12T00:00:00.000000000",
          "2024-06-13T00:00:00.000000000",
          "2024-06-14T00:00:00.000000000",
          "2024-06-17T00:00:00.000000000",
          "2024-06-18T00:00:00.000000000",
          "2024-06-20T00:00:00.000000000",
          "2024-06-21T00:00:00.000000000",
          "2024-06-24T00:00:00.000000000",
          "2024-06-25T00:00:00.000000000",
          "2024-06-26T00:00:00.000000000",
          "2024-06-27T00:00:00.000000000",
          "2024-06-28T00:00:00.000000000",
          "2024-07-01T00:00:00.000000000",
          "2024-07-02T00:00:00.000000000",
          "2024-07-03T00:00:00.000000000",
          "2024-07-05T00:00:00.000000000",
          "2024-07-08T00:00:00.000000000",
          "2024-07-09T00:00:00.000000000",
          "2024-07-10T00:00:00.000000000",
          "2024-07-11T00:00:00.000000000",
          "2024-07-12T00:00:00.000000000",
          "2024-07-15T00:00:00.000000000",
          "2024-07-16T00:00:00.000000000",
          "2024-07-17T00:00:00.000000000",
          "2024-07-18T00:00:00.000000000",
          "2024-07-19T00:00:00.000000000",
          "2024-07-22T00:00:00.000000000",
          "2024-07-23T00:00:00.000000000",
          "2024-07-24T00:00:00.000000000",
          "2024-07-25T00:00:00.000000000",
          "2024-07-26T00:00:00.000000000",
          "2024-07-29T00:00:00.000000000",
          "2024-07-30T00:00:00.000000000",
          "2024-07-31T00:00:00.000000000",
          "2024-08-01T00:00:00.000000000",
          "2024-08-02T00:00:00.000000000",
          "2024-08-05T00:00:00.000000000",
          "2024-08-06T00:00:00.000000000",
          "2024-08-07T00:00:00.000000000",
          "2024-08-08T00:00:00.000000000",
          "2024-08-09T00:00:00.000000000",
          "2024-08-12T00:00:00.000000000",
          "2024-08-13T00:00:00.000000000",
          "2024-08-14T00:00:00.000000000",
          "2024-08-15T00:00:00.000000000",
          "2024-08-16T00:00:00.000000000",
          "2024-08-19T00:00:00.000000000",
          "2024-08-20T00:00:00.000000000",
          "2024-08-21T00:00:00.000000000",
          "2024-08-22T00:00:00.000000000",
          "2024-08-23T00:00:00.000000000",
          "2024-08-26T00:00:00.000000000",
          "2024-08-27T00:00:00.000000000",
          "2024-08-28T00:00:00.000000000",
          "2024-08-29T00:00:00.000000000",
          "2024-08-30T00:00:00.000000000",
          "2024-09-03T00:00:00.000000000",
          "2024-09-04T00:00:00.000000000",
          "2024-09-05T00:00:00.000000000",
          "2024-09-06T00:00:00.000000000",
          "2024-09-09T00:00:00.000000000",
          "2024-09-10T00:00:00.000000000",
          "2024-09-11T00:00:00.000000000",
          "2024-09-12T00:00:00.000000000",
          "2024-09-13T00:00:00.000000000",
          "2024-09-16T00:00:00.000000000",
          "2024-09-17T00:00:00.000000000",
          "2024-09-18T00:00:00.000000000",
          "2024-09-19T00:00:00.000000000",
          "2024-09-20T00:00:00.000000000",
          "2024-09-23T00:00:00.000000000",
          "2024-09-24T00:00:00.000000000",
          "2024-09-25T00:00:00.000000000",
          "2024-09-26T00:00:00.000000000",
          "2024-09-27T00:00:00.000000000",
          "2024-09-30T00:00:00.000000000",
          "2024-10-01T00:00:00.000000000",
          "2024-10-02T00:00:00.000000000",
          "2024-10-03T00:00:00.000000000",
          "2024-10-04T00:00:00.000000000",
          "2024-10-07T00:00:00.000000000",
          "2024-10-08T00:00:00.000000000",
          "2024-10-09T00:00:00.000000000",
          "2024-10-10T00:00:00.000000000",
          "2024-10-11T00:00:00.000000000",
          "2024-10-14T00:00:00.000000000",
          "2024-10-15T00:00:00.000000000",
          "2024-10-16T00:00:00.000000000",
          "2024-10-17T00:00:00.000000000",
          "2024-10-18T00:00:00.000000000",
          "2024-10-21T00:00:00.000000000",
          "2024-10-22T00:00:00.000000000",
          "2024-10-23T00:00:00.000000000",
          "2024-10-24T00:00:00.000000000",
          "2024-10-25T00:00:00.000000000",
          "2024-10-28T00:00:00.000000000",
          "2024-10-29T00:00:00.000000000",
          "2024-10-30T00:00:00.000000000",
          "2024-10-31T00:00:00.000000000",
          "2024-11-01T00:00:00.000000000",
          "2024-11-04T00:00:00.000000000",
          "2024-11-05T00:00:00.000000000",
          "2024-11-06T00:00:00.000000000",
          "2024-11-07T00:00:00.000000000",
          "2024-11-08T00:00:00.000000000",
          "2024-11-11T00:00:00.000000000",
          "2024-11-12T00:00:00.000000000",
          "2024-11-13T00:00:00.000000000",
          "2024-11-14T00:00:00.000000000",
          "2024-11-15T00:00:00.000000000",
          "2024-11-18T00:00:00.000000000",
          "2024-11-19T00:00:00.000000000",
          "2024-11-20T00:00:00.000000000",
          "2024-11-21T00:00:00.000000000",
          "2024-11-22T00:00:00.000000000",
          "2024-11-25T00:00:00.000000000",
          "2024-11-26T00:00:00.000000000",
          "2024-11-27T00:00:00.000000000",
          "2024-11-29T00:00:00.000000000",
          "2024-12-02T00:00:00.000000000",
          "2024-12-03T00:00:00.000000000",
          "2024-12-04T00:00:00.000000000",
          "2024-12-05T00:00:00.000000000",
          "2024-12-06T00:00:00.000000000",
          "2024-12-09T00:00:00.000000000",
          "2024-12-10T00:00:00.000000000",
          "2024-12-11T00:00:00.000000000",
          "2024-12-12T00:00:00.000000000",
          "2024-12-13T00:00:00.000000000",
          "2024-12-16T00:00:00.000000000",
          "2024-12-17T00:00:00.000000000",
          "2024-12-18T00:00:00.000000000",
          "2024-12-19T00:00:00.000000000",
          "2024-12-20T00:00:00.000000000",
          "2024-12-23T00:00:00.000000000",
          "2024-12-24T00:00:00.000000000",
          "2024-12-26T00:00:00.000000000",
          "2024-12-27T00:00:00.000000000",
          "2024-12-30T00:00:00.000000000",
          "2024-12-31T00:00:00.000000000",
          "2025-01-02T00:00:00.000000000",
          "2025-01-03T00:00:00.000000000",
          "2025-01-06T00:00:00.000000000",
          "2025-01-07T00:00:00.000000000",
          "2025-01-08T00:00:00.000000000",
          "2025-01-10T00:00:00.000000000",
          "2025-01-13T00:00:00.000000000",
          "2025-01-14T00:00:00.000000000",
          "2025-01-15T00:00:00.000000000",
          "2025-01-16T00:00:00.000000000",
          "2025-01-17T00:00:00.000000000",
          "2025-01-21T00:00:00.000000000",
          "2025-01-22T00:00:00.000000000",
          "2025-01-23T00:00:00.000000000",
          "2025-01-24T00:00:00.000000000",
          "2025-01-27T00:00:00.000000000",
          "2025-01-28T00:00:00.000000000",
          "2025-01-29T00:00:00.000000000",
          "2025-01-30T00:00:00.000000000",
          "2025-01-31T00:00:00.000000000",
          "2025-02-03T00:00:00.000000000",
          "2025-02-04T00:00:00.000000000",
          "2025-02-05T00:00:00.000000000",
          "2025-02-06T00:00:00.000000000",
          "2025-02-07T00:00:00.000000000",
          "2025-02-10T00:00:00.000000000",
          "2025-02-11T00:00:00.000000000",
          "2025-02-12T00:00:00.000000000",
          "2025-02-13T00:00:00.000000000",
          "2025-02-14T00:00:00.000000000",
          "2025-02-18T00:00:00.000000000",
          "2025-02-19T00:00:00.000000000"
         ],
         "y": {
          "bdata": "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",
          "dtype": "f8"
         }
        },
        {
         "name": "SMA20",
         "type": "scatter",
         "x": [
          "2024-02-20T00:00:00.000000000",
          "2024-02-21T00:00:00.000000000",
          "2024-02-22T00:00:00.000000000",
          "2024-02-23T00:00:00.000000000",
          "2024-02-26T00:00:00.000000000",
          "2024-02-27T00:00:00.000000000",
          "2024-02-28T00:00:00.000000000",
          "2024-02-29T00:00:00.000000000",
          "2024-03-01T00:00:00.000000000",
          "2024-03-04T00:00:00.000000000",
          "2024-03-05T00:00:00.000000000",
          "2024-03-06T00:00:00.000000000",
          "2024-03-07T00:00:00.000000000",
          "2024-03-08T00:00:00.000000000",
          "2024-03-11T00:00:00.000000000",
          "2024-03-12T00:00:00.000000000",
          "2024-03-13T00:00:00.000000000",
          "2024-03-14T00:00:00.000000000",
          "2024-03-15T00:00:00.000000000",
          "2024-03-18T00:00:00.000000000",
          "2024-03-19T00:00:00.000000000",
          "2024-03-20T00:00:00.000000000",
          "2024-03-21T00:00:00.000000000",
          "2024-03-22T00:00:00.000000000",
          "2024-03-25T00:00:00.000000000",
          "2024-03-26T00:00:00.000000000",
          "2024-03-27T00:00:00.000000000",
          "2024-03-28T00:00:00.000000000",
          "2024-04-01T00:00:00.000000000",
          "2024-04-02T00:00:00.000000000",
          "2024-04-03T00:00:00.000000000",
          "2024-04-04T00:00:00.000000000",
          "2024-04-05T00:00:00.000000000",
          "2024-04-08T00:00:00.000000000",
          "2024-04-09T00:00:00.000000000",
          "2024-04-10T00:00:00.000000000",
          "2024-04-11T00:00:00.000000000",
          "2024-04-12T00:00:00.000000000",
          "2024-04-15T00:00:00.000000000",
          "2024-04-16T00:00:00.000000000",
          "2024-04-17T00:00:00.000000000",
          "2024-04-18T00:00:00.000000000",
          "2024-04-19T00:00:00.000000000",
          "2024-04-22T00:00:00.000000000",
          "2024-04-23T00:00:00.000000000",
          "2024-04-24T00:00:00.000000000",
          "2024-04-25T00:00:00.000000000",
          "2024-04-26T00:00:00.000000000",
          "2024-04-29T00:00:00.000000000",
          "2024-04-30T00:00:00.000000000",
          "2024-05-01T00:00:00.000000000",
          "2024-05-02T00:00:00.000000000",
          "2024-05-03T00:00:00.000000000",
          "2024-05-06T00:00:00.000000000",
          "2024-05-07T00:00:00.000000000",
          "2024-05-08T00:00:00.000000000",
          "2024-05-09T00:00:00.000000000",
          "2024-05-10T00:00:00.000000000",
          "2024-05-13T00:00:00.000000000",
          "2024-05-14T00:00:00.000000000",
          "2024-05-15T00:00:00.000000000",
          "2024-05-16T00:00:00.000000000",
          "2024-05-17T00:00:00.000000000",
          "2024-05-20T00:00:00.000000000",
          "2024-05-21T00:00:00.000000000",
          "2024-05-22T00:00:00.000000000",
          "2024-05-23T00:00:00.000000000",
          "2024-05-24T00:00:00.000000000",
          "2024-05-28T00:00:00.000000000",
          "2024-05-29T00:00:00.000000000",
          "2024-05-30T00:00:00.000000000",
          "2024-05-31T00:00:00.000000000",
          "2024-06-03T00:00:00.000000000",
          "2024-06-04T00:00:00.000000000",
          "2024-06-05T00:00:00.000000000",
          "2024-06-06T00:00:00.000000000",
          "2024-06-07T00:00:00.000000000",
          "2024-06-10T00:00:00.000000000",
          "2024-06-11T00:00:00.000000000",
          "2024-06-12T00:00:00.000000000",
          "2024-06-13T00:00:00.000000000",
          "2024-06-14T00:00:00.000000000",
          "2024-06-17T00:00:00.000000000",
          "2024-06-18T00:00:00.000000000",
          "2024-06-20T00:00:00.000000000",
          "2024-06-21T00:00:00.000000000",
          "2024-06-24T00:00:00.000000000",
          "2024-06-25T00:00:00.000000000",
          "2024-06-26T00:00:00.000000000",
          "2024-06-27T00:00:00.000000000",
          "2024-06-28T00:00:00.000000000",
          "2024-07-01T00:00:00.000000000",
          "2024-07-02T00:00:00.000000000",
          "2024-07-03T00:00:00.000000000",
          "2024-07-05T00:00:00.000000000",
          "2024-07-08T00:00:00.000000000",
          "2024-07-09T00:00:00.000000000",
          "2024-07-10T00:00:00.000000000",
          "2024-07-11T00:00:00.000000000",
          "2024-07-12T00:00:00.000000000",
          "2024-07-15T00:00:00.000000000",
          "2024-07-16T00:00:00.000000000",
          "2024-07-17T00:00:00.000000000",
          "2024-07-18T00:00:00.000000000",
          "2024-07-19T00:00:00.000000000",
          "2024-07-22T00:00:00.000000000",
          "2024-07-23T00:00:00.000000000",
          "2024-07-24T00:00:00.000000000",
          "2024-07-25T00:00:00.000000000",
          "2024-07-26T00:00:00.000000000",
          "2024-07-29T00:00:00.000000000",
          "2024-07-30T00:00:00.000000000",
          "2024-07-31T00:00:00.000000000",
          "2024-08-01T00:00:00.000000000",
          "2024-08-02T00:00:00.000000000",
          "2024-08-05T00:00:00.000000000",
          "2024-08-06T00:00:00.000000000",
          "2024-08-07T00:00:00.000000000",
          "2024-08-08T00:00:00.000000000",
          "2024-08-09T00:00:00.000000000",
          "2024-08-12T00:00:00.000000000",
          "2024-08-13T00:00:00.000000000",
          "2024-08-14T00:00:00.000000000",
          "2024-08-15T00:00:00.000000000",
          "2024-08-16T00:00:00.000000000",
          "2024-08-19T00:00:00.000000000",
          "2024-08-20T00:00:00.000000000",
          "2024-08-21T00:00:00.000000000",
          "2024-08-22T00:00:00.000000000",
          "2024-08-23T00:00:00.000000000",
          "2024-08-26T00:00:00.000000000",
          "2024-08-27T00:00:00.000000000",
          "2024-08-28T00:00:00.000000000",
          "2024-08-29T00:00:00.000000000",
          "2024-08-30T00:00:00.000000000",
          "2024-09-03T00:00:00.000000000",
          "2024-09-04T00:00:00.000000000",
          "2024-09-05T00:00:00.000000000",
          "2024-09-06T00:00:00.000000000",
          "2024-09-09T00:00:00.000000000",
          "2024-09-10T00:00:00.000000000",
          "2024-09-11T00:00:00.000000000",
          "2024-09-12T00:00:00.000000000",
          "2024-09-13T00:00:00.000000000",
          "2024-09-16T00:00:00.000000000",
          "2024-09-17T00:00:00.000000000",
          "2024-09-18T00:00:00.000000000",
          "2024-09-19T00:00:00.000000000",
          "2024-09-20T00:00:00.000000000",
          "2024-09-23T00:00:00.000000000",
          "2024-09-24T00:00:00.000000000",
          "2024-09-25T00:00:00.000000000",
          "2024-09-26T00:00:00.000000000",
          "2024-09-27T00:00:00.000000000",
          "2024-09-30T00:00:00.000000000",
          "2024-10-01T00:00:00.000000000",
          "2024-10-02T00:00:00.000000000",
          "2024-10-03T00:00:00.000000000",
          "2024-10-04T00:00:00.000000000",
          "2024-10-07T00:00:00.000000000",
          "2024-10-08T00:00:00.000000000",
          "2024-10-09T00:00:00.000000000",
          "2024-10-10T00:00:00.000000000",
          "2024-10-11T00:00:00.000000000",
          "2024-10-14T00:00:00.000000000",
          "2024-10-15T00:00:00.000000000",
          "2024-10-16T00:00:00.000000000",
          "2024-10-17T00:00:00.000000000",
          "2024-10-18T00:00:00.000000000",
          "2024-10-21T00:00:00.000000000",
          "2024-10-22T00:00:00.000000000",
          "2024-10-23T00:00:00.000000000",
          "2024-10-24T00:00:00.000000000",
          "2024-10-25T00:00:00.000000000",
          "2024-10-28T00:00:00.000000000",
          "2024-10-29T00:00:00.000000000",
          "2024-10-30T00:00:00.000000000",
          "2024-10-31T00:00:00.000000000",
          "2024-11-01T00:00:00.000000000",
          "2024-11-04T00:00:00.000000000",
          "2024-11-05T00:00:00.000000000",
          "2024-11-06T00:00:00.000000000",
          "2024-11-07T00:00:00.000000000",
          "2024-11-08T00:00:00.000000000",
          "2024-11-11T00:00:00.000000000",
          "2024-11-12T00:00:00.000000000",
          "2024-11-13T00:00:00.000000000",
          "2024-11-14T00:00:00.000000000",
          "2024-11-15T00:00:00.000000000",
          "2024-11-18T00:00:00.000000000",
          "2024-11-19T00:00:00.000000000",
          "2024-11-20T00:00:00.000000000",
          "2024-11-21T00:00:00.000000000",
          "2024-11-22T00:00:00.000000000",
          "2024-11-25T00:00:00.000000000",
          "2024-11-26T00:00:00.000000000",
          "2024-11-27T00:00:00.000000000",
          "2024-11-29T00:00:00.000000000",
          "2024-12-02T00:00:00.000000000",
          "2024-12-03T00:00:00.000000000",
          "2024-12-04T00:00:00.000000000",
          "2024-12-05T00:00:00.000000000",
          "2024-12-06T00:00:00.000000000",
          "2024-12-09T00:00:00.000000000",
          "2024-12-10T00:00:00.000000000",
          "2024-12-11T00:00:00.000000000",
          "2024-12-12T00:00:00.000000000",
          "2024-12-13T00:00:00.000000000",
          "2024-12-16T00:00:00.000000000",
          "2024-12-17T00:00:00.000000000",
          "2024-12-18T00:00:00.000000000",
          "2024-12-19T00:00:00.000000000",
          "2024-12-20T00:00:00.000000000",
          "2024-12-23T00:00:00.000000000",
          "2024-12-24T00:00:00.000000000",
          "2024-12-26T00:00:00.000000000",
          "2024-12-27T00:00:00.000000000",
          "2024-12-30T00:00:00.000000000",
          "2024-12-31T00:00:00.000000000",
          "2025-01-02T00:00:00.000000000",
          "2025-01-03T00:00:00.000000000",
          "2025-01-06T00:00:00.000000000",
          "2025-01-07T00:00:00.000000000",
          "2025-01-08T00:00:00.000000000",
          "2025-01-10T00:00:00.000000000",
          "2025-01-13T00:00:00.000000000",
          "2025-01-14T00:00:00.000000000",
          "2025-01-15T00:00:00.000000000",
          "2025-01-16T00:00:00.000000000",
          "2025-01-17T00:00:00.000000000",
          "2025-01-21T00:00:00.000000000",
          "2025-01-22T00:00:00.000000000",
          "2025-01-23T00:00:00.000000000",
          "2025-01-24T00:00:00.000000000",
          "2025-01-27T00:00:00.000000000",
          "2025-01-28T00:00:00.000000000",
          "2025-01-29T00:00:00.000000000",
          "2025-01-30T00:00:00.000000000",
          "2025-01-31T00:00:00.000000000",
          "2025-02-03T00:00:00.000000000",
          "2025-02-04T00:00:00.000000000",
          "2025-02-05T00:00:00.000000000",
          "2025-02-06T00:00:00.000000000",
          "2025-02-07T00:00:00.000000000",
          "2025-02-10T00:00:00.000000000",
          "2025-02-11T00:00:00.000000000",
          "2025-02-12T00:00:00.000000000",
          "2025-02-13T00:00:00.000000000",
          "2025-02-14T00:00:00.000000000",
          "2025-02-18T00:00:00.000000000",
          "2025-02-19T00:00:00.000000000"
         ],
         "y": {
          "bdata": "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",
          "dtype": "f8"
         }
        },
        {
         "line": {
          "color": "blue",
          "dash": "dash"
         },
         "name": "BB Upper",
         "type": "scatter",
         "x": [
          "2024-02-20T00:00:00.000000000",
          "2024-02-21T00:00:00.000000000",
          "2024-02-22T00:00:00.000000000",
          "2024-02-23T00:00:00.000000000",
          "2024-02-26T00:00:00.000000000",
          "2024-02-27T00:00:00.000000000",
          "2024-02-28T00:00:00.000000000",
          "2024-02-29T00:00:00.000000000",
          "2024-03-01T00:00:00.000000000",
          "2024-03-04T00:00:00.000000000",
          "2024-03-05T00:00:00.000000000",
          "2024-03-06T00:00:00.000000000",
          "2024-03-07T00:00:00.000000000",
          "2024-03-08T00:00:00.000000000",
          "2024-03-11T00:00:00.000000000",
          "2024-03-12T00:00:00.000000000",
          "2024-03-13T00:00:00.000000000",
          "2024-03-14T00:00:00.000000000",
          "2024-03-15T00:00:00.000000000",
          "2024-03-18T00:00:00.000000000",
          "2024-03-19T00:00:00.000000000",
          "2024-03-20T00:00:00.000000000",
          "2024-03-21T00:00:00.000000000",
          "2024-03-22T00:00:00.000000000",
          "2024-03-25T00:00:00.000000000",
          "2024-03-26T00:00:00.000000000",
          "2024-03-27T00:00:00.000000000",
          "2024-03-28T00:00:00.000000000",
          "2024-04-01T00:00:00.000000000",
          "2024-04-02T00:00:00.000000000",
          "2024-04-03T00:00:00.000000000",
          "2024-04-04T00:00:00.000000000",
          "2024-04-05T00:00:00.000000000",
          "2024-04-08T00:00:00.000000000",
          "2024-04-09T00:00:00.000000000",
          "2024-04-10T00:00:00.000000000",
          "2024-04-11T00:00:00.000000000",
          "2024-04-12T00:00:00.000000000",
          "2024-04-15T00:00:00.000000000",
          "2024-04-16T00:00:00.000000000",
          "2024-04-17T00:00:00.000000000",
          "2024-04-18T00:00:00.000000000",
          "2024-04-19T00:00:00.000000000",
          "2024-04-22T00:00:00.000000000",
          "2024-04-23T00:00:00.000000000",
          "2024-04-24T00:00:00.000000000",
          "2024-04-25T00:00:00.000000000",
          "2024-04-26T00:00:00.000000000",
          "2024-04-29T00:00:00.000000000",
          "2024-04-30T00:00:00.000000000",
          "2024-05-01T00:00:00.000000000",
          "2024-05-02T00:00:00.000000000",
          "2024-05-03T00:00:00.000000000",
          "2024-05-06T00:00:00.000000000",
          "2024-05-07T00:00:00.000000000",
          "2024-05-08T00:00:00.000000000",
          "2024-05-09T00:00:00.000000000",
          "2024-05-10T00:00:00.000000000",
          "2024-05-13T00:00:00.000000000",
          "2024-05-14T00:00:00.000000000",
          "2024-05-15T00:00:00.000000000",
          "2024-05-16T00:00:00.000000000",
          "2024-05-17T00:00:00.000000000",
          "2024-05-20T00:00:00.000000000",
          "2024-05-21T00:00:00.000000000",
          "2024-05-22T00:00:00.000000000",
          "2024-05-23T00:00:00.000000000",
          "2024-05-24T00:00:00.000000000",
          "2024-05-28T00:00:00.000000000",
          "2024-05-29T00:00:00.000000000",
          "2024-05-30T00:00:00.000000000",
          "2024-05-31T00:00:00.000000000",
          "2024-06-03T00:00:00.000000000",
          "2024-06-04T00:00:00.000000000",
          "2024-06-05T00:00:00.000000000",
          "2024-06-06T00:00:00.000000000",
          "2024-06-07T00:00:00.000000000",
          "2024-06-10T00:00:00.000000000",
          "2024-06-11T00:00:00.000000000",
          "2024-06-12T00:00:00.000000000",
          "2024-06-13T00:00:00.000000000",
          "2024-06-14T00:00:00.000000000",
          "2024-06-17T00:00:00.000000000",
          "2024-06-18T00:00:00.000000000",
          "2024-06-20T00:00:00.000000000",
          "2024-06-21T00:00:00.000000000",
          "2024-06-24T00:00:00.000000000",
          "2024-06-25T00:00:00.000000000",
          "2024-06-26T00:00:00.000000000",
          "2024-06-27T00:00:00.000000000",
          "2024-06-28T00:00:00.000000000",
          "2024-07-01T00:00:00.000000000",
          "2024-07-02T00:00:00.000000000",
          "2024-07-03T00:00:00.000000000",
          "2024-07-05T00:00:00.000000000",
          "2024-07-08T00:00:00.000000000",
          "2024-07-09T00:00:00.000000000",
          "2024-07-10T00:00:00.000000000",
          "2024-07-11T00:00:00.000000000",
          "2024-07-12T00:00:00.000000000",
          "2024-07-15T00:00:00.000000000",
          "2024-07-16T00:00:00.000000000",
          "2024-07-17T00:00:00.000000000",
          "2024-07-18T00:00:00.000000000",
          "2024-07-19T00:00:00.000000000",
          "2024-07-22T00:00:00.000000000",
          "2024-07-23T00:00:00.000000000",
          "2024-07-24T00:00:00.000000000",
          "2024-07-25T00:00:00.000000000",
          "2024-07-26T00:00:00.000000000",
          "2024-07-29T00:00:00.000000000",
          "2024-07-30T00:00:00.000000000",
          "2024-07-31T00:00:00.000000000",
          "2024-08-01T00:00:00.000000000",
          "2024-08-02T00:00:00.000000000",
          "2024-08-05T00:00:00.000000000",
          "2024-08-06T00:00:00.000000000",
          "2024-08-07T00:00:00.000000000",
          "2024-08-08T00:00:00.000000000",
          "2024-08-09T00:00:00.000000000",
          "2024-08-12T00:00:00.000000000",
          "2024-08-13T00:00:00.000000000",
          "2024-08-14T00:00:00.000000000",
          "2024-08-15T00:00:00.000000000",
          "2024-08-16T00:00:00.000000000",
          "2024-08-19T00:00:00.000000000",
          "2024-08-20T00:00:00.000000000",
          "2024-08-21T00:00:00.000000000",
          "2024-08-22T00:00:00.000000000",
          "2024-08-23T00:00:00.000000000",
          "2024-08-26T00:00:00.000000000",
          "2024-08-27T00:00:00.000000000",
          "2024-08-28T00:00:00.000000000",
          "2024-08-29T00:00:00.000000000",
          "2024-08-30T00:00:00.000000000",
          "2024-09-03T00:00:00.000000000",
          "2024-09-04T00:00:00.000000000",
          "2024-09-05T00:00:00.000000000",
          "2024-09-06T00:00:00.000000000",
          "2024-09-09T00:00:00.000000000",
          "2024-09-10T00:00:00.000000000",
          "2024-09-11T00:00:00.000000000",
          "2024-09-12T00:00:00.000000000",
          "2024-09-13T00:00:00.000000000",
          "2024-09-16T00:00:00.000000000",
          "2024-09-17T00:00:00.000000000",
          "2024-09-18T00:00:00.000000000",
          "2024-09-19T00:00:00.000000000",
          "2024-09-20T00:00:00.000000000",
          "2024-09-23T00:00:00.000000000",
          "2024-09-24T00:00:00.000000000",
          "2024-09-25T00:00:00.000000000",
          "2024-09-26T00:00:00.000000000",
          "2024-09-27T00:00:00.000000000",
          "2024-09-30T00:00:00.000000000",
          "2024-10-01T00:00:00.000000000",
          "2024-10-02T00:00:00.000000000",
          "2024-10-03T00:00:00.000000000",
          "2024-10-04T00:00:00.000000000",
          "2024-10-07T00:00:00.000000000",
          "2024-10-08T00:00:00.000000000",
          "2024-10-09T00:00:00.000000000",
          "2024-10-10T00:00:00.000000000",
          "2024-10-11T00:00:00.000000000",
          "2024-10-14T00:00:00.000000000",
          "2024-10-15T00:00:00.000000000",
          "2024-10-16T00:00:00.000000000",
          "2024-10-17T00:00:00.000000000",
          "2024-10-18T00:00:00.000000000",
          "2024-10-21T00:00:00.000000000",
          "2024-10-22T00:00:00.000000000",
          "2024-10-23T00:00:00.000000000",
          "2024-10-24T00:00:00.000000000",
          "2024-10-25T00:00:00.000000000",
          "2024-10-28T00:00:00.000000000",
          "2024-10-29T00:00:00.000000000",
          "2024-10-30T00:00:00.000000000",
          "2024-10-31T00:00:00.000000000",
          "2024-11-01T00:00:00.000000000",
          "2024-11-04T00:00:00.000000000",
          "2024-11-05T00:00:00.000000000",
          "2024-11-06T00:00:00.000000000",
          "2024-11-07T00:00:00.000000000",
          "2024-11-08T00:00:00.000000000",
          "2024-11-11T00:00:00.000000000",
          "2024-11-12T00:00:00.000000000",
          "2024-11-13T00:00:00.000000000",
          "2024-11-14T00:00:00.000000000",
          "2024-11-15T00:00:00.000000000",
          "2024-11-18T00:00:00.000000000",
          "2024-11-19T00:00:00.000000000",
          "2024-11-20T00:00:00.000000000",
          "2024-11-21T00:00:00.000000000",
          "2024-11-22T00:00:00.000000000",
          "2024-11-25T00:00:00.000000000",
          "2024-11-26T00:00:00.000000000",
          "2024-11-27T00:00:00.000000000",
          "2024-11-29T00:00:00.000000000",
          "2024-12-02T00:00:00.000000000",
          "2024-12-03T00:00:00.000000000",
          "2024-12-04T00:00:00.000000000",
          "2024-12-05T00:00:00.000000000",
          "2024-12-06T00:00:00.000000000",
          "2024-12-09T00:00:00.000000000",
          "2024-12-10T00:00:00.000000000",
          "2024-12-11T00:00:00.000000000",
          "2024-12-12T00:00:00.000000000",
          "2024-12-13T00:00:00.000000000",
          "2024-12-16T00:00:00.000000000",
          "2024-12-17T00:00:00.000000000",
          "2024-12-18T00:00:00.000000000",
          "2024-12-19T00:00:00.000000000",
          "2024-12-20T00:00:00.000000000",
          "2024-12-23T00:00:00.000000000",
          "2024-12-24T00:00:00.000000000",
          "2024-12-26T00:00:00.000000000",
          "2024-12-27T00:00:00.000000000",
          "2024-12-30T00:00:00.000000000",
          "2024-12-31T00:00:00.000000000",
          "2025-01-02T00:00:00.000000000",
          "2025-01-03T00:00:00.000000000",
          "2025-01-06T00:00:00.000000000",
          "2025-01-07T00:00:00.000000000",
          "2025-01-08T00:00:00.000000000",
          "2025-01-10T00:00:00.000000000",
          "2025-01-13T00:00:00.000000000",
          "2025-01-14T00:00:00.000000000",
          "2025-01-15T00:00:00.000000000",
          "2025-01-16T00:00:00.000000000",
          "2025-01-17T00:00:00.000000000",
          "2025-01-21T00:00:00.000000000",
          "2025-01-22T00:00:00.000000000",
          "2025-01-23T00:00:00.000000000",
          "2025-01-24T00:00:00.000000000",
          "2025-01-27T00:00:00.000000000",
          "2025-01-28T00:00:00.000000000",
          "2025-01-29T00:00:00.000000000",
          "2025-01-30T00:00:00.000000000",
          "2025-01-31T00:00:00.000000000",
          "2025-02-03T00:00:00.000000000",
          "2025-02-04T00:00:00.000000000",
          "2025-02-05T00:00:00.000000000",
          "2025-02-06T00:00:00.000000000",
          "2025-02-07T00:00:00.000000000",
          "2025-02-10T00:00:00.000000000",
          "2025-02-11T00:00:00.000000000",
          "2025-02-12T00:00:00.000000000",
          "2025-02-13T00:00:00.000000000",
          "2025-02-14T00:00:00.000000000",
          "2025-02-18T00:00:00.000000000",
          "2025-02-19T00:00:00.000000000"
         ],
         "y": {
          "bdata": "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",
          "dtype": "f8"
         }
        },
        {
         "line": {
          "color": "blue"
         },
         "name": "BB Middle",
         "type": "scatter",
         "x": [
          "2024-02-20T00:00:00.000000000",
          "2024-02-21T00:00:00.000000000",
          "2024-02-22T00:00:00.000000000",
          "2024-02-23T00:00:00.000000000",
          "2024-02-26T00:00:00.000000000",
          "2024-02-27T00:00:00.000000000",
          "2024-02-28T00:00:00.000000000",
          "2024-02-29T00:00:00.000000000",
          "2024-03-01T00:00:00.000000000",
          "2024-03-04T00:00:00.000000000",
          "2024-03-05T00:00:00.000000000",
          "2024-03-06T00:00:00.000000000",
          "2024-03-07T00:00:00.000000000",
          "2024-03-08T00:00:00.000000000",
          "2024-03-11T00:00:00.000000000",
          "2024-03-12T00:00:00.000000000",
          "2024-03-13T00:00:00.000000000",
          "2024-03-14T00:00:00.000000000",
          "2024-03-15T00:00:00.000000000",
          "2024-03-18T00:00:00.000000000",
          "2024-03-19T00:00:00.000000000",
          "2024-03-20T00:00:00.000000000",
          "2024-03-21T00:00:00.000000000",
          "2024-03-22T00:00:00.000000000",
          "2024-03-25T00:00:00.000000000",
          "2024-03-26T00:00:00.000000000",
          "2024-03-27T00:00:00.000000000",
          "2024-03-28T00:00:00.000000000",
          "2024-04-01T00:00:00.000000000",
          "2024-04-02T00:00:00.000000000",
          "2024-04-03T00:00:00.000000000",
          "2024-04-04T00:00:00.000000000",
          "2024-04-05T00:00:00.000000000",
          "2024-04-08T00:00:00.000000000",
          "2024-04-09T00:00:00.000000000",
          "2024-04-10T00:00:00.000000000",
          "2024-04-11T00:00:00.000000000",
          "2024-04-12T00:00:00.000000000",
          "2024-04-15T00:00:00.000000000",
          "2024-04-16T00:00:00.000000000",
          "2024-04-17T00:00:00.000000000",
          "2024-04-18T00:00:00.000000000",
          "2024-04-19T00:00:00.000000000",
          "2024-04-22T00:00:00.000000000",
          "2024-04-23T00:00:00.000000000",
          "2024-04-24T00:00:00.000000000",
          "2024-04-25T00:00:00.000000000",
          "2024-04-26T00:00:00.000000000",
          "2024-04-29T00:00:00.000000000",
          "2024-04-30T00:00:00.000000000",
          "2024-05-01T00:00:00.000000000",
          "2024-05-02T00:00:00.000000000",
          "2024-05-03T00:00:00.000000000",
          "2024-05-06T00:00:00.000000000",
          "2024-05-07T00:00:00.000000000",
          "2024-05-08T00:00:00.000000000",
          "2024-05-09T00:00:00.000000000",
          "2024-05-10T00:00:00.000000000",
          "2024-05-13T00:00:00.000000000",
          "2024-05-14T00:00:00.000000000",
          "2024-05-15T00:00:00.000000000",
          "2024-05-16T00:00:00.000000000",
          "2024-05-17T00:00:00.000000000",
          "2024-05-20T00:00:00.000000000",
          "2024-05-21T00:00:00.000000000",
          "2024-05-22T00:00:00.000000000",
          "2024-05-23T00:00:00.000000000",
          "2024-05-24T00:00:00.000000000",
          "2024-05-28T00:00:00.000000000",
          "2024-05-29T00:00:00.000000000",
          "2024-05-30T00:00:00.000000000",
          "2024-05-31T00:00:00.000000000",
          "2024-06-03T00:00:00.000000000",
          "2024-06-04T00:00:00.000000000",
          "2024-06-05T00:00:00.000000000",
          "2024-06-06T00:00:00.000000000",
          "2024-06-07T00:00:00.000000000",
          "2024-06-10T00:00:00.000000000",
          "2024-06-11T00:00:00.000000000",
          "2024-06-12T00:00:00.000000000",
          "2024-06-13T00:00:00.000000000",
          "2024-06-14T00:00:00.000000000",
          "2024-06-17T00:00:00.000000000",
          "2024-06-18T00:00:00.000000000",
          "2024-06-20T00:00:00.000000000",
          "2024-06-21T00:00:00.000000000",
          "2024-06-24T00:00:00.000000000",
          "2024-06-25T00:00:00.000000000",
          "2024-06-26T00:00:00.000000000",
          "2024-06-27T00:00:00.000000000",
          "2024-06-28T00:00:00.000000000",
          "2024-07-01T00:00:00.000000000",
          "2024-07-02T00:00:00.000000000",
          "2024-07-03T00:00:00.000000000",
          "2024-07-05T00:00:00.000000000",
          "2024-07-08T00:00:00.000000000",
          "2024-07-09T00:00:00.000000000",
          "2024-07-10T00:00:00.000000000",
          "2024-07-11T00:00:00.000000000",
          "2024-07-12T00:00:00.000000000",
          "2024-07-15T00:00:00.000000000",
          "2024-07-16T00:00:00.000000000",
          "2024-07-17T00:00:00.000000000",
          "2024-07-18T00:00:00.000000000",
          "2024-07-19T00:00:00.000000000",
          "2024-07-22T00:00:00.000000000",
          "2024-07-23T00:00:00.000000000",
          "2024-07-24T00:00:00.000000000",
          "2024-07-25T00:00:00.000000000",
          "2024-07-26T00:00:00.000000000",
          "2024-07-29T00:00:00.000000000",
          "2024-07-30T00:00:00.000000000",
          "2024-07-31T00:00:00.000000000",
          "2024-08-01T00:00:00.000000000",
          "2024-08-02T00:00:00.000000000",
          "2024-08-05T00:00:00.000000000",
          "2024-08-06T00:00:00.000000000",
          "2024-08-07T00:00:00.000000000",
          "2024-08-08T00:00:00.000000000",
          "2024-08-09T00:00:00.000000000",
          "2024-08-12T00:00:00.000000000",
          "2024-08-13T00:00:00.000000000",
          "2024-08-14T00:00:00.000000000",
          "2024-08-15T00:00:00.000000000",
          "2024-08-16T00:00:00.000000000",
          "2024-08-19T00:00:00.000000000",
          "2024-08-20T00:00:00.000000000",
          "2024-08-21T00:00:00.000000000",
          "2024-08-22T00:00:00.000000000",
          "2024-08-23T00:00:00.000000000",
          "2024-08-26T00:00:00.000000000",
          "2024-08-27T00:00:00.000000000",
          "2024-08-28T00:00:00.000000000",
          "2024-08-29T00:00:00.000000000",
          "2024-08-30T00:00:00.000000000",
          "2024-09-03T00:00:00.000000000",
          "2024-09-04T00:00:00.000000000",
          "2024-09-05T00:00:00.000000000",
          "2024-09-06T00:00:00.000000000",
          "2024-09-09T00:00:00.000000000",
          "2024-09-10T00:00:00.000000000",
          "2024-09-11T00:00:00.000000000",
          "2024-09-12T00:00:00.000000000",
          "2024-09-13T00:00:00.000000000",
          "2024-09-16T00:00:00.000000000",
          "2024-09-17T00:00:00.000000000",
          "2024-09-18T00:00:00.000000000",
          "2024-09-19T00:00:00.000000000",
          "2024-09-20T00:00:00.000000000",
          "2024-09-23T00:00:00.000000000",
          "2024-09-24T00:00:00.000000000",
          "2024-09-25T00:00:00.000000000",
          "2024-09-26T00:00:00.000000000",
          "2024-09-27T00:00:00.000000000",
          "2024-09-30T00:00:00.000000000",
          "2024-10-01T00:00:00.000000000",
          "2024-10-02T00:00:00.000000000",
          "2024-10-03T00:00:00.000000000",
          "2024-10-04T00:00:00.000000000",
          "2024-10-07T00:00:00.000000000",
          "2024-10-08T00:00:00.000000000",
          "2024-10-09T00:00:00.000000000",
          "2024-10-10T00:00:00.000000000",
          "2024-10-11T00:00:00.000000000",
          "2024-10-14T00:00:00.000000000",
          "2024-10-15T00:00:00.000000000",
          "2024-10-16T00:00:00.000000000",
          "2024-10-17T00:00:00.000000000",
          "2024-10-18T00:00:00.000000000",
          "2024-10-21T00:00:00.000000000",
          "2024-10-22T00:00:00.000000000",
          "2024-10-23T00:00:00.000000000",
          "2024-10-24T00:00:00.000000000",
          "2024-10-25T00:00:00.000000000",
          "2024-10-28T00:00:00.000000000",
          "2024-10-29T00:00:00.000000000",
          "2024-10-30T00:00:00.000000000",
          "2024-10-31T00:00:00.000000000",
          "2024-11-01T00:00:00.000000000",
          "2024-11-04T00:00:00.000000000",
          "2024-11-05T00:00:00.000000000",
          "2024-11-06T00:00:00.000000000",
          "2024-11-07T00:00:00.000000000",
          "2024-11-08T00:00:00.000000000",
          "2024-11-11T00:00:00.000000000",
          "2024-11-12T00:00:00.000000000",
          "2024-11-13T00:00:00.000000000",
          "2024-11-14T00:00:00.000000000",
          "2024-11-15T00:00:00.000000000",
          "2024-11-18T00:00:00.000000000",
          "2024-11-19T00:00:00.000000000",
          "2024-11-20T00:00:00.000000000",
          "2024-11-21T00:00:00.000000000",
          "2024-11-22T00:00:00.000000000",
          "2024-11-25T00:00:00.000000000",
          "2024-11-26T00:00:00.000000000",
          "2024-11-27T00:00:00.000000000",
          "2024-11-29T00:00:00.000000000",
          "2024-12-02T00:00:00.000000000",
          "2024-12-03T00:00:00.000000000",
          "2024-12-04T00:00:00.000000000",
          "2024-12-05T00:00:00.000000000",
          "2024-12-06T00:00:00.000000000",
          "2024-12-09T00:00:00.000000000",
          "2024-12-10T00:00:00.000000000",
          "2024-12-11T00:00:00.000000000",
          "2024-12-12T00:00:00.000000000",
          "2024-12-13T00:00:00.000000000",
          "2024-12-16T00:00:00.000000000",
          "2024-12-17T00:00:00.000000000",
          "2024-12-18T00:00:00.000000000",
          "2024-12-19T00:00:00.000000000",
          "2024-12-20T00:00:00.000000000",
          "2024-12-23T00:00:00.000000000",
          "2024-12-24T00:00:00.000000000",
          "2024-12-26T00:00:00.000000000",
          "2024-12-27T00:00:00.000000000",
          "2024-12-30T00:00:00.000000000",
          "2024-12-31T00:00:00.000000000",
          "2025-01-02T00:00:00.000000000",
          "2025-01-03T00:00:00.000000000",
          "2025-01-06T00:00:00.000000000",
          "2025-01-07T00:00:00.000000000",
          "2025-01-08T00:00:00.000000000",
          "2025-01-10T00:00:00.000000000",
          "2025-01-13T00:00:00.000000000",
          "2025-01-14T00:00:00.000000000",
          "2025-01-15T00:00:00.000000000",
          "2025-01-16T00:00:00.000000000",
          "2025-01-17T00:00:00.000000000",
          "2025-01-21T00:00:00.000000000",
          "2025-01-22T00:00:00.000000000",
          "2025-01-23T00:00:00.000000000",
          "2025-01-24T00:00:00.000000000",
          "2025-01-27T00:00:00.000000000",
          "2025-01-28T00:00:00.000000000",
          "2025-01-29T00:00:00.000000000",
          "2025-01-30T00:00:00.000000000",
          "2025-01-31T00:00:00.000000000",
          "2025-02-03T00:00:00.000000000",
          "2025-02-04T00:00:00.000000000",
          "2025-02-05T00:00:00.000000000",
          "2025-02-06T00:00:00.000000000",
          "2025-02-07T00:00:00.000000000",
          "2025-02-10T00:00:00.000000000",
          "2025-02-11T00:00:00.000000000",
          "2025-02-12T00:00:00.000000000",
          "2025-02-13T00:00:00.000000000",
          "2025-02-14T00:00:00.000000000",
          "2025-02-18T00:00:00.000000000",
          "2025-02-19T00:00:00.000000000"
         ],
         "y": {
          "bdata": "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",
          "dtype": "f8"
         }
        },
        {
         "line": {
          "color": "blue",
          "dash": "dash"
         },
         "name": "BB Lower",
         "type": "scatter",
         "x": [
          "2024-02-20T00:00:00.000000000",
          "2024-02-21T00:00:00.000000000",
          "2024-02-22T00:00:00.000000000",
          "2024-02-23T00:00:00.000000000",
          "2024-02-26T00:00:00.000000000",
          "2024-02-27T00:00:00.000000000",
          "2024-02-28T00:00:00.000000000",
          "2024-02-29T00:00:00.000000000",
          "2024-03-01T00:00:00.000000000",
          "2024-03-04T00:00:00.000000000",
          "2024-03-05T00:00:00.000000000",
          "2024-03-06T00:00:00.000000000",
          "2024-03-07T00:00:00.000000000",
          "2024-03-08T00:00:00.000000000",
          "2024-03-11T00:00:00.000000000",
          "2024-03-12T00:00:00.000000000",
          "2024-03-13T00:00:00.000000000",
          "2024-03-14T00:00:00.000000000",
          "2024-03-15T00:00:00.000000000",
          "2024-03-18T00:00:00.000000000",
          "2024-03-19T00:00:00.000000000",
          "2024-03-20T00:00:00.000000000",
          "2024-03-21T00:00:00.000000000",
          "2024-03-22T00:00:00.000000000",
          "2024-03-25T00:00:00.000000000",
          "2024-03-26T00:00:00.000000000",
          "2024-03-27T00:00:00.000000000",
          "2024-03-28T00:00:00.000000000",
          "2024-04-01T00:00:00.000000000",
          "2024-04-02T00:00:00.000000000",
          "2024-04-03T00:00:00.000000000",
          "2024-04-04T00:00:00.000000000",
          "2024-04-05T00:00:00.000000000",
          "2024-04-08T00:00:00.000000000",
          "2024-04-09T00:00:00.000000000",
          "2024-04-10T00:00:00.000000000",
          "2024-04-11T00:00:00.000000000",
          "2024-04-12T00:00:00.000000000",
          "2024-04-15T00:00:00.000000000",
          "2024-04-16T00:00:00.000000000",
          "2024-04-17T00:00:00.000000000",
          "2024-04-18T00:00:00.000000000",
          "2024-04-19T00:00:00.000000000",
          "2024-04-22T00:00:00.000000000",
          "2024-04-23T00:00:00.000000000",
          "2024-04-24T00:00:00.000000000",
          "2024-04-25T00:00:00.000000000",
          "2024-04-26T00:00:00.000000000",
          "2024-04-29T00:00:00.000000000",
          "2024-04-30T00:00:00.000000000",
          "2024-05-01T00:00:00.000000000",
          "2024-05-02T00:00:00.000000000",
          "2024-05-03T00:00:00.000000000",
          "2024-05-06T00:00:00.000000000",
          "2024-05-07T00:00:00.000000000",
          "2024-05-08T00:00:00.000000000",
          "2024-05-09T00:00:00.000000000",
          "2024-05-10T00:00:00.000000000",
          "2024-05-13T00:00:00.000000000",
          "2024-05-14T00:00:00.000000000",
          "2024-05-15T00:00:00.000000000",
          "2024-05-16T00:00:00.000000000",
          "2024-05-17T00:00:00.000000000",
          "2024-05-20T00:00:00.000000000",
          "2024-05-21T00:00:00.000000000",
          "2024-05-22T00:00:00.000000000",
          "2024-05-23T00:00:00.000000000",
          "2024-05-24T00:00:00.000000000",
          "2024-05-28T00:00:00.000000000",
          "2024-05-29T00:00:00.000000000",
          "2024-05-30T00:00:00.000000000",
          "2024-05-31T00:00:00.000000000",
          "2024-06-03T00:00:00.000000000",
          "2024-06-04T00:00:00.000000000",
          "2024-06-05T00:00:00.000000000",
          "2024-06-06T00:00:00.000000000",
          "2024-06-07T00:00:00.000000000",
          "2024-06-10T00:00:00.000000000",
          "2024-06-11T00:00:00.000000000",
          "2024-06-12T00:00:00.000000000",
          "2024-06-13T00:00:00.000000000",
          "2024-06-14T00:00:00.000000000",
          "2024-06-17T00:00:00.000000000",
          "2024-06-18T00:00:00.000000000",
          "2024-06-20T00:00:00.000000000",
          "2024-06-21T00:00:00.000000000",
          "2024-06-24T00:00:00.000000000",
          "2024-06-25T00:00:00.000000000",
          "2024-06-26T00:00:00.000000000",
          "2024-06-27T00:00:00.000000000",
          "2024-06-28T00:00:00.000000000",
          "2024-07-01T00:00:00.000000000",
          "2024-07-02T00:00:00.000000000",
          "2024-07-03T00:00:00.000000000",
          "2024-07-05T00:00:00.000000000",
          "2024-07-08T00:00:00.000000000",
          "2024-07-09T00:00:00.000000000",
          "2024-07-10T00:00:00.000000000",
          "2024-07-11T00:00:00.000000000",
          "2024-07-12T00:00:00.000000000",
          "2024-07-15T00:00:00.000000000",
          "2024-07-16T00:00:00.000000000",
          "2024-07-17T00:00:00.000000000",
          "2024-07-18T00:00:00.000000000",
          "2024-07-19T00:00:00.000000000",
          "2024-07-22T00:00:00.000000000",
          "2024-07-23T00:00:00.000000000",
          "2024-07-24T00:00:00.000000000",
          "2024-07-25T00:00:00.000000000",
          "2024-07-26T00:00:00.000000000",
          "2024-07-29T00:00:00.000000000",
          "2024-07-30T00:00:00.000000000",
          "2024-07-31T00:00:00.000000000",
          "2024-08-01T00:00:00.000000000",
          "2024-08-02T00:00:00.000000000",
          "2024-08-05T00:00:00.000000000",
          "2024-08-06T00:00:00.000000000",
          "2024-08-07T00:00:00.000000000",
          "2024-08-08T00:00:00.000000000",
          "2024-08-09T00:00:00.000000000",
          "2024-08-12T00:00:00.000000000",
          "2024-08-13T00:00:00.000000000",
          "2024-08-14T00:00:00.000000000",
          "2024-08-15T00:00:00.000000000",
          "2024-08-16T00:00:00.000000000",
          "2024-08-19T00:00:00.000000000",
          "2024-08-20T00:00:00.000000000",
          "2024-08-21T00:00:00.000000000",
          "2024-08-22T00:00:00.000000000",
          "2024-08-23T00:00:00.000000000",
          "2024-08-26T00:00:00.000000000",
          "2024-08-27T00:00:00.000000000",
          "2024-08-28T00:00:00.000000000",
          "2024-08-29T00:00:00.000000000",
          "2024-08-30T00:00:00.000000000",
          "2024-09-03T00:00:00.000000000",
          "2024-09-04T00:00:00.000000000",
          "2024-09-05T00:00:00.000000000",
          "2024-09-06T00:00:00.000000000",
          "2024-09-09T00:00:00.000000000",
          "2024-09-10T00:00:00.000000000",
          "2024-09-11T00:00:00.000000000",
          "2024-09-12T00:00:00.000000000",
          "2024-09-13T00:00:00.000000000",
          "2024-09-16T00:00:00.000000000",
          "2024-09-17T00:00:00.000000000",
          "2024-09-18T00:00:00.000000000",
          "2024-09-19T00:00:00.000000000",
          "2024-09-20T00:00:00.000000000",
          "2024-09-23T00:00:00.000000000",
          "2024-09-24T00:00:00.000000000",
          "2024-09-25T00:00:00.000000000",
          "2024-09-26T00:00:00.000000000",
          "2024-09-27T00:00:00.000000000",
          "2024-09-30T00:00:00.000000000",
          "2024-10-01T00:00:00.000000000",
          "2024-10-02T00:00:00.000000000",
          "2024-10-03T00:00:00.000000000",
          "2024-10-04T00:00:00.000000000",
          "2024-10-07T00:00:00.000000000",
          "2024-10-08T00:00:00.000000000",
          "2024-10-09T00:00:00.000000000",
          "2024-10-10T00:00:00.000000000",
          "2024-10-11T00:00:00.000000000",
          "2024-10-14T00:00:00.000000000",
          "2024-10-15T00:00:00.000000000",
          "2024-10-16T00:00:00.000000000",
          "2024-10-17T00:00:00.000000000",
          "2024-10-18T00:00:00.000000000",
          "2024-10-21T00:00:00.000000000",
          "2024-10-22T00:00:00.000000000",
          "2024-10-23T00:00:00.000000000",
          "2024-10-24T00:00:00.000000000",
          "2024-10-25T00:00:00.000000000",
          "2024-10-28T00:00:00.000000000",
          "2024-10-29T00:00:00.000000000",
          "2024-10-30T00:00:00.000000000",
          "2024-10-31T00:00:00.000000000",
          "2024-11-01T00:00:00.000000000",
          "2024-11-04T00:00:00.000000000",
          "2024-11-05T00:00:00.000000000",
          "2024-11-06T00:00:00.000000000",
          "2024-11-07T00:00:00.000000000",
          "2024-11-08T00:00:00.000000000",
          "2024-11-11T00:00:00.000000000",
          "2024-11-12T00:00:00.000000000",
          "2024-11-13T00:00:00.000000000",
          "2024-11-14T00:00:00.000000000",
          "2024-11-15T00:00:00.000000000",
          "2024-11-18T00:00:00.000000000",
          "2024-11-19T00:00:00.000000000",
          "2024-11-20T00:00:00.000000000",
          "2024-11-21T00:00:00.000000000",
          "2024-11-22T00:00:00.000000000",
          "2024-11-25T00:00:00.000000000",
          "2024-11-26T00:00:00.000000000",
          "2024-11-27T00:00:00.000000000",
          "2024-11-29T00:00:00.000000000",
          "2024-12-02T00:00:00.000000000",
          "2024-12-03T00:00:00.000000000",
          "2024-12-04T00:00:00.000000000",
          "2024-12-05T00:00:00.000000000",
          "2024-12-06T00:00:00.000000000",
          "2024-12-09T00:00:00.000000000",
          "2024-12-10T00:00:00.000000000",
          "2024-12-11T00:00:00.000000000",
          "2024-12-12T00:00:00.000000000",
          "2024-12-13T00:00:00.000000000",
          "2024-12-16T00:00:00.000000000",
          "2024-12-17T00:00:00.000000000",
          "2024-12-18T00:00:00.000000000",
          "2024-12-19T00:00:00.000000000",
          "2024-12-20T00:00:00.000000000",
          "2024-12-23T00:00:00.000000000",
          "2024-12-24T00:00:00.000000000",
          "2024-12-26T00:00:00.000000000",
          "2024-12-27T00:00:00.000000000",
          "2024-12-30T00:00:00.000000000",
          "2024-12-31T00:00:00.000000000",
          "2025-01-02T00:00:00.000000000",
          "2025-01-03T00:00:00.000000000",
          "2025-01-06T00:00:00.000000000",
          "2025-01-07T00:00:00.000000000",
          "2025-01-08T00:00:00.000000000",
          "2025-01-10T00:00:00.000000000",
          "2025-01-13T00:00:00.000000000",
          "2025-01-14T00:00:00.000000000",
          "2025-01-15T00:00:00.000000000",
          "2025-01-16T00:00:00.000000000",
          "2025-01-17T00:00:00.000000000",
          "2025-01-21T00:00:00.000000000",
          "2025-01-22T00:00:00.000000000",
          "2025-01-23T00:00:00.000000000",
          "2025-01-24T00:00:00.000000000",
          "2025-01-27T00:00:00.000000000",
          "2025-01-28T00:00:00.000000000",
          "2025-01-29T00:00:00.000000000",
          "2025-01-30T00:00:00.000000000",
          "2025-01-31T00:00:00.000000000",
          "2025-02-03T00:00:00.000000000",
          "2025-02-04T00:00:00.000000000",
          "2025-02-05T00:00:00.000000000",
          "2025-02-06T00:00:00.000000000",
          "2025-02-07T00:00:00.000000000",
          "2025-02-10T00:00:00.000000000",
          "2025-02-11T00:00:00.000000000",
          "2025-02-12T00:00:00.000000000",
          "2025-02-13T00:00:00.000000000",
          "2025-02-14T00:00:00.000000000",
          "2025-02-18T00:00:00.000000000",
          "2025-02-19T00:00:00.000000000"
         ],
         "y": {
          "bdata": "AAAAAAAA+H8AAAAAAAD4fwAAAAAAAPh/AAAAAAAA+H8AAAAAAAD4fwAAAAAAAPh/AAAAAAAA+H8AAAAAAAD4fwAAAAAAAPh/AAAAAAAA+H8AAAAAAAD4fwAAAAAAAPh/AAAAAAAA+H8AAAAAAAD4fwAAAAAAAPh/AAAAAAAA+H8AAAAAAAD4fwAAAAAAAPh/AAAAAAAA+H/qU8o2r5tkQGHZjZELnGRAvAk98QOhZEDdMMRz66BkQGDtEuPBomRA31Ge6JWeZEBUDwR9bqJkQBjiPOCVs2RAlLO3I2rEZEB599bjFdJkQNd+6sxax2RAEwMKhlHFZEAsViA5qcNkQDcaNw6gxmRA/yWk1yO8ZEDMySNWQ7VkQM0oz97IpWRAEBIlOjykZEDyc5xbFp1kQJtwPm0gnWRAPF5r3OCVZEAO65Lfqo9kQE4/Cci0mmRAlFJBjZ9+ZECT6DRZwWxkQAi36qZJYmRAwiAYdvJgZEC4bRtdo2NkQKSNRDWyYmRA6vdOt8JeZEDoSerSIWFkQOH5duqEYGRAWLJQcGphZEA/Lv3k4SZkQNLFUPLdEmRAmisGRNIBZEDP1s6wkP5jQPbdhSue6WNAW66edYndY0Bbv20HRs1jQFWIkIFoymNAXlLdWD7OY0Dl2EEVp+FjQKbX7E55DGRA8i+9dnE6ZEBvH0fo3mlkQJe+JyZ0mmRAcdL9PCXTZEB1KBZ9ihdlQJ4gBgnHRmVACavpu2qaZUA6PcCu5Q9mQBgst1U4d2ZAug8MywKDZkBW0CGno59mQOP2oh7DuGZAFkXeFlXcZkA0rTa5Xu9mQEB9UJYLIGdA9qEUteniZkAQoKhjuJVmQELz344aYWZAFMpCH1hPZkDyhsXQSThmQIbQ/HTKN2ZAdTxBhLNHZkCEIga0f2VmQGluQBN4nmZATQQ0eaPLZkCWPxqRkfpmQOWvlyv2L2dADsEcuYJsZ0BdrgaLg6NnQFiYMWNm0GdAw4iT2ckEaEBnkrnPoipoQDj+VEKmaGhAXOnC19SjaEDkT8xpPAhpQGjCHyJNI2lAfWUzq+UgaUBUfzwTFhRpQEIzx/ROF2lAVZnH+DQhaUAuD8wygzdpQOAwYH7fZ2lA/ei8b/qsaUArL1b5hPdpQLDIXqbmMmpA+BTvSl9MakAYbnFaYWNqQK7N4UJem2pACIdNpoOnakCNDDFlxK5qQLGdGBbGn2pAMfAmwqaOakBxfQmU4zdqQCgZRubV32lAVp4jKkKzaUBLsnX6t5dpQN9PONBGk2lAo269+1SraUD5TrRJYtlpQF3pFsmS7GlA1qp+0ZHqaUDuNFBf2+RpQAgrrOVZ32lAIa1WJE7aaUDiommeQdVpQIZOLRrx2GlArcG2PebYaUAU6bFcGdppQLYW0mak2mlABPlPOOXZaUDBpksDHtxpQMT3iOoV32lAQAPqIzMfakA80735ynpqQIVAA8MI0WpAchSm6fMKa0BThRJ4zy5rQNs0uuC1QmtABTeLkx5Ja0AKti/+wU1rQGCIdUZ+R2tAmhI3H2YXa0ASryuVPfNqQBBM+PNF6mpAT+ZfIj7lakCzPo19m+JqQAodyY3s4mpAEhomtqniakCxTV3M7uRqQLEVjsSq42pAGuHtt0HpakACCSsbfddqQOpQG0Q922pANK0XtO3lakB8FTAX6utqQCWNsXrr+GpAgCeh4kr8akCCt9XSQA5rQKQ4PIINFGtAUYdnKREca0A7bHlzSydrQEiAyVOyX2tArHLnyT+Za0B3IHBFm75rQKXEIhPfumtAK5KC8ISua0AKv4UqPKVrQMTNv5WZoWtAYgX6zIisa0Aro751ZLNrQPvkDrNUumtAqP7X0OK5a0CXzuZZ6cdrQJZM8+dZ02tAckXR/MXUa0CeUw1YgLtrQLbx1dFOvmtAPdhil5ava0Cauh1ba49rQMfxZu72imtATjqZEcmJa0BVeXrvwnVrQAcOEjy2ZWtABgab5dhZa0A8KzrOQlhrQDZn9Zh0VWtASVESsHlla0D0XzrPWnhrQFYpcjDheWtACyek01d7a0DMg5Sn9X1rQOLa0r87f2tAAT5m2Nt1a0BSgatUK2VrQCnfCALfUWtAxo9IZYFJa0CNSLD1Q0JrQM2pyLh9QGtAct5yqLRPa0DOsW6oDlFrQBmk57EBTGtALbjIQ99ca0DdL1SXh35rQIuqOeONoGtAsAdHmme5a0Bz+msPcehrQGvV2+HFBmxAFBx4U+Y9bECNN6fbEndsQEEWVgNWtGxAQc2qY/zzbEC0JTWmGB5tQHQKKQ6UQm1AsaUFF7mBbUACWvtc9LxtQNXwXl5k7W1AEbM3hpv0bUAB0KrdwPZtQJZMrrfbAW5AoZbqPZr9bUCI9UT0IeltQNuulYSYp21AOkz9k4BdbUCA102vPhFtQJAXDxUs7GxAQWNp02+GbECwg2KtLj9sQO+Sqh84yWtAO5cw0Kpta0B1qzoG4yRrQDHwj7nh5mpAQh9Z1lfmakD70LeKGQ9rQL8jwysNNGtAc4ieCPFQa0BmGPwu1GxrQFpcV9wUYGtA25Hn/Plla0C6WG6Cs3ZrQPC6+/lvgmtAYCDYQySIa0CVhn5dSoBrQMAr8PRtgGtACdLUd4h8a0BZQf6rnW5rQPPJsA0ZXWtAxTVWpA5Ra0AgIGfUJHBrQA==",
          "dtype": "f8"
         }
        }
       ],
       "layout": {
        "template": {
         "data": {
          "bar": [
           {
            "error_x": {
             "color": "#2a3f5f"
            },
            "error_y": {
             "color": "#2a3f5f"
            },
            "marker": {
             "line": {
              "color": "#E5ECF6",
              "width": 0.5
             },
             "pattern": {
              "fillmode": "overlay",
              "size": 10,
              "solidity": 0.2
             }
            },
            "type": "bar"
           }
          ],
          "barpolar": [
           {
            "marker": {
             "line": {
              "color": "#E5ECF6",
              "width": 0.5
             },
             "pattern": {
              "fillmode": "overlay",
              "size": 10,
              "solidity": 0.2
             }
            },
            "type": "barpolar"
           }
          ],
          "carpet": [
           {
            "aaxis": {
             "endlinecolor": "#2a3f5f",
             "gridcolor": "white",
             "linecolor": "white",
             "minorgridcolor": "white",
             "startlinecolor": "#2a3f5f"
            },
            "baxis": {
             "endlinecolor": "#2a3f5f",
             "gridcolor": "white",
             "linecolor": "white",
             "minorgridcolor": "white",
             "startlinecolor": "#2a3f5f"
            },
            "type": "carpet"
           }
          ],
          "choropleth": [
           {
            "colorbar": {
             "outlinewidth": 0,
             "ticks": ""
            },
            "type": "choropleth"
           }
          ],
          "contour": [
           {
            "colorbar": {
             "outlinewidth": 0,
             "ticks": ""
            },
            "colorscale": [
             [
              0,
              "#0d0887"
             ],
             [
              0.1111111111111111,
              "#46039f"
             ],
             [
              0.2222222222222222,
              "#7201a8"
             ],
             [
              0.3333333333333333,
              "#9c179e"
             ],
             [
              0.4444444444444444,
              "#bd3786"
             ],
             [
              0.5555555555555556,
              "#d8576b"
             ],
             [
              0.6666666666666666,
              "#ed7953"
             ],
             [
              0.7777777777777778,
              "#fb9f3a"
             ],
             [
              0.8888888888888888,
              "#fdca26"
             ],
             [
              1,
              "#f0f921"
             ]
            ],
            "type": "contour"
           }
          ],
          "contourcarpet": [
           {
            "colorbar": {
             "outlinewidth": 0,
             "ticks": ""
            },
            "type": "contourcarpet"
           }
          ],
          "heatmap": [
           {
            "colorbar": {
             "outlinewidth": 0,
             "ticks": ""
            },
            "colorscale": [
             [
              0,
              "#0d0887"
             ],
             [
              0.1111111111111111,
              "#46039f"
             ],
             [
              0.2222222222222222,
              "#7201a8"
             ],
             [
              0.3333333333333333,
              "#9c179e"
             ],
             [
              0.4444444444444444,
              "#bd3786"
             ],
             [
              0.5555555555555556,
              "#d8576b"
             ],
             [
              0.6666666666666666,
              "#ed7953"
             ],
             [
              0.7777777777777778,
              "#fb9f3a"
             ],
             [
              0.8888888888888888,
              "#fdca26"
             ],
             [
              1,
              "#f0f921"
             ]
            ],
            "type": "heatmap"
           }
          ],
          "histogram": [
           {
            "marker": {
             "pattern": {
              "fillmode": "overlay",
              "size": 10,
              "solidity": 0.2
             }
            },
            "type": "histogram"
           }
          ],
          "histogram2d": [
           {
            "colorbar": {
             "outlinewidth": 0,
             "ticks": ""
            },
            "colorscale": [
             [
              0,
              "#0d0887"
             ],
             [
              0.1111111111111111,
              "#46039f"
             ],
             [
              0.2222222222222222,
              "#7201a8"
             ],
             [
              0.3333333333333333,
              "#9c179e"
             ],
             [
              0.4444444444444444,
              "#bd3786"
             ],
             [
              0.5555555555555556,
              "#d8576b"
             ],
             [
              0.6666666666666666,
              "#ed7953"
             ],
             [
              0.7777777777777778,
              "#fb9f3a"
             ],
             [
              0.8888888888888888,
              "#fdca26"
             ],
             [
              1,
              "#f0f921"
             ]
            ],
            "type": "histogram2d"
           }
          ],
          "histogram2dcontour": [
           {
            "colorbar": {
             "outlinewidth": 0,
             "ticks": ""
            },
            "colorscale": [
             [
              0,
              "#0d0887"
             ],
             [
              0.1111111111111111,
              "#46039f"
             ],
             [
              0.2222222222222222,
              "#7201a8"
             ],
             [
              0.3333333333333333,
              "#9c179e"
             ],
             [
              0.4444444444444444,
              "#bd3786"
             ],
             [
              0.5555555555555556,
              "#d8576b"
             ],
             [
              0.6666666666666666,
              "#ed7953"
             ],
             [
              0.7777777777777778,
              "#fb9f3a"
             ],
             [
              0.8888888888888888,
              "#fdca26"
             ],
             [
              1,
              "#f0f921"
             ]
            ],
            "type": "histogram2dcontour"
           }
          ],
          "mesh3d": [
           {
            "colorbar": {
             "outlinewidth": 0,
             "ticks": ""
            },
            "type": "mesh3d"
           }
          ],
          "parcoords": [
           {
            "line": {
             "colorbar": {
              "outlinewidth": 0,
              "ticks": ""
             }
            },
            "type": "parcoords"
           }
          ],
          "pie": [
           {
            "automargin": true,
            "type": "pie"
           }
          ],
          "scatter": [
           {
            "fillpattern": {
             "fillmode": "overlay",
             "size": 10,
             "solidity": 0.2
            },
            "type": "scatter"
           }
          ],
          "scatter3d": [
           {
            "line": {
             "colorbar": {
              "outlinewidth": 0,
              "ticks": ""
             }
            },
            "marker": {
             "colorbar": {
              "outlinewidth": 0,
              "ticks": ""
             }
            },
            "type": "scatter3d"
           }
          ],
          "scattercarpet": [
           {
            "marker": {
             "colorbar": {
              "outlinewidth": 0,
              "ticks": ""
             }
            },
            "type": "scattercarpet"
           }
          ],
          "scattergeo": [
           {
            "marker": {
             "colorbar": {
              "outlinewidth": 0,
              "ticks": ""
             }
            },
            "type": "scattergeo"
           }
          ],
          "scattergl": [
           {
            "marker": {
             "colorbar": {
              "outlinewidth": 0,
              "ticks": ""
             }
            },
            "type": "scattergl"
           }
          ],
          "scattermap": [
           {
            "marker": {
             "colorbar": {
              "outlinewidth": 0,
              "ticks": ""
             }
            },
            "type": "scattermap"
           }
          ],
          "scattermapbox": [
           {
            "marker": {
             "colorbar": {
              "outlinewidth": 0,
              "ticks": ""
             }
            },
            "type": "scattermapbox"
           }
          ],
          "scatterpolar": [
           {
            "marker": {
             "colorbar": {
              "outlinewidth": 0,
              "ticks": ""
             }
            },
            "type": "scatterpolar"
           }
          ],
          "scatterpolargl": [
           {
            "marker": {
             "colorbar": {
              "outlinewidth": 0,
              "ticks": ""
             }
            },
            "type": "scatterpolargl"
           }
          ],
          "scatterternary": [
           {
            "marker": {
             "colorbar": {
              "outlinewidth": 0,
              "ticks": ""
             }
            },
            "type": "scatterternary"
           }
          ],
          "surface": [
           {
            "colorbar": {
             "outlinewidth": 0,
             "ticks": ""
            },
            "colorscale": [
             [
              0,
              "#0d0887"
             ],
             [
              0.1111111111111111,
              "#46039f"
             ],
             [
              0.2222222222222222,
              "#7201a8"
             ],
             [
              0.3333333333333333,
              "#9c179e"
             ],
             [
              0.4444444444444444,
              "#bd3786"
             ],
             [
              0.5555555555555556,
              "#d8576b"
             ],
             [
              0.6666666666666666,
              "#ed7953"
             ],
             [
              0.7777777777777778,
              "#fb9f3a"
             ],
             [
              0.8888888888888888,
              "#fdca26"
             ],
             [
              1,
              "#f0f921"
             ]
            ],
            "type": "surface"
           }
          ],
          "table": [
           {
            "cells": {
             "fill": {
              "color": "#EBF0F8"
             },
             "line": {
              "color": "white"
             }
            },
            "header": {
             "fill": {
              "color": "#C8D4E3"
             },
             "line": {
              "color": "white"
             }
            },
            "type": "table"
           }
          ]
         },
         "layout": {
          "annotationdefaults": {
           "arrowcolor": "#2a3f5f",
           "arrowhead": 0,
           "arrowwidth": 1
          },
          "autotypenumbers": "strict",
          "coloraxis": {
           "colorbar": {
            "outlinewidth": 0,
            "ticks": ""
           }
          },
          "colorscale": {
           "diverging": [
            [
             0,
             "#8e0152"
            ],
            [
             0.1,
             "#c51b7d"
            ],
            [
             0.2,
             "#de77ae"
            ],
            [
             0.3,
             "#f1b6da"
            ],
            [
             0.4,
             "#fde0ef"
            ],
            [
             0.5,
             "#f7f7f7"
            ],
            [
             0.6,
             "#e6f5d0"
            ],
            [
             0.7,
             "#b8e186"
            ],
            [
             0.8,
             "#7fbc41"
            ],
            [
             0.9,
             "#4d9221"
            ],
            [
             1,
             "#276419"
            ]
           ],
           "sequential": [
            [
             0,
             "#0d0887"
            ],
            [
             0.1111111111111111,
             "#46039f"
            ],
            [
             0.2222222222222222,
             "#7201a8"
            ],
            [
             0.3333333333333333,
             "#9c179e"
            ],
            [
             0.4444444444444444,
             "#bd3786"
            ],
            [
             0.5555555555555556,
             "#d8576b"
            ],
            [
             0.6666666666666666,
             "#ed7953"
            ],
            [
             0.7777777777777778,
             "#fb9f3a"
            ],
            [
             0.8888888888888888,
             "#fdca26"
            ],
            [
             1,
             "#f0f921"
            ]
           ],
           "sequentialminus": [
            [
             0,
             "#0d0887"
            ],
            [
             0.1111111111111111,
             "#46039f"
            ],
            [
             0.2222222222222222,
             "#7201a8"
            ],
            [
             0.3333333333333333,
             "#9c179e"
            ],
            [
             0.4444444444444444,
             "#bd3786"
            ],
            [
             0.5555555555555556,
             "#d8576b"
            ],
            [
             0.6666666666666666,
             "#ed7953"
            ],
            [
             0.7777777777777778,
             "#fb9f3a"
            ],
            [
             0.8888888888888888,
             "#fdca26"
            ],
            [
             1,
             "#f0f921"
            ]
           ]
          },
          "colorway": [
           "#636efa",
           "#EF553B",
           "#00cc96",
           "#ab63fa",
           "#FFA15A",
           "#19d3f3",
           "#FF6692",
           "#B6E880",
           "#FF97FF",
           "#FECB52"
          ],
          "font": {
           "color": "#2a3f5f"
          },
          "geo": {
           "bgcolor": "white",
           "lakecolor": "white",
           "landcolor": "#E5ECF6",
           "showlakes": true,
           "showland": true,
           "subunitcolor": "white"
          },
          "hoverlabel": {
           "align": "left"
          },
          "hovermode": "closest",
          "mapbox": {
           "style": "light"
          },
          "paper_bgcolor": "white",
          "plot_bgcolor": "#E5ECF6",
          "polar": {
           "angularaxis": {
            "gridcolor": "white",
            "linecolor": "white",
            "ticks": ""
           },
           "bgcolor": "#E5ECF6",
           "radialaxis": {
            "gridcolor": "white",
            "linecolor": "white",
            "ticks": ""
           }
          },
          "scene": {
           "xaxis": {
            "backgroundcolor": "#E5ECF6",
            "gridcolor": "white",
            "gridwidth": 2,
            "linecolor": "white",
            "showbackground": true,
            "ticks": "",
            "zerolinecolor": "white"
           },
           "yaxis": {
            "backgroundcolor": "#E5ECF6",
            "gridcolor": "white",
            "gridwidth": 2,
            "linecolor": "white",
            "showbackground": true,
            "ticks": "",
            "zerolinecolor": "white"
           },
           "zaxis": {
            "backgroundcolor": "#E5ECF6",
            "gridcolor": "white",
            "gridwidth": 2,
            "linecolor": "white",
            "showbackground": true,
            "ticks": "",
            "zerolinecolor": "white"
           }
          },
          "shapedefaults": {
           "line": {
            "color": "#2a3f5f"
           }
          },
          "ternary": {
           "aaxis": {
            "gridcolor": "white",
            "linecolor": "white",
            "ticks": ""
           },
           "baxis": {
            "gridcolor": "white",
            "linecolor": "white",
            "ticks": ""
           },
           "bgcolor": "#E5ECF6",
           "caxis": {
            "gridcolor": "white",
            "linecolor": "white",
            "ticks": ""
           }
          },
          "title": {
           "x": 0.05
          },
          "xaxis": {
           "automargin": true,
           "gridcolor": "white",
           "linecolor": "white",
           "ticks": "",
           "title": {
            "standoff": 15
           },
           "zerolinecolor": "white",
           "zerolinewidth": 2
          },
          "yaxis": {
           "automargin": true,
           "gridcolor": "white",
           "linecolor": "white",
           "ticks": "",
           "title": {
            "standoff": 15
           },
           "zerolinecolor": "white",
           "zerolinewidth": 2
          }
         }
        },
        "title": {
         "text": "AAPL Candlestick Chart with SMA and Bollinger Bands"
        },
        "xaxis": {
         "title": {
          "text": "Date"
         }
        },
        "yaxis": {
         "title": {
          "text": "Price (USD)"
         }
        }
       }
      },
      "text/html": [
       "<div>            <script src=\"https://cdnjs.cloudflare.com/ajax/libs/mathjax/2.7.5/MathJax.js?config=TeX-AMS-MML_SVG\"></script><script type=\"text/javascript\">if (window.MathJax && window.MathJax.Hub && window.MathJax.Hub.Config) {window.MathJax.Hub.Config({SVG: {font: \"STIX-Web\"}});}</script>                <script type=\"text/javascript\">window.PlotlyConfig = {MathJaxConfig: 'local'};</script>\n",
       "        <script charset=\"utf-8\" src=\"https://cdn.plot.ly/plotly-3.0.0.min.js\"></script>                <div id=\"06349f5f-5b0b-4e9b-9faa-0f20df0043ac\" class=\"plotly-graph-div\" style=\"height:525px; width:100%;\"></div>            <script type=\"text/javascript\">                window.PLOTLYENV=window.PLOTLYENV || {};                                if (document.getElementById(\"06349f5f-5b0b-4e9b-9faa-0f20df0043ac\")) {                    Plotly.newPlot(                        \"06349f5f-5b0b-4e9b-9faa-0f20df0043ac\",                        [{\"close\":{\"dtype\":\"f8\",\"bdata\":\"AAAAYJ2WZkAAAABg0q5mQAAAAOAc8GZAAAAA4DC1ZkAAAAAg4IlmQAAAAMCxuGZAAAAAICiSZkAAAABA0XxmQAAAAAAaWmZAAAAAIN7IZUAAAACAQSplQAAAAOBnCmVAAAAAgJUGZUAAAAAgrz1lQAAAAEAFfmVAAAAAwE6NZUAAAACgbEplQAAAAKD7hWVAAAAAIOF5ZUAAAAAg6pxlQAAAAGAU6GVAAAAA4JE6ZkAAAABAEVJlQAAAACANb2VAAAAAoIFBZUAAAACgMh1lQAAAACDbj2VAAAAAIJJVZUAAAADAYydlQAAAAAB9AWVAAAAAQEkbZUAAAAAA2gBlQAAAAMAOGWVAAAAAQBH1ZEAAAACA7BtlQAAAAEC632RAAAAAoPTGZUAAAACADPdlQAAAAAAcfGVAAAAAALASZUAAAAAAvOZkQAAAAKAoyGRAAAAAgC+HZEAAAACg8KFkQAAAACCzw2RAAAAAwDgHZUAAAAAg7iJlQAAAAKAjEGVAAAAAYOiVZUAAAADA8TBlQAAAAKAjEGVAAAAAQPCGZUAAAADglNBmQAAAAMBkm2ZAAAAAgF6xZkAAAACgMrxmQAAAAMB79mZAAAAAoPrNZkAAAAAg\\u002fjRnQAAAAGCrWWdAAAAAYLSiZ0AAAAAAiKZnQAAAAOB8p2dAAAAAgM3MZ0AAAAAglfZnQAAAAGBWyGdAAAAA4CBIZ0AAAAAA\\u002f6pnQAAAAKBQq2dAAAAAAOK0Z0AAAACgxtRnQAAAAIBk82dAAAAAgCksaEAAAABAXjZoQAAAAEDYZmhAAAAAgIM6aEAAAAAAYIdoQAAAAMAjD2hAAAAAYJjOaUAAAADAZotqQAAAAGC3sGpAAAAAYOd4akAAAAAgN\\u002f5qQAAAAGBPsmpAAAAA4EgfakAAAACAcNlpQAAAAGAr7mlAAAAAgNQLakAAAABgJJFqQAAAAEBArGpAAAAAYEM9akAAAABAxABrQAAAAIAHcWtAAAAAINqZa0AAAABgnjJsQAAAAADSYWxAAAAAYD99bEAAAAAAYwZtQAAAAODYWWxAAAAAgJG4bEAAAADArDNtQAAAAOARQW1AAAAAYKCDbEAAAADguu1rQAAAAEDg8WtAAAAA4Lbma0AAAACAMwhsQAAAAODaOWtAAAAAIF4Ya0AAAACAWydrQAAAAIBJMGtAAAAAoCVCa0AAAABgwaprQAAAACAdNGtAAAAAIPRja0AAAACANRJqQAAAAMAl0WlAAAAA4L8jakAAAABADpNqQAAAAICA8GpAAAAAYKwha0AAAAAgF5lrQAAAAIB1p2tAAAAAgD8HbEAAAAAAtzFsQAAAACCbLGxAAAAAAGdAbEAAAADA4zxsQAAAAIAuAWxAAAAAYPBKbEAAAACAy1VsQAAAAGDvcGxAAAAAgMM\\u002fbEAAAADAIalsQAAAAEDoj2xAAAAAIPzIa0AAAAAgrotrQAAAAECIvGtAAAAAALmKa0AAAACAmI1rQAAAAGANdGtAAAAAAHnFa0AAAAAg\\u002fMhrQAAAAEBdwGtAAAAA4An7akAAAACACwprQAAAAECShmtAAAAAoMGLbEAAAAAAXXZsQAAAAAAgP2xAAAAAoNxbbEAAAACg7jtsQAAAAMCmYGxAAAAAoEVpbEAAAABgoA9tQAAAAODSNmxAAAAAAAZJbEAAAADAlCVsQAAAAICpSWxAAAAAQICma0AAAABAxihsQAAAAEAmoWxAAAAAQC+RbEAAAAAAnGFsQAAAAIBY2WxAAAAAQMQqbUAAAAAArOhsQAAAAGB89GxAAAAAQHxPbUAAAADgvX5tQAAAAADyam1AAAAAgBrIbEAAAACgCcJsQAAAAKDb3GxAAAAA4GUcbUAAAADgBCVtQAAAAKAHs2xAAAAAoD4tbEAAAACAdM1rQAAAAOC3sGtAAAAAgLLea0AAAACAY8drQAAAAMBfX2xAAAAAYL5WbEAAAADAev9rQAAAAMB6\\u002f2tAAAAAoO0bbEAAAAAABX9sQAAAAKAXGGxAAAAAYKB4bEAAAADg74BsQAAAAKDzl2xAAAAA4JuIbEAAAADgwrNsQAAAAOCnE21AAAAAoKhZbUAAAADggFVtQAAAACA4om1AAAAAoHXqbUAAAACgRUxuQAAAAIDHV25AAAAAAL1YbkAAAABgWFJuQAAAAABUz25AAAAAoO7vbkAAAABgBMduQAAAAIAB9m5AAAAAgHD7bkAAAAAAdVhvQAAAAIBzpm9AAAAA4OH4bkAAAABAgDBvQAAAAIC8xm9AAAAAQKvfb0AAAADAqR5wQAAAAKDEK3BAAAAAwOXpb0AAAABgiX1vQAAAAKCjRG9AAAAAYKFybkAAAACg92JuQAAAAMBjl25AAAAAQDU+bkAAAADA3k1uQAAAAEDgkm1AAAAA4I9EbUAAAADgwiBtQAAAAOB6s21AAAAAQEyAbEAAAAAAR7dsQAAAAMCnzGtAAAAAgLHya0AAAACAQu1rQAAAAGAh0WtAAAAAAHGzbEAAAABA8r9tQAAAAKAb421AAAAAoIeqbUAAAADAtHdtQAAAAIBOeGxAAAAAIGsRbUAAAADA3gZtQAAAAADYHm1AAAAAAClsbEAAAADAzHRsQAAAAADXE21AAAAAANebbUAAAADA9TBuQAAAAEAzk25AAAAAQAqPbkAAAAAA15tuQA==\"},\"high\":{\"dtype\":\"f8\",\"bdata\":\"7I4\\u002f4VKyZkDAglDO+cBmQKmg8YjnAmdA2D4Pm3MFZ0AE15Gm1bxmQM3m1bXH4WZAydo8DU3IZkCjfFSuyLZmQFHShoHPdWZAXL3pUzICZkBoHtg0aGdlQOg8KWHtTWVAAIApBa89ZUC9hCIIR5xlQPNL+X7vsWVAqWUlk8mmZUB4tBDRCIxlQCQI6LC0r2VAAAAAIOF5ZUBdkRCj\\u002fhtmQIDLZLj1+GVAAAAA4JE6ZkCbWyHB\\u002fBRmQEHjA1uTh2VAwego6ThkZUCnTIsKqVNlQNCRs7UXmWVAXTj6P3VtZUBB3fMHP05lQIlwEcBpEWVAj9peWBc8ZUAeFNLGlWNlQJQx6hDbMmVA3VI6YPQMZUA+6Rt3+yhlQKdTuVBzCWVA5D9fNFXUZUA+rMtQsjBmQK1Ut8+Y+WVA6yCvPzCeZUAAAKm5IjtlQIryb0Ye+2RAAACpWcazZEBnEfiUKs9kQHD1gzl6yGRAlMJkuCMQZUDeKK+n3DllQKsT+7UcUWVA73TMuHzmZUCOkJAXXcVlQNonQxe\\u002ffGVAhmNBHFyTZUA0tlqB4ENnQGXSZOOy6mZAmYaGQP4AZ0BvV39LtcZmQIU9BYlZ+WZADUN5RQoPZ0CiBaEfJU9nQLyGb6BqdWdAsVEwW13AZ0B38dBst85nQCtItJR3xWdAcRFMWt7oZ0C+ZLCSswJoQBOeZHCSBWhAzpO90YbLZ0BJBR3JIb5nQD1cKudPC2hAVPB6l2TzZ0AAVRIUKfFnQLbd\\u002fjeZ\\u002fWdAnro2iMdKaEDDegviTVVoQPp3hryxh2hA4Yzy8e96aEBkkbtA+IhoQG4AvqxzlGhA6cquGerOaUCHuHT5y25rQPjvLWDEAGtA0x3wVWDOakDbbKBP7kZrQBokS6i5PGtArKWEX7ewakCGjBaDxGVqQEzn4b6Zf2pA0hzDnIBVakDAAz1SfcRqQLghaB+O4GpAzD04UhTrakAbDDJFARlrQL2aQ5uJdGtAAAAAINqZa0AGrkV7IDZsQN\\u002fuQ+3GYmxAuAgi3jWUbED+6HmBkwltQEMfuvyR82xA0FX2H4v7bEB\\u002fvw547o1tQLvACHZQb21AdAH28+jVbEBFxsgYYbVsQJL7FQxKQWxA837EbYtgbEAG9yoqwUVsQHW8lxmBAWxAnmLpDIeDa0A0FjdEJ1hrQCsfwOkXUmtAW5QUZPFya0CCbNbAP+JrQAaJyi9M92tAwvg\\u002fvgQbbEBWdsWNHZlqQHnW+gMsKWpA9aQqbZSdakAHpgy0cK9qQH72vU65AWtA53M54eRga0CoeZP44qxrQJi9325J0WtAmwyGKl0bbECteMa3nkpsQJvcbZPML2xA8CNs4HlVbEAHJkizVm9sQNqaenXVemxAVQtvjAB3bEBpnmzz\\u002fFhsQNQ4Zh8ei2xAwn5s312rbECcNx1xEg1tQEt5WdCbvGxA909JK+iPbEDrQ\\u002fDkX6lrQC10s5qDH2xAP9A6HNoXbEA+fQEmF5lrQAminbrLn2tAI5WlwzPTa0CIMKjX4+FrQAOXsiuJ8WtAuSoab8YXa0BsqWOljg1rQLe458gRx2tA0JHFCBeqbEDblRbnfxJtQHnRn4NGnmxA1QQ0QRWbbEBtlAazTllsQIbspD7xf2xAu+ZswIKgbEAAAABgoA9tQMJjal2ppGxA\\u002fXDSotxbbECkXLUd+0lsQFTgfkn6b2xAmwgGSjgmbECyPeS4ei9sQMOY1tjap2xAB6R+Wd+fbEBIu+Cp\\u002f5xsQFEtrUMT52xAGlkMpP2ebUA2JSgih\\u002fNsQDy\\u002fs0rEKm1Aq2l8hSl1bUDwEPNXjoptQC2SCaZwdm1AdR8jtPRTbUD8e6kgBcpsQHfwC5CmFm1AWzq+Ut1GbUBvl1\\u002fAFzptQDG6N\\u002f+hHm1AJ2yqumiqbEBMCXAaXRtsQJjsuZefyWtAYUdGganua0Dahq57WjJsQAQDx20lbGxAATJvdBWNbEAvlUjGdy5sQF49o6PzKmxAB\\u002f4bnNVMbEBHQvLmy5NsQGaGsPl2VWxAjS1uJpuvbECRHdT1B71sQMFX8sGttWxADtew\\u002fge9bEBA1kB67s5sQANkw3TNH21AOI5OCfZpbUBe740JzG1tQFRvdu6PsW1AYtUVNNEQbkCoiaTCyU9uQOEXatrwem5AEUQpga+IbkAB5BwFkItuQKCbaLf93m5A8ySLKv\\u002f9bkCjXrgYyVBvQG64fzvwDm9AAUkwsIQgb0A6PN5QU2NvQILj1JmjsW9A1T2X8gXAb0BLI8+9JHdvQGQaYMkJ129ANYnPtNDrb0BoA4KU0h5wQCnlLoQHPXBAWPOFgqcmcEAvPtlNF6dvQD7M1gQPoG9AcZNFJHIab0ClaGCfLX1uQChygCne4W5AfGZZc\\u002fiobkAiFqipJ25uQMddF\\u002fit\\u002fG1A\\u002f7kfUjFNbUBumqiSinttQMW0cHFS1m1As2LRh\\u002fS3bUAzeI23HQFtQN61LnyNBWxAk4UNhPb7a0DQYTEu+1hsQLLBsvs6LGxAdYpsBaT8bECpi76Co\\u002f1tQDpOZSAX821AoJqRNdEQbkAajlaTZN1uQG3+xKFp8mxAPgjuh\\u002fcbbUC6KF5TQw1tQM76IyhiMW1ANtVUsMY3bUAAAABA4dJsQAAAACBcZ21AAAAAYLiebUAAAABA4UpuQAAAAKCZsW5AAAAAgMKlbkAAAADgUcBuQA==\"},\"low\":{\"dtype\":\"f8\",\"bdata\":\"f6d67+1kZkDCeYqI83lmQCooh8hHs2ZAd+ZQSvSrZkA5hKHCoXlmQNxI+HHqVmZAQ1DdKRJpZkDvtB349VVmQNTPJQd8EWZAvhAO7ySfZUAT7Oi\\u002fVBplQHTiqlBk\\u002fGRAAICBQlf2ZECfd+RprARlQCxOCtO5Z2VAe+9l+JlGZUBuDcC+oz5lQOOD\\u002ftK5Z2VA2xaEdKsvZUAsVCRzi5ZlQL2aeSzwhmVAToBEVIzIZUAxDaznL0FlQIIk0ldYKGVA0KtHpuoUZUBBuE+hDhllQKQC4\\u002fLvKWVAqnlcOK02ZUC1prNM3xVlQEM5FVwP7mRAfkPNETX5ZEAAAAAA2gBlQDESIgH+BGVAh6ucFWHuZEBW3IDx4fFkQECpeGtjymRAJiHHoNTrZECad9VWhaxlQGtOpdAOdmVATZbym1XvZEAAAAAAvOZkQCtcUH2NuGRAAICAS+JpZEBopnxx3H9kQOo+wzqjhGRA+NW3brmtZECRcnT9gutkQPcr0B5RDGVAJB1EBiuJZUBXVXUUbyZlQFlQpnAWCmVAsedXw8dCZUBCqlNYprlmQPQs8alOcmZAtuIe1PiOZkBNh1eKHJNmQJzsKBUiqGZAKHfLPqOwZkB2EintDABnQCQtKMhPNWdAy3DQm8FXZ0CuwWRwyqBnQGHKGk97kWdA5RL6cw+MZ0DdX169+chnQOlmhMk+tGdAgwc1vCdAZ0BJEQO8H21nQOVfIizujmdARhNIpwGcZ0CC5y4cur9nQIpjIXbDqGdA3gtNDwH8Z0A2eKP4RAxoQBK3vbDzRmhA1NmogaAwaEBt6YV2qy9oQOAW9R008GdAkJgMoGcfaEAKYO5On8ZpQBcID\\u002fGEXGpAtp5fh\\u002fNSakCqYqgjPYBqQMJY8SUriWpAsOpcZtAEakAirHHtUc1pQHIxeki8vGlA09Zyvyj9aUCdp3Te5j1qQBkOUkVwdGpAtGHpxw4zakCoAsRpuWZqQLS1X74kzGpATpycZntJa0BQbSOSCp1rQLFwROcR0GtAs19HQ5MzbEDfDYI6bY9sQICClaRwIGxAkJAOaj99bEDVYVoy5QltQHFe1hOo8WxArpCgty88bEBNeUGp0LBrQLcmlsMG0WtAagGMn\\u002ffKa0DE7rAP5L1rQF+FrvDiDGtAPF8KwdW8akAL+UCCKulqQAWRvbPf4GpASPZ9iqzsakCFQurJgnxrQKr9TqVgCWtAjocJX2Ifa0CF\\u002fxnB\\u002fWpoQAYclCewDGlA69tBX1u2aUDvA3wOLQRqQD8wPctRaGpAaSl9mAzkakC1kpvI7VBrQLB0Bvf1ZmtAu73GYqrIa0CrAA9NFeVrQA8NfyWb0WtACx21kY4ebECtUmbpyBFsQIHnatUQ7WtABhGyp8v6a0AKLfwPv+xrQK89fP2sDGxAlYKHcuYlbEAEcNl+E4xsQABAW7hfX2xACsnyqOWVa0A+0oKgEyBrQFRH0JgSoWtA0a+pQzJpa0Aq9zevfQdrQO7ISy4hCGtA6XV\\u002f8Cota0DvxG7SymprQNn+LJ2GrWtA3IktLWiuakCvx58S7cBqQAsWUAv+IWtA++AJ518EbEDBZDMP2GNsQDDnpR8NKmxA8+jlQH8nbEB9eq\\u002fG5fBrQGqTk5VHHWxALw+ncKBZbEBvIxZkqaRsQE5dZA\\u002f152tAc8BVxPfQa0BD3e7mi9prQDu\\u002ffuho9GtAfA77mQGba0DyCcu1T9hrQAq5UrvCCmxAdVQJ5HlVbECdZSxn51psQPSOybIig2xArfspoIL7bECE3J9muqpsQMQ10NJwwGxAh8yE798vbUB\\u002ffPuk7D1tQPHHuMXaAm1AKzhUeFBobEAtp5O7EX1sQPnmHHobomxAzB+XCkIBbUBIZFcJ6vlsQEdFFeV3oWxAYrv6lgAcbECDt6geKXlrQAL5j8BHZ2tA7peUjvCUa0CeCFlGiZZrQLkwz3l1AmxAC1nPsilFbECUfb4vN6hrQPZJx5Or42tA6KuMu33Qa0Dc\\u002fD64FxhsQLwbZBHCAGxAzvU8xIYdbECiB0xzJ01sQBy7RHuKNGxATPsXqMkubECQONCo53lsQGoHEimbr2xAfEKoEFwibUD0QY\\u002fzszFtQCjz1DrRNm1AW7bs\\u002fMicbUBwwyFdZ9RtQFmns3WFH25ANqnoj6Y7bkAFg3pWDTpuQB0DHPyAL25AlOgH3UGibkCLoskxqr9uQK73WSMgrW5ABYZAoQa\\u002fbkCilgSgGOxuQFAwMmouMG9AcKoCKvnubkCaYcIqMtpuQEjyQQxyrW5ApNfTH36lb0BnBmDOTuBvQJpxy4CNFXBALI8QwwaZb0CZk50LME9vQEHqLmj+JG9AoCZ3470xbkCNDr2Z+jNuQPbhy1HaXW5Advm+3LcibkC1AbPXKfltQLmAtaPPF21AR2z\\u002feveubEDHOqmp3gZtQK\\u002feJ1OFRW1A6cm5MfJ4bEAK8dZ+VIdsQJCnpTRzZGtAYyluGY5xa0A2BV6cycFrQBAPdLNWpWtAKfeA53z3a0Dk6xHnztFsQHsHLoIYOG1AhjQ3K2KebUCG0yZI4CVtQGJOYch3LmxAmArjlNVMbECCpWopnoBsQKmq8VmpxWxAGZ85NFVgbEAAAABgZmZsQAAAAAAphGxAAAAAgMLVbEAAAACAPXJtQAAAACCuH25AAAAAQOE6bkAAAADAHmVuQA==\"},\"open\":{\"dtype\":\"f8\",\"bdata\":\"kBgkpfCdZkBRUzkBuKJmQLKYr0PE02ZAPge6An8EZ0DDOo7rRaxmQNEmqOf2h2ZA3ehBad+0ZkBZEe4aYY1mQAATJByZVmZAr4OqM0\\u002fqZUAjCki8oz5lQI0ZUq8xSGVAAACpeVwLZUC24ZCalQZlQJgCX28ShGVAPRyAdMKKZUDjQ3xcqH5lQAu9\\u002fNYdg2VAIVsuk7JLZUC4VZkm1tdlQAylSj2psGVAPeL6Ep3cZUAWO8wx+QZmQDbZCkV9XmVA\\u002fjugp5Y4ZUA1DN0VbyZlQGlOFQZ+M2VAU2vUmiteZUDrR0bXVUxlQAffieIhCWVAyEUiPOX\\u002fZEA6m\\u002fmHqy9lQMZKfz1gGWVAk5qtS4oHZUAxVRWYB\\u002f1kQBRv4to2AGVAxc7HMpDxZECsZSjqHK5lQCN1wdQl0WVAmmHLwSteZUAAgNUjAxplQK7vkKKw52RAAIAsSrmtZECUVLyRv5dkQGXtnkxVkmRA1mhx+ju4ZECRayjcdhdlQJfAi6ucImVAltxNYcSRZUBsbFxAfpBlQJ5uWpgOGWVAOfsKZWB2ZUAUEAO7ujhnQF0IW\\u002fzGr2ZAQQBks8\\u002fSZkAlHdWDs79mQHmgHCJ3tmZAonsz\\u002fPoIZ0AYGMrsMxpnQA\\u002fLAo44XGdA5qR6ivpoZ0C8eGi2n7pnQLBk66ABnGdAvMELLESWZ0As+C6zZc5nQJZdBugH9GdAFGJEfuPKZ0B00Z00AIZnQKN6RKrK22dA0PzDKDKfZ0DibQ1r38NnQJ8jHTqP2WdAByb6gR8IaEDJS+PqnT9oQJUKo+XaV2hANiX9qxphaEA2kNpX7z9oQGmrrsaxh2hAGxCh0wogaEDqvEepnNVpQBluraepwGpAkhFyLkekakCSeKAN+JRqQNLUJHKOG2tAaLU\\u002fQdSmakC5VDus7TVqQPtNaEbG4GlATokcjmEOakDk6zZlVFlqQCGna08Rv2pAA+e17YLhakDSSZBfJWxqQLiLYm6h7WpAPqGDCGtoa0BQbSOSCp1rQD54KciJSmxA20Ka9FNlbEBeAj97BZFsQHXpe22t02xA7nYT9OaEbEBgFZcMA3ZtQIqFlW\\u002fPRm1AUxHpG86VbEAYgsa8RrBsQHgSQkEkAmxAf6XNrvxHbEBQs9YvyvNrQOODVm3952tA44p7\\u002fEpGa0D3GMox9T5rQCuttd92B2tA+BhWzJVOa0AVe9sPWJZrQH8miBTK82tAznCTO09Na0DTePc2is1oQNAkdzWYk2lAc52gQJ\\u002fGaUDDiOlcrYxqQAVrADp3bGpAXrjrYw7zakC1kpvI7VBrQKnHPHC9gmtAOamiqGoDbECKF5NRtO1rQAgL6o4tJ2xAv4TyT8YobEBBbEq3uEBsQIT7dLpFaWxABK5qGkMlbEBrnkpuYkhsQMrmTCUeMGxAKkckRmxtbEDeUkXMB7NsQPVBdlfntWxAQ\\u002fnH44mBbEBz0JINi6VrQLUIMr6VpGtA2oI1kanua0BPIXveuIprQF\\u002fgcUgOTmtAZqqlNiifa0CcZIYbXcBrQCG+JTLZ4mtAokzcChACa0AbY7eV1uhqQFyJNt1PImtAGmsTjd4PbEDe\\u002fDwI4a5sQPBkPFnnWmxAI\\u002f8OWbuEbEDSb88H9A1sQNRcNnWgWWxAZuo\\u002fUqp+bEAqqvw\\u002fHbFsQGKFEtSCoGxAoQbRIpssbEBms+uIqBRsQOYhEdbIbGxAFqOSMjkAbEAERgpy1vlrQHGDMkmIF2xA2pvACvRobEDap3qEfJlsQG0DSAZUhmxAy0pXcRojbUC5dPO87OJsQMUVDBlbHW1Aq2l8hSl1bUB\\u002ffPuk7D1tQJLnujALLG1AXUHlRRwybUBYAjbdMq9sQFh4LwuJp2xA28hfENgZbUA9uRTB0RJtQPnzBFgsA21Ard1ba8OabEDoFcnmgo9rQMaki3kmkGtArkj3bgOqa0BNd5pa4MNrQPBWfuVfBGxAlM9UvHRdbEC3ZoWyFxhsQMH\\u002f9F61CWxAjTONfHL4a0BnLixquxhsQHLcaMfXRGxAwpj5axUgbEAqSETyYVdsQOfdG5XneWxAfTXVwh2UbECQONCo53lsQE5Ehe+V5mxAfEKoEFwibUAnaXLDzEZtQCz2IeyqUW1AflKQH02gbUBb8C3tffFtQK8BdOJNU25AVEXo8xp3bkDv8MA+lVRuQMby2KMPMm5AHLbpis3TbkAr+R9mAfZuQFujc6DN025AoiMFyofxbkDc0uLw9vZuQMsXM1fFOW9AqyWHBUJ8b0BhcGs6TeduQFYIvAeQ+G5AEKmYv6\\u002fPb0DhpLSBs+ZvQFOc3buAHnBA85pwzL8YcEBxPOjafn5vQGFVhVM1hW9AgCnY6wIVb0AAAACg92JuQEmSOXVVgW5AgWSREtJWbkD41Y8E8DRuQGJim3Hi921ApanHs8AobUCzXCjmv09tQHyodc87TG1A1ujm19uibUCjzRifrvtsQL00jaMg+GtAYyluGY5xa0DQXYcoyA9sQD96e2EPEWxAFvtZS8T4a0ARyutKFtNsQAtR06ScO21A7Q15SA3NbUAajlaTZN1uQBPipO+Yt2xAQ0jvbgNgbEAsJ5my7YhsQJsVMb0m4WxAu8LciAYLbUAAAACAPbJsQAAAAGBmhmxAAAAAYGbmbEAAAADAHp1tQAAAAAAAKG5AAAAAwMyEbkAAAADAHpVuQA==\"},\"x\":[\"2024-02-20T00:00:00.000000000\",\"2024-02-21T00:00:00.000000000\",\"2024-02-22T00:00:00.000000000\",\"2024-02-23T00:00:00.000000000\",\"2024-02-26T00:00:00.000000000\",\"2024-02-27T00:00:00.000000000\",\"2024-02-28T00:00:00.000000000\",\"2024-02-29T00:00:00.000000000\",\"2024-03-01T00:00:00.000000000\",\"2024-03-04T00:00:00.000000000\",\"2024-03-05T00:00:00.000000000\",\"2024-03-06T00:00:00.000000000\",\"2024-03-07T00:00:00.000000000\",\"2024-03-08T00:00:00.000000000\",\"2024-03-11T00:00:00.000000000\",\"2024-03-12T00:00:00.000000000\",\"2024-03-13T00:00:00.000000000\",\"2024-03-14T00:00:00.000000000\",\"2024-03-15T00:00:00.000000000\",\"2024-03-18T00:00:00.000000000\",\"2024-03-19T00:00:00.000000000\",\"2024-03-20T00:00:00.000000000\",\"2024-03-21T00:00:00.000000000\",\"2024-03-22T00:00:00.000000000\",\"2024-03-25T00:00:00.000000000\",\"2024-03-26T00:00:00.000000000\",\"2024-03-27T00:00:00.000000000\",\"2024-03-28T00:00:00.000000000\",\"2024-04-01T00:00:00.000000000\",\"2024-04-02T00:00:00.000000000\",\"2024-04-03T00:00:00.000000000\",\"2024-04-04T00:00:00.000000000\",\"2024-04-05T00:00:00.000000000\",\"2024-04-08T00:00:00.000000000\",\"2024-04-09T00:00:00.000000000\",\"2024-04-10T00:00:00.000000000\",\"2024-04-11T00:00:00.000000000\",\"2024-04-12T00:00:00.000000000\",\"2024-04-15T00:00:00.000000000\",\"2024-04-16T00:00:00.000000000\",\"2024-04-17T00:00:00.000000000\",\"2024-04-18T00:00:00.000000000\",\"2024-04-19T00:00:00.000000000\",\"2024-04-22T00:00:00.000000000\",\"2024-04-23T00:00:00.000000000\",\"2024-04-24T00:00:00.000000000\",\"2024-04-25T00:00:00.000000000\",\"2024-04-26T00:00:00.000000000\",\"2024-04-29T00:00:00.000000000\",\"2024-04-30T00:00:00.000000000\",\"2024-05-01T00:00:00.000000000\",\"2024-05-02T00:00:00.000000000\",\"2024-05-03T00:00:00.000000000\",\"2024-05-06T00:00:00.000000000\",\"2024-05-07T00:00:00.000000000\",\"2024-05-08T00:00:00.000000000\",\"2024-05-09T00:00:00.000000000\",\"2024-05-10T00:00:00.000000000\",\"2024-05-13T00:00:00.000000000\",\"2024-05-14T00:00:00.000000000\",\"2024-05-15T00:00:00.000000000\",\"2024-05-16T00:00:00.000000000\",\"2024-05-17T00:00:00.000000000\",\"2024-05-20T00:00:00.000000000\",\"2024-05-21T00:00:00.000000000\",\"2024-05-22T00:00:00.000000000\",\"2024-05-23T00:00:00.000000000\",\"2024-05-24T00:00:00.000000000\",\"2024-05-28T00:00:00.000000000\",\"2024-05-29T00:00:00.000000000\",\"2024-05-30T00:00:00.000000000\",\"2024-05-31T00:00:00.000000000\",\"2024-06-03T00:00:00.000000000\",\"2024-06-04T00:00:00.000000000\",\"2024-06-05T00:00:00.000000000\",\"2024-06-06T00:00:00.000000000\",\"2024-06-07T00:00:00.000000000\",\"2024-06-10T00:00:00.000000000\",\"2024-06-11T00:00:00.000000000\",\"2024-06-12T00:00:00.000000000\",\"2024-06-13T00:00:00.000000000\",\"2024-06-14T00:00:00.000000000\",\"2024-06-17T00:00:00.000000000\",\"2024-06-18T00:00:00.000000000\",\"2024-06-20T00:00:00.000000000\",\"2024-06-21T00:00:00.000000000\",\"2024-06-24T00:00:00.000000000\",\"2024-06-25T00:00:00.000000000\",\"2024-06-26T00:00:00.000000000\",\"2024-06-27T00:00:00.000000000\",\"2024-06-28T00:00:00.000000000\",\"2024-07-01T00:00:00.000000000\",\"2024-07-02T00:00:00.000000000\",\"2024-07-03T00:00:00.000000000\",\"2024-07-05T00:00:00.000000000\",\"2024-07-08T00:00:00.000000000\",\"2024-07-09T00:00:00.000000000\",\"2024-07-10T00:00:00.000000000\",\"2024-07-11T00:00:00.000000000\",\"2024-07-12T00:00:00.000000000\",\"2024-07-15T00:00:00.000000000\",\"2024-07-16T00:00:00.000000000\",\"2024-07-17T00:00:00.000000000\",\"2024-07-18T00:00:00.000000000\",\"2024-07-19T00:00:00.000000000\",\"2024-07-22T00:00:00.000000000\",\"2024-07-23T00:00:00.000000000\",\"2024-07-24T00:00:00.000000000\",\"2024-07-25T00:00:00.000000000\",\"2024-07-26T00:00:00.000000000\",\"2024-07-29T00:00:00.000000000\",\"2024-07-30T00:00:00.000000000\",\"2024-07-31T00:00:00.000000000\",\"2024-08-01T00:00:00.000000000\",\"2024-08-02T00:00:00.000000000\",\"2024-08-05T00:00:00.000000000\",\"2024-08-06T00:00:00.000000000\",\"2024-08-07T00:00:00.000000000\",\"2024-08-08T00:00:00.000000000\",\"2024-08-09T00:00:00.000000000\",\"2024-08-12T00:00:00.000000000\",\"2024-08-13T00:00:00.000000000\",\"2024-08-14T00:00:00.000000000\",\"2024-08-15T00:00:00.000000000\",\"2024-08-16T00:00:00.000000000\",\"2024-08-19T00:00:00.000000000\",\"2024-08-20T00:00:00.000000000\",\"2024-08-21T00:00:00.000000000\",\"2024-08-22T00:00:00.000000000\",\"2024-08-23T00:00:00.000000000\",\"2024-08-26T00:00:00.000000000\",\"2024-08-27T00:00:00.000000000\",\"2024-08-28T00:00:00.000000000\",\"2024-08-29T00:00:00.000000000\",\"2024-08-30T00:00:00.000000000\",\"2024-09-03T00:00:00.000000000\",\"2024-09-04T00:00:00.000000000\",\"2024-09-05T00:00:00.000000000\",\"2024-09-06T00:00:00.000000000\",\"2024-09-09T00:00:00.000000000\",\"2024-09-10T00:00:00.000000000\",\"2024-09-11T00:00:00.000000000\",\"2024-09-12T00:00:00.000000000\",\"2024-09-13T00:00:00.000000000\",\"2024-09-16T00:00:00.000000000\",\"2024-09-17T00:00:00.000000000\",\"2024-09-18T00:00:00.000000000\",\"2024-09-19T00:00:00.000000000\",\"2024-09-20T00:00:00.000000000\",\"2024-09-23T00:00:00.000000000\",\"2024-09-24T00:00:00.000000000\",\"2024-09-25T00:00:00.000000000\",\"2024-09-26T00:00:00.000000000\",\"2024-09-27T00:00:00.000000000\",\"2024-09-30T00:00:00.000000000\",\"2024-10-01T00:00:00.000000000\",\"2024-10-02T00:00:00.000000000\",\"2024-10-03T00:00:00.000000000\",\"2024-10-04T00:00:00.000000000\",\"2024-10-07T00:00:00.000000000\",\"2024-10-08T00:00:00.000000000\",\"2024-10-09T00:00:00.000000000\",\"2024-10-10T00:00:00.000000000\",\"2024-10-11T00:00:00.000000000\",\"2024-10-14T00:00:00.000000000\",\"2024-10-15T00:00:00.000000000\",\"2024-10-16T00:00:00.000000000\",\"2024-10-17T00:00:00.000000000\",\"2024-10-18T00:00:00.000000000\",\"2024-10-21T00:00:00.000000000\",\"2024-10-22T00:00:00.000000000\",\"2024-10-23T00:00:00.000000000\",\"2024-10-24T00:00:00.000000000\",\"2024-10-25T00:00:00.000000000\",\"2024-10-28T00:00:00.000000000\",\"2024-10-29T00:00:00.000000000\",\"2024-10-30T00:00:00.000000000\",\"2024-10-31T00:00:00.000000000\",\"2024-11-01T00:00:00.000000000\",\"2024-11-04T00:00:00.000000000\",\"2024-11-05T00:00:00.000000000\",\"2024-11-06T00:00:00.000000000\",\"2024-11-07T00:00:00.000000000\",\"2024-11-08T00:00:00.000000000\",\"2024-11-11T00:00:00.000000000\",\"2024-11-12T00:00:00.000000000\",\"2024-11-13T00:00:00.000000000\",\"2024-11-14T00:00:00.000000000\",\"2024-11-15T00:00:00.000000000\",\"2024-11-18T00:00:00.000000000\",\"2024-11-19T00:00:00.000000000\",\"2024-11-20T00:00:00.000000000\",\"2024-11-21T00:00:00.000000000\",\"2024-11-22T00:00:00.000000000\",\"2024-11-25T00:00:00.000000000\",\"2024-11-26T00:00:00.000000000\",\"2024-11-27T00:00:00.000000000\",\"2024-11-29T00:00:00.000000000\",\"2024-12-02T00:00:00.000000000\",\"2024-12-03T00:00:00.000000000\",\"2024-12-04T00:00:00.000000000\",\"2024-12-05T00:00:00.000000000\",\"2024-12-06T00:00:00.000000000\",\"2024-12-09T00:00:00.000000000\",\"2024-12-10T00:00:00.000000000\",\"2024-12-11T00:00:00.000000000\",\"2024-12-12T00:00:00.000000000\",\"2024-12-13T00:00:00.000000000\",\"2024-12-16T00:00:00.000000000\",\"2024-12-17T00:00:00.000000000\",\"2024-12-18T00:00:00.000000000\",\"2024-12-19T00:00:00.000000000\",\"2024-12-20T00:00:00.000000000\",\"2024-12-23T00:00:00.000000000\",\"2024-12-24T00:00:00.000000000\",\"2024-12-26T00:00:00.000000000\",\"2024-12-27T00:00:00.000000000\",\"2024-12-30T00:00:00.000000000\",\"2024-12-31T00:00:00.000000000\",\"2025-01-02T00:00:00.000000000\",\"2025-01-03T00:00:00.000000000\",\"2025-01-06T00:00:00.000000000\",\"2025-01-07T00:00:00.000000000\",\"2025-01-08T00:00:00.000000000\",\"2025-01-10T00:00:00.000000000\",\"2025-01-13T00:00:00.000000000\",\"2025-01-14T00:00:00.000000000\",\"2025-01-15T00:00:00.000000000\",\"2025-01-16T00:00:00.000000000\",\"2025-01-17T00:00:00.000000000\",\"2025-01-21T00:00:00.000000000\",\"2025-01-22T00:00:00.000000000\",\"2025-01-23T00:00:00.000000000\",\"2025-01-24T00:00:00.000000000\",\"2025-01-27T00:00:00.000000000\",\"2025-01-28T00:00:00.000000000\",\"2025-01-29T00:00:00.000000000\",\"2025-01-30T00:00:00.000000000\",\"2025-01-31T00:00:00.000000000\",\"2025-02-03T00:00:00.000000000\",\"2025-02-04T00:00:00.000000000\",\"2025-02-05T00:00:00.000000000\",\"2025-02-06T00:00:00.000000000\",\"2025-02-07T00:00:00.000000000\",\"2025-02-10T00:00:00.000000000\",\"2025-02-11T00:00:00.000000000\",\"2025-02-12T00:00:00.000000000\",\"2025-02-13T00:00:00.000000000\",\"2025-02-14T00:00:00.000000000\",\"2025-02-18T00:00:00.000000000\",\"2025-02-19T00:00:00.000000000\"],\"type\":\"candlestick\"},{\"name\":\"SMA10\",\"x\":[\"2024-02-20T00:00:00.000000000\",\"2024-02-21T00:00:00.000000000\",\"2024-02-22T00:00:00.000000000\",\"2024-02-23T00:00:00.000000000\",\"2024-02-26T00:00:00.000000000\",\"2024-02-27T00:00:00.000000000\",\"2024-02-28T00:00:00.000000000\",\"2024-02-29T00:00:00.000000000\",\"2024-03-01T00:00:00.000000000\",\"2024-03-04T00:00:00.000000000\",\"2024-03-05T00:00:00.000000000\",\"2024-03-06T00:00:00.000000000\",\"2024-03-07T00:00:00.000000000\",\"2024-03-08T00:00:00.000000000\",\"2024-03-11T00:00:00.000000000\",\"2024-03-12T00:00:00.000000000\",\"2024-03-13T00:00:00.000000000\",\"2024-03-14T00:00:00.000000000\",\"2024-03-15T00:00:00.000000000\",\"2024-03-18T00:00:00.000000000\",\"2024-03-19T00:00:00.000000000\",\"2024-03-20T00:00:00.000000000\",\"2024-03-21T00:00:00.000000000\",\"2024-03-22T00:00:00.000000000\",\"2024-03-25T00:00:00.000000000\",\"2024-03-26T00:00:00.000000000\",\"2024-03-27T00:00:00.000000000\",\"2024-03-28T00:00:00.000000000\",\"2024-04-01T00:00:00.000000000\",\"2024-04-02T00:00:00.000000000\",\"2024-04-03T00:00:00.000000000\",\"2024-04-04T00:00:00.000000000\",\"2024-04-05T00:00:00.000000000\",\"2024-04-08T00:00:00.000000000\",\"2024-04-09T00:00:00.000000000\",\"2024-04-10T00:00:00.000000000\",\"2024-04-11T00:00:00.000000000\",\"2024-04-12T00:00:00.000000000\",\"2024-04-15T00:00:00.000000000\",\"2024-04-16T00:00:00.000000000\",\"2024-04-17T00:00:00.000000000\",\"2024-04-18T00:00:00.000000000\",\"2024-04-19T00:00:00.000000000\",\"2024-04-22T00:00:00.000000000\",\"2024-04-23T00:00:00.000000000\",\"2024-04-24T00:00:00.000000000\",\"2024-04-25T00:00:00.000000000\",\"2024-04-26T00:00:00.000000000\",\"2024-04-29T00:00:00.000000000\",\"2024-04-30T00:00:00.000000000\",\"2024-05-01T00:00:00.000000000\",\"2024-05-02T00:00:00.000000000\",\"2024-05-03T00:00:00.000000000\",\"2024-05-06T00:00:00.000000000\",\"2024-05-07T00:00:00.000000000\",\"2024-05-08T00:00:00.000000000\",\"2024-05-09T00:00:00.000000000\",\"2024-05-10T00:00:00.000000000\",\"2024-05-13T00:00:00.000000000\",\"2024-05-14T00:00:00.000000000\",\"2024-05-15T00:00:00.000000000\",\"2024-05-16T00:00:00.000000000\",\"2024-05-17T00:00:00.000000000\",\"2024-05-20T00:00:00.000000000\",\"2024-05-21T00:00:00.000000000\",\"2024-05-22T00:00:00.000000000\",\"2024-05-23T00:00:00.000000000\",\"2024-05-24T00:00:00.000000000\",\"2024-05-28T00:00:00.000000000\",\"2024-05-29T00:00:00.000000000\",\"2024-05-30T00:00:00.000000000\",\"2024-05-31T00:00:00.000000000\",\"2024-06-03T00:00:00.000000000\",\"2024-06-04T00:00:00.000000000\",\"2024-06-05T00:00:00.000000000\",\"2024-06-06T00:00:00.000000000\",\"2024-06-07T00:00:00.000000000\",\"2024-06-10T00:00:00.000000000\",\"2024-06-11T00:00:00.000000000\",\"2024-06-12T00:00:00.000000000\",\"2024-06-13T00:00:00.000000000\",\"2024-06-14T00:00:00.000000000\",\"2024-06-17T00:00:00.000000000\",\"2024-06-18T00:00:00.000000000\",\"2024-06-20T00:00:00.000000000\",\"2024-06-21T00:00:00.000000000\",\"2024-06-24T00:00:00.000000000\",\"2024-06-25T00:00:00.000000000\",\"2024-06-26T00:00:00.000000000\",\"2024-06-27T00:00:00.000000000\",\"2024-06-28T00:00:00.000000000\",\"2024-07-01T00:00:00.000000000\",\"2024-07-02T00:00:00.000000000\",\"2024-07-03T00:00:00.000000000\",\"2024-07-05T00:00:00.000000000\",\"2024-07-08T00:00:00.000000000\",\"2024-07-09T00:00:00.000000000\",\"2024-07-10T00:00:00.000000000\",\"2024-07-11T00:00:00.000000000\",\"2024-07-12T00:00:00.000000000\",\"2024-07-15T00:00:00.000000000\",\"2024-07-16T00:00:00.000000000\",\"2024-07-17T00:00:00.000000000\",\"2024-07-18T00:00:00.000000000\",\"2024-07-19T00:00:00.000000000\",\"2024-07-22T00:00:00.000000000\",\"2024-07-23T00:00:00.000000000\",\"2024-07-24T00:00:00.000000000\",\"2024-07-25T00:00:00.000000000\",\"2024-07-26T00:00:00.000000000\",\"2024-07-29T00:00:00.000000000\",\"2024-07-30T00:00:00.000000000\",\"2024-07-31T00:00:00.000000000\",\"2024-08-01T00:00:00.000000000\",\"2024-08-02T00:00:00.000000000\",\"2024-08-05T00:00:00.000000000\",\"2024-08-06T00:00:00.000000000\",\"2024-08-07T00:00:00.000000000\",\"2024-08-08T00:00:00.000000000\",\"2024-08-09T00:00:00.000000000\",\"2024-08-12T00:00:00.000000000\",\"2024-08-13T00:00:00.000000000\",\"2024-08-14T00:00:00.000000000\",\"2024-08-15T00:00:00.000000000\",\"2024-08-16T00:00:00.000000000\",\"2024-08-19T00:00:00.000000000\",\"2024-08-20T00:00:00.000000000\",\"2024-08-21T00:00:00.000000000\",\"2024-08-22T00:00:00.000000000\",\"2024-08-23T00:00:00.000000000\",\"2024-08-26T00:00:00.000000000\",\"2024-08-27T00:00:00.000000000\",\"2024-08-28T00:00:00.000000000\",\"2024-08-29T00:00:00.000000000\",\"2024-08-30T00:00:00.000000000\",\"2024-09-03T00:00:00.000000000\",\"2024-09-04T00:00:00.000000000\",\"2024-09-05T00:00:00.000000000\",\"2024-09-06T00:00:00.000000000\",\"2024-09-09T00:00:00.000000000\",\"2024-09-10T00:00:00.000000000\",\"2024-09-11T00:00:00.000000000\",\"2024-09-12T00:00:00.000000000\",\"2024-09-13T00:00:00.000000000\",\"2024-09-16T00:00:00.000000000\",\"2024-09-17T00:00:00.000000000\",\"2024-09-18T00:00:00.000000000\",\"2024-09-19T00:00:00.000000000\",\"2024-09-20T00:00:00.000000000\",\"2024-09-23T00:00:00.000000000\",\"2024-09-24T00:00:00.000000000\",\"2024-09-25T00:00:00.000000000\",\"2024-09-26T00:00:00.000000000\",\"2024-09-27T00:00:00.000000000\",\"2024-09-30T00:00:00.000000000\",\"2024-10-01T00:00:00.000000000\",\"2024-10-02T00:00:00.000000000\",\"2024-10-03T00:00:00.000000000\",\"2024-10-04T00:00:00.000000000\",\"2024-10-07T00:00:00.000000000\",\"2024-10-08T00:00:00.000000000\",\"2024-10-09T00:00:00.000000000\",\"2024-10-10T00:00:00.000000000\",\"2024-10-11T00:00:00.000000000\",\"2024-10-14T00:00:00.000000000\",\"2024-10-15T00:00:00.000000000\",\"2024-10-16T00:00:00.000000000\",\"2024-10-17T00:00:00.000000000\",\"2024-10-18T00:00:00.000000000\",\"2024-10-21T00:00:00.000000000\",\"2024-10-22T00:00:00.000000000\",\"2024-10-23T00:00:00.000000000\",\"2024-10-24T00:00:00.000000000\",\"2024-10-25T00:00:00.000000000\",\"2024-10-28T00:00:00.000000000\",\"2024-10-29T00:00:00.000000000\",\"2024-10-30T00:00:00.000000000\",\"2024-10-31T00:00:00.000000000\",\"2024-11-01T00:00:00.000000000\",\"2024-11-04T00:00:00.000000000\",\"2024-11-05T00:00:00.000000000\",\"2024-11-06T00:00:00.000000000\",\"2024-11-07T00:00:00.000000000\",\"2024-11-08T00:00:00.000000000\",\"2024-11-11T00:00:00.000000000\",\"2024-11-12T00:00:00.000000000\",\"2024-11-13T00:00:00.000000000\",\"2024-11-14T00:00:00.000000000\",\"2024-11-15T00:00:00.000000000\",\"2024-11-18T00:00:00.000000000\",\"2024-11-19T00:00:00.000000000\",\"2024-11-20T00:00:00.000000000\",\"2024-11-21T00:00:00.000000000\",\"2024-11-22T00:00:00.000000000\",\"2024-11-25T00:00:00.000000000\",\"2024-11-26T00:00:00.000000000\",\"2024-11-27T00:00:00.000000000\",\"2024-11-29T00:00:00.000000000\",\"2024-12-02T00:00:00.000000000\",\"2024-12-03T00:00:00.000000000\",\"2024-12-04T00:00:00.000000000\",\"2024-12-05T00:00:00.000000000\",\"2024-12-06T00:00:00.000000000\",\"2024-12-09T00:00:00.000000000\",\"2024-12-10T00:00:00.000000000\",\"2024-12-11T00:00:00.000000000\",\"2024-12-12T00:00:00.000000000\",\"2024-12-13T00:00:00.000000000\",\"2024-12-16T00:00:00.000000000\",\"2024-12-17T00:00:00.000000000\",\"2024-12-18T00:00:00.000000000\",\"2024-12-19T00:00:00.000000000\",\"2024-12-20T00:00:00.000000000\",\"2024-12-23T00:00:00.000000000\",\"2024-12-24T00:00:00.000000000\",\"2024-12-26T00:00:00.000000000\",\"2024-12-27T00:00:00.000000000\",\"2024-12-30T00:00:00.000000000\",\"2024-12-31T00:00:00.000000000\",\"2025-01-02T00:00:00.000000000\",\"2025-01-03T00:00:00.000000000\",\"2025-01-06T00:00:00.000000000\",\"2025-01-07T00:00:00.000000000\",\"2025-01-08T00:00:00.000000000\",\"2025-01-10T00:00:00.000000000\",\"2025-01-13T00:00:00.000000000\",\"2025-01-14T00:00:00.000000000\",\"2025-01-15T00:00:00.000000000\",\"2025-01-16T00:00:00.000000000\",\"2025-01-17T00:00:00.000000000\",\"2025-01-21T00:00:00.000000000\",\"2025-01-22T00:00:00.000000000\",\"2025-01-23T00:00:00.000000000\",\"2025-01-24T00:00:00.000000000\",\"2025-01-27T00:00:00.000000000\",\"2025-01-28T00:00:00.000000000\",\"2025-01-29T00:00:00.000000000\",\"2025-01-30T00:00:00.000000000\",\"2025-01-31T00:00:00.000000000\",\"2025-02-03T00:00:00.000000000\",\"2025-02-04T00:00:00.000000000\",\"2025-02-05T00:00:00.000000000\",\"2025-02-06T00:00:00.000000000\",\"2025-02-07T00:00:00.000000000\",\"2025-02-10T00:00:00.000000000\",\"2025-02-11T00:00:00.000000000\",\"2025-02-12T00:00:00.000000000\",\"2025-02-13T00:00:00.000000000\",\"2025-02-14T00:00:00.000000000\",\"2025-02-18T00:00:00.000000000\",\"2025-02-19T00:00:00.000000000\"],\"y\":{\"dtype\":\"f8\",\"bdata\":\"AAAAAAAA+H8AAAAAAAD4fwAAAAAAAPh\\u002fAAAAAAAA+H8AAAAAAAD4fwAAAAAAAPh\\u002fAAAAAAAA+H8AAAAAAAD4fwAAAAAAAPh\\u002fzczMfIaJZkBmZmbmFmVmQAAAAEAMO2ZAAAAAUBgKZkBmZmZWi+RlQAAAAEDCyWVAMzMz89GrZUAAAAAADItlQJqZmQldcmVAMzMz8\\u002fBbZUAAAADAi1dlQM3MzDyHamVAZmZm1vGIZUBmZmY2fpBlQDMzMwNulWVAmpmZ2WCPZUBmZmbWKoRlQJqZmUkci2VAAAAA8ESGZUAzMzMzBX5lQJqZmUl6bmVAMzMzk\\u002f9ZZUAzMzNjoDplQAAAAPDsNGVAZmZmJrooZUCamZkJ+CRlQGZmZmbSHmVAMzMz81QkZUCamZnJejRlQM3MzJzzPGVAmpmZ6as+ZUBmZmaWajllQAAAAEC\\u002fM2VAzczM7CglZUDNzMzc2BxlQDMzM1MGFGVAAAAAYPkXZUAzMzNTkgdlQJqZmQl78GRAmpmZeQ\\u002fzZEDNzMwMFvZkQDMzMwM6+mRAmpmZ+U0NZUDNzMwc2EdlQJqZmbljemVAmpmZqcGrZUAAAABAdNdlQM3MzJw1BmZAzczMHMsyZkCamZlJTVxmQM3MzAyTk2ZAMzMzU27VZkDNzMxMygtnQGZmZuZHIWdAAAAAYNI\\u002fZ0BmZmbWV2BnQGZmZjYoe2dAMzMzU1KDZ0DNzMxcbJlnQJqZmWlBpWdAmpmZeWCuZ0DNzMxMYrNnQDMzM\\u002fMRu2dAmpmZaVbIZ0AzMzPj5NJnQM3MzMwe3mdAZmZmtonpZ0DNzMxsdgloQJqZmRl6E2hAmpmZeTRKaECamZlZ25JoQGZmZgYN3GhAzczMHJocaUDNzMyszmRpQJqZmclmpGlAzczMDHLQaUBmZmYm8PlpQJqZmUnRHWpAMzMzw69QakCamZkpJGRqQM3MzBxtZ2pAMzMzg+FbakCamZmZd2lqQGZmZtbydGpAAAAAUBqMakBmZmZ2PMFqQDMzMwMTAmtAMzMzA5VDa0BmZmZ21o9rQM3MzByCvWtAMzMzo\\u002fDxa0CamZn5xz1sQGZmZlZpd2xAZmZmBt+SbEDNzMxMQptsQDMzM+PIlGxAAAAAYHmIbEDNzMz8xHxsQAAAAGC3TmxAAAAAgJEubEAAAACAcgZsQDMzM5Po0mtAMzMz89Cfa0DNzMwMIYprQGZmZkaRd2tAAAAAEGBpa0AzMzNThjprQAAAAMDRAWtAAAAAQALmakBmZmZ2rdhqQJqZmSkx02pAzczMDLvRakDNzMzMbNpqQJqZmWkY2mpAMzMzczXvakAAAADwyANrQGZmZuafOWtAmpmZOfN3a0AzMzMDqq1rQGZmZtZG0mtAAAAAoOv0a0CamZmJuxNsQJqZmSlRKWxAmpmZKYw4bEAzMzNjvEhsQGZmZrYnUmxAmpmZaTFIbEDNzMzsHjZsQJqZmflIKWxAzczMbHAdbEDNzMw8gQpsQJqZmTnu82tAmpmZycjia0DNzMwM6NZrQDMzMzOhv2tAAAAAkCSXa0AAAACADIRrQGZmZraJg2tAZmZmpkKYa0DNzMwM069rQM3MzMyTwWtAAAAAIMLYa0AAAACwmuRrQJqZmVnF82tAMzMzY6kEbEAzMzOj6zlsQDMzM5P\\u002fV2xAzczMjHFrbEDNzMzcOWFsQDMzM4PBXGxAZmZmVn5NbEAAAACAYkhsQJqZmamBUmxAzczMHFxXbEAzMzPzl1ZsQM3MzFwqUWxAzczMTI9pbEDNzMxMhnlsQAAAABA3jmxAzczMvGWobECamZkZn9dsQM3MzKzW92xAZmZm5rv7bECamZmJngBtQDMzM7PxDG1AzczMPKYTbUCamZkZExNtQM3MzNy1DW1AmpmZScn5bECamZnpLtNsQM3MzBz7pGxAmpmZKVt9bEAzMzNDr2NsQJqZmXnRWWxAZmZmJmhMbEDNzMw86i9sQAAAAKCPEmxAzczMbHMDbEDNzMzcoAtsQDMzM5MXE2xAmpmZORUnbEAAAACQTjdsQGZmZsYpTGxAMzMzY0lQbEAzMzOjlllsQAAAAMA0dWxAAAAA8NKXbEBmZmZ2LrdsQM3MzCxN1GxAzczMLPACbUBmZmbmszFtQGZmZnbJYG1AZmZmZqqNbUAzMzNzcLttQM3MzFxl8W1AmpmZCQYhbkBmZmY2j0VuQM3MzKw1b25AAAAAULuRbkCamZnZVLZuQJqZmQnz2G5AZmZmRg\\u002fpbkDNzMzMov5uQDMzMwPgI29AAAAA8Bs\\u002fb0AzMzPTcmBvQM3MzByAiG9AzczMvOOgb0CamZk55q1vQDMzM+Pqq29AzczMrCKNb0CamZnZJH5vQDMzMzPVbm9AmpmZeZRHb0DNzMxsZh9vQDMzM7Mn225AmpmZKXWMbkAAAADgJEVuQAAAAKBWF25AZmZmFoHQbUAAAABAK6RtQAAAABDwYW1AMzMzo0QebUCamZkp+eJsQAAAAKBMo2xAMzMzs\\u002fSMbEBmZmZWS5lsQM3MzJy6rGxAzczMfNWrbEAzMzMjk8RsQGZmZhZHvmxAZmZmBsHebEBmZmYmX\\u002fpsQJqZmRnuGG1AzczM3G4obUDNzMw8KyJtQAAAAFD1EG1AmpmZ2dQJbUAzMzNDRhdtQGZmZrafM21AMzMz4xhpbUAzMzMTipBtQA==\"},\"type\":\"scatter\"},{\"name\":\"SMA20\",\"x\":[\"2024-02-20T00:00:00.000000000\",\"2024-02-21T00:00:00.000000000\",\"2024-02-22T00:00:00.000000000\",\"2024-02-23T00:00:00.000000000\",\"2024-02-26T00:00:00.000000000\",\"2024-02-27T00:00:00.000000000\",\"2024-02-28T00:00:00.000000000\",\"2024-02-29T00:00:00.000000000\",\"2024-03-01T00:00:00.000000000\",\"2024-03-04T00:00:00.000000000\",\"2024-03-05T00:00:00.000000000\",\"2024-03-06T00:00:00.000000000\",\"2024-03-07T00:00:00.000000000\",\"2024-03-08T00:00:00.000000000\",\"2024-03-11T00:00:00.000000000\",\"2024-03-12T00:00:00.000000000\",\"2024-03-13T00:00:00.000000000\",\"2024-03-14T00:00:00.000000000\",\"2024-03-15T00:00:00.000000000\",\"2024-03-18T00:00:00.000000000\",\"2024-03-19T00:00:00.000000000\",\"2024-03-20T00:00:00.000000000\",\"2024-03-21T00:00:00.000000000\",\"2024-03-22T00:00:00.000000000\",\"2024-03-25T00:00:00.000000000\",\"2024-03-26T00:00:00.000000000\",\"2024-03-27T00:00:00.000000000\",\"2024-03-28T00:00:00.000000000\",\"2024-04-01T00:00:00.000000000\",\"2024-04-02T00:00:00.000000000\",\"2024-04-03T00:00:00.000000000\",\"2024-04-04T00:00:00.000000000\",\"2024-04-05T00:00:00.000000000\",\"2024-04-08T00:00:00.000000000\",\"2024-04-09T00:00:00.000000000\",\"2024-04-10T00:00:00.000000000\",\"2024-04-11T00:00:00.000000000\",\"2024-04-12T00:00:00.000000000\",\"2024-04-15T00:00:00.000000000\",\"2024-04-16T00:00:00.000000000\",\"2024-04-17T00:00:00.000000000\",\"2024-04-18T00:00:00.000000000\",\"2024-04-19T00:00:00.000000000\",\"2024-04-22T00:00:00.000000000\",\"2024-04-23T00:00:00.000000000\",\"2024-04-24T00:00:00.000000000\",\"2024-04-25T00:00:00.000000000\",\"2024-04-26T00:00:00.000000000\",\"2024-04-29T00:00:00.000000000\",\"2024-04-30T00:00:00.000000000\",\"2024-05-01T00:00:00.000000000\",\"2024-05-02T00:00:00.000000000\",\"2024-05-03T00:00:00.000000000\",\"2024-05-06T00:00:00.000000000\",\"2024-05-07T00:00:00.000000000\",\"2024-05-08T00:00:00.000000000\",\"2024-05-09T00:00:00.000000000\",\"2024-05-10T00:00:00.000000000\",\"2024-05-13T00:00:00.000000000\",\"2024-05-14T00:00:00.000000000\",\"2024-05-15T00:00:00.000000000\",\"2024-05-16T00:00:00.000000000\",\"2024-05-17T00:00:00.000000000\",\"2024-05-20T00:00:00.000000000\",\"2024-05-21T00:00:00.000000000\",\"2024-05-22T00:00:00.000000000\",\"2024-05-23T00:00:00.000000000\",\"2024-05-24T00:00:00.000000000\",\"2024-05-28T00:00:00.000000000\",\"2024-05-29T00:00:00.000000000\",\"2024-05-30T00:00:00.000000000\",\"2024-05-31T00:00:00.000000000\",\"2024-06-03T00:00:00.000000000\",\"2024-06-04T00:00:00.000000000\",\"2024-06-05T00:00:00.000000000\",\"2024-06-06T00:00:00.000000000\",\"2024-06-07T00:00:00.000000000\",\"2024-06-10T00:00:00.000000000\",\"2024-06-11T00:00:00.000000000\",\"2024-06-12T00:00:00.000000000\",\"2024-06-13T00:00:00.000000000\",\"2024-06-14T00:00:00.000000000\",\"2024-06-17T00:00:00.000000000\",\"2024-06-18T00:00:00.000000000\",\"2024-06-20T00:00:00.000000000\",\"2024-06-21T00:00:00.000000000\",\"2024-06-24T00:00:00.000000000\",\"2024-06-25T00:00:00.000000000\",\"2024-06-26T00:00:00.000000000\",\"2024-06-27T00:00:00.000000000\",\"2024-06-28T00:00:00.000000000\",\"2024-07-01T00:00:00.000000000\",\"2024-07-02T00:00:00.000000000\",\"2024-07-03T00:00:00.000000000\",\"2024-07-05T00:00:00.000000000\",\"2024-07-08T00:00:00.000000000\",\"2024-07-09T00:00:00.000000000\",\"2024-07-10T00:00:00.000000000\",\"2024-07-11T00:00:00.000000000\",\"2024-07-12T00:00:00.000000000\",\"2024-07-15T00:00:00.000000000\",\"2024-07-16T00:00:00.000000000\",\"2024-07-17T00:00:00.000000000\",\"2024-07-18T00:00:00.000000000\",\"2024-07-19T00:00:00.000000000\",\"2024-07-22T00:00:00.000000000\",\"2024-07-23T00:00:00.000000000\",\"2024-07-24T00:00:00.000000000\",\"2024-07-25T00:00:00.000000000\",\"2024-07-26T00:00:00.000000000\",\"2024-07-29T00:00:00.000000000\",\"2024-07-30T00:00:00.000000000\",\"2024-07-31T00:00:00.000000000\",\"2024-08-01T00:00:00.000000000\",\"2024-08-02T00:00:00.000000000\",\"2024-08-05T00:00:00.000000000\",\"2024-08-06T00:00:00.000000000\",\"2024-08-07T00:00:00.000000000\",\"2024-08-08T00:00:00.000000000\",\"2024-08-09T00:00:00.000000000\",\"2024-08-12T00:00:00.000000000\",\"2024-08-13T00:00:00.000000000\",\"2024-08-14T00:00:00.000000000\",\"2024-08-15T00:00:00.000000000\",\"2024-08-16T00:00:00.000000000\",\"2024-08-19T00:00:00.000000000\",\"2024-08-20T00:00:00.000000000\",\"2024-08-21T00:00:00.000000000\",\"2024-08-22T00:00:00.000000000\",\"2024-08-23T00:00:00.000000000\",\"2024-08-26T00:00:00.000000000\",\"2024-08-27T00:00:00.000000000\",\"2024-08-28T00:00:00.000000000\",\"2024-08-29T00:00:00.000000000\",\"2024-08-30T00:00:00.000000000\",\"2024-09-03T00:00:00.000000000\",\"2024-09-04T00:00:00.000000000\",\"2024-09-05T00:00:00.000000000\",\"2024-09-06T00:00:00.000000000\",\"2024-09-09T00:00:00.000000000\",\"2024-09-10T00:00:00.000000000\",\"2024-09-11T00:00:00.000000000\",\"2024-09-12T00:00:00.000000000\",\"2024-09-13T00:00:00.000000000\",\"2024-09-16T00:00:00.000000000\",\"2024-09-17T00:00:00.000000000\",\"2024-09-18T00:00:00.000000000\",\"2024-09-19T00:00:00.000000000\",\"2024-09-20T00:00:00.000000000\",\"2024-09-23T00:00:00.000000000\",\"2024-09-24T00:00:00.000000000\",\"2024-09-25T00:00:00.000000000\",\"2024-09-26T00:00:00.000000000\",\"2024-09-27T00:00:00.000000000\",\"2024-09-30T00:00:00.000000000\",\"2024-10-01T00:00:00.000000000\",\"2024-10-02T00:00:00.000000000\",\"2024-10-03T00:00:00.000000000\",\"2024-10-04T00:00:00.000000000\",\"2024-10-07T00:00:00.000000000\",\"2024-10-08T00:00:00.000000000\",\"2024-10-09T00:00:00.000000000\",\"2024-10-10T00:00:00.000000000\",\"2024-10-11T00:00:00.000000000\",\"2024-10-14T00:00:00.000000000\",\"2024-10-15T00:00:00.000000000\",\"2024-10-16T00:00:00.000000000\",\"2024-10-17T00:00:00.000000000\",\"2024-10-18T00:00:00.000000000\",\"2024-10-21T00:00:00.000000000\",\"2024-10-22T00:00:00.000000000\",\"2024-10-23T00:00:00.000000000\",\"2024-10-24T00:00:00.000000000\",\"2024-10-25T00:00:00.000000000\",\"2024-10-28T00:00:00.000000000\",\"2024-10-29T00:00:00.000000000\",\"2024-10-30T00:00:00.000000000\",\"2024-10-31T00:00:00.000000000\",\"2024-11-01T00:00:00.000000000\",\"2024-11-04T00:00:00.000000000\",\"2024-11-05T00:00:00.000000000\",\"2024-11-06T00:00:00.000000000\",\"2024-11-07T00:00:00.000000000\",\"2024-11-08T00:00:00.000000000\",\"2024-11-11T00:00:00.000000000\",\"2024-11-12T00:00:00.000000000\",\"2024-11-13T00:00:00.000000000\",\"2024-11-14T00:00:00.000000000\",\"2024-11-15T00:00:00.000000000\",\"2024-11-18T00:00:00.000000000\",\"2024-11-19T00:00:00.000000000\",\"2024-11-20T00:00:00.000000000\",\"2024-11-21T00:00:00.000000000\",\"2024-11-22T00:00:00.000000000\",\"2024-11-25T00:00:00.000000000\",\"2024-11-26T00:00:00.000000000\",\"2024-11-27T00:00:00.000000000\",\"2024-11-29T00:00:00.000000000\",\"2024-12-02T00:00:00.000000000\",\"2024-12-03T00:00:00.000000000\",\"2024-12-04T00:00:00.000000000\",\"2024-12-05T00:00:00.000000000\",\"2024-12-06T00:00:00.000000000\",\"2024-12-09T00:00:00.000000000\",\"2024-12-10T00:00:00.000000000\",\"2024-12-11T00:00:00.000000000\",\"2024-12-12T00:00:00.000000000\",\"2024-12-13T00:00:00.000000000\",\"2024-12-16T00:00:00.000000000\",\"2024-12-17T00:00:00.000000000\",\"2024-12-18T00:00:00.000000000\",\"2024-12-19T00:00:00.000000000\",\"2024-12-20T00:00:00.000000000\",\"2024-12-23T00:00:00.000000000\",\"2024-12-24T00:00:00.000000000\",\"2024-12-26T00:00:00.000000000\",\"2024-12-27T00:00:00.000000000\",\"2024-12-30T00:00:00.000000000\",\"2024-12-31T00:00:00.000000000\",\"2025-01-02T00:00:00.000000000\",\"2025-01-03T00:00:00.000000000\",\"2025-01-06T00:00:00.000000000\",\"2025-01-07T00:00:00.000000000\",\"2025-01-08T00:00:00.000000000\",\"2025-01-10T00:00:00.000000000\",\"2025-01-13T00:00:00.000000000\",\"2025-01-14T00:00:00.000000000\",\"2025-01-15T00:00:00.000000000\",\"2025-01-16T00:00:00.000000000\",\"2025-01-17T00:00:00.000000000\",\"2025-01-21T00:00:00.000000000\",\"2025-01-22T00:00:00.000000000\",\"2025-01-23T00:00:00.000000000\",\"2025-01-24T00:00:00.000000000\",\"2025-01-27T00:00:00.000000000\",\"2025-01-28T00:00:00.000000000\",\"2025-01-29T00:00:00.000000000\",\"2025-01-30T00:00:00.000000000\",\"2025-01-31T00:00:00.000000000\",\"2025-02-03T00:00:00.000000000\",\"2025-02-04T00:00:00.000000000\",\"2025-02-05T00:00:00.000000000\",\"2025-02-06T00:00:00.000000000\",\"2025-02-07T00:00:00.000000000\",\"2025-02-10T00:00:00.000000000\",\"2025-02-11T00:00:00.000000000\",\"2025-02-12T00:00:00.000000000\",\"2025-02-13T00:00:00.000000000\",\"2025-02-14T00:00:00.000000000\",\"2025-02-18T00:00:00.000000000\",\"2025-02-19T00:00:00.000000000\"],\"y\":{\"dtype\":\"f8\",\"bdata\":\"AAAAAAAA+H8AAAAAAAD4fwAAAAAAAPh\\u002fAAAAAAAA+H8AAAAAAAD4fwAAAAAAAPh\\u002fAAAAAAAA+H8AAAAAAAD4fwAAAAAAAPh\\u002fAAAAAAAA+H8AAAAAAAD4fwAAAAAAAPh\\u002fAAAAAAAA+H8AAAAAAAD4fwAAAAAAAPh\\u002fAAAAAAAA+H8AAAAAAAD4fwAAAAAAAPh\\u002fAAAAAAAA+H9mZmYeifBlQJqZmRHP52VAMzMzC\\u002f\\u002fhZUAzMzNDS81lQM3MzKz8vGVAzczMjJGsZUDNzMxk\\u002fpdlQM3MzCQUi2VAzczM\\u002fFB8ZUAzMzMT+2xlQM3MzAQDY2VAAAAAaENiZUDNzMwcyWFlQDMzM5O1YmVAzczMFBRfZUCamZlxLFplQGZmZp5+UWVAZmZmnrhXZUDNzMzcX11lQAAAAGh8XWVAmpmZGZNWZUDNzMwUtUllQJqZmdEvN2VAZmZm7gotZUCamZmBySJlQGZmZi5\\u002fHGVAMzMz42UbZUAzMzOj8xVlQJqZmel6EmVAMzMziwEYZUAzMzP7YBplQM3MzEzSGWVAzczMnIYgZUDNzMyEgDZlQDMzM0ueS2VAZmZm\\u002fuNfZUAAAADQtndlQAAAAPjjhmVAMzMzE6ORZUCamZlhrqdlQM3MzIzUxGVAMzMzK9TnZUAzMzMjjAxmQJqZmQGQNGZAzczMDBtdZkAAAADADIZmQDMzMztOqWZAAAAA+MPEZkDNzMy8G+ZmQJqZmVnHAGdAMzMzw\\u002fkgZ0AAAABQaERnQAAAACBuY2dAAAAAKM90Z0CamZmhW4lnQJqZmVE7n2dAZmZm9liyZ0AAAABgZMZnQDMzMztz1mdAmpmZ8br3Z0CamZnpnSBoQJqZmam3R2hAAAAACNZraEAzMzOLkpZoQGZmZtalu2hAzczMbEjXaEBmZmbuvPFoQDMzM9ujE2lAZmZm7hQyaUCamZlRLFdpQDMzMzskfWlAzczMRPebaUAzMzPbCMNpQJqZmcHg7GlAzczMjEAYakCamZlB10hqQM3MzJQBfmpAZmZmJrOwakDNzMwcQ\\u002fBqQDMzMyPTEGtAAAAA4K4sa0BmZma+1ExrQAAAAHhwcGtAZmZm7uiDa0BmZmZOrpNrQM3MzKwCq2tAmpmZMUbFa0AAAAAALeBrQDMzM+tG72tAZmZmzgn2a0CamZmRMfxrQGZmZkZYCGxAzczMJJ0LbECamZkJgA5sQJqZmclpCWxAmpmZeRT\\u002fa0CamZnZf+FrQGZmZl5Lv2tAAAAA0Fyaa0AzMzN7n4NrQM3MzNTRbGtAAAAA0FFSa0AAAADgHj1rQDMzM7scMmtAzczMXGMza0AAAACAlDZrQM3MzBwTOmtAzczMfOI8a0CamZkh1klrQGZmZiZ6VWtAzczMZA5ka0AzMzNLu3JrQDMzM\\u002fvegWtAmpmZSVKJa0AzMzPr+JtrQDMzM1P4qmtAAAAAqOjAa0AzMzMTCddrQGZmZn5562tAmpmZodv3a0BmZmZutv9rQJqZmeHUA2xAmpmZ+QwGbEAzMzMbugdsQDMzM8suBGxAMzMzI6b0a0DNzMz0HuZrQJqZmVHU3GtAAAAA0MXga0DNzMy8oeZrQM3MzIQK5mtAzczMLFjma0DNzMy8seNrQDMzM7NW5WtAMzMzSyXia0CamZkZiOhrQJqZmQkG7mtAmpmZoX33a0CamZlBvvxrQAAAAEhKBmxAmpmZEYkHbEAAAABQkhBsQM3MzCyOG2xAMzMzu5AlbEAzMzOroC1sQAAAAACLRWxAAAAAcMdgbEDNzMzse3JsQGZmZna4d2xAAAAAoJOCbEAAAAC4jpJsQGZmZpYcoGxAAAAAyB6nbEAzMzNT\\u002fatsQDMzM9PEsWxAzczMTGiybEAzMzMzUb5sQM3MzBSew2xAzczMLADEbEAzMzNTyr1sQDMzMxtNvmxAMzMz65i6bEDNzMyUta9sQJqZmQE4rWxAzczM7KysbEDNzMw8yKFsQM3MzFzRkmxAzczMpJSIbEAzMzMTtYJsQGZmZj4jc2xAMzMzKwhmbEDNzMzcVFpsQM3MzITsV2xAZmZmbg1VbEDNzMxk\\u002f1JsQGZmZn6PUmxAAAAASDFVbECamZnxUF1sQM3MzAT3b2xAAAAA4AOLbEAAAACQZKxsQDMzMwMMzGxAZmZmFursbEAzMzPr3AVtQAAAAAB+JW1AzczMZB1LbUAzMzMTsW5tQJqZmREyk21AZmZmPgSzbUAzMzODotxtQAAAAHhTBW5AZmZmXuwkbkCamZmZJkZuQDMzMzuob25AZmZmpkCYbkBmZmZuvMBuQJqZmakH525AzczMtAwIb0DNzMzE0B9vQGZmZt4fMW9AMzMz2wozb0AAAAAQmjNvQAAAAAC8Nm9AZmZmPro1b0BmZmYuQS9vQDMzM0PNHW9AMzMzo3oKb0BmZmZOBPNuQM3MzGye4m5AzczM\\u002fDW+bkBmZmb2pphuQM3MzHQKcG5AMzMz64xGbkCamZnRRhVuQGZmZoZZ4W1AMzMzMw60bUAAAABA4JJtQGZmZr7veG1AZmZmDpZhbUDNzMwcikptQDMzMys5MW1AMzMzi1ggbUDNzMzkUQxtQJqZmaHz\\u002fWxAZmZmvt3lbEAAAAD4j9dsQDMzM1Mg1WxAMzMzu0fbbEAAAADgjeFsQM3MzGwZ\\u002fGxAzczM\\u002fK8TbUDNzMyMpTdtQA==\"},\"type\":\"scatter\"},{\"line\":{\"color\":\"blue\",\"dash\":\"dash\"},\"name\":\"BB Upper\",\"x\":[\"2024-02-20T00:00:00.000000000\",\"2024-02-21T00:00:00.000000000\",\"2024-02-22T00:00:00.000000000\",\"2024-02-23T00:00:00.000000000\",\"2024-02-26T00:00:00.000000000\",\"2024-02-27T00:00:00.000000000\",\"2024-02-28T00:00:00.000000000\",\"2024-02-29T00:00:00.000000000\",\"2024-03-01T00:00:00.000000000\",\"2024-03-04T00:00:00.000000000\",\"2024-03-05T00:00:00.000000000\",\"2024-03-06T00:00:00.000000000\",\"2024-03-07T00:00:00.000000000\",\"2024-03-08T00:00:00.000000000\",\"2024-03-11T00:00:00.000000000\",\"2024-03-12T00:00:00.000000000\",\"2024-03-13T00:00:00.000000000\",\"2024-03-14T00:00:00.000000000\",\"2024-03-15T00:00:00.000000000\",\"2024-03-18T00:00:00.000000000\",\"2024-03-19T00:00:00.000000000\",\"2024-03-20T00:00:00.000000000\",\"2024-03-21T00:00:00.000000000\",\"2024-03-22T00:00:00.000000000\",\"2024-03-25T00:00:00.000000000\",\"2024-03-26T00:00:00.000000000\",\"2024-03-27T00:00:00.000000000\",\"2024-03-28T00:00:00.000000000\",\"2024-04-01T00:00:00.000000000\",\"2024-04-02T00:00:00.000000000\",\"2024-04-03T00:00:00.000000000\",\"2024-04-04T00:00:00.000000000\",\"2024-04-05T00:00:00.000000000\",\"2024-04-08T00:00:00.000000000\",\"2024-04-09T00:00:00.000000000\",\"2024-04-10T00:00:00.000000000\",\"2024-04-11T00:00:00.000000000\",\"2024-04-12T00:00:00.000000000\",\"2024-04-15T00:00:00.000000000\",\"2024-04-16T00:00:00.000000000\",\"2024-04-17T00:00:00.000000000\",\"2024-04-18T00:00:00.000000000\",\"2024-04-19T00:00:00.000000000\",\"2024-04-22T00:00:00.000000000\",\"2024-04-23T00:00:00.000000000\",\"2024-04-24T00:00:00.000000000\",\"2024-04-25T00:00:00.000000000\",\"2024-04-26T00:00:00.000000000\",\"2024-04-29T00:00:00.000000000\",\"2024-04-30T00:00:00.000000000\",\"2024-05-01T00:00:00.000000000\",\"2024-05-02T00:00:00.000000000\",\"2024-05-03T00:00:00.000000000\",\"2024-05-06T00:00:00.000000000\",\"2024-05-07T00:00:00.000000000\",\"2024-05-08T00:00:00.000000000\",\"2024-05-09T00:00:00.000000000\",\"2024-05-10T00:00:00.000000000\",\"2024-05-13T00:00:00.000000000\",\"2024-05-14T00:00:00.000000000\",\"2024-05-15T00:00:00.000000000\",\"2024-05-16T00:00:00.000000000\",\"2024-05-17T00:00:00.000000000\",\"2024-05-20T00:00:00.000000000\",\"2024-05-21T00:00:00.000000000\",\"2024-05-22T00:00:00.000000000\",\"2024-05-23T00:00:00.000000000\",\"2024-05-24T00:00:00.000000000\",\"2024-05-28T00:00:00.000000000\",\"2024-05-29T00:00:00.000000000\",\"2024-05-30T00:00:00.000000000\",\"2024-05-31T00:00:00.000000000\",\"2024-06-03T00:00:00.000000000\",\"2024-06-04T00:00:00.000000000\",\"2024-06-05T00:00:00.000000000\",\"2024-06-06T00:00:00.000000000\",\"2024-06-07T00:00:00.000000000\",\"2024-06-10T00:00:00.000000000\",\"2024-06-11T00:00:00.000000000\",\"2024-06-12T00:00:00.000000000\",\"2024-06-13T00:00:00.000000000\",\"2024-06-14T00:00:00.000000000\",\"2024-06-17T00:00:00.000000000\",\"2024-06-18T00:00:00.000000000\",\"2024-06-20T00:00:00.000000000\",\"2024-06-21T00:00:00.000000000\",\"2024-06-24T00:00:00.000000000\",\"2024-06-25T00:00:00.000000000\",\"2024-06-26T00:00:00.000000000\",\"2024-06-27T00:00:00.000000000\",\"2024-06-28T00:00:00.000000000\",\"2024-07-01T00:00:00.000000000\",\"2024-07-02T00:00:00.000000000\",\"2024-07-03T00:00:00.000000000\",\"2024-07-05T00:00:00.000000000\",\"2024-07-08T00:00:00.000000000\",\"2024-07-09T00:00:00.000000000\",\"2024-07-10T00:00:00.000000000\",\"2024-07-11T00:00:00.000000000\",\"2024-07-12T00:00:00.000000000\",\"2024-07-15T00:00:00.000000000\",\"2024-07-16T00:00:00.000000000\",\"2024-07-17T00:00:00.000000000\",\"2024-07-18T00:00:00.000000000\",\"2024-07-19T00:00:00.000000000\",\"2024-07-22T00:00:00.000000000\",\"2024-07-23T00:00:00.000000000\",\"2024-07-24T00:00:00.000000000\",\"2024-07-25T00:00:00.000000000\",\"2024-07-26T00:00:00.000000000\",\"2024-07-29T00:00:00.000000000\",\"2024-07-30T00:00:00.000000000\",\"2024-07-31T00:00:00.000000000\",\"2024-08-01T00:00:00.000000000\",\"2024-08-02T00:00:00.000000000\",\"2024-08-05T00:00:00.000000000\",\"2024-08-06T00:00:00.000000000\",\"2024-08-07T00:00:00.000000000\",\"2024-08-08T00:00:00.000000000\",\"2024-08-09T00:00:00.000000000\",\"2024-08-12T00:00:00.000000000\",\"2024-08-13T00:00:00.000000000\",\"2024-08-14T00:00:00.000000000\",\"2024-08-15T00:00:00.000000000\",\"2024-08-16T00:00:00.000000000\",\"2024-08-19T00:00:00.000000000\",\"2024-08-20T00:00:00.000000000\",\"2024-08-21T00:00:00.000000000\",\"2024-08-22T00:00:00.000000000\",\"2024-08-23T00:00:00.000000000\",\"2024-08-26T00:00:00.000000000\",\"2024-08-27T00:00:00.000000000\",\"2024-08-28T00:00:00.000000000\",\"2024-08-29T00:00:00.000000000\",\"2024-08-30T00:00:00.000000000\",\"2024-09-03T00:00:00.000000000\",\"2024-09-04T00:00:00.000000000\",\"2024-09-05T00:00:00.000000000\",\"2024-09-06T00:00:00.000000000\",\"2024-09-09T00:00:00.000000000\",\"2024-09-10T00:00:00.000000000\",\"2024-09-11T00:00:00.000000000\",\"2024-09-12T00:00:00.000000000\",\"2024-09-13T00:00:00.000000000\",\"2024-09-16T00:00:00.000000000\",\"2024-09-17T00:00:00.000000000\",\"2024-09-18T00:00:00.000000000\",\"2024-09-19T00:00:00.000000000\",\"2024-09-20T00:00:00.000000000\",\"2024-09-23T00:00:00.000000000\",\"2024-09-24T00:00:00.000000000\",\"2024-09-25T00:00:00.000000000\",\"2024-09-26T00:00:00.000000000\",\"2024-09-27T00:00:00.000000000\",\"2024-09-30T00:00:00.000000000\",\"2024-10-01T00:00:00.000000000\",\"2024-10-02T00:00:00.000000000\",\"2024-10-03T00:00:00.000000000\",\"2024-10-04T00:00:00.000000000\",\"2024-10-07T00:00:00.000000000\",\"2024-10-08T00:00:00.000000000\",\"2024-10-09T00:00:00.000000000\",\"2024-10-10T00:00:00.000000000\",\"2024-10-11T00:00:00.000000000\",\"2024-10-14T00:00:00.000000000\",\"2024-10-15T00:00:00.000000000\",\"2024-10-16T00:00:00.000000000\",\"2024-10-17T00:00:00.000000000\",\"2024-10-18T00:00:00.000000000\",\"2024-10-21T00:00:00.000000000\",\"2024-10-22T00:00:00.000000000\",\"2024-10-23T00:00:00.000000000\",\"2024-10-24T00:00:00.000000000\",\"2024-10-25T00:00:00.000000000\",\"2024-10-28T00:00:00.000000000\",\"2024-10-29T00:00:00.000000000\",\"2024-10-30T00:00:00.000000000\",\"2024-10-31T00:00:00.000000000\",\"2024-11-01T00:00:00.000000000\",\"2024-11-04T00:00:00.000000000\",\"2024-11-05T00:00:00.000000000\",\"2024-11-06T00:00:00.000000000\",\"2024-11-07T00:00:00.000000000\",\"2024-11-08T00:00:00.000000000\",\"2024-11-11T00:00:00.000000000\",\"2024-11-12T00:00:00.000000000\",\"2024-11-13T00:00:00.000000000\",\"2024-11-14T00:00:00.000000000\",\"2024-11-15T00:00:00.000000000\",\"2024-11-18T00:00:00.000000000\",\"2024-11-19T00:00:00.000000000\",\"2024-11-20T00:00:00.000000000\",\"2024-11-21T00:00:00.000000000\",\"2024-11-22T00:00:00.000000000\",\"2024-11-25T00:00:00.000000000\",\"2024-11-26T00:00:00.000000000\",\"2024-11-27T00:00:00.000000000\",\"2024-11-29T00:00:00.000000000\",\"2024-12-02T00:00:00.000000000\",\"2024-12-03T00:00:00.000000000\",\"2024-12-04T00:00:00.000000000\",\"2024-12-05T00:00:00.000000000\",\"2024-12-06T00:00:00.000000000\",\"2024-12-09T00:00:00.000000000\",\"2024-12-10T00:00:00.000000000\",\"2024-12-11T00:00:00.000000000\",\"2024-12-12T00:00:00.000000000\",\"2024-12-13T00:00:00.000000000\",\"2024-12-16T00:00:00.000000000\",\"2024-12-17T00:00:00.000000000\",\"2024-12-18T00:00:00.000000000\",\"2024-12-19T00:00:00.000000000\",\"2024-12-20T00:00:00.000000000\",\"2024-12-23T00:00:00.000000000\",\"2024-12-24T00:00:00.000000000\",\"2024-12-26T00:00:00.000000000\",\"2024-12-27T00:00:00.000000000\",\"2024-12-30T00:00:00.000000000\",\"2024-12-31T00:00:00.000000000\",\"2025-01-02T00:00:00.000000000\",\"2025-01-03T00:00:00.000000000\",\"2025-01-06T00:00:00.000000000\",\"2025-01-07T00:00:00.000000000\",\"2025-01-08T00:00:00.000000000\",\"2025-01-10T00:00:00.000000000\",\"2025-01-13T00:00:00.000000000\",\"2025-01-14T00:00:00.000000000\",\"2025-01-15T00:00:00.000000000\",\"2025-01-16T00:00:00.000000000\",\"2025-01-17T00:00:00.000000000\",\"2025-01-21T00:00:00.000000000\",\"2025-01-22T00:00:00.000000000\",\"2025-01-23T00:00:00.000000000\",\"2025-01-24T00:00:00.000000000\",\"2025-01-27T00:00:00.000000000\",\"2025-01-28T00:00:00.000000000\",\"2025-01-29T00:00:00.000000000\",\"2025-01-30T00:00:00.000000000\",\"2025-01-31T00:00:00.000000000\",\"2025-02-03T00:00:00.000000000\",\"2025-02-04T00:00:00.000000000\",\"2025-02-05T00:00:00.000000000\",\"2025-02-06T00:00:00.000000000\",\"2025-02-07T00:00:00.000000000\",\"2025-02-10T00:00:00.000000000\",\"2025-02-11T00:00:00.000000000\",\"2025-02-12T00:00:00.000000000\",\"2025-02-13T00:00:00.000000000\",\"2025-02-14T00:00:00.000000000\",\"2025-02-18T00:00:00.000000000\",\"2025-02-19T00:00:00.000000000\"],\"y\":{\"dtype\":\"f8\",\"bdata\":\"AAAAAAAA+H8AAAAAAAD4fwAAAAAAAPh\\u002fAAAAAAAA+H8AAAAAAAD4fwAAAAAAAPh\\u002fAAAAAAAA+H8AAAAAAAD4fwAAAAAAAPh\\u002fAAAAAAAA+H8AAAAAAAD4fwAAAAAAAPh\\u002fAAAAAAAA+H8AAAAAAAD4fwAAAAAAAPh\\u002fAAAAAAAA+H8AAAAAAAD4fwAAAAAAAPh\\u002fAAAAAAAA+H\\u002fieAIGY0VnQNNZpZGSM2dAqlwpJfoiZ0CJNaISq\\u002flmQDqshnY312ZAu0f7MI26ZkBGipVMjo1mQIK3XGmSYmZABubh1Tc0ZkDtbo9C4AdmQMMarzyr\\u002fmVA7fz1STX\\u002fZUBuQ3kA6f9lQC9MLxjL\\u002fmVAm3P1UQQCZkBoaQ+NFf9lQP+j\\u002fV00\\u002fWVAvLqnAjULZkCoJf1dqR1mQGWPwWLYHWZA+NTHVkUXZkCMrgZKvwNmQObzKduq02VAOHqLT3bbZUChSv6p0dhlQMQV4rW01mVApEVOUNnVZUCu+ErpQ8hlQJCl7p1DwmVAfG4XX0DRZUB+HHwjoNNlQLmfIq8f02VAQudIyaLfZUBba5wkH0ZmQJSgFaRehGZAMqHGuPW9ZkAxKTHv3PBmQAoiesQpJGdAC7jHsLxFZ0DZc8W7FoJnQEURCZhAv2dACBSJ\\u002fWkBaECBjSQxcTdoQI5bRrSmXGhAqGncosR\\u002faECR4LiXOqJoQM+nPlAouGhAjy0Cs2K2aEAlcYP8rLRoQJYSLarHumhAXbt8yoinaEDGwj\\u002fx6nhoQOjTSOqjT2hARvDzhJtmaEDeYhGcE3NoQFE8kISzhWhAtofu1VyIaEDMUskGap1oQCbpFeDajGhAPpEeLowMaUAkk4pvg6tpQPI\\u002fU8RULmpA7DW98FOIakB036BF2\\u002fRqQEb8zzeBP2tAJV1YVd1ma0BIqsYo+n1rQP33JaPPiGtAf8iYY4aYa0Ce8xgSx7NrQIG2zkpSymtAjNh80GvLa0AJuF8rjuJrQNyaASBbCWxA1xAGQLcrbEDNoHmzC2dsQGKbROdck2xAcOMJdZG9bEC2Sc3PSdhsQP6jRiRZ\\u002fmxAg5rMFHg4bUB4TZBpk4VtQL7MOPuRyW1AdzMF5JzmbUCevQBq2e9tQLpoOdsl7m1AN0p285HdbUDV0KkG1chtQLadBzCnq21A1LfdUbSfbUAcxcHIAZVtQB7\\u002f6klSdW1AkhJMo7ZvbUCnJgKuO25tQIOVGn0Nc21AA0MMMYJvbUDDtSkfHIttQKSzhtbAnm1AqmHcdXeBbUAbtPD7hm9tQLtJYdlcRm1AXZFCpE75bEAHsUt226BsQAl9T62md2xAxO4a6DR8bEASy6+gTYhsQJJu7VPMlGxAeexC1XafbEBSkMmkar5sQEZ+nzID0mxA7dfiizbvbEBSfbQ5XQttQLBPlI8ZKW1AMDrjWr84bUClvxrT01ttQKJu3bvadm1AwPwVLJ5ibUAqk6gsRzNtQEeMyTnqBW1Awh6NWcPkbEB5R7pkndBsQFn+eOLzxGxAL\\u002fynX\\u002fvCbEBcsDY4ssFsQAbe8E\\u002ffwGxAzFMvJ+bRbECI6m1UANlsQCTnOq9iz2xAsRmgfU3cbEDnWgz8p+psQJB80Hso6WxAiH9zowbqbEDpSzytdOJsQLVQ2KEC52xATIV43gjbbEAyKggYk\\u002flsQEriF8\\u002fOAG1AAIYbjw0JbUC4HQNskg1tQNtyThWpE21AtAuSQMcSbUB+SCrN4xJtQPZgXdcOI21AFd\\u002f+TBAvbUAr+uzi9TNtQLh\\u002fNqxjK21AVI0YFk8obUAjeSmUXCZtQCcIqtmRNG1A1W19T6JWbUD2QHpF4X9tQAj\\u002fDJefnm1AnvoFw7ShbUA7w6cwlqRtQGuBV\\u002fM0qW1A8prByO2qbUDPl38MubRtQARNpkHis21AKFTIXDqzbUDIEllOFMBtQLB0kGRLvm1AKY4DP5vFbUAA33vO\\u002f89tQG1BzBR5z21ATF8AyJDPbUBFIB+Kzc1tQJOLh33sv21AlJP+Y1C3bUAqOyxYJ61tQJZl1+PRkG1AHRVUppZmbUCmOV\\u002fqTjxtQERwJ9n3NW1AwaUoCcMubUDOFQUiCShtQOrx+TzjJW1A\\u002f8GZt4Y0bUDisYeOdlVtQHG6kAcPjm1AOnC3WobMbUBzt08qhRZuQJm8nU2aV25AWu5ZhB+KbkCYtPctq7puQOdbGE76\\u002fm5AbeHQhVs5b0CJNhKP2l5vQKmI+T\\u002fWhW9AHMWF4qCsb0Dza\\u002fr209BvQEsVEofwAXBAXFiqNPkFcEDU\\u002fcUrnQpwQBMoiDl9FXBAxf+QdEIecECM00sbsDFwQGAUhaK9RXBA9PlJKTBHcEDMH0+WVkFwQPztNq9tOnBAqlkXGL04cED\\u002flyqhOThwQLXZKCTONXBAFhtxH+02cECi60M0sDpwQMZb6AABSnBAFo00WbpbcECmer\\u002f2ZGpwQAVBRWKIbHBALBsYE\\u002f56cECOJLWfD3lwQFaD92Rui3BAlecag7ePcEDgQ3xO1YJwQE5unqnobXBAkqMGSOJAcECCF6R6UwtwQA2pCVHSvW9AWUQuFDtyb0A0gZ0KQChvQAwKD3pdAm9Ai9R+GbfabkDgQCtH8KFuQER4N0l3eW5AbKz0OJdDbkBreYGS1S5uQKY6drHSKW5AXZSR\\u002fgY6bkCnvgEUflRuQKfP6MsZm25A1WNDVVHWbkB6eTJFJv9uQA==\"},\"type\":\"scatter\"},{\"line\":{\"color\":\"blue\"},\"name\":\"BB Middle\",\"x\":[\"2024-02-20T00:00:00.000000000\",\"2024-02-21T00:00:00.000000000\",\"2024-02-22T00:00:00.000000000\",\"2024-02-23T00:00:00.000000000\",\"2024-02-26T00:00:00.000000000\",\"2024-02-27T00:00:00.000000000\",\"2024-02-28T00:00:00.000000000\",\"2024-02-29T00:00:00.000000000\",\"2024-03-01T00:00:00.000000000\",\"2024-03-04T00:00:00.000000000\",\"2024-03-05T00:00:00.000000000\",\"2024-03-06T00:00:00.000000000\",\"2024-03-07T00:00:00.000000000\",\"2024-03-08T00:00:00.000000000\",\"2024-03-11T00:00:00.000000000\",\"2024-03-12T00:00:00.000000000\",\"2024-03-13T00:00:00.000000000\",\"2024-03-14T00:00:00.000000000\",\"2024-03-15T00:00:00.000000000\",\"2024-03-18T00:00:00.000000000\",\"2024-03-19T00:00:00.000000000\",\"2024-03-20T00:00:00.000000000\",\"2024-03-21T00:00:00.000000000\",\"2024-03-22T00:00:00.000000000\",\"2024-03-25T00:00:00.000000000\",\"2024-03-26T00:00:00.000000000\",\"2024-03-27T00:00:00.000000000\",\"2024-03-28T00:00:00.000000000\",\"2024-04-01T00:00:00.000000000\",\"2024-04-02T00:00:00.000000000\",\"2024-04-03T00:00:00.000000000\",\"2024-04-04T00:00:00.000000000\",\"2024-04-05T00:00:00.000000000\",\"2024-04-08T00:00:00.000000000\",\"2024-04-09T00:00:00.000000000\",\"2024-04-10T00:00:00.000000000\",\"2024-04-11T00:00:00.000000000\",\"2024-04-12T00:00:00.000000000\",\"2024-04-15T00:00:00.000000000\",\"2024-04-16T00:00:00.000000000\",\"2024-04-17T00:00:00.000000000\",\"2024-04-18T00:00:00.000000000\",\"2024-04-19T00:00:00.000000000\",\"2024-04-22T00:00:00.000000000\",\"2024-04-23T00:00:00.000000000\",\"2024-04-24T00:00:00.000000000\",\"2024-04-25T00:00:00.000000000\",\"2024-04-26T00:00:00.000000000\",\"2024-04-29T00:00:00.000000000\",\"2024-04-30T00:00:00.000000000\",\"2024-05-01T00:00:00.000000000\",\"2024-05-02T00:00:00.000000000\",\"2024-05-03T00:00:00.000000000\",\"2024-05-06T00:00:00.000000000\",\"2024-05-07T00:00:00.000000000\",\"2024-05-08T00:00:00.000000000\",\"2024-05-09T00:00:00.000000000\",\"2024-05-10T00:00:00.000000000\",\"2024-05-13T00:00:00.000000000\",\"2024-05-14T00:00:00.000000000\",\"2024-05-15T00:00:00.000000000\",\"2024-05-16T00:00:00.000000000\",\"2024-05-17T00:00:00.000000000\",\"2024-05-20T00:00:00.000000000\",\"2024-05-21T00:00:00.000000000\",\"2024-05-22T00:00:00.000000000\",\"2024-05-23T00:00:00.000000000\",\"2024-05-24T00:00:00.000000000\",\"2024-05-28T00:00:00.000000000\",\"2024-05-29T00:00:00.000000000\",\"2024-05-30T00:00:00.000000000\",\"2024-05-31T00:00:00.000000000\",\"2024-06-03T00:00:00.000000000\",\"2024-06-04T00:00:00.000000000\",\"2024-06-05T00:00:00.000000000\",\"2024-06-06T00:00:00.000000000\",\"2024-06-07T00:00:00.000000000\",\"2024-06-10T00:00:00.000000000\",\"2024-06-11T00:00:00.000000000\",\"2024-06-12T00:00:00.000000000\",\"2024-06-13T00:00:00.000000000\",\"2024-06-14T00:00:00.000000000\",\"2024-06-17T00:00:00.000000000\",\"2024-06-18T00:00:00.000000000\",\"2024-06-20T00:00:00.000000000\",\"2024-06-21T00:00:00.000000000\",\"2024-06-24T00:00:00.000000000\",\"2024-06-25T00:00:00.000000000\",\"2024-06-26T00:00:00.000000000\",\"2024-06-27T00:00:00.000000000\",\"2024-06-28T00:00:00.000000000\",\"2024-07-01T00:00:00.000000000\",\"2024-07-02T00:00:00.000000000\",\"2024-07-03T00:00:00.000000000\",\"2024-07-05T00:00:00.000000000\",\"2024-07-08T00:00:00.000000000\",\"2024-07-09T00:00:00.000000000\",\"2024-07-10T00:00:00.000000000\",\"2024-07-11T00:00:00.000000000\",\"2024-07-12T00:00:00.000000000\",\"2024-07-15T00:00:00.000000000\",\"2024-07-16T00:00:00.000000000\",\"2024-07-17T00:00:00.000000000\",\"2024-07-18T00:00:00.000000000\",\"2024-07-19T00:00:00.000000000\",\"2024-07-22T00:00:00.000000000\",\"2024-07-23T00:00:00.000000000\",\"2024-07-24T00:00:00.000000000\",\"2024-07-25T00:00:00.000000000\",\"2024-07-26T00:00:00.000000000\",\"2024-07-29T00:00:00.000000000\",\"2024-07-30T00:00:00.000000000\",\"2024-07-31T00:00:00.000000000\",\"2024-08-01T00:00:00.000000000\",\"2024-08-02T00:00:00.000000000\",\"2024-08-05T00:00:00.000000000\",\"2024-08-06T00:00:00.000000000\",\"2024-08-07T00:00:00.000000000\",\"2024-08-08T00:00:00.000000000\",\"2024-08-09T00:00:00.000000000\",\"2024-08-12T00:00:00.000000000\",\"2024-08-13T00:00:00.000000000\",\"2024-08-14T00:00:00.000000000\",\"2024-08-15T00:00:00.000000000\",\"2024-08-16T00:00:00.000000000\",\"2024-08-19T00:00:00.000000000\",\"2024-08-20T00:00:00.000000000\",\"2024-08-21T00:00:00.000000000\",\"2024-08-22T00:00:00.000000000\",\"2024-08-23T00:00:00.000000000\",\"2024-08-26T00:00:00.000000000\",\"2024-08-27T00:00:00.000000000\",\"2024-08-28T00:00:00.000000000\",\"2024-08-29T00:00:00.000000000\",\"2024-08-30T00:00:00.000000000\",\"2024-09-03T00:00:00.000000000\",\"2024-09-04T00:00:00.000000000\",\"2024-09-05T00:00:00.000000000\",\"2024-09-06T00:00:00.000000000\",\"2024-09-09T00:00:00.000000000\",\"2024-09-10T00:00:00.000000000\",\"2024-09-11T00:00:00.000000000\",\"2024-09-12T00:00:00.000000000\",\"2024-09-13T00:00:00.000000000\",\"2024-09-16T00:00:00.000000000\",\"2024-09-17T00:00:00.000000000\",\"2024-09-18T00:00:00.000000000\",\"2024-09-19T00:00:00.000000000\",\"2024-09-20T00:00:00.000000000\",\"2024-09-23T00:00:00.000000000\",\"2024-09-24T00:00:00.000000000\",\"2024-09-25T00:00:00.000000000\",\"2024-09-26T00:00:00.000000000\",\"2024-09-27T00:00:00.000000000\",\"2024-09-30T00:00:00.000000000\",\"2024-10-01T00:00:00.000000000\",\"2024-10-02T00:00:00.000000000\",\"2024-10-03T00:00:00.000000000\",\"2024-10-04T00:00:00.000000000\",\"2024-10-07T00:00:00.000000000\",\"2024-10-08T00:00:00.000000000\",\"2024-10-09T00:00:00.000000000\",\"2024-10-10T00:00:00.000000000\",\"2024-10-11T00:00:00.000000000\",\"2024-10-14T00:00:00.000000000\",\"2024-10-15T00:00:00.000000000\",\"2024-10-16T00:00:00.000000000\",\"2024-10-17T00:00:00.000000000\",\"2024-10-18T00:00:00.000000000\",\"2024-10-21T00:00:00.000000000\",\"2024-10-22T00:00:00.000000000\",\"2024-10-23T00:00:00.000000000\",\"2024-10-24T00:00:00.000000000\",\"2024-10-25T00:00:00.000000000\",\"2024-10-28T00:00:00.000000000\",\"2024-10-29T00:00:00.000000000\",\"2024-10-30T00:00:00.000000000\",\"2024-10-31T00:00:00.000000000\",\"2024-11-01T00:00:00.000000000\",\"2024-11-04T00:00:00.000000000\",\"2024-11-05T00:00:00.000000000\",\"2024-11-06T00:00:00.000000000\",\"2024-11-07T00:00:00.000000000\",\"2024-11-08T00:00:00.000000000\",\"2024-11-11T00:00:00.000000000\",\"2024-11-12T00:00:00.000000000\",\"2024-11-13T00:00:00.000000000\",\"2024-11-14T00:00:00.000000000\",\"2024-11-15T00:00:00.000000000\",\"2024-11-18T00:00:00.000000000\",\"2024-11-19T00:00:00.000000000\",\"2024-11-20T00:00:00.000000000\",\"2024-11-21T00:00:00.000000000\",\"2024-11-22T00:00:00.000000000\",\"2024-11-25T00:00:00.000000000\",\"2024-11-26T00:00:00.000000000\",\"2024-11-27T00:00:00.000000000\",\"2024-11-29T00:00:00.000000000\",\"2024-12-02T00:00:00.000000000\",\"2024-12-03T00:00:00.000000000\",\"2024-12-04T00:00:00.000000000\",\"2024-12-05T00:00:00.000000000\",\"2024-12-06T00:00:00.000000000\",\"2024-12-09T00:00:00.000000000\",\"2024-12-10T00:00:00.000000000\",\"2024-12-11T00:00:00.000000000\",\"2024-12-12T00:00:00.000000000\",\"2024-12-13T00:00:00.000000000\",\"2024-12-16T00:00:00.000000000\",\"2024-12-17T00:00:00.000000000\",\"2024-12-18T00:00:00.000000000\",\"2024-12-19T00:00:00.000000000\",\"2024-12-20T00:00:00.000000000\",\"2024-12-23T00:00:00.000000000\",\"2024-12-24T00:00:00.000000000\",\"2024-12-26T00:00:00.000000000\",\"2024-12-27T00:00:00.000000000\",\"2024-12-30T00:00:00.000000000\",\"2024-12-31T00:00:00.000000000\",\"2025-01-02T00:00:00.000000000\",\"2025-01-03T00:00:00.000000000\",\"2025-01-06T00:00:00.000000000\",\"2025-01-07T00:00:00.000000000\",\"2025-01-08T00:00:00.000000000\",\"2025-01-10T00:00:00.000000000\",\"2025-01-13T00:00:00.000000000\",\"2025-01-14T00:00:00.000000000\",\"2025-01-15T00:00:00.000000000\",\"2025-01-16T00:00:00.000000000\",\"2025-01-17T00:00:00.000000000\",\"2025-01-21T00:00:00.000000000\",\"2025-01-22T00:00:00.000000000\",\"2025-01-23T00:00:00.000000000\",\"2025-01-24T00:00:00.000000000\",\"2025-01-27T00:00:00.000000000\",\"2025-01-28T00:00:00.000000000\",\"2025-01-29T00:00:00.000000000\",\"2025-01-30T00:00:00.000000000\",\"2025-01-31T00:00:00.000000000\",\"2025-02-03T00:00:00.000000000\",\"2025-02-04T00:00:00.000000000\",\"2025-02-05T00:00:00.000000000\",\"2025-02-06T00:00:00.000000000\",\"2025-02-07T00:00:00.000000000\",\"2025-02-10T00:00:00.000000000\",\"2025-02-11T00:00:00.000000000\",\"2025-02-12T00:00:00.000000000\",\"2025-02-13T00:00:00.000000000\",\"2025-02-14T00:00:00.000000000\",\"2025-02-18T00:00:00.000000000\",\"2025-02-19T00:00:00.000000000\"],\"y\":{\"dtype\":\"f8\",\"bdata\":\"AAAAAAAA+H8AAAAAAAD4fwAAAAAAAPh\\u002fAAAAAAAA+H8AAAAAAAD4fwAAAAAAAPh\\u002fAAAAAAAA+H8AAAAAAAD4fwAAAAAAAPh\\u002fAAAAAAAA+H8AAAAAAAD4fwAAAAAAAPh\\u002fAAAAAAAA+H8AAAAAAAD4fwAAAAAAAPh\\u002fAAAAAAAA+H8AAAAAAAD4fwAAAAAAAPh\\u002fAAAAAAAA+H9mZmYeifBlQJqZmRHP52VAMzMzC\\u002f\\u002fhZUAzMzNDS81lQM3MzKz8vGVAzczMjJGsZUDNzMxk\\u002fpdlQM3MzCQUi2VAzczM\\u002fFB8ZUAzMzMT+2xlQM3MzAQDY2VAAAAAaENiZUDNzMwcyWFlQDMzM5O1YmVAzczMFBRfZUCamZlxLFplQGZmZp5+UWVAZmZmnrhXZUDNzMzcX11lQAAAAGh8XWVAmpmZGZNWZUDNzMwUtUllQJqZmdEvN2VAZmZm7gotZUCamZmBySJlQGZmZi5\\u002fHGVAMzMz42UbZUAzMzOj8xVlQJqZmel6EmVAMzMziwEYZUAzMzP7YBplQM3MzEzSGWVAzczMnIYgZUDNzMyEgDZlQDMzM0ueS2VAZmZm\\u002fuNfZUAAAADQtndlQAAAAPjjhmVAMzMzE6ORZUCamZlhrqdlQM3MzIzUxGVAMzMzK9TnZUAzMzMjjAxmQJqZmQGQNGZAzczMDBtdZkAAAADADIZmQDMzMztOqWZAAAAA+MPEZkDNzMy8G+ZmQJqZmVnHAGdAMzMzw\\u002fkgZ0AAAABQaERnQAAAACBuY2dAAAAAKM90Z0CamZmhW4lnQJqZmVE7n2dAZmZm9liyZ0AAAABgZMZnQDMzMztz1mdAmpmZ8br3Z0CamZnpnSBoQJqZmam3R2hAAAAACNZraEAzMzOLkpZoQGZmZtalu2hAzczMbEjXaEBmZmbuvPFoQDMzM9ujE2lAZmZm7hQyaUCamZlRLFdpQDMzMzskfWlAzczMRPebaUAzMzPbCMNpQJqZmcHg7GlAzczMjEAYakCamZlB10hqQM3MzJQBfmpAZmZmJrOwakDNzMwcQ\\u002fBqQDMzMyPTEGtAAAAA4K4sa0BmZma+1ExrQAAAAHhwcGtAZmZm7uiDa0BmZmZOrpNrQM3MzKwCq2tAmpmZMUbFa0AAAAAALeBrQDMzM+tG72tAZmZmzgn2a0CamZmRMfxrQGZmZkZYCGxAzczMJJ0LbECamZkJgA5sQJqZmclpCWxAmpmZeRT\\u002fa0CamZnZf+FrQGZmZl5Lv2tAAAAA0Fyaa0AzMzN7n4NrQM3MzNTRbGtAAAAA0FFSa0AAAADgHj1rQDMzM7scMmtAzczMXGMza0AAAACAlDZrQM3MzBwTOmtAzczMfOI8a0CamZkh1klrQGZmZiZ6VWtAzczMZA5ka0AzMzNLu3JrQDMzM\\u002fvegWtAmpmZSVKJa0AzMzPr+JtrQDMzM1P4qmtAAAAAqOjAa0AzMzMTCddrQGZmZn5562tAmpmZodv3a0BmZmZutv9rQJqZmeHUA2xAmpmZ+QwGbEAzMzMbugdsQDMzM8suBGxAMzMzI6b0a0DNzMz0HuZrQJqZmVHU3GtAAAAA0MXga0DNzMy8oeZrQM3MzIQK5mtAzczMLFjma0DNzMy8seNrQDMzM7NW5WtAMzMzSyXia0CamZkZiOhrQJqZmQkG7mtAmpmZoX33a0CamZlBvvxrQAAAAEhKBmxAmpmZEYkHbEAAAABQkhBsQM3MzCyOG2xAMzMzu5AlbEAzMzOroC1sQAAAAACLRWxAAAAAcMdgbEDNzMzse3JsQGZmZna4d2xAAAAAoJOCbEAAAAC4jpJsQGZmZpYcoGxAAAAAyB6nbEAzMzNT\\u002fatsQDMzM9PEsWxAzczMTGiybEAzMzMzUb5sQM3MzBSew2xAzczMLADEbEAzMzNTyr1sQDMzMxtNvmxAMzMz65i6bEDNzMyUta9sQJqZmQE4rWxAzczM7KysbEDNzMw8yKFsQM3MzFzRkmxAzczMpJSIbEAzMzMTtYJsQGZmZj4jc2xAMzMzKwhmbEDNzMzcVFpsQM3MzITsV2xAZmZmbg1VbEDNzMxk\\u002f1JsQGZmZn6PUmxAAAAASDFVbECamZnxUF1sQM3MzAT3b2xAAAAA4AOLbEAAAACQZKxsQDMzMwMMzGxAZmZmFursbEAzMzPr3AVtQAAAAAB+JW1AzczMZB1LbUAzMzMTsW5tQJqZmREyk21AZmZmPgSzbUAzMzODotxtQAAAAHhTBW5AZmZmXuwkbkCamZmZJkZuQDMzMzuob25AZmZmpkCYbkBmZmZuvMBuQJqZmakH525AzczMtAwIb0DNzMzE0B9vQGZmZt4fMW9AMzMz2wozb0AAAAAQmjNvQAAAAAC8Nm9AZmZmPro1b0BmZmYuQS9vQDMzM0PNHW9AMzMzo3oKb0BmZmZOBPNuQM3MzGye4m5AzczM\\u002fDW+bkBmZmb2pphuQM3MzHQKcG5AMzMz64xGbkCamZnRRhVuQGZmZoZZ4W1AMzMzMw60bUAAAABA4JJtQGZmZr7veG1AZmZmDpZhbUDNzMwcikptQDMzMys5MW1AMzMzi1ggbUDNzMzkUQxtQJqZmaHz\\u002fWxAZmZmvt3lbEAAAAD4j9dsQDMzM1Mg1WxAMzMzu0fbbEAAAADgjeFsQM3MzGwZ\\u002fGxAzczM\\u002fK8TbUDNzMyMpTdtQA==\"},\"type\":\"scatter\"},{\"line\":{\"color\":\"blue\",\"dash\":\"dash\"},\"name\":\"BB Lower\",\"x\":[\"2024-02-20T00:00:00.000000000\",\"2024-02-21T00:00:00.000000000\",\"2024-02-22T00:00:00.000000000\",\"2024-02-23T00:00:00.000000000\",\"2024-02-26T00:00:00.000000000\",\"2024-02-27T00:00:00.000000000\",\"2024-02-28T00:00:00.000000000\",\"2024-02-29T00:00:00.000000000\",\"2024-03-01T00:00:00.000000000\",\"2024-03-04T00:00:00.000000000\",\"2024-03-05T00:00:00.000000000\",\"2024-03-06T00:00:00.000000000\",\"2024-03-07T00:00:00.000000000\",\"2024-03-08T00:00:00.000000000\",\"2024-03-11T00:00:00.000000000\",\"2024-03-12T00:00:00.000000000\",\"2024-03-13T00:00:00.000000000\",\"2024-03-14T00:00:00.000000000\",\"2024-03-15T00:00:00.000000000\",\"2024-03-18T00:00:00.000000000\",\"2024-03-19T00:00:00.000000000\",\"2024-03-20T00:00:00.000000000\",\"2024-03-21T00:00:00.000000000\",\"2024-03-22T00:00:00.000000000\",\"2024-03-25T00:00:00.000000000\",\"2024-03-26T00:00:00.000000000\",\"2024-03-27T00:00:00.000000000\",\"2024-03-28T00:00:00.000000000\",\"2024-04-01T00:00:00.000000000\",\"2024-04-02T00:00:00.000000000\",\"2024-04-03T00:00:00.000000000\",\"2024-04-04T00:00:00.000000000\",\"2024-04-05T00:00:00.000000000\",\"2024-04-08T00:00:00.000000000\",\"2024-04-09T00:00:00.000000000\",\"2024-04-10T00:00:00.000000000\",\"2024-04-11T00:00:00.000000000\",\"2024-04-12T00:00:00.000000000\",\"2024-04-15T00:00:00.000000000\",\"2024-04-16T00:00:00.000000000\",\"2024-04-17T00:00:00.000000000\",\"2024-04-18T00:00:00.000000000\",\"2024-04-19T00:00:00.000000000\",\"2024-04-22T00:00:00.000000000\",\"2024-04-23T00:00:00.000000000\",\"2024-04-24T00:00:00.000000000\",\"2024-04-25T00:00:00.000000000\",\"2024-04-26T00:00:00.000000000\",\"2024-04-29T00:00:00.000000000\",\"2024-04-30T00:00:00.000000000\",\"2024-05-01T00:00:00.000000000\",\"2024-05-02T00:00:00.000000000\",\"2024-05-03T00:00:00.000000000\",\"2024-05-06T00:00:00.000000000\",\"2024-05-07T00:00:00.000000000\",\"2024-05-08T00:00:00.000000000\",\"2024-05-09T00:00:00.000000000\",\"2024-05-10T00:00:00.000000000\",\"2024-05-13T00:00:00.000000000\",\"2024-05-14T00:00:00.000000000\",\"2024-05-15T00:00:00.000000000\",\"2024-05-16T00:00:00.000000000\",\"2024-05-17T00:00:00.000000000\",\"2024-05-20T00:00:00.000000000\",\"2024-05-21T00:00:00.000000000\",\"2024-05-22T00:00:00.000000000\",\"2024-05-23T00:00:00.000000000\",\"2024-05-24T00:00:00.000000000\",\"2024-05-28T00:00:00.000000000\",\"2024-05-29T00:00:00.000000000\",\"2024-05-30T00:00:00.000000000\",\"2024-05-31T00:00:00.000000000\",\"2024-06-03T00:00:00.000000000\",\"2024-06-04T00:00:00.000000000\",\"2024-06-05T00:00:00.000000000\",\"2024-06-06T00:00:00.000000000\",\"2024-06-07T00:00:00.000000000\",\"2024-06-10T00:00:00.000000000\",\"2024-06-11T00:00:00.000000000\",\"2024-06-12T00:00:00.000000000\",\"2024-06-13T00:00:00.000000000\",\"2024-06-14T00:00:00.000000000\",\"2024-06-17T00:00:00.000000000\",\"2024-06-18T00:00:00.000000000\",\"2024-06-20T00:00:00.000000000\",\"2024-06-21T00:00:00.000000000\",\"2024-06-24T00:00:00.000000000\",\"2024-06-25T00:00:00.000000000\",\"2024-06-26T00:00:00.000000000\",\"2024-06-27T00:00:00.000000000\",\"2024-06-28T00:00:00.000000000\",\"2024-07-01T00:00:00.000000000\",\"2024-07-02T00:00:00.000000000\",\"2024-07-03T00:00:00.000000000\",\"2024-07-05T00:00:00.000000000\",\"2024-07-08T00:00:00.000000000\",\"2024-07-09T00:00:00.000000000\",\"2024-07-10T00:00:00.000000000\",\"2024-07-11T00:00:00.000000000\",\"2024-07-12T00:00:00.000000000\",\"2024-07-15T00:00:00.000000000\",\"2024-07-16T00:00:00.000000000\",\"2024-07-17T00:00:00.000000000\",\"2024-07-18T00:00:00.000000000\",\"2024-07-19T00:00:00.000000000\",\"2024-07-22T00:00:00.000000000\",\"2024-07-23T00:00:00.000000000\",\"2024-07-24T00:00:00.000000000\",\"2024-07-25T00:00:00.000000000\",\"2024-07-26T00:00:00.000000000\",\"2024-07-29T00:00:00.000000000\",\"2024-07-30T00:00:00.000000000\",\"2024-07-31T00:00:00.000000000\",\"2024-08-01T00:00:00.000000000\",\"2024-08-02T00:00:00.000000000\",\"2024-08-05T00:00:00.000000000\",\"2024-08-06T00:00:00.000000000\",\"2024-08-07T00:00:00.000000000\",\"2024-08-08T00:00:00.000000000\",\"2024-08-09T00:00:00.000000000\",\"2024-08-12T00:00:00.000000000\",\"2024-08-13T00:00:00.000000000\",\"2024-08-14T00:00:00.000000000\",\"2024-08-15T00:00:00.000000000\",\"2024-08-16T00:00:00.000000000\",\"2024-08-19T00:00:00.000000000\",\"2024-08-20T00:00:00.000000000\",\"2024-08-21T00:00:00.000000000\",\"2024-08-22T00:00:00.000000000\",\"2024-08-23T00:00:00.000000000\",\"2024-08-26T00:00:00.000000000\",\"2024-08-27T00:00:00.000000000\",\"2024-08-28T00:00:00.000000000\",\"2024-08-29T00:00:00.000000000\",\"2024-08-30T00:00:00.000000000\",\"2024-09-03T00:00:00.000000000\",\"2024-09-04T00:00:00.000000000\",\"2024-09-05T00:00:00.000000000\",\"2024-09-06T00:00:00.000000000\",\"2024-09-09T00:00:00.000000000\",\"2024-09-10T00:00:00.000000000\",\"2024-09-11T00:00:00.000000000\",\"2024-09-12T00:00:00.000000000\",\"2024-09-13T00:00:00.000000000\",\"2024-09-16T00:00:00.000000000\",\"2024-09-17T00:00:00.000000000\",\"2024-09-18T00:00:00.000000000\",\"2024-09-19T00:00:00.000000000\",\"2024-09-20T00:00:00.000000000\",\"2024-09-23T00:00:00.000000000\",\"2024-09-24T00:00:00.000000000\",\"2024-09-25T00:00:00.000000000\",\"2024-09-26T00:00:00.000000000\",\"2024-09-27T00:00:00.000000000\",\"2024-09-30T00:00:00.000000000\",\"2024-10-01T00:00:00.000000000\",\"2024-10-02T00:00:00.000000000\",\"2024-10-03T00:00:00.000000000\",\"2024-10-04T00:00:00.000000000\",\"2024-10-07T00:00:00.000000000\",\"2024-10-08T00:00:00.000000000\",\"2024-10-09T00:00:00.000000000\",\"2024-10-10T00:00:00.000000000\",\"2024-10-11T00:00:00.000000000\",\"2024-10-14T00:00:00.000000000\",\"2024-10-15T00:00:00.000000000\",\"2024-10-16T00:00:00.000000000\",\"2024-10-17T00:00:00.000000000\",\"2024-10-18T00:00:00.000000000\",\"2024-10-21T00:00:00.000000000\",\"2024-10-22T00:00:00.000000000\",\"2024-10-23T00:00:00.000000000\",\"2024-10-24T00:00:00.000000000\",\"2024-10-25T00:00:00.000000000\",\"2024-10-28T00:00:00.000000000\",\"2024-10-29T00:00:00.000000000\",\"2024-10-30T00:00:00.000000000\",\"2024-10-31T00:00:00.000000000\",\"2024-11-01T00:00:00.000000000\",\"2024-11-04T00:00:00.000000000\",\"2024-11-05T00:00:00.000000000\",\"2024-11-06T00:00:00.000000000\",\"2024-11-07T00:00:00.000000000\",\"2024-11-08T00:00:00.000000000\",\"2024-11-11T00:00:00.000000000\",\"2024-11-12T00:00:00.000000000\",\"2024-11-13T00:00:00.000000000\",\"2024-11-14T00:00:00.000000000\",\"2024-11-15T00:00:00.000000000\",\"2024-11-18T00:00:00.000000000\",\"2024-11-19T00:00:00.000000000\",\"2024-11-20T00:00:00.000000000\",\"2024-11-21T00:00:00.000000000\",\"2024-11-22T00:00:00.000000000\",\"2024-11-25T00:00:00.000000000\",\"2024-11-26T00:00:00.000000000\",\"2024-11-27T00:00:00.000000000\",\"2024-11-29T00:00:00.000000000\",\"2024-12-02T00:00:00.000000000\",\"2024-12-03T00:00:00.000000000\",\"2024-12-04T00:00:00.000000000\",\"2024-12-05T00:00:00.000000000\",\"2024-12-06T00:00:00.000000000\",\"2024-12-09T00:00:00.000000000\",\"2024-12-10T00:00:00.000000000\",\"2024-12-11T00:00:00.000000000\",\"2024-12-12T00:00:00.000000000\",\"2024-12-13T00:00:00.000000000\",\"2024-12-16T00:00:00.000000000\",\"2024-12-17T00:00:00.000000000\",\"2024-12-18T00:00:00.000000000\",\"2024-12-19T00:00:00.000000000\",\"2024-12-20T00:00:00.000000000\",\"2024-12-23T00:00:00.000000000\",\"2024-12-24T00:00:00.000000000\",\"2024-12-26T00:00:00.000000000\",\"2024-12-27T00:00:00.000000000\",\"2024-12-30T00:00:00.000000000\",\"2024-12-31T00:00:00.000000000\",\"2025-01-02T00:00:00.000000000\",\"2025-01-03T00:00:00.000000000\",\"2025-01-06T00:00:00.000000000\",\"2025-01-07T00:00:00.000000000\",\"2025-01-08T00:00:00.000000000\",\"2025-01-10T00:00:00.000000000\",\"2025-01-13T00:00:00.000000000\",\"2025-01-14T00:00:00.000000000\",\"2025-01-15T00:00:00.000000000\",\"2025-01-16T00:00:00.000000000\",\"2025-01-17T00:00:00.000000000\",\"2025-01-21T00:00:00.000000000\",\"2025-01-22T00:00:00.000000000\",\"2025-01-23T00:00:00.000000000\",\"2025-01-24T00:00:00.000000000\",\"2025-01-27T00:00:00.000000000\",\"2025-01-28T00:00:00.000000000\",\"2025-01-29T00:00:00.000000000\",\"2025-01-30T00:00:00.000000000\",\"2025-01-31T00:00:00.000000000\",\"2025-02-03T00:00:00.000000000\",\"2025-02-04T00:00:00.000000000\",\"2025-02-05T00:00:00.000000000\",\"2025-02-06T00:00:00.000000000\",\"2025-02-07T00:00:00.000000000\",\"2025-02-10T00:00:00.000000000\",\"2025-02-11T00:00:00.000000000\",\"2025-02-12T00:00:00.000000000\",\"2025-02-13T00:00:00.000000000\",\"2025-02-14T00:00:00.000000000\",\"2025-02-18T00:00:00.000000000\",\"2025-02-19T00:00:00.000000000\"],\"y\":{\"dtype\":\"f8\",\"bdata\":\"AAAAAAAA+H8AAAAAAAD4fwAAAAAAAPh\\u002fAAAAAAAA+H8AAAAAAAD4fwAAAAAAAPh\\u002fAAAAAAAA+H8AAAAAAAD4fwAAAAAAAPh\\u002fAAAAAAAA+H8AAAAAAAD4fwAAAAAAAPh\\u002fAAAAAAAA+H8AAAAAAAD4fwAAAAAAAPh\\u002fAAAAAAAA+H8AAAAAAAD4fwAAAAAAAPh\\u002fAAAAAAAA+H\\u002fqU8o2r5tkQGHZjZELnGRAvAk98QOhZEDdMMRz66BkQGDtEuPBomRA31Ge6JWeZEBUDwR9bqJkQBjiPOCVs2RAlLO3I2rEZEB599bjFdJkQNd+6sxax2RAEwMKhlHFZEAsViA5qcNkQDcaNw6gxmRA\\u002fyWk1yO8ZEDMySNWQ7VkQM0oz97IpWRAEBIlOjykZEDyc5xbFp1kQJtwPm0gnWRAPF5r3OCVZEAO65Lfqo9kQE4\\u002fCci0mmRAlFJBjZ9+ZECT6DRZwWxkQAi36qZJYmRAwiAYdvJgZEC4bRtdo2NkQKSNRDWyYmRA6vdOt8JeZEDoSerSIWFkQOH5duqEYGRAWLJQcGphZEA\\u002fLv3k4SZkQNLFUPLdEmRAmisGRNIBZEDP1s6wkP5jQPbdhSue6WNAW66edYndY0Bbv20HRs1jQFWIkIFoymNAXlLdWD7OY0Dl2EEVp+FjQKbX7E55DGRA8i+9dnE6ZEBvH0fo3mlkQJe+JyZ0mmRAcdL9PCXTZEB1KBZ9ihdlQJ4gBgnHRmVACavpu2qaZUA6PcCu5Q9mQBgst1U4d2ZAug8MywKDZkBW0CGno59mQOP2oh7DuGZAFkXeFlXcZkA0rTa5Xu9mQEB9UJYLIGdA9qEUteniZkAQoKhjuJVmQELz344aYWZAFMpCH1hPZkDyhsXQSThmQIbQ\\u002fHTKN2ZAdTxBhLNHZkCEIga0f2VmQGluQBN4nmZATQQ0eaPLZkCWPxqRkfpmQOWvlyv2L2dADsEcuYJsZ0BdrgaLg6NnQFiYMWNm0GdAw4iT2ckEaEBnkrnPoipoQDj+VEKmaGhAXOnC19SjaEDkT8xpPAhpQGjCHyJNI2lAfWUzq+UgaUBUfzwTFhRpQEIzx\\u002fROF2lAVZnH+DQhaUAuD8wygzdpQOAwYH7fZ2lA\\u002fei8b\\u002fqsaUArL1b5hPdpQLDIXqbmMmpA+BTvSl9MakAYbnFaYWNqQK7N4UJem2pACIdNpoOnakCNDDFlxK5qQLGdGBbGn2pAMfAmwqaOakBxfQmU4zdqQCgZRubV32lAVp4jKkKzaUBLsnX6t5dpQN9PONBGk2lAo269+1SraUD5TrRJYtlpQF3pFsmS7GlA1qp+0ZHqaUDuNFBf2+RpQAgrrOVZ32lAIa1WJE7aaUDiommeQdVpQIZOLRrx2GlArcG2PebYaUAU6bFcGdppQLYW0mak2mlABPlPOOXZaUDBpksDHtxpQMT3iOoV32lAQAPqIzMfakA80735ynpqQIVAA8MI0WpAchSm6fMKa0BThRJ4zy5rQNs0uuC1QmtABTeLkx5Ja0AKti\\u002f+wU1rQGCIdUZ+R2tAmhI3H2YXa0ASryuVPfNqQBBM+PNF6mpAT+ZfIj7lakCzPo19m+JqQAodyY3s4mpAEhomtqniakCxTV3M7uRqQLEVjsSq42pAGuHtt0HpakACCSsbfddqQOpQG0Q922pANK0XtO3lakB8FTAX6utqQCWNsXrr+GpAgCeh4kr8akCCt9XSQA5rQKQ4PIINFGtAUYdnKREca0A7bHlzSydrQEiAyVOyX2tArHLnyT+Za0B3IHBFm75rQKXEIhPfumtAK5KC8ISua0AKv4UqPKVrQMTNv5WZoWtAYgX6zIisa0Aro751ZLNrQPvkDrNUumtAqP7X0OK5a0CXzuZZ6cdrQJZM8+dZ02tAckXR\\u002fMXUa0CeUw1YgLtrQLbx1dFOvmtAPdhil5ava0Cauh1ba49rQMfxZu72imtATjqZEcmJa0BVeXrvwnVrQAcOEjy2ZWtABgab5dhZa0A8KzrOQlhrQDZn9Zh0VWtASVESsHlla0D0XzrPWnhrQFYpcjDheWtACyek01d7a0DMg5Sn9X1rQOLa0r87f2tAAT5m2Nt1a0BSgatUK2VrQCnfCALfUWtAxo9IZYFJa0CNSLD1Q0JrQM2pyLh9QGtAct5yqLRPa0DOsW6oDlFrQBmk57EBTGtALbjIQ99ca0DdL1SXh35rQIuqOeONoGtAsAdHmme5a0Bz+msPcehrQGvV2+HFBmxAFBx4U+Y9bECNN6fbEndsQEEWVgNWtGxAQc2qY\\u002fzzbEC0JTWmGB5tQHQKKQ6UQm1AsaUFF7mBbUACWvtc9LxtQNXwXl5k7W1AEbM3hpv0bUAB0KrdwPZtQJZMrrfbAW5AoZbqPZr9bUCI9UT0IeltQNuulYSYp21AOkz9k4BdbUCA102vPhFtQJAXDxUs7GxAQWNp02+GbECwg2KtLj9sQO+Sqh84yWtAO5cw0Kpta0B1qzoG4yRrQDHwj7nh5mpAQh9Z1lfmakD70LeKGQ9rQL8jwysNNGtAc4ieCPFQa0BmGPwu1GxrQFpcV9wUYGtA25Hn\\u002fPlla0C6WG6Cs3ZrQPC6+\\u002flvgmtAYCDYQySIa0CVhn5dSoBrQMAr8PRtgGtACdLUd4h8a0BZQf6rnW5rQPPJsA0ZXWtAxTVWpA5Ra0AgIGfUJHBrQA==\"},\"type\":\"scatter\"}],                        {\"template\":{\"data\":{\"histogram2dcontour\":[{\"type\":\"histogram2dcontour\",\"colorbar\":{\"outlinewidth\":0,\"ticks\":\"\"},\"colorscale\":[[0.0,\"#0d0887\"],[0.1111111111111111,\"#46039f\"],[0.2222222222222222,\"#7201a8\"],[0.3333333333333333,\"#9c179e\"],[0.4444444444444444,\"#bd3786\"],[0.5555555555555556,\"#d8576b\"],[0.6666666666666666,\"#ed7953\"],[0.7777777777777778,\"#fb9f3a\"],[0.8888888888888888,\"#fdca26\"],[1.0,\"#f0f921\"]]}],\"choropleth\":[{\"type\":\"choropleth\",\"colorbar\":{\"outlinewidth\":0,\"ticks\":\"\"}}],\"histogram2d\":[{\"type\":\"histogram2d\",\"colorbar\":{\"outlinewidth\":0,\"ticks\":\"\"},\"colorscale\":[[0.0,\"#0d0887\"],[0.1111111111111111,\"#46039f\"],[0.2222222222222222,\"#7201a8\"],[0.3333333333333333,\"#9c179e\"],[0.4444444444444444,\"#bd3786\"],[0.5555555555555556,\"#d8576b\"],[0.6666666666666666,\"#ed7953\"],[0.7777777777777778,\"#fb9f3a\"],[0.8888888888888888,\"#fdca26\"],[1.0,\"#f0f921\"]]}],\"heatmap\":[{\"type\":\"heatmap\",\"colorbar\":{\"outlinewidth\":0,\"ticks\":\"\"},\"colorscale\":[[0.0,\"#0d0887\"],[0.1111111111111111,\"#46039f\"],[0.2222222222222222,\"#7201a8\"],[0.3333333333333333,\"#9c179e\"],[0.4444444444444444,\"#bd3786\"],[0.5555555555555556,\"#d8576b\"],[0.6666666666666666,\"#ed7953\"],[0.7777777777777778,\"#fb9f3a\"],[0.8888888888888888,\"#fdca26\"],[1.0,\"#f0f921\"]]}],\"contourcarpet\":[{\"type\":\"contourcarpet\",\"colorbar\":{\"outlinewidth\":0,\"ticks\":\"\"}}],\"contour\":[{\"type\":\"contour\",\"colorbar\":{\"outlinewidth\":0,\"ticks\":\"\"},\"colorscale\":[[0.0,\"#0d0887\"],[0.1111111111111111,\"#46039f\"],[0.2222222222222222,\"#7201a8\"],[0.3333333333333333,\"#9c179e\"],[0.4444444444444444,\"#bd3786\"],[0.5555555555555556,\"#d8576b\"],[0.6666666666666666,\"#ed7953\"],[0.7777777777777778,\"#fb9f3a\"],[0.8888888888888888,\"#fdca26\"],[1.0,\"#f0f921\"]]}],\"surface\":[{\"type\":\"surface\",\"colorbar\":{\"outlinewidth\":0,\"ticks\":\"\"},\"colorscale\":[[0.0,\"#0d0887\"],[0.1111111111111111,\"#46039f\"],[0.2222222222222222,\"#7201a8\"],[0.3333333333333333,\"#9c179e\"],[0.4444444444444444,\"#bd3786\"],[0.5555555555555556,\"#d8576b\"],[0.6666666666666666,\"#ed7953\"],[0.7777777777777778,\"#fb9f3a\"],[0.8888888888888888,\"#fdca26\"],[1.0,\"#f0f921\"]]}],\"mesh3d\":[{\"type\":\"mesh3d\",\"colorbar\":{\"outlinewidth\":0,\"ticks\":\"\"}}],\"scatter\":[{\"fillpattern\":{\"fillmode\":\"overlay\",\"size\":10,\"solidity\":0.2},\"type\":\"scatter\"}],\"parcoords\":[{\"type\":\"parcoords\",\"line\":{\"colorbar\":{\"outlinewidth\":0,\"ticks\":\"\"}}}],\"scatterpolargl\":[{\"type\":\"scatterpolargl\",\"marker\":{\"colorbar\":{\"outlinewidth\":0,\"ticks\":\"\"}}}],\"bar\":[{\"error_x\":{\"color\":\"#2a3f5f\"},\"error_y\":{\"color\":\"#2a3f5f\"},\"marker\":{\"line\":{\"color\":\"#E5ECF6\",\"width\":0.5},\"pattern\":{\"fillmode\":\"overlay\",\"size\":10,\"solidity\":0.2}},\"type\":\"bar\"}],\"scattergeo\":[{\"type\":\"scattergeo\",\"marker\":{\"colorbar\":{\"outlinewidth\":0,\"ticks\":\"\"}}}],\"scatterpolar\":[{\"type\":\"scatterpolar\",\"marker\":{\"colorbar\":{\"outlinewidth\":0,\"ticks\":\"\"}}}],\"histogram\":[{\"marker\":{\"pattern\":{\"fillmode\":\"overlay\",\"size\":10,\"solidity\":0.2}},\"type\":\"histogram\"}],\"scattergl\":[{\"type\":\"scattergl\",\"marker\":{\"colorbar\":{\"outlinewidth\":0,\"ticks\":\"\"}}}],\"scatter3d\":[{\"type\":\"scatter3d\",\"line\":{\"colorbar\":{\"outlinewidth\":0,\"ticks\":\"\"}},\"marker\":{\"colorbar\":{\"outlinewidth\":0,\"ticks\":\"\"}}}],\"scattermap\":[{\"type\":\"scattermap\",\"marker\":{\"colorbar\":{\"outlinewidth\":0,\"ticks\":\"\"}}}],\"scattermapbox\":[{\"type\":\"scattermapbox\",\"marker\":{\"colorbar\":{\"outlinewidth\":0,\"ticks\":\"\"}}}],\"scatterternary\":[{\"type\":\"scatterternary\",\"marker\":{\"colorbar\":{\"outlinewidth\":0,\"ticks\":\"\"}}}],\"scattercarpet\":[{\"type\":\"scattercarpet\",\"marker\":{\"colorbar\":{\"outlinewidth\":0,\"ticks\":\"\"}}}],\"carpet\":[{\"aaxis\":{\"endlinecolor\":\"#2a3f5f\",\"gridcolor\":\"white\",\"linecolor\":\"white\",\"minorgridcolor\":\"white\",\"startlinecolor\":\"#2a3f5f\"},\"baxis\":{\"endlinecolor\":\"#2a3f5f\",\"gridcolor\":\"white\",\"linecolor\":\"white\",\"minorgridcolor\":\"white\",\"startlinecolor\":\"#2a3f5f\"},\"type\":\"carpet\"}],\"table\":[{\"cells\":{\"fill\":{\"color\":\"#EBF0F8\"},\"line\":{\"color\":\"white\"}},\"header\":{\"fill\":{\"color\":\"#C8D4E3\"},\"line\":{\"color\":\"white\"}},\"type\":\"table\"}],\"barpolar\":[{\"marker\":{\"line\":{\"color\":\"#E5ECF6\",\"width\":0.5},\"pattern\":{\"fillmode\":\"overlay\",\"size\":10,\"solidity\":0.2}},\"type\":\"barpolar\"}],\"pie\":[{\"automargin\":true,\"type\":\"pie\"}]},\"layout\":{\"autotypenumbers\":\"strict\",\"colorway\":[\"#636efa\",\"#EF553B\",\"#00cc96\",\"#ab63fa\",\"#FFA15A\",\"#19d3f3\",\"#FF6692\",\"#B6E880\",\"#FF97FF\",\"#FECB52\"],\"font\":{\"color\":\"#2a3f5f\"},\"hovermode\":\"closest\",\"hoverlabel\":{\"align\":\"left\"},\"paper_bgcolor\":\"white\",\"plot_bgcolor\":\"#E5ECF6\",\"polar\":{\"bgcolor\":\"#E5ECF6\",\"angularaxis\":{\"gridcolor\":\"white\",\"linecolor\":\"white\",\"ticks\":\"\"},\"radialaxis\":{\"gridcolor\":\"white\",\"linecolor\":\"white\",\"ticks\":\"\"}},\"ternary\":{\"bgcolor\":\"#E5ECF6\",\"aaxis\":{\"gridcolor\":\"white\",\"linecolor\":\"white\",\"ticks\":\"\"},\"baxis\":{\"gridcolor\":\"white\",\"linecolor\":\"white\",\"ticks\":\"\"},\"caxis\":{\"gridcolor\":\"white\",\"linecolor\":\"white\",\"ticks\":\"\"}},\"coloraxis\":{\"colorbar\":{\"outlinewidth\":0,\"ticks\":\"\"}},\"colorscale\":{\"sequential\":[[0.0,\"#0d0887\"],[0.1111111111111111,\"#46039f\"],[0.2222222222222222,\"#7201a8\"],[0.3333333333333333,\"#9c179e\"],[0.4444444444444444,\"#bd3786\"],[0.5555555555555556,\"#d8576b\"],[0.6666666666666666,\"#ed7953\"],[0.7777777777777778,\"#fb9f3a\"],[0.8888888888888888,\"#fdca26\"],[1.0,\"#f0f921\"]],\"sequentialminus\":[[0.0,\"#0d0887\"],[0.1111111111111111,\"#46039f\"],[0.2222222222222222,\"#7201a8\"],[0.3333333333333333,\"#9c179e\"],[0.4444444444444444,\"#bd3786\"],[0.5555555555555556,\"#d8576b\"],[0.6666666666666666,\"#ed7953\"],[0.7777777777777778,\"#fb9f3a\"],[0.8888888888888888,\"#fdca26\"],[1.0,\"#f0f921\"]],\"diverging\":[[0,\"#8e0152\"],[0.1,\"#c51b7d\"],[0.2,\"#de77ae\"],[0.3,\"#f1b6da\"],[0.4,\"#fde0ef\"],[0.5,\"#f7f7f7\"],[0.6,\"#e6f5d0\"],[0.7,\"#b8e186\"],[0.8,\"#7fbc41\"],[0.9,\"#4d9221\"],[1,\"#276419\"]]},\"xaxis\":{\"gridcolor\":\"white\",\"linecolor\":\"white\",\"ticks\":\"\",\"title\":{\"standoff\":15},\"zerolinecolor\":\"white\",\"automargin\":true,\"zerolinewidth\":2},\"yaxis\":{\"gridcolor\":\"white\",\"linecolor\":\"white\",\"ticks\":\"\",\"title\":{\"standoff\":15},\"zerolinecolor\":\"white\",\"automargin\":true,\"zerolinewidth\":2},\"scene\":{\"xaxis\":{\"backgroundcolor\":\"#E5ECF6\",\"gridcolor\":\"white\",\"linecolor\":\"white\",\"showbackground\":true,\"ticks\":\"\",\"zerolinecolor\":\"white\",\"gridwidth\":2},\"yaxis\":{\"backgroundcolor\":\"#E5ECF6\",\"gridcolor\":\"white\",\"linecolor\":\"white\",\"showbackground\":true,\"ticks\":\"\",\"zerolinecolor\":\"white\",\"gridwidth\":2},\"zaxis\":{\"backgroundcolor\":\"#E5ECF6\",\"gridcolor\":\"white\",\"linecolor\":\"white\",\"showbackground\":true,\"ticks\":\"\",\"zerolinecolor\":\"white\",\"gridwidth\":2}},\"shapedefaults\":{\"line\":{\"color\":\"#2a3f5f\"}},\"annotationdefaults\":{\"arrowcolor\":\"#2a3f5f\",\"arrowhead\":0,\"arrowwidth\":1},\"geo\":{\"bgcolor\":\"white\",\"landcolor\":\"#E5ECF6\",\"subunitcolor\":\"white\",\"showland\":true,\"showlakes\":true,\"lakecolor\":\"white\"},\"title\":{\"x\":0.05},\"mapbox\":{\"style\":\"light\"}}},\"title\":{\"text\":\"AAPL Candlestick Chart with SMA and Bollinger Bands\"},\"xaxis\":{\"title\":{\"text\":\"Date\"}},\"yaxis\":{\"title\":{\"text\":\"Price (USD)\"}}},                        {\"responsive\": true}                    ).then(function(){\n",
       "                            \n",
       "var gd = document.getElementById('06349f5f-5b0b-4e9b-9faa-0f20df0043ac');\n",
       "var x = new MutationObserver(function (mutations, observer) {{\n",
       "        var display = window.getComputedStyle(gd).display;\n",
       "        if (!display || display === 'none') {{\n",
       "            console.log([gd, 'removed!']);\n",
       "            Plotly.purge(gd);\n",
       "            observer.disconnect();\n",
       "        }}\n",
       "}});\n",
       "\n",
       "// Listen for the removal of the full notebook cells\n",
       "var notebookContainer = gd.closest('#notebook-container');\n",
       "if (notebookContainer) {{\n",
       "    x.observe(notebookContainer, {childList: true});\n",
       "}}\n",
       "\n",
       "// Listen for the clearing of the current output cell\n",
       "var outputEl = gd.closest('.output');\n",
       "if (outputEl) {{\n",
       "    x.observe(outputEl, {childList: true});\n",
       "}}\n",
       "\n",
       "                        })                };            </script>        </div>"
      ]
     },
     "metadata": {},
     "output_type": "display_data"
    }
   ],
   "source": [
    "data['SMA10'] = data['Close'].rolling(window=10).mean()\n",
    "data['SMA20'] = data['Close'].rolling(window=20).mean()\n",
    "\n",
    "# Calculate the Bollinger Bands\n",
    "data['BB_Middle'] = data['Close'].rolling(window=20).mean()\n",
    "data['BB_Upper'] = data['BB_Middle'] + 2*data['Close'].rolling(window=20).std()\n",
    "data['BB_Lower'] = data['BB_Middle'] - 2*data['Close'].rolling(window=20).std()\n",
    "\n",
    "# Create the figure\n",
    "fig = go.Figure(data=[go.Candlestick(\n",
    "    x=data.index,\n",
    "    open=data['Open'],\n",
    "    high=data['High'],\n",
    "    low=data['Low'],\n",
    "    close=data['Close']\n",
    ")])\n",
    "\n",
    "# Add the 10-day and 20-day SMA to the figure\n",
    "fig.add_trace(go.Scatter(x=data.index, y=data['SMA10'], name='SMA10'))\n",
    "fig.add_trace(go.Scatter(x=data.index, y=data['SMA20'], name='SMA20'))\n",
    "\n",
    "# Add the Bollinger Bands to the figure\n",
    "fig.add_trace(go.Scatter(x=data.index, y=data['BB_Upper'], name='BB Upper', line=dict(color='blue', dash='dash')))\n",
    "fig.add_trace(go.Scatter(x=data.index, y=data['BB_Middle'], name='BB Middle', line=dict(color='blue')))\n",
    "fig.add_trace(go.Scatter(x=data.index, y=data['BB_Lower'], name='BB Lower', line=dict(color='blue', dash='dash')))\n",
    "\n",
    "# Update the layout\n",
    "fig.update_layout(\n",
    "    title=f'{tickers[0]} Candlestick Chart with SMA and Bollinger Bands',\n",
    "    xaxis_title='Date',\n",
    "    yaxis_title='Price (USD)'\n",
    ")\n",
    "\n",
    "# Show the plot\n",
    "fig.show()\n"
   ]
  },
  {
   "cell_type": "code",
   "execution_count": 8,
   "id": "4931ff9b-0542-456f-bfca-55153074b25b",
   "metadata": {},
   "outputs": [
    {
     "data": {
      "text/html": [
       "        <script type=\"text/javascript\">\n",
       "        window.PlotlyConfig = {MathJaxConfig: 'local'};\n",
       "        if (window.MathJax && window.MathJax.Hub && window.MathJax.Hub.Config) {window.MathJax.Hub.Config({SVG: {font: \"STIX-Web\"}});}\n",
       "        </script>\n",
       "        <script type=\"module\">import \"https://cdn.plot.ly/plotly-3.0.0.min\"</script>\n",
       "        "
      ]
     },
     "metadata": {},
     "output_type": "display_data"
    },
    {
     "data": {
      "application/vnd.plotly.v1+json": {
       "config": {
        "plotlyServerURL": "https://plot.ly"
       },
       "data": [
        {
         "close": {
          "bdata": "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",
          "dtype": "f8"
         },
         "high": {
          "bdata": "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",
          "dtype": "f8"
         },
         "low": {
          "bdata": "f6d67+1kZkDCeYqI83lmQCooh8hHs2ZAd+ZQSvSrZkA5hKHCoXlmQNxI+HHqVmZAQ1DdKRJpZkDvtB349VVmQNTPJQd8EWZAvhAO7ySfZUAT7Oi/VBplQHTiqlBk/GRAAICBQlf2ZECfd+RprARlQCxOCtO5Z2VAe+9l+JlGZUBuDcC+oz5lQOOD/tK5Z2VA2xaEdKsvZUAsVCRzi5ZlQL2aeSzwhmVAToBEVIzIZUAxDaznL0FlQIIk0ldYKGVA0KtHpuoUZUBBuE+hDhllQKQC4/LvKWVAqnlcOK02ZUC1prNM3xVlQEM5FVwP7mRAfkPNETX5ZEAAAAAA2gBlQDESIgH+BGVAh6ucFWHuZEBW3IDx4fFkQECpeGtjymRAJiHHoNTrZECad9VWhaxlQGtOpdAOdmVATZbym1XvZEAAAAAAvOZkQCtcUH2NuGRAAICAS+JpZEBopnxx3H9kQOo+wzqjhGRA+NW3brmtZECRcnT9gutkQPcr0B5RDGVAJB1EBiuJZUBXVXUUbyZlQFlQpnAWCmVAsedXw8dCZUBCqlNYprlmQPQs8alOcmZAtuIe1PiOZkBNh1eKHJNmQJzsKBUiqGZAKHfLPqOwZkB2EintDABnQCQtKMhPNWdAy3DQm8FXZ0CuwWRwyqBnQGHKGk97kWdA5RL6cw+MZ0DdX169+chnQOlmhMk+tGdAgwc1vCdAZ0BJEQO8H21nQOVfIizujmdARhNIpwGcZ0CC5y4cur9nQIpjIXbDqGdA3gtNDwH8Z0A2eKP4RAxoQBK3vbDzRmhA1NmogaAwaEBt6YV2qy9oQOAW9R008GdAkJgMoGcfaEAKYO5On8ZpQBcID/GEXGpAtp5fh/NSakCqYqgjPYBqQMJY8SUriWpAsOpcZtAEakAirHHtUc1pQHIxeki8vGlA09Zyvyj9aUCdp3Te5j1qQBkOUkVwdGpAtGHpxw4zakCoAsRpuWZqQLS1X74kzGpATpycZntJa0BQbSOSCp1rQLFwROcR0GtAs19HQ5MzbEDfDYI6bY9sQICClaRwIGxAkJAOaj99bEDVYVoy5QltQHFe1hOo8WxArpCgty88bEBNeUGp0LBrQLcmlsMG0WtAagGMn/fKa0DE7rAP5L1rQF+FrvDiDGtAPF8KwdW8akAL+UCCKulqQAWRvbPf4GpASPZ9iqzsakCFQurJgnxrQKr9TqVgCWtAjocJX2Ifa0CF/xnB/WpoQAYclCewDGlA69tBX1u2aUDvA3wOLQRqQD8wPctRaGpAaSl9mAzkakC1kpvI7VBrQLB0Bvf1ZmtAu73GYqrIa0CrAA9NFeVrQA8NfyWb0WtACx21kY4ebECtUmbpyBFsQIHnatUQ7WtABhGyp8v6a0AKLfwPv+xrQK89fP2sDGxAlYKHcuYlbEAEcNl+E4xsQABAW7hfX2xACsnyqOWVa0A+0oKgEyBrQFRH0JgSoWtA0a+pQzJpa0Aq9zevfQdrQO7ISy4hCGtA6XV/8Cota0DvxG7SymprQNn+LJ2GrWtA3IktLWiuakCvx58S7cBqQAsWUAv+IWtA++AJ518EbEDBZDMP2GNsQDDnpR8NKmxA8+jlQH8nbEB9eq/G5fBrQGqTk5VHHWxALw+ncKBZbEBvIxZkqaRsQE5dZA/152tAc8BVxPfQa0BD3e7mi9prQDu/fuho9GtAfA77mQGba0DyCcu1T9hrQAq5UrvCCmxAdVQJ5HlVbECdZSxn51psQPSOybIig2xArfspoIL7bECE3J9muqpsQMQ10NJwwGxAh8yE798vbUB/fPuk7D1tQPHHuMXaAm1AKzhUeFBobEAtp5O7EX1sQPnmHHobomxAzB+XCkIBbUBIZFcJ6vlsQEdFFeV3oWxAYrv6lgAcbECDt6geKXlrQAL5j8BHZ2tA7peUjvCUa0CeCFlGiZZrQLkwz3l1AmxAC1nPsilFbECUfb4vN6hrQPZJx5Or42tA6KuMu33Qa0Dc/D64FxhsQLwbZBHCAGxAzvU8xIYdbECiB0xzJ01sQBy7RHuKNGxATPsXqMkubECQONCo53lsQGoHEimbr2xAfEKoEFwibUD0QY/zszFtQCjz1DrRNm1AW7bs/MicbUBwwyFdZ9RtQFmns3WFH25ANqnoj6Y7bkAFg3pWDTpuQB0DHPyAL25AlOgH3UGibkCLoskxqr9uQK73WSMgrW5ABYZAoQa/bkCilgSgGOxuQFAwMmouMG9AcKoCKvnubkCaYcIqMtpuQEjyQQxyrW5ApNfTH36lb0BnBmDOTuBvQJpxy4CNFXBALI8QwwaZb0CZk50LME9vQEHqLmj+JG9AoCZ3470xbkCNDr2Z+jNuQPbhy1HaXW5Advm+3LcibkC1AbPXKfltQLmAtaPPF21AR2z/eveubEDHOqmp3gZtQK/eJ1OFRW1A6cm5MfJ4bEAK8dZ+VIdsQJCnpTRzZGtAYyluGY5xa0A2BV6cycFrQBAPdLNWpWtAKfeA53z3a0Dk6xHnztFsQHsHLoIYOG1AhjQ3K2KebUCG0yZI4CVtQGJOYch3LmxAmArjlNVMbECCpWopnoBsQKmq8VmpxWxAGZ85NFVgbEAAAABgZmZsQAAAAAAphGxAAAAAgMLVbEAAAACAPXJtQAAAACCuH25AAAAAQOE6bkAAAADAHmVuQA==",
          "dtype": "f8"
         },
         "name": "AAPL",
         "open": {
          "bdata": "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",
          "dtype": "f8"
         },
         "type": "candlestick",
         "x": [
          "2024-02-20T00:00:00.000000000",
          "2024-02-21T00:00:00.000000000",
          "2024-02-22T00:00:00.000000000",
          "2024-02-23T00:00:00.000000000",
          "2024-02-26T00:00:00.000000000",
          "2024-02-27T00:00:00.000000000",
          "2024-02-28T00:00:00.000000000",
          "2024-02-29T00:00:00.000000000",
          "2024-03-01T00:00:00.000000000",
          "2024-03-04T00:00:00.000000000",
          "2024-03-05T00:00:00.000000000",
          "2024-03-06T00:00:00.000000000",
          "2024-03-07T00:00:00.000000000",
          "2024-03-08T00:00:00.000000000",
          "2024-03-11T00:00:00.000000000",
          "2024-03-12T00:00:00.000000000",
          "2024-03-13T00:00:00.000000000",
          "2024-03-14T00:00:00.000000000",
          "2024-03-15T00:00:00.000000000",
          "2024-03-18T00:00:00.000000000",
          "2024-03-19T00:00:00.000000000",
          "2024-03-20T00:00:00.000000000",
          "2024-03-21T00:00:00.000000000",
          "2024-03-22T00:00:00.000000000",
          "2024-03-25T00:00:00.000000000",
          "2024-03-26T00:00:00.000000000",
          "2024-03-27T00:00:00.000000000",
          "2024-03-28T00:00:00.000000000",
          "2024-04-01T00:00:00.000000000",
          "2024-04-02T00:00:00.000000000",
          "2024-04-03T00:00:00.000000000",
          "2024-04-04T00:00:00.000000000",
          "2024-04-05T00:00:00.000000000",
          "2024-04-08T00:00:00.000000000",
          "2024-04-09T00:00:00.000000000",
          "2024-04-10T00:00:00.000000000",
          "2024-04-11T00:00:00.000000000",
          "2024-04-12T00:00:00.000000000",
          "2024-04-15T00:00:00.000000000",
          "2024-04-16T00:00:00.000000000",
          "2024-04-17T00:00:00.000000000",
          "2024-04-18T00:00:00.000000000",
          "2024-04-19T00:00:00.000000000",
          "2024-04-22T00:00:00.000000000",
          "2024-04-23T00:00:00.000000000",
          "2024-04-24T00:00:00.000000000",
          "2024-04-25T00:00:00.000000000",
          "2024-04-26T00:00:00.000000000",
          "2024-04-29T00:00:00.000000000",
          "2024-04-30T00:00:00.000000000",
          "2024-05-01T00:00:00.000000000",
          "2024-05-02T00:00:00.000000000",
          "2024-05-03T00:00:00.000000000",
          "2024-05-06T00:00:00.000000000",
          "2024-05-07T00:00:00.000000000",
          "2024-05-08T00:00:00.000000000",
          "2024-05-09T00:00:00.000000000",
          "2024-05-10T00:00:00.000000000",
          "2024-05-13T00:00:00.000000000",
          "2024-05-14T00:00:00.000000000",
          "2024-05-15T00:00:00.000000000",
          "2024-05-16T00:00:00.000000000",
          "2024-05-17T00:00:00.000000000",
          "2024-05-20T00:00:00.000000000",
          "2024-05-21T00:00:00.000000000",
          "2024-05-22T00:00:00.000000000",
          "2024-05-23T00:00:00.000000000",
          "2024-05-24T00:00:00.000000000",
          "2024-05-28T00:00:00.000000000",
          "2024-05-29T00:00:00.000000000",
          "2024-05-30T00:00:00.000000000",
          "2024-05-31T00:00:00.000000000",
          "2024-06-03T00:00:00.000000000",
          "2024-06-04T00:00:00.000000000",
          "2024-06-05T00:00:00.000000000",
          "2024-06-06T00:00:00.000000000",
          "2024-06-07T00:00:00.000000000",
          "2024-06-10T00:00:00.000000000",
          "2024-06-11T00:00:00.000000000",
          "2024-06-12T00:00:00.000000000",
          "2024-06-13T00:00:00.000000000",
          "2024-06-14T00:00:00.000000000",
          "2024-06-17T00:00:00.000000000",
          "2024-06-18T00:00:00.000000000",
          "2024-06-20T00:00:00.000000000",
          "2024-06-21T00:00:00.000000000",
          "2024-06-24T00:00:00.000000000",
          "2024-06-25T00:00:00.000000000",
          "2024-06-26T00:00:00.000000000",
          "2024-06-27T00:00:00.000000000",
          "2024-06-28T00:00:00.000000000",
          "2024-07-01T00:00:00.000000000",
          "2024-07-02T00:00:00.000000000",
          "2024-07-03T00:00:00.000000000",
          "2024-07-05T00:00:00.000000000",
          "2024-07-08T00:00:00.000000000",
          "2024-07-09T00:00:00.000000000",
          "2024-07-10T00:00:00.000000000",
          "2024-07-11T00:00:00.000000000",
          "2024-07-12T00:00:00.000000000",
          "2024-07-15T00:00:00.000000000",
          "2024-07-16T00:00:00.000000000",
          "2024-07-17T00:00:00.000000000",
          "2024-07-18T00:00:00.000000000",
          "2024-07-19T00:00:00.000000000",
          "2024-07-22T00:00:00.000000000",
          "2024-07-23T00:00:00.000000000",
          "2024-07-24T00:00:00.000000000",
          "2024-07-25T00:00:00.000000000",
          "2024-07-26T00:00:00.000000000",
          "2024-07-29T00:00:00.000000000",
          "2024-07-30T00:00:00.000000000",
          "2024-07-31T00:00:00.000000000",
          "2024-08-01T00:00:00.000000000",
          "2024-08-02T00:00:00.000000000",
          "2024-08-05T00:00:00.000000000",
          "2024-08-06T00:00:00.000000000",
          "2024-08-07T00:00:00.000000000",
          "2024-08-08T00:00:00.000000000",
          "2024-08-09T00:00:00.000000000",
          "2024-08-12T00:00:00.000000000",
          "2024-08-13T00:00:00.000000000",
          "2024-08-14T00:00:00.000000000",
          "2024-08-15T00:00:00.000000000",
          "2024-08-16T00:00:00.000000000",
          "2024-08-19T00:00:00.000000000",
          "2024-08-20T00:00:00.000000000",
          "2024-08-21T00:00:00.000000000",
          "2024-08-22T00:00:00.000000000",
          "2024-08-23T00:00:00.000000000",
          "2024-08-26T00:00:00.000000000",
          "2024-08-27T00:00:00.000000000",
          "2024-08-28T00:00:00.000000000",
          "2024-08-29T00:00:00.000000000",
          "2024-08-30T00:00:00.000000000",
          "2024-09-03T00:00:00.000000000",
          "2024-09-04T00:00:00.000000000",
          "2024-09-05T00:00:00.000000000",
          "2024-09-06T00:00:00.000000000",
          "2024-09-09T00:00:00.000000000",
          "2024-09-10T00:00:00.000000000",
          "2024-09-11T00:00:00.000000000",
          "2024-09-12T00:00:00.000000000",
          "2024-09-13T00:00:00.000000000",
          "2024-09-16T00:00:00.000000000",
          "2024-09-17T00:00:00.000000000",
          "2024-09-18T00:00:00.000000000",
          "2024-09-19T00:00:00.000000000",
          "2024-09-20T00:00:00.000000000",
          "2024-09-23T00:00:00.000000000",
          "2024-09-24T00:00:00.000000000",
          "2024-09-25T00:00:00.000000000",
          "2024-09-26T00:00:00.000000000",
          "2024-09-27T00:00:00.000000000",
          "2024-09-30T00:00:00.000000000",
          "2024-10-01T00:00:00.000000000",
          "2024-10-02T00:00:00.000000000",
          "2024-10-03T00:00:00.000000000",
          "2024-10-04T00:00:00.000000000",
          "2024-10-07T00:00:00.000000000",
          "2024-10-08T00:00:00.000000000",
          "2024-10-09T00:00:00.000000000",
          "2024-10-10T00:00:00.000000000",
          "2024-10-11T00:00:00.000000000",
          "2024-10-14T00:00:00.000000000",
          "2024-10-15T00:00:00.000000000",
          "2024-10-16T00:00:00.000000000",
          "2024-10-17T00:00:00.000000000",
          "2024-10-18T00:00:00.000000000",
          "2024-10-21T00:00:00.000000000",
          "2024-10-22T00:00:00.000000000",
          "2024-10-23T00:00:00.000000000",
          "2024-10-24T00:00:00.000000000",
          "2024-10-25T00:00:00.000000000",
          "2024-10-28T00:00:00.000000000",
          "2024-10-29T00:00:00.000000000",
          "2024-10-30T00:00:00.000000000",
          "2024-10-31T00:00:00.000000000",
          "2024-11-01T00:00:00.000000000",
          "2024-11-04T00:00:00.000000000",
          "2024-11-05T00:00:00.000000000",
          "2024-11-06T00:00:00.000000000",
          "2024-11-07T00:00:00.000000000",
          "2024-11-08T00:00:00.000000000",
          "2024-11-11T00:00:00.000000000",
          "2024-11-12T00:00:00.000000000",
          "2024-11-13T00:00:00.000000000",
          "2024-11-14T00:00:00.000000000",
          "2024-11-15T00:00:00.000000000",
          "2024-11-18T00:00:00.000000000",
          "2024-11-19T00:00:00.000000000",
          "2024-11-20T00:00:00.000000000",
          "2024-11-21T00:00:00.000000000",
          "2024-11-22T00:00:00.000000000",
          "2024-11-25T00:00:00.000000000",
          "2024-11-26T00:00:00.000000000",
          "2024-11-27T00:00:00.000000000",
          "2024-11-29T00:00:00.000000000",
          "2024-12-02T00:00:00.000000000",
          "2024-12-03T00:00:00.000000000",
          "2024-12-04T00:00:00.000000000",
          "2024-12-05T00:00:00.000000000",
          "2024-12-06T00:00:00.000000000",
          "2024-12-09T00:00:00.000000000",
          "2024-12-10T00:00:00.000000000",
          "2024-12-11T00:00:00.000000000",
          "2024-12-12T00:00:00.000000000",
          "2024-12-13T00:00:00.000000000",
          "2024-12-16T00:00:00.000000000",
          "2024-12-17T00:00:00.000000000",
          "2024-12-18T00:00:00.000000000",
          "2024-12-19T00:00:00.000000000",
          "2024-12-20T00:00:00.000000000",
          "2024-12-23T00:00:00.000000000",
          "2024-12-24T00:00:00.000000000",
          "2024-12-26T00:00:00.000000000",
          "2024-12-27T00:00:00.000000000",
          "2024-12-30T00:00:00.000000000",
          "2024-12-31T00:00:00.000000000",
          "2025-01-02T00:00:00.000000000",
          "2025-01-03T00:00:00.000000000",
          "2025-01-06T00:00:00.000000000",
          "2025-01-07T00:00:00.000000000",
          "2025-01-08T00:00:00.000000000",
          "2025-01-10T00:00:00.000000000",
          "2025-01-13T00:00:00.000000000",
          "2025-01-14T00:00:00.000000000",
          "2025-01-15T00:00:00.000000000",
          "2025-01-16T00:00:00.000000000",
          "2025-01-17T00:00:00.000000000",
          "2025-01-21T00:00:00.000000000",
          "2025-01-22T00:00:00.000000000",
          "2025-01-23T00:00:00.000000000",
          "2025-01-24T00:00:00.000000000",
          "2025-01-27T00:00:00.000000000",
          "2025-01-28T00:00:00.000000000",
          "2025-01-29T00:00:00.000000000",
          "2025-01-30T00:00:00.000000000",
          "2025-01-31T00:00:00.000000000",
          "2025-02-03T00:00:00.000000000",
          "2025-02-04T00:00:00.000000000",
          "2025-02-05T00:00:00.000000000",
          "2025-02-06T00:00:00.000000000",
          "2025-02-07T00:00:00.000000000",
          "2025-02-10T00:00:00.000000000",
          "2025-02-11T00:00:00.000000000",
          "2025-02-12T00:00:00.000000000",
          "2025-02-13T00:00:00.000000000",
          "2025-02-14T00:00:00.000000000",
          "2025-02-18T00:00:00.000000000",
          "2025-02-19T00:00:00.000000000"
         ]
        },
        {
         "line": {
          "color": "blue"
         },
         "name": "SMA10",
         "type": "scatter",
         "x": [
          "2024-02-20T00:00:00.000000000",
          "2024-02-21T00:00:00.000000000",
          "2024-02-22T00:00:00.000000000",
          "2024-02-23T00:00:00.000000000",
          "2024-02-26T00:00:00.000000000",
          "2024-02-27T00:00:00.000000000",
          "2024-02-28T00:00:00.000000000",
          "2024-02-29T00:00:00.000000000",
          "2024-03-01T00:00:00.000000000",
          "2024-03-04T00:00:00.000000000",
          "2024-03-05T00:00:00.000000000",
          "2024-03-06T00:00:00.000000000",
          "2024-03-07T00:00:00.000000000",
          "2024-03-08T00:00:00.000000000",
          "2024-03-11T00:00:00.000000000",
          "2024-03-12T00:00:00.000000000",
          "2024-03-13T00:00:00.000000000",
          "2024-03-14T00:00:00.000000000",
          "2024-03-15T00:00:00.000000000",
          "2024-03-18T00:00:00.000000000",
          "2024-03-19T00:00:00.000000000",
          "2024-03-20T00:00:00.000000000",
          "2024-03-21T00:00:00.000000000",
          "2024-03-22T00:00:00.000000000",
          "2024-03-25T00:00:00.000000000",
          "2024-03-26T00:00:00.000000000",
          "2024-03-27T00:00:00.000000000",
          "2024-03-28T00:00:00.000000000",
          "2024-04-01T00:00:00.000000000",
          "2024-04-02T00:00:00.000000000",
          "2024-04-03T00:00:00.000000000",
          "2024-04-04T00:00:00.000000000",
          "2024-04-05T00:00:00.000000000",
          "2024-04-08T00:00:00.000000000",
          "2024-04-09T00:00:00.000000000",
          "2024-04-10T00:00:00.000000000",
          "2024-04-11T00:00:00.000000000",
          "2024-04-12T00:00:00.000000000",
          "2024-04-15T00:00:00.000000000",
          "2024-04-16T00:00:00.000000000",
          "2024-04-17T00:00:00.000000000",
          "2024-04-18T00:00:00.000000000",
          "2024-04-19T00:00:00.000000000",
          "2024-04-22T00:00:00.000000000",
          "2024-04-23T00:00:00.000000000",
          "2024-04-24T00:00:00.000000000",
          "2024-04-25T00:00:00.000000000",
          "2024-04-26T00:00:00.000000000",
          "2024-04-29T00:00:00.000000000",
          "2024-04-30T00:00:00.000000000",
          "2024-05-01T00:00:00.000000000",
          "2024-05-02T00:00:00.000000000",
          "2024-05-03T00:00:00.000000000",
          "2024-05-06T00:00:00.000000000",
          "2024-05-07T00:00:00.000000000",
          "2024-05-08T00:00:00.000000000",
          "2024-05-09T00:00:00.000000000",
          "2024-05-10T00:00:00.000000000",
          "2024-05-13T00:00:00.000000000",
          "2024-05-14T00:00:00.000000000",
          "2024-05-15T00:00:00.000000000",
          "2024-05-16T00:00:00.000000000",
          "2024-05-17T00:00:00.000000000",
          "2024-05-20T00:00:00.000000000",
          "2024-05-21T00:00:00.000000000",
          "2024-05-22T00:00:00.000000000",
          "2024-05-23T00:00:00.000000000",
          "2024-05-24T00:00:00.000000000",
          "2024-05-28T00:00:00.000000000",
          "2024-05-29T00:00:00.000000000",
          "2024-05-30T00:00:00.000000000",
          "2024-05-31T00:00:00.000000000",
          "2024-06-03T00:00:00.000000000",
          "2024-06-04T00:00:00.000000000",
          "2024-06-05T00:00:00.000000000",
          "2024-06-06T00:00:00.000000000",
          "2024-06-07T00:00:00.000000000",
          "2024-06-10T00:00:00.000000000",
          "2024-06-11T00:00:00.000000000",
          "2024-06-12T00:00:00.000000000",
          "2024-06-13T00:00:00.000000000",
          "2024-06-14T00:00:00.000000000",
          "2024-06-17T00:00:00.000000000",
          "2024-06-18T00:00:00.000000000",
          "2024-06-20T00:00:00.000000000",
          "2024-06-21T00:00:00.000000000",
          "2024-06-24T00:00:00.000000000",
          "2024-06-25T00:00:00.000000000",
          "2024-06-26T00:00:00.000000000",
          "2024-06-27T00:00:00.000000000",
          "2024-06-28T00:00:00.000000000",
          "2024-07-01T00:00:00.000000000",
          "2024-07-02T00:00:00.000000000",
          "2024-07-03T00:00:00.000000000",
          "2024-07-05T00:00:00.000000000",
          "2024-07-08T00:00:00.000000000",
          "2024-07-09T00:00:00.000000000",
          "2024-07-10T00:00:00.000000000",
          "2024-07-11T00:00:00.000000000",
          "2024-07-12T00:00:00.000000000",
          "2024-07-15T00:00:00.000000000",
          "2024-07-16T00:00:00.000000000",
          "2024-07-17T00:00:00.000000000",
          "2024-07-18T00:00:00.000000000",
          "2024-07-19T00:00:00.000000000",
          "2024-07-22T00:00:00.000000000",
          "2024-07-23T00:00:00.000000000",
          "2024-07-24T00:00:00.000000000",
          "2024-07-25T00:00:00.000000000",
          "2024-07-26T00:00:00.000000000",
          "2024-07-29T00:00:00.000000000",
          "2024-07-30T00:00:00.000000000",
          "2024-07-31T00:00:00.000000000",
          "2024-08-01T00:00:00.000000000",
          "2024-08-02T00:00:00.000000000",
          "2024-08-05T00:00:00.000000000",
          "2024-08-06T00:00:00.000000000",
          "2024-08-07T00:00:00.000000000",
          "2024-08-08T00:00:00.000000000",
          "2024-08-09T00:00:00.000000000",
          "2024-08-12T00:00:00.000000000",
          "2024-08-13T00:00:00.000000000",
          "2024-08-14T00:00:00.000000000",
          "2024-08-15T00:00:00.000000000",
          "2024-08-16T00:00:00.000000000",
          "2024-08-19T00:00:00.000000000",
          "2024-08-20T00:00:00.000000000",
          "2024-08-21T00:00:00.000000000",
          "2024-08-22T00:00:00.000000000",
          "2024-08-23T00:00:00.000000000",
          "2024-08-26T00:00:00.000000000",
          "2024-08-27T00:00:00.000000000",
          "2024-08-28T00:00:00.000000000",
          "2024-08-29T00:00:00.000000000",
          "2024-08-30T00:00:00.000000000",
          "2024-09-03T00:00:00.000000000",
          "2024-09-04T00:00:00.000000000",
          "2024-09-05T00:00:00.000000000",
          "2024-09-06T00:00:00.000000000",
          "2024-09-09T00:00:00.000000000",
          "2024-09-10T00:00:00.000000000",
          "2024-09-11T00:00:00.000000000",
          "2024-09-12T00:00:00.000000000",
          "2024-09-13T00:00:00.000000000",
          "2024-09-16T00:00:00.000000000",
          "2024-09-17T00:00:00.000000000",
          "2024-09-18T00:00:00.000000000",
          "2024-09-19T00:00:00.000000000",
          "2024-09-20T00:00:00.000000000",
          "2024-09-23T00:00:00.000000000",
          "2024-09-24T00:00:00.000000000",
          "2024-09-25T00:00:00.000000000",
          "2024-09-26T00:00:00.000000000",
          "2024-09-27T00:00:00.000000000",
          "2024-09-30T00:00:00.000000000",
          "2024-10-01T00:00:00.000000000",
          "2024-10-02T00:00:00.000000000",
          "2024-10-03T00:00:00.000000000",
          "2024-10-04T00:00:00.000000000",
          "2024-10-07T00:00:00.000000000",
          "2024-10-08T00:00:00.000000000",
          "2024-10-09T00:00:00.000000000",
          "2024-10-10T00:00:00.000000000",
          "2024-10-11T00:00:00.000000000",
          "2024-10-14T00:00:00.000000000",
          "2024-10-15T00:00:00.000000000",
          "2024-10-16T00:00:00.000000000",
          "2024-10-17T00:00:00.000000000",
          "2024-10-18T00:00:00.000000000",
          "2024-10-21T00:00:00.000000000",
          "2024-10-22T00:00:00.000000000",
          "2024-10-23T00:00:00.000000000",
          "2024-10-24T00:00:00.000000000",
          "2024-10-25T00:00:00.000000000",
          "2024-10-28T00:00:00.000000000",
          "2024-10-29T00:00:00.000000000",
          "2024-10-30T00:00:00.000000000",
          "2024-10-31T00:00:00.000000000",
          "2024-11-01T00:00:00.000000000",
          "2024-11-04T00:00:00.000000000",
          "2024-11-05T00:00:00.000000000",
          "2024-11-06T00:00:00.000000000",
          "2024-11-07T00:00:00.000000000",
          "2024-11-08T00:00:00.000000000",
          "2024-11-11T00:00:00.000000000",
          "2024-11-12T00:00:00.000000000",
          "2024-11-13T00:00:00.000000000",
          "2024-11-14T00:00:00.000000000",
          "2024-11-15T00:00:00.000000000",
          "2024-11-18T00:00:00.000000000",
          "2024-11-19T00:00:00.000000000",
          "2024-11-20T00:00:00.000000000",
          "2024-11-21T00:00:00.000000000",
          "2024-11-22T00:00:00.000000000",
          "2024-11-25T00:00:00.000000000",
          "2024-11-26T00:00:00.000000000",
          "2024-11-27T00:00:00.000000000",
          "2024-11-29T00:00:00.000000000",
          "2024-12-02T00:00:00.000000000",
          "2024-12-03T00:00:00.000000000",
          "2024-12-04T00:00:00.000000000",
          "2024-12-05T00:00:00.000000000",
          "2024-12-06T00:00:00.000000000",
          "2024-12-09T00:00:00.000000000",
          "2024-12-10T00:00:00.000000000",
          "2024-12-11T00:00:00.000000000",
          "2024-12-12T00:00:00.000000000",
          "2024-12-13T00:00:00.000000000",
          "2024-12-16T00:00:00.000000000",
          "2024-12-17T00:00:00.000000000",
          "2024-12-18T00:00:00.000000000",
          "2024-12-19T00:00:00.000000000",
          "2024-12-20T00:00:00.000000000",
          "2024-12-23T00:00:00.000000000",
          "2024-12-24T00:00:00.000000000",
          "2024-12-26T00:00:00.000000000",
          "2024-12-27T00:00:00.000000000",
          "2024-12-30T00:00:00.000000000",
          "2024-12-31T00:00:00.000000000",
          "2025-01-02T00:00:00.000000000",
          "2025-01-03T00:00:00.000000000",
          "2025-01-06T00:00:00.000000000",
          "2025-01-07T00:00:00.000000000",
          "2025-01-08T00:00:00.000000000",
          "2025-01-10T00:00:00.000000000",
          "2025-01-13T00:00:00.000000000",
          "2025-01-14T00:00:00.000000000",
          "2025-01-15T00:00:00.000000000",
          "2025-01-16T00:00:00.000000000",
          "2025-01-17T00:00:00.000000000",
          "2025-01-21T00:00:00.000000000",
          "2025-01-22T00:00:00.000000000",
          "2025-01-23T00:00:00.000000000",
          "2025-01-24T00:00:00.000000000",
          "2025-01-27T00:00:00.000000000",
          "2025-01-28T00:00:00.000000000",
          "2025-01-29T00:00:00.000000000",
          "2025-01-30T00:00:00.000000000",
          "2025-01-31T00:00:00.000000000",
          "2025-02-03T00:00:00.000000000",
          "2025-02-04T00:00:00.000000000",
          "2025-02-05T00:00:00.000000000",
          "2025-02-06T00:00:00.000000000",
          "2025-02-07T00:00:00.000000000",
          "2025-02-10T00:00:00.000000000",
          "2025-02-11T00:00:00.000000000",
          "2025-02-12T00:00:00.000000000",
          "2025-02-13T00:00:00.000000000",
          "2025-02-14T00:00:00.000000000",
          "2025-02-18T00:00:00.000000000",
          "2025-02-19T00:00:00.000000000"
         ],
         "y": {
          "bdata": "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",
          "dtype": "f8"
         }
        },
        {
         "line": {
          "color": "red"
         },
         "name": "SMA20",
         "type": "scatter",
         "x": [
          "2024-02-20T00:00:00.000000000",
          "2024-02-21T00:00:00.000000000",
          "2024-02-22T00:00:00.000000000",
          "2024-02-23T00:00:00.000000000",
          "2024-02-26T00:00:00.000000000",
          "2024-02-27T00:00:00.000000000",
          "2024-02-28T00:00:00.000000000",
          "2024-02-29T00:00:00.000000000",
          "2024-03-01T00:00:00.000000000",
          "2024-03-04T00:00:00.000000000",
          "2024-03-05T00:00:00.000000000",
          "2024-03-06T00:00:00.000000000",
          "2024-03-07T00:00:00.000000000",
          "2024-03-08T00:00:00.000000000",
          "2024-03-11T00:00:00.000000000",
          "2024-03-12T00:00:00.000000000",
          "2024-03-13T00:00:00.000000000",
          "2024-03-14T00:00:00.000000000",
          "2024-03-15T00:00:00.000000000",
          "2024-03-18T00:00:00.000000000",
          "2024-03-19T00:00:00.000000000",
          "2024-03-20T00:00:00.000000000",
          "2024-03-21T00:00:00.000000000",
          "2024-03-22T00:00:00.000000000",
          "2024-03-25T00:00:00.000000000",
          "2024-03-26T00:00:00.000000000",
          "2024-03-27T00:00:00.000000000",
          "2024-03-28T00:00:00.000000000",
          "2024-04-01T00:00:00.000000000",
          "2024-04-02T00:00:00.000000000",
          "2024-04-03T00:00:00.000000000",
          "2024-04-04T00:00:00.000000000",
          "2024-04-05T00:00:00.000000000",
          "2024-04-08T00:00:00.000000000",
          "2024-04-09T00:00:00.000000000",
          "2024-04-10T00:00:00.000000000",
          "2024-04-11T00:00:00.000000000",
          "2024-04-12T00:00:00.000000000",
          "2024-04-15T00:00:00.000000000",
          "2024-04-16T00:00:00.000000000",
          "2024-04-17T00:00:00.000000000",
          "2024-04-18T00:00:00.000000000",
          "2024-04-19T00:00:00.000000000",
          "2024-04-22T00:00:00.000000000",
          "2024-04-23T00:00:00.000000000",
          "2024-04-24T00:00:00.000000000",
          "2024-04-25T00:00:00.000000000",
          "2024-04-26T00:00:00.000000000",
          "2024-04-29T00:00:00.000000000",
          "2024-04-30T00:00:00.000000000",
          "2024-05-01T00:00:00.000000000",
          "2024-05-02T00:00:00.000000000",
          "2024-05-03T00:00:00.000000000",
          "2024-05-06T00:00:00.000000000",
          "2024-05-07T00:00:00.000000000",
          "2024-05-08T00:00:00.000000000",
          "2024-05-09T00:00:00.000000000",
          "2024-05-10T00:00:00.000000000",
          "2024-05-13T00:00:00.000000000",
          "2024-05-14T00:00:00.000000000",
          "2024-05-15T00:00:00.000000000",
          "2024-05-16T00:00:00.000000000",
          "2024-05-17T00:00:00.000000000",
          "2024-05-20T00:00:00.000000000",
          "2024-05-21T00:00:00.000000000",
          "2024-05-22T00:00:00.000000000",
          "2024-05-23T00:00:00.000000000",
          "2024-05-24T00:00:00.000000000",
          "2024-05-28T00:00:00.000000000",
          "2024-05-29T00:00:00.000000000",
          "2024-05-30T00:00:00.000000000",
          "2024-05-31T00:00:00.000000000",
          "2024-06-03T00:00:00.000000000",
          "2024-06-04T00:00:00.000000000",
          "2024-06-05T00:00:00.000000000",
          "2024-06-06T00:00:00.000000000",
          "2024-06-07T00:00:00.000000000",
          "2024-06-10T00:00:00.000000000",
          "2024-06-11T00:00:00.000000000",
          "2024-06-12T00:00:00.000000000",
          "2024-06-13T00:00:00.000000000",
          "2024-06-14T00:00:00.000000000",
          "2024-06-17T00:00:00.000000000",
          "2024-06-18T00:00:00.000000000",
          "2024-06-20T00:00:00.000000000",
          "2024-06-21T00:00:00.000000000",
          "2024-06-24T00:00:00.000000000",
          "2024-06-25T00:00:00.000000000",
          "2024-06-26T00:00:00.000000000",
          "2024-06-27T00:00:00.000000000",
          "2024-06-28T00:00:00.000000000",
          "2024-07-01T00:00:00.000000000",
          "2024-07-02T00:00:00.000000000",
          "2024-07-03T00:00:00.000000000",
          "2024-07-05T00:00:00.000000000",
          "2024-07-08T00:00:00.000000000",
          "2024-07-09T00:00:00.000000000",
          "2024-07-10T00:00:00.000000000",
          "2024-07-11T00:00:00.000000000",
          "2024-07-12T00:00:00.000000000",
          "2024-07-15T00:00:00.000000000",
          "2024-07-16T00:00:00.000000000",
          "2024-07-17T00:00:00.000000000",
          "2024-07-18T00:00:00.000000000",
          "2024-07-19T00:00:00.000000000",
          "2024-07-22T00:00:00.000000000",
          "2024-07-23T00:00:00.000000000",
          "2024-07-24T00:00:00.000000000",
          "2024-07-25T00:00:00.000000000",
          "2024-07-26T00:00:00.000000000",
          "2024-07-29T00:00:00.000000000",
          "2024-07-30T00:00:00.000000000",
          "2024-07-31T00:00:00.000000000",
          "2024-08-01T00:00:00.000000000",
          "2024-08-02T00:00:00.000000000",
          "2024-08-05T00:00:00.000000000",
          "2024-08-06T00:00:00.000000000",
          "2024-08-07T00:00:00.000000000",
          "2024-08-08T00:00:00.000000000",
          "2024-08-09T00:00:00.000000000",
          "2024-08-12T00:00:00.000000000",
          "2024-08-13T00:00:00.000000000",
          "2024-08-14T00:00:00.000000000",
          "2024-08-15T00:00:00.000000000",
          "2024-08-16T00:00:00.000000000",
          "2024-08-19T00:00:00.000000000",
          "2024-08-20T00:00:00.000000000",
          "2024-08-21T00:00:00.000000000",
          "2024-08-22T00:00:00.000000000",
          "2024-08-23T00:00:00.000000000",
          "2024-08-26T00:00:00.000000000",
          "2024-08-27T00:00:00.000000000",
          "2024-08-28T00:00:00.000000000",
          "2024-08-29T00:00:00.000000000",
          "2024-08-30T00:00:00.000000000",
          "2024-09-03T00:00:00.000000000",
          "2024-09-04T00:00:00.000000000",
          "2024-09-05T00:00:00.000000000",
          "2024-09-06T00:00:00.000000000",
          "2024-09-09T00:00:00.000000000",
          "2024-09-10T00:00:00.000000000",
          "2024-09-11T00:00:00.000000000",
          "2024-09-12T00:00:00.000000000",
          "2024-09-13T00:00:00.000000000",
          "2024-09-16T00:00:00.000000000",
          "2024-09-17T00:00:00.000000000",
          "2024-09-18T00:00:00.000000000",
          "2024-09-19T00:00:00.000000000",
          "2024-09-20T00:00:00.000000000",
          "2024-09-23T00:00:00.000000000",
          "2024-09-24T00:00:00.000000000",
          "2024-09-25T00:00:00.000000000",
          "2024-09-26T00:00:00.000000000",
          "2024-09-27T00:00:00.000000000",
          "2024-09-30T00:00:00.000000000",
          "2024-10-01T00:00:00.000000000",
          "2024-10-02T00:00:00.000000000",
          "2024-10-03T00:00:00.000000000",
          "2024-10-04T00:00:00.000000000",
          "2024-10-07T00:00:00.000000000",
          "2024-10-08T00:00:00.000000000",
          "2024-10-09T00:00:00.000000000",
          "2024-10-10T00:00:00.000000000",
          "2024-10-11T00:00:00.000000000",
          "2024-10-14T00:00:00.000000000",
          "2024-10-15T00:00:00.000000000",
          "2024-10-16T00:00:00.000000000",
          "2024-10-17T00:00:00.000000000",
          "2024-10-18T00:00:00.000000000",
          "2024-10-21T00:00:00.000000000",
          "2024-10-22T00:00:00.000000000",
          "2024-10-23T00:00:00.000000000",
          "2024-10-24T00:00:00.000000000",
          "2024-10-25T00:00:00.000000000",
          "2024-10-28T00:00:00.000000000",
          "2024-10-29T00:00:00.000000000",
          "2024-10-30T00:00:00.000000000",
          "2024-10-31T00:00:00.000000000",
          "2024-11-01T00:00:00.000000000",
          "2024-11-04T00:00:00.000000000",
          "2024-11-05T00:00:00.000000000",
          "2024-11-06T00:00:00.000000000",
          "2024-11-07T00:00:00.000000000",
          "2024-11-08T00:00:00.000000000",
          "2024-11-11T00:00:00.000000000",
          "2024-11-12T00:00:00.000000000",
          "2024-11-13T00:00:00.000000000",
          "2024-11-14T00:00:00.000000000",
          "2024-11-15T00:00:00.000000000",
          "2024-11-18T00:00:00.000000000",
          "2024-11-19T00:00:00.000000000",
          "2024-11-20T00:00:00.000000000",
          "2024-11-21T00:00:00.000000000",
          "2024-11-22T00:00:00.000000000",
          "2024-11-25T00:00:00.000000000",
          "2024-11-26T00:00:00.000000000",
          "2024-11-27T00:00:00.000000000",
          "2024-11-29T00:00:00.000000000",
          "2024-12-02T00:00:00.000000000",
          "2024-12-03T00:00:00.000000000",
          "2024-12-04T00:00:00.000000000",
          "2024-12-05T00:00:00.000000000",
          "2024-12-06T00:00:00.000000000",
          "2024-12-09T00:00:00.000000000",
          "2024-12-10T00:00:00.000000000",
          "2024-12-11T00:00:00.000000000",
          "2024-12-12T00:00:00.000000000",
          "2024-12-13T00:00:00.000000000",
          "2024-12-16T00:00:00.000000000",
          "2024-12-17T00:00:00.000000000",
          "2024-12-18T00:00:00.000000000",
          "2024-12-19T00:00:00.000000000",
          "2024-12-20T00:00:00.000000000",
          "2024-12-23T00:00:00.000000000",
          "2024-12-24T00:00:00.000000000",
          "2024-12-26T00:00:00.000000000",
          "2024-12-27T00:00:00.000000000",
          "2024-12-30T00:00:00.000000000",
          "2024-12-31T00:00:00.000000000",
          "2025-01-02T00:00:00.000000000",
          "2025-01-03T00:00:00.000000000",
          "2025-01-06T00:00:00.000000000",
          "2025-01-07T00:00:00.000000000",
          "2025-01-08T00:00:00.000000000",
          "2025-01-10T00:00:00.000000000",
          "2025-01-13T00:00:00.000000000",
          "2025-01-14T00:00:00.000000000",
          "2025-01-15T00:00:00.000000000",
          "2025-01-16T00:00:00.000000000",
          "2025-01-17T00:00:00.000000000",
          "2025-01-21T00:00:00.000000000",
          "2025-01-22T00:00:00.000000000",
          "2025-01-23T00:00:00.000000000",
          "2025-01-24T00:00:00.000000000",
          "2025-01-27T00:00:00.000000000",
          "2025-01-28T00:00:00.000000000",
          "2025-01-29T00:00:00.000000000",
          "2025-01-30T00:00:00.000000000",
          "2025-01-31T00:00:00.000000000",
          "2025-02-03T00:00:00.000000000",
          "2025-02-04T00:00:00.000000000",
          "2025-02-05T00:00:00.000000000",
          "2025-02-06T00:00:00.000000000",
          "2025-02-07T00:00:00.000000000",
          "2025-02-10T00:00:00.000000000",
          "2025-02-11T00:00:00.000000000",
          "2025-02-12T00:00:00.000000000",
          "2025-02-13T00:00:00.000000000",
          "2025-02-14T00:00:00.000000000",
          "2025-02-18T00:00:00.000000000",
          "2025-02-19T00:00:00.000000000"
         ],
         "y": {
          "bdata": "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",
          "dtype": "f8"
         }
        }
       ],
       "layout": {
        "template": {
         "data": {
          "bar": [
           {
            "error_x": {
             "color": "#2a3f5f"
            },
            "error_y": {
             "color": "#2a3f5f"
            },
            "marker": {
             "line": {
              "color": "#E5ECF6",
              "width": 0.5
             },
             "pattern": {
              "fillmode": "overlay",
              "size": 10,
              "solidity": 0.2
             }
            },
            "type": "bar"
           }
          ],
          "barpolar": [
           {
            "marker": {
             "line": {
              "color": "#E5ECF6",
              "width": 0.5
             },
             "pattern": {
              "fillmode": "overlay",
              "size": 10,
              "solidity": 0.2
             }
            },
            "type": "barpolar"
           }
          ],
          "carpet": [
           {
            "aaxis": {
             "endlinecolor": "#2a3f5f",
             "gridcolor": "white",
             "linecolor": "white",
             "minorgridcolor": "white",
             "startlinecolor": "#2a3f5f"
            },
            "baxis": {
             "endlinecolor": "#2a3f5f",
             "gridcolor": "white",
             "linecolor": "white",
             "minorgridcolor": "white",
             "startlinecolor": "#2a3f5f"
            },
            "type": "carpet"
           }
          ],
          "choropleth": [
           {
            "colorbar": {
             "outlinewidth": 0,
             "ticks": ""
            },
            "type": "choropleth"
           }
          ],
          "contour": [
           {
            "colorbar": {
             "outlinewidth": 0,
             "ticks": ""
            },
            "colorscale": [
             [
              0,
              "#0d0887"
             ],
             [
              0.1111111111111111,
              "#46039f"
             ],
             [
              0.2222222222222222,
              "#7201a8"
             ],
             [
              0.3333333333333333,
              "#9c179e"
             ],
             [
              0.4444444444444444,
              "#bd3786"
             ],
             [
              0.5555555555555556,
              "#d8576b"
             ],
             [
              0.6666666666666666,
              "#ed7953"
             ],
             [
              0.7777777777777778,
              "#fb9f3a"
             ],
             [
              0.8888888888888888,
              "#fdca26"
             ],
             [
              1,
              "#f0f921"
             ]
            ],
            "type": "contour"
           }
          ],
          "contourcarpet": [
           {
            "colorbar": {
             "outlinewidth": 0,
             "ticks": ""
            },
            "type": "contourcarpet"
           }
          ],
          "heatmap": [
           {
            "colorbar": {
             "outlinewidth": 0,
             "ticks": ""
            },
            "colorscale": [
             [
              0,
              "#0d0887"
             ],
             [
              0.1111111111111111,
              "#46039f"
             ],
             [
              0.2222222222222222,
              "#7201a8"
             ],
             [
              0.3333333333333333,
              "#9c179e"
             ],
             [
              0.4444444444444444,
              "#bd3786"
             ],
             [
              0.5555555555555556,
              "#d8576b"
             ],
             [
              0.6666666666666666,
              "#ed7953"
             ],
             [
              0.7777777777777778,
              "#fb9f3a"
             ],
             [
              0.8888888888888888,
              "#fdca26"
             ],
             [
              1,
              "#f0f921"
             ]
            ],
            "type": "heatmap"
           }
          ],
          "histogram": [
           {
            "marker": {
             "pattern": {
              "fillmode": "overlay",
              "size": 10,
              "solidity": 0.2
             }
            },
            "type": "histogram"
           }
          ],
          "histogram2d": [
           {
            "colorbar": {
             "outlinewidth": 0,
             "ticks": ""
            },
            "colorscale": [
             [
              0,
              "#0d0887"
             ],
             [
              0.1111111111111111,
              "#46039f"
             ],
             [
              0.2222222222222222,
              "#7201a8"
             ],
             [
              0.3333333333333333,
              "#9c179e"
             ],
             [
              0.4444444444444444,
              "#bd3786"
             ],
             [
              0.5555555555555556,
              "#d8576b"
             ],
             [
              0.6666666666666666,
              "#ed7953"
             ],
             [
              0.7777777777777778,
              "#fb9f3a"
             ],
             [
              0.8888888888888888,
              "#fdca26"
             ],
             [
              1,
              "#f0f921"
             ]
            ],
            "type": "histogram2d"
           }
          ],
          "histogram2dcontour": [
           {
            "colorbar": {
             "outlinewidth": 0,
             "ticks": ""
            },
            "colorscale": [
             [
              0,
              "#0d0887"
             ],
             [
              0.1111111111111111,
              "#46039f"
             ],
             [
              0.2222222222222222,
              "#7201a8"
             ],
             [
              0.3333333333333333,
              "#9c179e"
             ],
             [
              0.4444444444444444,
              "#bd3786"
             ],
             [
              0.5555555555555556,
              "#d8576b"
             ],
             [
              0.6666666666666666,
              "#ed7953"
             ],
             [
              0.7777777777777778,
              "#fb9f3a"
             ],
             [
              0.8888888888888888,
              "#fdca26"
             ],
             [
              1,
              "#f0f921"
             ]
            ],
            "type": "histogram2dcontour"
           }
          ],
          "mesh3d": [
           {
            "colorbar": {
             "outlinewidth": 0,
             "ticks": ""
            },
            "type": "mesh3d"
           }
          ],
          "parcoords": [
           {
            "line": {
             "colorbar": {
              "outlinewidth": 0,
              "ticks": ""
             }
            },
            "type": "parcoords"
           }
          ],
          "pie": [
           {
            "automargin": true,
            "type": "pie"
           }
          ],
          "scatter": [
           {
            "fillpattern": {
             "fillmode": "overlay",
             "size": 10,
             "solidity": 0.2
            },
            "type": "scatter"
           }
          ],
          "scatter3d": [
           {
            "line": {
             "colorbar": {
              "outlinewidth": 0,
              "ticks": ""
             }
            },
            "marker": {
             "colorbar": {
              "outlinewidth": 0,
              "ticks": ""
             }
            },
            "type": "scatter3d"
           }
          ],
          "scattercarpet": [
           {
            "marker": {
             "colorbar": {
              "outlinewidth": 0,
              "ticks": ""
             }
            },
            "type": "scattercarpet"
           }
          ],
          "scattergeo": [
           {
            "marker": {
             "colorbar": {
              "outlinewidth": 0,
              "ticks": ""
             }
            },
            "type": "scattergeo"
           }
          ],
          "scattergl": [
           {
            "marker": {
             "colorbar": {
              "outlinewidth": 0,
              "ticks": ""
             }
            },
            "type": "scattergl"
           }
          ],
          "scattermap": [
           {
            "marker": {
             "colorbar": {
              "outlinewidth": 0,
              "ticks": ""
             }
            },
            "type": "scattermap"
           }
          ],
          "scattermapbox": [
           {
            "marker": {
             "colorbar": {
              "outlinewidth": 0,
              "ticks": ""
             }
            },
            "type": "scattermapbox"
           }
          ],
          "scatterpolar": [
           {
            "marker": {
             "colorbar": {
              "outlinewidth": 0,
              "ticks": ""
             }
            },
            "type": "scatterpolar"
           }
          ],
          "scatterpolargl": [
           {
            "marker": {
             "colorbar": {
              "outlinewidth": 0,
              "ticks": ""
             }
            },
            "type": "scatterpolargl"
           }
          ],
          "scatterternary": [
           {
            "marker": {
             "colorbar": {
              "outlinewidth": 0,
              "ticks": ""
             }
            },
            "type": "scatterternary"
           }
          ],
          "surface": [
           {
            "colorbar": {
             "outlinewidth": 0,
             "ticks": ""
            },
            "colorscale": [
             [
              0,
              "#0d0887"
             ],
             [
              0.1111111111111111,
              "#46039f"
             ],
             [
              0.2222222222222222,
              "#7201a8"
             ],
             [
              0.3333333333333333,
              "#9c179e"
             ],
             [
              0.4444444444444444,
              "#bd3786"
             ],
             [
              0.5555555555555556,
              "#d8576b"
             ],
             [
              0.6666666666666666,
              "#ed7953"
             ],
             [
              0.7777777777777778,
              "#fb9f3a"
             ],
             [
              0.8888888888888888,
              "#fdca26"
             ],
             [
              1,
              "#f0f921"
             ]
            ],
            "type": "surface"
           }
          ],
          "table": [
           {
            "cells": {
             "fill": {
              "color": "#EBF0F8"
             },
             "line": {
              "color": "white"
             }
            },
            "header": {
             "fill": {
              "color": "#C8D4E3"
             },
             "line": {
              "color": "white"
             }
            },
            "type": "table"
           }
          ]
         },
         "layout": {
          "annotationdefaults": {
           "arrowcolor": "#2a3f5f",
           "arrowhead": 0,
           "arrowwidth": 1
          },
          "autotypenumbers": "strict",
          "coloraxis": {
           "colorbar": {
            "outlinewidth": 0,
            "ticks": ""
           }
          },
          "colorscale": {
           "diverging": [
            [
             0,
             "#8e0152"
            ],
            [
             0.1,
             "#c51b7d"
            ],
            [
             0.2,
             "#de77ae"
            ],
            [
             0.3,
             "#f1b6da"
            ],
            [
             0.4,
             "#fde0ef"
            ],
            [
             0.5,
             "#f7f7f7"
            ],
            [
             0.6,
             "#e6f5d0"
            ],
            [
             0.7,
             "#b8e186"
            ],
            [
             0.8,
             "#7fbc41"
            ],
            [
             0.9,
             "#4d9221"
            ],
            [
             1,
             "#276419"
            ]
           ],
           "sequential": [
            [
             0,
             "#0d0887"
            ],
            [
             0.1111111111111111,
             "#46039f"
            ],
            [
             0.2222222222222222,
             "#7201a8"
            ],
            [
             0.3333333333333333,
             "#9c179e"
            ],
            [
             0.4444444444444444,
             "#bd3786"
            ],
            [
             0.5555555555555556,
             "#d8576b"
            ],
            [
             0.6666666666666666,
             "#ed7953"
            ],
            [
             0.7777777777777778,
             "#fb9f3a"
            ],
            [
             0.8888888888888888,
             "#fdca26"
            ],
            [
             1,
             "#f0f921"
            ]
           ],
           "sequentialminus": [
            [
             0,
             "#0d0887"
            ],
            [
             0.1111111111111111,
             "#46039f"
            ],
            [
             0.2222222222222222,
             "#7201a8"
            ],
            [
             0.3333333333333333,
             "#9c179e"
            ],
            [
             0.4444444444444444,
             "#bd3786"
            ],
            [
             0.5555555555555556,
             "#d8576b"
            ],
            [
             0.6666666666666666,
             "#ed7953"
            ],
            [
             0.7777777777777778,
             "#fb9f3a"
            ],
            [
             0.8888888888888888,
             "#fdca26"
            ],
            [
             1,
             "#f0f921"
            ]
           ]
          },
          "colorway": [
           "#636efa",
           "#EF553B",
           "#00cc96",
           "#ab63fa",
           "#FFA15A",
           "#19d3f3",
           "#FF6692",
           "#B6E880",
           "#FF97FF",
           "#FECB52"
          ],
          "font": {
           "color": "#2a3f5f"
          },
          "geo": {
           "bgcolor": "white",
           "lakecolor": "white",
           "landcolor": "#E5ECF6",
           "showlakes": true,
           "showland": true,
           "subunitcolor": "white"
          },
          "hoverlabel": {
           "align": "left"
          },
          "hovermode": "closest",
          "mapbox": {
           "style": "light"
          },
          "paper_bgcolor": "white",
          "plot_bgcolor": "#E5ECF6",
          "polar": {
           "angularaxis": {
            "gridcolor": "white",
            "linecolor": "white",
            "ticks": ""
           },
           "bgcolor": "#E5ECF6",
           "radialaxis": {
            "gridcolor": "white",
            "linecolor": "white",
            "ticks": ""
           }
          },
          "scene": {
           "xaxis": {
            "backgroundcolor": "#E5ECF6",
            "gridcolor": "white",
            "gridwidth": 2,
            "linecolor": "white",
            "showbackground": true,
            "ticks": "",
            "zerolinecolor": "white"
           },
           "yaxis": {
            "backgroundcolor": "#E5ECF6",
            "gridcolor": "white",
            "gridwidth": 2,
            "linecolor": "white",
            "showbackground": true,
            "ticks": "",
            "zerolinecolor": "white"
           },
           "zaxis": {
            "backgroundcolor": "#E5ECF6",
            "gridcolor": "white",
            "gridwidth": 2,
            "linecolor": "white",
            "showbackground": true,
            "ticks": "",
            "zerolinecolor": "white"
           }
          },
          "shapedefaults": {
           "line": {
            "color": "#2a3f5f"
           }
          },
          "ternary": {
           "aaxis": {
            "gridcolor": "white",
            "linecolor": "white",
            "ticks": ""
           },
           "baxis": {
            "gridcolor": "white",
            "linecolor": "white",
            "ticks": ""
           },
           "bgcolor": "#E5ECF6",
           "caxis": {
            "gridcolor": "white",
            "linecolor": "white",
            "ticks": ""
           }
          },
          "title": {
           "x": 0.05
          },
          "xaxis": {
           "automargin": true,
           "gridcolor": "white",
           "linecolor": "white",
           "ticks": "",
           "title": {
            "standoff": 15
           },
           "zerolinecolor": "white",
           "zerolinewidth": 2
          },
          "yaxis": {
           "automargin": true,
           "gridcolor": "white",
           "linecolor": "white",
           "ticks": "",
           "title": {
            "standoff": 15
           },
           "zerolinecolor": "white",
           "zerolinewidth": 2
          }
         }
        },
        "title": {
         "text": "AAPL Daily Candles with SMA"
        },
        "xaxis": {
         "title": {
          "text": "Date"
         }
        },
        "yaxis": {
         "title": {
          "text": "Price (USD)"
         }
        }
       }
      },
      "text/html": [
       "<div>            <script src=\"https://cdnjs.cloudflare.com/ajax/libs/mathjax/2.7.5/MathJax.js?config=TeX-AMS-MML_SVG\"></script><script type=\"text/javascript\">if (window.MathJax && window.MathJax.Hub && window.MathJax.Hub.Config) {window.MathJax.Hub.Config({SVG: {font: \"STIX-Web\"}});}</script>                <script type=\"text/javascript\">window.PlotlyConfig = {MathJaxConfig: 'local'};</script>\n",
       "        <script charset=\"utf-8\" src=\"https://cdn.plot.ly/plotly-3.0.0.min.js\"></script>                <div id=\"9f2d2924-aee3-41c8-a694-bb5c38b5a44d\" class=\"plotly-graph-div\" style=\"height:525px; width:100%;\"></div>            <script type=\"text/javascript\">                window.PLOTLYENV=window.PLOTLYENV || {};                                if (document.getElementById(\"9f2d2924-aee3-41c8-a694-bb5c38b5a44d\")) {                    Plotly.newPlot(                        \"9f2d2924-aee3-41c8-a694-bb5c38b5a44d\",                        [{\"close\":{\"dtype\":\"f8\",\"bdata\":\"AAAAYJ2WZkAAAABg0q5mQAAAAOAc8GZAAAAA4DC1ZkAAAAAg4IlmQAAAAMCxuGZAAAAAICiSZkAAAABA0XxmQAAAAAAaWmZAAAAAIN7IZUAAAACAQSplQAAAAOBnCmVAAAAAgJUGZUAAAAAgrz1lQAAAAEAFfmVAAAAAwE6NZUAAAACgbEplQAAAAKD7hWVAAAAAIOF5ZUAAAAAg6pxlQAAAAGAU6GVAAAAA4JE6ZkAAAABAEVJlQAAAACANb2VAAAAAoIFBZUAAAACgMh1lQAAAACDbj2VAAAAAIJJVZUAAAADAYydlQAAAAAB9AWVAAAAAQEkbZUAAAAAA2gBlQAAAAMAOGWVAAAAAQBH1ZEAAAACA7BtlQAAAAEC632RAAAAAoPTGZUAAAACADPdlQAAAAAAcfGVAAAAAALASZUAAAAAAvOZkQAAAAKAoyGRAAAAAgC+HZEAAAACg8KFkQAAAACCzw2RAAAAAwDgHZUAAAAAg7iJlQAAAAKAjEGVAAAAAYOiVZUAAAADA8TBlQAAAAKAjEGVAAAAAQPCGZUAAAADglNBmQAAAAMBkm2ZAAAAAgF6xZkAAAACgMrxmQAAAAMB79mZAAAAAoPrNZkAAAAAg\\u002fjRnQAAAAGCrWWdAAAAAYLSiZ0AAAAAAiKZnQAAAAOB8p2dAAAAAgM3MZ0AAAAAglfZnQAAAAGBWyGdAAAAA4CBIZ0AAAAAA\\u002f6pnQAAAAKBQq2dAAAAAAOK0Z0AAAACgxtRnQAAAAIBk82dAAAAAgCksaEAAAABAXjZoQAAAAEDYZmhAAAAAgIM6aEAAAAAAYIdoQAAAAMAjD2hAAAAAYJjOaUAAAADAZotqQAAAAGC3sGpAAAAAYOd4akAAAAAgN\\u002f5qQAAAAGBPsmpAAAAA4EgfakAAAACAcNlpQAAAAGAr7mlAAAAAgNQLakAAAABgJJFqQAAAAEBArGpAAAAAYEM9akAAAABAxABrQAAAAIAHcWtAAAAAINqZa0AAAABgnjJsQAAAAADSYWxAAAAAYD99bEAAAAAAYwZtQAAAAODYWWxAAAAAgJG4bEAAAADArDNtQAAAAOARQW1AAAAAYKCDbEAAAADguu1rQAAAAEDg8WtAAAAA4Lbma0AAAACAMwhsQAAAAODaOWtAAAAAIF4Ya0AAAACAWydrQAAAAIBJMGtAAAAAoCVCa0AAAABgwaprQAAAACAdNGtAAAAAIPRja0AAAACANRJqQAAAAMAl0WlAAAAA4L8jakAAAABADpNqQAAAAICA8GpAAAAAYKwha0AAAAAgF5lrQAAAAIB1p2tAAAAAgD8HbEAAAAAAtzFsQAAAACCbLGxAAAAAAGdAbEAAAADA4zxsQAAAAIAuAWxAAAAAYPBKbEAAAACAy1VsQAAAAGDvcGxAAAAAgMM\\u002fbEAAAADAIalsQAAAAEDoj2xAAAAAIPzIa0AAAAAgrotrQAAAAECIvGtAAAAAALmKa0AAAACAmI1rQAAAAGANdGtAAAAAAHnFa0AAAAAg\\u002fMhrQAAAAEBdwGtAAAAA4An7akAAAACACwprQAAAAECShmtAAAAAoMGLbEAAAAAAXXZsQAAAAAAgP2xAAAAAoNxbbEAAAACg7jtsQAAAAMCmYGxAAAAAoEVpbEAAAABgoA9tQAAAAODSNmxAAAAAAAZJbEAAAADAlCVsQAAAAICpSWxAAAAAQICma0AAAABAxihsQAAAAEAmoWxAAAAAQC+RbEAAAAAAnGFsQAAAAIBY2WxAAAAAQMQqbUAAAAAArOhsQAAAAGB89GxAAAAAQHxPbUAAAADgvX5tQAAAAADyam1AAAAAgBrIbEAAAACgCcJsQAAAAKDb3GxAAAAA4GUcbUAAAADgBCVtQAAAAKAHs2xAAAAAoD4tbEAAAACAdM1rQAAAAOC3sGtAAAAAgLLea0AAAACAY8drQAAAAMBfX2xAAAAAYL5WbEAAAADAev9rQAAAAMB6\\u002f2tAAAAAoO0bbEAAAAAABX9sQAAAAKAXGGxAAAAAYKB4bEAAAADg74BsQAAAAKDzl2xAAAAA4JuIbEAAAADgwrNsQAAAAOCnE21AAAAAoKhZbUAAAADggFVtQAAAACA4om1AAAAAoHXqbUAAAACgRUxuQAAAAIDHV25AAAAAAL1YbkAAAABgWFJuQAAAAABUz25AAAAAoO7vbkAAAABgBMduQAAAAIAB9m5AAAAAgHD7bkAAAAAAdVhvQAAAAIBzpm9AAAAA4OH4bkAAAABAgDBvQAAAAIC8xm9AAAAAQKvfb0AAAADAqR5wQAAAAKDEK3BAAAAAwOXpb0AAAABgiX1vQAAAAKCjRG9AAAAAYKFybkAAAACg92JuQAAAAMBjl25AAAAAQDU+bkAAAADA3k1uQAAAAEDgkm1AAAAA4I9EbUAAAADgwiBtQAAAAOB6s21AAAAAQEyAbEAAAAAAR7dsQAAAAMCnzGtAAAAAgLHya0AAAACAQu1rQAAAAGAh0WtAAAAAAHGzbEAAAABA8r9tQAAAAKAb421AAAAAoIeqbUAAAADAtHdtQAAAAIBOeGxAAAAAIGsRbUAAAADA3gZtQAAAAADYHm1AAAAAAClsbEAAAADAzHRsQAAAAADXE21AAAAAANebbUAAAADA9TBuQAAAAEAzk25AAAAAQAqPbkAAAAAA15tuQA==\"},\"high\":{\"dtype\":\"f8\",\"bdata\":\"7I4\\u002f4VKyZkDAglDO+cBmQKmg8YjnAmdA2D4Pm3MFZ0AE15Gm1bxmQM3m1bXH4WZAydo8DU3IZkCjfFSuyLZmQFHShoHPdWZAXL3pUzICZkBoHtg0aGdlQOg8KWHtTWVAAIApBa89ZUC9hCIIR5xlQPNL+X7vsWVAqWUlk8mmZUB4tBDRCIxlQCQI6LC0r2VAAAAAIOF5ZUBdkRCj\\u002fhtmQIDLZLj1+GVAAAAA4JE6ZkCbWyHB\\u002fBRmQEHjA1uTh2VAwego6ThkZUCnTIsKqVNlQNCRs7UXmWVAXTj6P3VtZUBB3fMHP05lQIlwEcBpEWVAj9peWBc8ZUAeFNLGlWNlQJQx6hDbMmVA3VI6YPQMZUA+6Rt3+yhlQKdTuVBzCWVA5D9fNFXUZUA+rMtQsjBmQK1Ut8+Y+WVA6yCvPzCeZUAAAKm5IjtlQIryb0Ye+2RAAACpWcazZEBnEfiUKs9kQHD1gzl6yGRAlMJkuCMQZUDeKK+n3DllQKsT+7UcUWVA73TMuHzmZUCOkJAXXcVlQNonQxe\\u002ffGVAhmNBHFyTZUA0tlqB4ENnQGXSZOOy6mZAmYaGQP4AZ0BvV39LtcZmQIU9BYlZ+WZADUN5RQoPZ0CiBaEfJU9nQLyGb6BqdWdAsVEwW13AZ0B38dBst85nQCtItJR3xWdAcRFMWt7oZ0C+ZLCSswJoQBOeZHCSBWhAzpO90YbLZ0BJBR3JIb5nQD1cKudPC2hAVPB6l2TzZ0AAVRIUKfFnQLbd\\u002fjeZ\\u002fWdAnro2iMdKaEDDegviTVVoQPp3hryxh2hA4Yzy8e96aEBkkbtA+IhoQG4AvqxzlGhA6cquGerOaUCHuHT5y25rQPjvLWDEAGtA0x3wVWDOakDbbKBP7kZrQBokS6i5PGtArKWEX7ewakCGjBaDxGVqQEzn4b6Zf2pA0hzDnIBVakDAAz1SfcRqQLghaB+O4GpAzD04UhTrakAbDDJFARlrQL2aQ5uJdGtAAAAAINqZa0AGrkV7IDZsQN\\u002fuQ+3GYmxAuAgi3jWUbED+6HmBkwltQEMfuvyR82xA0FX2H4v7bEB\\u002fvw547o1tQLvACHZQb21AdAH28+jVbEBFxsgYYbVsQJL7FQxKQWxA837EbYtgbEAG9yoqwUVsQHW8lxmBAWxAnmLpDIeDa0A0FjdEJ1hrQCsfwOkXUmtAW5QUZPFya0CCbNbAP+JrQAaJyi9M92tAwvg\\u002fvgQbbEBWdsWNHZlqQHnW+gMsKWpA9aQqbZSdakAHpgy0cK9qQH72vU65AWtA53M54eRga0CoeZP44qxrQJi9325J0WtAmwyGKl0bbECteMa3nkpsQJvcbZPML2xA8CNs4HlVbEAHJkizVm9sQNqaenXVemxAVQtvjAB3bEBpnmzz\\u002fFhsQNQ4Zh8ei2xAwn5s312rbECcNx1xEg1tQEt5WdCbvGxA909JK+iPbEDrQ\\u002fDkX6lrQC10s5qDH2xAP9A6HNoXbEA+fQEmF5lrQAminbrLn2tAI5WlwzPTa0CIMKjX4+FrQAOXsiuJ8WtAuSoab8YXa0BsqWOljg1rQLe458gRx2tA0JHFCBeqbEDblRbnfxJtQHnRn4NGnmxA1QQ0QRWbbEBtlAazTllsQIbspD7xf2xAu+ZswIKgbEAAAABgoA9tQMJjal2ppGxA\\u002fXDSotxbbECkXLUd+0lsQFTgfkn6b2xAmwgGSjgmbECyPeS4ei9sQMOY1tjap2xAB6R+Wd+fbEBIu+Cp\\u002f5xsQFEtrUMT52xAGlkMpP2ebUA2JSgih\\u002fNsQDy\\u002fs0rEKm1Aq2l8hSl1bUDwEPNXjoptQC2SCaZwdm1AdR8jtPRTbUD8e6kgBcpsQHfwC5CmFm1AWzq+Ut1GbUBvl1\\u002fAFzptQDG6N\\u002f+hHm1AJ2yqumiqbEBMCXAaXRtsQJjsuZefyWtAYUdGganua0Dahq57WjJsQAQDx20lbGxAATJvdBWNbEAvlUjGdy5sQF49o6PzKmxAB\\u002f4bnNVMbEBHQvLmy5NsQGaGsPl2VWxAjS1uJpuvbECRHdT1B71sQMFX8sGttWxADtew\\u002fge9bEBA1kB67s5sQANkw3TNH21AOI5OCfZpbUBe740JzG1tQFRvdu6PsW1AYtUVNNEQbkCoiaTCyU9uQOEXatrwem5AEUQpga+IbkAB5BwFkItuQKCbaLf93m5A8ySLKv\\u002f9bkCjXrgYyVBvQG64fzvwDm9AAUkwsIQgb0A6PN5QU2NvQILj1JmjsW9A1T2X8gXAb0BLI8+9JHdvQGQaYMkJ129ANYnPtNDrb0BoA4KU0h5wQCnlLoQHPXBAWPOFgqcmcEAvPtlNF6dvQD7M1gQPoG9AcZNFJHIab0ClaGCfLX1uQChygCne4W5AfGZZc\\u002fiobkAiFqipJ25uQMddF\\u002fit\\u002fG1A\\u002f7kfUjFNbUBumqiSinttQMW0cHFS1m1As2LRh\\u002fS3bUAzeI23HQFtQN61LnyNBWxAk4UNhPb7a0DQYTEu+1hsQLLBsvs6LGxAdYpsBaT8bECpi76Co\\u002f1tQDpOZSAX821AoJqRNdEQbkAajlaTZN1uQG3+xKFp8mxAPgjuh\\u002fcbbUC6KF5TQw1tQM76IyhiMW1ANtVUsMY3bUAAAABA4dJsQAAAACBcZ21AAAAAYLiebUAAAABA4UpuQAAAAKCZsW5AAAAAgMKlbkAAAADgUcBuQA==\"},\"low\":{\"dtype\":\"f8\",\"bdata\":\"f6d67+1kZkDCeYqI83lmQCooh8hHs2ZAd+ZQSvSrZkA5hKHCoXlmQNxI+HHqVmZAQ1DdKRJpZkDvtB349VVmQNTPJQd8EWZAvhAO7ySfZUAT7Oi\\u002fVBplQHTiqlBk\\u002fGRAAICBQlf2ZECfd+RprARlQCxOCtO5Z2VAe+9l+JlGZUBuDcC+oz5lQOOD\\u002ftK5Z2VA2xaEdKsvZUAsVCRzi5ZlQL2aeSzwhmVAToBEVIzIZUAxDaznL0FlQIIk0ldYKGVA0KtHpuoUZUBBuE+hDhllQKQC4\\u002fLvKWVAqnlcOK02ZUC1prNM3xVlQEM5FVwP7mRAfkPNETX5ZEAAAAAA2gBlQDESIgH+BGVAh6ucFWHuZEBW3IDx4fFkQECpeGtjymRAJiHHoNTrZECad9VWhaxlQGtOpdAOdmVATZbym1XvZEAAAAAAvOZkQCtcUH2NuGRAAICAS+JpZEBopnxx3H9kQOo+wzqjhGRA+NW3brmtZECRcnT9gutkQPcr0B5RDGVAJB1EBiuJZUBXVXUUbyZlQFlQpnAWCmVAsedXw8dCZUBCqlNYprlmQPQs8alOcmZAtuIe1PiOZkBNh1eKHJNmQJzsKBUiqGZAKHfLPqOwZkB2EintDABnQCQtKMhPNWdAy3DQm8FXZ0CuwWRwyqBnQGHKGk97kWdA5RL6cw+MZ0DdX169+chnQOlmhMk+tGdAgwc1vCdAZ0BJEQO8H21nQOVfIizujmdARhNIpwGcZ0CC5y4cur9nQIpjIXbDqGdA3gtNDwH8Z0A2eKP4RAxoQBK3vbDzRmhA1NmogaAwaEBt6YV2qy9oQOAW9R008GdAkJgMoGcfaEAKYO5On8ZpQBcID\\u002fGEXGpAtp5fh\\u002fNSakCqYqgjPYBqQMJY8SUriWpAsOpcZtAEakAirHHtUc1pQHIxeki8vGlA09Zyvyj9aUCdp3Te5j1qQBkOUkVwdGpAtGHpxw4zakCoAsRpuWZqQLS1X74kzGpATpycZntJa0BQbSOSCp1rQLFwROcR0GtAs19HQ5MzbEDfDYI6bY9sQICClaRwIGxAkJAOaj99bEDVYVoy5QltQHFe1hOo8WxArpCgty88bEBNeUGp0LBrQLcmlsMG0WtAagGMn\\u002ffKa0DE7rAP5L1rQF+FrvDiDGtAPF8KwdW8akAL+UCCKulqQAWRvbPf4GpASPZ9iqzsakCFQurJgnxrQKr9TqVgCWtAjocJX2Ifa0CF\\u002fxnB\\u002fWpoQAYclCewDGlA69tBX1u2aUDvA3wOLQRqQD8wPctRaGpAaSl9mAzkakC1kpvI7VBrQLB0Bvf1ZmtAu73GYqrIa0CrAA9NFeVrQA8NfyWb0WtACx21kY4ebECtUmbpyBFsQIHnatUQ7WtABhGyp8v6a0AKLfwPv+xrQK89fP2sDGxAlYKHcuYlbEAEcNl+E4xsQABAW7hfX2xACsnyqOWVa0A+0oKgEyBrQFRH0JgSoWtA0a+pQzJpa0Aq9zevfQdrQO7ISy4hCGtA6XV\\u002f8Cota0DvxG7SymprQNn+LJ2GrWtA3IktLWiuakCvx58S7cBqQAsWUAv+IWtA++AJ518EbEDBZDMP2GNsQDDnpR8NKmxA8+jlQH8nbEB9eq\\u002fG5fBrQGqTk5VHHWxALw+ncKBZbEBvIxZkqaRsQE5dZA\\u002f152tAc8BVxPfQa0BD3e7mi9prQDu\\u002ffuho9GtAfA77mQGba0DyCcu1T9hrQAq5UrvCCmxAdVQJ5HlVbECdZSxn51psQPSOybIig2xArfspoIL7bECE3J9muqpsQMQ10NJwwGxAh8yE798vbUB\\u002ffPuk7D1tQPHHuMXaAm1AKzhUeFBobEAtp5O7EX1sQPnmHHobomxAzB+XCkIBbUBIZFcJ6vlsQEdFFeV3oWxAYrv6lgAcbECDt6geKXlrQAL5j8BHZ2tA7peUjvCUa0CeCFlGiZZrQLkwz3l1AmxAC1nPsilFbECUfb4vN6hrQPZJx5Or42tA6KuMu33Qa0Dc\\u002fD64FxhsQLwbZBHCAGxAzvU8xIYdbECiB0xzJ01sQBy7RHuKNGxATPsXqMkubECQONCo53lsQGoHEimbr2xAfEKoEFwibUD0QY\\u002fzszFtQCjz1DrRNm1AW7bs\\u002fMicbUBwwyFdZ9RtQFmns3WFH25ANqnoj6Y7bkAFg3pWDTpuQB0DHPyAL25AlOgH3UGibkCLoskxqr9uQK73WSMgrW5ABYZAoQa\\u002fbkCilgSgGOxuQFAwMmouMG9AcKoCKvnubkCaYcIqMtpuQEjyQQxyrW5ApNfTH36lb0BnBmDOTuBvQJpxy4CNFXBALI8QwwaZb0CZk50LME9vQEHqLmj+JG9AoCZ3470xbkCNDr2Z+jNuQPbhy1HaXW5Advm+3LcibkC1AbPXKfltQLmAtaPPF21AR2z\\u002feveubEDHOqmp3gZtQK\\u002feJ1OFRW1A6cm5MfJ4bEAK8dZ+VIdsQJCnpTRzZGtAYyluGY5xa0A2BV6cycFrQBAPdLNWpWtAKfeA53z3a0Dk6xHnztFsQHsHLoIYOG1AhjQ3K2KebUCG0yZI4CVtQGJOYch3LmxAmArjlNVMbECCpWopnoBsQKmq8VmpxWxAGZ85NFVgbEAAAABgZmZsQAAAAAAphGxAAAAAgMLVbEAAAACAPXJtQAAAACCuH25AAAAAQOE6bkAAAADAHmVuQA==\"},\"name\":\"AAPL\",\"open\":{\"dtype\":\"f8\",\"bdata\":\"kBgkpfCdZkBRUzkBuKJmQLKYr0PE02ZAPge6An8EZ0DDOo7rRaxmQNEmqOf2h2ZA3ehBad+0ZkBZEe4aYY1mQAATJByZVmZAr4OqM0\\u002fqZUAjCki8oz5lQI0ZUq8xSGVAAACpeVwLZUC24ZCalQZlQJgCX28ShGVAPRyAdMKKZUDjQ3xcqH5lQAu9\\u002fNYdg2VAIVsuk7JLZUC4VZkm1tdlQAylSj2psGVAPeL6Ep3cZUAWO8wx+QZmQDbZCkV9XmVA\\u002fjugp5Y4ZUA1DN0VbyZlQGlOFQZ+M2VAU2vUmiteZUDrR0bXVUxlQAffieIhCWVAyEUiPOX\\u002fZEA6m\\u002fmHqy9lQMZKfz1gGWVAk5qtS4oHZUAxVRWYB\\u002f1kQBRv4to2AGVAxc7HMpDxZECsZSjqHK5lQCN1wdQl0WVAmmHLwSteZUAAgNUjAxplQK7vkKKw52RAAIAsSrmtZECUVLyRv5dkQGXtnkxVkmRA1mhx+ju4ZECRayjcdhdlQJfAi6ucImVAltxNYcSRZUBsbFxAfpBlQJ5uWpgOGWVAOfsKZWB2ZUAUEAO7ujhnQF0IW\\u002fzGr2ZAQQBks8\\u002fSZkAlHdWDs79mQHmgHCJ3tmZAonsz\\u002fPoIZ0AYGMrsMxpnQA\\u002fLAo44XGdA5qR6ivpoZ0C8eGi2n7pnQLBk66ABnGdAvMELLESWZ0As+C6zZc5nQJZdBugH9GdAFGJEfuPKZ0B00Z00AIZnQKN6RKrK22dA0PzDKDKfZ0DibQ1r38NnQJ8jHTqP2WdAByb6gR8IaEDJS+PqnT9oQJUKo+XaV2hANiX9qxphaEA2kNpX7z9oQGmrrsaxh2hAGxCh0wogaEDqvEepnNVpQBluraepwGpAkhFyLkekakCSeKAN+JRqQNLUJHKOG2tAaLU\\u002fQdSmakC5VDus7TVqQPtNaEbG4GlATokcjmEOakDk6zZlVFlqQCGna08Rv2pAA+e17YLhakDSSZBfJWxqQLiLYm6h7WpAPqGDCGtoa0BQbSOSCp1rQD54KciJSmxA20Ka9FNlbEBeAj97BZFsQHXpe22t02xA7nYT9OaEbEBgFZcMA3ZtQIqFlW\\u002fPRm1AUxHpG86VbEAYgsa8RrBsQHgSQkEkAmxAf6XNrvxHbEBQs9YvyvNrQOODVm3952tA44p7\\u002fEpGa0D3GMox9T5rQCuttd92B2tA+BhWzJVOa0AVe9sPWJZrQH8miBTK82tAznCTO09Na0DTePc2is1oQNAkdzWYk2lAc52gQJ\\u002fGaUDDiOlcrYxqQAVrADp3bGpAXrjrYw7zakC1kpvI7VBrQKnHPHC9gmtAOamiqGoDbECKF5NRtO1rQAgL6o4tJ2xAv4TyT8YobEBBbEq3uEBsQIT7dLpFaWxABK5qGkMlbEBrnkpuYkhsQMrmTCUeMGxAKkckRmxtbEDeUkXMB7NsQPVBdlfntWxAQ\\u002fnH44mBbEBz0JINi6VrQLUIMr6VpGtA2oI1kanua0BPIXveuIprQF\\u002fgcUgOTmtAZqqlNiifa0CcZIYbXcBrQCG+JTLZ4mtAokzcChACa0AbY7eV1uhqQFyJNt1PImtAGmsTjd4PbEDe\\u002fDwI4a5sQPBkPFnnWmxAI\\u002f8OWbuEbEDSb88H9A1sQNRcNnWgWWxAZuo\\u002fUqp+bEAqqvw\\u002fHbFsQGKFEtSCoGxAoQbRIpssbEBms+uIqBRsQOYhEdbIbGxAFqOSMjkAbEAERgpy1vlrQHGDMkmIF2xA2pvACvRobEDap3qEfJlsQG0DSAZUhmxAy0pXcRojbUC5dPO87OJsQMUVDBlbHW1Aq2l8hSl1bUB\\u002ffPuk7D1tQJLnujALLG1AXUHlRRwybUBYAjbdMq9sQFh4LwuJp2xA28hfENgZbUA9uRTB0RJtQPnzBFgsA21Ard1ba8OabEDoFcnmgo9rQMaki3kmkGtArkj3bgOqa0BNd5pa4MNrQPBWfuVfBGxAlM9UvHRdbEC3ZoWyFxhsQMH\\u002f9F61CWxAjTONfHL4a0BnLixquxhsQHLcaMfXRGxAwpj5axUgbEAqSETyYVdsQOfdG5XneWxAfTXVwh2UbECQONCo53lsQE5Ehe+V5mxAfEKoEFwibUAnaXLDzEZtQCz2IeyqUW1AflKQH02gbUBb8C3tffFtQK8BdOJNU25AVEXo8xp3bkDv8MA+lVRuQMby2KMPMm5AHLbpis3TbkAr+R9mAfZuQFujc6DN025AoiMFyofxbkDc0uLw9vZuQMsXM1fFOW9AqyWHBUJ8b0BhcGs6TeduQFYIvAeQ+G5AEKmYv6\\u002fPb0DhpLSBs+ZvQFOc3buAHnBA85pwzL8YcEBxPOjafn5vQGFVhVM1hW9AgCnY6wIVb0AAAACg92JuQEmSOXVVgW5AgWSREtJWbkD41Y8E8DRuQGJim3Hi921ApanHs8AobUCzXCjmv09tQHyodc87TG1A1ujm19uibUCjzRifrvtsQL00jaMg+GtAYyluGY5xa0DQXYcoyA9sQD96e2EPEWxAFvtZS8T4a0ARyutKFtNsQAtR06ScO21A7Q15SA3NbUAajlaTZN1uQBPipO+Yt2xAQ0jvbgNgbEAsJ5my7YhsQJsVMb0m4WxAu8LciAYLbUAAAACAPbJsQAAAAGBmhmxAAAAAYGbmbEAAAADAHp1tQAAAAAAAKG5AAAAAwMyEbkAAAADAHpVuQA==\"},\"x\":[\"2024-02-20T00:00:00.000000000\",\"2024-02-21T00:00:00.000000000\",\"2024-02-22T00:00:00.000000000\",\"2024-02-23T00:00:00.000000000\",\"2024-02-26T00:00:00.000000000\",\"2024-02-27T00:00:00.000000000\",\"2024-02-28T00:00:00.000000000\",\"2024-02-29T00:00:00.000000000\",\"2024-03-01T00:00:00.000000000\",\"2024-03-04T00:00:00.000000000\",\"2024-03-05T00:00:00.000000000\",\"2024-03-06T00:00:00.000000000\",\"2024-03-07T00:00:00.000000000\",\"2024-03-08T00:00:00.000000000\",\"2024-03-11T00:00:00.000000000\",\"2024-03-12T00:00:00.000000000\",\"2024-03-13T00:00:00.000000000\",\"2024-03-14T00:00:00.000000000\",\"2024-03-15T00:00:00.000000000\",\"2024-03-18T00:00:00.000000000\",\"2024-03-19T00:00:00.000000000\",\"2024-03-20T00:00:00.000000000\",\"2024-03-21T00:00:00.000000000\",\"2024-03-22T00:00:00.000000000\",\"2024-03-25T00:00:00.000000000\",\"2024-03-26T00:00:00.000000000\",\"2024-03-27T00:00:00.000000000\",\"2024-03-28T00:00:00.000000000\",\"2024-04-01T00:00:00.000000000\",\"2024-04-02T00:00:00.000000000\",\"2024-04-03T00:00:00.000000000\",\"2024-04-04T00:00:00.000000000\",\"2024-04-05T00:00:00.000000000\",\"2024-04-08T00:00:00.000000000\",\"2024-04-09T00:00:00.000000000\",\"2024-04-10T00:00:00.000000000\",\"2024-04-11T00:00:00.000000000\",\"2024-04-12T00:00:00.000000000\",\"2024-04-15T00:00:00.000000000\",\"2024-04-16T00:00:00.000000000\",\"2024-04-17T00:00:00.000000000\",\"2024-04-18T00:00:00.000000000\",\"2024-04-19T00:00:00.000000000\",\"2024-04-22T00:00:00.000000000\",\"2024-04-23T00:00:00.000000000\",\"2024-04-24T00:00:00.000000000\",\"2024-04-25T00:00:00.000000000\",\"2024-04-26T00:00:00.000000000\",\"2024-04-29T00:00:00.000000000\",\"2024-04-30T00:00:00.000000000\",\"2024-05-01T00:00:00.000000000\",\"2024-05-02T00:00:00.000000000\",\"2024-05-03T00:00:00.000000000\",\"2024-05-06T00:00:00.000000000\",\"2024-05-07T00:00:00.000000000\",\"2024-05-08T00:00:00.000000000\",\"2024-05-09T00:00:00.000000000\",\"2024-05-10T00:00:00.000000000\",\"2024-05-13T00:00:00.000000000\",\"2024-05-14T00:00:00.000000000\",\"2024-05-15T00:00:00.000000000\",\"2024-05-16T00:00:00.000000000\",\"2024-05-17T00:00:00.000000000\",\"2024-05-20T00:00:00.000000000\",\"2024-05-21T00:00:00.000000000\",\"2024-05-22T00:00:00.000000000\",\"2024-05-23T00:00:00.000000000\",\"2024-05-24T00:00:00.000000000\",\"2024-05-28T00:00:00.000000000\",\"2024-05-29T00:00:00.000000000\",\"2024-05-30T00:00:00.000000000\",\"2024-05-31T00:00:00.000000000\",\"2024-06-03T00:00:00.000000000\",\"2024-06-04T00:00:00.000000000\",\"2024-06-05T00:00:00.000000000\",\"2024-06-06T00:00:00.000000000\",\"2024-06-07T00:00:00.000000000\",\"2024-06-10T00:00:00.000000000\",\"2024-06-11T00:00:00.000000000\",\"2024-06-12T00:00:00.000000000\",\"2024-06-13T00:00:00.000000000\",\"2024-06-14T00:00:00.000000000\",\"2024-06-17T00:00:00.000000000\",\"2024-06-18T00:00:00.000000000\",\"2024-06-20T00:00:00.000000000\",\"2024-06-21T00:00:00.000000000\",\"2024-06-24T00:00:00.000000000\",\"2024-06-25T00:00:00.000000000\",\"2024-06-26T00:00:00.000000000\",\"2024-06-27T00:00:00.000000000\",\"2024-06-28T00:00:00.000000000\",\"2024-07-01T00:00:00.000000000\",\"2024-07-02T00:00:00.000000000\",\"2024-07-03T00:00:00.000000000\",\"2024-07-05T00:00:00.000000000\",\"2024-07-08T00:00:00.000000000\",\"2024-07-09T00:00:00.000000000\",\"2024-07-10T00:00:00.000000000\",\"2024-07-11T00:00:00.000000000\",\"2024-07-12T00:00:00.000000000\",\"2024-07-15T00:00:00.000000000\",\"2024-07-16T00:00:00.000000000\",\"2024-07-17T00:00:00.000000000\",\"2024-07-18T00:00:00.000000000\",\"2024-07-19T00:00:00.000000000\",\"2024-07-22T00:00:00.000000000\",\"2024-07-23T00:00:00.000000000\",\"2024-07-24T00:00:00.000000000\",\"2024-07-25T00:00:00.000000000\",\"2024-07-26T00:00:00.000000000\",\"2024-07-29T00:00:00.000000000\",\"2024-07-30T00:00:00.000000000\",\"2024-07-31T00:00:00.000000000\",\"2024-08-01T00:00:00.000000000\",\"2024-08-02T00:00:00.000000000\",\"2024-08-05T00:00:00.000000000\",\"2024-08-06T00:00:00.000000000\",\"2024-08-07T00:00:00.000000000\",\"2024-08-08T00:00:00.000000000\",\"2024-08-09T00:00:00.000000000\",\"2024-08-12T00:00:00.000000000\",\"2024-08-13T00:00:00.000000000\",\"2024-08-14T00:00:00.000000000\",\"2024-08-15T00:00:00.000000000\",\"2024-08-16T00:00:00.000000000\",\"2024-08-19T00:00:00.000000000\",\"2024-08-20T00:00:00.000000000\",\"2024-08-21T00:00:00.000000000\",\"2024-08-22T00:00:00.000000000\",\"2024-08-23T00:00:00.000000000\",\"2024-08-26T00:00:00.000000000\",\"2024-08-27T00:00:00.000000000\",\"2024-08-28T00:00:00.000000000\",\"2024-08-29T00:00:00.000000000\",\"2024-08-30T00:00:00.000000000\",\"2024-09-03T00:00:00.000000000\",\"2024-09-04T00:00:00.000000000\",\"2024-09-05T00:00:00.000000000\",\"2024-09-06T00:00:00.000000000\",\"2024-09-09T00:00:00.000000000\",\"2024-09-10T00:00:00.000000000\",\"2024-09-11T00:00:00.000000000\",\"2024-09-12T00:00:00.000000000\",\"2024-09-13T00:00:00.000000000\",\"2024-09-16T00:00:00.000000000\",\"2024-09-17T00:00:00.000000000\",\"2024-09-18T00:00:00.000000000\",\"2024-09-19T00:00:00.000000000\",\"2024-09-20T00:00:00.000000000\",\"2024-09-23T00:00:00.000000000\",\"2024-09-24T00:00:00.000000000\",\"2024-09-25T00:00:00.000000000\",\"2024-09-26T00:00:00.000000000\",\"2024-09-27T00:00:00.000000000\",\"2024-09-30T00:00:00.000000000\",\"2024-10-01T00:00:00.000000000\",\"2024-10-02T00:00:00.000000000\",\"2024-10-03T00:00:00.000000000\",\"2024-10-04T00:00:00.000000000\",\"2024-10-07T00:00:00.000000000\",\"2024-10-08T00:00:00.000000000\",\"2024-10-09T00:00:00.000000000\",\"2024-10-10T00:00:00.000000000\",\"2024-10-11T00:00:00.000000000\",\"2024-10-14T00:00:00.000000000\",\"2024-10-15T00:00:00.000000000\",\"2024-10-16T00:00:00.000000000\",\"2024-10-17T00:00:00.000000000\",\"2024-10-18T00:00:00.000000000\",\"2024-10-21T00:00:00.000000000\",\"2024-10-22T00:00:00.000000000\",\"2024-10-23T00:00:00.000000000\",\"2024-10-24T00:00:00.000000000\",\"2024-10-25T00:00:00.000000000\",\"2024-10-28T00:00:00.000000000\",\"2024-10-29T00:00:00.000000000\",\"2024-10-30T00:00:00.000000000\",\"2024-10-31T00:00:00.000000000\",\"2024-11-01T00:00:00.000000000\",\"2024-11-04T00:00:00.000000000\",\"2024-11-05T00:00:00.000000000\",\"2024-11-06T00:00:00.000000000\",\"2024-11-07T00:00:00.000000000\",\"2024-11-08T00:00:00.000000000\",\"2024-11-11T00:00:00.000000000\",\"2024-11-12T00:00:00.000000000\",\"2024-11-13T00:00:00.000000000\",\"2024-11-14T00:00:00.000000000\",\"2024-11-15T00:00:00.000000000\",\"2024-11-18T00:00:00.000000000\",\"2024-11-19T00:00:00.000000000\",\"2024-11-20T00:00:00.000000000\",\"2024-11-21T00:00:00.000000000\",\"2024-11-22T00:00:00.000000000\",\"2024-11-25T00:00:00.000000000\",\"2024-11-26T00:00:00.000000000\",\"2024-11-27T00:00:00.000000000\",\"2024-11-29T00:00:00.000000000\",\"2024-12-02T00:00:00.000000000\",\"2024-12-03T00:00:00.000000000\",\"2024-12-04T00:00:00.000000000\",\"2024-12-05T00:00:00.000000000\",\"2024-12-06T00:00:00.000000000\",\"2024-12-09T00:00:00.000000000\",\"2024-12-10T00:00:00.000000000\",\"2024-12-11T00:00:00.000000000\",\"2024-12-12T00:00:00.000000000\",\"2024-12-13T00:00:00.000000000\",\"2024-12-16T00:00:00.000000000\",\"2024-12-17T00:00:00.000000000\",\"2024-12-18T00:00:00.000000000\",\"2024-12-19T00:00:00.000000000\",\"2024-12-20T00:00:00.000000000\",\"2024-12-23T00:00:00.000000000\",\"2024-12-24T00:00:00.000000000\",\"2024-12-26T00:00:00.000000000\",\"2024-12-27T00:00:00.000000000\",\"2024-12-30T00:00:00.000000000\",\"2024-12-31T00:00:00.000000000\",\"2025-01-02T00:00:00.000000000\",\"2025-01-03T00:00:00.000000000\",\"2025-01-06T00:00:00.000000000\",\"2025-01-07T00:00:00.000000000\",\"2025-01-08T00:00:00.000000000\",\"2025-01-10T00:00:00.000000000\",\"2025-01-13T00:00:00.000000000\",\"2025-01-14T00:00:00.000000000\",\"2025-01-15T00:00:00.000000000\",\"2025-01-16T00:00:00.000000000\",\"2025-01-17T00:00:00.000000000\",\"2025-01-21T00:00:00.000000000\",\"2025-01-22T00:00:00.000000000\",\"2025-01-23T00:00:00.000000000\",\"2025-01-24T00:00:00.000000000\",\"2025-01-27T00:00:00.000000000\",\"2025-01-28T00:00:00.000000000\",\"2025-01-29T00:00:00.000000000\",\"2025-01-30T00:00:00.000000000\",\"2025-01-31T00:00:00.000000000\",\"2025-02-03T00:00:00.000000000\",\"2025-02-04T00:00:00.000000000\",\"2025-02-05T00:00:00.000000000\",\"2025-02-06T00:00:00.000000000\",\"2025-02-07T00:00:00.000000000\",\"2025-02-10T00:00:00.000000000\",\"2025-02-11T00:00:00.000000000\",\"2025-02-12T00:00:00.000000000\",\"2025-02-13T00:00:00.000000000\",\"2025-02-14T00:00:00.000000000\",\"2025-02-18T00:00:00.000000000\",\"2025-02-19T00:00:00.000000000\"],\"type\":\"candlestick\"},{\"line\":{\"color\":\"blue\"},\"name\":\"SMA10\",\"x\":[\"2024-02-20T00:00:00.000000000\",\"2024-02-21T00:00:00.000000000\",\"2024-02-22T00:00:00.000000000\",\"2024-02-23T00:00:00.000000000\",\"2024-02-26T00:00:00.000000000\",\"2024-02-27T00:00:00.000000000\",\"2024-02-28T00:00:00.000000000\",\"2024-02-29T00:00:00.000000000\",\"2024-03-01T00:00:00.000000000\",\"2024-03-04T00:00:00.000000000\",\"2024-03-05T00:00:00.000000000\",\"2024-03-06T00:00:00.000000000\",\"2024-03-07T00:00:00.000000000\",\"2024-03-08T00:00:00.000000000\",\"2024-03-11T00:00:00.000000000\",\"2024-03-12T00:00:00.000000000\",\"2024-03-13T00:00:00.000000000\",\"2024-03-14T00:00:00.000000000\",\"2024-03-15T00:00:00.000000000\",\"2024-03-18T00:00:00.000000000\",\"2024-03-19T00:00:00.000000000\",\"2024-03-20T00:00:00.000000000\",\"2024-03-21T00:00:00.000000000\",\"2024-03-22T00:00:00.000000000\",\"2024-03-25T00:00:00.000000000\",\"2024-03-26T00:00:00.000000000\",\"2024-03-27T00:00:00.000000000\",\"2024-03-28T00:00:00.000000000\",\"2024-04-01T00:00:00.000000000\",\"2024-04-02T00:00:00.000000000\",\"2024-04-03T00:00:00.000000000\",\"2024-04-04T00:00:00.000000000\",\"2024-04-05T00:00:00.000000000\",\"2024-04-08T00:00:00.000000000\",\"2024-04-09T00:00:00.000000000\",\"2024-04-10T00:00:00.000000000\",\"2024-04-11T00:00:00.000000000\",\"2024-04-12T00:00:00.000000000\",\"2024-04-15T00:00:00.000000000\",\"2024-04-16T00:00:00.000000000\",\"2024-04-17T00:00:00.000000000\",\"2024-04-18T00:00:00.000000000\",\"2024-04-19T00:00:00.000000000\",\"2024-04-22T00:00:00.000000000\",\"2024-04-23T00:00:00.000000000\",\"2024-04-24T00:00:00.000000000\",\"2024-04-25T00:00:00.000000000\",\"2024-04-26T00:00:00.000000000\",\"2024-04-29T00:00:00.000000000\",\"2024-04-30T00:00:00.000000000\",\"2024-05-01T00:00:00.000000000\",\"2024-05-02T00:00:00.000000000\",\"2024-05-03T00:00:00.000000000\",\"2024-05-06T00:00:00.000000000\",\"2024-05-07T00:00:00.000000000\",\"2024-05-08T00:00:00.000000000\",\"2024-05-09T00:00:00.000000000\",\"2024-05-10T00:00:00.000000000\",\"2024-05-13T00:00:00.000000000\",\"2024-05-14T00:00:00.000000000\",\"2024-05-15T00:00:00.000000000\",\"2024-05-16T00:00:00.000000000\",\"2024-05-17T00:00:00.000000000\",\"2024-05-20T00:00:00.000000000\",\"2024-05-21T00:00:00.000000000\",\"2024-05-22T00:00:00.000000000\",\"2024-05-23T00:00:00.000000000\",\"2024-05-24T00:00:00.000000000\",\"2024-05-28T00:00:00.000000000\",\"2024-05-29T00:00:00.000000000\",\"2024-05-30T00:00:00.000000000\",\"2024-05-31T00:00:00.000000000\",\"2024-06-03T00:00:00.000000000\",\"2024-06-04T00:00:00.000000000\",\"2024-06-05T00:00:00.000000000\",\"2024-06-06T00:00:00.000000000\",\"2024-06-07T00:00:00.000000000\",\"2024-06-10T00:00:00.000000000\",\"2024-06-11T00:00:00.000000000\",\"2024-06-12T00:00:00.000000000\",\"2024-06-13T00:00:00.000000000\",\"2024-06-14T00:00:00.000000000\",\"2024-06-17T00:00:00.000000000\",\"2024-06-18T00:00:00.000000000\",\"2024-06-20T00:00:00.000000000\",\"2024-06-21T00:00:00.000000000\",\"2024-06-24T00:00:00.000000000\",\"2024-06-25T00:00:00.000000000\",\"2024-06-26T00:00:00.000000000\",\"2024-06-27T00:00:00.000000000\",\"2024-06-28T00:00:00.000000000\",\"2024-07-01T00:00:00.000000000\",\"2024-07-02T00:00:00.000000000\",\"2024-07-03T00:00:00.000000000\",\"2024-07-05T00:00:00.000000000\",\"2024-07-08T00:00:00.000000000\",\"2024-07-09T00:00:00.000000000\",\"2024-07-10T00:00:00.000000000\",\"2024-07-11T00:00:00.000000000\",\"2024-07-12T00:00:00.000000000\",\"2024-07-15T00:00:00.000000000\",\"2024-07-16T00:00:00.000000000\",\"2024-07-17T00:00:00.000000000\",\"2024-07-18T00:00:00.000000000\",\"2024-07-19T00:00:00.000000000\",\"2024-07-22T00:00:00.000000000\",\"2024-07-23T00:00:00.000000000\",\"2024-07-24T00:00:00.000000000\",\"2024-07-25T00:00:00.000000000\",\"2024-07-26T00:00:00.000000000\",\"2024-07-29T00:00:00.000000000\",\"2024-07-30T00:00:00.000000000\",\"2024-07-31T00:00:00.000000000\",\"2024-08-01T00:00:00.000000000\",\"2024-08-02T00:00:00.000000000\",\"2024-08-05T00:00:00.000000000\",\"2024-08-06T00:00:00.000000000\",\"2024-08-07T00:00:00.000000000\",\"2024-08-08T00:00:00.000000000\",\"2024-08-09T00:00:00.000000000\",\"2024-08-12T00:00:00.000000000\",\"2024-08-13T00:00:00.000000000\",\"2024-08-14T00:00:00.000000000\",\"2024-08-15T00:00:00.000000000\",\"2024-08-16T00:00:00.000000000\",\"2024-08-19T00:00:00.000000000\",\"2024-08-20T00:00:00.000000000\",\"2024-08-21T00:00:00.000000000\",\"2024-08-22T00:00:00.000000000\",\"2024-08-23T00:00:00.000000000\",\"2024-08-26T00:00:00.000000000\",\"2024-08-27T00:00:00.000000000\",\"2024-08-28T00:00:00.000000000\",\"2024-08-29T00:00:00.000000000\",\"2024-08-30T00:00:00.000000000\",\"2024-09-03T00:00:00.000000000\",\"2024-09-04T00:00:00.000000000\",\"2024-09-05T00:00:00.000000000\",\"2024-09-06T00:00:00.000000000\",\"2024-09-09T00:00:00.000000000\",\"2024-09-10T00:00:00.000000000\",\"2024-09-11T00:00:00.000000000\",\"2024-09-12T00:00:00.000000000\",\"2024-09-13T00:00:00.000000000\",\"2024-09-16T00:00:00.000000000\",\"2024-09-17T00:00:00.000000000\",\"2024-09-18T00:00:00.000000000\",\"2024-09-19T00:00:00.000000000\",\"2024-09-20T00:00:00.000000000\",\"2024-09-23T00:00:00.000000000\",\"2024-09-24T00:00:00.000000000\",\"2024-09-25T00:00:00.000000000\",\"2024-09-26T00:00:00.000000000\",\"2024-09-27T00:00:00.000000000\",\"2024-09-30T00:00:00.000000000\",\"2024-10-01T00:00:00.000000000\",\"2024-10-02T00:00:00.000000000\",\"2024-10-03T00:00:00.000000000\",\"2024-10-04T00:00:00.000000000\",\"2024-10-07T00:00:00.000000000\",\"2024-10-08T00:00:00.000000000\",\"2024-10-09T00:00:00.000000000\",\"2024-10-10T00:00:00.000000000\",\"2024-10-11T00:00:00.000000000\",\"2024-10-14T00:00:00.000000000\",\"2024-10-15T00:00:00.000000000\",\"2024-10-16T00:00:00.000000000\",\"2024-10-17T00:00:00.000000000\",\"2024-10-18T00:00:00.000000000\",\"2024-10-21T00:00:00.000000000\",\"2024-10-22T00:00:00.000000000\",\"2024-10-23T00:00:00.000000000\",\"2024-10-24T00:00:00.000000000\",\"2024-10-25T00:00:00.000000000\",\"2024-10-28T00:00:00.000000000\",\"2024-10-29T00:00:00.000000000\",\"2024-10-30T00:00:00.000000000\",\"2024-10-31T00:00:00.000000000\",\"2024-11-01T00:00:00.000000000\",\"2024-11-04T00:00:00.000000000\",\"2024-11-05T00:00:00.000000000\",\"2024-11-06T00:00:00.000000000\",\"2024-11-07T00:00:00.000000000\",\"2024-11-08T00:00:00.000000000\",\"2024-11-11T00:00:00.000000000\",\"2024-11-12T00:00:00.000000000\",\"2024-11-13T00:00:00.000000000\",\"2024-11-14T00:00:00.000000000\",\"2024-11-15T00:00:00.000000000\",\"2024-11-18T00:00:00.000000000\",\"2024-11-19T00:00:00.000000000\",\"2024-11-20T00:00:00.000000000\",\"2024-11-21T00:00:00.000000000\",\"2024-11-22T00:00:00.000000000\",\"2024-11-25T00:00:00.000000000\",\"2024-11-26T00:00:00.000000000\",\"2024-11-27T00:00:00.000000000\",\"2024-11-29T00:00:00.000000000\",\"2024-12-02T00:00:00.000000000\",\"2024-12-03T00:00:00.000000000\",\"2024-12-04T00:00:00.000000000\",\"2024-12-05T00:00:00.000000000\",\"2024-12-06T00:00:00.000000000\",\"2024-12-09T00:00:00.000000000\",\"2024-12-10T00:00:00.000000000\",\"2024-12-11T00:00:00.000000000\",\"2024-12-12T00:00:00.000000000\",\"2024-12-13T00:00:00.000000000\",\"2024-12-16T00:00:00.000000000\",\"2024-12-17T00:00:00.000000000\",\"2024-12-18T00:00:00.000000000\",\"2024-12-19T00:00:00.000000000\",\"2024-12-20T00:00:00.000000000\",\"2024-12-23T00:00:00.000000000\",\"2024-12-24T00:00:00.000000000\",\"2024-12-26T00:00:00.000000000\",\"2024-12-27T00:00:00.000000000\",\"2024-12-30T00:00:00.000000000\",\"2024-12-31T00:00:00.000000000\",\"2025-01-02T00:00:00.000000000\",\"2025-01-03T00:00:00.000000000\",\"2025-01-06T00:00:00.000000000\",\"2025-01-07T00:00:00.000000000\",\"2025-01-08T00:00:00.000000000\",\"2025-01-10T00:00:00.000000000\",\"2025-01-13T00:00:00.000000000\",\"2025-01-14T00:00:00.000000000\",\"2025-01-15T00:00:00.000000000\",\"2025-01-16T00:00:00.000000000\",\"2025-01-17T00:00:00.000000000\",\"2025-01-21T00:00:00.000000000\",\"2025-01-22T00:00:00.000000000\",\"2025-01-23T00:00:00.000000000\",\"2025-01-24T00:00:00.000000000\",\"2025-01-27T00:00:00.000000000\",\"2025-01-28T00:00:00.000000000\",\"2025-01-29T00:00:00.000000000\",\"2025-01-30T00:00:00.000000000\",\"2025-01-31T00:00:00.000000000\",\"2025-02-03T00:00:00.000000000\",\"2025-02-04T00:00:00.000000000\",\"2025-02-05T00:00:00.000000000\",\"2025-02-06T00:00:00.000000000\",\"2025-02-07T00:00:00.000000000\",\"2025-02-10T00:00:00.000000000\",\"2025-02-11T00:00:00.000000000\",\"2025-02-12T00:00:00.000000000\",\"2025-02-13T00:00:00.000000000\",\"2025-02-14T00:00:00.000000000\",\"2025-02-18T00:00:00.000000000\",\"2025-02-19T00:00:00.000000000\"],\"y\":{\"dtype\":\"f8\",\"bdata\":\"AAAAAAAA+H8AAAAAAAD4fwAAAAAAAPh\\u002fAAAAAAAA+H8AAAAAAAD4fwAAAAAAAPh\\u002fAAAAAAAA+H8AAAAAAAD4fwAAAAAAAPh\\u002fzczMfIaJZkBmZmbmFmVmQAAAAEAMO2ZAAAAAUBgKZkBmZmZWi+RlQAAAAEDCyWVAMzMz89GrZUAAAAAADItlQJqZmQldcmVAMzMz8\\u002fBbZUAAAADAi1dlQM3MzDyHamVAZmZm1vGIZUBmZmY2fpBlQDMzMwNulWVAmpmZ2WCPZUBmZmbWKoRlQJqZmUkci2VAAAAA8ESGZUAzMzMzBX5lQJqZmUl6bmVAMzMzk\\u002f9ZZUAzMzNjoDplQAAAAPDsNGVAZmZmJrooZUCamZkJ+CRlQGZmZmbSHmVAMzMz81QkZUCamZnJejRlQM3MzJzzPGVAmpmZ6as+ZUBmZmaWajllQAAAAEC\\u002fM2VAzczM7CglZUDNzMzc2BxlQDMzM1MGFGVAAAAAYPkXZUAzMzNTkgdlQJqZmQl78GRAmpmZeQ\\u002fzZEDNzMwMFvZkQDMzMwM6+mRAmpmZ+U0NZUDNzMwc2EdlQJqZmbljemVAmpmZqcGrZUAAAABAdNdlQM3MzJw1BmZAzczMHMsyZkCamZlJTVxmQM3MzAyTk2ZAMzMzU27VZkDNzMxMygtnQGZmZuZHIWdAAAAAYNI\\u002fZ0BmZmbWV2BnQGZmZjYoe2dAMzMzU1KDZ0DNzMxcbJlnQJqZmWlBpWdAmpmZeWCuZ0DNzMxMYrNnQDMzM\\u002fMRu2dAmpmZaVbIZ0AzMzPj5NJnQM3MzMwe3mdAZmZmtonpZ0DNzMxsdgloQJqZmRl6E2hAmpmZeTRKaECamZlZ25JoQGZmZgYN3GhAzczMHJocaUDNzMyszmRpQJqZmclmpGlAzczMDHLQaUBmZmYm8PlpQJqZmUnRHWpAMzMzw69QakCamZkpJGRqQM3MzBxtZ2pAMzMzg+FbakCamZmZd2lqQGZmZtbydGpAAAAAUBqMakBmZmZ2PMFqQDMzMwMTAmtAMzMzA5VDa0BmZmZ21o9rQM3MzByCvWtAMzMzo\\u002fDxa0CamZn5xz1sQGZmZlZpd2xAZmZmBt+SbEDNzMxMQptsQDMzM+PIlGxAAAAAYHmIbEDNzMz8xHxsQAAAAGC3TmxAAAAAgJEubEAAAACAcgZsQDMzM5Po0mtAMzMz89Cfa0DNzMwMIYprQGZmZkaRd2tAAAAAEGBpa0AzMzNThjprQAAAAMDRAWtAAAAAQALmakBmZmZ2rdhqQJqZmSkx02pAzczMDLvRakDNzMzMbNpqQJqZmWkY2mpAMzMzczXvakAAAADwyANrQGZmZuafOWtAmpmZOfN3a0AzMzMDqq1rQGZmZtZG0mtAAAAAoOv0a0CamZmJuxNsQJqZmSlRKWxAmpmZKYw4bEAzMzNjvEhsQGZmZrYnUmxAmpmZaTFIbEDNzMzsHjZsQJqZmflIKWxAzczMbHAdbEDNzMw8gQpsQJqZmTnu82tAmpmZycjia0DNzMwM6NZrQDMzMzOhv2tAAAAAkCSXa0AAAACADIRrQGZmZraJg2tAZmZmpkKYa0DNzMwM069rQM3MzMyTwWtAAAAAIMLYa0AAAACwmuRrQJqZmVnF82tAMzMzY6kEbEAzMzOj6zlsQDMzM5P\\u002fV2xAzczMjHFrbEDNzMzcOWFsQDMzM4PBXGxAZmZmVn5NbEAAAACAYkhsQJqZmamBUmxAzczMHFxXbEAzMzPzl1ZsQM3MzFwqUWxAzczMTI9pbEDNzMxMhnlsQAAAABA3jmxAzczMvGWobECamZkZn9dsQM3MzKzW92xAZmZm5rv7bECamZmJngBtQDMzM7PxDG1AzczMPKYTbUCamZkZExNtQM3MzNy1DW1AmpmZScn5bECamZnpLtNsQM3MzBz7pGxAmpmZKVt9bEAzMzNDr2NsQJqZmXnRWWxAZmZmJmhMbEDNzMw86i9sQAAAAKCPEmxAzczMbHMDbEDNzMzcoAtsQDMzM5MXE2xAmpmZORUnbEAAAACQTjdsQGZmZsYpTGxAMzMzY0lQbEAzMzOjlllsQAAAAMA0dWxAAAAA8NKXbEBmZmZ2LrdsQM3MzCxN1GxAzczMLPACbUBmZmbmszFtQGZmZnbJYG1AZmZmZqqNbUAzMzNzcLttQM3MzFxl8W1AmpmZCQYhbkBmZmY2j0VuQM3MzKw1b25AAAAAULuRbkCamZnZVLZuQJqZmQnz2G5AZmZmRg\\u002fpbkDNzMzMov5uQDMzMwPgI29AAAAA8Bs\\u002fb0AzMzPTcmBvQM3MzByAiG9AzczMvOOgb0CamZk55q1vQDMzM+Pqq29AzczMrCKNb0CamZnZJH5vQDMzMzPVbm9AmpmZeZRHb0DNzMxsZh9vQDMzM7Mn225AmpmZKXWMbkAAAADgJEVuQAAAAKBWF25AZmZmFoHQbUAAAABAK6RtQAAAABDwYW1AMzMzo0QebUCamZkp+eJsQAAAAKBMo2xAMzMzs\\u002fSMbEBmZmZWS5lsQM3MzJy6rGxAzczMfNWrbEAzMzMjk8RsQGZmZhZHvmxAZmZmBsHebEBmZmYmX\\u002fpsQJqZmRnuGG1AzczM3G4obUDNzMw8KyJtQAAAAFD1EG1AmpmZ2dQJbUAzMzNDRhdtQGZmZrafM21AMzMz4xhpbUAzMzMTipBtQA==\"},\"type\":\"scatter\"},{\"line\":{\"color\":\"red\"},\"name\":\"SMA20\",\"x\":[\"2024-02-20T00:00:00.000000000\",\"2024-02-21T00:00:00.000000000\",\"2024-02-22T00:00:00.000000000\",\"2024-02-23T00:00:00.000000000\",\"2024-02-26T00:00:00.000000000\",\"2024-02-27T00:00:00.000000000\",\"2024-02-28T00:00:00.000000000\",\"2024-02-29T00:00:00.000000000\",\"2024-03-01T00:00:00.000000000\",\"2024-03-04T00:00:00.000000000\",\"2024-03-05T00:00:00.000000000\",\"2024-03-06T00:00:00.000000000\",\"2024-03-07T00:00:00.000000000\",\"2024-03-08T00:00:00.000000000\",\"2024-03-11T00:00:00.000000000\",\"2024-03-12T00:00:00.000000000\",\"2024-03-13T00:00:00.000000000\",\"2024-03-14T00:00:00.000000000\",\"2024-03-15T00:00:00.000000000\",\"2024-03-18T00:00:00.000000000\",\"2024-03-19T00:00:00.000000000\",\"2024-03-20T00:00:00.000000000\",\"2024-03-21T00:00:00.000000000\",\"2024-03-22T00:00:00.000000000\",\"2024-03-25T00:00:00.000000000\",\"2024-03-26T00:00:00.000000000\",\"2024-03-27T00:00:00.000000000\",\"2024-03-28T00:00:00.000000000\",\"2024-04-01T00:00:00.000000000\",\"2024-04-02T00:00:00.000000000\",\"2024-04-03T00:00:00.000000000\",\"2024-04-04T00:00:00.000000000\",\"2024-04-05T00:00:00.000000000\",\"2024-04-08T00:00:00.000000000\",\"2024-04-09T00:00:00.000000000\",\"2024-04-10T00:00:00.000000000\",\"2024-04-11T00:00:00.000000000\",\"2024-04-12T00:00:00.000000000\",\"2024-04-15T00:00:00.000000000\",\"2024-04-16T00:00:00.000000000\",\"2024-04-17T00:00:00.000000000\",\"2024-04-18T00:00:00.000000000\",\"2024-04-19T00:00:00.000000000\",\"2024-04-22T00:00:00.000000000\",\"2024-04-23T00:00:00.000000000\",\"2024-04-24T00:00:00.000000000\",\"2024-04-25T00:00:00.000000000\",\"2024-04-26T00:00:00.000000000\",\"2024-04-29T00:00:00.000000000\",\"2024-04-30T00:00:00.000000000\",\"2024-05-01T00:00:00.000000000\",\"2024-05-02T00:00:00.000000000\",\"2024-05-03T00:00:00.000000000\",\"2024-05-06T00:00:00.000000000\",\"2024-05-07T00:00:00.000000000\",\"2024-05-08T00:00:00.000000000\",\"2024-05-09T00:00:00.000000000\",\"2024-05-10T00:00:00.000000000\",\"2024-05-13T00:00:00.000000000\",\"2024-05-14T00:00:00.000000000\",\"2024-05-15T00:00:00.000000000\",\"2024-05-16T00:00:00.000000000\",\"2024-05-17T00:00:00.000000000\",\"2024-05-20T00:00:00.000000000\",\"2024-05-21T00:00:00.000000000\",\"2024-05-22T00:00:00.000000000\",\"2024-05-23T00:00:00.000000000\",\"2024-05-24T00:00:00.000000000\",\"2024-05-28T00:00:00.000000000\",\"2024-05-29T00:00:00.000000000\",\"2024-05-30T00:00:00.000000000\",\"2024-05-31T00:00:00.000000000\",\"2024-06-03T00:00:00.000000000\",\"2024-06-04T00:00:00.000000000\",\"2024-06-05T00:00:00.000000000\",\"2024-06-06T00:00:00.000000000\",\"2024-06-07T00:00:00.000000000\",\"2024-06-10T00:00:00.000000000\",\"2024-06-11T00:00:00.000000000\",\"2024-06-12T00:00:00.000000000\",\"2024-06-13T00:00:00.000000000\",\"2024-06-14T00:00:00.000000000\",\"2024-06-17T00:00:00.000000000\",\"2024-06-18T00:00:00.000000000\",\"2024-06-20T00:00:00.000000000\",\"2024-06-21T00:00:00.000000000\",\"2024-06-24T00:00:00.000000000\",\"2024-06-25T00:00:00.000000000\",\"2024-06-26T00:00:00.000000000\",\"2024-06-27T00:00:00.000000000\",\"2024-06-28T00:00:00.000000000\",\"2024-07-01T00:00:00.000000000\",\"2024-07-02T00:00:00.000000000\",\"2024-07-03T00:00:00.000000000\",\"2024-07-05T00:00:00.000000000\",\"2024-07-08T00:00:00.000000000\",\"2024-07-09T00:00:00.000000000\",\"2024-07-10T00:00:00.000000000\",\"2024-07-11T00:00:00.000000000\",\"2024-07-12T00:00:00.000000000\",\"2024-07-15T00:00:00.000000000\",\"2024-07-16T00:00:00.000000000\",\"2024-07-17T00:00:00.000000000\",\"2024-07-18T00:00:00.000000000\",\"2024-07-19T00:00:00.000000000\",\"2024-07-22T00:00:00.000000000\",\"2024-07-23T00:00:00.000000000\",\"2024-07-24T00:00:00.000000000\",\"2024-07-25T00:00:00.000000000\",\"2024-07-26T00:00:00.000000000\",\"2024-07-29T00:00:00.000000000\",\"2024-07-30T00:00:00.000000000\",\"2024-07-31T00:00:00.000000000\",\"2024-08-01T00:00:00.000000000\",\"2024-08-02T00:00:00.000000000\",\"2024-08-05T00:00:00.000000000\",\"2024-08-06T00:00:00.000000000\",\"2024-08-07T00:00:00.000000000\",\"2024-08-08T00:00:00.000000000\",\"2024-08-09T00:00:00.000000000\",\"2024-08-12T00:00:00.000000000\",\"2024-08-13T00:00:00.000000000\",\"2024-08-14T00:00:00.000000000\",\"2024-08-15T00:00:00.000000000\",\"2024-08-16T00:00:00.000000000\",\"2024-08-19T00:00:00.000000000\",\"2024-08-20T00:00:00.000000000\",\"2024-08-21T00:00:00.000000000\",\"2024-08-22T00:00:00.000000000\",\"2024-08-23T00:00:00.000000000\",\"2024-08-26T00:00:00.000000000\",\"2024-08-27T00:00:00.000000000\",\"2024-08-28T00:00:00.000000000\",\"2024-08-29T00:00:00.000000000\",\"2024-08-30T00:00:00.000000000\",\"2024-09-03T00:00:00.000000000\",\"2024-09-04T00:00:00.000000000\",\"2024-09-05T00:00:00.000000000\",\"2024-09-06T00:00:00.000000000\",\"2024-09-09T00:00:00.000000000\",\"2024-09-10T00:00:00.000000000\",\"2024-09-11T00:00:00.000000000\",\"2024-09-12T00:00:00.000000000\",\"2024-09-13T00:00:00.000000000\",\"2024-09-16T00:00:00.000000000\",\"2024-09-17T00:00:00.000000000\",\"2024-09-18T00:00:00.000000000\",\"2024-09-19T00:00:00.000000000\",\"2024-09-20T00:00:00.000000000\",\"2024-09-23T00:00:00.000000000\",\"2024-09-24T00:00:00.000000000\",\"2024-09-25T00:00:00.000000000\",\"2024-09-26T00:00:00.000000000\",\"2024-09-27T00:00:00.000000000\",\"2024-09-30T00:00:00.000000000\",\"2024-10-01T00:00:00.000000000\",\"2024-10-02T00:00:00.000000000\",\"2024-10-03T00:00:00.000000000\",\"2024-10-04T00:00:00.000000000\",\"2024-10-07T00:00:00.000000000\",\"2024-10-08T00:00:00.000000000\",\"2024-10-09T00:00:00.000000000\",\"2024-10-10T00:00:00.000000000\",\"2024-10-11T00:00:00.000000000\",\"2024-10-14T00:00:00.000000000\",\"2024-10-15T00:00:00.000000000\",\"2024-10-16T00:00:00.000000000\",\"2024-10-17T00:00:00.000000000\",\"2024-10-18T00:00:00.000000000\",\"2024-10-21T00:00:00.000000000\",\"2024-10-22T00:00:00.000000000\",\"2024-10-23T00:00:00.000000000\",\"2024-10-24T00:00:00.000000000\",\"2024-10-25T00:00:00.000000000\",\"2024-10-28T00:00:00.000000000\",\"2024-10-29T00:00:00.000000000\",\"2024-10-30T00:00:00.000000000\",\"2024-10-31T00:00:00.000000000\",\"2024-11-01T00:00:00.000000000\",\"2024-11-04T00:00:00.000000000\",\"2024-11-05T00:00:00.000000000\",\"2024-11-06T00:00:00.000000000\",\"2024-11-07T00:00:00.000000000\",\"2024-11-08T00:00:00.000000000\",\"2024-11-11T00:00:00.000000000\",\"2024-11-12T00:00:00.000000000\",\"2024-11-13T00:00:00.000000000\",\"2024-11-14T00:00:00.000000000\",\"2024-11-15T00:00:00.000000000\",\"2024-11-18T00:00:00.000000000\",\"2024-11-19T00:00:00.000000000\",\"2024-11-20T00:00:00.000000000\",\"2024-11-21T00:00:00.000000000\",\"2024-11-22T00:00:00.000000000\",\"2024-11-25T00:00:00.000000000\",\"2024-11-26T00:00:00.000000000\",\"2024-11-27T00:00:00.000000000\",\"2024-11-29T00:00:00.000000000\",\"2024-12-02T00:00:00.000000000\",\"2024-12-03T00:00:00.000000000\",\"2024-12-04T00:00:00.000000000\",\"2024-12-05T00:00:00.000000000\",\"2024-12-06T00:00:00.000000000\",\"2024-12-09T00:00:00.000000000\",\"2024-12-10T00:00:00.000000000\",\"2024-12-11T00:00:00.000000000\",\"2024-12-12T00:00:00.000000000\",\"2024-12-13T00:00:00.000000000\",\"2024-12-16T00:00:00.000000000\",\"2024-12-17T00:00:00.000000000\",\"2024-12-18T00:00:00.000000000\",\"2024-12-19T00:00:00.000000000\",\"2024-12-20T00:00:00.000000000\",\"2024-12-23T00:00:00.000000000\",\"2024-12-24T00:00:00.000000000\",\"2024-12-26T00:00:00.000000000\",\"2024-12-27T00:00:00.000000000\",\"2024-12-30T00:00:00.000000000\",\"2024-12-31T00:00:00.000000000\",\"2025-01-02T00:00:00.000000000\",\"2025-01-03T00:00:00.000000000\",\"2025-01-06T00:00:00.000000000\",\"2025-01-07T00:00:00.000000000\",\"2025-01-08T00:00:00.000000000\",\"2025-01-10T00:00:00.000000000\",\"2025-01-13T00:00:00.000000000\",\"2025-01-14T00:00:00.000000000\",\"2025-01-15T00:00:00.000000000\",\"2025-01-16T00:00:00.000000000\",\"2025-01-17T00:00:00.000000000\",\"2025-01-21T00:00:00.000000000\",\"2025-01-22T00:00:00.000000000\",\"2025-01-23T00:00:00.000000000\",\"2025-01-24T00:00:00.000000000\",\"2025-01-27T00:00:00.000000000\",\"2025-01-28T00:00:00.000000000\",\"2025-01-29T00:00:00.000000000\",\"2025-01-30T00:00:00.000000000\",\"2025-01-31T00:00:00.000000000\",\"2025-02-03T00:00:00.000000000\",\"2025-02-04T00:00:00.000000000\",\"2025-02-05T00:00:00.000000000\",\"2025-02-06T00:00:00.000000000\",\"2025-02-07T00:00:00.000000000\",\"2025-02-10T00:00:00.000000000\",\"2025-02-11T00:00:00.000000000\",\"2025-02-12T00:00:00.000000000\",\"2025-02-13T00:00:00.000000000\",\"2025-02-14T00:00:00.000000000\",\"2025-02-18T00:00:00.000000000\",\"2025-02-19T00:00:00.000000000\"],\"y\":{\"dtype\":\"f8\",\"bdata\":\"AAAAAAAA+H8AAAAAAAD4fwAAAAAAAPh\\u002fAAAAAAAA+H8AAAAAAAD4fwAAAAAAAPh\\u002fAAAAAAAA+H8AAAAAAAD4fwAAAAAAAPh\\u002fAAAAAAAA+H8AAAAAAAD4fwAAAAAAAPh\\u002fAAAAAAAA+H8AAAAAAAD4fwAAAAAAAPh\\u002fAAAAAAAA+H8AAAAAAAD4fwAAAAAAAPh\\u002fAAAAAAAA+H9mZmYeifBlQJqZmRHP52VAMzMzC\\u002f\\u002fhZUAzMzNDS81lQM3MzKz8vGVAzczMjJGsZUDNzMxk\\u002fpdlQM3MzCQUi2VAzczM\\u002fFB8ZUAzMzMT+2xlQM3MzAQDY2VAAAAAaENiZUDNzMwcyWFlQDMzM5O1YmVAzczMFBRfZUCamZlxLFplQGZmZp5+UWVAZmZmnrhXZUDNzMzcX11lQAAAAGh8XWVAmpmZGZNWZUDNzMwUtUllQJqZmdEvN2VAZmZm7gotZUCamZmBySJlQGZmZi5\\u002fHGVAMzMz42UbZUAzMzOj8xVlQJqZmel6EmVAMzMziwEYZUAzMzP7YBplQM3MzEzSGWVAzczMnIYgZUDNzMyEgDZlQDMzM0ueS2VAZmZm\\u002fuNfZUAAAADQtndlQAAAAPjjhmVAMzMzE6ORZUCamZlhrqdlQM3MzIzUxGVAMzMzK9TnZUAzMzMjjAxmQJqZmQGQNGZAzczMDBtdZkAAAADADIZmQDMzMztOqWZAAAAA+MPEZkDNzMy8G+ZmQJqZmVnHAGdAMzMzw\\u002fkgZ0AAAABQaERnQAAAACBuY2dAAAAAKM90Z0CamZmhW4lnQJqZmVE7n2dAZmZm9liyZ0AAAABgZMZnQDMzMztz1mdAmpmZ8br3Z0CamZnpnSBoQJqZmam3R2hAAAAACNZraEAzMzOLkpZoQGZmZtalu2hAzczMbEjXaEBmZmbuvPFoQDMzM9ujE2lAZmZm7hQyaUCamZlRLFdpQDMzMzskfWlAzczMRPebaUAzMzPbCMNpQJqZmcHg7GlAzczMjEAYakCamZlB10hqQM3MzJQBfmpAZmZmJrOwakDNzMwcQ\\u002fBqQDMzMyPTEGtAAAAA4K4sa0BmZma+1ExrQAAAAHhwcGtAZmZm7uiDa0BmZmZOrpNrQM3MzKwCq2tAmpmZMUbFa0AAAAAALeBrQDMzM+tG72tAZmZmzgn2a0CamZmRMfxrQGZmZkZYCGxAzczMJJ0LbECamZkJgA5sQJqZmclpCWxAmpmZeRT\\u002fa0CamZnZf+FrQGZmZl5Lv2tAAAAA0Fyaa0AzMzN7n4NrQM3MzNTRbGtAAAAA0FFSa0AAAADgHj1rQDMzM7scMmtAzczMXGMza0AAAACAlDZrQM3MzBwTOmtAzczMfOI8a0CamZkh1klrQGZmZiZ6VWtAzczMZA5ka0AzMzNLu3JrQDMzM\\u002fvegWtAmpmZSVKJa0AzMzPr+JtrQDMzM1P4qmtAAAAAqOjAa0AzMzMTCddrQGZmZn5562tAmpmZodv3a0BmZmZutv9rQJqZmeHUA2xAmpmZ+QwGbEAzMzMbugdsQDMzM8suBGxAMzMzI6b0a0DNzMz0HuZrQJqZmVHU3GtAAAAA0MXga0DNzMy8oeZrQM3MzIQK5mtAzczMLFjma0DNzMy8seNrQDMzM7NW5WtAMzMzSyXia0CamZkZiOhrQJqZmQkG7mtAmpmZoX33a0CamZlBvvxrQAAAAEhKBmxAmpmZEYkHbEAAAABQkhBsQM3MzCyOG2xAMzMzu5AlbEAzMzOroC1sQAAAAACLRWxAAAAAcMdgbEDNzMzse3JsQGZmZna4d2xAAAAAoJOCbEAAAAC4jpJsQGZmZpYcoGxAAAAAyB6nbEAzMzNT\\u002fatsQDMzM9PEsWxAzczMTGiybEAzMzMzUb5sQM3MzBSew2xAzczMLADEbEAzMzNTyr1sQDMzMxtNvmxAMzMz65i6bEDNzMyUta9sQJqZmQE4rWxAzczM7KysbEDNzMw8yKFsQM3MzFzRkmxAzczMpJSIbEAzMzMTtYJsQGZmZj4jc2xAMzMzKwhmbEDNzMzcVFpsQM3MzITsV2xAZmZmbg1VbEDNzMxk\\u002f1JsQGZmZn6PUmxAAAAASDFVbECamZnxUF1sQM3MzAT3b2xAAAAA4AOLbEAAAACQZKxsQDMzMwMMzGxAZmZmFursbEAzMzPr3AVtQAAAAAB+JW1AzczMZB1LbUAzMzMTsW5tQJqZmREyk21AZmZmPgSzbUAzMzODotxtQAAAAHhTBW5AZmZmXuwkbkCamZmZJkZuQDMzMzuob25AZmZmpkCYbkBmZmZuvMBuQJqZmakH525AzczMtAwIb0DNzMzE0B9vQGZmZt4fMW9AMzMz2wozb0AAAAAQmjNvQAAAAAC8Nm9AZmZmPro1b0BmZmYuQS9vQDMzM0PNHW9AMzMzo3oKb0BmZmZOBPNuQM3MzGye4m5AzczM\\u002fDW+bkBmZmb2pphuQM3MzHQKcG5AMzMz64xGbkCamZnRRhVuQGZmZoZZ4W1AMzMzMw60bUAAAABA4JJtQGZmZr7veG1AZmZmDpZhbUDNzMwcikptQDMzMys5MW1AMzMzi1ggbUDNzMzkUQxtQJqZmaHz\\u002fWxAZmZmvt3lbEAAAAD4j9dsQDMzM1Mg1WxAMzMzu0fbbEAAAADgjeFsQM3MzGwZ\\u002fGxAzczM\\u002fK8TbUDNzMyMpTdtQA==\"},\"type\":\"scatter\"}],                        {\"template\":{\"data\":{\"histogram2dcontour\":[{\"type\":\"histogram2dcontour\",\"colorbar\":{\"outlinewidth\":0,\"ticks\":\"\"},\"colorscale\":[[0.0,\"#0d0887\"],[0.1111111111111111,\"#46039f\"],[0.2222222222222222,\"#7201a8\"],[0.3333333333333333,\"#9c179e\"],[0.4444444444444444,\"#bd3786\"],[0.5555555555555556,\"#d8576b\"],[0.6666666666666666,\"#ed7953\"],[0.7777777777777778,\"#fb9f3a\"],[0.8888888888888888,\"#fdca26\"],[1.0,\"#f0f921\"]]}],\"choropleth\":[{\"type\":\"choropleth\",\"colorbar\":{\"outlinewidth\":0,\"ticks\":\"\"}}],\"histogram2d\":[{\"type\":\"histogram2d\",\"colorbar\":{\"outlinewidth\":0,\"ticks\":\"\"},\"colorscale\":[[0.0,\"#0d0887\"],[0.1111111111111111,\"#46039f\"],[0.2222222222222222,\"#7201a8\"],[0.3333333333333333,\"#9c179e\"],[0.4444444444444444,\"#bd3786\"],[0.5555555555555556,\"#d8576b\"],[0.6666666666666666,\"#ed7953\"],[0.7777777777777778,\"#fb9f3a\"],[0.8888888888888888,\"#fdca26\"],[1.0,\"#f0f921\"]]}],\"heatmap\":[{\"type\":\"heatmap\",\"colorbar\":{\"outlinewidth\":0,\"ticks\":\"\"},\"colorscale\":[[0.0,\"#0d0887\"],[0.1111111111111111,\"#46039f\"],[0.2222222222222222,\"#7201a8\"],[0.3333333333333333,\"#9c179e\"],[0.4444444444444444,\"#bd3786\"],[0.5555555555555556,\"#d8576b\"],[0.6666666666666666,\"#ed7953\"],[0.7777777777777778,\"#fb9f3a\"],[0.8888888888888888,\"#fdca26\"],[1.0,\"#f0f921\"]]}],\"contourcarpet\":[{\"type\":\"contourcarpet\",\"colorbar\":{\"outlinewidth\":0,\"ticks\":\"\"}}],\"contour\":[{\"type\":\"contour\",\"colorbar\":{\"outlinewidth\":0,\"ticks\":\"\"},\"colorscale\":[[0.0,\"#0d0887\"],[0.1111111111111111,\"#46039f\"],[0.2222222222222222,\"#7201a8\"],[0.3333333333333333,\"#9c179e\"],[0.4444444444444444,\"#bd3786\"],[0.5555555555555556,\"#d8576b\"],[0.6666666666666666,\"#ed7953\"],[0.7777777777777778,\"#fb9f3a\"],[0.8888888888888888,\"#fdca26\"],[1.0,\"#f0f921\"]]}],\"surface\":[{\"type\":\"surface\",\"colorbar\":{\"outlinewidth\":0,\"ticks\":\"\"},\"colorscale\":[[0.0,\"#0d0887\"],[0.1111111111111111,\"#46039f\"],[0.2222222222222222,\"#7201a8\"],[0.3333333333333333,\"#9c179e\"],[0.4444444444444444,\"#bd3786\"],[0.5555555555555556,\"#d8576b\"],[0.6666666666666666,\"#ed7953\"],[0.7777777777777778,\"#fb9f3a\"],[0.8888888888888888,\"#fdca26\"],[1.0,\"#f0f921\"]]}],\"mesh3d\":[{\"type\":\"mesh3d\",\"colorbar\":{\"outlinewidth\":0,\"ticks\":\"\"}}],\"scatter\":[{\"fillpattern\":{\"fillmode\":\"overlay\",\"size\":10,\"solidity\":0.2},\"type\":\"scatter\"}],\"parcoords\":[{\"type\":\"parcoords\",\"line\":{\"colorbar\":{\"outlinewidth\":0,\"ticks\":\"\"}}}],\"scatterpolargl\":[{\"type\":\"scatterpolargl\",\"marker\":{\"colorbar\":{\"outlinewidth\":0,\"ticks\":\"\"}}}],\"bar\":[{\"error_x\":{\"color\":\"#2a3f5f\"},\"error_y\":{\"color\":\"#2a3f5f\"},\"marker\":{\"line\":{\"color\":\"#E5ECF6\",\"width\":0.5},\"pattern\":{\"fillmode\":\"overlay\",\"size\":10,\"solidity\":0.2}},\"type\":\"bar\"}],\"scattergeo\":[{\"type\":\"scattergeo\",\"marker\":{\"colorbar\":{\"outlinewidth\":0,\"ticks\":\"\"}}}],\"scatterpolar\":[{\"type\":\"scatterpolar\",\"marker\":{\"colorbar\":{\"outlinewidth\":0,\"ticks\":\"\"}}}],\"histogram\":[{\"marker\":{\"pattern\":{\"fillmode\":\"overlay\",\"size\":10,\"solidity\":0.2}},\"type\":\"histogram\"}],\"scattergl\":[{\"type\":\"scattergl\",\"marker\":{\"colorbar\":{\"outlinewidth\":0,\"ticks\":\"\"}}}],\"scatter3d\":[{\"type\":\"scatter3d\",\"line\":{\"colorbar\":{\"outlinewidth\":0,\"ticks\":\"\"}},\"marker\":{\"colorbar\":{\"outlinewidth\":0,\"ticks\":\"\"}}}],\"scattermap\":[{\"type\":\"scattermap\",\"marker\":{\"colorbar\":{\"outlinewidth\":0,\"ticks\":\"\"}}}],\"scattermapbox\":[{\"type\":\"scattermapbox\",\"marker\":{\"colorbar\":{\"outlinewidth\":0,\"ticks\":\"\"}}}],\"scatterternary\":[{\"type\":\"scatterternary\",\"marker\":{\"colorbar\":{\"outlinewidth\":0,\"ticks\":\"\"}}}],\"scattercarpet\":[{\"type\":\"scattercarpet\",\"marker\":{\"colorbar\":{\"outlinewidth\":0,\"ticks\":\"\"}}}],\"carpet\":[{\"aaxis\":{\"endlinecolor\":\"#2a3f5f\",\"gridcolor\":\"white\",\"linecolor\":\"white\",\"minorgridcolor\":\"white\",\"startlinecolor\":\"#2a3f5f\"},\"baxis\":{\"endlinecolor\":\"#2a3f5f\",\"gridcolor\":\"white\",\"linecolor\":\"white\",\"minorgridcolor\":\"white\",\"startlinecolor\":\"#2a3f5f\"},\"type\":\"carpet\"}],\"table\":[{\"cells\":{\"fill\":{\"color\":\"#EBF0F8\"},\"line\":{\"color\":\"white\"}},\"header\":{\"fill\":{\"color\":\"#C8D4E3\"},\"line\":{\"color\":\"white\"}},\"type\":\"table\"}],\"barpolar\":[{\"marker\":{\"line\":{\"color\":\"#E5ECF6\",\"width\":0.5},\"pattern\":{\"fillmode\":\"overlay\",\"size\":10,\"solidity\":0.2}},\"type\":\"barpolar\"}],\"pie\":[{\"automargin\":true,\"type\":\"pie\"}]},\"layout\":{\"autotypenumbers\":\"strict\",\"colorway\":[\"#636efa\",\"#EF553B\",\"#00cc96\",\"#ab63fa\",\"#FFA15A\",\"#19d3f3\",\"#FF6692\",\"#B6E880\",\"#FF97FF\",\"#FECB52\"],\"font\":{\"color\":\"#2a3f5f\"},\"hovermode\":\"closest\",\"hoverlabel\":{\"align\":\"left\"},\"paper_bgcolor\":\"white\",\"plot_bgcolor\":\"#E5ECF6\",\"polar\":{\"bgcolor\":\"#E5ECF6\",\"angularaxis\":{\"gridcolor\":\"white\",\"linecolor\":\"white\",\"ticks\":\"\"},\"radialaxis\":{\"gridcolor\":\"white\",\"linecolor\":\"white\",\"ticks\":\"\"}},\"ternary\":{\"bgcolor\":\"#E5ECF6\",\"aaxis\":{\"gridcolor\":\"white\",\"linecolor\":\"white\",\"ticks\":\"\"},\"baxis\":{\"gridcolor\":\"white\",\"linecolor\":\"white\",\"ticks\":\"\"},\"caxis\":{\"gridcolor\":\"white\",\"linecolor\":\"white\",\"ticks\":\"\"}},\"coloraxis\":{\"colorbar\":{\"outlinewidth\":0,\"ticks\":\"\"}},\"colorscale\":{\"sequential\":[[0.0,\"#0d0887\"],[0.1111111111111111,\"#46039f\"],[0.2222222222222222,\"#7201a8\"],[0.3333333333333333,\"#9c179e\"],[0.4444444444444444,\"#bd3786\"],[0.5555555555555556,\"#d8576b\"],[0.6666666666666666,\"#ed7953\"],[0.7777777777777778,\"#fb9f3a\"],[0.8888888888888888,\"#fdca26\"],[1.0,\"#f0f921\"]],\"sequentialminus\":[[0.0,\"#0d0887\"],[0.1111111111111111,\"#46039f\"],[0.2222222222222222,\"#7201a8\"],[0.3333333333333333,\"#9c179e\"],[0.4444444444444444,\"#bd3786\"],[0.5555555555555556,\"#d8576b\"],[0.6666666666666666,\"#ed7953\"],[0.7777777777777778,\"#fb9f3a\"],[0.8888888888888888,\"#fdca26\"],[1.0,\"#f0f921\"]],\"diverging\":[[0,\"#8e0152\"],[0.1,\"#c51b7d\"],[0.2,\"#de77ae\"],[0.3,\"#f1b6da\"],[0.4,\"#fde0ef\"],[0.5,\"#f7f7f7\"],[0.6,\"#e6f5d0\"],[0.7,\"#b8e186\"],[0.8,\"#7fbc41\"],[0.9,\"#4d9221\"],[1,\"#276419\"]]},\"xaxis\":{\"gridcolor\":\"white\",\"linecolor\":\"white\",\"ticks\":\"\",\"title\":{\"standoff\":15},\"zerolinecolor\":\"white\",\"automargin\":true,\"zerolinewidth\":2},\"yaxis\":{\"gridcolor\":\"white\",\"linecolor\":\"white\",\"ticks\":\"\",\"title\":{\"standoff\":15},\"zerolinecolor\":\"white\",\"automargin\":true,\"zerolinewidth\":2},\"scene\":{\"xaxis\":{\"backgroundcolor\":\"#E5ECF6\",\"gridcolor\":\"white\",\"linecolor\":\"white\",\"showbackground\":true,\"ticks\":\"\",\"zerolinecolor\":\"white\",\"gridwidth\":2},\"yaxis\":{\"backgroundcolor\":\"#E5ECF6\",\"gridcolor\":\"white\",\"linecolor\":\"white\",\"showbackground\":true,\"ticks\":\"\",\"zerolinecolor\":\"white\",\"gridwidth\":2},\"zaxis\":{\"backgroundcolor\":\"#E5ECF6\",\"gridcolor\":\"white\",\"linecolor\":\"white\",\"showbackground\":true,\"ticks\":\"\",\"zerolinecolor\":\"white\",\"gridwidth\":2}},\"shapedefaults\":{\"line\":{\"color\":\"#2a3f5f\"}},\"annotationdefaults\":{\"arrowcolor\":\"#2a3f5f\",\"arrowhead\":0,\"arrowwidth\":1},\"geo\":{\"bgcolor\":\"white\",\"landcolor\":\"#E5ECF6\",\"subunitcolor\":\"white\",\"showland\":true,\"showlakes\":true,\"lakecolor\":\"white\"},\"title\":{\"x\":0.05},\"mapbox\":{\"style\":\"light\"}}},\"title\":{\"text\":\"AAPL Daily Candles with SMA\"},\"xaxis\":{\"title\":{\"text\":\"Date\"}},\"yaxis\":{\"title\":{\"text\":\"Price (USD)\"}}},                        {\"responsive\": true}                    ).then(function(){\n",
       "                            \n",
       "var gd = document.getElementById('9f2d2924-aee3-41c8-a694-bb5c38b5a44d');\n",
       "var x = new MutationObserver(function (mutations, observer) {{\n",
       "        var display = window.getComputedStyle(gd).display;\n",
       "        if (!display || display === 'none') {{\n",
       "            console.log([gd, 'removed!']);\n",
       "            Plotly.purge(gd);\n",
       "            observer.disconnect();\n",
       "        }}\n",
       "}});\n",
       "\n",
       "// Listen for the removal of the full notebook cells\n",
       "var notebookContainer = gd.closest('#notebook-container');\n",
       "if (notebookContainer) {{\n",
       "    x.observe(notebookContainer, {childList: true});\n",
       "}}\n",
       "\n",
       "// Listen for the clearing of the current output cell\n",
       "var outputEl = gd.closest('.output');\n",
       "if (outputEl) {{\n",
       "    x.observe(outputEl, {childList: true});\n",
       "}}\n",
       "\n",
       "                        })                };            </script>        </div>"
      ]
     },
     "metadata": {},
     "output_type": "display_data"
    }
   ],
   "source": [
    "data['SMA10'] = data['Close'].rolling(window=10).mean()\n",
    "data['SMA20'] = data['Close'].rolling(window=20).mean()\n",
    "\n",
    "# Set cufflinks config\n",
    "cf.set_config_file(offline=True, theme='pearl')\n",
    "\n",
    "# Plot the data\n",
    "fig = go.Figure(data=[go.Candlestick(\n",
    "    x=data.index,\n",
    "    open=data['Open'],\n",
    "    high=data['High'],\n",
    "    low=data['Low'],\n",
    "    close=data['Close'],\n",
    "    name='AAPL'\n",
    ")])\n",
    "\n",
    "# Add the 10-day and 20-day SMA to the plot\n",
    "fig.add_trace(go.Scatter(x=data.index, y=data['SMA10'], name='SMA10', line=dict(color='blue')))\n",
    "fig.add_trace(go.Scatter(x=data.index, y=data['SMA20'], name='SMA20', line=dict(color='red')))\n",
    "\n",
    "# Update the layout\n",
    "fig.update_layout(\n",
    "    title=f'{tickers[0]} Daily Candles with SMA',\n",
    "    xaxis_title='Date',\n",
    "    yaxis_title='Price (USD)'\n",
    ")\n",
    "\n",
    "# Show the plot\n",
    "fig.show()"
   ]
  },
  {
   "cell_type": "code",
   "execution_count": 9,
   "id": "dfbb221b-1eec-4b97-a975-5d41b197ef55",
   "metadata": {},
   "outputs": [
    {
     "data": {
      "text/html": [
       "        <script type=\"text/javascript\">\n",
       "        window.PlotlyConfig = {MathJaxConfig: 'local'};\n",
       "        if (window.MathJax && window.MathJax.Hub && window.MathJax.Hub.Config) {window.MathJax.Hub.Config({SVG: {font: \"STIX-Web\"}});}\n",
       "        </script>\n",
       "        <script type=\"module\">import \"https://cdn.plot.ly/plotly-3.0.0.min\"</script>\n",
       "        "
      ]
     },
     "metadata": {},
     "output_type": "display_data"
    },
    {
     "data": {
      "application/vnd.plotly.v1+json": {
       "config": {
        "plotlyServerURL": "https://plot.ly"
       },
       "data": [
        {
         "close": {
          "bdata": "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",
          "dtype": "f8"
         },
         "high": {
          "bdata": "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",
          "dtype": "f8"
         },
         "low": {
          "bdata": "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",
          "dtype": "f8"
         },
         "name": "AAPL",
         "open": {
          "bdata": "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",
          "dtype": "f8"
         },
         "type": "candlestick",
         "x": [
          "2024-02-20T00:00:00.000000000",
          "2024-02-21T00:00:00.000000000",
          "2024-02-22T00:00:00.000000000",
          "2024-02-23T00:00:00.000000000",
          "2024-02-26T00:00:00.000000000",
          "2024-02-27T00:00:00.000000000",
          "2024-02-28T00:00:00.000000000",
          "2024-02-29T00:00:00.000000000",
          "2024-03-01T00:00:00.000000000",
          "2024-03-04T00:00:00.000000000",
          "2024-03-05T00:00:00.000000000",
          "2024-03-06T00:00:00.000000000",
          "2024-03-07T00:00:00.000000000",
          "2024-03-08T00:00:00.000000000",
          "2024-03-11T00:00:00.000000000",
          "2024-03-12T00:00:00.000000000",
          "2024-03-13T00:00:00.000000000",
          "2024-03-14T00:00:00.000000000",
          "2024-03-15T00:00:00.000000000",
          "2024-03-18T00:00:00.000000000",
          "2024-03-19T00:00:00.000000000",
          "2024-03-20T00:00:00.000000000",
          "2024-03-21T00:00:00.000000000",
          "2024-03-22T00:00:00.000000000",
          "2024-03-25T00:00:00.000000000",
          "2024-03-26T00:00:00.000000000",
          "2024-03-27T00:00:00.000000000",
          "2024-03-28T00:00:00.000000000",
          "2024-04-01T00:00:00.000000000",
          "2024-04-02T00:00:00.000000000",
          "2024-04-03T00:00:00.000000000",
          "2024-04-04T00:00:00.000000000",
          "2024-04-05T00:00:00.000000000",
          "2024-04-08T00:00:00.000000000",
          "2024-04-09T00:00:00.000000000",
          "2024-04-10T00:00:00.000000000",
          "2024-04-11T00:00:00.000000000",
          "2024-04-12T00:00:00.000000000",
          "2024-04-15T00:00:00.000000000",
          "2024-04-16T00:00:00.000000000",
          "2024-04-17T00:00:00.000000000",
          "2024-04-18T00:00:00.000000000",
          "2024-04-19T00:00:00.000000000",
          "2024-04-22T00:00:00.000000000",
          "2024-04-23T00:00:00.000000000",
          "2024-04-24T00:00:00.000000000",
          "2024-04-25T00:00:00.000000000",
          "2024-04-26T00:00:00.000000000",
          "2024-04-29T00:00:00.000000000",
          "2024-04-30T00:00:00.000000000",
          "2024-05-01T00:00:00.000000000",
          "2024-05-02T00:00:00.000000000",
          "2024-05-03T00:00:00.000000000",
          "2024-05-06T00:00:00.000000000",
          "2024-05-07T00:00:00.000000000",
          "2024-05-08T00:00:00.000000000",
          "2024-05-09T00:00:00.000000000",
          "2024-05-10T00:00:00.000000000",
          "2024-05-13T00:00:00.000000000",
          "2024-05-14T00:00:00.000000000",
          "2024-05-15T00:00:00.000000000",
          "2024-05-16T00:00:00.000000000",
          "2024-05-17T00:00:00.000000000",
          "2024-05-20T00:00:00.000000000",
          "2024-05-21T00:00:00.000000000",
          "2024-05-22T00:00:00.000000000",
          "2024-05-23T00:00:00.000000000",
          "2024-05-24T00:00:00.000000000",
          "2024-05-28T00:00:00.000000000",
          "2024-05-29T00:00:00.000000000",
          "2024-05-30T00:00:00.000000000",
          "2024-05-31T00:00:00.000000000",
          "2024-06-03T00:00:00.000000000",
          "2024-06-04T00:00:00.000000000",
          "2024-06-05T00:00:00.000000000",
          "2024-06-06T00:00:00.000000000",
          "2024-06-07T00:00:00.000000000",
          "2024-06-10T00:00:00.000000000",
          "2024-06-11T00:00:00.000000000",
          "2024-06-12T00:00:00.000000000",
          "2024-06-13T00:00:00.000000000",
          "2024-06-14T00:00:00.000000000",
          "2024-06-17T00:00:00.000000000",
          "2024-06-18T00:00:00.000000000",
          "2024-06-20T00:00:00.000000000",
          "2024-06-21T00:00:00.000000000",
          "2024-06-24T00:00:00.000000000",
          "2024-06-25T00:00:00.000000000",
          "2024-06-26T00:00:00.000000000",
          "2024-06-27T00:00:00.000000000",
          "2024-06-28T00:00:00.000000000",
          "2024-07-01T00:00:00.000000000",
          "2024-07-02T00:00:00.000000000",
          "2024-07-03T00:00:00.000000000",
          "2024-07-05T00:00:00.000000000",
          "2024-07-08T00:00:00.000000000",
          "2024-07-09T00:00:00.000000000",
          "2024-07-10T00:00:00.000000000",
          "2024-07-11T00:00:00.000000000",
          "2024-07-12T00:00:00.000000000",
          "2024-07-15T00:00:00.000000000",
          "2024-07-16T00:00:00.000000000",
          "2024-07-17T00:00:00.000000000",
          "2024-07-18T00:00:00.000000000",
          "2024-07-19T00:00:00.000000000",
          "2024-07-22T00:00:00.000000000",
          "2024-07-23T00:00:00.000000000",
          "2024-07-24T00:00:00.000000000",
          "2024-07-25T00:00:00.000000000",
          "2024-07-26T00:00:00.000000000",
          "2024-07-29T00:00:00.000000000",
          "2024-07-30T00:00:00.000000000",
          "2024-07-31T00:00:00.000000000",
          "2024-08-01T00:00:00.000000000",
          "2024-08-02T00:00:00.000000000",
          "2024-08-05T00:00:00.000000000",
          "2024-08-06T00:00:00.000000000",
          "2024-08-07T00:00:00.000000000",
          "2024-08-08T00:00:00.000000000",
          "2024-08-09T00:00:00.000000000",
          "2024-08-12T00:00:00.000000000",
          "2024-08-13T00:00:00.000000000",
          "2024-08-14T00:00:00.000000000",
          "2024-08-15T00:00:00.000000000",
          "2024-08-16T00:00:00.000000000",
          "2024-08-19T00:00:00.000000000",
          "2024-08-20T00:00:00.000000000",
          "2024-08-21T00:00:00.000000000",
          "2024-08-22T00:00:00.000000000",
          "2024-08-23T00:00:00.000000000",
          "2024-08-26T00:00:00.000000000",
          "2024-08-27T00:00:00.000000000",
          "2024-08-28T00:00:00.000000000",
          "2024-08-29T00:00:00.000000000",
          "2024-08-30T00:00:00.000000000",
          "2024-09-03T00:00:00.000000000",
          "2024-09-04T00:00:00.000000000",
          "2024-09-05T00:00:00.000000000",
          "2024-09-06T00:00:00.000000000",
          "2024-09-09T00:00:00.000000000",
          "2024-09-10T00:00:00.000000000",
          "2024-09-11T00:00:00.000000000",
          "2024-09-12T00:00:00.000000000",
          "2024-09-13T00:00:00.000000000",
          "2024-09-16T00:00:00.000000000",
          "2024-09-17T00:00:00.000000000",
          "2024-09-18T00:00:00.000000000",
          "2024-09-19T00:00:00.000000000",
          "2024-09-20T00:00:00.000000000",
          "2024-09-23T00:00:00.000000000",
          "2024-09-24T00:00:00.000000000",
          "2024-09-25T00:00:00.000000000",
          "2024-09-26T00:00:00.000000000",
          "2024-09-27T00:00:00.000000000",
          "2024-09-30T00:00:00.000000000",
          "2024-10-01T00:00:00.000000000",
          "2024-10-02T00:00:00.000000000",
          "2024-10-03T00:00:00.000000000",
          "2024-10-04T00:00:00.000000000",
          "2024-10-07T00:00:00.000000000",
          "2024-10-08T00:00:00.000000000",
          "2024-10-09T00:00:00.000000000",
          "2024-10-10T00:00:00.000000000",
          "2024-10-11T00:00:00.000000000",
          "2024-10-14T00:00:00.000000000",
          "2024-10-15T00:00:00.000000000",
          "2024-10-16T00:00:00.000000000",
          "2024-10-17T00:00:00.000000000",
          "2024-10-18T00:00:00.000000000",
          "2024-10-21T00:00:00.000000000",
          "2024-10-22T00:00:00.000000000",
          "2024-10-23T00:00:00.000000000",
          "2024-10-24T00:00:00.000000000",
          "2024-10-25T00:00:00.000000000",
          "2024-10-28T00:00:00.000000000",
          "2024-10-29T00:00:00.000000000",
          "2024-10-30T00:00:00.000000000",
          "2024-10-31T00:00:00.000000000",
          "2024-11-01T00:00:00.000000000",
          "2024-11-04T00:00:00.000000000",
          "2024-11-05T00:00:00.000000000",
          "2024-11-06T00:00:00.000000000",
          "2024-11-07T00:00:00.000000000",
          "2024-11-08T00:00:00.000000000",
          "2024-11-11T00:00:00.000000000",
          "2024-11-12T00:00:00.000000000",
          "2024-11-13T00:00:00.000000000",
          "2024-11-14T00:00:00.000000000",
          "2024-11-15T00:00:00.000000000",
          "2024-11-18T00:00:00.000000000",
          "2024-11-19T00:00:00.000000000",
          "2024-11-20T00:00:00.000000000",
          "2024-11-21T00:00:00.000000000",
          "2024-11-22T00:00:00.000000000",
          "2024-11-25T00:00:00.000000000",
          "2024-11-26T00:00:00.000000000",
          "2024-11-27T00:00:00.000000000",
          "2024-11-29T00:00:00.000000000",
          "2024-12-02T00:00:00.000000000",
          "2024-12-03T00:00:00.000000000",
          "2024-12-04T00:00:00.000000000",
          "2024-12-05T00:00:00.000000000",
          "2024-12-06T00:00:00.000000000",
          "2024-12-09T00:00:00.000000000",
          "2024-12-10T00:00:00.000000000",
          "2024-12-11T00:00:00.000000000",
          "2024-12-12T00:00:00.000000000",
          "2024-12-13T00:00:00.000000000",
          "2024-12-16T00:00:00.000000000",
          "2024-12-17T00:00:00.000000000",
          "2024-12-18T00:00:00.000000000",
          "2024-12-19T00:00:00.000000000",
          "2024-12-20T00:00:00.000000000",
          "2024-12-23T00:00:00.000000000",
          "2024-12-24T00:00:00.000000000",
          "2024-12-26T00:00:00.000000000",
          "2024-12-27T00:00:00.000000000",
          "2024-12-30T00:00:00.000000000",
          "2024-12-31T00:00:00.000000000",
          "2025-01-02T00:00:00.000000000",
          "2025-01-03T00:00:00.000000000",
          "2025-01-06T00:00:00.000000000",
          "2025-01-07T00:00:00.000000000",
          "2025-01-08T00:00:00.000000000",
          "2025-01-10T00:00:00.000000000",
          "2025-01-13T00:00:00.000000000",
          "2025-01-14T00:00:00.000000000",
          "2025-01-15T00:00:00.000000000",
          "2025-01-16T00:00:00.000000000",
          "2025-01-17T00:00:00.000000000",
          "2025-01-21T00:00:00.000000000",
          "2025-01-22T00:00:00.000000000",
          "2025-01-23T00:00:00.000000000",
          "2025-01-24T00:00:00.000000000",
          "2025-01-27T00:00:00.000000000",
          "2025-01-28T00:00:00.000000000",
          "2025-01-29T00:00:00.000000000",
          "2025-01-30T00:00:00.000000000",
          "2025-01-31T00:00:00.000000000",
          "2025-02-03T00:00:00.000000000",
          "2025-02-04T00:00:00.000000000",
          "2025-02-05T00:00:00.000000000",
          "2025-02-06T00:00:00.000000000",
          "2025-02-07T00:00:00.000000000",
          "2025-02-10T00:00:00.000000000",
          "2025-02-11T00:00:00.000000000",
          "2025-02-12T00:00:00.000000000",
          "2025-02-13T00:00:00.000000000",
          "2025-02-14T00:00:00.000000000",
          "2025-02-18T00:00:00.000000000",
          "2025-02-19T00:00:00.000000000"
         ]
        },
        {
         "line": {
          "color": "blue"
         },
         "name": "SMA10",
         "type": "scatter",
         "x": [
          "2024-02-20T00:00:00.000000000",
          "2024-02-21T00:00:00.000000000",
          "2024-02-22T00:00:00.000000000",
          "2024-02-23T00:00:00.000000000",
          "2024-02-26T00:00:00.000000000",
          "2024-02-27T00:00:00.000000000",
          "2024-02-28T00:00:00.000000000",
          "2024-02-29T00:00:00.000000000",
          "2024-03-01T00:00:00.000000000",
          "2024-03-04T00:00:00.000000000",
          "2024-03-05T00:00:00.000000000",
          "2024-03-06T00:00:00.000000000",
          "2024-03-07T00:00:00.000000000",
          "2024-03-08T00:00:00.000000000",
          "2024-03-11T00:00:00.000000000",
          "2024-03-12T00:00:00.000000000",
          "2024-03-13T00:00:00.000000000",
          "2024-03-14T00:00:00.000000000",
          "2024-03-15T00:00:00.000000000",
          "2024-03-18T00:00:00.000000000",
          "2024-03-19T00:00:00.000000000",
          "2024-03-20T00:00:00.000000000",
          "2024-03-21T00:00:00.000000000",
          "2024-03-22T00:00:00.000000000",
          "2024-03-25T00:00:00.000000000",
          "2024-03-26T00:00:00.000000000",
          "2024-03-27T00:00:00.000000000",
          "2024-03-28T00:00:00.000000000",
          "2024-04-01T00:00:00.000000000",
          "2024-04-02T00:00:00.000000000",
          "2024-04-03T00:00:00.000000000",
          "2024-04-04T00:00:00.000000000",
          "2024-04-05T00:00:00.000000000",
          "2024-04-08T00:00:00.000000000",
          "2024-04-09T00:00:00.000000000",
          "2024-04-10T00:00:00.000000000",
          "2024-04-11T00:00:00.000000000",
          "2024-04-12T00:00:00.000000000",
          "2024-04-15T00:00:00.000000000",
          "2024-04-16T00:00:00.000000000",
          "2024-04-17T00:00:00.000000000",
          "2024-04-18T00:00:00.000000000",
          "2024-04-19T00:00:00.000000000",
          "2024-04-22T00:00:00.000000000",
          "2024-04-23T00:00:00.000000000",
          "2024-04-24T00:00:00.000000000",
          "2024-04-25T00:00:00.000000000",
          "2024-04-26T00:00:00.000000000",
          "2024-04-29T00:00:00.000000000",
          "2024-04-30T00:00:00.000000000",
          "2024-05-01T00:00:00.000000000",
          "2024-05-02T00:00:00.000000000",
          "2024-05-03T00:00:00.000000000",
          "2024-05-06T00:00:00.000000000",
          "2024-05-07T00:00:00.000000000",
          "2024-05-08T00:00:00.000000000",
          "2024-05-09T00:00:00.000000000",
          "2024-05-10T00:00:00.000000000",
          "2024-05-13T00:00:00.000000000",
          "2024-05-14T00:00:00.000000000",
          "2024-05-15T00:00:00.000000000",
          "2024-05-16T00:00:00.000000000",
          "2024-05-17T00:00:00.000000000",
          "2024-05-20T00:00:00.000000000",
          "2024-05-21T00:00:00.000000000",
          "2024-05-22T00:00:00.000000000",
          "2024-05-23T00:00:00.000000000",
          "2024-05-24T00:00:00.000000000",
          "2024-05-28T00:00:00.000000000",
          "2024-05-29T00:00:00.000000000",
          "2024-05-30T00:00:00.000000000",
          "2024-05-31T00:00:00.000000000",
          "2024-06-03T00:00:00.000000000",
          "2024-06-04T00:00:00.000000000",
          "2024-06-05T00:00:00.000000000",
          "2024-06-06T00:00:00.000000000",
          "2024-06-07T00:00:00.000000000",
          "2024-06-10T00:00:00.000000000",
          "2024-06-11T00:00:00.000000000",
          "2024-06-12T00:00:00.000000000",
          "2024-06-13T00:00:00.000000000",
          "2024-06-14T00:00:00.000000000",
          "2024-06-17T00:00:00.000000000",
          "2024-06-18T00:00:00.000000000",
          "2024-06-20T00:00:00.000000000",
          "2024-06-21T00:00:00.000000000",
          "2024-06-24T00:00:00.000000000",
          "2024-06-25T00:00:00.000000000",
          "2024-06-26T00:00:00.000000000",
          "2024-06-27T00:00:00.000000000",
          "2024-06-28T00:00:00.000000000",
          "2024-07-01T00:00:00.000000000",
          "2024-07-02T00:00:00.000000000",
          "2024-07-03T00:00:00.000000000",
          "2024-07-05T00:00:00.000000000",
          "2024-07-08T00:00:00.000000000",
          "2024-07-09T00:00:00.000000000",
          "2024-07-10T00:00:00.000000000",
          "2024-07-11T00:00:00.000000000",
          "2024-07-12T00:00:00.000000000",
          "2024-07-15T00:00:00.000000000",
          "2024-07-16T00:00:00.000000000",
          "2024-07-17T00:00:00.000000000",
          "2024-07-18T00:00:00.000000000",
          "2024-07-19T00:00:00.000000000",
          "2024-07-22T00:00:00.000000000",
          "2024-07-23T00:00:00.000000000",
          "2024-07-24T00:00:00.000000000",
          "2024-07-25T00:00:00.000000000",
          "2024-07-26T00:00:00.000000000",
          "2024-07-29T00:00:00.000000000",
          "2024-07-30T00:00:00.000000000",
          "2024-07-31T00:00:00.000000000",
          "2024-08-01T00:00:00.000000000",
          "2024-08-02T00:00:00.000000000",
          "2024-08-05T00:00:00.000000000",
          "2024-08-06T00:00:00.000000000",
          "2024-08-07T00:00:00.000000000",
          "2024-08-08T00:00:00.000000000",
          "2024-08-09T00:00:00.000000000",
          "2024-08-12T00:00:00.000000000",
          "2024-08-13T00:00:00.000000000",
          "2024-08-14T00:00:00.000000000",
          "2024-08-15T00:00:00.000000000",
          "2024-08-16T00:00:00.000000000",
          "2024-08-19T00:00:00.000000000",
          "2024-08-20T00:00:00.000000000",
          "2024-08-21T00:00:00.000000000",
          "2024-08-22T00:00:00.000000000",
          "2024-08-23T00:00:00.000000000",
          "2024-08-26T00:00:00.000000000",
          "2024-08-27T00:00:00.000000000",
          "2024-08-28T00:00:00.000000000",
          "2024-08-29T00:00:00.000000000",
          "2024-08-30T00:00:00.000000000",
          "2024-09-03T00:00:00.000000000",
          "2024-09-04T00:00:00.000000000",
          "2024-09-05T00:00:00.000000000",
          "2024-09-06T00:00:00.000000000",
          "2024-09-09T00:00:00.000000000",
          "2024-09-10T00:00:00.000000000",
          "2024-09-11T00:00:00.000000000",
          "2024-09-12T00:00:00.000000000",
          "2024-09-13T00:00:00.000000000",
          "2024-09-16T00:00:00.000000000",
          "2024-09-17T00:00:00.000000000",
          "2024-09-18T00:00:00.000000000",
          "2024-09-19T00:00:00.000000000",
          "2024-09-20T00:00:00.000000000",
          "2024-09-23T00:00:00.000000000",
          "2024-09-24T00:00:00.000000000",
          "2024-09-25T00:00:00.000000000",
          "2024-09-26T00:00:00.000000000",
          "2024-09-27T00:00:00.000000000",
          "2024-09-30T00:00:00.000000000",
          "2024-10-01T00:00:00.000000000",
          "2024-10-02T00:00:00.000000000",
          "2024-10-03T00:00:00.000000000",
          "2024-10-04T00:00:00.000000000",
          "2024-10-07T00:00:00.000000000",
          "2024-10-08T00:00:00.000000000",
          "2024-10-09T00:00:00.000000000",
          "2024-10-10T00:00:00.000000000",
          "2024-10-11T00:00:00.000000000",
          "2024-10-14T00:00:00.000000000",
          "2024-10-15T00:00:00.000000000",
          "2024-10-16T00:00:00.000000000",
          "2024-10-17T00:00:00.000000000",
          "2024-10-18T00:00:00.000000000",
          "2024-10-21T00:00:00.000000000",
          "2024-10-22T00:00:00.000000000",
          "2024-10-23T00:00:00.000000000",
          "2024-10-24T00:00:00.000000000",
          "2024-10-25T00:00:00.000000000",
          "2024-10-28T00:00:00.000000000",
          "2024-10-29T00:00:00.000000000",
          "2024-10-30T00:00:00.000000000",
          "2024-10-31T00:00:00.000000000",
          "2024-11-01T00:00:00.000000000",
          "2024-11-04T00:00:00.000000000",
          "2024-11-05T00:00:00.000000000",
          "2024-11-06T00:00:00.000000000",
          "2024-11-07T00:00:00.000000000",
          "2024-11-08T00:00:00.000000000",
          "2024-11-11T00:00:00.000000000",
          "2024-11-12T00:00:00.000000000",
          "2024-11-13T00:00:00.000000000",
          "2024-11-14T00:00:00.000000000",
          "2024-11-15T00:00:00.000000000",
          "2024-11-18T00:00:00.000000000",
          "2024-11-19T00:00:00.000000000",
          "2024-11-20T00:00:00.000000000",
          "2024-11-21T00:00:00.000000000",
          "2024-11-22T00:00:00.000000000",
          "2024-11-25T00:00:00.000000000",
          "2024-11-26T00:00:00.000000000",
          "2024-11-27T00:00:00.000000000",
          "2024-11-29T00:00:00.000000000",
          "2024-12-02T00:00:00.000000000",
          "2024-12-03T00:00:00.000000000",
          "2024-12-04T00:00:00.000000000",
          "2024-12-05T00:00:00.000000000",
          "2024-12-06T00:00:00.000000000",
          "2024-12-09T00:00:00.000000000",
          "2024-12-10T00:00:00.000000000",
          "2024-12-11T00:00:00.000000000",
          "2024-12-12T00:00:00.000000000",
          "2024-12-13T00:00:00.000000000",
          "2024-12-16T00:00:00.000000000",
          "2024-12-17T00:00:00.000000000",
          "2024-12-18T00:00:00.000000000",
          "2024-12-19T00:00:00.000000000",
          "2024-12-20T00:00:00.000000000",
          "2024-12-23T00:00:00.000000000",
          "2024-12-24T00:00:00.000000000",
          "2024-12-26T00:00:00.000000000",
          "2024-12-27T00:00:00.000000000",
          "2024-12-30T00:00:00.000000000",
          "2024-12-31T00:00:00.000000000",
          "2025-01-02T00:00:00.000000000",
          "2025-01-03T00:00:00.000000000",
          "2025-01-06T00:00:00.000000000",
          "2025-01-07T00:00:00.000000000",
          "2025-01-08T00:00:00.000000000",
          "2025-01-10T00:00:00.000000000",
          "2025-01-13T00:00:00.000000000",
          "2025-01-14T00:00:00.000000000",
          "2025-01-15T00:00:00.000000000",
          "2025-01-16T00:00:00.000000000",
          "2025-01-17T00:00:00.000000000",
          "2025-01-21T00:00:00.000000000",
          "2025-01-22T00:00:00.000000000",
          "2025-01-23T00:00:00.000000000",
          "2025-01-24T00:00:00.000000000",
          "2025-01-27T00:00:00.000000000",
          "2025-01-28T00:00:00.000000000",
          "2025-01-29T00:00:00.000000000",
          "2025-01-30T00:00:00.000000000",
          "2025-01-31T00:00:00.000000000",
          "2025-02-03T00:00:00.000000000",
          "2025-02-04T00:00:00.000000000",
          "2025-02-05T00:00:00.000000000",
          "2025-02-06T00:00:00.000000000",
          "2025-02-07T00:00:00.000000000",
          "2025-02-10T00:00:00.000000000",
          "2025-02-11T00:00:00.000000000",
          "2025-02-12T00:00:00.000000000",
          "2025-02-13T00:00:00.000000000",
          "2025-02-14T00:00:00.000000000",
          "2025-02-18T00:00:00.000000000",
          "2025-02-19T00:00:00.000000000"
         ],
         "y": {
          "bdata": "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",
          "dtype": "f8"
         }
        },
        {
         "line": {
          "color": "red"
         },
         "name": "SMA20",
         "type": "scatter",
         "x": [
          "2024-02-20T00:00:00.000000000",
          "2024-02-21T00:00:00.000000000",
          "2024-02-22T00:00:00.000000000",
          "2024-02-23T00:00:00.000000000",
          "2024-02-26T00:00:00.000000000",
          "2024-02-27T00:00:00.000000000",
          "2024-02-28T00:00:00.000000000",
          "2024-02-29T00:00:00.000000000",
          "2024-03-01T00:00:00.000000000",
          "2024-03-04T00:00:00.000000000",
          "2024-03-05T00:00:00.000000000",
          "2024-03-06T00:00:00.000000000",
          "2024-03-07T00:00:00.000000000",
          "2024-03-08T00:00:00.000000000",
          "2024-03-11T00:00:00.000000000",
          "2024-03-12T00:00:00.000000000",
          "2024-03-13T00:00:00.000000000",
          "2024-03-14T00:00:00.000000000",
          "2024-03-15T00:00:00.000000000",
          "2024-03-18T00:00:00.000000000",
          "2024-03-19T00:00:00.000000000",
          "2024-03-20T00:00:00.000000000",
          "2024-03-21T00:00:00.000000000",
          "2024-03-22T00:00:00.000000000",
          "2024-03-25T00:00:00.000000000",
          "2024-03-26T00:00:00.000000000",
          "2024-03-27T00:00:00.000000000",
          "2024-03-28T00:00:00.000000000",
          "2024-04-01T00:00:00.000000000",
          "2024-04-02T00:00:00.000000000",
          "2024-04-03T00:00:00.000000000",
          "2024-04-04T00:00:00.000000000",
          "2024-04-05T00:00:00.000000000",
          "2024-04-08T00:00:00.000000000",
          "2024-04-09T00:00:00.000000000",
          "2024-04-10T00:00:00.000000000",
          "2024-04-11T00:00:00.000000000",
          "2024-04-12T00:00:00.000000000",
          "2024-04-15T00:00:00.000000000",
          "2024-04-16T00:00:00.000000000",
          "2024-04-17T00:00:00.000000000",
          "2024-04-18T00:00:00.000000000",
          "2024-04-19T00:00:00.000000000",
          "2024-04-22T00:00:00.000000000",
          "2024-04-23T00:00:00.000000000",
          "2024-04-24T00:00:00.000000000",
          "2024-04-25T00:00:00.000000000",
          "2024-04-26T00:00:00.000000000",
          "2024-04-29T00:00:00.000000000",
          "2024-04-30T00:00:00.000000000",
          "2024-05-01T00:00:00.000000000",
          "2024-05-02T00:00:00.000000000",
          "2024-05-03T00:00:00.000000000",
          "2024-05-06T00:00:00.000000000",
          "2024-05-07T00:00:00.000000000",
          "2024-05-08T00:00:00.000000000",
          "2024-05-09T00:00:00.000000000",
          "2024-05-10T00:00:00.000000000",
          "2024-05-13T00:00:00.000000000",
          "2024-05-14T00:00:00.000000000",
          "2024-05-15T00:00:00.000000000",
          "2024-05-16T00:00:00.000000000",
          "2024-05-17T00:00:00.000000000",
          "2024-05-20T00:00:00.000000000",
          "2024-05-21T00:00:00.000000000",
          "2024-05-22T00:00:00.000000000",
          "2024-05-23T00:00:00.000000000",
          "2024-05-24T00:00:00.000000000",
          "2024-05-28T00:00:00.000000000",
          "2024-05-29T00:00:00.000000000",
          "2024-05-30T00:00:00.000000000",
          "2024-05-31T00:00:00.000000000",
          "2024-06-03T00:00:00.000000000",
          "2024-06-04T00:00:00.000000000",
          "2024-06-05T00:00:00.000000000",
          "2024-06-06T00:00:00.000000000",
          "2024-06-07T00:00:00.000000000",
          "2024-06-10T00:00:00.000000000",
          "2024-06-11T00:00:00.000000000",
          "2024-06-12T00:00:00.000000000",
          "2024-06-13T00:00:00.000000000",
          "2024-06-14T00:00:00.000000000",
          "2024-06-17T00:00:00.000000000",
          "2024-06-18T00:00:00.000000000",
          "2024-06-20T00:00:00.000000000",
          "2024-06-21T00:00:00.000000000",
          "2024-06-24T00:00:00.000000000",
          "2024-06-25T00:00:00.000000000",
          "2024-06-26T00:00:00.000000000",
          "2024-06-27T00:00:00.000000000",
          "2024-06-28T00:00:00.000000000",
          "2024-07-01T00:00:00.000000000",
          "2024-07-02T00:00:00.000000000",
          "2024-07-03T00:00:00.000000000",
          "2024-07-05T00:00:00.000000000",
          "2024-07-08T00:00:00.000000000",
          "2024-07-09T00:00:00.000000000",
          "2024-07-10T00:00:00.000000000",
          "2024-07-11T00:00:00.000000000",
          "2024-07-12T00:00:00.000000000",
          "2024-07-15T00:00:00.000000000",
          "2024-07-16T00:00:00.000000000",
          "2024-07-17T00:00:00.000000000",
          "2024-07-18T00:00:00.000000000",
          "2024-07-19T00:00:00.000000000",
          "2024-07-22T00:00:00.000000000",
          "2024-07-23T00:00:00.000000000",
          "2024-07-24T00:00:00.000000000",
          "2024-07-25T00:00:00.000000000",
          "2024-07-26T00:00:00.000000000",
          "2024-07-29T00:00:00.000000000",
          "2024-07-30T00:00:00.000000000",
          "2024-07-31T00:00:00.000000000",
          "2024-08-01T00:00:00.000000000",
          "2024-08-02T00:00:00.000000000",
          "2024-08-05T00:00:00.000000000",
          "2024-08-06T00:00:00.000000000",
          "2024-08-07T00:00:00.000000000",
          "2024-08-08T00:00:00.000000000",
          "2024-08-09T00:00:00.000000000",
          "2024-08-12T00:00:00.000000000",
          "2024-08-13T00:00:00.000000000",
          "2024-08-14T00:00:00.000000000",
          "2024-08-15T00:00:00.000000000",
          "2024-08-16T00:00:00.000000000",
          "2024-08-19T00:00:00.000000000",
          "2024-08-20T00:00:00.000000000",
          "2024-08-21T00:00:00.000000000",
          "2024-08-22T00:00:00.000000000",
          "2024-08-23T00:00:00.000000000",
          "2024-08-26T00:00:00.000000000",
          "2024-08-27T00:00:00.000000000",
          "2024-08-28T00:00:00.000000000",
          "2024-08-29T00:00:00.000000000",
          "2024-08-30T00:00:00.000000000",
          "2024-09-03T00:00:00.000000000",
          "2024-09-04T00:00:00.000000000",
          "2024-09-05T00:00:00.000000000",
          "2024-09-06T00:00:00.000000000",
          "2024-09-09T00:00:00.000000000",
          "2024-09-10T00:00:00.000000000",
          "2024-09-11T00:00:00.000000000",
          "2024-09-12T00:00:00.000000000",
          "2024-09-13T00:00:00.000000000",
          "2024-09-16T00:00:00.000000000",
          "2024-09-17T00:00:00.000000000",
          "2024-09-18T00:00:00.000000000",
          "2024-09-19T00:00:00.000000000",
          "2024-09-20T00:00:00.000000000",
          "2024-09-23T00:00:00.000000000",
          "2024-09-24T00:00:00.000000000",
          "2024-09-25T00:00:00.000000000",
          "2024-09-26T00:00:00.000000000",
          "2024-09-27T00:00:00.000000000",
          "2024-09-30T00:00:00.000000000",
          "2024-10-01T00:00:00.000000000",
          "2024-10-02T00:00:00.000000000",
          "2024-10-03T00:00:00.000000000",
          "2024-10-04T00:00:00.000000000",
          "2024-10-07T00:00:00.000000000",
          "2024-10-08T00:00:00.000000000",
          "2024-10-09T00:00:00.000000000",
          "2024-10-10T00:00:00.000000000",
          "2024-10-11T00:00:00.000000000",
          "2024-10-14T00:00:00.000000000",
          "2024-10-15T00:00:00.000000000",
          "2024-10-16T00:00:00.000000000",
          "2024-10-17T00:00:00.000000000",
          "2024-10-18T00:00:00.000000000",
          "2024-10-21T00:00:00.000000000",
          "2024-10-22T00:00:00.000000000",
          "2024-10-23T00:00:00.000000000",
          "2024-10-24T00:00:00.000000000",
          "2024-10-25T00:00:00.000000000",
          "2024-10-28T00:00:00.000000000",
          "2024-10-29T00:00:00.000000000",
          "2024-10-30T00:00:00.000000000",
          "2024-10-31T00:00:00.000000000",
          "2024-11-01T00:00:00.000000000",
          "2024-11-04T00:00:00.000000000",
          "2024-11-05T00:00:00.000000000",
          "2024-11-06T00:00:00.000000000",
          "2024-11-07T00:00:00.000000000",
          "2024-11-08T00:00:00.000000000",
          "2024-11-11T00:00:00.000000000",
          "2024-11-12T00:00:00.000000000",
          "2024-11-13T00:00:00.000000000",
          "2024-11-14T00:00:00.000000000",
          "2024-11-15T00:00:00.000000000",
          "2024-11-18T00:00:00.000000000",
          "2024-11-19T00:00:00.000000000",
          "2024-11-20T00:00:00.000000000",
          "2024-11-21T00:00:00.000000000",
          "2024-11-22T00:00:00.000000000",
          "2024-11-25T00:00:00.000000000",
          "2024-11-26T00:00:00.000000000",
          "2024-11-27T00:00:00.000000000",
          "2024-11-29T00:00:00.000000000",
          "2024-12-02T00:00:00.000000000",
          "2024-12-03T00:00:00.000000000",
          "2024-12-04T00:00:00.000000000",
          "2024-12-05T00:00:00.000000000",
          "2024-12-06T00:00:00.000000000",
          "2024-12-09T00:00:00.000000000",
          "2024-12-10T00:00:00.000000000",
          "2024-12-11T00:00:00.000000000",
          "2024-12-12T00:00:00.000000000",
          "2024-12-13T00:00:00.000000000",
          "2024-12-16T00:00:00.000000000",
          "2024-12-17T00:00:00.000000000",
          "2024-12-18T00:00:00.000000000",
          "2024-12-19T00:00:00.000000000",
          "2024-12-20T00:00:00.000000000",
          "2024-12-23T00:00:00.000000000",
          "2024-12-24T00:00:00.000000000",
          "2024-12-26T00:00:00.000000000",
          "2024-12-27T00:00:00.000000000",
          "2024-12-30T00:00:00.000000000",
          "2024-12-31T00:00:00.000000000",
          "2025-01-02T00:00:00.000000000",
          "2025-01-03T00:00:00.000000000",
          "2025-01-06T00:00:00.000000000",
          "2025-01-07T00:00:00.000000000",
          "2025-01-08T00:00:00.000000000",
          "2025-01-10T00:00:00.000000000",
          "2025-01-13T00:00:00.000000000",
          "2025-01-14T00:00:00.000000000",
          "2025-01-15T00:00:00.000000000",
          "2025-01-16T00:00:00.000000000",
          "2025-01-17T00:00:00.000000000",
          "2025-01-21T00:00:00.000000000",
          "2025-01-22T00:00:00.000000000",
          "2025-01-23T00:00:00.000000000",
          "2025-01-24T00:00:00.000000000",
          "2025-01-27T00:00:00.000000000",
          "2025-01-28T00:00:00.000000000",
          "2025-01-29T00:00:00.000000000",
          "2025-01-30T00:00:00.000000000",
          "2025-01-31T00:00:00.000000000",
          "2025-02-03T00:00:00.000000000",
          "2025-02-04T00:00:00.000000000",
          "2025-02-05T00:00:00.000000000",
          "2025-02-06T00:00:00.000000000",
          "2025-02-07T00:00:00.000000000",
          "2025-02-10T00:00:00.000000000",
          "2025-02-11T00:00:00.000000000",
          "2025-02-12T00:00:00.000000000",
          "2025-02-13T00:00:00.000000000",
          "2025-02-14T00:00:00.000000000",
          "2025-02-18T00:00:00.000000000",
          "2025-02-19T00:00:00.000000000"
         ],
         "y": {
          "bdata": "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",
          "dtype": "f8"
         }
        },
        {
         "line": {
          "color": "green",
          "dash": "dash"
         },
         "name": "BB Upper",
         "type": "scatter",
         "x": [
          "2024-02-20T00:00:00.000000000",
          "2024-02-21T00:00:00.000000000",
          "2024-02-22T00:00:00.000000000",
          "2024-02-23T00:00:00.000000000",
          "2024-02-26T00:00:00.000000000",
          "2024-02-27T00:00:00.000000000",
          "2024-02-28T00:00:00.000000000",
          "2024-02-29T00:00:00.000000000",
          "2024-03-01T00:00:00.000000000",
          "2024-03-04T00:00:00.000000000",
          "2024-03-05T00:00:00.000000000",
          "2024-03-06T00:00:00.000000000",
          "2024-03-07T00:00:00.000000000",
          "2024-03-08T00:00:00.000000000",
          "2024-03-11T00:00:00.000000000",
          "2024-03-12T00:00:00.000000000",
          "2024-03-13T00:00:00.000000000",
          "2024-03-14T00:00:00.000000000",
          "2024-03-15T00:00:00.000000000",
          "2024-03-18T00:00:00.000000000",
          "2024-03-19T00:00:00.000000000",
          "2024-03-20T00:00:00.000000000",
          "2024-03-21T00:00:00.000000000",
          "2024-03-22T00:00:00.000000000",
          "2024-03-25T00:00:00.000000000",
          "2024-03-26T00:00:00.000000000",
          "2024-03-27T00:00:00.000000000",
          "2024-03-28T00:00:00.000000000",
          "2024-04-01T00:00:00.000000000",
          "2024-04-02T00:00:00.000000000",
          "2024-04-03T00:00:00.000000000",
          "2024-04-04T00:00:00.000000000",
          "2024-04-05T00:00:00.000000000",
          "2024-04-08T00:00:00.000000000",
          "2024-04-09T00:00:00.000000000",
          "2024-04-10T00:00:00.000000000",
          "2024-04-11T00:00:00.000000000",
          "2024-04-12T00:00:00.000000000",
          "2024-04-15T00:00:00.000000000",
          "2024-04-16T00:00:00.000000000",
          "2024-04-17T00:00:00.000000000",
          "2024-04-18T00:00:00.000000000",
          "2024-04-19T00:00:00.000000000",
          "2024-04-22T00:00:00.000000000",
          "2024-04-23T00:00:00.000000000",
          "2024-04-24T00:00:00.000000000",
          "2024-04-25T00:00:00.000000000",
          "2024-04-26T00:00:00.000000000",
          "2024-04-29T00:00:00.000000000",
          "2024-04-30T00:00:00.000000000",
          "2024-05-01T00:00:00.000000000",
          "2024-05-02T00:00:00.000000000",
          "2024-05-03T00:00:00.000000000",
          "2024-05-06T00:00:00.000000000",
          "2024-05-07T00:00:00.000000000",
          "2024-05-08T00:00:00.000000000",
          "2024-05-09T00:00:00.000000000",
          "2024-05-10T00:00:00.000000000",
          "2024-05-13T00:00:00.000000000",
          "2024-05-14T00:00:00.000000000",
          "2024-05-15T00:00:00.000000000",
          "2024-05-16T00:00:00.000000000",
          "2024-05-17T00:00:00.000000000",
          "2024-05-20T00:00:00.000000000",
          "2024-05-21T00:00:00.000000000",
          "2024-05-22T00:00:00.000000000",
          "2024-05-23T00:00:00.000000000",
          "2024-05-24T00:00:00.000000000",
          "2024-05-28T00:00:00.000000000",
          "2024-05-29T00:00:00.000000000",
          "2024-05-30T00:00:00.000000000",
          "2024-05-31T00:00:00.000000000",
          "2024-06-03T00:00:00.000000000",
          "2024-06-04T00:00:00.000000000",
          "2024-06-05T00:00:00.000000000",
          "2024-06-06T00:00:00.000000000",
          "2024-06-07T00:00:00.000000000",
          "2024-06-10T00:00:00.000000000",
          "2024-06-11T00:00:00.000000000",
          "2024-06-12T00:00:00.000000000",
          "2024-06-13T00:00:00.000000000",
          "2024-06-14T00:00:00.000000000",
          "2024-06-17T00:00:00.000000000",
          "2024-06-18T00:00:00.000000000",
          "2024-06-20T00:00:00.000000000",
          "2024-06-21T00:00:00.000000000",
          "2024-06-24T00:00:00.000000000",
          "2024-06-25T00:00:00.000000000",
          "2024-06-26T00:00:00.000000000",
          "2024-06-27T00:00:00.000000000",
          "2024-06-28T00:00:00.000000000",
          "2024-07-01T00:00:00.000000000",
          "2024-07-02T00:00:00.000000000",
          "2024-07-03T00:00:00.000000000",
          "2024-07-05T00:00:00.000000000",
          "2024-07-08T00:00:00.000000000",
          "2024-07-09T00:00:00.000000000",
          "2024-07-10T00:00:00.000000000",
          "2024-07-11T00:00:00.000000000",
          "2024-07-12T00:00:00.000000000",
          "2024-07-15T00:00:00.000000000",
          "2024-07-16T00:00:00.000000000",
          "2024-07-17T00:00:00.000000000",
          "2024-07-18T00:00:00.000000000",
          "2024-07-19T00:00:00.000000000",
          "2024-07-22T00:00:00.000000000",
          "2024-07-23T00:00:00.000000000",
          "2024-07-24T00:00:00.000000000",
          "2024-07-25T00:00:00.000000000",
          "2024-07-26T00:00:00.000000000",
          "2024-07-29T00:00:00.000000000",
          "2024-07-30T00:00:00.000000000",
          "2024-07-31T00:00:00.000000000",
          "2024-08-01T00:00:00.000000000",
          "2024-08-02T00:00:00.000000000",
          "2024-08-05T00:00:00.000000000",
          "2024-08-06T00:00:00.000000000",
          "2024-08-07T00:00:00.000000000",
          "2024-08-08T00:00:00.000000000",
          "2024-08-09T00:00:00.000000000",
          "2024-08-12T00:00:00.000000000",
          "2024-08-13T00:00:00.000000000",
          "2024-08-14T00:00:00.000000000",
          "2024-08-15T00:00:00.000000000",
          "2024-08-16T00:00:00.000000000",
          "2024-08-19T00:00:00.000000000",
          "2024-08-20T00:00:00.000000000",
          "2024-08-21T00:00:00.000000000",
          "2024-08-22T00:00:00.000000000",
          "2024-08-23T00:00:00.000000000",
          "2024-08-26T00:00:00.000000000",
          "2024-08-27T00:00:00.000000000",
          "2024-08-28T00:00:00.000000000",
          "2024-08-29T00:00:00.000000000",
          "2024-08-30T00:00:00.000000000",
          "2024-09-03T00:00:00.000000000",
          "2024-09-04T00:00:00.000000000",
          "2024-09-05T00:00:00.000000000",
          "2024-09-06T00:00:00.000000000",
          "2024-09-09T00:00:00.000000000",
          "2024-09-10T00:00:00.000000000",
          "2024-09-11T00:00:00.000000000",
          "2024-09-12T00:00:00.000000000",
          "2024-09-13T00:00:00.000000000",
          "2024-09-16T00:00:00.000000000",
          "2024-09-17T00:00:00.000000000",
          "2024-09-18T00:00:00.000000000",
          "2024-09-19T00:00:00.000000000",
          "2024-09-20T00:00:00.000000000",
          "2024-09-23T00:00:00.000000000",
          "2024-09-24T00:00:00.000000000",
          "2024-09-25T00:00:00.000000000",
          "2024-09-26T00:00:00.000000000",
          "2024-09-27T00:00:00.000000000",
          "2024-09-30T00:00:00.000000000",
          "2024-10-01T00:00:00.000000000",
          "2024-10-02T00:00:00.000000000",
          "2024-10-03T00:00:00.000000000",
          "2024-10-04T00:00:00.000000000",
          "2024-10-07T00:00:00.000000000",
          "2024-10-08T00:00:00.000000000",
          "2024-10-09T00:00:00.000000000",
          "2024-10-10T00:00:00.000000000",
          "2024-10-11T00:00:00.000000000",
          "2024-10-14T00:00:00.000000000",
          "2024-10-15T00:00:00.000000000",
          "2024-10-16T00:00:00.000000000",
          "2024-10-17T00:00:00.000000000",
          "2024-10-18T00:00:00.000000000",
          "2024-10-21T00:00:00.000000000",
          "2024-10-22T00:00:00.000000000",
          "2024-10-23T00:00:00.000000000",
          "2024-10-24T00:00:00.000000000",
          "2024-10-25T00:00:00.000000000",
          "2024-10-28T00:00:00.000000000",
          "2024-10-29T00:00:00.000000000",
          "2024-10-30T00:00:00.000000000",
          "2024-10-31T00:00:00.000000000",
          "2024-11-01T00:00:00.000000000",
          "2024-11-04T00:00:00.000000000",
          "2024-11-05T00:00:00.000000000",
          "2024-11-06T00:00:00.000000000",
          "2024-11-07T00:00:00.000000000",
          "2024-11-08T00:00:00.000000000",
          "2024-11-11T00:00:00.000000000",
          "2024-11-12T00:00:00.000000000",
          "2024-11-13T00:00:00.000000000",
          "2024-11-14T00:00:00.000000000",
          "2024-11-15T00:00:00.000000000",
          "2024-11-18T00:00:00.000000000",
          "2024-11-19T00:00:00.000000000",
          "2024-11-20T00:00:00.000000000",
          "2024-11-21T00:00:00.000000000",
          "2024-11-22T00:00:00.000000000",
          "2024-11-25T00:00:00.000000000",
          "2024-11-26T00:00:00.000000000",
          "2024-11-27T00:00:00.000000000",
          "2024-11-29T00:00:00.000000000",
          "2024-12-02T00:00:00.000000000",
          "2024-12-03T00:00:00.000000000",
          "2024-12-04T00:00:00.000000000",
          "2024-12-05T00:00:00.000000000",
          "2024-12-06T00:00:00.000000000",
          "2024-12-09T00:00:00.000000000",
          "2024-12-10T00:00:00.000000000",
          "2024-12-11T00:00:00.000000000",
          "2024-12-12T00:00:00.000000000",
          "2024-12-13T00:00:00.000000000",
          "2024-12-16T00:00:00.000000000",
          "2024-12-17T00:00:00.000000000",
          "2024-12-18T00:00:00.000000000",
          "2024-12-19T00:00:00.000000000",
          "2024-12-20T00:00:00.000000000",
          "2024-12-23T00:00:00.000000000",
          "2024-12-24T00:00:00.000000000",
          "2024-12-26T00:00:00.000000000",
          "2024-12-27T00:00:00.000000000",
          "2024-12-30T00:00:00.000000000",
          "2024-12-31T00:00:00.000000000",
          "2025-01-02T00:00:00.000000000",
          "2025-01-03T00:00:00.000000000",
          "2025-01-06T00:00:00.000000000",
          "2025-01-07T00:00:00.000000000",
          "2025-01-08T00:00:00.000000000",
          "2025-01-10T00:00:00.000000000",
          "2025-01-13T00:00:00.000000000",
          "2025-01-14T00:00:00.000000000",
          "2025-01-15T00:00:00.000000000",
          "2025-01-16T00:00:00.000000000",
          "2025-01-17T00:00:00.000000000",
          "2025-01-21T00:00:00.000000000",
          "2025-01-22T00:00:00.000000000",
          "2025-01-23T00:00:00.000000000",
          "2025-01-24T00:00:00.000000000",
          "2025-01-27T00:00:00.000000000",
          "2025-01-28T00:00:00.000000000",
          "2025-01-29T00:00:00.000000000",
          "2025-01-30T00:00:00.000000000",
          "2025-01-31T00:00:00.000000000",
          "2025-02-03T00:00:00.000000000",
          "2025-02-04T00:00:00.000000000",
          "2025-02-05T00:00:00.000000000",
          "2025-02-06T00:00:00.000000000",
          "2025-02-07T00:00:00.000000000",
          "2025-02-10T00:00:00.000000000",
          "2025-02-11T00:00:00.000000000",
          "2025-02-12T00:00:00.000000000",
          "2025-02-13T00:00:00.000000000",
          "2025-02-14T00:00:00.000000000",
          "2025-02-18T00:00:00.000000000",
          "2025-02-19T00:00:00.000000000"
         ],
         "y": {
          "bdata": "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",
          "dtype": "f8"
         }
        },
        {
         "line": {
          "color": "green"
         },
         "name": "BB Middle",
         "type": "scatter",
         "x": [
          "2024-02-20T00:00:00.000000000",
          "2024-02-21T00:00:00.000000000",
          "2024-02-22T00:00:00.000000000",
          "2024-02-23T00:00:00.000000000",
          "2024-02-26T00:00:00.000000000",
          "2024-02-27T00:00:00.000000000",
          "2024-02-28T00:00:00.000000000",
          "2024-02-29T00:00:00.000000000",
          "2024-03-01T00:00:00.000000000",
          "2024-03-04T00:00:00.000000000",
          "2024-03-05T00:00:00.000000000",
          "2024-03-06T00:00:00.000000000",
          "2024-03-07T00:00:00.000000000",
          "2024-03-08T00:00:00.000000000",
          "2024-03-11T00:00:00.000000000",
          "2024-03-12T00:00:00.000000000",
          "2024-03-13T00:00:00.000000000",
          "2024-03-14T00:00:00.000000000",
          "2024-03-15T00:00:00.000000000",
          "2024-03-18T00:00:00.000000000",
          "2024-03-19T00:00:00.000000000",
          "2024-03-20T00:00:00.000000000",
          "2024-03-21T00:00:00.000000000",
          "2024-03-22T00:00:00.000000000",
          "2024-03-25T00:00:00.000000000",
          "2024-03-26T00:00:00.000000000",
          "2024-03-27T00:00:00.000000000",
          "2024-03-28T00:00:00.000000000",
          "2024-04-01T00:00:00.000000000",
          "2024-04-02T00:00:00.000000000",
          "2024-04-03T00:00:00.000000000",
          "2024-04-04T00:00:00.000000000",
          "2024-04-05T00:00:00.000000000",
          "2024-04-08T00:00:00.000000000",
          "2024-04-09T00:00:00.000000000",
          "2024-04-10T00:00:00.000000000",
          "2024-04-11T00:00:00.000000000",
          "2024-04-12T00:00:00.000000000",
          "2024-04-15T00:00:00.000000000",
          "2024-04-16T00:00:00.000000000",
          "2024-04-17T00:00:00.000000000",
          "2024-04-18T00:00:00.000000000",
          "2024-04-19T00:00:00.000000000",
          "2024-04-22T00:00:00.000000000",
          "2024-04-23T00:00:00.000000000",
          "2024-04-24T00:00:00.000000000",
          "2024-04-25T00:00:00.000000000",
          "2024-04-26T00:00:00.000000000",
          "2024-04-29T00:00:00.000000000",
          "2024-04-30T00:00:00.000000000",
          "2024-05-01T00:00:00.000000000",
          "2024-05-02T00:00:00.000000000",
          "2024-05-03T00:00:00.000000000",
          "2024-05-06T00:00:00.000000000",
          "2024-05-07T00:00:00.000000000",
          "2024-05-08T00:00:00.000000000",
          "2024-05-09T00:00:00.000000000",
          "2024-05-10T00:00:00.000000000",
          "2024-05-13T00:00:00.000000000",
          "2024-05-14T00:00:00.000000000",
          "2024-05-15T00:00:00.000000000",
          "2024-05-16T00:00:00.000000000",
          "2024-05-17T00:00:00.000000000",
          "2024-05-20T00:00:00.000000000",
          "2024-05-21T00:00:00.000000000",
          "2024-05-22T00:00:00.000000000",
          "2024-05-23T00:00:00.000000000",
          "2024-05-24T00:00:00.000000000",
          "2024-05-28T00:00:00.000000000",
          "2024-05-29T00:00:00.000000000",
          "2024-05-30T00:00:00.000000000",
          "2024-05-31T00:00:00.000000000",
          "2024-06-03T00:00:00.000000000",
          "2024-06-04T00:00:00.000000000",
          "2024-06-05T00:00:00.000000000",
          "2024-06-06T00:00:00.000000000",
          "2024-06-07T00:00:00.000000000",
          "2024-06-10T00:00:00.000000000",
          "2024-06-11T00:00:00.000000000",
          "2024-06-12T00:00:00.000000000",
          "2024-06-13T00:00:00.000000000",
          "2024-06-14T00:00:00.000000000",
          "2024-06-17T00:00:00.000000000",
          "2024-06-18T00:00:00.000000000",
          "2024-06-20T00:00:00.000000000",
          "2024-06-21T00:00:00.000000000",
          "2024-06-24T00:00:00.000000000",
          "2024-06-25T00:00:00.000000000",
          "2024-06-26T00:00:00.000000000",
          "2024-06-27T00:00:00.000000000",
          "2024-06-28T00:00:00.000000000",
          "2024-07-01T00:00:00.000000000",
          "2024-07-02T00:00:00.000000000",
          "2024-07-03T00:00:00.000000000",
          "2024-07-05T00:00:00.000000000",
          "2024-07-08T00:00:00.000000000",
          "2024-07-09T00:00:00.000000000",
          "2024-07-10T00:00:00.000000000",
          "2024-07-11T00:00:00.000000000",
          "2024-07-12T00:00:00.000000000",
          "2024-07-15T00:00:00.000000000",
          "2024-07-16T00:00:00.000000000",
          "2024-07-17T00:00:00.000000000",
          "2024-07-18T00:00:00.000000000",
          "2024-07-19T00:00:00.000000000",
          "2024-07-22T00:00:00.000000000",
          "2024-07-23T00:00:00.000000000",
          "2024-07-24T00:00:00.000000000",
          "2024-07-25T00:00:00.000000000",
          "2024-07-26T00:00:00.000000000",
          "2024-07-29T00:00:00.000000000",
          "2024-07-30T00:00:00.000000000",
          "2024-07-31T00:00:00.000000000",
          "2024-08-01T00:00:00.000000000",
          "2024-08-02T00:00:00.000000000",
          "2024-08-05T00:00:00.000000000",
          "2024-08-06T00:00:00.000000000",
          "2024-08-07T00:00:00.000000000",
          "2024-08-08T00:00:00.000000000",
          "2024-08-09T00:00:00.000000000",
          "2024-08-12T00:00:00.000000000",
          "2024-08-13T00:00:00.000000000",
          "2024-08-14T00:00:00.000000000",
          "2024-08-15T00:00:00.000000000",
          "2024-08-16T00:00:00.000000000",
          "2024-08-19T00:00:00.000000000",
          "2024-08-20T00:00:00.000000000",
          "2024-08-21T00:00:00.000000000",
          "2024-08-22T00:00:00.000000000",
          "2024-08-23T00:00:00.000000000",
          "2024-08-26T00:00:00.000000000",
          "2024-08-27T00:00:00.000000000",
          "2024-08-28T00:00:00.000000000",
          "2024-08-29T00:00:00.000000000",
          "2024-08-30T00:00:00.000000000",
          "2024-09-03T00:00:00.000000000",
          "2024-09-04T00:00:00.000000000",
          "2024-09-05T00:00:00.000000000",
          "2024-09-06T00:00:00.000000000",
          "2024-09-09T00:00:00.000000000",
          "2024-09-10T00:00:00.000000000",
          "2024-09-11T00:00:00.000000000",
          "2024-09-12T00:00:00.000000000",
          "2024-09-13T00:00:00.000000000",
          "2024-09-16T00:00:00.000000000",
          "2024-09-17T00:00:00.000000000",
          "2024-09-18T00:00:00.000000000",
          "2024-09-19T00:00:00.000000000",
          "2024-09-20T00:00:00.000000000",
          "2024-09-23T00:00:00.000000000",
          "2024-09-24T00:00:00.000000000",
          "2024-09-25T00:00:00.000000000",
          "2024-09-26T00:00:00.000000000",
          "2024-09-27T00:00:00.000000000",
          "2024-09-30T00:00:00.000000000",
          "2024-10-01T00:00:00.000000000",
          "2024-10-02T00:00:00.000000000",
          "2024-10-03T00:00:00.000000000",
          "2024-10-04T00:00:00.000000000",
          "2024-10-07T00:00:00.000000000",
          "2024-10-08T00:00:00.000000000",
          "2024-10-09T00:00:00.000000000",
          "2024-10-10T00:00:00.000000000",
          "2024-10-11T00:00:00.000000000",
          "2024-10-14T00:00:00.000000000",
          "2024-10-15T00:00:00.000000000",
          "2024-10-16T00:00:00.000000000",
          "2024-10-17T00:00:00.000000000",
          "2024-10-18T00:00:00.000000000",
          "2024-10-21T00:00:00.000000000",
          "2024-10-22T00:00:00.000000000",
          "2024-10-23T00:00:00.000000000",
          "2024-10-24T00:00:00.000000000",
          "2024-10-25T00:00:00.000000000",
          "2024-10-28T00:00:00.000000000",
          "2024-10-29T00:00:00.000000000",
          "2024-10-30T00:00:00.000000000",
          "2024-10-31T00:00:00.000000000",
          "2024-11-01T00:00:00.000000000",
          "2024-11-04T00:00:00.000000000",
          "2024-11-05T00:00:00.000000000",
          "2024-11-06T00:00:00.000000000",
          "2024-11-07T00:00:00.000000000",
          "2024-11-08T00:00:00.000000000",
          "2024-11-11T00:00:00.000000000",
          "2024-11-12T00:00:00.000000000",
          "2024-11-13T00:00:00.000000000",
          "2024-11-14T00:00:00.000000000",
          "2024-11-15T00:00:00.000000000",
          "2024-11-18T00:00:00.000000000",
          "2024-11-19T00:00:00.000000000",
          "2024-11-20T00:00:00.000000000",
          "2024-11-21T00:00:00.000000000",
          "2024-11-22T00:00:00.000000000",
          "2024-11-25T00:00:00.000000000",
          "2024-11-26T00:00:00.000000000",
          "2024-11-27T00:00:00.000000000",
          "2024-11-29T00:00:00.000000000",
          "2024-12-02T00:00:00.000000000",
          "2024-12-03T00:00:00.000000000",
          "2024-12-04T00:00:00.000000000",
          "2024-12-05T00:00:00.000000000",
          "2024-12-06T00:00:00.000000000",
          "2024-12-09T00:00:00.000000000",
          "2024-12-10T00:00:00.000000000",
          "2024-12-11T00:00:00.000000000",
          "2024-12-12T00:00:00.000000000",
          "2024-12-13T00:00:00.000000000",
          "2024-12-16T00:00:00.000000000",
          "2024-12-17T00:00:00.000000000",
          "2024-12-18T00:00:00.000000000",
          "2024-12-19T00:00:00.000000000",
          "2024-12-20T00:00:00.000000000",
          "2024-12-23T00:00:00.000000000",
          "2024-12-24T00:00:00.000000000",
          "2024-12-26T00:00:00.000000000",
          "2024-12-27T00:00:00.000000000",
          "2024-12-30T00:00:00.000000000",
          "2024-12-31T00:00:00.000000000",
          "2025-01-02T00:00:00.000000000",
          "2025-01-03T00:00:00.000000000",
          "2025-01-06T00:00:00.000000000",
          "2025-01-07T00:00:00.000000000",
          "2025-01-08T00:00:00.000000000",
          "2025-01-10T00:00:00.000000000",
          "2025-01-13T00:00:00.000000000",
          "2025-01-14T00:00:00.000000000",
          "2025-01-15T00:00:00.000000000",
          "2025-01-16T00:00:00.000000000",
          "2025-01-17T00:00:00.000000000",
          "2025-01-21T00:00:00.000000000",
          "2025-01-22T00:00:00.000000000",
          "2025-01-23T00:00:00.000000000",
          "2025-01-24T00:00:00.000000000",
          "2025-01-27T00:00:00.000000000",
          "2025-01-28T00:00:00.000000000",
          "2025-01-29T00:00:00.000000000",
          "2025-01-30T00:00:00.000000000",
          "2025-01-31T00:00:00.000000000",
          "2025-02-03T00:00:00.000000000",
          "2025-02-04T00:00:00.000000000",
          "2025-02-05T00:00:00.000000000",
          "2025-02-06T00:00:00.000000000",
          "2025-02-07T00:00:00.000000000",
          "2025-02-10T00:00:00.000000000",
          "2025-02-11T00:00:00.000000000",
          "2025-02-12T00:00:00.000000000",
          "2025-02-13T00:00:00.000000000",
          "2025-02-14T00:00:00.000000000",
          "2025-02-18T00:00:00.000000000",
          "2025-02-19T00:00:00.000000000"
         ],
         "y": {
          "bdata": "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",
          "dtype": "f8"
         }
        },
        {
         "line": {
          "color": "green",
          "dash": "dash"
         },
         "name": "BB Lower",
         "type": "scatter",
         "x": [
          "2024-02-20T00:00:00.000000000",
          "2024-02-21T00:00:00.000000000",
          "2024-02-22T00:00:00.000000000",
          "2024-02-23T00:00:00.000000000",
          "2024-02-26T00:00:00.000000000",
          "2024-02-27T00:00:00.000000000",
          "2024-02-28T00:00:00.000000000",
          "2024-02-29T00:00:00.000000000",
          "2024-03-01T00:00:00.000000000",
          "2024-03-04T00:00:00.000000000",
          "2024-03-05T00:00:00.000000000",
          "2024-03-06T00:00:00.000000000",
          "2024-03-07T00:00:00.000000000",
          "2024-03-08T00:00:00.000000000",
          "2024-03-11T00:00:00.000000000",
          "2024-03-12T00:00:00.000000000",
          "2024-03-13T00:00:00.000000000",
          "2024-03-14T00:00:00.000000000",
          "2024-03-15T00:00:00.000000000",
          "2024-03-18T00:00:00.000000000",
          "2024-03-19T00:00:00.000000000",
          "2024-03-20T00:00:00.000000000",
          "2024-03-21T00:00:00.000000000",
          "2024-03-22T00:00:00.000000000",
          "2024-03-25T00:00:00.000000000",
          "2024-03-26T00:00:00.000000000",
          "2024-03-27T00:00:00.000000000",
          "2024-03-28T00:00:00.000000000",
          "2024-04-01T00:00:00.000000000",
          "2024-04-02T00:00:00.000000000",
          "2024-04-03T00:00:00.000000000",
          "2024-04-04T00:00:00.000000000",
          "2024-04-05T00:00:00.000000000",
          "2024-04-08T00:00:00.000000000",
          "2024-04-09T00:00:00.000000000",
          "2024-04-10T00:00:00.000000000",
          "2024-04-11T00:00:00.000000000",
          "2024-04-12T00:00:00.000000000",
          "2024-04-15T00:00:00.000000000",
          "2024-04-16T00:00:00.000000000",
          "2024-04-17T00:00:00.000000000",
          "2024-04-18T00:00:00.000000000",
          "2024-04-19T00:00:00.000000000",
          "2024-04-22T00:00:00.000000000",
          "2024-04-23T00:00:00.000000000",
          "2024-04-24T00:00:00.000000000",
          "2024-04-25T00:00:00.000000000",
          "2024-04-26T00:00:00.000000000",
          "2024-04-29T00:00:00.000000000",
          "2024-04-30T00:00:00.000000000",
          "2024-05-01T00:00:00.000000000",
          "2024-05-02T00:00:00.000000000",
          "2024-05-03T00:00:00.000000000",
          "2024-05-06T00:00:00.000000000",
          "2024-05-07T00:00:00.000000000",
          "2024-05-08T00:00:00.000000000",
          "2024-05-09T00:00:00.000000000",
          "2024-05-10T00:00:00.000000000",
          "2024-05-13T00:00:00.000000000",
          "2024-05-14T00:00:00.000000000",
          "2024-05-15T00:00:00.000000000",
          "2024-05-16T00:00:00.000000000",
          "2024-05-17T00:00:00.000000000",
          "2024-05-20T00:00:00.000000000",
          "2024-05-21T00:00:00.000000000",
          "2024-05-22T00:00:00.000000000",
          "2024-05-23T00:00:00.000000000",
          "2024-05-24T00:00:00.000000000",
          "2024-05-28T00:00:00.000000000",
          "2024-05-29T00:00:00.000000000",
          "2024-05-30T00:00:00.000000000",
          "2024-05-31T00:00:00.000000000",
          "2024-06-03T00:00:00.000000000",
          "2024-06-04T00:00:00.000000000",
          "2024-06-05T00:00:00.000000000",
          "2024-06-06T00:00:00.000000000",
          "2024-06-07T00:00:00.000000000",
          "2024-06-10T00:00:00.000000000",
          "2024-06-11T00:00:00.000000000",
          "2024-06-12T00:00:00.000000000",
          "2024-06-13T00:00:00.000000000",
          "2024-06-14T00:00:00.000000000",
          "2024-06-17T00:00:00.000000000",
          "2024-06-18T00:00:00.000000000",
          "2024-06-20T00:00:00.000000000",
          "2024-06-21T00:00:00.000000000",
          "2024-06-24T00:00:00.000000000",
          "2024-06-25T00:00:00.000000000",
          "2024-06-26T00:00:00.000000000",
          "2024-06-27T00:00:00.000000000",
          "2024-06-28T00:00:00.000000000",
          "2024-07-01T00:00:00.000000000",
          "2024-07-02T00:00:00.000000000",
          "2024-07-03T00:00:00.000000000",
          "2024-07-05T00:00:00.000000000",
          "2024-07-08T00:00:00.000000000",
          "2024-07-09T00:00:00.000000000",
          "2024-07-10T00:00:00.000000000",
          "2024-07-11T00:00:00.000000000",
          "2024-07-12T00:00:00.000000000",
          "2024-07-15T00:00:00.000000000",
          "2024-07-16T00:00:00.000000000",
          "2024-07-17T00:00:00.000000000",
          "2024-07-18T00:00:00.000000000",
          "2024-07-19T00:00:00.000000000",
          "2024-07-22T00:00:00.000000000",
          "2024-07-23T00:00:00.000000000",
          "2024-07-24T00:00:00.000000000",
          "2024-07-25T00:00:00.000000000",
          "2024-07-26T00:00:00.000000000",
          "2024-07-29T00:00:00.000000000",
          "2024-07-30T00:00:00.000000000",
          "2024-07-31T00:00:00.000000000",
          "2024-08-01T00:00:00.000000000",
          "2024-08-02T00:00:00.000000000",
          "2024-08-05T00:00:00.000000000",
          "2024-08-06T00:00:00.000000000",
          "2024-08-07T00:00:00.000000000",
          "2024-08-08T00:00:00.000000000",
          "2024-08-09T00:00:00.000000000",
          "2024-08-12T00:00:00.000000000",
          "2024-08-13T00:00:00.000000000",
          "2024-08-14T00:00:00.000000000",
          "2024-08-15T00:00:00.000000000",
          "2024-08-16T00:00:00.000000000",
          "2024-08-19T00:00:00.000000000",
          "2024-08-20T00:00:00.000000000",
          "2024-08-21T00:00:00.000000000",
          "2024-08-22T00:00:00.000000000",
          "2024-08-23T00:00:00.000000000",
          "2024-08-26T00:00:00.000000000",
          "2024-08-27T00:00:00.000000000",
          "2024-08-28T00:00:00.000000000",
          "2024-08-29T00:00:00.000000000",
          "2024-08-30T00:00:00.000000000",
          "2024-09-03T00:00:00.000000000",
          "2024-09-04T00:00:00.000000000",
          "2024-09-05T00:00:00.000000000",
          "2024-09-06T00:00:00.000000000",
          "2024-09-09T00:00:00.000000000",
          "2024-09-10T00:00:00.000000000",
          "2024-09-11T00:00:00.000000000",
          "2024-09-12T00:00:00.000000000",
          "2024-09-13T00:00:00.000000000",
          "2024-09-16T00:00:00.000000000",
          "2024-09-17T00:00:00.000000000",
          "2024-09-18T00:00:00.000000000",
          "2024-09-19T00:00:00.000000000",
          "2024-09-20T00:00:00.000000000",
          "2024-09-23T00:00:00.000000000",
          "2024-09-24T00:00:00.000000000",
          "2024-09-25T00:00:00.000000000",
          "2024-09-26T00:00:00.000000000",
          "2024-09-27T00:00:00.000000000",
          "2024-09-30T00:00:00.000000000",
          "2024-10-01T00:00:00.000000000",
          "2024-10-02T00:00:00.000000000",
          "2024-10-03T00:00:00.000000000",
          "2024-10-04T00:00:00.000000000",
          "2024-10-07T00:00:00.000000000",
          "2024-10-08T00:00:00.000000000",
          "2024-10-09T00:00:00.000000000",
          "2024-10-10T00:00:00.000000000",
          "2024-10-11T00:00:00.000000000",
          "2024-10-14T00:00:00.000000000",
          "2024-10-15T00:00:00.000000000",
          "2024-10-16T00:00:00.000000000",
          "2024-10-17T00:00:00.000000000",
          "2024-10-18T00:00:00.000000000",
          "2024-10-21T00:00:00.000000000",
          "2024-10-22T00:00:00.000000000",
          "2024-10-23T00:00:00.000000000",
          "2024-10-24T00:00:00.000000000",
          "2024-10-25T00:00:00.000000000",
          "2024-10-28T00:00:00.000000000",
          "2024-10-29T00:00:00.000000000",
          "2024-10-30T00:00:00.000000000",
          "2024-10-31T00:00:00.000000000",
          "2024-11-01T00:00:00.000000000",
          "2024-11-04T00:00:00.000000000",
          "2024-11-05T00:00:00.000000000",
          "2024-11-06T00:00:00.000000000",
          "2024-11-07T00:00:00.000000000",
          "2024-11-08T00:00:00.000000000",
          "2024-11-11T00:00:00.000000000",
          "2024-11-12T00:00:00.000000000",
          "2024-11-13T00:00:00.000000000",
          "2024-11-14T00:00:00.000000000",
          "2024-11-15T00:00:00.000000000",
          "2024-11-18T00:00:00.000000000",
          "2024-11-19T00:00:00.000000000",
          "2024-11-20T00:00:00.000000000",
          "2024-11-21T00:00:00.000000000",
          "2024-11-22T00:00:00.000000000",
          "2024-11-25T00:00:00.000000000",
          "2024-11-26T00:00:00.000000000",
          "2024-11-27T00:00:00.000000000",
          "2024-11-29T00:00:00.000000000",
          "2024-12-02T00:00:00.000000000",
          "2024-12-03T00:00:00.000000000",
          "2024-12-04T00:00:00.000000000",
          "2024-12-05T00:00:00.000000000",
          "2024-12-06T00:00:00.000000000",
          "2024-12-09T00:00:00.000000000",
          "2024-12-10T00:00:00.000000000",
          "2024-12-11T00:00:00.000000000",
          "2024-12-12T00:00:00.000000000",
          "2024-12-13T00:00:00.000000000",
          "2024-12-16T00:00:00.000000000",
          "2024-12-17T00:00:00.000000000",
          "2024-12-18T00:00:00.000000000",
          "2024-12-19T00:00:00.000000000",
          "2024-12-20T00:00:00.000000000",
          "2024-12-23T00:00:00.000000000",
          "2024-12-24T00:00:00.000000000",
          "2024-12-26T00:00:00.000000000",
          "2024-12-27T00:00:00.000000000",
          "2024-12-30T00:00:00.000000000",
          "2024-12-31T00:00:00.000000000",
          "2025-01-02T00:00:00.000000000",
          "2025-01-03T00:00:00.000000000",
          "2025-01-06T00:00:00.000000000",
          "2025-01-07T00:00:00.000000000",
          "2025-01-08T00:00:00.000000000",
          "2025-01-10T00:00:00.000000000",
          "2025-01-13T00:00:00.000000000",
          "2025-01-14T00:00:00.000000000",
          "2025-01-15T00:00:00.000000000",
          "2025-01-16T00:00:00.000000000",
          "2025-01-17T00:00:00.000000000",
          "2025-01-21T00:00:00.000000000",
          "2025-01-22T00:00:00.000000000",
          "2025-01-23T00:00:00.000000000",
          "2025-01-24T00:00:00.000000000",
          "2025-01-27T00:00:00.000000000",
          "2025-01-28T00:00:00.000000000",
          "2025-01-29T00:00:00.000000000",
          "2025-01-30T00:00:00.000000000",
          "2025-01-31T00:00:00.000000000",
          "2025-02-03T00:00:00.000000000",
          "2025-02-04T00:00:00.000000000",
          "2025-02-05T00:00:00.000000000",
          "2025-02-06T00:00:00.000000000",
          "2025-02-07T00:00:00.000000000",
          "2025-02-10T00:00:00.000000000",
          "2025-02-11T00:00:00.000000000",
          "2025-02-12T00:00:00.000000000",
          "2025-02-13T00:00:00.000000000",
          "2025-02-14T00:00:00.000000000",
          "2025-02-18T00:00:00.000000000",
          "2025-02-19T00:00:00.000000000"
         ],
         "y": {
          "bdata": "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",
          "dtype": "f8"
         }
        }
       ],
       "layout": {
        "template": {
         "data": {
          "bar": [
           {
            "error_x": {
             "color": "#2a3f5f"
            },
            "error_y": {
             "color": "#2a3f5f"
            },
            "marker": {
             "line": {
              "color": "#E5ECF6",
              "width": 0.5
             },
             "pattern": {
              "fillmode": "overlay",
              "size": 10,
              "solidity": 0.2
             }
            },
            "type": "bar"
           }
          ],
          "barpolar": [
           {
            "marker": {
             "line": {
              "color": "#E5ECF6",
              "width": 0.5
             },
             "pattern": {
              "fillmode": "overlay",
              "size": 10,
              "solidity": 0.2
             }
            },
            "type": "barpolar"
           }
          ],
          "carpet": [
           {
            "aaxis": {
             "endlinecolor": "#2a3f5f",
             "gridcolor": "white",
             "linecolor": "white",
             "minorgridcolor": "white",
             "startlinecolor": "#2a3f5f"
            },
            "baxis": {
             "endlinecolor": "#2a3f5f",
             "gridcolor": "white",
             "linecolor": "white",
             "minorgridcolor": "white",
             "startlinecolor": "#2a3f5f"
            },
            "type": "carpet"
           }
          ],
          "choropleth": [
           {
            "colorbar": {
             "outlinewidth": 0,
             "ticks": ""
            },
            "type": "choropleth"
           }
          ],
          "contour": [
           {
            "colorbar": {
             "outlinewidth": 0,
             "ticks": ""
            },
            "colorscale": [
             [
              0,
              "#0d0887"
             ],
             [
              0.1111111111111111,
              "#46039f"
             ],
             [
              0.2222222222222222,
              "#7201a8"
             ],
             [
              0.3333333333333333,
              "#9c179e"
             ],
             [
              0.4444444444444444,
              "#bd3786"
             ],
             [
              0.5555555555555556,
              "#d8576b"
             ],
             [
              0.6666666666666666,
              "#ed7953"
             ],
             [
              0.7777777777777778,
              "#fb9f3a"
             ],
             [
              0.8888888888888888,
              "#fdca26"
             ],
             [
              1,
              "#f0f921"
             ]
            ],
            "type": "contour"
           }
          ],
          "contourcarpet": [
           {
            "colorbar": {
             "outlinewidth": 0,
             "ticks": ""
            },
            "type": "contourcarpet"
           }
          ],
          "heatmap": [
           {
            "colorbar": {
             "outlinewidth": 0,
             "ticks": ""
            },
            "colorscale": [
             [
              0,
              "#0d0887"
             ],
             [
              0.1111111111111111,
              "#46039f"
             ],
             [
              0.2222222222222222,
              "#7201a8"
             ],
             [
              0.3333333333333333,
              "#9c179e"
             ],
             [
              0.4444444444444444,
              "#bd3786"
             ],
             [
              0.5555555555555556,
              "#d8576b"
             ],
             [
              0.6666666666666666,
              "#ed7953"
             ],
             [
              0.7777777777777778,
              "#fb9f3a"
             ],
             [
              0.8888888888888888,
              "#fdca26"
             ],
             [
              1,
              "#f0f921"
             ]
            ],
            "type": "heatmap"
           }
          ],
          "histogram": [
           {
            "marker": {
             "pattern": {
              "fillmode": "overlay",
              "size": 10,
              "solidity": 0.2
             }
            },
            "type": "histogram"
           }
          ],
          "histogram2d": [
           {
            "colorbar": {
             "outlinewidth": 0,
             "ticks": ""
            },
            "colorscale": [
             [
              0,
              "#0d0887"
             ],
             [
              0.1111111111111111,
              "#46039f"
             ],
             [
              0.2222222222222222,
              "#7201a8"
             ],
             [
              0.3333333333333333,
              "#9c179e"
             ],
             [
              0.4444444444444444,
              "#bd3786"
             ],
             [
              0.5555555555555556,
              "#d8576b"
             ],
             [
              0.6666666666666666,
              "#ed7953"
             ],
             [
              0.7777777777777778,
              "#fb9f3a"
             ],
             [
              0.8888888888888888,
              "#fdca26"
             ],
             [
              1,
              "#f0f921"
             ]
            ],
            "type": "histogram2d"
           }
          ],
          "histogram2dcontour": [
           {
            "colorbar": {
             "outlinewidth": 0,
             "ticks": ""
            },
            "colorscale": [
             [
              0,
              "#0d0887"
             ],
             [
              0.1111111111111111,
              "#46039f"
             ],
             [
              0.2222222222222222,
              "#7201a8"
             ],
             [
              0.3333333333333333,
              "#9c179e"
             ],
             [
              0.4444444444444444,
              "#bd3786"
             ],
             [
              0.5555555555555556,
              "#d8576b"
             ],
             [
              0.6666666666666666,
              "#ed7953"
             ],
             [
              0.7777777777777778,
              "#fb9f3a"
             ],
             [
              0.8888888888888888,
              "#fdca26"
             ],
             [
              1,
              "#f0f921"
             ]
            ],
            "type": "histogram2dcontour"
           }
          ],
          "mesh3d": [
           {
            "colorbar": {
             "outlinewidth": 0,
             "ticks": ""
            },
            "type": "mesh3d"
           }
          ],
          "parcoords": [
           {
            "line": {
             "colorbar": {
              "outlinewidth": 0,
              "ticks": ""
             }
            },
            "type": "parcoords"
           }
          ],
          "pie": [
           {
            "automargin": true,
            "type": "pie"
           }
          ],
          "scatter": [
           {
            "fillpattern": {
             "fillmode": "overlay",
             "size": 10,
             "solidity": 0.2
            },
            "type": "scatter"
           }
          ],
          "scatter3d": [
           {
            "line": {
             "colorbar": {
              "outlinewidth": 0,
              "ticks": ""
             }
            },
            "marker": {
             "colorbar": {
              "outlinewidth": 0,
              "ticks": ""
             }
            },
            "type": "scatter3d"
           }
          ],
          "scattercarpet": [
           {
            "marker": {
             "colorbar": {
              "outlinewidth": 0,
              "ticks": ""
             }
            },
            "type": "scattercarpet"
           }
          ],
          "scattergeo": [
           {
            "marker": {
             "colorbar": {
              "outlinewidth": 0,
              "ticks": ""
             }
            },
            "type": "scattergeo"
           }
          ],
          "scattergl": [
           {
            "marker": {
             "colorbar": {
              "outlinewidth": 0,
              "ticks": ""
             }
            },
            "type": "scattergl"
           }
          ],
          "scattermap": [
           {
            "marker": {
             "colorbar": {
              "outlinewidth": 0,
              "ticks": ""
             }
            },
            "type": "scattermap"
           }
          ],
          "scattermapbox": [
           {
            "marker": {
             "colorbar": {
              "outlinewidth": 0,
              "ticks": ""
             }
            },
            "type": "scattermapbox"
           }
          ],
          "scatterpolar": [
           {
            "marker": {
             "colorbar": {
              "outlinewidth": 0,
              "ticks": ""
             }
            },
            "type": "scatterpolar"
           }
          ],
          "scatterpolargl": [
           {
            "marker": {
             "colorbar": {
              "outlinewidth": 0,
              "ticks": ""
             }
            },
            "type": "scatterpolargl"
           }
          ],
          "scatterternary": [
           {
            "marker": {
             "colorbar": {
              "outlinewidth": 0,
              "ticks": ""
             }
            },
            "type": "scatterternary"
           }
          ],
          "surface": [
           {
            "colorbar": {
             "outlinewidth": 0,
             "ticks": ""
            },
            "colorscale": [
             [
              0,
              "#0d0887"
             ],
             [
              0.1111111111111111,
              "#46039f"
             ],
             [
              0.2222222222222222,
              "#7201a8"
             ],
             [
              0.3333333333333333,
              "#9c179e"
             ],
             [
              0.4444444444444444,
              "#bd3786"
             ],
             [
              0.5555555555555556,
              "#d8576b"
             ],
             [
              0.6666666666666666,
              "#ed7953"
             ],
             [
              0.7777777777777778,
              "#fb9f3a"
             ],
             [
              0.8888888888888888,
              "#fdca26"
             ],
             [
              1,
              "#f0f921"
             ]
            ],
            "type": "surface"
           }
          ],
          "table": [
           {
            "cells": {
             "fill": {
              "color": "#EBF0F8"
             },
             "line": {
              "color": "white"
             }
            },
            "header": {
             "fill": {
              "color": "#C8D4E3"
             },
             "line": {
              "color": "white"
             }
            },
            "type": "table"
           }
          ]
         },
         "layout": {
          "annotationdefaults": {
           "arrowcolor": "#2a3f5f",
           "arrowhead": 0,
           "arrowwidth": 1
          },
          "autotypenumbers": "strict",
          "coloraxis": {
           "colorbar": {
            "outlinewidth": 0,
            "ticks": ""
           }
          },
          "colorscale": {
           "diverging": [
            [
             0,
             "#8e0152"
            ],
            [
             0.1,
             "#c51b7d"
            ],
            [
             0.2,
             "#de77ae"
            ],
            [
             0.3,
             "#f1b6da"
            ],
            [
             0.4,
             "#fde0ef"
            ],
            [
             0.5,
             "#f7f7f7"
            ],
            [
             0.6,
             "#e6f5d0"
            ],
            [
             0.7,
             "#b8e186"
            ],
            [
             0.8,
             "#7fbc41"
            ],
            [
             0.9,
             "#4d9221"
            ],
            [
             1,
             "#276419"
            ]
           ],
           "sequential": [
            [
             0,
             "#0d0887"
            ],
            [
             0.1111111111111111,
             "#46039f"
            ],
            [
             0.2222222222222222,
             "#7201a8"
            ],
            [
             0.3333333333333333,
             "#9c179e"
            ],
            [
             0.4444444444444444,
             "#bd3786"
            ],
            [
             0.5555555555555556,
             "#d8576b"
            ],
            [
             0.6666666666666666,
             "#ed7953"
            ],
            [
             0.7777777777777778,
             "#fb9f3a"
            ],
            [
             0.8888888888888888,
             "#fdca26"
            ],
            [
             1,
             "#f0f921"
            ]
           ],
           "sequentialminus": [
            [
             0,
             "#0d0887"
            ],
            [
             0.1111111111111111,
             "#46039f"
            ],
            [
             0.2222222222222222,
             "#7201a8"
            ],
            [
             0.3333333333333333,
             "#9c179e"
            ],
            [
             0.4444444444444444,
             "#bd3786"
            ],
            [
             0.5555555555555556,
             "#d8576b"
            ],
            [
             0.6666666666666666,
             "#ed7953"
            ],
            [
             0.7777777777777778,
             "#fb9f3a"
            ],
            [
             0.8888888888888888,
             "#fdca26"
            ],
            [
             1,
             "#f0f921"
            ]
           ]
          },
          "colorway": [
           "#636efa",
           "#EF553B",
           "#00cc96",
           "#ab63fa",
           "#FFA15A",
           "#19d3f3",
           "#FF6692",
           "#B6E880",
           "#FF97FF",
           "#FECB52"
          ],
          "font": {
           "color": "#2a3f5f"
          },
          "geo": {
           "bgcolor": "white",
           "lakecolor": "white",
           "landcolor": "#E5ECF6",
           "showlakes": true,
           "showland": true,
           "subunitcolor": "white"
          },
          "hoverlabel": {
           "align": "left"
          },
          "hovermode": "closest",
          "mapbox": {
           "style": "light"
          },
          "paper_bgcolor": "white",
          "plot_bgcolor": "#E5ECF6",
          "polar": {
           "angularaxis": {
            "gridcolor": "white",
            "linecolor": "white",
            "ticks": ""
           },
           "bgcolor": "#E5ECF6",
           "radialaxis": {
            "gridcolor": "white",
            "linecolor": "white",
            "ticks": ""
           }
          },
          "scene": {
           "xaxis": {
            "backgroundcolor": "#E5ECF6",
            "gridcolor": "white",
            "gridwidth": 2,
            "linecolor": "white",
            "showbackground": true,
            "ticks": "",
            "zerolinecolor": "white"
           },
           "yaxis": {
            "backgroundcolor": "#E5ECF6",
            "gridcolor": "white",
            "gridwidth": 2,
            "linecolor": "white",
            "showbackground": true,
            "ticks": "",
            "zerolinecolor": "white"
           },
           "zaxis": {
            "backgroundcolor": "#E5ECF6",
            "gridcolor": "white",
            "gridwidth": 2,
            "linecolor": "white",
            "showbackground": true,
            "ticks": "",
            "zerolinecolor": "white"
           }
          },
          "shapedefaults": {
           "line": {
            "color": "#2a3f5f"
           }
          },
          "ternary": {
           "aaxis": {
            "gridcolor": "white",
            "linecolor": "white",
            "ticks": ""
           },
           "baxis": {
            "gridcolor": "white",
            "linecolor": "white",
            "ticks": ""
           },
           "bgcolor": "#E5ECF6",
           "caxis": {
            "gridcolor": "white",
            "linecolor": "white",
            "ticks": ""
           }
          },
          "title": {
           "x": 0.05
          },
          "xaxis": {
           "automargin": true,
           "gridcolor": "white",
           "linecolor": "white",
           "ticks": "",
           "title": {
            "standoff": 15
           },
           "zerolinecolor": "white",
           "zerolinewidth": 2
          },
          "yaxis": {
           "automargin": true,
           "gridcolor": "white",
           "linecolor": "white",
           "ticks": "",
           "title": {
            "standoff": 15
           },
           "zerolinecolor": "white",
           "zerolinewidth": 2
          }
         }
        },
        "title": {
         "text": "AAPL Daily Candles with SMA and Bollinger Bands"
        },
        "xaxis": {
         "title": {
          "text": "Date"
         }
        },
        "yaxis": {
         "title": {
          "text": "Price (USD)"
         }
        }
       }
      },
      "text/html": [
       "<div>            <script src=\"https://cdnjs.cloudflare.com/ajax/libs/mathjax/2.7.5/MathJax.js?config=TeX-AMS-MML_SVG\"></script><script type=\"text/javascript\">if (window.MathJax && window.MathJax.Hub && window.MathJax.Hub.Config) {window.MathJax.Hub.Config({SVG: {font: \"STIX-Web\"}});}</script>                <script type=\"text/javascript\">window.PlotlyConfig = {MathJaxConfig: 'local'};</script>\n",
       "        <script charset=\"utf-8\" src=\"https://cdn.plot.ly/plotly-3.0.0.min.js\"></script>                <div id=\"1c677045-3744-4e96-9395-c6301ac0381d\" class=\"plotly-graph-div\" style=\"height:525px; width:100%;\"></div>            <script type=\"text/javascript\">                window.PLOTLYENV=window.PLOTLYENV || {};                                if (document.getElementById(\"1c677045-3744-4e96-9395-c6301ac0381d\")) {                    Plotly.newPlot(                        \"1c677045-3744-4e96-9395-c6301ac0381d\",                        [{\"close\":{\"dtype\":\"f8\",\"bdata\":\"AAAAYJ2WZkAAAABg0q5mQAAAAOAc8GZAAAAA4DC1ZkAAAAAg4IlmQAAAAMCxuGZAAAAAICiSZkAAAABA0XxmQAAAAAAaWmZAAAAAIN7IZUAAAACAQSplQAAAAOBnCmVAAAAAgJUGZUAAAAAgrz1lQAAAAEAFfmVAAAAAwE6NZUAAAACgbEplQAAAAKD7hWVAAAAAIOF5ZUAAAAAg6pxlQAAAAGAU6GVAAAAA4JE6ZkAAAABAEVJlQAAAACANb2VAAAAAoIFBZUAAAACgMh1lQAAAACDbj2VAAAAAIJJVZUAAAADAYydlQAAAAAB9AWVAAAAAQEkbZUAAAAAA2gBlQAAAAMAOGWVAAAAAQBH1ZEAAAACA7BtlQAAAAEC632RAAAAAoPTGZUAAAACADPdlQAAAAAAcfGVAAAAAALASZUAAAAAAvOZkQAAAAKAoyGRAAAAAgC+HZEAAAACg8KFkQAAAACCzw2RAAAAAwDgHZUAAAAAg7iJlQAAAAKAjEGVAAAAAYOiVZUAAAADA8TBlQAAAAKAjEGVAAAAAQPCGZUAAAADglNBmQAAAAMBkm2ZAAAAAgF6xZkAAAACgMrxmQAAAAMB79mZAAAAAoPrNZkAAAAAg\\u002fjRnQAAAAGCrWWdAAAAAYLSiZ0AAAAAAiKZnQAAAAOB8p2dAAAAAgM3MZ0AAAAAglfZnQAAAAGBWyGdAAAAA4CBIZ0AAAAAA\\u002f6pnQAAAAKBQq2dAAAAAAOK0Z0AAAACgxtRnQAAAAIBk82dAAAAAgCksaEAAAABAXjZoQAAAAEDYZmhAAAAAgIM6aEAAAAAAYIdoQAAAAMAjD2hAAAAAYJjOaUAAAADAZotqQAAAAGC3sGpAAAAAYOd4akAAAAAgN\\u002f5qQAAAAGBPsmpAAAAA4EgfakAAAACAcNlpQAAAAGAr7mlAAAAAgNQLakAAAABgJJFqQAAAAEBArGpAAAAAYEM9akAAAABAxABrQAAAAIAHcWtAAAAAINqZa0AAAABgnjJsQAAAAADSYWxAAAAAYD99bEAAAAAAYwZtQAAAAODYWWxAAAAAgJG4bEAAAADArDNtQAAAAOARQW1AAAAAYKCDbEAAAADguu1rQAAAAEDg8WtAAAAA4Lbma0AAAACAMwhsQAAAAODaOWtAAAAAIF4Ya0AAAACAWydrQAAAAIBJMGtAAAAAoCVCa0AAAABgwaprQAAAACAdNGtAAAAAIPRja0AAAACANRJqQAAAAMAl0WlAAAAA4L8jakAAAABADpNqQAAAAICA8GpAAAAAYKwha0AAAAAgF5lrQAAAAIB1p2tAAAAAgD8HbEAAAAAAtzFsQAAAACCbLGxAAAAAAGdAbEAAAADA4zxsQAAAAIAuAWxAAAAAYPBKbEAAAACAy1VsQAAAAGDvcGxAAAAAgMM\\u002fbEAAAADAIalsQAAAAEDoj2xAAAAAIPzIa0AAAAAgrotrQAAAAECIvGtAAAAAALmKa0AAAACAmI1rQAAAAGANdGtAAAAAAHnFa0AAAAAg\\u002fMhrQAAAAEBdwGtAAAAA4An7akAAAACACwprQAAAAECShmtAAAAAoMGLbEAAAAAAXXZsQAAAAAAgP2xAAAAAoNxbbEAAAACg7jtsQAAAAMCmYGxAAAAAoEVpbEAAAABgoA9tQAAAAODSNmxAAAAAAAZJbEAAAADAlCVsQAAAAICpSWxAAAAAQICma0AAAABAxihsQAAAAEAmoWxAAAAAQC+RbEAAAAAAnGFsQAAAAIBY2WxAAAAAQMQqbUAAAAAArOhsQAAAAGB89GxAAAAAQHxPbUAAAADgvX5tQAAAAADyam1AAAAAgBrIbEAAAACgCcJsQAAAAKDb3GxAAAAA4GUcbUAAAADgBCVtQAAAAKAHs2xAAAAAoD4tbEAAAACAdM1rQAAAAOC3sGtAAAAAgLLea0AAAACAY8drQAAAAMBfX2xAAAAAYL5WbEAAAADAev9rQAAAAMB6\\u002f2tAAAAAoO0bbEAAAAAABX9sQAAAAKAXGGxAAAAAYKB4bEAAAADg74BsQAAAAKDzl2xAAAAA4JuIbEAAAADgwrNsQAAAAOCnE21AAAAAoKhZbUAAAADggFVtQAAAACA4om1AAAAAoHXqbUAAAACgRUxuQAAAAIDHV25AAAAAAL1YbkAAAABgWFJuQAAAAABUz25AAAAAoO7vbkAAAABgBMduQAAAAIAB9m5AAAAAgHD7bkAAAAAAdVhvQAAAAIBzpm9AAAAA4OH4bkAAAABAgDBvQAAAAIC8xm9AAAAAQKvfb0AAAADAqR5wQAAAAKDEK3BAAAAAwOXpb0AAAABgiX1vQAAAAKCjRG9AAAAAYKFybkAAAACg92JuQAAAAMBjl25AAAAAQDU+bkAAAADA3k1uQAAAAEDgkm1AAAAA4I9EbUAAAADgwiBtQAAAAOB6s21AAAAAQEyAbEAAAAAAR7dsQAAAAMCnzGtAAAAAgLHya0AAAACAQu1rQAAAAGAh0WtAAAAAAHGzbEAAAABA8r9tQAAAAKAb421AAAAAoIeqbUAAAADAtHdtQAAAAIBOeGxAAAAAIGsRbUAAAADA3gZtQAAAAADYHm1AAAAAAClsbEAAAADAzHRsQAAAAADXE21AAAAAANebbUAAAADA9TBuQAAAAEAzk25AAAAAQAqPbkAAAAAA15tuQA==\"},\"high\":{\"dtype\":\"f8\",\"bdata\":\"7I4\\u002f4VKyZkDAglDO+cBmQKmg8YjnAmdA2D4Pm3MFZ0AE15Gm1bxmQM3m1bXH4WZAydo8DU3IZkCjfFSuyLZmQFHShoHPdWZAXL3pUzICZkBoHtg0aGdlQOg8KWHtTWVAAIApBa89ZUC9hCIIR5xlQPNL+X7vsWVAqWUlk8mmZUB4tBDRCIxlQCQI6LC0r2VAAAAAIOF5ZUBdkRCj\\u002fhtmQIDLZLj1+GVAAAAA4JE6ZkCbWyHB\\u002fBRmQEHjA1uTh2VAwego6ThkZUCnTIsKqVNlQNCRs7UXmWVAXTj6P3VtZUBB3fMHP05lQIlwEcBpEWVAj9peWBc8ZUAeFNLGlWNlQJQx6hDbMmVA3VI6YPQMZUA+6Rt3+yhlQKdTuVBzCWVA5D9fNFXUZUA+rMtQsjBmQK1Ut8+Y+WVA6yCvPzCeZUAAAKm5IjtlQIryb0Ye+2RAAACpWcazZEBnEfiUKs9kQHD1gzl6yGRAlMJkuCMQZUDeKK+n3DllQKsT+7UcUWVA73TMuHzmZUCOkJAXXcVlQNonQxe\\u002ffGVAhmNBHFyTZUA0tlqB4ENnQGXSZOOy6mZAmYaGQP4AZ0BvV39LtcZmQIU9BYlZ+WZADUN5RQoPZ0CiBaEfJU9nQLyGb6BqdWdAsVEwW13AZ0B38dBst85nQCtItJR3xWdAcRFMWt7oZ0C+ZLCSswJoQBOeZHCSBWhAzpO90YbLZ0BJBR3JIb5nQD1cKudPC2hAVPB6l2TzZ0AAVRIUKfFnQLbd\\u002fjeZ\\u002fWdAnro2iMdKaEDDegviTVVoQPp3hryxh2hA4Yzy8e96aEBkkbtA+IhoQG4AvqxzlGhA6cquGerOaUCHuHT5y25rQPjvLWDEAGtA0x3wVWDOakDbbKBP7kZrQBokS6i5PGtArKWEX7ewakCGjBaDxGVqQEzn4b6Zf2pA0hzDnIBVakDAAz1SfcRqQLghaB+O4GpAzD04UhTrakAbDDJFARlrQL2aQ5uJdGtAAAAAINqZa0AGrkV7IDZsQN\\u002fuQ+3GYmxAuAgi3jWUbED+6HmBkwltQEMfuvyR82xA0FX2H4v7bEB\\u002fvw547o1tQLvACHZQb21AdAH28+jVbEBFxsgYYbVsQJL7FQxKQWxA837EbYtgbEAG9yoqwUVsQHW8lxmBAWxAnmLpDIeDa0A0FjdEJ1hrQCsfwOkXUmtAW5QUZPFya0CCbNbAP+JrQAaJyi9M92tAwvg\\u002fvgQbbEBWdsWNHZlqQHnW+gMsKWpA9aQqbZSdakAHpgy0cK9qQH72vU65AWtA53M54eRga0CoeZP44qxrQJi9325J0WtAmwyGKl0bbECteMa3nkpsQJvcbZPML2xA8CNs4HlVbEAHJkizVm9sQNqaenXVemxAVQtvjAB3bEBpnmzz\\u002fFhsQNQ4Zh8ei2xAwn5s312rbECcNx1xEg1tQEt5WdCbvGxA909JK+iPbEDrQ\\u002fDkX6lrQC10s5qDH2xAP9A6HNoXbEA+fQEmF5lrQAminbrLn2tAI5WlwzPTa0CIMKjX4+FrQAOXsiuJ8WtAuSoab8YXa0BsqWOljg1rQLe458gRx2tA0JHFCBeqbEDblRbnfxJtQHnRn4NGnmxA1QQ0QRWbbEBtlAazTllsQIbspD7xf2xAu+ZswIKgbEAAAABgoA9tQMJjal2ppGxA\\u002fXDSotxbbECkXLUd+0lsQFTgfkn6b2xAmwgGSjgmbECyPeS4ei9sQMOY1tjap2xAB6R+Wd+fbEBIu+Cp\\u002f5xsQFEtrUMT52xAGlkMpP2ebUA2JSgih\\u002fNsQDy\\u002fs0rEKm1Aq2l8hSl1bUDwEPNXjoptQC2SCaZwdm1AdR8jtPRTbUD8e6kgBcpsQHfwC5CmFm1AWzq+Ut1GbUBvl1\\u002fAFzptQDG6N\\u002f+hHm1AJ2yqumiqbEBMCXAaXRtsQJjsuZefyWtAYUdGganua0Dahq57WjJsQAQDx20lbGxAATJvdBWNbEAvlUjGdy5sQF49o6PzKmxAB\\u002f4bnNVMbEBHQvLmy5NsQGaGsPl2VWxAjS1uJpuvbECRHdT1B71sQMFX8sGttWxADtew\\u002fge9bEBA1kB67s5sQANkw3TNH21AOI5OCfZpbUBe740JzG1tQFRvdu6PsW1AYtUVNNEQbkCoiaTCyU9uQOEXatrwem5AEUQpga+IbkAB5BwFkItuQKCbaLf93m5A8ySLKv\\u002f9bkCjXrgYyVBvQG64fzvwDm9AAUkwsIQgb0A6PN5QU2NvQILj1JmjsW9A1T2X8gXAb0BLI8+9JHdvQGQaYMkJ129ANYnPtNDrb0BoA4KU0h5wQCnlLoQHPXBAWPOFgqcmcEAvPtlNF6dvQD7M1gQPoG9AcZNFJHIab0ClaGCfLX1uQChygCne4W5AfGZZc\\u002fiobkAiFqipJ25uQMddF\\u002fit\\u002fG1A\\u002f7kfUjFNbUBumqiSinttQMW0cHFS1m1As2LRh\\u002fS3bUAzeI23HQFtQN61LnyNBWxAk4UNhPb7a0DQYTEu+1hsQLLBsvs6LGxAdYpsBaT8bECpi76Co\\u002f1tQDpOZSAX821AoJqRNdEQbkAajlaTZN1uQG3+xKFp8mxAPgjuh\\u002fcbbUC6KF5TQw1tQM76IyhiMW1ANtVUsMY3bUAAAABA4dJsQAAAACBcZ21AAAAAYLiebUAAAABA4UpuQAAAAKCZsW5AAAAAgMKlbkAAAADgUcBuQA==\"},\"low\":{\"dtype\":\"f8\",\"bdata\":\"f6d67+1kZkDCeYqI83lmQCooh8hHs2ZAd+ZQSvSrZkA5hKHCoXlmQNxI+HHqVmZAQ1DdKRJpZkDvtB349VVmQNTPJQd8EWZAvhAO7ySfZUAT7Oi\\u002fVBplQHTiqlBk\\u002fGRAAICBQlf2ZECfd+RprARlQCxOCtO5Z2VAe+9l+JlGZUBuDcC+oz5lQOOD\\u002ftK5Z2VA2xaEdKsvZUAsVCRzi5ZlQL2aeSzwhmVAToBEVIzIZUAxDaznL0FlQIIk0ldYKGVA0KtHpuoUZUBBuE+hDhllQKQC4\\u002fLvKWVAqnlcOK02ZUC1prNM3xVlQEM5FVwP7mRAfkPNETX5ZEAAAAAA2gBlQDESIgH+BGVAh6ucFWHuZEBW3IDx4fFkQECpeGtjymRAJiHHoNTrZECad9VWhaxlQGtOpdAOdmVATZbym1XvZEAAAAAAvOZkQCtcUH2NuGRAAICAS+JpZEBopnxx3H9kQOo+wzqjhGRA+NW3brmtZECRcnT9gutkQPcr0B5RDGVAJB1EBiuJZUBXVXUUbyZlQFlQpnAWCmVAsedXw8dCZUBCqlNYprlmQPQs8alOcmZAtuIe1PiOZkBNh1eKHJNmQJzsKBUiqGZAKHfLPqOwZkB2EintDABnQCQtKMhPNWdAy3DQm8FXZ0CuwWRwyqBnQGHKGk97kWdA5RL6cw+MZ0DdX169+chnQOlmhMk+tGdAgwc1vCdAZ0BJEQO8H21nQOVfIizujmdARhNIpwGcZ0CC5y4cur9nQIpjIXbDqGdA3gtNDwH8Z0A2eKP4RAxoQBK3vbDzRmhA1NmogaAwaEBt6YV2qy9oQOAW9R008GdAkJgMoGcfaEAKYO5On8ZpQBcID\\u002fGEXGpAtp5fh\\u002fNSakCqYqgjPYBqQMJY8SUriWpAsOpcZtAEakAirHHtUc1pQHIxeki8vGlA09Zyvyj9aUCdp3Te5j1qQBkOUkVwdGpAtGHpxw4zakCoAsRpuWZqQLS1X74kzGpATpycZntJa0BQbSOSCp1rQLFwROcR0GtAs19HQ5MzbEDfDYI6bY9sQICClaRwIGxAkJAOaj99bEDVYVoy5QltQHFe1hOo8WxArpCgty88bEBNeUGp0LBrQLcmlsMG0WtAagGMn\\u002ffKa0DE7rAP5L1rQF+FrvDiDGtAPF8KwdW8akAL+UCCKulqQAWRvbPf4GpASPZ9iqzsakCFQurJgnxrQKr9TqVgCWtAjocJX2Ifa0CF\\u002fxnB\\u002fWpoQAYclCewDGlA69tBX1u2aUDvA3wOLQRqQD8wPctRaGpAaSl9mAzkakC1kpvI7VBrQLB0Bvf1ZmtAu73GYqrIa0CrAA9NFeVrQA8NfyWb0WtACx21kY4ebECtUmbpyBFsQIHnatUQ7WtABhGyp8v6a0AKLfwPv+xrQK89fP2sDGxAlYKHcuYlbEAEcNl+E4xsQABAW7hfX2xACsnyqOWVa0A+0oKgEyBrQFRH0JgSoWtA0a+pQzJpa0Aq9zevfQdrQO7ISy4hCGtA6XV\\u002f8Cota0DvxG7SymprQNn+LJ2GrWtA3IktLWiuakCvx58S7cBqQAsWUAv+IWtA++AJ518EbEDBZDMP2GNsQDDnpR8NKmxA8+jlQH8nbEB9eq\\u002fG5fBrQGqTk5VHHWxALw+ncKBZbEBvIxZkqaRsQE5dZA\\u002f152tAc8BVxPfQa0BD3e7mi9prQDu\\u002ffuho9GtAfA77mQGba0DyCcu1T9hrQAq5UrvCCmxAdVQJ5HlVbECdZSxn51psQPSOybIig2xArfspoIL7bECE3J9muqpsQMQ10NJwwGxAh8yE798vbUB\\u002ffPuk7D1tQPHHuMXaAm1AKzhUeFBobEAtp5O7EX1sQPnmHHobomxAzB+XCkIBbUBIZFcJ6vlsQEdFFeV3oWxAYrv6lgAcbECDt6geKXlrQAL5j8BHZ2tA7peUjvCUa0CeCFlGiZZrQLkwz3l1AmxAC1nPsilFbECUfb4vN6hrQPZJx5Or42tA6KuMu33Qa0Dc\\u002fD64FxhsQLwbZBHCAGxAzvU8xIYdbECiB0xzJ01sQBy7RHuKNGxATPsXqMkubECQONCo53lsQGoHEimbr2xAfEKoEFwibUD0QY\\u002fzszFtQCjz1DrRNm1AW7bs\\u002fMicbUBwwyFdZ9RtQFmns3WFH25ANqnoj6Y7bkAFg3pWDTpuQB0DHPyAL25AlOgH3UGibkCLoskxqr9uQK73WSMgrW5ABYZAoQa\\u002fbkCilgSgGOxuQFAwMmouMG9AcKoCKvnubkCaYcIqMtpuQEjyQQxyrW5ApNfTH36lb0BnBmDOTuBvQJpxy4CNFXBALI8QwwaZb0CZk50LME9vQEHqLmj+JG9AoCZ3470xbkCNDr2Z+jNuQPbhy1HaXW5Advm+3LcibkC1AbPXKfltQLmAtaPPF21AR2z\\u002feveubEDHOqmp3gZtQK\\u002feJ1OFRW1A6cm5MfJ4bEAK8dZ+VIdsQJCnpTRzZGtAYyluGY5xa0A2BV6cycFrQBAPdLNWpWtAKfeA53z3a0Dk6xHnztFsQHsHLoIYOG1AhjQ3K2KebUCG0yZI4CVtQGJOYch3LmxAmArjlNVMbECCpWopnoBsQKmq8VmpxWxAGZ85NFVgbEAAAABgZmZsQAAAAAAphGxAAAAAgMLVbEAAAACAPXJtQAAAACCuH25AAAAAQOE6bkAAAADAHmVuQA==\"},\"name\":\"AAPL\",\"open\":{\"dtype\":\"f8\",\"bdata\":\"kBgkpfCdZkBRUzkBuKJmQLKYr0PE02ZAPge6An8EZ0DDOo7rRaxmQNEmqOf2h2ZA3ehBad+0ZkBZEe4aYY1mQAATJByZVmZAr4OqM0\\u002fqZUAjCki8oz5lQI0ZUq8xSGVAAACpeVwLZUC24ZCalQZlQJgCX28ShGVAPRyAdMKKZUDjQ3xcqH5lQAu9\\u002fNYdg2VAIVsuk7JLZUC4VZkm1tdlQAylSj2psGVAPeL6Ep3cZUAWO8wx+QZmQDbZCkV9XmVA\\u002fjugp5Y4ZUA1DN0VbyZlQGlOFQZ+M2VAU2vUmiteZUDrR0bXVUxlQAffieIhCWVAyEUiPOX\\u002fZEA6m\\u002fmHqy9lQMZKfz1gGWVAk5qtS4oHZUAxVRWYB\\u002f1kQBRv4to2AGVAxc7HMpDxZECsZSjqHK5lQCN1wdQl0WVAmmHLwSteZUAAgNUjAxplQK7vkKKw52RAAIAsSrmtZECUVLyRv5dkQGXtnkxVkmRA1mhx+ju4ZECRayjcdhdlQJfAi6ucImVAltxNYcSRZUBsbFxAfpBlQJ5uWpgOGWVAOfsKZWB2ZUAUEAO7ujhnQF0IW\\u002fzGr2ZAQQBks8\\u002fSZkAlHdWDs79mQHmgHCJ3tmZAonsz\\u002fPoIZ0AYGMrsMxpnQA\\u002fLAo44XGdA5qR6ivpoZ0C8eGi2n7pnQLBk66ABnGdAvMELLESWZ0As+C6zZc5nQJZdBugH9GdAFGJEfuPKZ0B00Z00AIZnQKN6RKrK22dA0PzDKDKfZ0DibQ1r38NnQJ8jHTqP2WdAByb6gR8IaEDJS+PqnT9oQJUKo+XaV2hANiX9qxphaEA2kNpX7z9oQGmrrsaxh2hAGxCh0wogaEDqvEepnNVpQBluraepwGpAkhFyLkekakCSeKAN+JRqQNLUJHKOG2tAaLU\\u002fQdSmakC5VDus7TVqQPtNaEbG4GlATokcjmEOakDk6zZlVFlqQCGna08Rv2pAA+e17YLhakDSSZBfJWxqQLiLYm6h7WpAPqGDCGtoa0BQbSOSCp1rQD54KciJSmxA20Ka9FNlbEBeAj97BZFsQHXpe22t02xA7nYT9OaEbEBgFZcMA3ZtQIqFlW\\u002fPRm1AUxHpG86VbEAYgsa8RrBsQHgSQkEkAmxAf6XNrvxHbEBQs9YvyvNrQOODVm3952tA44p7\\u002fEpGa0D3GMox9T5rQCuttd92B2tA+BhWzJVOa0AVe9sPWJZrQH8miBTK82tAznCTO09Na0DTePc2is1oQNAkdzWYk2lAc52gQJ\\u002fGaUDDiOlcrYxqQAVrADp3bGpAXrjrYw7zakC1kpvI7VBrQKnHPHC9gmtAOamiqGoDbECKF5NRtO1rQAgL6o4tJ2xAv4TyT8YobEBBbEq3uEBsQIT7dLpFaWxABK5qGkMlbEBrnkpuYkhsQMrmTCUeMGxAKkckRmxtbEDeUkXMB7NsQPVBdlfntWxAQ\\u002fnH44mBbEBz0JINi6VrQLUIMr6VpGtA2oI1kanua0BPIXveuIprQF\\u002fgcUgOTmtAZqqlNiifa0CcZIYbXcBrQCG+JTLZ4mtAokzcChACa0AbY7eV1uhqQFyJNt1PImtAGmsTjd4PbEDe\\u002fDwI4a5sQPBkPFnnWmxAI\\u002f8OWbuEbEDSb88H9A1sQNRcNnWgWWxAZuo\\u002fUqp+bEAqqvw\\u002fHbFsQGKFEtSCoGxAoQbRIpssbEBms+uIqBRsQOYhEdbIbGxAFqOSMjkAbEAERgpy1vlrQHGDMkmIF2xA2pvACvRobEDap3qEfJlsQG0DSAZUhmxAy0pXcRojbUC5dPO87OJsQMUVDBlbHW1Aq2l8hSl1bUB\\u002ffPuk7D1tQJLnujALLG1AXUHlRRwybUBYAjbdMq9sQFh4LwuJp2xA28hfENgZbUA9uRTB0RJtQPnzBFgsA21Ard1ba8OabEDoFcnmgo9rQMaki3kmkGtArkj3bgOqa0BNd5pa4MNrQPBWfuVfBGxAlM9UvHRdbEC3ZoWyFxhsQMH\\u002f9F61CWxAjTONfHL4a0BnLixquxhsQHLcaMfXRGxAwpj5axUgbEAqSETyYVdsQOfdG5XneWxAfTXVwh2UbECQONCo53lsQE5Ehe+V5mxAfEKoEFwibUAnaXLDzEZtQCz2IeyqUW1AflKQH02gbUBb8C3tffFtQK8BdOJNU25AVEXo8xp3bkDv8MA+lVRuQMby2KMPMm5AHLbpis3TbkAr+R9mAfZuQFujc6DN025AoiMFyofxbkDc0uLw9vZuQMsXM1fFOW9AqyWHBUJ8b0BhcGs6TeduQFYIvAeQ+G5AEKmYv6\\u002fPb0DhpLSBs+ZvQFOc3buAHnBA85pwzL8YcEBxPOjafn5vQGFVhVM1hW9AgCnY6wIVb0AAAACg92JuQEmSOXVVgW5AgWSREtJWbkD41Y8E8DRuQGJim3Hi921ApanHs8AobUCzXCjmv09tQHyodc87TG1A1ujm19uibUCjzRifrvtsQL00jaMg+GtAYyluGY5xa0DQXYcoyA9sQD96e2EPEWxAFvtZS8T4a0ARyutKFtNsQAtR06ScO21A7Q15SA3NbUAajlaTZN1uQBPipO+Yt2xAQ0jvbgNgbEAsJ5my7YhsQJsVMb0m4WxAu8LciAYLbUAAAACAPbJsQAAAAGBmhmxAAAAAYGbmbEAAAADAHp1tQAAAAAAAKG5AAAAAwMyEbkAAAADAHpVuQA==\"},\"x\":[\"2024-02-20T00:00:00.000000000\",\"2024-02-21T00:00:00.000000000\",\"2024-02-22T00:00:00.000000000\",\"2024-02-23T00:00:00.000000000\",\"2024-02-26T00:00:00.000000000\",\"2024-02-27T00:00:00.000000000\",\"2024-02-28T00:00:00.000000000\",\"2024-02-29T00:00:00.000000000\",\"2024-03-01T00:00:00.000000000\",\"2024-03-04T00:00:00.000000000\",\"2024-03-05T00:00:00.000000000\",\"2024-03-06T00:00:00.000000000\",\"2024-03-07T00:00:00.000000000\",\"2024-03-08T00:00:00.000000000\",\"2024-03-11T00:00:00.000000000\",\"2024-03-12T00:00:00.000000000\",\"2024-03-13T00:00:00.000000000\",\"2024-03-14T00:00:00.000000000\",\"2024-03-15T00:00:00.000000000\",\"2024-03-18T00:00:00.000000000\",\"2024-03-19T00:00:00.000000000\",\"2024-03-20T00:00:00.000000000\",\"2024-03-21T00:00:00.000000000\",\"2024-03-22T00:00:00.000000000\",\"2024-03-25T00:00:00.000000000\",\"2024-03-26T00:00:00.000000000\",\"2024-03-27T00:00:00.000000000\",\"2024-03-28T00:00:00.000000000\",\"2024-04-01T00:00:00.000000000\",\"2024-04-02T00:00:00.000000000\",\"2024-04-03T00:00:00.000000000\",\"2024-04-04T00:00:00.000000000\",\"2024-04-05T00:00:00.000000000\",\"2024-04-08T00:00:00.000000000\",\"2024-04-09T00:00:00.000000000\",\"2024-04-10T00:00:00.000000000\",\"2024-04-11T00:00:00.000000000\",\"2024-04-12T00:00:00.000000000\",\"2024-04-15T00:00:00.000000000\",\"2024-04-16T00:00:00.000000000\",\"2024-04-17T00:00:00.000000000\",\"2024-04-18T00:00:00.000000000\",\"2024-04-19T00:00:00.000000000\",\"2024-04-22T00:00:00.000000000\",\"2024-04-23T00:00:00.000000000\",\"2024-04-24T00:00:00.000000000\",\"2024-04-25T00:00:00.000000000\",\"2024-04-26T00:00:00.000000000\",\"2024-04-29T00:00:00.000000000\",\"2024-04-30T00:00:00.000000000\",\"2024-05-01T00:00:00.000000000\",\"2024-05-02T00:00:00.000000000\",\"2024-05-03T00:00:00.000000000\",\"2024-05-06T00:00:00.000000000\",\"2024-05-07T00:00:00.000000000\",\"2024-05-08T00:00:00.000000000\",\"2024-05-09T00:00:00.000000000\",\"2024-05-10T00:00:00.000000000\",\"2024-05-13T00:00:00.000000000\",\"2024-05-14T00:00:00.000000000\",\"2024-05-15T00:00:00.000000000\",\"2024-05-16T00:00:00.000000000\",\"2024-05-17T00:00:00.000000000\",\"2024-05-20T00:00:00.000000000\",\"2024-05-21T00:00:00.000000000\",\"2024-05-22T00:00:00.000000000\",\"2024-05-23T00:00:00.000000000\",\"2024-05-24T00:00:00.000000000\",\"2024-05-28T00:00:00.000000000\",\"2024-05-29T00:00:00.000000000\",\"2024-05-30T00:00:00.000000000\",\"2024-05-31T00:00:00.000000000\",\"2024-06-03T00:00:00.000000000\",\"2024-06-04T00:00:00.000000000\",\"2024-06-05T00:00:00.000000000\",\"2024-06-06T00:00:00.000000000\",\"2024-06-07T00:00:00.000000000\",\"2024-06-10T00:00:00.000000000\",\"2024-06-11T00:00:00.000000000\",\"2024-06-12T00:00:00.000000000\",\"2024-06-13T00:00:00.000000000\",\"2024-06-14T00:00:00.000000000\",\"2024-06-17T00:00:00.000000000\",\"2024-06-18T00:00:00.000000000\",\"2024-06-20T00:00:00.000000000\",\"2024-06-21T00:00:00.000000000\",\"2024-06-24T00:00:00.000000000\",\"2024-06-25T00:00:00.000000000\",\"2024-06-26T00:00:00.000000000\",\"2024-06-27T00:00:00.000000000\",\"2024-06-28T00:00:00.000000000\",\"2024-07-01T00:00:00.000000000\",\"2024-07-02T00:00:00.000000000\",\"2024-07-03T00:00:00.000000000\",\"2024-07-05T00:00:00.000000000\",\"2024-07-08T00:00:00.000000000\",\"2024-07-09T00:00:00.000000000\",\"2024-07-10T00:00:00.000000000\",\"2024-07-11T00:00:00.000000000\",\"2024-07-12T00:00:00.000000000\",\"2024-07-15T00:00:00.000000000\",\"2024-07-16T00:00:00.000000000\",\"2024-07-17T00:00:00.000000000\",\"2024-07-18T00:00:00.000000000\",\"2024-07-19T00:00:00.000000000\",\"2024-07-22T00:00:00.000000000\",\"2024-07-23T00:00:00.000000000\",\"2024-07-24T00:00:00.000000000\",\"2024-07-25T00:00:00.000000000\",\"2024-07-26T00:00:00.000000000\",\"2024-07-29T00:00:00.000000000\",\"2024-07-30T00:00:00.000000000\",\"2024-07-31T00:00:00.000000000\",\"2024-08-01T00:00:00.000000000\",\"2024-08-02T00:00:00.000000000\",\"2024-08-05T00:00:00.000000000\",\"2024-08-06T00:00:00.000000000\",\"2024-08-07T00:00:00.000000000\",\"2024-08-08T00:00:00.000000000\",\"2024-08-09T00:00:00.000000000\",\"2024-08-12T00:00:00.000000000\",\"2024-08-13T00:00:00.000000000\",\"2024-08-14T00:00:00.000000000\",\"2024-08-15T00:00:00.000000000\",\"2024-08-16T00:00:00.000000000\",\"2024-08-19T00:00:00.000000000\",\"2024-08-20T00:00:00.000000000\",\"2024-08-21T00:00:00.000000000\",\"2024-08-22T00:00:00.000000000\",\"2024-08-23T00:00:00.000000000\",\"2024-08-26T00:00:00.000000000\",\"2024-08-27T00:00:00.000000000\",\"2024-08-28T00:00:00.000000000\",\"2024-08-29T00:00:00.000000000\",\"2024-08-30T00:00:00.000000000\",\"2024-09-03T00:00:00.000000000\",\"2024-09-04T00:00:00.000000000\",\"2024-09-05T00:00:00.000000000\",\"2024-09-06T00:00:00.000000000\",\"2024-09-09T00:00:00.000000000\",\"2024-09-10T00:00:00.000000000\",\"2024-09-11T00:00:00.000000000\",\"2024-09-12T00:00:00.000000000\",\"2024-09-13T00:00:00.000000000\",\"2024-09-16T00:00:00.000000000\",\"2024-09-17T00:00:00.000000000\",\"2024-09-18T00:00:00.000000000\",\"2024-09-19T00:00:00.000000000\",\"2024-09-20T00:00:00.000000000\",\"2024-09-23T00:00:00.000000000\",\"2024-09-24T00:00:00.000000000\",\"2024-09-25T00:00:00.000000000\",\"2024-09-26T00:00:00.000000000\",\"2024-09-27T00:00:00.000000000\",\"2024-09-30T00:00:00.000000000\",\"2024-10-01T00:00:00.000000000\",\"2024-10-02T00:00:00.000000000\",\"2024-10-03T00:00:00.000000000\",\"2024-10-04T00:00:00.000000000\",\"2024-10-07T00:00:00.000000000\",\"2024-10-08T00:00:00.000000000\",\"2024-10-09T00:00:00.000000000\",\"2024-10-10T00:00:00.000000000\",\"2024-10-11T00:00:00.000000000\",\"2024-10-14T00:00:00.000000000\",\"2024-10-15T00:00:00.000000000\",\"2024-10-16T00:00:00.000000000\",\"2024-10-17T00:00:00.000000000\",\"2024-10-18T00:00:00.000000000\",\"2024-10-21T00:00:00.000000000\",\"2024-10-22T00:00:00.000000000\",\"2024-10-23T00:00:00.000000000\",\"2024-10-24T00:00:00.000000000\",\"2024-10-25T00:00:00.000000000\",\"2024-10-28T00:00:00.000000000\",\"2024-10-29T00:00:00.000000000\",\"2024-10-30T00:00:00.000000000\",\"2024-10-31T00:00:00.000000000\",\"2024-11-01T00:00:00.000000000\",\"2024-11-04T00:00:00.000000000\",\"2024-11-05T00:00:00.000000000\",\"2024-11-06T00:00:00.000000000\",\"2024-11-07T00:00:00.000000000\",\"2024-11-08T00:00:00.000000000\",\"2024-11-11T00:00:00.000000000\",\"2024-11-12T00:00:00.000000000\",\"2024-11-13T00:00:00.000000000\",\"2024-11-14T00:00:00.000000000\",\"2024-11-15T00:00:00.000000000\",\"2024-11-18T00:00:00.000000000\",\"2024-11-19T00:00:00.000000000\",\"2024-11-20T00:00:00.000000000\",\"2024-11-21T00:00:00.000000000\",\"2024-11-22T00:00:00.000000000\",\"2024-11-25T00:00:00.000000000\",\"2024-11-26T00:00:00.000000000\",\"2024-11-27T00:00:00.000000000\",\"2024-11-29T00:00:00.000000000\",\"2024-12-02T00:00:00.000000000\",\"2024-12-03T00:00:00.000000000\",\"2024-12-04T00:00:00.000000000\",\"2024-12-05T00:00:00.000000000\",\"2024-12-06T00:00:00.000000000\",\"2024-12-09T00:00:00.000000000\",\"2024-12-10T00:00:00.000000000\",\"2024-12-11T00:00:00.000000000\",\"2024-12-12T00:00:00.000000000\",\"2024-12-13T00:00:00.000000000\",\"2024-12-16T00:00:00.000000000\",\"2024-12-17T00:00:00.000000000\",\"2024-12-18T00:00:00.000000000\",\"2024-12-19T00:00:00.000000000\",\"2024-12-20T00:00:00.000000000\",\"2024-12-23T00:00:00.000000000\",\"2024-12-24T00:00:00.000000000\",\"2024-12-26T00:00:00.000000000\",\"2024-12-27T00:00:00.000000000\",\"2024-12-30T00:00:00.000000000\",\"2024-12-31T00:00:00.000000000\",\"2025-01-02T00:00:00.000000000\",\"2025-01-03T00:00:00.000000000\",\"2025-01-06T00:00:00.000000000\",\"2025-01-07T00:00:00.000000000\",\"2025-01-08T00:00:00.000000000\",\"2025-01-10T00:00:00.000000000\",\"2025-01-13T00:00:00.000000000\",\"2025-01-14T00:00:00.000000000\",\"2025-01-15T00:00:00.000000000\",\"2025-01-16T00:00:00.000000000\",\"2025-01-17T00:00:00.000000000\",\"2025-01-21T00:00:00.000000000\",\"2025-01-22T00:00:00.000000000\",\"2025-01-23T00:00:00.000000000\",\"2025-01-24T00:00:00.000000000\",\"2025-01-27T00:00:00.000000000\",\"2025-01-28T00:00:00.000000000\",\"2025-01-29T00:00:00.000000000\",\"2025-01-30T00:00:00.000000000\",\"2025-01-31T00:00:00.000000000\",\"2025-02-03T00:00:00.000000000\",\"2025-02-04T00:00:00.000000000\",\"2025-02-05T00:00:00.000000000\",\"2025-02-06T00:00:00.000000000\",\"2025-02-07T00:00:00.000000000\",\"2025-02-10T00:00:00.000000000\",\"2025-02-11T00:00:00.000000000\",\"2025-02-12T00:00:00.000000000\",\"2025-02-13T00:00:00.000000000\",\"2025-02-14T00:00:00.000000000\",\"2025-02-18T00:00:00.000000000\",\"2025-02-19T00:00:00.000000000\"],\"type\":\"candlestick\"},{\"line\":{\"color\":\"blue\"},\"name\":\"SMA10\",\"x\":[\"2024-02-20T00:00:00.000000000\",\"2024-02-21T00:00:00.000000000\",\"2024-02-22T00:00:00.000000000\",\"2024-02-23T00:00:00.000000000\",\"2024-02-26T00:00:00.000000000\",\"2024-02-27T00:00:00.000000000\",\"2024-02-28T00:00:00.000000000\",\"2024-02-29T00:00:00.000000000\",\"2024-03-01T00:00:00.000000000\",\"2024-03-04T00:00:00.000000000\",\"2024-03-05T00:00:00.000000000\",\"2024-03-06T00:00:00.000000000\",\"2024-03-07T00:00:00.000000000\",\"2024-03-08T00:00:00.000000000\",\"2024-03-11T00:00:00.000000000\",\"2024-03-12T00:00:00.000000000\",\"2024-03-13T00:00:00.000000000\",\"2024-03-14T00:00:00.000000000\",\"2024-03-15T00:00:00.000000000\",\"2024-03-18T00:00:00.000000000\",\"2024-03-19T00:00:00.000000000\",\"2024-03-20T00:00:00.000000000\",\"2024-03-21T00:00:00.000000000\",\"2024-03-22T00:00:00.000000000\",\"2024-03-25T00:00:00.000000000\",\"2024-03-26T00:00:00.000000000\",\"2024-03-27T00:00:00.000000000\",\"2024-03-28T00:00:00.000000000\",\"2024-04-01T00:00:00.000000000\",\"2024-04-02T00:00:00.000000000\",\"2024-04-03T00:00:00.000000000\",\"2024-04-04T00:00:00.000000000\",\"2024-04-05T00:00:00.000000000\",\"2024-04-08T00:00:00.000000000\",\"2024-04-09T00:00:00.000000000\",\"2024-04-10T00:00:00.000000000\",\"2024-04-11T00:00:00.000000000\",\"2024-04-12T00:00:00.000000000\",\"2024-04-15T00:00:00.000000000\",\"2024-04-16T00:00:00.000000000\",\"2024-04-17T00:00:00.000000000\",\"2024-04-18T00:00:00.000000000\",\"2024-04-19T00:00:00.000000000\",\"2024-04-22T00:00:00.000000000\",\"2024-04-23T00:00:00.000000000\",\"2024-04-24T00:00:00.000000000\",\"2024-04-25T00:00:00.000000000\",\"2024-04-26T00:00:00.000000000\",\"2024-04-29T00:00:00.000000000\",\"2024-04-30T00:00:00.000000000\",\"2024-05-01T00:00:00.000000000\",\"2024-05-02T00:00:00.000000000\",\"2024-05-03T00:00:00.000000000\",\"2024-05-06T00:00:00.000000000\",\"2024-05-07T00:00:00.000000000\",\"2024-05-08T00:00:00.000000000\",\"2024-05-09T00:00:00.000000000\",\"2024-05-10T00:00:00.000000000\",\"2024-05-13T00:00:00.000000000\",\"2024-05-14T00:00:00.000000000\",\"2024-05-15T00:00:00.000000000\",\"2024-05-16T00:00:00.000000000\",\"2024-05-17T00:00:00.000000000\",\"2024-05-20T00:00:00.000000000\",\"2024-05-21T00:00:00.000000000\",\"2024-05-22T00:00:00.000000000\",\"2024-05-23T00:00:00.000000000\",\"2024-05-24T00:00:00.000000000\",\"2024-05-28T00:00:00.000000000\",\"2024-05-29T00:00:00.000000000\",\"2024-05-30T00:00:00.000000000\",\"2024-05-31T00:00:00.000000000\",\"2024-06-03T00:00:00.000000000\",\"2024-06-04T00:00:00.000000000\",\"2024-06-05T00:00:00.000000000\",\"2024-06-06T00:00:00.000000000\",\"2024-06-07T00:00:00.000000000\",\"2024-06-10T00:00:00.000000000\",\"2024-06-11T00:00:00.000000000\",\"2024-06-12T00:00:00.000000000\",\"2024-06-13T00:00:00.000000000\",\"2024-06-14T00:00:00.000000000\",\"2024-06-17T00:00:00.000000000\",\"2024-06-18T00:00:00.000000000\",\"2024-06-20T00:00:00.000000000\",\"2024-06-21T00:00:00.000000000\",\"2024-06-24T00:00:00.000000000\",\"2024-06-25T00:00:00.000000000\",\"2024-06-26T00:00:00.000000000\",\"2024-06-27T00:00:00.000000000\",\"2024-06-28T00:00:00.000000000\",\"2024-07-01T00:00:00.000000000\",\"2024-07-02T00:00:00.000000000\",\"2024-07-03T00:00:00.000000000\",\"2024-07-05T00:00:00.000000000\",\"2024-07-08T00:00:00.000000000\",\"2024-07-09T00:00:00.000000000\",\"2024-07-10T00:00:00.000000000\",\"2024-07-11T00:00:00.000000000\",\"2024-07-12T00:00:00.000000000\",\"2024-07-15T00:00:00.000000000\",\"2024-07-16T00:00:00.000000000\",\"2024-07-17T00:00:00.000000000\",\"2024-07-18T00:00:00.000000000\",\"2024-07-19T00:00:00.000000000\",\"2024-07-22T00:00:00.000000000\",\"2024-07-23T00:00:00.000000000\",\"2024-07-24T00:00:00.000000000\",\"2024-07-25T00:00:00.000000000\",\"2024-07-26T00:00:00.000000000\",\"2024-07-29T00:00:00.000000000\",\"2024-07-30T00:00:00.000000000\",\"2024-07-31T00:00:00.000000000\",\"2024-08-01T00:00:00.000000000\",\"2024-08-02T00:00:00.000000000\",\"2024-08-05T00:00:00.000000000\",\"2024-08-06T00:00:00.000000000\",\"2024-08-07T00:00:00.000000000\",\"2024-08-08T00:00:00.000000000\",\"2024-08-09T00:00:00.000000000\",\"2024-08-12T00:00:00.000000000\",\"2024-08-13T00:00:00.000000000\",\"2024-08-14T00:00:00.000000000\",\"2024-08-15T00:00:00.000000000\",\"2024-08-16T00:00:00.000000000\",\"2024-08-19T00:00:00.000000000\",\"2024-08-20T00:00:00.000000000\",\"2024-08-21T00:00:00.000000000\",\"2024-08-22T00:00:00.000000000\",\"2024-08-23T00:00:00.000000000\",\"2024-08-26T00:00:00.000000000\",\"2024-08-27T00:00:00.000000000\",\"2024-08-28T00:00:00.000000000\",\"2024-08-29T00:00:00.000000000\",\"2024-08-30T00:00:00.000000000\",\"2024-09-03T00:00:00.000000000\",\"2024-09-04T00:00:00.000000000\",\"2024-09-05T00:00:00.000000000\",\"2024-09-06T00:00:00.000000000\",\"2024-09-09T00:00:00.000000000\",\"2024-09-10T00:00:00.000000000\",\"2024-09-11T00:00:00.000000000\",\"2024-09-12T00:00:00.000000000\",\"2024-09-13T00:00:00.000000000\",\"2024-09-16T00:00:00.000000000\",\"2024-09-17T00:00:00.000000000\",\"2024-09-18T00:00:00.000000000\",\"2024-09-19T00:00:00.000000000\",\"2024-09-20T00:00:00.000000000\",\"2024-09-23T00:00:00.000000000\",\"2024-09-24T00:00:00.000000000\",\"2024-09-25T00:00:00.000000000\",\"2024-09-26T00:00:00.000000000\",\"2024-09-27T00:00:00.000000000\",\"2024-09-30T00:00:00.000000000\",\"2024-10-01T00:00:00.000000000\",\"2024-10-02T00:00:00.000000000\",\"2024-10-03T00:00:00.000000000\",\"2024-10-04T00:00:00.000000000\",\"2024-10-07T00:00:00.000000000\",\"2024-10-08T00:00:00.000000000\",\"2024-10-09T00:00:00.000000000\",\"2024-10-10T00:00:00.000000000\",\"2024-10-11T00:00:00.000000000\",\"2024-10-14T00:00:00.000000000\",\"2024-10-15T00:00:00.000000000\",\"2024-10-16T00:00:00.000000000\",\"2024-10-17T00:00:00.000000000\",\"2024-10-18T00:00:00.000000000\",\"2024-10-21T00:00:00.000000000\",\"2024-10-22T00:00:00.000000000\",\"2024-10-23T00:00:00.000000000\",\"2024-10-24T00:00:00.000000000\",\"2024-10-25T00:00:00.000000000\",\"2024-10-28T00:00:00.000000000\",\"2024-10-29T00:00:00.000000000\",\"2024-10-30T00:00:00.000000000\",\"2024-10-31T00:00:00.000000000\",\"2024-11-01T00:00:00.000000000\",\"2024-11-04T00:00:00.000000000\",\"2024-11-05T00:00:00.000000000\",\"2024-11-06T00:00:00.000000000\",\"2024-11-07T00:00:00.000000000\",\"2024-11-08T00:00:00.000000000\",\"2024-11-11T00:00:00.000000000\",\"2024-11-12T00:00:00.000000000\",\"2024-11-13T00:00:00.000000000\",\"2024-11-14T00:00:00.000000000\",\"2024-11-15T00:00:00.000000000\",\"2024-11-18T00:00:00.000000000\",\"2024-11-19T00:00:00.000000000\",\"2024-11-20T00:00:00.000000000\",\"2024-11-21T00:00:00.000000000\",\"2024-11-22T00:00:00.000000000\",\"2024-11-25T00:00:00.000000000\",\"2024-11-26T00:00:00.000000000\",\"2024-11-27T00:00:00.000000000\",\"2024-11-29T00:00:00.000000000\",\"2024-12-02T00:00:00.000000000\",\"2024-12-03T00:00:00.000000000\",\"2024-12-04T00:00:00.000000000\",\"2024-12-05T00:00:00.000000000\",\"2024-12-06T00:00:00.000000000\",\"2024-12-09T00:00:00.000000000\",\"2024-12-10T00:00:00.000000000\",\"2024-12-11T00:00:00.000000000\",\"2024-12-12T00:00:00.000000000\",\"2024-12-13T00:00:00.000000000\",\"2024-12-16T00:00:00.000000000\",\"2024-12-17T00:00:00.000000000\",\"2024-12-18T00:00:00.000000000\",\"2024-12-19T00:00:00.000000000\",\"2024-12-20T00:00:00.000000000\",\"2024-12-23T00:00:00.000000000\",\"2024-12-24T00:00:00.000000000\",\"2024-12-26T00:00:00.000000000\",\"2024-12-27T00:00:00.000000000\",\"2024-12-30T00:00:00.000000000\",\"2024-12-31T00:00:00.000000000\",\"2025-01-02T00:00:00.000000000\",\"2025-01-03T00:00:00.000000000\",\"2025-01-06T00:00:00.000000000\",\"2025-01-07T00:00:00.000000000\",\"2025-01-08T00:00:00.000000000\",\"2025-01-10T00:00:00.000000000\",\"2025-01-13T00:00:00.000000000\",\"2025-01-14T00:00:00.000000000\",\"2025-01-15T00:00:00.000000000\",\"2025-01-16T00:00:00.000000000\",\"2025-01-17T00:00:00.000000000\",\"2025-01-21T00:00:00.000000000\",\"2025-01-22T00:00:00.000000000\",\"2025-01-23T00:00:00.000000000\",\"2025-01-24T00:00:00.000000000\",\"2025-01-27T00:00:00.000000000\",\"2025-01-28T00:00:00.000000000\",\"2025-01-29T00:00:00.000000000\",\"2025-01-30T00:00:00.000000000\",\"2025-01-31T00:00:00.000000000\",\"2025-02-03T00:00:00.000000000\",\"2025-02-04T00:00:00.000000000\",\"2025-02-05T00:00:00.000000000\",\"2025-02-06T00:00:00.000000000\",\"2025-02-07T00:00:00.000000000\",\"2025-02-10T00:00:00.000000000\",\"2025-02-11T00:00:00.000000000\",\"2025-02-12T00:00:00.000000000\",\"2025-02-13T00:00:00.000000000\",\"2025-02-14T00:00:00.000000000\",\"2025-02-18T00:00:00.000000000\",\"2025-02-19T00:00:00.000000000\"],\"y\":{\"dtype\":\"f8\",\"bdata\":\"AAAAAAAA+H8AAAAAAAD4fwAAAAAAAPh\\u002fAAAAAAAA+H8AAAAAAAD4fwAAAAAAAPh\\u002fAAAAAAAA+H8AAAAAAAD4fwAAAAAAAPh\\u002fzczMfIaJZkBmZmbmFmVmQAAAAEAMO2ZAAAAAUBgKZkBmZmZWi+RlQAAAAEDCyWVAMzMz89GrZUAAAAAADItlQJqZmQldcmVAMzMz8\\u002fBbZUAAAADAi1dlQM3MzDyHamVAZmZm1vGIZUBmZmY2fpBlQDMzMwNulWVAmpmZ2WCPZUBmZmbWKoRlQJqZmUkci2VAAAAA8ESGZUAzMzMzBX5lQJqZmUl6bmVAMzMzk\\u002f9ZZUAzMzNjoDplQAAAAPDsNGVAZmZmJrooZUCamZkJ+CRlQGZmZmbSHmVAMzMz81QkZUCamZnJejRlQM3MzJzzPGVAmpmZ6as+ZUBmZmaWajllQAAAAEC\\u002fM2VAzczM7CglZUDNzMzc2BxlQDMzM1MGFGVAAAAAYPkXZUAzMzNTkgdlQJqZmQl78GRAmpmZeQ\\u002fzZEDNzMwMFvZkQDMzMwM6+mRAmpmZ+U0NZUDNzMwc2EdlQJqZmbljemVAmpmZqcGrZUAAAABAdNdlQM3MzJw1BmZAzczMHMsyZkCamZlJTVxmQM3MzAyTk2ZAMzMzU27VZkDNzMxMygtnQGZmZuZHIWdAAAAAYNI\\u002fZ0BmZmbWV2BnQGZmZjYoe2dAMzMzU1KDZ0DNzMxcbJlnQJqZmWlBpWdAmpmZeWCuZ0DNzMxMYrNnQDMzM\\u002fMRu2dAmpmZaVbIZ0AzMzPj5NJnQM3MzMwe3mdAZmZmtonpZ0DNzMxsdgloQJqZmRl6E2hAmpmZeTRKaECamZlZ25JoQGZmZgYN3GhAzczMHJocaUDNzMyszmRpQJqZmclmpGlAzczMDHLQaUBmZmYm8PlpQJqZmUnRHWpAMzMzw69QakCamZkpJGRqQM3MzBxtZ2pAMzMzg+FbakCamZmZd2lqQGZmZtbydGpAAAAAUBqMakBmZmZ2PMFqQDMzMwMTAmtAMzMzA5VDa0BmZmZ21o9rQM3MzByCvWtAMzMzo\\u002fDxa0CamZn5xz1sQGZmZlZpd2xAZmZmBt+SbEDNzMxMQptsQDMzM+PIlGxAAAAAYHmIbEDNzMz8xHxsQAAAAGC3TmxAAAAAgJEubEAAAACAcgZsQDMzM5Po0mtAMzMz89Cfa0DNzMwMIYprQGZmZkaRd2tAAAAAEGBpa0AzMzNThjprQAAAAMDRAWtAAAAAQALmakBmZmZ2rdhqQJqZmSkx02pAzczMDLvRakDNzMzMbNpqQJqZmWkY2mpAMzMzczXvakAAAADwyANrQGZmZuafOWtAmpmZOfN3a0AzMzMDqq1rQGZmZtZG0mtAAAAAoOv0a0CamZmJuxNsQJqZmSlRKWxAmpmZKYw4bEAzMzNjvEhsQGZmZrYnUmxAmpmZaTFIbEDNzMzsHjZsQJqZmflIKWxAzczMbHAdbEDNzMw8gQpsQJqZmTnu82tAmpmZycjia0DNzMwM6NZrQDMzMzOhv2tAAAAAkCSXa0AAAACADIRrQGZmZraJg2tAZmZmpkKYa0DNzMwM069rQM3MzMyTwWtAAAAAIMLYa0AAAACwmuRrQJqZmVnF82tAMzMzY6kEbEAzMzOj6zlsQDMzM5P\\u002fV2xAzczMjHFrbEDNzMzcOWFsQDMzM4PBXGxAZmZmVn5NbEAAAACAYkhsQJqZmamBUmxAzczMHFxXbEAzMzPzl1ZsQM3MzFwqUWxAzczMTI9pbEDNzMxMhnlsQAAAABA3jmxAzczMvGWobECamZkZn9dsQM3MzKzW92xAZmZm5rv7bECamZmJngBtQDMzM7PxDG1AzczMPKYTbUCamZkZExNtQM3MzNy1DW1AmpmZScn5bECamZnpLtNsQM3MzBz7pGxAmpmZKVt9bEAzMzNDr2NsQJqZmXnRWWxAZmZmJmhMbEDNzMw86i9sQAAAAKCPEmxAzczMbHMDbEDNzMzcoAtsQDMzM5MXE2xAmpmZORUnbEAAAACQTjdsQGZmZsYpTGxAMzMzY0lQbEAzMzOjlllsQAAAAMA0dWxAAAAA8NKXbEBmZmZ2LrdsQM3MzCxN1GxAzczMLPACbUBmZmbmszFtQGZmZnbJYG1AZmZmZqqNbUAzMzNzcLttQM3MzFxl8W1AmpmZCQYhbkBmZmY2j0VuQM3MzKw1b25AAAAAULuRbkCamZnZVLZuQJqZmQnz2G5AZmZmRg\\u002fpbkDNzMzMov5uQDMzMwPgI29AAAAA8Bs\\u002fb0AzMzPTcmBvQM3MzByAiG9AzczMvOOgb0CamZk55q1vQDMzM+Pqq29AzczMrCKNb0CamZnZJH5vQDMzMzPVbm9AmpmZeZRHb0DNzMxsZh9vQDMzM7Mn225AmpmZKXWMbkAAAADgJEVuQAAAAKBWF25AZmZmFoHQbUAAAABAK6RtQAAAABDwYW1AMzMzo0QebUCamZkp+eJsQAAAAKBMo2xAMzMzs\\u002fSMbEBmZmZWS5lsQM3MzJy6rGxAzczMfNWrbEAzMzMjk8RsQGZmZhZHvmxAZmZmBsHebEBmZmYmX\\u002fpsQJqZmRnuGG1AzczM3G4obUDNzMw8KyJtQAAAAFD1EG1AmpmZ2dQJbUAzMzNDRhdtQGZmZrafM21AMzMz4xhpbUAzMzMTipBtQA==\"},\"type\":\"scatter\"},{\"line\":{\"color\":\"red\"},\"name\":\"SMA20\",\"x\":[\"2024-02-20T00:00:00.000000000\",\"2024-02-21T00:00:00.000000000\",\"2024-02-22T00:00:00.000000000\",\"2024-02-23T00:00:00.000000000\",\"2024-02-26T00:00:00.000000000\",\"2024-02-27T00:00:00.000000000\",\"2024-02-28T00:00:00.000000000\",\"2024-02-29T00:00:00.000000000\",\"2024-03-01T00:00:00.000000000\",\"2024-03-04T00:00:00.000000000\",\"2024-03-05T00:00:00.000000000\",\"2024-03-06T00:00:00.000000000\",\"2024-03-07T00:00:00.000000000\",\"2024-03-08T00:00:00.000000000\",\"2024-03-11T00:00:00.000000000\",\"2024-03-12T00:00:00.000000000\",\"2024-03-13T00:00:00.000000000\",\"2024-03-14T00:00:00.000000000\",\"2024-03-15T00:00:00.000000000\",\"2024-03-18T00:00:00.000000000\",\"2024-03-19T00:00:00.000000000\",\"2024-03-20T00:00:00.000000000\",\"2024-03-21T00:00:00.000000000\",\"2024-03-22T00:00:00.000000000\",\"2024-03-25T00:00:00.000000000\",\"2024-03-26T00:00:00.000000000\",\"2024-03-27T00:00:00.000000000\",\"2024-03-28T00:00:00.000000000\",\"2024-04-01T00:00:00.000000000\",\"2024-04-02T00:00:00.000000000\",\"2024-04-03T00:00:00.000000000\",\"2024-04-04T00:00:00.000000000\",\"2024-04-05T00:00:00.000000000\",\"2024-04-08T00:00:00.000000000\",\"2024-04-09T00:00:00.000000000\",\"2024-04-10T00:00:00.000000000\",\"2024-04-11T00:00:00.000000000\",\"2024-04-12T00:00:00.000000000\",\"2024-04-15T00:00:00.000000000\",\"2024-04-16T00:00:00.000000000\",\"2024-04-17T00:00:00.000000000\",\"2024-04-18T00:00:00.000000000\",\"2024-04-19T00:00:00.000000000\",\"2024-04-22T00:00:00.000000000\",\"2024-04-23T00:00:00.000000000\",\"2024-04-24T00:00:00.000000000\",\"2024-04-25T00:00:00.000000000\",\"2024-04-26T00:00:00.000000000\",\"2024-04-29T00:00:00.000000000\",\"2024-04-30T00:00:00.000000000\",\"2024-05-01T00:00:00.000000000\",\"2024-05-02T00:00:00.000000000\",\"2024-05-03T00:00:00.000000000\",\"2024-05-06T00:00:00.000000000\",\"2024-05-07T00:00:00.000000000\",\"2024-05-08T00:00:00.000000000\",\"2024-05-09T00:00:00.000000000\",\"2024-05-10T00:00:00.000000000\",\"2024-05-13T00:00:00.000000000\",\"2024-05-14T00:00:00.000000000\",\"2024-05-15T00:00:00.000000000\",\"2024-05-16T00:00:00.000000000\",\"2024-05-17T00:00:00.000000000\",\"2024-05-20T00:00:00.000000000\",\"2024-05-21T00:00:00.000000000\",\"2024-05-22T00:00:00.000000000\",\"2024-05-23T00:00:00.000000000\",\"2024-05-24T00:00:00.000000000\",\"2024-05-28T00:00:00.000000000\",\"2024-05-29T00:00:00.000000000\",\"2024-05-30T00:00:00.000000000\",\"2024-05-31T00:00:00.000000000\",\"2024-06-03T00:00:00.000000000\",\"2024-06-04T00:00:00.000000000\",\"2024-06-05T00:00:00.000000000\",\"2024-06-06T00:00:00.000000000\",\"2024-06-07T00:00:00.000000000\",\"2024-06-10T00:00:00.000000000\",\"2024-06-11T00:00:00.000000000\",\"2024-06-12T00:00:00.000000000\",\"2024-06-13T00:00:00.000000000\",\"2024-06-14T00:00:00.000000000\",\"2024-06-17T00:00:00.000000000\",\"2024-06-18T00:00:00.000000000\",\"2024-06-20T00:00:00.000000000\",\"2024-06-21T00:00:00.000000000\",\"2024-06-24T00:00:00.000000000\",\"2024-06-25T00:00:00.000000000\",\"2024-06-26T00:00:00.000000000\",\"2024-06-27T00:00:00.000000000\",\"2024-06-28T00:00:00.000000000\",\"2024-07-01T00:00:00.000000000\",\"2024-07-02T00:00:00.000000000\",\"2024-07-03T00:00:00.000000000\",\"2024-07-05T00:00:00.000000000\",\"2024-07-08T00:00:00.000000000\",\"2024-07-09T00:00:00.000000000\",\"2024-07-10T00:00:00.000000000\",\"2024-07-11T00:00:00.000000000\",\"2024-07-12T00:00:00.000000000\",\"2024-07-15T00:00:00.000000000\",\"2024-07-16T00:00:00.000000000\",\"2024-07-17T00:00:00.000000000\",\"2024-07-18T00:00:00.000000000\",\"2024-07-19T00:00:00.000000000\",\"2024-07-22T00:00:00.000000000\",\"2024-07-23T00:00:00.000000000\",\"2024-07-24T00:00:00.000000000\",\"2024-07-25T00:00:00.000000000\",\"2024-07-26T00:00:00.000000000\",\"2024-07-29T00:00:00.000000000\",\"2024-07-30T00:00:00.000000000\",\"2024-07-31T00:00:00.000000000\",\"2024-08-01T00:00:00.000000000\",\"2024-08-02T00:00:00.000000000\",\"2024-08-05T00:00:00.000000000\",\"2024-08-06T00:00:00.000000000\",\"2024-08-07T00:00:00.000000000\",\"2024-08-08T00:00:00.000000000\",\"2024-08-09T00:00:00.000000000\",\"2024-08-12T00:00:00.000000000\",\"2024-08-13T00:00:00.000000000\",\"2024-08-14T00:00:00.000000000\",\"2024-08-15T00:00:00.000000000\",\"2024-08-16T00:00:00.000000000\",\"2024-08-19T00:00:00.000000000\",\"2024-08-20T00:00:00.000000000\",\"2024-08-21T00:00:00.000000000\",\"2024-08-22T00:00:00.000000000\",\"2024-08-23T00:00:00.000000000\",\"2024-08-26T00:00:00.000000000\",\"2024-08-27T00:00:00.000000000\",\"2024-08-28T00:00:00.000000000\",\"2024-08-29T00:00:00.000000000\",\"2024-08-30T00:00:00.000000000\",\"2024-09-03T00:00:00.000000000\",\"2024-09-04T00:00:00.000000000\",\"2024-09-05T00:00:00.000000000\",\"2024-09-06T00:00:00.000000000\",\"2024-09-09T00:00:00.000000000\",\"2024-09-10T00:00:00.000000000\",\"2024-09-11T00:00:00.000000000\",\"2024-09-12T00:00:00.000000000\",\"2024-09-13T00:00:00.000000000\",\"2024-09-16T00:00:00.000000000\",\"2024-09-17T00:00:00.000000000\",\"2024-09-18T00:00:00.000000000\",\"2024-09-19T00:00:00.000000000\",\"2024-09-20T00:00:00.000000000\",\"2024-09-23T00:00:00.000000000\",\"2024-09-24T00:00:00.000000000\",\"2024-09-25T00:00:00.000000000\",\"2024-09-26T00:00:00.000000000\",\"2024-09-27T00:00:00.000000000\",\"2024-09-30T00:00:00.000000000\",\"2024-10-01T00:00:00.000000000\",\"2024-10-02T00:00:00.000000000\",\"2024-10-03T00:00:00.000000000\",\"2024-10-04T00:00:00.000000000\",\"2024-10-07T00:00:00.000000000\",\"2024-10-08T00:00:00.000000000\",\"2024-10-09T00:00:00.000000000\",\"2024-10-10T00:00:00.000000000\",\"2024-10-11T00:00:00.000000000\",\"2024-10-14T00:00:00.000000000\",\"2024-10-15T00:00:00.000000000\",\"2024-10-16T00:00:00.000000000\",\"2024-10-17T00:00:00.000000000\",\"2024-10-18T00:00:00.000000000\",\"2024-10-21T00:00:00.000000000\",\"2024-10-22T00:00:00.000000000\",\"2024-10-23T00:00:00.000000000\",\"2024-10-24T00:00:00.000000000\",\"2024-10-25T00:00:00.000000000\",\"2024-10-28T00:00:00.000000000\",\"2024-10-29T00:00:00.000000000\",\"2024-10-30T00:00:00.000000000\",\"2024-10-31T00:00:00.000000000\",\"2024-11-01T00:00:00.000000000\",\"2024-11-04T00:00:00.000000000\",\"2024-11-05T00:00:00.000000000\",\"2024-11-06T00:00:00.000000000\",\"2024-11-07T00:00:00.000000000\",\"2024-11-08T00:00:00.000000000\",\"2024-11-11T00:00:00.000000000\",\"2024-11-12T00:00:00.000000000\",\"2024-11-13T00:00:00.000000000\",\"2024-11-14T00:00:00.000000000\",\"2024-11-15T00:00:00.000000000\",\"2024-11-18T00:00:00.000000000\",\"2024-11-19T00:00:00.000000000\",\"2024-11-20T00:00:00.000000000\",\"2024-11-21T00:00:00.000000000\",\"2024-11-22T00:00:00.000000000\",\"2024-11-25T00:00:00.000000000\",\"2024-11-26T00:00:00.000000000\",\"2024-11-27T00:00:00.000000000\",\"2024-11-29T00:00:00.000000000\",\"2024-12-02T00:00:00.000000000\",\"2024-12-03T00:00:00.000000000\",\"2024-12-04T00:00:00.000000000\",\"2024-12-05T00:00:00.000000000\",\"2024-12-06T00:00:00.000000000\",\"2024-12-09T00:00:00.000000000\",\"2024-12-10T00:00:00.000000000\",\"2024-12-11T00:00:00.000000000\",\"2024-12-12T00:00:00.000000000\",\"2024-12-13T00:00:00.000000000\",\"2024-12-16T00:00:00.000000000\",\"2024-12-17T00:00:00.000000000\",\"2024-12-18T00:00:00.000000000\",\"2024-12-19T00:00:00.000000000\",\"2024-12-20T00:00:00.000000000\",\"2024-12-23T00:00:00.000000000\",\"2024-12-24T00:00:00.000000000\",\"2024-12-26T00:00:00.000000000\",\"2024-12-27T00:00:00.000000000\",\"2024-12-30T00:00:00.000000000\",\"2024-12-31T00:00:00.000000000\",\"2025-01-02T00:00:00.000000000\",\"2025-01-03T00:00:00.000000000\",\"2025-01-06T00:00:00.000000000\",\"2025-01-07T00:00:00.000000000\",\"2025-01-08T00:00:00.000000000\",\"2025-01-10T00:00:00.000000000\",\"2025-01-13T00:00:00.000000000\",\"2025-01-14T00:00:00.000000000\",\"2025-01-15T00:00:00.000000000\",\"2025-01-16T00:00:00.000000000\",\"2025-01-17T00:00:00.000000000\",\"2025-01-21T00:00:00.000000000\",\"2025-01-22T00:00:00.000000000\",\"2025-01-23T00:00:00.000000000\",\"2025-01-24T00:00:00.000000000\",\"2025-01-27T00:00:00.000000000\",\"2025-01-28T00:00:00.000000000\",\"2025-01-29T00:00:00.000000000\",\"2025-01-30T00:00:00.000000000\",\"2025-01-31T00:00:00.000000000\",\"2025-02-03T00:00:00.000000000\",\"2025-02-04T00:00:00.000000000\",\"2025-02-05T00:00:00.000000000\",\"2025-02-06T00:00:00.000000000\",\"2025-02-07T00:00:00.000000000\",\"2025-02-10T00:00:00.000000000\",\"2025-02-11T00:00:00.000000000\",\"2025-02-12T00:00:00.000000000\",\"2025-02-13T00:00:00.000000000\",\"2025-02-14T00:00:00.000000000\",\"2025-02-18T00:00:00.000000000\",\"2025-02-19T00:00:00.000000000\"],\"y\":{\"dtype\":\"f8\",\"bdata\":\"AAAAAAAA+H8AAAAAAAD4fwAAAAAAAPh\\u002fAAAAAAAA+H8AAAAAAAD4fwAAAAAAAPh\\u002fAAAAAAAA+H8AAAAAAAD4fwAAAAAAAPh\\u002fAAAAAAAA+H8AAAAAAAD4fwAAAAAAAPh\\u002fAAAAAAAA+H8AAAAAAAD4fwAAAAAAAPh\\u002fAAAAAAAA+H8AAAAAAAD4fwAAAAAAAPh\\u002fAAAAAAAA+H9mZmYeifBlQJqZmRHP52VAMzMzC\\u002f\\u002fhZUAzMzNDS81lQM3MzKz8vGVAzczMjJGsZUDNzMxk\\u002fpdlQM3MzCQUi2VAzczM\\u002fFB8ZUAzMzMT+2xlQM3MzAQDY2VAAAAAaENiZUDNzMwcyWFlQDMzM5O1YmVAzczMFBRfZUCamZlxLFplQGZmZp5+UWVAZmZmnrhXZUDNzMzcX11lQAAAAGh8XWVAmpmZGZNWZUDNzMwUtUllQJqZmdEvN2VAZmZm7gotZUCamZmBySJlQGZmZi5\\u002fHGVAMzMz42UbZUAzMzOj8xVlQJqZmel6EmVAMzMziwEYZUAzMzP7YBplQM3MzEzSGWVAzczMnIYgZUDNzMyEgDZlQDMzM0ueS2VAZmZm\\u002fuNfZUAAAADQtndlQAAAAPjjhmVAMzMzE6ORZUCamZlhrqdlQM3MzIzUxGVAMzMzK9TnZUAzMzMjjAxmQJqZmQGQNGZAzczMDBtdZkAAAADADIZmQDMzMztOqWZAAAAA+MPEZkDNzMy8G+ZmQJqZmVnHAGdAMzMzw\\u002fkgZ0AAAABQaERnQAAAACBuY2dAAAAAKM90Z0CamZmhW4lnQJqZmVE7n2dAZmZm9liyZ0AAAABgZMZnQDMzMztz1mdAmpmZ8br3Z0CamZnpnSBoQJqZmam3R2hAAAAACNZraEAzMzOLkpZoQGZmZtalu2hAzczMbEjXaEBmZmbuvPFoQDMzM9ujE2lAZmZm7hQyaUCamZlRLFdpQDMzMzskfWlAzczMRPebaUAzMzPbCMNpQJqZmcHg7GlAzczMjEAYakCamZlB10hqQM3MzJQBfmpAZmZmJrOwakDNzMwcQ\\u002fBqQDMzMyPTEGtAAAAA4K4sa0BmZma+1ExrQAAAAHhwcGtAZmZm7uiDa0BmZmZOrpNrQM3MzKwCq2tAmpmZMUbFa0AAAAAALeBrQDMzM+tG72tAZmZmzgn2a0CamZmRMfxrQGZmZkZYCGxAzczMJJ0LbECamZkJgA5sQJqZmclpCWxAmpmZeRT\\u002fa0CamZnZf+FrQGZmZl5Lv2tAAAAA0Fyaa0AzMzN7n4NrQM3MzNTRbGtAAAAA0FFSa0AAAADgHj1rQDMzM7scMmtAzczMXGMza0AAAACAlDZrQM3MzBwTOmtAzczMfOI8a0CamZkh1klrQGZmZiZ6VWtAzczMZA5ka0AzMzNLu3JrQDMzM\\u002fvegWtAmpmZSVKJa0AzMzPr+JtrQDMzM1P4qmtAAAAAqOjAa0AzMzMTCddrQGZmZn5562tAmpmZodv3a0BmZmZutv9rQJqZmeHUA2xAmpmZ+QwGbEAzMzMbugdsQDMzM8suBGxAMzMzI6b0a0DNzMz0HuZrQJqZmVHU3GtAAAAA0MXga0DNzMy8oeZrQM3MzIQK5mtAzczMLFjma0DNzMy8seNrQDMzM7NW5WtAMzMzSyXia0CamZkZiOhrQJqZmQkG7mtAmpmZoX33a0CamZlBvvxrQAAAAEhKBmxAmpmZEYkHbEAAAABQkhBsQM3MzCyOG2xAMzMzu5AlbEAzMzOroC1sQAAAAACLRWxAAAAAcMdgbEDNzMzse3JsQGZmZna4d2xAAAAAoJOCbEAAAAC4jpJsQGZmZpYcoGxAAAAAyB6nbEAzMzNT\\u002fatsQDMzM9PEsWxAzczMTGiybEAzMzMzUb5sQM3MzBSew2xAzczMLADEbEAzMzNTyr1sQDMzMxtNvmxAMzMz65i6bEDNzMyUta9sQJqZmQE4rWxAzczM7KysbEDNzMw8yKFsQM3MzFzRkmxAzczMpJSIbEAzMzMTtYJsQGZmZj4jc2xAMzMzKwhmbEDNzMzcVFpsQM3MzITsV2xAZmZmbg1VbEDNzMxk\\u002f1JsQGZmZn6PUmxAAAAASDFVbECamZnxUF1sQM3MzAT3b2xAAAAA4AOLbEAAAACQZKxsQDMzMwMMzGxAZmZmFursbEAzMzPr3AVtQAAAAAB+JW1AzczMZB1LbUAzMzMTsW5tQJqZmREyk21AZmZmPgSzbUAzMzODotxtQAAAAHhTBW5AZmZmXuwkbkCamZmZJkZuQDMzMzuob25AZmZmpkCYbkBmZmZuvMBuQJqZmakH525AzczMtAwIb0DNzMzE0B9vQGZmZt4fMW9AMzMz2wozb0AAAAAQmjNvQAAAAAC8Nm9AZmZmPro1b0BmZmYuQS9vQDMzM0PNHW9AMzMzo3oKb0BmZmZOBPNuQM3MzGye4m5AzczM\\u002fDW+bkBmZmb2pphuQM3MzHQKcG5AMzMz64xGbkCamZnRRhVuQGZmZoZZ4W1AMzMzMw60bUAAAABA4JJtQGZmZr7veG1AZmZmDpZhbUDNzMwcikptQDMzMys5MW1AMzMzi1ggbUDNzMzkUQxtQJqZmaHz\\u002fWxAZmZmvt3lbEAAAAD4j9dsQDMzM1Mg1WxAMzMzu0fbbEAAAADgjeFsQM3MzGwZ\\u002fGxAzczM\\u002fK8TbUDNzMyMpTdtQA==\"},\"type\":\"scatter\"},{\"line\":{\"color\":\"green\",\"dash\":\"dash\"},\"name\":\"BB Upper\",\"x\":[\"2024-02-20T00:00:00.000000000\",\"2024-02-21T00:00:00.000000000\",\"2024-02-22T00:00:00.000000000\",\"2024-02-23T00:00:00.000000000\",\"2024-02-26T00:00:00.000000000\",\"2024-02-27T00:00:00.000000000\",\"2024-02-28T00:00:00.000000000\",\"2024-02-29T00:00:00.000000000\",\"2024-03-01T00:00:00.000000000\",\"2024-03-04T00:00:00.000000000\",\"2024-03-05T00:00:00.000000000\",\"2024-03-06T00:00:00.000000000\",\"2024-03-07T00:00:00.000000000\",\"2024-03-08T00:00:00.000000000\",\"2024-03-11T00:00:00.000000000\",\"2024-03-12T00:00:00.000000000\",\"2024-03-13T00:00:00.000000000\",\"2024-03-14T00:00:00.000000000\",\"2024-03-15T00:00:00.000000000\",\"2024-03-18T00:00:00.000000000\",\"2024-03-19T00:00:00.000000000\",\"2024-03-20T00:00:00.000000000\",\"2024-03-21T00:00:00.000000000\",\"2024-03-22T00:00:00.000000000\",\"2024-03-25T00:00:00.000000000\",\"2024-03-26T00:00:00.000000000\",\"2024-03-27T00:00:00.000000000\",\"2024-03-28T00:00:00.000000000\",\"2024-04-01T00:00:00.000000000\",\"2024-04-02T00:00:00.000000000\",\"2024-04-03T00:00:00.000000000\",\"2024-04-04T00:00:00.000000000\",\"2024-04-05T00:00:00.000000000\",\"2024-04-08T00:00:00.000000000\",\"2024-04-09T00:00:00.000000000\",\"2024-04-10T00:00:00.000000000\",\"2024-04-11T00:00:00.000000000\",\"2024-04-12T00:00:00.000000000\",\"2024-04-15T00:00:00.000000000\",\"2024-04-16T00:00:00.000000000\",\"2024-04-17T00:00:00.000000000\",\"2024-04-18T00:00:00.000000000\",\"2024-04-19T00:00:00.000000000\",\"2024-04-22T00:00:00.000000000\",\"2024-04-23T00:00:00.000000000\",\"2024-04-24T00:00:00.000000000\",\"2024-04-25T00:00:00.000000000\",\"2024-04-26T00:00:00.000000000\",\"2024-04-29T00:00:00.000000000\",\"2024-04-30T00:00:00.000000000\",\"2024-05-01T00:00:00.000000000\",\"2024-05-02T00:00:00.000000000\",\"2024-05-03T00:00:00.000000000\",\"2024-05-06T00:00:00.000000000\",\"2024-05-07T00:00:00.000000000\",\"2024-05-08T00:00:00.000000000\",\"2024-05-09T00:00:00.000000000\",\"2024-05-10T00:00:00.000000000\",\"2024-05-13T00:00:00.000000000\",\"2024-05-14T00:00:00.000000000\",\"2024-05-15T00:00:00.000000000\",\"2024-05-16T00:00:00.000000000\",\"2024-05-17T00:00:00.000000000\",\"2024-05-20T00:00:00.000000000\",\"2024-05-21T00:00:00.000000000\",\"2024-05-22T00:00:00.000000000\",\"2024-05-23T00:00:00.000000000\",\"2024-05-24T00:00:00.000000000\",\"2024-05-28T00:00:00.000000000\",\"2024-05-29T00:00:00.000000000\",\"2024-05-30T00:00:00.000000000\",\"2024-05-31T00:00:00.000000000\",\"2024-06-03T00:00:00.000000000\",\"2024-06-04T00:00:00.000000000\",\"2024-06-05T00:00:00.000000000\",\"2024-06-06T00:00:00.000000000\",\"2024-06-07T00:00:00.000000000\",\"2024-06-10T00:00:00.000000000\",\"2024-06-11T00:00:00.000000000\",\"2024-06-12T00:00:00.000000000\",\"2024-06-13T00:00:00.000000000\",\"2024-06-14T00:00:00.000000000\",\"2024-06-17T00:00:00.000000000\",\"2024-06-18T00:00:00.000000000\",\"2024-06-20T00:00:00.000000000\",\"2024-06-21T00:00:00.000000000\",\"2024-06-24T00:00:00.000000000\",\"2024-06-25T00:00:00.000000000\",\"2024-06-26T00:00:00.000000000\",\"2024-06-27T00:00:00.000000000\",\"2024-06-28T00:00:00.000000000\",\"2024-07-01T00:00:00.000000000\",\"2024-07-02T00:00:00.000000000\",\"2024-07-03T00:00:00.000000000\",\"2024-07-05T00:00:00.000000000\",\"2024-07-08T00:00:00.000000000\",\"2024-07-09T00:00:00.000000000\",\"2024-07-10T00:00:00.000000000\",\"2024-07-11T00:00:00.000000000\",\"2024-07-12T00:00:00.000000000\",\"2024-07-15T00:00:00.000000000\",\"2024-07-16T00:00:00.000000000\",\"2024-07-17T00:00:00.000000000\",\"2024-07-18T00:00:00.000000000\",\"2024-07-19T00:00:00.000000000\",\"2024-07-22T00:00:00.000000000\",\"2024-07-23T00:00:00.000000000\",\"2024-07-24T00:00:00.000000000\",\"2024-07-25T00:00:00.000000000\",\"2024-07-26T00:00:00.000000000\",\"2024-07-29T00:00:00.000000000\",\"2024-07-30T00:00:00.000000000\",\"2024-07-31T00:00:00.000000000\",\"2024-08-01T00:00:00.000000000\",\"2024-08-02T00:00:00.000000000\",\"2024-08-05T00:00:00.000000000\",\"2024-08-06T00:00:00.000000000\",\"2024-08-07T00:00:00.000000000\",\"2024-08-08T00:00:00.000000000\",\"2024-08-09T00:00:00.000000000\",\"2024-08-12T00:00:00.000000000\",\"2024-08-13T00:00:00.000000000\",\"2024-08-14T00:00:00.000000000\",\"2024-08-15T00:00:00.000000000\",\"2024-08-16T00:00:00.000000000\",\"2024-08-19T00:00:00.000000000\",\"2024-08-20T00:00:00.000000000\",\"2024-08-21T00:00:00.000000000\",\"2024-08-22T00:00:00.000000000\",\"2024-08-23T00:00:00.000000000\",\"2024-08-26T00:00:00.000000000\",\"2024-08-27T00:00:00.000000000\",\"2024-08-28T00:00:00.000000000\",\"2024-08-29T00:00:00.000000000\",\"2024-08-30T00:00:00.000000000\",\"2024-09-03T00:00:00.000000000\",\"2024-09-04T00:00:00.000000000\",\"2024-09-05T00:00:00.000000000\",\"2024-09-06T00:00:00.000000000\",\"2024-09-09T00:00:00.000000000\",\"2024-09-10T00:00:00.000000000\",\"2024-09-11T00:00:00.000000000\",\"2024-09-12T00:00:00.000000000\",\"2024-09-13T00:00:00.000000000\",\"2024-09-16T00:00:00.000000000\",\"2024-09-17T00:00:00.000000000\",\"2024-09-18T00:00:00.000000000\",\"2024-09-19T00:00:00.000000000\",\"2024-09-20T00:00:00.000000000\",\"2024-09-23T00:00:00.000000000\",\"2024-09-24T00:00:00.000000000\",\"2024-09-25T00:00:00.000000000\",\"2024-09-26T00:00:00.000000000\",\"2024-09-27T00:00:00.000000000\",\"2024-09-30T00:00:00.000000000\",\"2024-10-01T00:00:00.000000000\",\"2024-10-02T00:00:00.000000000\",\"2024-10-03T00:00:00.000000000\",\"2024-10-04T00:00:00.000000000\",\"2024-10-07T00:00:00.000000000\",\"2024-10-08T00:00:00.000000000\",\"2024-10-09T00:00:00.000000000\",\"2024-10-10T00:00:00.000000000\",\"2024-10-11T00:00:00.000000000\",\"2024-10-14T00:00:00.000000000\",\"2024-10-15T00:00:00.000000000\",\"2024-10-16T00:00:00.000000000\",\"2024-10-17T00:00:00.000000000\",\"2024-10-18T00:00:00.000000000\",\"2024-10-21T00:00:00.000000000\",\"2024-10-22T00:00:00.000000000\",\"2024-10-23T00:00:00.000000000\",\"2024-10-24T00:00:00.000000000\",\"2024-10-25T00:00:00.000000000\",\"2024-10-28T00:00:00.000000000\",\"2024-10-29T00:00:00.000000000\",\"2024-10-30T00:00:00.000000000\",\"2024-10-31T00:00:00.000000000\",\"2024-11-01T00:00:00.000000000\",\"2024-11-04T00:00:00.000000000\",\"2024-11-05T00:00:00.000000000\",\"2024-11-06T00:00:00.000000000\",\"2024-11-07T00:00:00.000000000\",\"2024-11-08T00:00:00.000000000\",\"2024-11-11T00:00:00.000000000\",\"2024-11-12T00:00:00.000000000\",\"2024-11-13T00:00:00.000000000\",\"2024-11-14T00:00:00.000000000\",\"2024-11-15T00:00:00.000000000\",\"2024-11-18T00:00:00.000000000\",\"2024-11-19T00:00:00.000000000\",\"2024-11-20T00:00:00.000000000\",\"2024-11-21T00:00:00.000000000\",\"2024-11-22T00:00:00.000000000\",\"2024-11-25T00:00:00.000000000\",\"2024-11-26T00:00:00.000000000\",\"2024-11-27T00:00:00.000000000\",\"2024-11-29T00:00:00.000000000\",\"2024-12-02T00:00:00.000000000\",\"2024-12-03T00:00:00.000000000\",\"2024-12-04T00:00:00.000000000\",\"2024-12-05T00:00:00.000000000\",\"2024-12-06T00:00:00.000000000\",\"2024-12-09T00:00:00.000000000\",\"2024-12-10T00:00:00.000000000\",\"2024-12-11T00:00:00.000000000\",\"2024-12-12T00:00:00.000000000\",\"2024-12-13T00:00:00.000000000\",\"2024-12-16T00:00:00.000000000\",\"2024-12-17T00:00:00.000000000\",\"2024-12-18T00:00:00.000000000\",\"2024-12-19T00:00:00.000000000\",\"2024-12-20T00:00:00.000000000\",\"2024-12-23T00:00:00.000000000\",\"2024-12-24T00:00:00.000000000\",\"2024-12-26T00:00:00.000000000\",\"2024-12-27T00:00:00.000000000\",\"2024-12-30T00:00:00.000000000\",\"2024-12-31T00:00:00.000000000\",\"2025-01-02T00:00:00.000000000\",\"2025-01-03T00:00:00.000000000\",\"2025-01-06T00:00:00.000000000\",\"2025-01-07T00:00:00.000000000\",\"2025-01-08T00:00:00.000000000\",\"2025-01-10T00:00:00.000000000\",\"2025-01-13T00:00:00.000000000\",\"2025-01-14T00:00:00.000000000\",\"2025-01-15T00:00:00.000000000\",\"2025-01-16T00:00:00.000000000\",\"2025-01-17T00:00:00.000000000\",\"2025-01-21T00:00:00.000000000\",\"2025-01-22T00:00:00.000000000\",\"2025-01-23T00:00:00.000000000\",\"2025-01-24T00:00:00.000000000\",\"2025-01-27T00:00:00.000000000\",\"2025-01-28T00:00:00.000000000\",\"2025-01-29T00:00:00.000000000\",\"2025-01-30T00:00:00.000000000\",\"2025-01-31T00:00:00.000000000\",\"2025-02-03T00:00:00.000000000\",\"2025-02-04T00:00:00.000000000\",\"2025-02-05T00:00:00.000000000\",\"2025-02-06T00:00:00.000000000\",\"2025-02-07T00:00:00.000000000\",\"2025-02-10T00:00:00.000000000\",\"2025-02-11T00:00:00.000000000\",\"2025-02-12T00:00:00.000000000\",\"2025-02-13T00:00:00.000000000\",\"2025-02-14T00:00:00.000000000\",\"2025-02-18T00:00:00.000000000\",\"2025-02-19T00:00:00.000000000\"],\"y\":{\"dtype\":\"f8\",\"bdata\":\"AAAAAAAA+H8AAAAAAAD4fwAAAAAAAPh\\u002fAAAAAAAA+H8AAAAAAAD4fwAAAAAAAPh\\u002fAAAAAAAA+H8AAAAAAAD4fwAAAAAAAPh\\u002fAAAAAAAA+H8AAAAAAAD4fwAAAAAAAPh\\u002fAAAAAAAA+H8AAAAAAAD4fwAAAAAAAPh\\u002fAAAAAAAA+H8AAAAAAAD4fwAAAAAAAPh\\u002fAAAAAAAA+H\\u002fieAIGY0VnQNNZpZGSM2dAqlwpJfoiZ0CJNaISq\\u002flmQDqshnY312ZAu0f7MI26ZkBGipVMjo1mQIK3XGmSYmZABubh1Tc0ZkDtbo9C4AdmQMMarzyr\\u002fmVA7fz1STX\\u002fZUBuQ3kA6f9lQC9MLxjL\\u002fmVAm3P1UQQCZkBoaQ+NFf9lQP+j\\u002fV00\\u002fWVAvLqnAjULZkCoJf1dqR1mQGWPwWLYHWZA+NTHVkUXZkCMrgZKvwNmQObzKduq02VAOHqLT3bbZUChSv6p0dhlQMQV4rW01mVApEVOUNnVZUCu+ErpQ8hlQJCl7p1DwmVAfG4XX0DRZUB+HHwjoNNlQLmfIq8f02VAQudIyaLfZUBba5wkH0ZmQJSgFaRehGZAMqHGuPW9ZkAxKTHv3PBmQAoiesQpJGdAC7jHsLxFZ0DZc8W7FoJnQEURCZhAv2dACBSJ\\u002fWkBaECBjSQxcTdoQI5bRrSmXGhAqGncosR\\u002faECR4LiXOqJoQM+nPlAouGhAjy0Cs2K2aEAlcYP8rLRoQJYSLarHumhAXbt8yoinaEDGwj\\u002fx6nhoQOjTSOqjT2hARvDzhJtmaEDeYhGcE3NoQFE8kISzhWhAtofu1VyIaEDMUskGap1oQCbpFeDajGhAPpEeLowMaUAkk4pvg6tpQPI\\u002fU8RULmpA7DW98FOIakB036BF2\\u002fRqQEb8zzeBP2tAJV1YVd1ma0BIqsYo+n1rQP33JaPPiGtAf8iYY4aYa0Ce8xgSx7NrQIG2zkpSymtAjNh80GvLa0AJuF8rjuJrQNyaASBbCWxA1xAGQLcrbEDNoHmzC2dsQGKbROdck2xAcOMJdZG9bEC2Sc3PSdhsQP6jRiRZ\\u002fmxAg5rMFHg4bUB4TZBpk4VtQL7MOPuRyW1AdzMF5JzmbUCevQBq2e9tQLpoOdsl7m1AN0p285HdbUDV0KkG1chtQLadBzCnq21A1LfdUbSfbUAcxcHIAZVtQB7\\u002f6klSdW1AkhJMo7ZvbUCnJgKuO25tQIOVGn0Nc21AA0MMMYJvbUDDtSkfHIttQKSzhtbAnm1AqmHcdXeBbUAbtPD7hm9tQLtJYdlcRm1AXZFCpE75bEAHsUt226BsQAl9T62md2xAxO4a6DR8bEASy6+gTYhsQJJu7VPMlGxAeexC1XafbEBSkMmkar5sQEZ+nzID0mxA7dfiizbvbEBSfbQ5XQttQLBPlI8ZKW1AMDrjWr84bUClvxrT01ttQKJu3bvadm1AwPwVLJ5ibUAqk6gsRzNtQEeMyTnqBW1Awh6NWcPkbEB5R7pkndBsQFn+eOLzxGxAL\\u002fynX\\u002fvCbEBcsDY4ssFsQAbe8E\\u002ffwGxAzFMvJ+bRbECI6m1UANlsQCTnOq9iz2xAsRmgfU3cbEDnWgz8p+psQJB80Hso6WxAiH9zowbqbEDpSzytdOJsQLVQ2KEC52xATIV43gjbbEAyKggYk\\u002flsQEriF8\\u002fOAG1AAIYbjw0JbUC4HQNskg1tQNtyThWpE21AtAuSQMcSbUB+SCrN4xJtQPZgXdcOI21AFd\\u002f+TBAvbUAr+uzi9TNtQLh\\u002fNqxjK21AVI0YFk8obUAjeSmUXCZtQCcIqtmRNG1A1W19T6JWbUD2QHpF4X9tQAj\\u002fDJefnm1AnvoFw7ShbUA7w6cwlqRtQGuBV\\u002fM0qW1A8prByO2qbUDPl38MubRtQARNpkHis21AKFTIXDqzbUDIEllOFMBtQLB0kGRLvm1AKY4DP5vFbUAA33vO\\u002f89tQG1BzBR5z21ATF8AyJDPbUBFIB+Kzc1tQJOLh33sv21AlJP+Y1C3bUAqOyxYJ61tQJZl1+PRkG1AHRVUppZmbUCmOV\\u002fqTjxtQERwJ9n3NW1AwaUoCcMubUDOFQUiCShtQOrx+TzjJW1A\\u002f8GZt4Y0bUDisYeOdlVtQHG6kAcPjm1AOnC3WobMbUBzt08qhRZuQJm8nU2aV25AWu5ZhB+KbkCYtPctq7puQOdbGE76\\u002fm5AbeHQhVs5b0CJNhKP2l5vQKmI+T\\u002fWhW9AHMWF4qCsb0Dza\\u002fr209BvQEsVEofwAXBAXFiqNPkFcEDU\\u002fcUrnQpwQBMoiDl9FXBAxf+QdEIecECM00sbsDFwQGAUhaK9RXBA9PlJKTBHcEDMH0+WVkFwQPztNq9tOnBAqlkXGL04cED\\u002flyqhOThwQLXZKCTONXBAFhtxH+02cECi60M0sDpwQMZb6AABSnBAFo00WbpbcECmer\\u002f2ZGpwQAVBRWKIbHBALBsYE\\u002f56cECOJLWfD3lwQFaD92Rui3BAlecag7ePcEDgQ3xO1YJwQE5unqnobXBAkqMGSOJAcECCF6R6UwtwQA2pCVHSvW9AWUQuFDtyb0A0gZ0KQChvQAwKD3pdAm9Ai9R+GbfabkDgQCtH8KFuQER4N0l3eW5AbKz0OJdDbkBreYGS1S5uQKY6drHSKW5AXZSR\\u002fgY6bkCnvgEUflRuQKfP6MsZm25A1WNDVVHWbkB6eTJFJv9uQA==\"},\"type\":\"scatter\"},{\"line\":{\"color\":\"green\"},\"name\":\"BB Middle\",\"x\":[\"2024-02-20T00:00:00.000000000\",\"2024-02-21T00:00:00.000000000\",\"2024-02-22T00:00:00.000000000\",\"2024-02-23T00:00:00.000000000\",\"2024-02-26T00:00:00.000000000\",\"2024-02-27T00:00:00.000000000\",\"2024-02-28T00:00:00.000000000\",\"2024-02-29T00:00:00.000000000\",\"2024-03-01T00:00:00.000000000\",\"2024-03-04T00:00:00.000000000\",\"2024-03-05T00:00:00.000000000\",\"2024-03-06T00:00:00.000000000\",\"2024-03-07T00:00:00.000000000\",\"2024-03-08T00:00:00.000000000\",\"2024-03-11T00:00:00.000000000\",\"2024-03-12T00:00:00.000000000\",\"2024-03-13T00:00:00.000000000\",\"2024-03-14T00:00:00.000000000\",\"2024-03-15T00:00:00.000000000\",\"2024-03-18T00:00:00.000000000\",\"2024-03-19T00:00:00.000000000\",\"2024-03-20T00:00:00.000000000\",\"2024-03-21T00:00:00.000000000\",\"2024-03-22T00:00:00.000000000\",\"2024-03-25T00:00:00.000000000\",\"2024-03-26T00:00:00.000000000\",\"2024-03-27T00:00:00.000000000\",\"2024-03-28T00:00:00.000000000\",\"2024-04-01T00:00:00.000000000\",\"2024-04-02T00:00:00.000000000\",\"2024-04-03T00:00:00.000000000\",\"2024-04-04T00:00:00.000000000\",\"2024-04-05T00:00:00.000000000\",\"2024-04-08T00:00:00.000000000\",\"2024-04-09T00:00:00.000000000\",\"2024-04-10T00:00:00.000000000\",\"2024-04-11T00:00:00.000000000\",\"2024-04-12T00:00:00.000000000\",\"2024-04-15T00:00:00.000000000\",\"2024-04-16T00:00:00.000000000\",\"2024-04-17T00:00:00.000000000\",\"2024-04-18T00:00:00.000000000\",\"2024-04-19T00:00:00.000000000\",\"2024-04-22T00:00:00.000000000\",\"2024-04-23T00:00:00.000000000\",\"2024-04-24T00:00:00.000000000\",\"2024-04-25T00:00:00.000000000\",\"2024-04-26T00:00:00.000000000\",\"2024-04-29T00:00:00.000000000\",\"2024-04-30T00:00:00.000000000\",\"2024-05-01T00:00:00.000000000\",\"2024-05-02T00:00:00.000000000\",\"2024-05-03T00:00:00.000000000\",\"2024-05-06T00:00:00.000000000\",\"2024-05-07T00:00:00.000000000\",\"2024-05-08T00:00:00.000000000\",\"2024-05-09T00:00:00.000000000\",\"2024-05-10T00:00:00.000000000\",\"2024-05-13T00:00:00.000000000\",\"2024-05-14T00:00:00.000000000\",\"2024-05-15T00:00:00.000000000\",\"2024-05-16T00:00:00.000000000\",\"2024-05-17T00:00:00.000000000\",\"2024-05-20T00:00:00.000000000\",\"2024-05-21T00:00:00.000000000\",\"2024-05-22T00:00:00.000000000\",\"2024-05-23T00:00:00.000000000\",\"2024-05-24T00:00:00.000000000\",\"2024-05-28T00:00:00.000000000\",\"2024-05-29T00:00:00.000000000\",\"2024-05-30T00:00:00.000000000\",\"2024-05-31T00:00:00.000000000\",\"2024-06-03T00:00:00.000000000\",\"2024-06-04T00:00:00.000000000\",\"2024-06-05T00:00:00.000000000\",\"2024-06-06T00:00:00.000000000\",\"2024-06-07T00:00:00.000000000\",\"2024-06-10T00:00:00.000000000\",\"2024-06-11T00:00:00.000000000\",\"2024-06-12T00:00:00.000000000\",\"2024-06-13T00:00:00.000000000\",\"2024-06-14T00:00:00.000000000\",\"2024-06-17T00:00:00.000000000\",\"2024-06-18T00:00:00.000000000\",\"2024-06-20T00:00:00.000000000\",\"2024-06-21T00:00:00.000000000\",\"2024-06-24T00:00:00.000000000\",\"2024-06-25T00:00:00.000000000\",\"2024-06-26T00:00:00.000000000\",\"2024-06-27T00:00:00.000000000\",\"2024-06-28T00:00:00.000000000\",\"2024-07-01T00:00:00.000000000\",\"2024-07-02T00:00:00.000000000\",\"2024-07-03T00:00:00.000000000\",\"2024-07-05T00:00:00.000000000\",\"2024-07-08T00:00:00.000000000\",\"2024-07-09T00:00:00.000000000\",\"2024-07-10T00:00:00.000000000\",\"2024-07-11T00:00:00.000000000\",\"2024-07-12T00:00:00.000000000\",\"2024-07-15T00:00:00.000000000\",\"2024-07-16T00:00:00.000000000\",\"2024-07-17T00:00:00.000000000\",\"2024-07-18T00:00:00.000000000\",\"2024-07-19T00:00:00.000000000\",\"2024-07-22T00:00:00.000000000\",\"2024-07-23T00:00:00.000000000\",\"2024-07-24T00:00:00.000000000\",\"2024-07-25T00:00:00.000000000\",\"2024-07-26T00:00:00.000000000\",\"2024-07-29T00:00:00.000000000\",\"2024-07-30T00:00:00.000000000\",\"2024-07-31T00:00:00.000000000\",\"2024-08-01T00:00:00.000000000\",\"2024-08-02T00:00:00.000000000\",\"2024-08-05T00:00:00.000000000\",\"2024-08-06T00:00:00.000000000\",\"2024-08-07T00:00:00.000000000\",\"2024-08-08T00:00:00.000000000\",\"2024-08-09T00:00:00.000000000\",\"2024-08-12T00:00:00.000000000\",\"2024-08-13T00:00:00.000000000\",\"2024-08-14T00:00:00.000000000\",\"2024-08-15T00:00:00.000000000\",\"2024-08-16T00:00:00.000000000\",\"2024-08-19T00:00:00.000000000\",\"2024-08-20T00:00:00.000000000\",\"2024-08-21T00:00:00.000000000\",\"2024-08-22T00:00:00.000000000\",\"2024-08-23T00:00:00.000000000\",\"2024-08-26T00:00:00.000000000\",\"2024-08-27T00:00:00.000000000\",\"2024-08-28T00:00:00.000000000\",\"2024-08-29T00:00:00.000000000\",\"2024-08-30T00:00:00.000000000\",\"2024-09-03T00:00:00.000000000\",\"2024-09-04T00:00:00.000000000\",\"2024-09-05T00:00:00.000000000\",\"2024-09-06T00:00:00.000000000\",\"2024-09-09T00:00:00.000000000\",\"2024-09-10T00:00:00.000000000\",\"2024-09-11T00:00:00.000000000\",\"2024-09-12T00:00:00.000000000\",\"2024-09-13T00:00:00.000000000\",\"2024-09-16T00:00:00.000000000\",\"2024-09-17T00:00:00.000000000\",\"2024-09-18T00:00:00.000000000\",\"2024-09-19T00:00:00.000000000\",\"2024-09-20T00:00:00.000000000\",\"2024-09-23T00:00:00.000000000\",\"2024-09-24T00:00:00.000000000\",\"2024-09-25T00:00:00.000000000\",\"2024-09-26T00:00:00.000000000\",\"2024-09-27T00:00:00.000000000\",\"2024-09-30T00:00:00.000000000\",\"2024-10-01T00:00:00.000000000\",\"2024-10-02T00:00:00.000000000\",\"2024-10-03T00:00:00.000000000\",\"2024-10-04T00:00:00.000000000\",\"2024-10-07T00:00:00.000000000\",\"2024-10-08T00:00:00.000000000\",\"2024-10-09T00:00:00.000000000\",\"2024-10-10T00:00:00.000000000\",\"2024-10-11T00:00:00.000000000\",\"2024-10-14T00:00:00.000000000\",\"2024-10-15T00:00:00.000000000\",\"2024-10-16T00:00:00.000000000\",\"2024-10-17T00:00:00.000000000\",\"2024-10-18T00:00:00.000000000\",\"2024-10-21T00:00:00.000000000\",\"2024-10-22T00:00:00.000000000\",\"2024-10-23T00:00:00.000000000\",\"2024-10-24T00:00:00.000000000\",\"2024-10-25T00:00:00.000000000\",\"2024-10-28T00:00:00.000000000\",\"2024-10-29T00:00:00.000000000\",\"2024-10-30T00:00:00.000000000\",\"2024-10-31T00:00:00.000000000\",\"2024-11-01T00:00:00.000000000\",\"2024-11-04T00:00:00.000000000\",\"2024-11-05T00:00:00.000000000\",\"2024-11-06T00:00:00.000000000\",\"2024-11-07T00:00:00.000000000\",\"2024-11-08T00:00:00.000000000\",\"2024-11-11T00:00:00.000000000\",\"2024-11-12T00:00:00.000000000\",\"2024-11-13T00:00:00.000000000\",\"2024-11-14T00:00:00.000000000\",\"2024-11-15T00:00:00.000000000\",\"2024-11-18T00:00:00.000000000\",\"2024-11-19T00:00:00.000000000\",\"2024-11-20T00:00:00.000000000\",\"2024-11-21T00:00:00.000000000\",\"2024-11-22T00:00:00.000000000\",\"2024-11-25T00:00:00.000000000\",\"2024-11-26T00:00:00.000000000\",\"2024-11-27T00:00:00.000000000\",\"2024-11-29T00:00:00.000000000\",\"2024-12-02T00:00:00.000000000\",\"2024-12-03T00:00:00.000000000\",\"2024-12-04T00:00:00.000000000\",\"2024-12-05T00:00:00.000000000\",\"2024-12-06T00:00:00.000000000\",\"2024-12-09T00:00:00.000000000\",\"2024-12-10T00:00:00.000000000\",\"2024-12-11T00:00:00.000000000\",\"2024-12-12T00:00:00.000000000\",\"2024-12-13T00:00:00.000000000\",\"2024-12-16T00:00:00.000000000\",\"2024-12-17T00:00:00.000000000\",\"2024-12-18T00:00:00.000000000\",\"2024-12-19T00:00:00.000000000\",\"2024-12-20T00:00:00.000000000\",\"2024-12-23T00:00:00.000000000\",\"2024-12-24T00:00:00.000000000\",\"2024-12-26T00:00:00.000000000\",\"2024-12-27T00:00:00.000000000\",\"2024-12-30T00:00:00.000000000\",\"2024-12-31T00:00:00.000000000\",\"2025-01-02T00:00:00.000000000\",\"2025-01-03T00:00:00.000000000\",\"2025-01-06T00:00:00.000000000\",\"2025-01-07T00:00:00.000000000\",\"2025-01-08T00:00:00.000000000\",\"2025-01-10T00:00:00.000000000\",\"2025-01-13T00:00:00.000000000\",\"2025-01-14T00:00:00.000000000\",\"2025-01-15T00:00:00.000000000\",\"2025-01-16T00:00:00.000000000\",\"2025-01-17T00:00:00.000000000\",\"2025-01-21T00:00:00.000000000\",\"2025-01-22T00:00:00.000000000\",\"2025-01-23T00:00:00.000000000\",\"2025-01-24T00:00:00.000000000\",\"2025-01-27T00:00:00.000000000\",\"2025-01-28T00:00:00.000000000\",\"2025-01-29T00:00:00.000000000\",\"2025-01-30T00:00:00.000000000\",\"2025-01-31T00:00:00.000000000\",\"2025-02-03T00:00:00.000000000\",\"2025-02-04T00:00:00.000000000\",\"2025-02-05T00:00:00.000000000\",\"2025-02-06T00:00:00.000000000\",\"2025-02-07T00:00:00.000000000\",\"2025-02-10T00:00:00.000000000\",\"2025-02-11T00:00:00.000000000\",\"2025-02-12T00:00:00.000000000\",\"2025-02-13T00:00:00.000000000\",\"2025-02-14T00:00:00.000000000\",\"2025-02-18T00:00:00.000000000\",\"2025-02-19T00:00:00.000000000\"],\"y\":{\"dtype\":\"f8\",\"bdata\":\"AAAAAAAA+H8AAAAAAAD4fwAAAAAAAPh\\u002fAAAAAAAA+H8AAAAAAAD4fwAAAAAAAPh\\u002fAAAAAAAA+H8AAAAAAAD4fwAAAAAAAPh\\u002fAAAAAAAA+H8AAAAAAAD4fwAAAAAAAPh\\u002fAAAAAAAA+H8AAAAAAAD4fwAAAAAAAPh\\u002fAAAAAAAA+H8AAAAAAAD4fwAAAAAAAPh\\u002fAAAAAAAA+H9mZmYeifBlQJqZmRHP52VAMzMzC\\u002f\\u002fhZUAzMzNDS81lQM3MzKz8vGVAzczMjJGsZUDNzMxk\\u002fpdlQM3MzCQUi2VAzczM\\u002fFB8ZUAzMzMT+2xlQM3MzAQDY2VAAAAAaENiZUDNzMwcyWFlQDMzM5O1YmVAzczMFBRfZUCamZlxLFplQGZmZp5+UWVAZmZmnrhXZUDNzMzcX11lQAAAAGh8XWVAmpmZGZNWZUDNzMwUtUllQJqZmdEvN2VAZmZm7gotZUCamZmBySJlQGZmZi5\\u002fHGVAMzMz42UbZUAzMzOj8xVlQJqZmel6EmVAMzMziwEYZUAzMzP7YBplQM3MzEzSGWVAzczMnIYgZUDNzMyEgDZlQDMzM0ueS2VAZmZm\\u002fuNfZUAAAADQtndlQAAAAPjjhmVAMzMzE6ORZUCamZlhrqdlQM3MzIzUxGVAMzMzK9TnZUAzMzMjjAxmQJqZmQGQNGZAzczMDBtdZkAAAADADIZmQDMzMztOqWZAAAAA+MPEZkDNzMy8G+ZmQJqZmVnHAGdAMzMzw\\u002fkgZ0AAAABQaERnQAAAACBuY2dAAAAAKM90Z0CamZmhW4lnQJqZmVE7n2dAZmZm9liyZ0AAAABgZMZnQDMzMztz1mdAmpmZ8br3Z0CamZnpnSBoQJqZmam3R2hAAAAACNZraEAzMzOLkpZoQGZmZtalu2hAzczMbEjXaEBmZmbuvPFoQDMzM9ujE2lAZmZm7hQyaUCamZlRLFdpQDMzMzskfWlAzczMRPebaUAzMzPbCMNpQJqZmcHg7GlAzczMjEAYakCamZlB10hqQM3MzJQBfmpAZmZmJrOwakDNzMwcQ\\u002fBqQDMzMyPTEGtAAAAA4K4sa0BmZma+1ExrQAAAAHhwcGtAZmZm7uiDa0BmZmZOrpNrQM3MzKwCq2tAmpmZMUbFa0AAAAAALeBrQDMzM+tG72tAZmZmzgn2a0CamZmRMfxrQGZmZkZYCGxAzczMJJ0LbECamZkJgA5sQJqZmclpCWxAmpmZeRT\\u002fa0CamZnZf+FrQGZmZl5Lv2tAAAAA0Fyaa0AzMzN7n4NrQM3MzNTRbGtAAAAA0FFSa0AAAADgHj1rQDMzM7scMmtAzczMXGMza0AAAACAlDZrQM3MzBwTOmtAzczMfOI8a0CamZkh1klrQGZmZiZ6VWtAzczMZA5ka0AzMzNLu3JrQDMzM\\u002fvegWtAmpmZSVKJa0AzMzPr+JtrQDMzM1P4qmtAAAAAqOjAa0AzMzMTCddrQGZmZn5562tAmpmZodv3a0BmZmZutv9rQJqZmeHUA2xAmpmZ+QwGbEAzMzMbugdsQDMzM8suBGxAMzMzI6b0a0DNzMz0HuZrQJqZmVHU3GtAAAAA0MXga0DNzMy8oeZrQM3MzIQK5mtAzczMLFjma0DNzMy8seNrQDMzM7NW5WtAMzMzSyXia0CamZkZiOhrQJqZmQkG7mtAmpmZoX33a0CamZlBvvxrQAAAAEhKBmxAmpmZEYkHbEAAAABQkhBsQM3MzCyOG2xAMzMzu5AlbEAzMzOroC1sQAAAAACLRWxAAAAAcMdgbEDNzMzse3JsQGZmZna4d2xAAAAAoJOCbEAAAAC4jpJsQGZmZpYcoGxAAAAAyB6nbEAzMzNT\\u002fatsQDMzM9PEsWxAzczMTGiybEAzMzMzUb5sQM3MzBSew2xAzczMLADEbEAzMzNTyr1sQDMzMxtNvmxAMzMz65i6bEDNzMyUta9sQJqZmQE4rWxAzczM7KysbEDNzMw8yKFsQM3MzFzRkmxAzczMpJSIbEAzMzMTtYJsQGZmZj4jc2xAMzMzKwhmbEDNzMzcVFpsQM3MzITsV2xAZmZmbg1VbEDNzMxk\\u002f1JsQGZmZn6PUmxAAAAASDFVbECamZnxUF1sQM3MzAT3b2xAAAAA4AOLbEAAAACQZKxsQDMzMwMMzGxAZmZmFursbEAzMzPr3AVtQAAAAAB+JW1AzczMZB1LbUAzMzMTsW5tQJqZmREyk21AZmZmPgSzbUAzMzODotxtQAAAAHhTBW5AZmZmXuwkbkCamZmZJkZuQDMzMzuob25AZmZmpkCYbkBmZmZuvMBuQJqZmakH525AzczMtAwIb0DNzMzE0B9vQGZmZt4fMW9AMzMz2wozb0AAAAAQmjNvQAAAAAC8Nm9AZmZmPro1b0BmZmYuQS9vQDMzM0PNHW9AMzMzo3oKb0BmZmZOBPNuQM3MzGye4m5AzczM\\u002fDW+bkBmZmb2pphuQM3MzHQKcG5AMzMz64xGbkCamZnRRhVuQGZmZoZZ4W1AMzMzMw60bUAAAABA4JJtQGZmZr7veG1AZmZmDpZhbUDNzMwcikptQDMzMys5MW1AMzMzi1ggbUDNzMzkUQxtQJqZmaHz\\u002fWxAZmZmvt3lbEAAAAD4j9dsQDMzM1Mg1WxAMzMzu0fbbEAAAADgjeFsQM3MzGwZ\\u002fGxAzczM\\u002fK8TbUDNzMyMpTdtQA==\"},\"type\":\"scatter\"},{\"line\":{\"color\":\"green\",\"dash\":\"dash\"},\"name\":\"BB Lower\",\"x\":[\"2024-02-20T00:00:00.000000000\",\"2024-02-21T00:00:00.000000000\",\"2024-02-22T00:00:00.000000000\",\"2024-02-23T00:00:00.000000000\",\"2024-02-26T00:00:00.000000000\",\"2024-02-27T00:00:00.000000000\",\"2024-02-28T00:00:00.000000000\",\"2024-02-29T00:00:00.000000000\",\"2024-03-01T00:00:00.000000000\",\"2024-03-04T00:00:00.000000000\",\"2024-03-05T00:00:00.000000000\",\"2024-03-06T00:00:00.000000000\",\"2024-03-07T00:00:00.000000000\",\"2024-03-08T00:00:00.000000000\",\"2024-03-11T00:00:00.000000000\",\"2024-03-12T00:00:00.000000000\",\"2024-03-13T00:00:00.000000000\",\"2024-03-14T00:00:00.000000000\",\"2024-03-15T00:00:00.000000000\",\"2024-03-18T00:00:00.000000000\",\"2024-03-19T00:00:00.000000000\",\"2024-03-20T00:00:00.000000000\",\"2024-03-21T00:00:00.000000000\",\"2024-03-22T00:00:00.000000000\",\"2024-03-25T00:00:00.000000000\",\"2024-03-26T00:00:00.000000000\",\"2024-03-27T00:00:00.000000000\",\"2024-03-28T00:00:00.000000000\",\"2024-04-01T00:00:00.000000000\",\"2024-04-02T00:00:00.000000000\",\"2024-04-03T00:00:00.000000000\",\"2024-04-04T00:00:00.000000000\",\"2024-04-05T00:00:00.000000000\",\"2024-04-08T00:00:00.000000000\",\"2024-04-09T00:00:00.000000000\",\"2024-04-10T00:00:00.000000000\",\"2024-04-11T00:00:00.000000000\",\"2024-04-12T00:00:00.000000000\",\"2024-04-15T00:00:00.000000000\",\"2024-04-16T00:00:00.000000000\",\"2024-04-17T00:00:00.000000000\",\"2024-04-18T00:00:00.000000000\",\"2024-04-19T00:00:00.000000000\",\"2024-04-22T00:00:00.000000000\",\"2024-04-23T00:00:00.000000000\",\"2024-04-24T00:00:00.000000000\",\"2024-04-25T00:00:00.000000000\",\"2024-04-26T00:00:00.000000000\",\"2024-04-29T00:00:00.000000000\",\"2024-04-30T00:00:00.000000000\",\"2024-05-01T00:00:00.000000000\",\"2024-05-02T00:00:00.000000000\",\"2024-05-03T00:00:00.000000000\",\"2024-05-06T00:00:00.000000000\",\"2024-05-07T00:00:00.000000000\",\"2024-05-08T00:00:00.000000000\",\"2024-05-09T00:00:00.000000000\",\"2024-05-10T00:00:00.000000000\",\"2024-05-13T00:00:00.000000000\",\"2024-05-14T00:00:00.000000000\",\"2024-05-15T00:00:00.000000000\",\"2024-05-16T00:00:00.000000000\",\"2024-05-17T00:00:00.000000000\",\"2024-05-20T00:00:00.000000000\",\"2024-05-21T00:00:00.000000000\",\"2024-05-22T00:00:00.000000000\",\"2024-05-23T00:00:00.000000000\",\"2024-05-24T00:00:00.000000000\",\"2024-05-28T00:00:00.000000000\",\"2024-05-29T00:00:00.000000000\",\"2024-05-30T00:00:00.000000000\",\"2024-05-31T00:00:00.000000000\",\"2024-06-03T00:00:00.000000000\",\"2024-06-04T00:00:00.000000000\",\"2024-06-05T00:00:00.000000000\",\"2024-06-06T00:00:00.000000000\",\"2024-06-07T00:00:00.000000000\",\"2024-06-10T00:00:00.000000000\",\"2024-06-11T00:00:00.000000000\",\"2024-06-12T00:00:00.000000000\",\"2024-06-13T00:00:00.000000000\",\"2024-06-14T00:00:00.000000000\",\"2024-06-17T00:00:00.000000000\",\"2024-06-18T00:00:00.000000000\",\"2024-06-20T00:00:00.000000000\",\"2024-06-21T00:00:00.000000000\",\"2024-06-24T00:00:00.000000000\",\"2024-06-25T00:00:00.000000000\",\"2024-06-26T00:00:00.000000000\",\"2024-06-27T00:00:00.000000000\",\"2024-06-28T00:00:00.000000000\",\"2024-07-01T00:00:00.000000000\",\"2024-07-02T00:00:00.000000000\",\"2024-07-03T00:00:00.000000000\",\"2024-07-05T00:00:00.000000000\",\"2024-07-08T00:00:00.000000000\",\"2024-07-09T00:00:00.000000000\",\"2024-07-10T00:00:00.000000000\",\"2024-07-11T00:00:00.000000000\",\"2024-07-12T00:00:00.000000000\",\"2024-07-15T00:00:00.000000000\",\"2024-07-16T00:00:00.000000000\",\"2024-07-17T00:00:00.000000000\",\"2024-07-18T00:00:00.000000000\",\"2024-07-19T00:00:00.000000000\",\"2024-07-22T00:00:00.000000000\",\"2024-07-23T00:00:00.000000000\",\"2024-07-24T00:00:00.000000000\",\"2024-07-25T00:00:00.000000000\",\"2024-07-26T00:00:00.000000000\",\"2024-07-29T00:00:00.000000000\",\"2024-07-30T00:00:00.000000000\",\"2024-07-31T00:00:00.000000000\",\"2024-08-01T00:00:00.000000000\",\"2024-08-02T00:00:00.000000000\",\"2024-08-05T00:00:00.000000000\",\"2024-08-06T00:00:00.000000000\",\"2024-08-07T00:00:00.000000000\",\"2024-08-08T00:00:00.000000000\",\"2024-08-09T00:00:00.000000000\",\"2024-08-12T00:00:00.000000000\",\"2024-08-13T00:00:00.000000000\",\"2024-08-14T00:00:00.000000000\",\"2024-08-15T00:00:00.000000000\",\"2024-08-16T00:00:00.000000000\",\"2024-08-19T00:00:00.000000000\",\"2024-08-20T00:00:00.000000000\",\"2024-08-21T00:00:00.000000000\",\"2024-08-22T00:00:00.000000000\",\"2024-08-23T00:00:00.000000000\",\"2024-08-26T00:00:00.000000000\",\"2024-08-27T00:00:00.000000000\",\"2024-08-28T00:00:00.000000000\",\"2024-08-29T00:00:00.000000000\",\"2024-08-30T00:00:00.000000000\",\"2024-09-03T00:00:00.000000000\",\"2024-09-04T00:00:00.000000000\",\"2024-09-05T00:00:00.000000000\",\"2024-09-06T00:00:00.000000000\",\"2024-09-09T00:00:00.000000000\",\"2024-09-10T00:00:00.000000000\",\"2024-09-11T00:00:00.000000000\",\"2024-09-12T00:00:00.000000000\",\"2024-09-13T00:00:00.000000000\",\"2024-09-16T00:00:00.000000000\",\"2024-09-17T00:00:00.000000000\",\"2024-09-18T00:00:00.000000000\",\"2024-09-19T00:00:00.000000000\",\"2024-09-20T00:00:00.000000000\",\"2024-09-23T00:00:00.000000000\",\"2024-09-24T00:00:00.000000000\",\"2024-09-25T00:00:00.000000000\",\"2024-09-26T00:00:00.000000000\",\"2024-09-27T00:00:00.000000000\",\"2024-09-30T00:00:00.000000000\",\"2024-10-01T00:00:00.000000000\",\"2024-10-02T00:00:00.000000000\",\"2024-10-03T00:00:00.000000000\",\"2024-10-04T00:00:00.000000000\",\"2024-10-07T00:00:00.000000000\",\"2024-10-08T00:00:00.000000000\",\"2024-10-09T00:00:00.000000000\",\"2024-10-10T00:00:00.000000000\",\"2024-10-11T00:00:00.000000000\",\"2024-10-14T00:00:00.000000000\",\"2024-10-15T00:00:00.000000000\",\"2024-10-16T00:00:00.000000000\",\"2024-10-17T00:00:00.000000000\",\"2024-10-18T00:00:00.000000000\",\"2024-10-21T00:00:00.000000000\",\"2024-10-22T00:00:00.000000000\",\"2024-10-23T00:00:00.000000000\",\"2024-10-24T00:00:00.000000000\",\"2024-10-25T00:00:00.000000000\",\"2024-10-28T00:00:00.000000000\",\"2024-10-29T00:00:00.000000000\",\"2024-10-30T00:00:00.000000000\",\"2024-10-31T00:00:00.000000000\",\"2024-11-01T00:00:00.000000000\",\"2024-11-04T00:00:00.000000000\",\"2024-11-05T00:00:00.000000000\",\"2024-11-06T00:00:00.000000000\",\"2024-11-07T00:00:00.000000000\",\"2024-11-08T00:00:00.000000000\",\"2024-11-11T00:00:00.000000000\",\"2024-11-12T00:00:00.000000000\",\"2024-11-13T00:00:00.000000000\",\"2024-11-14T00:00:00.000000000\",\"2024-11-15T00:00:00.000000000\",\"2024-11-18T00:00:00.000000000\",\"2024-11-19T00:00:00.000000000\",\"2024-11-20T00:00:00.000000000\",\"2024-11-21T00:00:00.000000000\",\"2024-11-22T00:00:00.000000000\",\"2024-11-25T00:00:00.000000000\",\"2024-11-26T00:00:00.000000000\",\"2024-11-27T00:00:00.000000000\",\"2024-11-29T00:00:00.000000000\",\"2024-12-02T00:00:00.000000000\",\"2024-12-03T00:00:00.000000000\",\"2024-12-04T00:00:00.000000000\",\"2024-12-05T00:00:00.000000000\",\"2024-12-06T00:00:00.000000000\",\"2024-12-09T00:00:00.000000000\",\"2024-12-10T00:00:00.000000000\",\"2024-12-11T00:00:00.000000000\",\"2024-12-12T00:00:00.000000000\",\"2024-12-13T00:00:00.000000000\",\"2024-12-16T00:00:00.000000000\",\"2024-12-17T00:00:00.000000000\",\"2024-12-18T00:00:00.000000000\",\"2024-12-19T00:00:00.000000000\",\"2024-12-20T00:00:00.000000000\",\"2024-12-23T00:00:00.000000000\",\"2024-12-24T00:00:00.000000000\",\"2024-12-26T00:00:00.000000000\",\"2024-12-27T00:00:00.000000000\",\"2024-12-30T00:00:00.000000000\",\"2024-12-31T00:00:00.000000000\",\"2025-01-02T00:00:00.000000000\",\"2025-01-03T00:00:00.000000000\",\"2025-01-06T00:00:00.000000000\",\"2025-01-07T00:00:00.000000000\",\"2025-01-08T00:00:00.000000000\",\"2025-01-10T00:00:00.000000000\",\"2025-01-13T00:00:00.000000000\",\"2025-01-14T00:00:00.000000000\",\"2025-01-15T00:00:00.000000000\",\"2025-01-16T00:00:00.000000000\",\"2025-01-17T00:00:00.000000000\",\"2025-01-21T00:00:00.000000000\",\"2025-01-22T00:00:00.000000000\",\"2025-01-23T00:00:00.000000000\",\"2025-01-24T00:00:00.000000000\",\"2025-01-27T00:00:00.000000000\",\"2025-01-28T00:00:00.000000000\",\"2025-01-29T00:00:00.000000000\",\"2025-01-30T00:00:00.000000000\",\"2025-01-31T00:00:00.000000000\",\"2025-02-03T00:00:00.000000000\",\"2025-02-04T00:00:00.000000000\",\"2025-02-05T00:00:00.000000000\",\"2025-02-06T00:00:00.000000000\",\"2025-02-07T00:00:00.000000000\",\"2025-02-10T00:00:00.000000000\",\"2025-02-11T00:00:00.000000000\",\"2025-02-12T00:00:00.000000000\",\"2025-02-13T00:00:00.000000000\",\"2025-02-14T00:00:00.000000000\",\"2025-02-18T00:00:00.000000000\",\"2025-02-19T00:00:00.000000000\"],\"y\":{\"dtype\":\"f8\",\"bdata\":\"AAAAAAAA+H8AAAAAAAD4fwAAAAAAAPh\\u002fAAAAAAAA+H8AAAAAAAD4fwAAAAAAAPh\\u002fAAAAAAAA+H8AAAAAAAD4fwAAAAAAAPh\\u002fAAAAAAAA+H8AAAAAAAD4fwAAAAAAAPh\\u002fAAAAAAAA+H8AAAAAAAD4fwAAAAAAAPh\\u002fAAAAAAAA+H8AAAAAAAD4fwAAAAAAAPh\\u002fAAAAAAAA+H\\u002fqU8o2r5tkQGHZjZELnGRAvAk98QOhZEDdMMRz66BkQGDtEuPBomRA31Ge6JWeZEBUDwR9bqJkQBjiPOCVs2RAlLO3I2rEZEB599bjFdJkQNd+6sxax2RAEwMKhlHFZEAsViA5qcNkQDcaNw6gxmRA\\u002fyWk1yO8ZEDMySNWQ7VkQM0oz97IpWRAEBIlOjykZEDyc5xbFp1kQJtwPm0gnWRAPF5r3OCVZEAO65Lfqo9kQE4\\u002fCci0mmRAlFJBjZ9+ZECT6DRZwWxkQAi36qZJYmRAwiAYdvJgZEC4bRtdo2NkQKSNRDWyYmRA6vdOt8JeZEDoSerSIWFkQOH5duqEYGRAWLJQcGphZEA\\u002fLv3k4SZkQNLFUPLdEmRAmisGRNIBZEDP1s6wkP5jQPbdhSue6WNAW66edYndY0Bbv20HRs1jQFWIkIFoymNAXlLdWD7OY0Dl2EEVp+FjQKbX7E55DGRA8i+9dnE6ZEBvH0fo3mlkQJe+JyZ0mmRAcdL9PCXTZEB1KBZ9ihdlQJ4gBgnHRmVACavpu2qaZUA6PcCu5Q9mQBgst1U4d2ZAug8MywKDZkBW0CGno59mQOP2oh7DuGZAFkXeFlXcZkA0rTa5Xu9mQEB9UJYLIGdA9qEUteniZkAQoKhjuJVmQELz344aYWZAFMpCH1hPZkDyhsXQSThmQIbQ\\u002fHTKN2ZAdTxBhLNHZkCEIga0f2VmQGluQBN4nmZATQQ0eaPLZkCWPxqRkfpmQOWvlyv2L2dADsEcuYJsZ0BdrgaLg6NnQFiYMWNm0GdAw4iT2ckEaEBnkrnPoipoQDj+VEKmaGhAXOnC19SjaEDkT8xpPAhpQGjCHyJNI2lAfWUzq+UgaUBUfzwTFhRpQEIzx\\u002fROF2lAVZnH+DQhaUAuD8wygzdpQOAwYH7fZ2lA\\u002fei8b\\u002fqsaUArL1b5hPdpQLDIXqbmMmpA+BTvSl9MakAYbnFaYWNqQK7N4UJem2pACIdNpoOnakCNDDFlxK5qQLGdGBbGn2pAMfAmwqaOakBxfQmU4zdqQCgZRubV32lAVp4jKkKzaUBLsnX6t5dpQN9PONBGk2lAo269+1SraUD5TrRJYtlpQF3pFsmS7GlA1qp+0ZHqaUDuNFBf2+RpQAgrrOVZ32lAIa1WJE7aaUDiommeQdVpQIZOLRrx2GlArcG2PebYaUAU6bFcGdppQLYW0mak2mlABPlPOOXZaUDBpksDHtxpQMT3iOoV32lAQAPqIzMfakA80735ynpqQIVAA8MI0WpAchSm6fMKa0BThRJ4zy5rQNs0uuC1QmtABTeLkx5Ja0AKti\\u002f+wU1rQGCIdUZ+R2tAmhI3H2YXa0ASryuVPfNqQBBM+PNF6mpAT+ZfIj7lakCzPo19m+JqQAodyY3s4mpAEhomtqniakCxTV3M7uRqQLEVjsSq42pAGuHtt0HpakACCSsbfddqQOpQG0Q922pANK0XtO3lakB8FTAX6utqQCWNsXrr+GpAgCeh4kr8akCCt9XSQA5rQKQ4PIINFGtAUYdnKREca0A7bHlzSydrQEiAyVOyX2tArHLnyT+Za0B3IHBFm75rQKXEIhPfumtAK5KC8ISua0AKv4UqPKVrQMTNv5WZoWtAYgX6zIisa0Aro751ZLNrQPvkDrNUumtAqP7X0OK5a0CXzuZZ6cdrQJZM8+dZ02tAckXR\\u002fMXUa0CeUw1YgLtrQLbx1dFOvmtAPdhil5ava0Cauh1ba49rQMfxZu72imtATjqZEcmJa0BVeXrvwnVrQAcOEjy2ZWtABgab5dhZa0A8KzrOQlhrQDZn9Zh0VWtASVESsHlla0D0XzrPWnhrQFYpcjDheWtACyek01d7a0DMg5Sn9X1rQOLa0r87f2tAAT5m2Nt1a0BSgatUK2VrQCnfCALfUWtAxo9IZYFJa0CNSLD1Q0JrQM2pyLh9QGtAct5yqLRPa0DOsW6oDlFrQBmk57EBTGtALbjIQ99ca0DdL1SXh35rQIuqOeONoGtAsAdHmme5a0Bz+msPcehrQGvV2+HFBmxAFBx4U+Y9bECNN6fbEndsQEEWVgNWtGxAQc2qY\\u002fzzbEC0JTWmGB5tQHQKKQ6UQm1AsaUFF7mBbUACWvtc9LxtQNXwXl5k7W1AEbM3hpv0bUAB0KrdwPZtQJZMrrfbAW5AoZbqPZr9bUCI9UT0IeltQNuulYSYp21AOkz9k4BdbUCA102vPhFtQJAXDxUs7GxAQWNp02+GbECwg2KtLj9sQO+Sqh84yWtAO5cw0Kpta0B1qzoG4yRrQDHwj7nh5mpAQh9Z1lfmakD70LeKGQ9rQL8jwysNNGtAc4ieCPFQa0BmGPwu1GxrQFpcV9wUYGtA25Hn\\u002fPlla0C6WG6Cs3ZrQPC6+\\u002flvgmtAYCDYQySIa0CVhn5dSoBrQMAr8PRtgGtACdLUd4h8a0BZQf6rnW5rQPPJsA0ZXWtAxTVWpA5Ra0AgIGfUJHBrQA==\"},\"type\":\"scatter\"}],                        {\"template\":{\"data\":{\"histogram2dcontour\":[{\"type\":\"histogram2dcontour\",\"colorbar\":{\"outlinewidth\":0,\"ticks\":\"\"},\"colorscale\":[[0.0,\"#0d0887\"],[0.1111111111111111,\"#46039f\"],[0.2222222222222222,\"#7201a8\"],[0.3333333333333333,\"#9c179e\"],[0.4444444444444444,\"#bd3786\"],[0.5555555555555556,\"#d8576b\"],[0.6666666666666666,\"#ed7953\"],[0.7777777777777778,\"#fb9f3a\"],[0.8888888888888888,\"#fdca26\"],[1.0,\"#f0f921\"]]}],\"choropleth\":[{\"type\":\"choropleth\",\"colorbar\":{\"outlinewidth\":0,\"ticks\":\"\"}}],\"histogram2d\":[{\"type\":\"histogram2d\",\"colorbar\":{\"outlinewidth\":0,\"ticks\":\"\"},\"colorscale\":[[0.0,\"#0d0887\"],[0.1111111111111111,\"#46039f\"],[0.2222222222222222,\"#7201a8\"],[0.3333333333333333,\"#9c179e\"],[0.4444444444444444,\"#bd3786\"],[0.5555555555555556,\"#d8576b\"],[0.6666666666666666,\"#ed7953\"],[0.7777777777777778,\"#fb9f3a\"],[0.8888888888888888,\"#fdca26\"],[1.0,\"#f0f921\"]]}],\"heatmap\":[{\"type\":\"heatmap\",\"colorbar\":{\"outlinewidth\":0,\"ticks\":\"\"},\"colorscale\":[[0.0,\"#0d0887\"],[0.1111111111111111,\"#46039f\"],[0.2222222222222222,\"#7201a8\"],[0.3333333333333333,\"#9c179e\"],[0.4444444444444444,\"#bd3786\"],[0.5555555555555556,\"#d8576b\"],[0.6666666666666666,\"#ed7953\"],[0.7777777777777778,\"#fb9f3a\"],[0.8888888888888888,\"#fdca26\"],[1.0,\"#f0f921\"]]}],\"contourcarpet\":[{\"type\":\"contourcarpet\",\"colorbar\":{\"outlinewidth\":0,\"ticks\":\"\"}}],\"contour\":[{\"type\":\"contour\",\"colorbar\":{\"outlinewidth\":0,\"ticks\":\"\"},\"colorscale\":[[0.0,\"#0d0887\"],[0.1111111111111111,\"#46039f\"],[0.2222222222222222,\"#7201a8\"],[0.3333333333333333,\"#9c179e\"],[0.4444444444444444,\"#bd3786\"],[0.5555555555555556,\"#d8576b\"],[0.6666666666666666,\"#ed7953\"],[0.7777777777777778,\"#fb9f3a\"],[0.8888888888888888,\"#fdca26\"],[1.0,\"#f0f921\"]]}],\"surface\":[{\"type\":\"surface\",\"colorbar\":{\"outlinewidth\":0,\"ticks\":\"\"},\"colorscale\":[[0.0,\"#0d0887\"],[0.1111111111111111,\"#46039f\"],[0.2222222222222222,\"#7201a8\"],[0.3333333333333333,\"#9c179e\"],[0.4444444444444444,\"#bd3786\"],[0.5555555555555556,\"#d8576b\"],[0.6666666666666666,\"#ed7953\"],[0.7777777777777778,\"#fb9f3a\"],[0.8888888888888888,\"#fdca26\"],[1.0,\"#f0f921\"]]}],\"mesh3d\":[{\"type\":\"mesh3d\",\"colorbar\":{\"outlinewidth\":0,\"ticks\":\"\"}}],\"scatter\":[{\"fillpattern\":{\"fillmode\":\"overlay\",\"size\":10,\"solidity\":0.2},\"type\":\"scatter\"}],\"parcoords\":[{\"type\":\"parcoords\",\"line\":{\"colorbar\":{\"outlinewidth\":0,\"ticks\":\"\"}}}],\"scatterpolargl\":[{\"type\":\"scatterpolargl\",\"marker\":{\"colorbar\":{\"outlinewidth\":0,\"ticks\":\"\"}}}],\"bar\":[{\"error_x\":{\"color\":\"#2a3f5f\"},\"error_y\":{\"color\":\"#2a3f5f\"},\"marker\":{\"line\":{\"color\":\"#E5ECF6\",\"width\":0.5},\"pattern\":{\"fillmode\":\"overlay\",\"size\":10,\"solidity\":0.2}},\"type\":\"bar\"}],\"scattergeo\":[{\"type\":\"scattergeo\",\"marker\":{\"colorbar\":{\"outlinewidth\":0,\"ticks\":\"\"}}}],\"scatterpolar\":[{\"type\":\"scatterpolar\",\"marker\":{\"colorbar\":{\"outlinewidth\":0,\"ticks\":\"\"}}}],\"histogram\":[{\"marker\":{\"pattern\":{\"fillmode\":\"overlay\",\"size\":10,\"solidity\":0.2}},\"type\":\"histogram\"}],\"scattergl\":[{\"type\":\"scattergl\",\"marker\":{\"colorbar\":{\"outlinewidth\":0,\"ticks\":\"\"}}}],\"scatter3d\":[{\"type\":\"scatter3d\",\"line\":{\"colorbar\":{\"outlinewidth\":0,\"ticks\":\"\"}},\"marker\":{\"colorbar\":{\"outlinewidth\":0,\"ticks\":\"\"}}}],\"scattermap\":[{\"type\":\"scattermap\",\"marker\":{\"colorbar\":{\"outlinewidth\":0,\"ticks\":\"\"}}}],\"scattermapbox\":[{\"type\":\"scattermapbox\",\"marker\":{\"colorbar\":{\"outlinewidth\":0,\"ticks\":\"\"}}}],\"scatterternary\":[{\"type\":\"scatterternary\",\"marker\":{\"colorbar\":{\"outlinewidth\":0,\"ticks\":\"\"}}}],\"scattercarpet\":[{\"type\":\"scattercarpet\",\"marker\":{\"colorbar\":{\"outlinewidth\":0,\"ticks\":\"\"}}}],\"carpet\":[{\"aaxis\":{\"endlinecolor\":\"#2a3f5f\",\"gridcolor\":\"white\",\"linecolor\":\"white\",\"minorgridcolor\":\"white\",\"startlinecolor\":\"#2a3f5f\"},\"baxis\":{\"endlinecolor\":\"#2a3f5f\",\"gridcolor\":\"white\",\"linecolor\":\"white\",\"minorgridcolor\":\"white\",\"startlinecolor\":\"#2a3f5f\"},\"type\":\"carpet\"}],\"table\":[{\"cells\":{\"fill\":{\"color\":\"#EBF0F8\"},\"line\":{\"color\":\"white\"}},\"header\":{\"fill\":{\"color\":\"#C8D4E3\"},\"line\":{\"color\":\"white\"}},\"type\":\"table\"}],\"barpolar\":[{\"marker\":{\"line\":{\"color\":\"#E5ECF6\",\"width\":0.5},\"pattern\":{\"fillmode\":\"overlay\",\"size\":10,\"solidity\":0.2}},\"type\":\"barpolar\"}],\"pie\":[{\"automargin\":true,\"type\":\"pie\"}]},\"layout\":{\"autotypenumbers\":\"strict\",\"colorway\":[\"#636efa\",\"#EF553B\",\"#00cc96\",\"#ab63fa\",\"#FFA15A\",\"#19d3f3\",\"#FF6692\",\"#B6E880\",\"#FF97FF\",\"#FECB52\"],\"font\":{\"color\":\"#2a3f5f\"},\"hovermode\":\"closest\",\"hoverlabel\":{\"align\":\"left\"},\"paper_bgcolor\":\"white\",\"plot_bgcolor\":\"#E5ECF6\",\"polar\":{\"bgcolor\":\"#E5ECF6\",\"angularaxis\":{\"gridcolor\":\"white\",\"linecolor\":\"white\",\"ticks\":\"\"},\"radialaxis\":{\"gridcolor\":\"white\",\"linecolor\":\"white\",\"ticks\":\"\"}},\"ternary\":{\"bgcolor\":\"#E5ECF6\",\"aaxis\":{\"gridcolor\":\"white\",\"linecolor\":\"white\",\"ticks\":\"\"},\"baxis\":{\"gridcolor\":\"white\",\"linecolor\":\"white\",\"ticks\":\"\"},\"caxis\":{\"gridcolor\":\"white\",\"linecolor\":\"white\",\"ticks\":\"\"}},\"coloraxis\":{\"colorbar\":{\"outlinewidth\":0,\"ticks\":\"\"}},\"colorscale\":{\"sequential\":[[0.0,\"#0d0887\"],[0.1111111111111111,\"#46039f\"],[0.2222222222222222,\"#7201a8\"],[0.3333333333333333,\"#9c179e\"],[0.4444444444444444,\"#bd3786\"],[0.5555555555555556,\"#d8576b\"],[0.6666666666666666,\"#ed7953\"],[0.7777777777777778,\"#fb9f3a\"],[0.8888888888888888,\"#fdca26\"],[1.0,\"#f0f921\"]],\"sequentialminus\":[[0.0,\"#0d0887\"],[0.1111111111111111,\"#46039f\"],[0.2222222222222222,\"#7201a8\"],[0.3333333333333333,\"#9c179e\"],[0.4444444444444444,\"#bd3786\"],[0.5555555555555556,\"#d8576b\"],[0.6666666666666666,\"#ed7953\"],[0.7777777777777778,\"#fb9f3a\"],[0.8888888888888888,\"#fdca26\"],[1.0,\"#f0f921\"]],\"diverging\":[[0,\"#8e0152\"],[0.1,\"#c51b7d\"],[0.2,\"#de77ae\"],[0.3,\"#f1b6da\"],[0.4,\"#fde0ef\"],[0.5,\"#f7f7f7\"],[0.6,\"#e6f5d0\"],[0.7,\"#b8e186\"],[0.8,\"#7fbc41\"],[0.9,\"#4d9221\"],[1,\"#276419\"]]},\"xaxis\":{\"gridcolor\":\"white\",\"linecolor\":\"white\",\"ticks\":\"\",\"title\":{\"standoff\":15},\"zerolinecolor\":\"white\",\"automargin\":true,\"zerolinewidth\":2},\"yaxis\":{\"gridcolor\":\"white\",\"linecolor\":\"white\",\"ticks\":\"\",\"title\":{\"standoff\":15},\"zerolinecolor\":\"white\",\"automargin\":true,\"zerolinewidth\":2},\"scene\":{\"xaxis\":{\"backgroundcolor\":\"#E5ECF6\",\"gridcolor\":\"white\",\"linecolor\":\"white\",\"showbackground\":true,\"ticks\":\"\",\"zerolinecolor\":\"white\",\"gridwidth\":2},\"yaxis\":{\"backgroundcolor\":\"#E5ECF6\",\"gridcolor\":\"white\",\"linecolor\":\"white\",\"showbackground\":true,\"ticks\":\"\",\"zerolinecolor\":\"white\",\"gridwidth\":2},\"zaxis\":{\"backgroundcolor\":\"#E5ECF6\",\"gridcolor\":\"white\",\"linecolor\":\"white\",\"showbackground\":true,\"ticks\":\"\",\"zerolinecolor\":\"white\",\"gridwidth\":2}},\"shapedefaults\":{\"line\":{\"color\":\"#2a3f5f\"}},\"annotationdefaults\":{\"arrowcolor\":\"#2a3f5f\",\"arrowhead\":0,\"arrowwidth\":1},\"geo\":{\"bgcolor\":\"white\",\"landcolor\":\"#E5ECF6\",\"subunitcolor\":\"white\",\"showland\":true,\"showlakes\":true,\"lakecolor\":\"white\"},\"title\":{\"x\":0.05},\"mapbox\":{\"style\":\"light\"}}},\"title\":{\"text\":\"AAPL Daily Candles with SMA and Bollinger Bands\"},\"xaxis\":{\"title\":{\"text\":\"Date\"}},\"yaxis\":{\"title\":{\"text\":\"Price (USD)\"}}},                        {\"responsive\": true}                    ).then(function(){\n",
       "                            \n",
       "var gd = document.getElementById('1c677045-3744-4e96-9395-c6301ac0381d');\n",
       "var x = new MutationObserver(function (mutations, observer) {{\n",
       "        var display = window.getComputedStyle(gd).display;\n",
       "        if (!display || display === 'none') {{\n",
       "            console.log([gd, 'removed!']);\n",
       "            Plotly.purge(gd);\n",
       "            observer.disconnect();\n",
       "        }}\n",
       "}});\n",
       "\n",
       "// Listen for the removal of the full notebook cells\n",
       "var notebookContainer = gd.closest('#notebook-container');\n",
       "if (notebookContainer) {{\n",
       "    x.observe(notebookContainer, {childList: true});\n",
       "}}\n",
       "\n",
       "// Listen for the clearing of the current output cell\n",
       "var outputEl = gd.closest('.output');\n",
       "if (outputEl) {{\n",
       "    x.observe(outputEl, {childList: true});\n",
       "}}\n",
       "\n",
       "                        })                };            </script>        </div>"
      ]
     },
     "metadata": {},
     "output_type": "display_data"
    }
   ],
   "source": [
    "# Calculate the 10-day and 20-day SMA\n",
    "data['SMA10'] = data['Close'].rolling(window=10).mean()\n",
    "data['SMA20'] = data['Close'].rolling(window=20).mean()\n",
    "\n",
    "# Calculate the Bollinger Bands\n",
    "data['BB_Middle'] = data['Close'].rolling(window=20).mean()\n",
    "data['BB_Upper'] = data['BB_Middle'] + 2*data['Close'].rolling(window=20).std()\n",
    "data['BB_Lower'] = data['BB_Middle'] - 2*data['Close'].rolling(window=20).std()\n",
    "\n",
    "# Set cufflinks config\n",
    "cf.set_config_file(offline=True, theme='pearl')\n",
    "\n",
    "# Plot the data\n",
    "fig = go.Figure(data=[go.Candlestick(\n",
    "    x=data.index,\n",
    "    open=data['Open'],\n",
    "    high=data['High'],\n",
    "    low=data['Low'],\n",
    "    close=data['Close'],\n",
    "    name='AAPL'\n",
    ")])\n",
    "\n",
    "# Add the 10-day and 20-day SMA to the plot\n",
    "fig.add_trace(go.Scatter(x=data.index, y=data['SMA10'], name='SMA10', line=dict(color='blue')))\n",
    "fig.add_trace(go.Scatter(x=data.index, y=data['SMA20'], name='SMA20', line=dict(color='red')))\n",
    "\n",
    "# Add the Bollinger Bands to the plot\n",
    "fig.add_trace(go.Scatter(x=data.index, y=data['BB_Upper'], name='BB Upper', line=dict(color='green', dash='dash')))\n",
    "fig.add_trace(go.Scatter(x=data.index, y=data['BB_Middle'], name='BB Middle', line=dict(color='green')))\n",
    "fig.add_trace(go.Scatter(x=data.index, y=data['BB_Lower'], name='BB Lower', line=dict(color='green', dash='dash')))\n",
    "\n",
    "# Update the layout\n",
    "fig.update_layout(\n",
    "    title=f'{tickers[0]} Daily Candles with SMA and Bollinger Bands',\n",
    "    xaxis_title='Date',\n",
    "    yaxis_title='Price (USD)'\n",
    ")\n",
    "\n",
    "# Show the plot\n",
    "fig.show()\n"
   ]
  },
  {
   "cell_type": "code",
   "execution_count": null,
   "id": "0d7fc276-c13e-4d74-a651-7379d6dcc0f4",
   "metadata": {},
   "outputs": [],
   "source": []
  }
 ],
 "metadata": {
  "kernelspec": {
   "display_name": "Python 3 (ipykernel)",
   "language": "python",
   "name": "python3"
  },
  "language_info": {
   "codemirror_mode": {
    "name": "ipython",
    "version": 3
   },
   "file_extension": ".py",
   "mimetype": "text/x-python",
   "name": "python",
   "nbconvert_exporter": "python",
   "pygments_lexer": "ipython3",
   "version": "3.12.3"
  }
 },
 "nbformat": 4,
 "nbformat_minor": 5
}
